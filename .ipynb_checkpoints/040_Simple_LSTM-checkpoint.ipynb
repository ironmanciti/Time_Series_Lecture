{
 "cells": [
  {
   "cell_type": "markdown",
   "metadata": {
    "colab_type": "text",
    "id": "JUOrHll26NTA"
   },
   "source": [
    "# Simple LSTM\n",
    "\n",
    "## 1) data 는 0 ~ 99 까지의 연속된 숫자이고, target 은 (1 ~ 101) * 2 으로 구성한다. 입력  data 에 대응하는 출력 data 를 예측하는 model 을 LSTM 으로 작성\n",
    "\n",
    "## 연속된 5 개의 숫자를 보고 다음 숫자를 알아맞추도록 LSTM 을 이용한 model 작성"
   ]
  },
  {
   "cell_type": "code",
   "execution_count": 1,
   "metadata": {
    "colab": {},
    "colab_type": "code",
    "id": "B2tfWCFW6NTB"
   },
   "outputs": [],
   "source": [
    "import numpy as np\n",
    "import tensorflow as tf\n",
    "from tensorflow.keras.models import Sequential\n",
    "from tensorflow.keras.layers import Dense, LSTM"
   ]
  },
  {
   "cell_type": "markdown",
   "metadata": {
    "colab_type": "text",
    "id": "Ds5U508g6NTX"
   },
   "source": [
    "### Training Data 작성 요령"
   ]
  },
  {
   "cell_type": "code",
   "execution_count": 3,
   "metadata": {},
   "outputs": [
    {
     "data": {
      "text/plain": [
       "[[0], [1], [2], [3], [4]]"
      ]
     },
     "execution_count": 3,
     "metadata": {},
     "output_type": "execute_result"
    }
   ],
   "source": [
    "numbers = [[i] for i in range(105)]\n",
    "numbers[:5]"
   ]
  },
  {
   "cell_type": "code",
   "execution_count": 4,
   "metadata": {
    "colab": {
     "base_uri": "https://localhost:8080/",
     "height": 51
    },
    "colab_type": "code",
    "id": "QQBkhDS06NTa",
    "outputId": "7578035c-2919-4bbc-ff6d-77606654ef34"
   },
   "outputs": [
    {
     "name": "stdout",
     "output_type": "stream",
     "text": [
      "[[5], [6], [7], [8], [9]]\n",
      "20\n"
     ]
    }
   ],
   "source": [
    "data = []\n",
    "target = []\n",
    "for i in range(5, len(numbers)):\n",
    "    data.append(numbers[i-5: i])\n",
    "    target.append(numbers[i][0] * 2)\n",
    "\n",
    "print(data[5])\n",
    "print(target[5])"
   ]
  },
  {
   "cell_type": "code",
   "execution_count": 5,
   "metadata": {
    "colab": {},
    "colab_type": "code",
    "id": "o2dyJOke6NTc"
   },
   "outputs": [],
   "source": [
    "# List --> numpy ndarray 변환\n",
    "data = np.array(data, dtype=\"float32\")\n",
    "target = np.array(target, dtype=\"float32\")\n",
    "\n",
    "# Normalize\n",
    "data = data / 100.\n",
    "target = target / 100."
   ]
  },
  {
   "cell_type": "code",
   "execution_count": 6,
   "metadata": {
    "colab": {
     "base_uri": "https://localhost:8080/",
     "height": 34
    },
    "colab_type": "code",
    "id": "1i2Bc7536NTf",
    "outputId": "552da4b3-cb95-4c05-a4d8-01ccab66fb0f"
   },
   "outputs": [
    {
     "data": {
      "text/plain": [
       "((100, 5, 1), (100,))"
      ]
     },
     "execution_count": 6,
     "metadata": {},
     "output_type": "execute_result"
    }
   ],
   "source": [
    "data.shape, target.shape"
   ]
  },
  {
   "cell_type": "code",
   "execution_count": 7,
   "metadata": {
    "colab": {},
    "colab_type": "code",
    "id": "giYUFuAD6NTm"
   },
   "outputs": [],
   "source": [
    "model = Sequential()\n",
    "model.add(LSTM(16, input_shape=(5, 1)))\n",
    "model.add(Dense(1))"
   ]
  },
  {
   "cell_type": "code",
   "execution_count": 8,
   "metadata": {
    "colab": {},
    "colab_type": "code",
    "id": "bsOdewSi6NTn"
   },
   "outputs": [],
   "source": [
    "model.compile(optimizer='adam', loss='mae', metrics=['mae'])"
   ]
  },
  {
   "cell_type": "code",
   "execution_count": 9,
   "metadata": {
    "colab": {
     "base_uri": "https://localhost:8080/",
     "height": 221
    },
    "colab_type": "code",
    "id": "lKRW4fa36NTp",
    "outputId": "8190b7bc-4047-4b1c-98c1-da0141bd8773"
   },
   "outputs": [
    {
     "name": "stdout",
     "output_type": "stream",
     "text": [
      "Model: \"sequential\"\n",
      "_________________________________________________________________\n",
      " Layer (type)                Output Shape              Param #   \n",
      "=================================================================\n",
      " lstm (LSTM)                 (None, 16)                1152      \n",
      "                                                                 \n",
      " dense (Dense)               (None, 1)                 17        \n",
      "                                                                 \n",
      "=================================================================\n",
      "Total params: 1,169\n",
      "Trainable params: 1,169\n",
      "Non-trainable params: 0\n",
      "_________________________________________________________________\n"
     ]
    }
   ],
   "source": [
    "model.summary()"
   ]
  },
  {
   "cell_type": "code",
   "execution_count": null,
   "metadata": {
    "colab": {
     "base_uri": "https://localhost:8080/",
     "height": 1000
    },
    "colab_type": "code",
    "id": "YYB0E2Vs6NTr",
    "outputId": "6ce893c1-ed92-4eac-f2e3-fd66f588cbe5",
    "scrolled": false
   },
   "outputs": [],
   "source": [
    "history = model.fit(data, target, epochs=500, validation_split=0.2)"
   ]
  },
  {
   "cell_type": "code",
   "execution_count": 11,
   "metadata": {
    "colab": {
     "base_uri": "https://localhost:8080/",
     "height": 34
    },
    "colab_type": "code",
    "id": "RUmHGYCW6NTy",
    "outputId": "5189462a-77e6-4db7-e3d7-231636b9a774"
   },
   "outputs": [
    {
     "data": {
      "text/plain": [
       "array([[79.5014]], dtype=float32)"
      ]
     },
     "execution_count": 11,
     "metadata": {},
     "output_type": "execute_result"
    }
   ],
   "source": [
    "test_data = [[35], [36], [37], [38], [39]]\n",
    "\n",
    "x = np.array(test_data, dtype=\"float32\") / 100.\n",
    "\n",
    "model.predict(x.reshape(1, 5, 1)) * 100"
   ]
  },
  {
   "cell_type": "code",
   "execution_count": null,
   "metadata": {},
   "outputs": [],
   "source": []
  }
 ],
 "metadata": {
  "accelerator": "GPU",
  "colab": {
   "name": "99-1. Simple LSTM.ipynb",
   "provenance": []
  },
  "kernelspec": {
   "display_name": "Python 3 (ipykernel)",
   "language": "python",
   "name": "python3"
  },
  "language_info": {
   "codemirror_mode": {
    "name": "ipython",
    "version": 3
   },
   "file_extension": ".py",
   "mimetype": "text/x-python",
   "name": "python",
   "nbconvert_exporter": "python",
   "pygments_lexer": "ipython3",
   "version": "3.9.5"
  }
 },
 "nbformat": 4,
 "nbformat_minor": 1
}
