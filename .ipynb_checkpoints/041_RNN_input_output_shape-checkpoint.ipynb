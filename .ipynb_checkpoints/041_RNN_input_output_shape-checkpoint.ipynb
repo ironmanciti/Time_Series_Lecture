{
 "cells": [
  {
   "cell_type": "markdown",
   "metadata": {
    "id": "UFm4zEmdF3HZ"
   },
   "source": [
    "# SimpleRNN / LSTM input/output shape\n",
    "\n",
    "- return_sequences = False, True 일 때의 output 비교\n",
    "\n",
    "- Bidirectional LSTM 의 output 비교"
   ]
  },
  {
   "cell_type": "code",
   "execution_count": 12,
   "metadata": {
    "colab": {
     "base_uri": "https://localhost:8080/"
    },
    "id": "Z5bhMKuKF3Hd",
    "outputId": "9baac3ca-e844-40c7-f154-1b8985685cc4"
   },
   "outputs": [
    {
     "name": "stdout",
     "output_type": "stream",
     "text": [
      "(4, 30, 1)\n"
     ]
    }
   ],
   "source": [
    "from tensorflow.keras.models import Model, Sequential\n",
    "from tensorflow.keras.layers import Input, SimpleRNN, LSTM, Lambda, Dense, Bidirectional\n",
    "import tensorflow as tf\n",
    "import numpy as np\n",
    "import warnings\n",
    "warnings.filterwarnings('ignore')\n",
    "\n",
    "B = 4   # batch size\n",
    "T = 30   #Time Steps\n",
    "D = 1   #features\n",
    "U = 3   #LSTM units\n",
    "\n",
    "X = np.random.randn(B, T, D)\n",
    "print(X.shape)"
   ]
  },
  {
   "cell_type": "markdown",
   "metadata": {},
   "source": [
    "## SimpleRNN\n",
    "\n",
    "## return_sequences\n",
    "\n",
    "- False (default) - last time step 의 output 만 반환\n",
    "- True - 모든 timestep 의 output 을 모두 반환  \n",
    "\n",
    "<img src=\"rnn_output2.png\" width=400 />\n",
    "<img src=\"rnn_output1.png\" width=500 />"
   ]
  },
  {
   "cell_type": "markdown",
   "metadata": {},
   "source": [
    "simple_RNN 함수는 Keras를 사용하여 RNN 모델을 만들고 예측을 수행합니다. return_sequences가 False로 설정된 경우 (기본값), RNN은 시퀀스의 마지막 시간 단계에서만 출력을 반환하며, True로 설정된 경우 모든 시간 단계에 대한 출력을 반환합니다.  \n",
    "\n",
    "함수는 T 시간 단계와 D 입력 차원을 가진 입력을 기대합니다.  \n",
    "SimpleRNN 계층은 U개의 숨겨진 유닛을 사용하며, return_sequences 인수를 통해 출력 형태를 결정합니다.  \n",
    "Model 객체는 입력과 출력을 정의하여 모델을 생성합니다.  \n",
    "model.predict(X)를 사용하여 입력 데이터 X에 대한 모델의 예측을 반환합니다."
   ]
  },
  {
   "cell_type": "code",
   "execution_count": 2,
   "metadata": {
    "scrolled": true
   },
   "outputs": [
    {
     "name": "stdout",
     "output_type": "stream",
     "text": [
      "---- return_sequences=False ----> last timestep 의 output 만 반환\n",
      "1/1 [==============================] - 0s 199ms/step\n",
      "(4, 3)\n",
      "\n",
      "---- return_sequences=True ----> 모든 timestep 별 output 출력\n",
      "1/1 [==============================] - 0s 85ms/step\n",
      "(4, 30, 3)\n"
     ]
    }
   ],
   "source": [
    "def simple_RNN(return_sequences=False):\n",
    "    inp = Input(shape=(T, D)) \n",
    "    out = SimpleRNN(U, return_sequences=return_sequences)(inp)\n",
    "    \n",
    "    model = Model(inputs=inp, outputs=out)\n",
    "    return model.predict(X)\n",
    "\n",
    "print(\"---- return_sequences=False ----> last timestep 의 output 만 반환\")\n",
    "lstm_out = simple_RNN(return_sequences=False)\n",
    "print(lstm_out.shape)\n",
    "# print(lstm_out)\n",
    "\n",
    "print(\"\\n---- return_sequences=True ----> 모든 timestep 별 output 출력\")\n",
    "lstm_out = simple_RNN(return_sequences=True)\n",
    "print(lstm_out.shape)\n",
    "# print(lstm_out)"
   ]
  },
  {
   "cell_type": "markdown",
   "metadata": {
    "id": "93BtygLbF3Hg"
   },
   "source": [
    "## LSTM\n",
    "\n",
    "## return_sequences\n",
    "\n",
    "- False (default) - last time step 의 output 만 반환\n",
    "- True - 모든 timestep 의 output 을 모두 반환\n",
    "\n",
    "lstm 함수는 Keras를 사용하여 LSTM 모델을 만들고 예측을 수행합니다. return_sequences가 False로 설정된 경우 (기본값), LSTM은 시퀀스의 마지막 시간 단계에서만 출력을 반환하며, True로 설정된 경우 모든 시간 단계에 대한 출력을 반환합니다.\n",
    "\n",
    "함수는 T 시간 단계와 D 입력 차원을 가진 입력을 기대합니다.  \n",
    "LSTM 계층은 U개의 숨겨진 유닛을 사용하며, return_sequences 인수를 통해 출력 형태를 결정합니다.  "
   ]
  },
  {
   "cell_type": "code",
   "execution_count": 3,
   "metadata": {
    "colab": {
     "base_uri": "https://localhost:8080/"
    },
    "id": "BUOMaX3mF3Hg",
    "outputId": "fcb2cb63-9d0d-45d2-990c-e372b4f0cb3a"
   },
   "outputs": [
    {
     "name": "stdout",
     "output_type": "stream",
     "text": [
      "---- return_sequences=False ----> last timestep 의 output 만 반환\n",
      "1/1 [==============================] - 0s 257ms/step\n",
      "(4, 3)\n",
      "\n",
      "---- return_sequences=True ----> 모든 timestep 별 output 출력\n",
      "1/1 [==============================] - 0s 219ms/step\n",
      "(4, 30, 3)\n"
     ]
    }
   ],
   "source": [
    "def lstm(return_sequences=False):\n",
    "    inp = Input(shape=(T, D)) \n",
    "    out = LSTM(U, return_sequences=return_sequences)(inp)\n",
    "    \n",
    "    model = Model(inputs=inp, outputs=out)\n",
    "    return model.predict(X)\n",
    "\n",
    "print(\"---- return_sequences=False ----> last timestep 의 output 만 반환\")\n",
    "lstm_out = lstm(return_sequences=False)\n",
    "print(lstm_out.shape)\n",
    "# print(lstm_out)\n",
    "\n",
    "print(\"\\n---- return_sequences=True ----> 모든 timestep 별 output 출력\")\n",
    "lstm_out = lstm(return_sequences=True)\n",
    "print(lstm_out.shape)\n",
    "# print(lstm_out)"
   ]
  },
  {
   "cell_type": "markdown",
   "metadata": {},
   "source": [
    "## Bidirectional LSTM\r\n",
    "\r\n",
    "- 순방향, 역방향이 concatenate 된 output 출력  \r\n",
    "\r\n",
    "- hidden state, cell state 는 순방향, 역방향 별도 출력\r\n",
    "\r\n",
    "bi_lstm 함수는 Keras를 사용하여 양방향 LSTM 모델을 만들고 예측을 수행합니다. return_sequences가 False로 설정된 경우 (기본값), 양방향 LSTM은 시퀀스의 마지막 시간 단계에서만 출력을 반환하며, True로 설정된 경우 모든 시간 단계에 대한 출력을 반환합니다.\r\n",
    "\r\n",
    "함수는 T 시간 단계와 D 입력 차원을 가진 입력을 기대합니다.  \r\n",
    "Bidirectional 래퍼를 사용하여 양방향 LSTM을 생성하며, U개의 숨겨진 유닛을 사용하고 return_sequences 인수를 통해 출력 형태를 결정합니다.  \r\n",
    "Model 객체는 입력과 출력을 정의하여 모델을 생성합니다.  \r\n",
    "model.predict(X)를 사용하여 입력 데이터 X에 대한 모델의 예측을 반환합니다.  "
   ]
  },
  {
   "cell_type": "code",
   "execution_count": 10,
   "metadata": {},
   "outputs": [
    {
     "data": {
      "text/plain": [
       "(30, 1, 3)"
      ]
     },
     "execution_count": 10,
     "metadata": {},
     "output_type": "execute_result"
    }
   ],
   "source": [
    "T, D, U"
   ]
  },
  {
   "cell_type": "code",
   "execution_count": 14,
   "metadata": {},
   "outputs": [
    {
     "name": "stdout",
     "output_type": "stream",
     "text": [
      "*** 순방향, 역방향이 concatenate ***\n",
      "---- return_sequences=False ----> last timestep 의 output 만 반환\n",
      "1/1 [==============================] - 1s 1s/step\n",
      "(4, 6)\n",
      "\n",
      "---- return_sequences=True ----> 모든 timestep 별 output 출력\n",
      "1/1 [==============================] - 1s 1s/step\n",
      "(4, 30, 6)\n"
     ]
    }
   ],
   "source": [
    "def bi_lstm(return_sequences=False):\n",
    "    inp = Input(shape=(T, D))\n",
    "    out = Bidirectional(\n",
    "            LSTM(U, return_sequences=return_sequences))(inp)\n",
    "    \n",
    "    model = Model(inputs=inp, outputs=out)\n",
    "    return model.predict(X)\n",
    "\n",
    "print(\"*** 순방향, 역방향이 concatenate ***\")\n",
    "print(\"---- return_sequences=False ----> last timestep 의 output 만 반환\")\n",
    "lstm_out = bi_lstm(return_sequences=False)\n",
    "print(lstm_out.shape)\n",
    "# print(lstm_out)\n",
    "print()\n",
    "print(\"---- return_sequences=True ----> 모든 timestep 별 output 출력\")\n",
    "lstm_out = bi_lstm(return_sequences=True)\n",
    "print(lstm_out.shape)\n",
    "# print(lstm_out)"
   ]
  },
  {
   "cell_type": "markdown",
   "metadata": {
    "id": "4RUEZBhKIlP2"
   },
   "source": [
    "## Lambda Layer\n",
    "\n",
    "kares의 기능을 효과적으로 확장하기 위해 임의의 작업을 수행할 수 있게 해주는 레이어이며 모델 정의 자체 내에서 수행됩니다.\n",
    "\n",
    "이 코드는 Sequential 모델을 생성하며, 이 모델에는 다음과 같은 레이어들이 포함되어 있습니다.\n",
    "\n",
    "첫 번째 Lambda 레이어: 이 레이어의 목적은 입력 데이터의 모양을 변경하여 LSTM 레이어에 적합한 형태로 만드는 것입니다. 여기서 입력 데이터는 2D 텐서로 가정되며 (배치 크기, 시간 단계) 형태를 가집니다. LSTM 레이어는 3D 텐서 (배치 크기, 시간 단계, 특성 수)를 입력으로 사용하므로, 이 Lambda 레이어는 2D 입력 텐서에 차원을 추가하여 3D 텐서로 변경합니다. tf.expand_dims(x, axis=-1) 함수를 사용하여 마지막 축(axis=-1)에 차원을 추가합니다.\n",
    "\n",
    "LSTM 레이어: 이 레이어는 20개의 숨겨진 유닛이 있는 LSTM 레이어입니다. return_sequences=True 설정을 통해 모든 시간 단계에 대한 출력을 반환합니다. 이 출력은 다음 LSTM 레이어의 입력으로 사용됩니다.\n",
    "\n",
    "두 번째 LSTM 레이어: 이 레이어는 또한 20개의 숨겨진 유닛이 있는 LSTM 레이어입니다. 기본 설정에 따라 마지막 시간 단계의 출력만 반환합니다.\n",
    "\n",
    "Dense 레이어: 이 레이어는 완전 연결 레이어로, 출력 뉴런이 1개인 단일 뉴런 레이어입니다. LSTM 레이어의 출력을 사용하여 최종 예측 값을 생성합니다.\n",
    "\n",
    "두 번째 Lambda 레이어: 이 레이어의 목적은 모델의 출력 값을 스케일링하는 것입니다. Lambda 레이어는 출력 값을 100.0으로 곱하여 스케일 업합니다. 이렇게 하면 출력 범위가 증가하고, 이를 통해 문제에 더 적합한 출력 값을 생성할 수 있습니다."
   ]
  },
  {
   "cell_type": "code",
   "execution_count": 4,
   "metadata": {},
   "outputs": [],
   "source": [
    "model = Sequential([\n",
    "    #2D input을 3D로 변경 \n",
    "    Lambda(lambda x: tf.expand_dims(x, axis=-1), input_shape=[None]),\n",
    "    LSTM(20, return_sequences=True),\n",
    "    LSTM(20),\n",
    "    Dense(1),\n",
    "    Lambda(lambda x: x * 100.0)  #output을 scale-up\n",
    "])"
   ]
  },
  {
   "cell_type": "markdown",
   "metadata": {},
   "source": [
    "아래 코드에서 B는 배치 크기를 나타내고, T는 시간 단계를 나타냅니다. 이 코드는 크기가 (배치 크기, 시간 단계)인 2D 배열 X를 생성합니다. 각 원소는 평균이 0이고 표준 편차가 100인 정규 분포에서 무작위로 선택됩니다."
   ]
  },
  {
   "cell_type": "code",
   "execution_count": 5,
   "metadata": {},
   "outputs": [
    {
     "name": "stdout",
     "output_type": "stream",
     "text": [
      "(4, 30)\n"
     ]
    }
   ],
   "source": [
    "X = np.random.randn(B, T) * 100\n",
    "print(X.shape)\n",
    "# print(X)"
   ]
  },
  {
   "cell_type": "markdown",
   "metadata": {},
   "source": [
    "입력 배열 X에 새로운 축을 추가합니다. -1은 배열의 마지막 차원 바로 다음에 새로운 차원을 추가하라는 의미입니다."
   ]
  },
  {
   "cell_type": "code",
   "execution_count": 6,
   "metadata": {},
   "outputs": [
    {
     "data": {
      "text/plain": [
       "(4, 30, 1)"
      ]
     },
     "execution_count": 6,
     "metadata": {},
     "output_type": "execute_result"
    }
   ],
   "source": [
    "np.expand_dims(X, axis=-1).shape"
   ]
  },
  {
   "cell_type": "code",
   "execution_count": 8,
   "metadata": {},
   "outputs": [
    {
     "data": {
      "text/plain": [
       "array([[[  58.92124873],\n",
       "        [ 103.76021827],\n",
       "        [  -4.12521749],\n",
       "        [  17.83476792],\n",
       "        [ -25.89955022],\n",
       "        [  27.32176615],\n",
       "        [  81.17700013],\n",
       "        [ 184.52479876],\n",
       "        [  48.6454645 ],\n",
       "        [  34.03467395],\n",
       "        [   1.65599667],\n",
       "        [   6.35512741],\n",
       "        [  19.25026137],\n",
       "        [ -25.89570625],\n",
       "        [  42.4093972 ],\n",
       "        [ 102.07509402],\n",
       "        [ -43.9052379 ],\n",
       "        [-101.20005437],\n",
       "        [  33.47665477],\n",
       "        [ 141.40789118],\n",
       "        [ -48.45021086],\n",
       "        [ -61.16701509],\n",
       "        [ -91.70132721],\n",
       "        [  46.79349605],\n",
       "        [  85.12441343],\n",
       "        [ -60.92313389],\n",
       "        [-126.31697364],\n",
       "        [  58.06068721],\n",
       "        [ -27.17544142],\n",
       "        [  51.03726251]],\n",
       "\n",
       "       [[ 146.85862323],\n",
       "        [-239.51737927],\n",
       "        [ -60.64491805],\n",
       "        [  22.04510248],\n",
       "        [  88.01907612],\n",
       "        [ -55.60063187],\n",
       "        [ -78.45264604],\n",
       "        [ 166.67786526],\n",
       "        [  -7.01081233],\n",
       "        [ 142.05259357],\n",
       "        [-135.31031595],\n",
       "        [  26.32529711],\n",
       "        [ -25.89253923],\n",
       "        [  15.25686622],\n",
       "        [  91.87343872],\n",
       "        [-123.49100216],\n",
       "        [ -13.29647087],\n",
       "        [ -40.80901322],\n",
       "        [ -15.21560176],\n",
       "        [-204.84933214],\n",
       "        [  63.51570744],\n",
       "        [ -62.51839731],\n",
       "        [ 169.27649737],\n",
       "        [  24.491161  ],\n",
       "        [   8.36765264],\n",
       "        [ -44.24712484],\n",
       "        [  -8.86673584],\n",
       "        [  15.99404886],\n",
       "        [ -76.73116229],\n",
       "        [-123.85799408]],\n",
       "\n",
       "       [[ -10.32818915],\n",
       "        [  75.23802352],\n",
       "        [  66.39268376],\n",
       "        [ 112.00872104],\n",
       "        [ -33.36221844],\n",
       "        [ -11.26939178],\n",
       "        [ -75.43205935],\n",
       "        [ -24.06522652],\n",
       "        [  31.03587038],\n",
       "        [ -53.85736678],\n",
       "        [  56.11646514],\n",
       "        [  99.64649588],\n",
       "        [ -43.26989694],\n",
       "        [ -13.84729216],\n",
       "        [ -56.99197625],\n",
       "        [ -28.24045522],\n",
       "        [-103.75503471],\n",
       "        [-130.94007079],\n",
       "        [  -4.12334538],\n",
       "        [ -38.01901847],\n",
       "        [  97.39531583],\n",
       "        [  91.91782317],\n",
       "        [-192.62067178],\n",
       "        [ -39.55536632],\n",
       "        [  43.55091045],\n",
       "        [ -66.30363715],\n",
       "        [ -92.56357038],\n",
       "        [  -1.99784813],\n",
       "        [-124.77432005],\n",
       "        [ -40.54573221]],\n",
       "\n",
       "       [[ -59.0009013 ],\n",
       "        [ -72.59100614],\n",
       "        [ -42.41241491],\n",
       "        [  20.02961122],\n",
       "        [-102.7374897 ],\n",
       "        [  66.97172913],\n",
       "        [ 129.95289358],\n",
       "        [ 164.95029447],\n",
       "        [-160.97891954],\n",
       "        [ -35.28515091],\n",
       "        [-186.20252397],\n",
       "        [  10.63145634],\n",
       "        [ -61.967128  ],\n",
       "        [  56.03070015],\n",
       "        [ -42.34941872],\n",
       "        [  41.0478282 ],\n",
       "        [  88.01460169],\n",
       "        [ -84.05199049],\n",
       "        [-209.73281602],\n",
       "        [  95.54841048],\n",
       "        [ -99.36569557],\n",
       "        [  46.83022319],\n",
       "        [-125.54560978],\n",
       "        [  16.28578041],\n",
       "        [  -1.92870996],\n",
       "        [  77.32665524],\n",
       "        [ 100.44347244],\n",
       "        [-113.77163783],\n",
       "        [  38.17060465],\n",
       "        [  37.47959418]]])"
      ]
     },
     "execution_count": 8,
     "metadata": {},
     "output_type": "execute_result"
    }
   ],
   "source": [
    "np.expand_dims(X, axis=-1)"
   ]
  },
  {
   "cell_type": "code",
   "execution_count": 9,
   "metadata": {},
   "outputs": [
    {
     "name": "stdout",
     "output_type": "stream",
     "text": [
      "1/1 [==============================] - 0s 16ms/step\n"
     ]
    },
    {
     "data": {
      "text/plain": [
       "array([[11.575199],\n",
       "       [17.75951 ],\n",
       "       [21.381098],\n",
       "       [11.449478]], dtype=float32)"
      ]
     },
     "execution_count": 9,
     "metadata": {},
     "output_type": "execute_result"
    }
   ],
   "source": [
    "model.predict(X)"
   ]
  },
  {
   "cell_type": "code",
   "execution_count": null,
   "metadata": {},
   "outputs": [],
   "source": []
  }
 ],
 "metadata": {
  "colab": {
   "name": "020_LSTM+GRU+input+output+shape+return_sequences.ipynb",
   "provenance": []
  },
  "kernelspec": {
   "display_name": "Python 3 (ipykernel)",
   "language": "python",
   "name": "python3"
  },
  "language_info": {
   "codemirror_mode": {
    "name": "ipython",
    "version": 3
   },
   "file_extension": ".py",
   "mimetype": "text/x-python",
   "name": "python",
   "nbconvert_exporter": "python",
   "pygments_lexer": "ipython3",
   "version": "3.9.16"
  }
 },
 "nbformat": 4,
 "nbformat_minor": 4
}
