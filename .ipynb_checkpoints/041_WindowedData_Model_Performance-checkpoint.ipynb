{
 "cells": [
  {
   "cell_type": "markdown",
   "metadata": {
    "id": "UQW0noetxPlq"
   },
   "source": [
    "# Time Series window data 생성 및 모델별 성능 비교\n",
    "\n",
    "1. Persistence algorithm 을 이용한 forecasting \n",
    "2. simple 1 layer NN 을 이용한 forecasting  \n",
    "3. Deep NN을  이용한 forecasting  \n",
    "4. LSTM 을  이용한 forecasting"
   ]
  },
  {
   "cell_type": "markdown",
   "metadata": {
    "id": "AAiYtx2xxPlt"
   },
   "source": [
    "## Sunspots 데이터셋을 활용하여 window_dataset 만들기"
   ]
  },
  {
   "cell_type": "code",
   "execution_count": 4,
   "metadata": {
    "colab": {
     "base_uri": "https://localhost:8080/",
     "height": 206
    },
    "id": "fu_77IlnxPlu",
    "outputId": "f2e502b2-5de0-471d-a633-d184ea701db7"
   },
   "outputs": [
    {
     "data": {
      "text/html": [
       "<div>\n",
       "<style scoped>\n",
       "    .dataframe tbody tr th:only-of-type {\n",
       "        vertical-align: middle;\n",
       "    }\n",
       "\n",
       "    .dataframe tbody tr th {\n",
       "        vertical-align: top;\n",
       "    }\n",
       "\n",
       "    .dataframe thead th {\n",
       "        text-align: right;\n",
       "    }\n",
       "</style>\n",
       "<table border=\"1\" class=\"dataframe\">\n",
       "  <thead>\n",
       "    <tr style=\"text-align: right;\">\n",
       "      <th></th>\n",
       "      <th>Date</th>\n",
       "      <th>Monthly Mean Total Sunspot Number</th>\n",
       "    </tr>\n",
       "  </thead>\n",
       "  <tbody>\n",
       "    <tr>\n",
       "      <th>0</th>\n",
       "      <td>1749-01-31</td>\n",
       "      <td>96.7</td>\n",
       "    </tr>\n",
       "    <tr>\n",
       "      <th>1</th>\n",
       "      <td>1749-02-28</td>\n",
       "      <td>104.3</td>\n",
       "    </tr>\n",
       "    <tr>\n",
       "      <th>2</th>\n",
       "      <td>1749-03-31</td>\n",
       "      <td>116.7</td>\n",
       "    </tr>\n",
       "    <tr>\n",
       "      <th>3</th>\n",
       "      <td>1749-04-30</td>\n",
       "      <td>92.8</td>\n",
       "    </tr>\n",
       "    <tr>\n",
       "      <th>4</th>\n",
       "      <td>1749-05-31</td>\n",
       "      <td>141.7</td>\n",
       "    </tr>\n",
       "  </tbody>\n",
       "</table>\n",
       "</div>"
      ],
      "text/plain": [
       "         Date  Monthly Mean Total Sunspot Number\n",
       "0  1749-01-31                               96.7\n",
       "1  1749-02-28                              104.3\n",
       "2  1749-03-31                              116.7\n",
       "3  1749-04-30                               92.8\n",
       "4  1749-05-31                              141.7"
      ]
     },
     "execution_count": 4,
     "metadata": {},
     "output_type": "execute_result"
    }
   ],
   "source": [
    "import tensorflow as tf\n",
    "import numpy as np\n",
    "import matplotlib.pyplot as plt\n",
    "from sklearn.metrics import mean_squared_error, mean_absolute_error\n",
    "import pandas as pd\n",
    "\n",
    "url = 'https://storage.googleapis.com/download.tensorflow.org/data/Sunspots.csv'\n",
    "df = pd.read_csv(url, skiprows=0, index_col=0) # 첫 줄은 header이므로 skip \n",
    "df.head()"
   ]
  },
  {
   "cell_type": "code",
   "execution_count": 5,
   "metadata": {
    "colab": {
     "base_uri": "https://localhost:8080/",
     "height": 206
    },
    "id": "MLlL-uZu_U9w",
    "outputId": "deb0c4da-fe49-4903-949b-ae6cc5572052"
   },
   "outputs": [
    {
     "data": {
      "text/html": [
       "<div>\n",
       "<style scoped>\n",
       "    .dataframe tbody tr th:only-of-type {\n",
       "        vertical-align: middle;\n",
       "    }\n",
       "\n",
       "    .dataframe tbody tr th {\n",
       "        vertical-align: top;\n",
       "    }\n",
       "\n",
       "    .dataframe thead th {\n",
       "        text-align: right;\n",
       "    }\n",
       "</style>\n",
       "<table border=\"1\" class=\"dataframe\">\n",
       "  <thead>\n",
       "    <tr style=\"text-align: right;\">\n",
       "      <th></th>\n",
       "      <th>Date</th>\n",
       "      <th>Monthly Mean Total Sunspot Number</th>\n",
       "    </tr>\n",
       "  </thead>\n",
       "  <tbody>\n",
       "    <tr>\n",
       "      <th>3230</th>\n",
       "      <td>2018-03-31</td>\n",
       "      <td>2.5</td>\n",
       "    </tr>\n",
       "    <tr>\n",
       "      <th>3231</th>\n",
       "      <td>2018-04-30</td>\n",
       "      <td>8.9</td>\n",
       "    </tr>\n",
       "    <tr>\n",
       "      <th>3232</th>\n",
       "      <td>2018-05-31</td>\n",
       "      <td>13.2</td>\n",
       "    </tr>\n",
       "    <tr>\n",
       "      <th>3233</th>\n",
       "      <td>2018-06-30</td>\n",
       "      <td>15.9</td>\n",
       "    </tr>\n",
       "    <tr>\n",
       "      <th>3234</th>\n",
       "      <td>2018-07-31</td>\n",
       "      <td>1.6</td>\n",
       "    </tr>\n",
       "  </tbody>\n",
       "</table>\n",
       "</div>"
      ],
      "text/plain": [
       "            Date  Monthly Mean Total Sunspot Number\n",
       "3230  2018-03-31                                2.5\n",
       "3231  2018-04-30                                8.9\n",
       "3232  2018-05-31                               13.2\n",
       "3233  2018-06-30                               15.9\n",
       "3234  2018-07-31                                1.6"
      ]
     },
     "execution_count": 5,
     "metadata": {},
     "output_type": "execute_result"
    }
   ],
   "source": [
    "df.tail()"
   ]
  },
  {
   "cell_type": "code",
   "execution_count": 6,
   "metadata": {
    "colab": {
     "base_uri": "https://localhost:8080/"
    },
    "id": "aaOaquF7_alz",
    "outputId": "f6a3554c-020d-4a60-b1f6-dbd914540b0f"
   },
   "outputs": [
    {
     "name": "stdout",
     "output_type": "stream",
     "text": [
      "<class 'pandas.core.frame.DataFrame'>\n",
      "Int64Index: 3235 entries, 0 to 3234\n",
      "Data columns (total 2 columns):\n",
      " #   Column                             Non-Null Count  Dtype  \n",
      "---  ------                             --------------  -----  \n",
      " 0   Date                               3235 non-null   object \n",
      " 1   Monthly Mean Total Sunspot Number  3235 non-null   float64\n",
      "dtypes: float64(1), object(1)\n",
      "memory usage: 75.8+ KB\n"
     ]
    }
   ],
   "source": [
    "df.info()"
   ]
  },
  {
   "cell_type": "markdown",
   "metadata": {
    "id": "Xzgj5nhFFPUS"
   },
   "source": [
    "- 시간 절약을 위해 최근 500 개월치 data 만 이용"
   ]
  },
  {
   "cell_type": "code",
   "execution_count": 7,
   "metadata": {
    "colab": {
     "base_uri": "https://localhost:8080/"
    },
    "id": "pOHj-Sj6Bxq0",
    "outputId": "05f72f37-94e9-4d01-f90e-c9f3d982930e"
   },
   "outputs": [
    {
     "data": {
      "text/plain": [
       "((500,), (500,))"
      ]
     },
     "execution_count": 7,
     "metadata": {},
     "output_type": "execute_result"
    }
   ],
   "source": [
    "time = df.iloc[-500:, 0].values\n",
    "time_series = df.iloc[-500:, 1].values\n",
    "time.shape, time_series.shape"
   ]
  },
  {
   "cell_type": "markdown",
   "metadata": {
    "id": "szHb65PCxPlw"
   },
   "source": [
    "## Supervised Learning dataset 작성"
   ]
  },
  {
   "cell_type": "code",
   "execution_count": 8,
   "metadata": {
    "id": "wpH3xVcJxPlw"
   },
   "outputs": [],
   "source": [
    "def windowed_dataset(series, window_size, batch_size, shuffle_buffer):\n",
    "    ds = tf.data.Dataset.from_tensor_slices(series)\n",
    "    ds = ds.window(window_size+1, shift=1, drop_remainder=True)\n",
    "    ds = ds.flat_map(lambda w: w.batch(window_size+1))\n",
    "    ds = ds.shuffle(shuffle_buffer).map(lambda w: (w[:-1], w[-1]))\n",
    "    ds = ds.batch(batch_size).prefetch(1)\n",
    "    return ds"
   ]
  },
  {
   "cell_type": "markdown",
   "metadata": {
    "id": "snCcd5ZnxPlx"
   },
   "source": [
    "### train/validation set 분리"
   ]
  },
  {
   "cell_type": "code",
   "execution_count": 9,
   "metadata": {
    "colab": {
     "base_uri": "https://localhost:8080/"
    },
    "id": "8HuXVml6xPlx",
    "outputId": "036cce6d-5157-420c-9b5e-f44e33fb943f"
   },
   "outputs": [
    {
     "data": {
      "text/plain": [
       "(450, 50, 450, 50)"
      ]
     },
     "execution_count": 9,
     "metadata": {},
     "output_type": "execute_result"
    }
   ],
   "source": [
    "split_time = 450\n",
    "\n",
    "time_train = time[:split_time]\n",
    "time_test = time[split_time:]\n",
    "\n",
    "X_train = time_series[:split_time]\n",
    "X_test  = time_series[split_time:]\n",
    "\n",
    "len(time_train), len(time_test), len(X_train), len(X_test)"
   ]
  },
  {
   "cell_type": "code",
   "execution_count": 10,
   "metadata": {
    "colab": {
     "base_uri": "https://localhost:8080/"
    },
    "id": "Gep8OGvZxPly",
    "outputId": "f6d44b43-3869-4466-e4fe-5ad314883b6d"
   },
   "outputs": [
    {
     "data": {
      "text/plain": [
       "<PrefetchDataset element_spec=(TensorSpec(shape=(None, None), dtype=tf.float64, name=None), TensorSpec(shape=(None,), dtype=tf.float64, name=None))>"
      ]
     },
     "execution_count": 10,
     "metadata": {},
     "output_type": "execute_result"
    }
   ],
   "source": [
    "window_size = 20\n",
    "batch_size = 16\n",
    "shuffle_buffer_size = 1000\n",
    "\n",
    "train_ds = windowed_dataset(X_train, window_size, batch_size, shuffle_buffer_size)\n",
    "train_ds"
   ]
  },
  {
   "cell_type": "code",
   "execution_count": 11,
   "metadata": {
    "colab": {
     "base_uri": "https://localhost:8080/"
    },
    "id": "R8EwGzPPxPlz",
    "outputId": "9096a831-5268-4ee6-a55d-6ec92a17a5a2"
   },
   "outputs": [
    {
     "name": "stdout",
     "output_type": "stream",
     "text": [
      "x =  (16, 20)\n",
      "y =  (16,)\n"
     ]
    }
   ],
   "source": [
    "for x, y in train_ds:\n",
    "    print('x = ', x.numpy().shape)\n",
    "    print('y = ', y.numpy().shape)\n",
    "    break"
   ]
  },
  {
   "cell_type": "markdown",
   "metadata": {
    "id": "b1inEBhqxPlz"
   },
   "source": [
    "## 1. Persistence algorithm 을 이용한 forecasting \n",
    "\n",
    "- Persistence Algorithm : last value 를 next value 로 예측에 사용"
   ]
  },
  {
   "cell_type": "code",
   "execution_count": 12,
   "metadata": {
    "colab": {
     "base_uri": "https://localhost:8080/"
    },
    "id": "J5qjNZGSxPl0",
    "outputId": "24fd2311-5fcd-4c22-9d67-001911f31027"
   },
   "outputs": [
    {
     "data": {
      "text/plain": [
       "array([112.5, 102.9, 100.2, 106.9, 130. ,  90. , 103.6, 112.9,  93. ,\n",
       "        66.7])"
      ]
     },
     "execution_count": 12,
     "metadata": {},
     "output_type": "execute_result"
    }
   ],
   "source": [
    "naive_forecast = time_series[split_time-1:-1]\n",
    "naive_forecast[:10]"
   ]
  },
  {
   "cell_type": "code",
   "execution_count": 13,
   "metadata": {
    "colab": {
     "base_uri": "https://localhost:8080/"
    },
    "id": "T3WscWHtxPl0",
    "outputId": "0a03262d-af88-4443-d6c6-3d6e8c1d1b2f"
   },
   "outputs": [
    {
     "data": {
      "text/plain": [
       "array([102.9, 100.2, 106.9, 130. ,  90. , 103.6, 112.9,  93. ,  66.7,\n",
       "        54.5])"
      ]
     },
     "execution_count": 13,
     "metadata": {},
     "output_type": "execute_result"
    }
   ],
   "source": [
    "X_test[:10]"
   ]
  },
  {
   "cell_type": "code",
   "execution_count": 14,
   "metadata": {
    "colab": {
     "base_uri": "https://localhost:8080/"
    },
    "id": "0Exuvfs5xPl0",
    "outputId": "d75c9d18-6cb7-43d7-f8a0-20348317807b"
   },
   "outputs": [
    {
     "name": "stdout",
     "output_type": "stream",
     "text": [
      "194.96940000000004\n",
      "10.737999999999998\n"
     ]
    }
   ],
   "source": [
    "print(mean_squared_error(X_test, naive_forecast))\n",
    "print(mean_absolute_error(X_test, naive_forecast))"
   ]
  },
  {
   "cell_type": "markdown",
   "metadata": {
    "id": "bpgtR6o2xPl1"
   },
   "source": [
    "## 2. simple 1 layer NN 을 이용한 forecasting - Linear Regression"
   ]
  },
  {
   "cell_type": "code",
   "execution_count": 15,
   "metadata": {
    "colab": {
     "base_uri": "https://localhost:8080/"
    },
    "id": "uPhhyxbGxPl1",
    "outputId": "d6ed0a94-30cc-43cf-cfde-ccb9ca5b9b83"
   },
   "outputs": [
    {
     "name": "stdout",
     "output_type": "stream",
     "text": [
      "Epoch 1/100\n",
      "27/27 [==============================] - 1s 21ms/step - loss: 32367.8789\n",
      "Epoch 2/100\n",
      "27/27 [==============================] - 0s 575us/step - loss: 17185.1992\n",
      "Epoch 3/100\n",
      "27/27 [==============================] - 0s 537us/step - loss: 9562.5117\n",
      "Epoch 4/100\n",
      "27/27 [==============================] - 0s 535us/step - loss: 6533.7261\n",
      "Epoch 5/100\n",
      "27/27 [==============================] - 0s 536us/step - loss: 5512.8955\n",
      "Epoch 6/100\n",
      "27/27 [==============================] - 0s 573us/step - loss: 5127.9595\n",
      "Epoch 7/100\n",
      "27/27 [==============================] - 0s 499us/step - loss: 4928.0034\n",
      "Epoch 8/100\n",
      "27/27 [==============================] - 0s 575us/step - loss: 4751.2124\n",
      "Epoch 9/100\n",
      "27/27 [==============================] - 0s 536us/step - loss: 4558.7446\n",
      "Epoch 10/100\n",
      "27/27 [==============================] - 0s 537us/step - loss: 4357.7593\n",
      "Epoch 11/100\n",
      "27/27 [==============================] - 0s 499us/step - loss: 4181.7485\n",
      "Epoch 12/100\n",
      "27/27 [==============================] - 0s 537us/step - loss: 4001.0620\n",
      "Epoch 13/100\n",
      "27/27 [==============================] - 0s 537us/step - loss: 3819.3232\n",
      "Epoch 14/100\n",
      "27/27 [==============================] - 0s 578us/step - loss: 3641.0325\n",
      "Epoch 15/100\n",
      "27/27 [==============================] - 0s 537us/step - loss: 3481.9792\n",
      "Epoch 16/100\n",
      "27/27 [==============================] - 0s 574us/step - loss: 3312.3965\n",
      "Epoch 17/100\n",
      "27/27 [==============================] - 0s 575us/step - loss: 3158.9841\n",
      "Epoch 18/100\n",
      "27/27 [==============================] - 0s 537us/step - loss: 3007.1111\n",
      "Epoch 19/100\n",
      "27/27 [==============================] - 0s 537us/step - loss: 2869.2476\n",
      "Epoch 20/100\n",
      "27/27 [==============================] - 0s 537us/step - loss: 2732.9417\n",
      "Epoch 21/100\n",
      "27/27 [==============================] - 0s 537us/step - loss: 2601.8909\n",
      "Epoch 22/100\n",
      "27/27 [==============================] - 0s 537us/step - loss: 2483.4878\n",
      "Epoch 23/100\n",
      "27/27 [==============================] - 0s 499us/step - loss: 2370.7480\n",
      "Epoch 24/100\n",
      "27/27 [==============================] - 0s 537us/step - loss: 2266.8096\n",
      "Epoch 25/100\n",
      "27/27 [==============================] - 0s 537us/step - loss: 2165.3198\n",
      "Epoch 26/100\n",
      "27/27 [==============================] - 0s 499us/step - loss: 2079.4604\n",
      "Epoch 27/100\n",
      "27/27 [==============================] - 0s 537us/step - loss: 1992.8638\n",
      "Epoch 28/100\n",
      "27/27 [==============================] - 0s 504us/step - loss: 1912.7939\n",
      "Epoch 29/100\n",
      "27/27 [==============================] - 0s 537us/step - loss: 1842.0626\n",
      "Epoch 30/100\n",
      "27/27 [==============================] - 0s 537us/step - loss: 1769.8093\n",
      "Epoch 31/100\n",
      "27/27 [==============================] - 0s 537us/step - loss: 1708.8451\n",
      "Epoch 32/100\n",
      "27/27 [==============================] - 0s 584us/step - loss: 1661.6011\n",
      "Epoch 33/100\n",
      "27/27 [==============================] - 0s 537us/step - loss: 1602.1730\n",
      "Epoch 34/100\n",
      "27/27 [==============================] - 0s 499us/step - loss: 1555.3577\n",
      "Epoch 35/100\n",
      "27/27 [==============================] - 0s 537us/step - loss: 1509.7266\n",
      "Epoch 36/100\n",
      "27/27 [==============================] - 0s 537us/step - loss: 1468.8065\n",
      "Epoch 37/100\n",
      "27/27 [==============================] - 0s 537us/step - loss: 1438.7280\n",
      "Epoch 38/100\n",
      "27/27 [==============================] - 0s 614us/step - loss: 1409.2384\n",
      "Epoch 39/100\n",
      "27/27 [==============================] - 0s 575us/step - loss: 1377.8590\n",
      "Epoch 40/100\n",
      "27/27 [==============================] - 0s 499us/step - loss: 1346.0626\n",
      "Epoch 41/100\n",
      "27/27 [==============================] - 0s 537us/step - loss: 1320.4917\n",
      "Epoch 42/100\n",
      "27/27 [==============================] - 0s 575us/step - loss: 1297.8640\n",
      "Epoch 43/100\n",
      "27/27 [==============================] - 0s 537us/step - loss: 1279.2285\n",
      "Epoch 44/100\n",
      "27/27 [==============================] - 0s 537us/step - loss: 1261.5726\n",
      "Epoch 45/100\n",
      "27/27 [==============================] - 0s 499us/step - loss: 1242.9834\n",
      "Epoch 46/100\n",
      "27/27 [==============================] - 0s 575us/step - loss: 1228.0289\n",
      "Epoch 47/100\n",
      "27/27 [==============================] - 0s 537us/step - loss: 1216.8701\n",
      "Epoch 48/100\n",
      "27/27 [==============================] - 0s 498us/step - loss: 1210.1262\n",
      "Epoch 49/100\n",
      "27/27 [==============================] - 0s 575us/step - loss: 1195.6869\n",
      "Epoch 50/100\n",
      "27/27 [==============================] - 0s 537us/step - loss: 1181.2213\n",
      "Epoch 51/100\n",
      "27/27 [==============================] - 0s 575us/step - loss: 1165.5369\n",
      "Epoch 52/100\n",
      "27/27 [==============================] - 0s 537us/step - loss: 1164.0898\n",
      "Epoch 53/100\n",
      "27/27 [==============================] - 0s 537us/step - loss: 1147.8477\n",
      "Epoch 54/100\n",
      "27/27 [==============================] - 0s 541us/step - loss: 1138.1378\n",
      "Epoch 55/100\n",
      "27/27 [==============================] - 0s 498us/step - loss: 1133.8593\n",
      "Epoch 56/100\n",
      "27/27 [==============================] - 0s 499us/step - loss: 1126.6115\n",
      "Epoch 57/100\n",
      "27/27 [==============================] - 0s 543us/step - loss: 1128.4575\n",
      "Epoch 58/100\n",
      "27/27 [==============================] - 0s 499us/step - loss: 1120.3850\n",
      "Epoch 59/100\n",
      "27/27 [==============================] - 0s 511us/step - loss: 1103.7163\n",
      "Epoch 60/100\n",
      "27/27 [==============================] - 0s 541us/step - loss: 1098.9381\n",
      "Epoch 61/100\n",
      "27/27 [==============================] - 0s 499us/step - loss: 1093.8086\n",
      "Epoch 62/100\n",
      "27/27 [==============================] - 0s 497us/step - loss: 1095.6980\n",
      "Epoch 63/100\n",
      "27/27 [==============================] - 0s 499us/step - loss: 1095.6801\n",
      "Epoch 64/100\n",
      "27/27 [==============================] - 0s 537us/step - loss: 1077.5841\n",
      "Epoch 65/100\n",
      "27/27 [==============================] - 0s 499us/step - loss: 1070.6641\n",
      "Epoch 66/100\n",
      "27/27 [==============================] - 0s 459us/step - loss: 1076.1332\n",
      "Epoch 67/100\n",
      "27/27 [==============================] - 0s 499us/step - loss: 1070.2148\n",
      "Epoch 68/100\n",
      "27/27 [==============================] - 0s 499us/step - loss: 1058.6007\n",
      "Epoch 69/100\n",
      "27/27 [==============================] - 0s 537us/step - loss: 1050.0260\n",
      "Epoch 70/100\n",
      "27/27 [==============================] - 0s 574us/step - loss: 1047.0851\n",
      "Epoch 71/100\n",
      "27/27 [==============================] - 0s 499us/step - loss: 1041.9015\n",
      "Epoch 72/100\n",
      "27/27 [==============================] - 0s 536us/step - loss: 1029.0271\n",
      "Epoch 73/100\n",
      "27/27 [==============================] - 0s 537us/step - loss: 1042.2034\n",
      "Epoch 74/100\n",
      "27/27 [==============================] - 0s 498us/step - loss: 1025.1180\n",
      "Epoch 75/100\n",
      "27/27 [==============================] - 0s 499us/step - loss: 1019.5515\n",
      "Epoch 76/100\n",
      "27/27 [==============================] - 0s 573us/step - loss: 1015.6521\n",
      "Epoch 77/100\n",
      "27/27 [==============================] - 0s 499us/step - loss: 1005.9424\n",
      "Epoch 78/100\n",
      "27/27 [==============================] - 0s 574us/step - loss: 1007.6411\n",
      "Epoch 79/100\n",
      "27/27 [==============================] - 0s 574us/step - loss: 1007.6448\n",
      "Epoch 80/100\n",
      "27/27 [==============================] - 0s 574us/step - loss: 991.2372\n",
      "Epoch 81/100\n",
      "27/27 [==============================] - 0s 494us/step - loss: 985.1318\n",
      "Epoch 82/100\n",
      "27/27 [==============================] - 0s 537us/step - loss: 982.9002\n",
      "Epoch 83/100\n",
      "27/27 [==============================] - 0s 536us/step - loss: 982.7012\n",
      "Epoch 84/100\n",
      "27/27 [==============================] - 0s 499us/step - loss: 983.9402\n",
      "Epoch 85/100\n",
      "27/27 [==============================] - 0s 535us/step - loss: 967.2142\n",
      "Epoch 86/100\n",
      "27/27 [==============================] - 0s 499us/step - loss: 971.2843\n",
      "Epoch 87/100\n",
      "27/27 [==============================] - 0s 575us/step - loss: 959.2778\n",
      "Epoch 88/100\n",
      "27/27 [==============================] - 0s 498us/step - loss: 955.7249\n",
      "Epoch 89/100\n",
      "27/27 [==============================] - 0s 494us/step - loss: 952.6124\n",
      "Epoch 90/100\n",
      "27/27 [==============================] - 0s 497us/step - loss: 943.8746\n",
      "Epoch 91/100\n",
      "27/27 [==============================] - 0s 460us/step - loss: 940.1805\n",
      "Epoch 92/100\n",
      "27/27 [==============================] - 0s 499us/step - loss: 937.3072\n",
      "Epoch 93/100\n",
      "27/27 [==============================] - 0s 499us/step - loss: 938.2026\n",
      "Epoch 94/100\n",
      "27/27 [==============================] - 0s 574us/step - loss: 929.6288\n",
      "Epoch 95/100\n",
      "27/27 [==============================] - 0s 536us/step - loss: 921.7922\n",
      "Epoch 96/100\n"
     ]
    },
    {
     "name": "stdout",
     "output_type": "stream",
     "text": [
      "27/27 [==============================] - 0s 498us/step - loss: 917.3815\n",
      "Epoch 97/100\n",
      "27/27 [==============================] - 0s 535us/step - loss: 915.5777\n",
      "Epoch 98/100\n",
      "27/27 [==============================] - 0s 461us/step - loss: 919.7249\n",
      "Epoch 99/100\n",
      "27/27 [==============================] - 0s 538us/step - loss: 905.4535\n",
      "Epoch 100/100\n",
      "27/27 [==============================] - 0s 499us/step - loss: 901.2333\n"
     ]
    },
    {
     "data": {
      "text/plain": [
       "<keras.callbacks.History at 0x1a6991dcca0>"
      ]
     },
     "execution_count": 15,
     "metadata": {},
     "output_type": "execute_result"
    }
   ],
   "source": [
    "model = tf.keras.models.Sequential([\n",
    "    tf.keras.layers.Dense(1, input_shape=[window_size])\n",
    "])\n",
    "\n",
    "model.compile(loss='mse', optimizer='adam')\n",
    "model.fit(train_ds, epochs=100, verbose=1)"
   ]
  },
  {
   "cell_type": "code",
   "execution_count": 16,
   "metadata": {
    "colab": {
     "base_uri": "https://localhost:8080/"
    },
    "id": "lQy2xjnMxPl1",
    "outputId": "b0e369b9-88a2-4ed0-8df1-104b680a21d1"
   },
   "outputs": [
    {
     "data": {
      "text/plain": [
       "[149.0018,\n",
       " 105.876686,\n",
       " 103.002914,\n",
       " 128.72046,\n",
       " 111.5388,\n",
       " 99.12656,\n",
       " 89.4261,\n",
       " 115.508965,\n",
       " 77.15461,\n",
       " 82.20285]"
      ]
     },
     "execution_count": 16,
     "metadata": {},
     "output_type": "execute_result"
    }
   ],
   "source": [
    "forecast = []\n",
    "\n",
    "for time in range(len(time_series) - window_size):\n",
    "    prediction = model.predict(time_series[time:time+window_size].reshape(1, -1))\n",
    "    forecast.append(prediction[0][0])\n",
    "    \n",
    "result = forecast[split_time-window_size:]\n",
    "result[:10]"
   ]
  },
  {
   "cell_type": "code",
   "execution_count": 17,
   "metadata": {
    "colab": {
     "base_uri": "https://localhost:8080/",
     "height": 424
    },
    "id": "fwDIkE6FxPl2",
    "outputId": "9b9efe36-9a74-44d8-a0af-696debb5b3f4"
   },
   "outputs": [
    {
     "data": {
      "image/png": "[encoded data removed]",
      "text/plain": [
       "<Figure size 1152x432 with 1 Axes>"
      ]
     },
     "metadata": {
      "needs_background": "light"
     },
     "output_type": "display_data"
    }
   ],
   "source": [
    "plt.figure(figsize=(16, 6))\n",
    "plt.plot(time_test, X_test)\n",
    "plt.plot(time_test, result)\n",
    "plt.xticks(rotation=90)\n",
    "plt.show()"
   ]
  },
  {
   "cell_type": "code",
   "execution_count": 18,
   "metadata": {
    "colab": {
     "base_uri": "https://localhost:8080/"
    },
    "id": "CuDrYtF6xPl2",
    "outputId": "528c069b-a7fd-48a2-b5d9-3c8172643505"
   },
   "outputs": [
    {
     "name": "stdout",
     "output_type": "stream",
     "text": [
      "205.3577\n",
      "10.881822\n"
     ]
    }
   ],
   "source": [
    "print(tf.keras.metrics.mean_squared_error(X_test, result).numpy())\n",
    "print(tf.keras.metrics.mean_absolute_error(X_test, result).numpy())"
   ]
  },
  {
   "cell_type": "markdown",
   "metadata": {
    "id": "RAm7Bf5ExPl3"
   },
   "source": [
    "## 3. Deep NN을  이용한 forecasting"
   ]
  },
  {
   "cell_type": "code",
   "execution_count": 19,
   "metadata": {
    "colab": {
     "base_uri": "https://localhost:8080/"
    },
    "id": "tXUMvlomxPl3",
    "outputId": "e0601e34-c210-4a78-f3ef-a33452985f60"
   },
   "outputs": [
    {
     "name": "stdout",
     "output_type": "stream",
     "text": [
      "Epoch 1/100\n",
      "27/27 [==============================] - 0s 1ms/step - loss: 3649.1924\n",
      "Epoch 2/100\n",
      "27/27 [==============================] - 0s 614us/step - loss: 1328.0858\n",
      "Epoch 3/100\n",
      "27/27 [==============================] - 0s 614us/step - loss: 912.2199\n",
      "Epoch 4/100\n",
      "27/27 [==============================] - 0s 614us/step - loss: 827.7393\n",
      "Epoch 5/100\n",
      "27/27 [==============================] - 0s 614us/step - loss: 824.4335\n",
      "Epoch 6/100\n",
      "27/27 [==============================] - 0s 575us/step - loss: 713.2470\n",
      "Epoch 7/100\n",
      "27/27 [==============================] - 0s 575us/step - loss: 711.7651\n",
      "Epoch 8/100\n",
      "27/27 [==============================] - 0s 652us/step - loss: 701.3011\n",
      "Epoch 9/100\n",
      "27/27 [==============================] - 0s 652us/step - loss: 688.0028\n",
      "Epoch 10/100\n",
      "27/27 [==============================] - 0s 652us/step - loss: 669.5054\n",
      "Epoch 11/100\n",
      "27/27 [==============================] - 0s 652us/step - loss: 688.7356\n",
      "Epoch 12/100\n",
      "27/27 [==============================] - 0s 614us/step - loss: 640.7126\n",
      "Epoch 13/100\n",
      "27/27 [==============================] - 0s 614us/step - loss: 631.4880\n",
      "Epoch 14/100\n",
      "27/27 [==============================] - 0s 573us/step - loss: 645.9463\n",
      "Epoch 15/100\n",
      "27/27 [==============================] - 0s 652us/step - loss: 665.3997\n",
      "Epoch 16/100\n",
      "27/27 [==============================] - 0s 614us/step - loss: 641.0077\n",
      "Epoch 17/100\n",
      "27/27 [==============================] - 0s 691us/step - loss: 628.0256\n",
      "Epoch 18/100\n",
      "27/27 [==============================] - 0s 614us/step - loss: 619.5070\n",
      "Epoch 19/100\n",
      "27/27 [==============================] - 0s 614us/step - loss: 647.3778\n",
      "Epoch 20/100\n",
      "27/27 [==============================] - 0s 614us/step - loss: 619.8400\n",
      "Epoch 21/100\n",
      "27/27 [==============================] - 0s 693us/step - loss: 599.0284\n",
      "Epoch 22/100\n",
      "27/27 [==============================] - 0s 612us/step - loss: 575.2232\n",
      "Epoch 23/100\n",
      "27/27 [==============================] - 0s 574us/step - loss: 608.7418\n",
      "Epoch 24/100\n",
      "27/27 [==============================] - 0s 575us/step - loss: 624.6044\n",
      "Epoch 25/100\n",
      "27/27 [==============================] - 0s 614us/step - loss: 582.2184\n",
      "Epoch 26/100\n",
      "27/27 [==============================] - 0s 615us/step - loss: 635.3909\n",
      "Epoch 27/100\n",
      "27/27 [==============================] - 0s 615us/step - loss: 671.7698\n",
      "Epoch 28/100\n",
      "27/27 [==============================] - 0s 614us/step - loss: 677.3007\n",
      "Epoch 29/100\n",
      "27/27 [==============================] - 0s 575us/step - loss: 589.1649\n",
      "Epoch 30/100\n",
      "27/27 [==============================] - 0s 614us/step - loss: 597.8211\n",
      "Epoch 31/100\n",
      "27/27 [==============================] - 0s 614us/step - loss: 580.6451\n",
      "Epoch 32/100\n",
      "27/27 [==============================] - 0s 614us/step - loss: 587.1691\n",
      "Epoch 33/100\n",
      "27/27 [==============================] - 0s 614us/step - loss: 549.5204\n",
      "Epoch 34/100\n",
      "27/27 [==============================] - 0s 575us/step - loss: 562.1257\n",
      "Epoch 35/100\n",
      "27/27 [==============================] - 0s 614us/step - loss: 570.0162\n",
      "Epoch 36/100\n",
      "27/27 [==============================] - 0s 575us/step - loss: 614.7252\n",
      "Epoch 37/100\n",
      "27/27 [==============================] - 0s 650us/step - loss: 577.8133\n",
      "Epoch 38/100\n",
      "27/27 [==============================] - 0s 575us/step - loss: 621.5491\n",
      "Epoch 39/100\n",
      "27/27 [==============================] - 0s 578us/step - loss: 552.1310\n",
      "Epoch 40/100\n",
      "27/27 [==============================] - 0s 651us/step - loss: 560.6188\n",
      "Epoch 41/100\n",
      "27/27 [==============================] - 0s 614us/step - loss: 550.7502\n",
      "Epoch 42/100\n",
      "27/27 [==============================] - 0s 614us/step - loss: 554.4918\n",
      "Epoch 43/100\n",
      "27/27 [==============================] - 0s 613us/step - loss: 537.7438\n",
      "Epoch 44/100\n",
      "27/27 [==============================] - 0s 614us/step - loss: 563.6937\n",
      "Epoch 45/100\n",
      "27/27 [==============================] - 0s 651us/step - loss: 563.4885\n",
      "Epoch 46/100\n",
      "27/27 [==============================] - 0s 614us/step - loss: 530.0630\n",
      "Epoch 47/100\n",
      "27/27 [==============================] - 0s 575us/step - loss: 525.7339\n",
      "Epoch 48/100\n",
      "27/27 [==============================] - 0s 616us/step - loss: 553.6306\n",
      "Epoch 49/100\n",
      "27/27 [==============================] - 0s 650us/step - loss: 658.0541\n",
      "Epoch 50/100\n",
      "27/27 [==============================] - 0s 614us/step - loss: 525.4056\n",
      "Epoch 51/100\n",
      "27/27 [==============================] - 0s 612us/step - loss: 531.1168\n",
      "Epoch 52/100\n",
      "27/27 [==============================] - 0s 576us/step - loss: 504.2173\n",
      "Epoch 53/100\n",
      "27/27 [==============================] - 0s 612us/step - loss: 519.0752\n",
      "Epoch 54/100\n",
      "27/27 [==============================] - 0s 575us/step - loss: 536.5998\n",
      "Epoch 55/100\n",
      "27/27 [==============================] - 0s 614us/step - loss: 538.9170\n",
      "Epoch 56/100\n",
      "27/27 [==============================] - 0s 612us/step - loss: 513.0336\n",
      "Epoch 57/100\n",
      "27/27 [==============================] - 0s 575us/step - loss: 533.9191\n",
      "Epoch 58/100\n",
      "27/27 [==============================] - 0s 574us/step - loss: 494.2514\n",
      "Epoch 59/100\n",
      "27/27 [==============================] - 0s 650us/step - loss: 499.3091\n",
      "Epoch 60/100\n",
      "27/27 [==============================] - 0s 614us/step - loss: 517.1556\n",
      "Epoch 61/100\n",
      "27/27 [==============================] - 0s 614us/step - loss: 504.7186\n",
      "Epoch 62/100\n",
      "27/27 [==============================] - 0s 612us/step - loss: 567.3271\n",
      "Epoch 63/100\n",
      "27/27 [==============================] - 0s 614us/step - loss: 515.5844\n",
      "Epoch 64/100\n",
      "27/27 [==============================] - 0s 613us/step - loss: 539.1998\n",
      "Epoch 65/100\n",
      "27/27 [==============================] - 0s 612us/step - loss: 518.7029\n",
      "Epoch 66/100\n",
      "27/27 [==============================] - 0s 576us/step - loss: 495.9107\n",
      "Epoch 67/100\n",
      "27/27 [==============================] - 0s 612us/step - loss: 483.1298\n",
      "Epoch 68/100\n",
      "27/27 [==============================] - 0s 612us/step - loss: 515.5984\n",
      "Epoch 69/100\n",
      "27/27 [==============================] - 0s 729us/step - loss: 510.0286\n",
      "Epoch 70/100\n",
      "27/27 [==============================] - 0s 614us/step - loss: 499.0658\n",
      "Epoch 71/100\n",
      "27/27 [==============================] - 0s 575us/step - loss: 486.9931\n",
      "Epoch 72/100\n",
      "27/27 [==============================] - 0s 575us/step - loss: 536.7083\n",
      "Epoch 73/100\n",
      "27/27 [==============================] - 0s 612us/step - loss: 540.7267\n",
      "Epoch 74/100\n",
      "27/27 [==============================] - 0s 609us/step - loss: 518.9850\n",
      "Epoch 75/100\n",
      "27/27 [==============================] - 0s 614us/step - loss: 477.0358\n",
      "Epoch 76/100\n",
      "27/27 [==============================] - 0s 652us/step - loss: 497.9287\n",
      "Epoch 77/100\n",
      "27/27 [==============================] - 0s 612us/step - loss: 490.2475\n",
      "Epoch 78/100\n",
      "27/27 [==============================] - 0s 612us/step - loss: 454.3577\n",
      "Epoch 79/100\n",
      "27/27 [==============================] - 0s 575us/step - loss: 495.9062\n",
      "Epoch 80/100\n",
      "27/27 [==============================] - 0s 576us/step - loss: 476.3330\n",
      "Epoch 81/100\n",
      "27/27 [==============================] - 0s 614us/step - loss: 534.1188\n",
      "Epoch 82/100\n",
      "27/27 [==============================] - 0s 575us/step - loss: 497.3653\n",
      "Epoch 83/100\n",
      "27/27 [==============================] - 0s 613us/step - loss: 468.8895\n",
      "Epoch 84/100\n",
      "27/27 [==============================] - 0s 650us/step - loss: 442.1534\n",
      "Epoch 85/100\n",
      "27/27 [==============================] - 0s 614us/step - loss: 462.4223\n",
      "Epoch 86/100\n",
      "27/27 [==============================] - 0s 651us/step - loss: 447.9474\n",
      "Epoch 87/100\n",
      "27/27 [==============================] - 0s 614us/step - loss: 444.3603\n",
      "Epoch 88/100\n",
      "27/27 [==============================] - 0s 612us/step - loss: 432.4319\n",
      "Epoch 89/100\n",
      "27/27 [==============================] - 0s 614us/step - loss: 453.1786\n",
      "Epoch 90/100\n",
      "27/27 [==============================] - 0s 575us/step - loss: 460.3211\n",
      "Epoch 91/100\n",
      "27/27 [==============================] - 0s 614us/step - loss: 440.7239\n",
      "Epoch 92/100\n",
      "27/27 [==============================] - 0s 612us/step - loss: 441.1282\n",
      "Epoch 93/100\n",
      "27/27 [==============================] - 0s 612us/step - loss: 444.5099\n",
      "Epoch 94/100\n",
      "27/27 [==============================] - 0s 612us/step - loss: 435.5909\n",
      "Epoch 95/100\n",
      "27/27 [==============================] - 0s 576us/step - loss: 426.1264\n",
      "Epoch 96/100\n",
      "27/27 [==============================] - 0s 575us/step - loss: 415.6033\n",
      "Epoch 97/100\n"
     ]
    },
    {
     "name": "stdout",
     "output_type": "stream",
     "text": [
      "27/27 [==============================] - 0s 613us/step - loss: 421.8001\n",
      "Epoch 98/100\n",
      "27/27 [==============================] - 0s 613us/step - loss: 455.6635\n",
      "Epoch 99/100\n",
      "27/27 [==============================] - 0s 614us/step - loss: 446.8969\n",
      "Epoch 100/100\n",
      "27/27 [==============================] - 0s 614us/step - loss: 414.4923\n"
     ]
    }
   ],
   "source": [
    "model = tf.keras.models.Sequential([\n",
    "    tf.keras.layers.Dense(100, input_shape=[window_size], activation=\"relu\"), \n",
    "    tf.keras.layers.Dense(10, activation=\"relu\"), \n",
    "    tf.keras.layers.Dense(1)\n",
    "])\n",
    "\n",
    "model.compile(loss=\"mse\", optimizer='adam')\n",
    "\n",
    "history = model.fit(train_ds,epochs=100,verbose=1)"
   ]
  },
  {
   "cell_type": "code",
   "execution_count": 20,
   "metadata": {
    "colab": {
     "base_uri": "https://localhost:8080/",
     "height": 422
    },
    "id": "ZxcY5bG7xPl3",
    "outputId": "0bbdc145-4766-4f48-b2e6-5fec494c6116"
   },
   "outputs": [
    {
     "data": {
      "image/png": "[encoded data removed]",
      "text/plain": [
       "<Figure size 1152x432 with 1 Axes>"
      ]
     },
     "metadata": {
      "needs_background": "light"
     },
     "output_type": "display_data"
    }
   ],
   "source": [
    "forecast = []\n",
    "\n",
    "for time in range(len(time_series) - window_size):\n",
    "    prediction = model.predict(time_series[time:time+window_size].reshape(1, -1))\n",
    "    forecast.append(prediction[0][0])\n",
    "    \n",
    "result = forecast[split_time-window_size:]\n",
    "\n",
    "plt.figure(figsize=(16, 6))\n",
    "plt.plot(time_test, X_test)\n",
    "plt.plot(time_test, result)\n",
    "plt.xticks(rotation=90)\n",
    "plt.show()"
   ]
  },
  {
   "cell_type": "code",
   "execution_count": 21,
   "metadata": {
    "colab": {
     "base_uri": "https://localhost:8080/"
    },
    "id": "DixTjS5KxPl4",
    "outputId": "bfbe7e57-d6de-47f2-8c33-31d32b88138f"
   },
   "outputs": [
    {
     "name": "stdout",
     "output_type": "stream",
     "text": [
      "186.69997\n",
      "10.032865\n"
     ]
    }
   ],
   "source": [
    "print(tf.keras.metrics.mean_squared_error(X_test, result).numpy())\n",
    "print(tf.keras.metrics.mean_absolute_error(X_test, result).numpy())"
   ]
  },
  {
   "cell_type": "markdown",
   "metadata": {
    "id": "Byujsw8rxPl4"
   },
   "source": [
    "## 4. LSTM 을  이용한 forecasting\n",
    "\n",
    "- RNN 은 3 Dimension input 이 필요하므로 Lambda layer 를 이용하여 2D $\\rightarrow$ 3D expand  "
   ]
  },
  {
   "cell_type": "markdown",
   "metadata": {
    "id": "22szXeckxPl4"
   },
   "source": [
    "### 4-1. Simple LSTM"
   ]
  },
  {
   "cell_type": "markdown",
   "metadata": {
    "id": "EN-WUBYGxPl5"
   },
   "source": [
    "- 첫 번째 람다 레이어는 차원을 확장하는 데 도움이 됩니다. 여기서는 배열을 1차원 확장하고 모델이 모든 길이의 시퀀스를 사용할 수 있음을 의미하는 input_shape=[None]을 설정 합니다.\n",
    "\n",
    "- 최종 람다 계층은 출력을 100배 확장하여 훈련에 도움이 될 수 있습니다. RNN의 기본 레이어는 -1과 1 사이의 값을 출력하는 tanh입니다. 출력을 스케일링하면 이러한 값을 일반적으로 40, 50, 60 등의 값인 시계열에 더 가깝게 만들 수 있습니다."
   ]
  },
  {
   "cell_type": "code",
   "execution_count": 22,
   "metadata": {
    "colab": {
     "base_uri": "https://localhost:8080/"
    },
    "id": "4a954RnbxPl5",
    "outputId": "7223d154-c1ac-497a-98ec-c0a0916a86a6"
   },
   "outputs": [
    {
     "name": "stdout",
     "output_type": "stream",
     "text": [
      "Epoch 1/100\n",
      "27/27 [==============================] - 1s 3ms/step - loss: 45756.2734\n",
      "Epoch 2/100\n",
      "27/27 [==============================] - 0s 3ms/step - loss: 23739.4531\n",
      "Epoch 3/100\n",
      "27/27 [==============================] - 0s 3ms/step - loss: 11882.7998\n",
      "Epoch 4/100\n",
      "27/27 [==============================] - 0s 3ms/step - loss: 6821.6421\n",
      "Epoch 5/100\n",
      "27/27 [==============================] - 0s 3ms/step - loss: 2495.3840\n",
      "Epoch 6/100\n",
      "27/27 [==============================] - 0s 3ms/step - loss: 1850.7050\n",
      "Epoch 7/100\n",
      "27/27 [==============================] - 0s 3ms/step - loss: 1603.9283\n",
      "Epoch 8/100\n",
      "27/27 [==============================] - 0s 3ms/step - loss: 1388.9843\n",
      "Epoch 9/100\n",
      "27/27 [==============================] - 0s 3ms/step - loss: 1233.9769\n",
      "Epoch 10/100\n",
      "27/27 [==============================] - 0s 3ms/step - loss: 1175.4673\n",
      "Epoch 11/100\n",
      "27/27 [==============================] - 0s 3ms/step - loss: 1016.9322\n",
      "Epoch 12/100\n",
      "27/27 [==============================] - 0s 3ms/step - loss: 914.0861\n",
      "Epoch 13/100\n",
      "27/27 [==============================] - 0s 3ms/step - loss: 864.6029\n",
      "Epoch 14/100\n",
      "27/27 [==============================] - 0s 3ms/step - loss: 825.1680\n",
      "Epoch 15/100\n",
      "27/27 [==============================] - 0s 3ms/step - loss: 790.2424\n",
      "Epoch 16/100\n",
      "27/27 [==============================] - 0s 3ms/step - loss: 773.6763\n",
      "Epoch 17/100\n",
      "27/27 [==============================] - 0s 3ms/step - loss: 740.1000\n",
      "Epoch 18/100\n",
      "27/27 [==============================] - 0s 3ms/step - loss: 743.0346\n",
      "Epoch 19/100\n",
      "27/27 [==============================] - 0s 3ms/step - loss: 705.8783\n",
      "Epoch 20/100\n",
      "27/27 [==============================] - 0s 3ms/step - loss: 742.8703\n",
      "Epoch 21/100\n",
      "27/27 [==============================] - 0s 3ms/step - loss: 702.1288\n",
      "Epoch 22/100\n",
      "27/27 [==============================] - 0s 3ms/step - loss: 675.0545\n",
      "Epoch 23/100\n",
      "27/27 [==============================] - 0s 3ms/step - loss: 707.3461\n",
      "Epoch 24/100\n",
      "27/27 [==============================] - 0s 3ms/step - loss: 660.8320\n",
      "Epoch 25/100\n",
      "27/27 [==============================] - 0s 3ms/step - loss: 749.1230\n",
      "Epoch 26/100\n",
      "27/27 [==============================] - 0s 3ms/step - loss: 700.4520\n",
      "Epoch 27/100\n",
      "27/27 [==============================] - 0s 3ms/step - loss: 712.2557\n",
      "Epoch 28/100\n",
      "27/27 [==============================] - 0s 3ms/step - loss: 679.1720\n",
      "Epoch 29/100\n",
      "27/27 [==============================] - 0s 3ms/step - loss: 663.3538\n",
      "Epoch 30/100\n",
      "27/27 [==============================] - 0s 3ms/step - loss: 684.0115\n",
      "Epoch 31/100\n",
      "27/27 [==============================] - 0s 3ms/step - loss: 652.5639\n",
      "Epoch 32/100\n",
      "27/27 [==============================] - 0s 3ms/step - loss: 661.3393\n",
      "Epoch 33/100\n",
      "27/27 [==============================] - 0s 3ms/step - loss: 669.2332\n",
      "Epoch 34/100\n",
      "27/27 [==============================] - 0s 3ms/step - loss: 650.9253\n",
      "Epoch 35/100\n",
      "27/27 [==============================] - 0s 3ms/step - loss: 764.4052\n",
      "Epoch 36/100\n",
      "27/27 [==============================] - 0s 3ms/step - loss: 868.4717\n",
      "Epoch 37/100\n",
      "27/27 [==============================] - 0s 3ms/step - loss: 678.1518\n",
      "Epoch 38/100\n",
      "27/27 [==============================] - 0s 3ms/step - loss: 652.1274\n",
      "Epoch 39/100\n",
      "27/27 [==============================] - 0s 3ms/step - loss: 669.2949\n",
      "Epoch 40/100\n",
      "27/27 [==============================] - 0s 3ms/step - loss: 651.8811\n",
      "Epoch 41/100\n",
      "27/27 [==============================] - 0s 3ms/step - loss: 649.7465\n",
      "Epoch 42/100\n",
      "27/27 [==============================] - 0s 3ms/step - loss: 618.5919\n",
      "Epoch 43/100\n",
      "27/27 [==============================] - 0s 3ms/step - loss: 655.5794\n",
      "Epoch 44/100\n",
      "27/27 [==============================] - 0s 3ms/step - loss: 647.6425\n",
      "Epoch 45/100\n",
      "27/27 [==============================] - 0s 3ms/step - loss: 708.4977\n",
      "Epoch 46/100\n",
      "27/27 [==============================] - 0s 3ms/step - loss: 636.5332\n",
      "Epoch 47/100\n",
      "27/27 [==============================] - 0s 3ms/step - loss: 697.2924\n",
      "Epoch 48/100\n",
      "27/27 [==============================] - 0s 3ms/step - loss: 663.7274\n",
      "Epoch 49/100\n",
      "27/27 [==============================] - 0s 3ms/step - loss: 655.8572\n",
      "Epoch 50/100\n",
      "27/27 [==============================] - 0s 3ms/step - loss: 678.0108\n",
      "Epoch 51/100\n",
      "27/27 [==============================] - 0s 3ms/step - loss: 663.2511\n",
      "Epoch 52/100\n",
      "27/27 [==============================] - 0s 3ms/step - loss: 650.2914\n",
      "Epoch 53/100\n",
      "27/27 [==============================] - 0s 3ms/step - loss: 643.4584\n",
      "Epoch 54/100\n",
      "27/27 [==============================] - 0s 3ms/step - loss: 650.3548\n",
      "Epoch 55/100\n",
      "27/27 [==============================] - 0s 3ms/step - loss: 631.7291\n",
      "Epoch 56/100\n",
      "27/27 [==============================] - 0s 3ms/step - loss: 656.4911\n",
      "Epoch 57/100\n",
      "27/27 [==============================] - 0s 3ms/step - loss: 647.1864\n",
      "Epoch 58/100\n",
      "27/27 [==============================] - 0s 3ms/step - loss: 700.8817\n",
      "Epoch 59/100\n",
      "27/27 [==============================] - 0s 3ms/step - loss: 684.5511\n",
      "Epoch 60/100\n",
      "27/27 [==============================] - 0s 3ms/step - loss: 675.5838\n",
      "Epoch 61/100\n",
      "27/27 [==============================] - 0s 3ms/step - loss: 658.9223\n",
      "Epoch 62/100\n",
      "27/27 [==============================] - 0s 3ms/step - loss: 658.5340\n",
      "Epoch 63/100\n",
      "27/27 [==============================] - 0s 3ms/step - loss: 666.9413\n",
      "Epoch 64/100\n",
      "27/27 [==============================] - 0s 3ms/step - loss: 636.1155\n",
      "Epoch 65/100\n",
      "27/27 [==============================] - 0s 3ms/step - loss: 632.3835\n",
      "Epoch 66/100\n",
      "27/27 [==============================] - 0s 3ms/step - loss: 635.6958\n",
      "Epoch 67/100\n",
      "27/27 [==============================] - 0s 3ms/step - loss: 656.8520\n",
      "Epoch 68/100\n",
      "27/27 [==============================] - 0s 3ms/step - loss: 674.8245\n",
      "Epoch 69/100\n",
      "27/27 [==============================] - 0s 3ms/step - loss: 649.1818\n",
      "Epoch 70/100\n",
      "27/27 [==============================] - 0s 3ms/step - loss: 647.4637\n",
      "Epoch 71/100\n",
      "27/27 [==============================] - 0s 3ms/step - loss: 627.5038\n",
      "Epoch 72/100\n",
      "27/27 [==============================] - 0s 3ms/step - loss: 693.0859\n",
      "Epoch 73/100\n",
      "27/27 [==============================] - 0s 3ms/step - loss: 724.3743\n",
      "Epoch 74/100\n",
      "27/27 [==============================] - 0s 3ms/step - loss: 698.8994\n",
      "Epoch 75/100\n",
      "27/27 [==============================] - 0s 3ms/step - loss: 643.4256\n",
      "Epoch 76/100\n",
      "27/27 [==============================] - 0s 3ms/step - loss: 629.7230\n",
      "Epoch 77/100\n",
      "27/27 [==============================] - 0s 3ms/step - loss: 624.8097\n",
      "Epoch 78/100\n",
      "27/27 [==============================] - 0s 3ms/step - loss: 642.5034\n",
      "Epoch 79/100\n",
      "27/27 [==============================] - 0s 3ms/step - loss: 646.0358\n",
      "Epoch 80/100\n",
      "27/27 [==============================] - 0s 3ms/step - loss: 650.6521\n",
      "Epoch 81/100\n",
      "27/27 [==============================] - 0s 3ms/step - loss: 648.2203\n",
      "Epoch 82/100\n",
      "27/27 [==============================] - 0s 3ms/step - loss: 650.8910\n",
      "Epoch 83/100\n",
      "27/27 [==============================] - 0s 3ms/step - loss: 619.0464\n",
      "Epoch 84/100\n",
      "27/27 [==============================] - 0s 3ms/step - loss: 644.0275\n",
      "Epoch 85/100\n",
      "27/27 [==============================] - 0s 3ms/step - loss: 634.0505\n",
      "Epoch 86/100\n",
      "27/27 [==============================] - 0s 3ms/step - loss: 675.4999\n",
      "Epoch 87/100\n",
      "27/27 [==============================] - 0s 3ms/step - loss: 637.0967\n",
      "Epoch 88/100\n",
      "27/27 [==============================] - 0s 3ms/step - loss: 641.5621\n",
      "Epoch 89/100\n",
      "27/27 [==============================] - 0s 3ms/step - loss: 625.8497\n",
      "Epoch 90/100\n",
      "27/27 [==============================] - 0s 3ms/step - loss: 659.1300\n",
      "Epoch 91/100\n",
      "27/27 [==============================] - 0s 3ms/step - loss: 646.9608\n",
      "Epoch 92/100\n",
      "27/27 [==============================] - 0s 3ms/step - loss: 626.5421\n",
      "Epoch 93/100\n",
      "27/27 [==============================] - 0s 3ms/step - loss: 632.2721\n",
      "Epoch 94/100\n",
      "27/27 [==============================] - 0s 3ms/step - loss: 631.7812\n",
      "Epoch 95/100\n",
      "27/27 [==============================] - 0s 3ms/step - loss: 632.6140\n",
      "Epoch 96/100\n",
      "27/27 [==============================] - 0s 3ms/step - loss: 640.4549\n",
      "Epoch 97/100\n",
      "27/27 [==============================] - 0s 3ms/step - loss: 658.3578\n",
      "Epoch 98/100\n",
      "27/27 [==============================] - 0s 3ms/step - loss: 624.6977\n",
      "Epoch 99/100\n"
     ]
    },
    {
     "name": "stdout",
     "output_type": "stream",
     "text": [
      "27/27 [==============================] - 0s 3ms/step - loss: 633.2274\n",
      "Epoch 100/100\n",
      "27/27 [==============================] - 0s 3ms/step - loss: 617.4275\n"
     ]
    }
   ],
   "source": [
    "model = tf.keras.models.Sequential([\n",
    "    tf.keras.layers.Lambda(lambda x: tf.expand_dims(x, axis=-1),input_shape=[None]),\n",
    "    tf.keras.layers.LSTM(32, input_shape=[window_size, 1]),\n",
    "    tf.keras.layers.Dense(1),\n",
    "    tf.keras.layers.Lambda(lambda x: x * 100.0)\n",
    "    ])\n",
    "\n",
    "model.compile(loss='mse', optimizer='adam')\n",
    "history = model.fit(train_ds, epochs=100, verbose=1)"
   ]
  },
  {
   "cell_type": "code",
   "execution_count": 23,
   "metadata": {
    "colab": {
     "base_uri": "https://localhost:8080/"
    },
    "id": "KXbY0gn2xPl5",
    "outputId": "7cade4c8-8815-41c2-8bab-f51444408227"
   },
   "outputs": [
    {
     "name": "stdout",
     "output_type": "stream",
     "text": [
      "Model: \"sequential_2\"\n",
      "_________________________________________________________________\n",
      " Layer (type)                Output Shape              Param #   \n",
      "=================================================================\n",
      " lambda (Lambda)             (None, None, 1)           0         \n",
      "                                                                 \n",
      " lstm (LSTM)                 (None, 32)                4352      \n",
      "                                                                 \n",
      " dense_4 (Dense)             (None, 1)                 33        \n",
      "                                                                 \n",
      " lambda_1 (Lambda)           (None, 1)                 0         \n",
      "                                                                 \n",
      "=================================================================\n",
      "Total params: 4,385\n",
      "Trainable params: 4,385\n",
      "Non-trainable params: 0\n",
      "_________________________________________________________________\n"
     ]
    }
   ],
   "source": [
    "model.summary()"
   ]
  },
  {
   "cell_type": "code",
   "execution_count": 24,
   "metadata": {
    "colab": {
     "base_uri": "https://localhost:8080/",
     "height": 422
    },
    "id": "hg9u_d8GxPl6",
    "outputId": "942e3583-c428-45d9-df4d-6e2bc4cb15e3"
   },
   "outputs": [
    {
     "data": {
      "image/png": "[encoded data removed]",
      "text/plain": [
       "<Figure size 1152x432 with 1 Axes>"
      ]
     },
     "metadata": {
      "needs_background": "light"
     },
     "output_type": "display_data"
    }
   ],
   "source": [
    "forecast = []\n",
    "\n",
    "for time in range(len(time_series) - window_size):\n",
    "    prediction = model.predict(time_series[time:time+window_size].reshape(1, -1))\n",
    "    forecast.append(prediction[0][0])\n",
    "    \n",
    "result = forecast[split_time-window_size:]\n",
    "\n",
    "plt.figure(figsize=(16, 6))\n",
    "plt.plot(time_test, X_test)\n",
    "plt.plot(time_test, result)\n",
    "plt.xticks(rotation=90)\n",
    "plt.show()"
   ]
  },
  {
   "cell_type": "code",
   "execution_count": 25,
   "metadata": {
    "colab": {
     "base_uri": "https://localhost:8080/"
    },
    "id": "DrY27i8GxPl6",
    "outputId": "812fa40d-7f29-4a05-e3f7-3ee046023350"
   },
   "outputs": [
    {
     "name": "stdout",
     "output_type": "stream",
     "text": [
      "190.50763\n",
      "11.231525\n"
     ]
    }
   ],
   "source": [
    "print(tf.keras.metrics.mean_squared_error(X_test, result).numpy())\n",
    "print(tf.keras.metrics.mean_absolute_error(X_test, result).numpy())"
   ]
  },
  {
   "cell_type": "markdown",
   "metadata": {
    "id": "SdzCnKHKxPl6"
   },
   "source": [
    "### 4-2. Stacked + Bidirectoinal LSTM"
   ]
  },
  {
   "cell_type": "code",
   "execution_count": 26,
   "metadata": {
    "colab": {
     "base_uri": "https://localhost:8080/"
    },
    "id": "UCVyLHjSxPl6",
    "outputId": "7f1bfff5-b7c0-47d3-8959-0f08834a63e9",
    "scrolled": false
   },
   "outputs": [
    {
     "name": "stdout",
     "output_type": "stream",
     "text": [
      "Epoch 1/100\n",
      "27/27 [==============================] - 3s 7ms/step - loss: 4262.6777\n",
      "Epoch 2/100\n",
      "27/27 [==============================] - 0s 6ms/step - loss: 1222.4335\n",
      "Epoch 3/100\n",
      "27/27 [==============================] - 0s 7ms/step - loss: 852.8459\n",
      "Epoch 4/100\n",
      "27/27 [==============================] - 0s 7ms/step - loss: 753.8591\n",
      "Epoch 5/100\n",
      "27/27 [==============================] - 0s 6ms/step - loss: 749.8372\n",
      "Epoch 6/100\n",
      "27/27 [==============================] - 0s 6ms/step - loss: 701.9381\n",
      "Epoch 7/100\n",
      "27/27 [==============================] - 0s 6ms/step - loss: 686.4423\n",
      "Epoch 8/100\n",
      "27/27 [==============================] - 0s 6ms/step - loss: 737.8510\n",
      "Epoch 9/100\n",
      "27/27 [==============================] - 0s 6ms/step - loss: 758.6470\n",
      "Epoch 10/100\n",
      "27/27 [==============================] - 0s 6ms/step - loss: 703.5085\n",
      "Epoch 11/100\n",
      "27/27 [==============================] - 0s 6ms/step - loss: 676.0713\n",
      "Epoch 12/100\n",
      "27/27 [==============================] - 0s 6ms/step - loss: 670.1626\n",
      "Epoch 13/100\n",
      "27/27 [==============================] - 0s 6ms/step - loss: 737.2580\n",
      "Epoch 14/100\n",
      "27/27 [==============================] - 0s 6ms/step - loss: 671.7953\n",
      "Epoch 15/100\n",
      "27/27 [==============================] - 0s 6ms/step - loss: 679.4828\n",
      "Epoch 16/100\n",
      "27/27 [==============================] - 0s 6ms/step - loss: 763.7046\n",
      "Epoch 17/100\n",
      "27/27 [==============================] - 0s 6ms/step - loss: 637.6699\n",
      "Epoch 18/100\n",
      "27/27 [==============================] - 0s 6ms/step - loss: 626.2608\n",
      "Epoch 19/100\n",
      "27/27 [==============================] - 0s 6ms/step - loss: 643.4742\n",
      "Epoch 20/100\n",
      "27/27 [==============================] - 0s 6ms/step - loss: 696.6696\n",
      "Epoch 21/100\n",
      "27/27 [==============================] - 0s 6ms/step - loss: 661.6957\n",
      "Epoch 22/100\n",
      "27/27 [==============================] - 0s 6ms/step - loss: 698.9809\n",
      "Epoch 23/100\n",
      "27/27 [==============================] - 0s 6ms/step - loss: 630.1284\n",
      "Epoch 24/100\n",
      "27/27 [==============================] - 0s 6ms/step - loss: 678.2044\n",
      "Epoch 25/100\n",
      "27/27 [==============================] - 0s 6ms/step - loss: 650.4799\n",
      "Epoch 26/100\n",
      "27/27 [==============================] - 0s 6ms/step - loss: 673.3906\n",
      "Epoch 27/100\n",
      "27/27 [==============================] - 0s 6ms/step - loss: 617.0267\n",
      "Epoch 28/100\n",
      "27/27 [==============================] - 0s 6ms/step - loss: 719.6278\n",
      "Epoch 29/100\n",
      "27/27 [==============================] - 0s 6ms/step - loss: 738.1461\n",
      "Epoch 30/100\n",
      "27/27 [==============================] - 0s 6ms/step - loss: 664.6797\n",
      "Epoch 31/100\n",
      "27/27 [==============================] - 0s 6ms/step - loss: 679.7555\n",
      "Epoch 32/100\n",
      "27/27 [==============================] - 0s 6ms/step - loss: 634.1207\n",
      "Epoch 33/100\n",
      "27/27 [==============================] - 0s 6ms/step - loss: 690.6146\n",
      "Epoch 34/100\n",
      "27/27 [==============================] - 0s 6ms/step - loss: 622.0442\n",
      "Epoch 35/100\n",
      "27/27 [==============================] - 0s 6ms/step - loss: 680.6472\n",
      "Epoch 36/100\n",
      "27/27 [==============================] - 0s 6ms/step - loss: 652.0020\n",
      "Epoch 37/100\n",
      "27/27 [==============================] - 0s 6ms/step - loss: 692.9539\n",
      "Epoch 38/100\n",
      "27/27 [==============================] - 0s 6ms/step - loss: 636.2762\n",
      "Epoch 39/100\n",
      "27/27 [==============================] - 0s 6ms/step - loss: 650.9547\n",
      "Epoch 40/100\n",
      "27/27 [==============================] - 0s 6ms/step - loss: 663.1274\n",
      "Epoch 41/100\n",
      "27/27 [==============================] - 0s 6ms/step - loss: 623.5485\n",
      "Epoch 42/100\n",
      "27/27 [==============================] - 0s 6ms/step - loss: 641.1884\n",
      "Epoch 43/100\n",
      "27/27 [==============================] - 0s 7ms/step - loss: 637.3210\n",
      "Epoch 44/100\n",
      "27/27 [==============================] - 0s 6ms/step - loss: 645.9187\n",
      "Epoch 45/100\n",
      "27/27 [==============================] - 0s 6ms/step - loss: 629.1805\n",
      "Epoch 46/100\n",
      "27/27 [==============================] - 0s 6ms/step - loss: 671.9561\n",
      "Epoch 47/100\n",
      "27/27 [==============================] - 0s 6ms/step - loss: 670.7702\n",
      "Epoch 48/100\n",
      "27/27 [==============================] - 0s 6ms/step - loss: 703.1100\n",
      "Epoch 49/100\n",
      "27/27 [==============================] - 0s 6ms/step - loss: 637.8566\n",
      "Epoch 50/100\n",
      "27/27 [==============================] - 0s 6ms/step - loss: 625.3807\n",
      "Epoch 51/100\n",
      "27/27 [==============================] - 0s 6ms/step - loss: 621.5923\n",
      "Epoch 52/100\n",
      "27/27 [==============================] - 0s 6ms/step - loss: 615.9518\n",
      "Epoch 53/100\n",
      "27/27 [==============================] - 0s 6ms/step - loss: 597.5866\n",
      "Epoch 54/100\n",
      "27/27 [==============================] - 0s 6ms/step - loss: 597.5652\n",
      "Epoch 55/100\n",
      "27/27 [==============================] - 0s 6ms/step - loss: 607.9019\n",
      "Epoch 56/100\n",
      "27/27 [==============================] - 0s 6ms/step - loss: 616.6646\n",
      "Epoch 57/100\n",
      "27/27 [==============================] - 0s 6ms/step - loss: 585.0180\n",
      "Epoch 58/100\n",
      "27/27 [==============================] - 0s 6ms/step - loss: 640.9901\n",
      "Epoch 59/100\n",
      "27/27 [==============================] - 0s 6ms/step - loss: 606.4604\n",
      "Epoch 60/100\n",
      "27/27 [==============================] - 0s 6ms/step - loss: 593.1870\n",
      "Epoch 61/100\n",
      "27/27 [==============================] - 0s 6ms/step - loss: 622.5274\n",
      "Epoch 62/100\n",
      "27/27 [==============================] - 0s 6ms/step - loss: 661.1127\n",
      "Epoch 63/100\n",
      "27/27 [==============================] - 0s 6ms/step - loss: 702.2011\n",
      "Epoch 64/100\n",
      "27/27 [==============================] - 0s 7ms/step - loss: 652.5545\n",
      "Epoch 65/100\n",
      "27/27 [==============================] - 0s 6ms/step - loss: 613.2703\n",
      "Epoch 66/100\n",
      "27/27 [==============================] - 0s 7ms/step - loss: 627.7522\n",
      "Epoch 67/100\n",
      "27/27 [==============================] - 0s 7ms/step - loss: 603.7775\n",
      "Epoch 68/100\n",
      "27/27 [==============================] - 0s 7ms/step - loss: 594.9245\n",
      "Epoch 69/100\n",
      "27/27 [==============================] - 0s 6ms/step - loss: 604.3748\n",
      "Epoch 70/100\n",
      "27/27 [==============================] - 0s 6ms/step - loss: 587.6922\n",
      "Epoch 71/100\n",
      "27/27 [==============================] - 0s 6ms/step - loss: 590.2375\n",
      "Epoch 72/100\n",
      "27/27 [==============================] - 0s 7ms/step - loss: 599.7219\n",
      "Epoch 73/100\n",
      "27/27 [==============================] - 0s 7ms/step - loss: 577.4851\n",
      "Epoch 74/100\n",
      "27/27 [==============================] - 0s 6ms/step - loss: 578.8497\n",
      "Epoch 75/100\n",
      "27/27 [==============================] - 0s 6ms/step - loss: 583.0234\n",
      "Epoch 76/100\n",
      "27/27 [==============================] - 0s 6ms/step - loss: 594.1819\n",
      "Epoch 77/100\n",
      "27/27 [==============================] - 0s 7ms/step - loss: 577.3719\n",
      "Epoch 78/100\n",
      "27/27 [==============================] - 0s 6ms/step - loss: 562.4361\n",
      "Epoch 79/100\n",
      "27/27 [==============================] - 0s 6ms/step - loss: 593.5234\n",
      "Epoch 80/100\n",
      "27/27 [==============================] - 0s 7ms/step - loss: 573.1254\n",
      "Epoch 81/100\n",
      "27/27 [==============================] - 0s 7ms/step - loss: 570.9999\n",
      "Epoch 82/100\n",
      "27/27 [==============================] - 0s 6ms/step - loss: 562.1835\n",
      "Epoch 83/100\n",
      "27/27 [==============================] - 0s 7ms/step - loss: 602.7202\n",
      "Epoch 84/100\n",
      "27/27 [==============================] - 0s 6ms/step - loss: 593.4154\n",
      "Epoch 85/100\n",
      "27/27 [==============================] - 0s 6ms/step - loss: 572.5862\n",
      "Epoch 86/100\n",
      "27/27 [==============================] - 0s 7ms/step - loss: 576.9730\n",
      "Epoch 87/100\n",
      "27/27 [==============================] - 0s 6ms/step - loss: 626.5671\n",
      "Epoch 88/100\n",
      "27/27 [==============================] - 0s 7ms/step - loss: 577.3809\n",
      "Epoch 89/100\n",
      "27/27 [==============================] - 0s 6ms/step - loss: 567.7250\n",
      "Epoch 90/100\n",
      "27/27 [==============================] - 0s 6ms/step - loss: 553.2349\n",
      "Epoch 91/100\n",
      "27/27 [==============================] - 0s 6ms/step - loss: 627.3924\n",
      "Epoch 92/100\n",
      "27/27 [==============================] - 0s 6ms/step - loss: 581.5198\n",
      "Epoch 93/100\n",
      "27/27 [==============================] - 0s 7ms/step - loss: 566.6292\n",
      "Epoch 94/100\n",
      "27/27 [==============================] - 0s 6ms/step - loss: 561.2498\n",
      "Epoch 95/100\n",
      "27/27 [==============================] - 0s 6ms/step - loss: 601.4672\n",
      "Epoch 96/100\n",
      "27/27 [==============================] - 0s 6ms/step - loss: 556.4946\n",
      "Epoch 97/100\n",
      "27/27 [==============================] - 0s 7ms/step - loss: 579.3870\n",
      "Epoch 98/100\n",
      "27/27 [==============================] - 0s 6ms/step - loss: 583.8318\n",
      "Epoch 99/100\n"
     ]
    },
    {
     "name": "stdout",
     "output_type": "stream",
     "text": [
      "27/27 [==============================] - 0s 6ms/step - loss: 615.5073\n",
      "Epoch 100/100\n",
      "27/27 [==============================] - 0s 6ms/step - loss: 550.6968\n"
     ]
    }
   ],
   "source": [
    "model = tf.keras.models.Sequential([\n",
    "    tf.keras.layers.Lambda(lambda x: tf.expand_dims(x, axis=-1),input_shape=[None]),\n",
    "    tf.keras.layers.Bidirectional(tf.keras.layers.LSTM(32, return_sequences=True)),\n",
    "    tf.keras.layers.Bidirectional(tf.keras.layers.LSTM(32)),\n",
    "    tf.keras.layers.Dense(1),\n",
    "    tf.keras.layers.Lambda(lambda x: x * 100.0)\n",
    "    ])\n",
    "\n",
    "model.compile(loss='mse', optimizer='adam')\n",
    "history = model.fit(train_ds, epochs=100, verbose=1)"
   ]
  },
  {
   "cell_type": "code",
   "execution_count": 27,
   "metadata": {
    "colab": {
     "base_uri": "https://localhost:8080/",
     "height": 422
    },
    "id": "egzTJlTMxPl6",
    "outputId": "9a5b690a-0da4-4888-ca74-31a235616605"
   },
   "outputs": [
    {
     "data": {
      "image/png": "[encoded data removed]",
      "text/plain": [
       "<Figure size 1152x432 with 1 Axes>"
      ]
     },
     "metadata": {
      "needs_background": "light"
     },
     "output_type": "display_data"
    }
   ],
   "source": [
    "forecast = []\n",
    "\n",
    "for time in range(len(time_series) - window_size):\n",
    "    prediction = model.predict(time_series[time:time+window_size].reshape(1, -1))\n",
    "    forecast.append(prediction[0][0])\n",
    "    \n",
    "result = forecast[split_time-window_size:]\n",
    "\n",
    "plt.figure(figsize=(16, 6))\n",
    "plt.plot(time_test, X_test)\n",
    "plt.plot(time_test, result)\n",
    "plt.xticks(rotation=90)\n",
    "plt.show()"
   ]
  },
  {
   "cell_type": "code",
   "execution_count": 28,
   "metadata": {
    "colab": {
     "base_uri": "https://localhost:8080/"
    },
    "id": "XEkB12vrxPl6",
    "outputId": "95d45783-3fe9-4a75-e5c1-944a39ae41f3"
   },
   "outputs": [
    {
     "name": "stdout",
     "output_type": "stream",
     "text": [
      "185.96494\n",
      "10.257263\n"
     ]
    }
   ],
   "source": [
    "print(tf.keras.metrics.mean_squared_error(X_test, result).numpy())\n",
    "print(tf.keras.metrics.mean_absolute_error(X_test, result).numpy())"
   ]
  },
  {
   "cell_type": "code",
   "execution_count": 25,
   "metadata": {
    "id": "h__lasusxPl8"
   },
   "outputs": [],
   "source": []
  }
 ],
 "metadata": {
  "accelerator": "GPU",
  "colab": {
   "collapsed_sections": [],
   "name": "041_WindowedData_Model_Performance.ipynb",
   "provenance": []
  },
  "kernelspec": {
   "display_name": "Python 3 (ipykernel)",
   "language": "python",
   "name": "python3"
  },
  "language_info": {
   "codemirror_mode": {
    "name": "ipython",
    "version": 3
   },
   "file_extension": ".py",
   "mimetype": "text/x-python",
   "name": "python",
   "nbconvert_exporter": "python",
   "pygments_lexer": "ipython3",
   "version": "3.8.12"
  }
 },
 "nbformat": 4,
 "nbformat_minor": 1
}
