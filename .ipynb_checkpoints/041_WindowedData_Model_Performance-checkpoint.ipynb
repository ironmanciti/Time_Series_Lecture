{
 "cells": [
  {
   "cell_type": "markdown",
   "metadata": {
    "id": "UQW0noetxPlq"
   },
   "source": [
    "# Time Series window data 생성 및 모델별 성능 비교\n",
    "\n",
    "1. Persistence algorithm 을 이용한 forecasting \n",
    "2. simple 1 layer NN 을 이용한 forecasting  \n",
    "3. Deep NN을  이용한 forecasting  \n",
    "4. LSTM 을  이용한 forecasting"
   ]
  },
  {
   "cell_type": "markdown",
   "metadata": {
    "id": "AAiYtx2xxPlt"
   },
   "source": [
    "## Sunspots 데이터셋을 활용하여 window_dataset 만들기"
   ]
  },
  {
   "cell_type": "code",
   "execution_count": 1,
   "metadata": {
    "colab": {
     "base_uri": "https://localhost:8080/",
     "height": 206
    },
    "id": "fu_77IlnxPlu",
    "outputId": "f2e502b2-5de0-471d-a633-d184ea701db7"
   },
   "outputs": [
    {
     "data": {
      "text/html": [
       "\n",
       "  <div id=\"df-df7f1963-37dc-4e13-8e63-a6d7e9e9fff5\">\n",
       "    <div class=\"colab-df-container\">\n",
       "      <div>\n",
       "<style scoped>\n",
       "    .dataframe tbody tr th:only-of-type {\n",
       "        vertical-align: middle;\n",
       "    }\n",
       "\n",
       "    .dataframe tbody tr th {\n",
       "        vertical-align: top;\n",
       "    }\n",
       "\n",
       "    .dataframe thead th {\n",
       "        text-align: right;\n",
       "    }\n",
       "</style>\n",
       "<table border=\"1\" class=\"dataframe\">\n",
       "  <thead>\n",
       "    <tr style=\"text-align: right;\">\n",
       "      <th></th>\n",
       "      <th>Date</th>\n",
       "      <th>Monthly Mean Total Sunspot Number</th>\n",
       "    </tr>\n",
       "  </thead>\n",
       "  <tbody>\n",
       "    <tr>\n",
       "      <th>0</th>\n",
       "      <td>1749-01-31</td>\n",
       "      <td>96.7</td>\n",
       "    </tr>\n",
       "    <tr>\n",
       "      <th>1</th>\n",
       "      <td>1749-02-28</td>\n",
       "      <td>104.3</td>\n",
       "    </tr>\n",
       "    <tr>\n",
       "      <th>2</th>\n",
       "      <td>1749-03-31</td>\n",
       "      <td>116.7</td>\n",
       "    </tr>\n",
       "    <tr>\n",
       "      <th>3</th>\n",
       "      <td>1749-04-30</td>\n",
       "      <td>92.8</td>\n",
       "    </tr>\n",
       "    <tr>\n",
       "      <th>4</th>\n",
       "      <td>1749-05-31</td>\n",
       "      <td>141.7</td>\n",
       "    </tr>\n",
       "  </tbody>\n",
       "</table>\n",
       "</div>\n",
       "      <button class=\"colab-df-convert\" onclick=\"convertToInteractive('df-df7f1963-37dc-4e13-8e63-a6d7e9e9fff5')\"\n",
       "              title=\"Convert this dataframe to an interactive table.\"\n",
       "              style=\"display:none;\">\n",
       "        \n",
       "  <svg xmlns=\"http://www.w3.org/2000/svg\" height=\"24px\"viewBox=\"0 0 24 24\"\n",
       "       width=\"24px\">\n",
       "    <path d=\"M0 0h24v24H0V0z\" fill=\"none\"/>\n",
       "    <path d=\"M18.56 5.44l.94 2.06.94-2.06 2.06-.94-2.06-.94-.94-2.06-.94 2.06-2.06.94zm-11 1L8.5 8.5l.94-2.06 2.06-.94-2.06-.94L8.5 2.5l-.94 2.06-2.06.94zm10 10l.94 2.06.94-2.06 2.06-.94-2.06-.94-.94-2.06-.94 2.06-2.06.94z\"/><path d=\"M17.41 7.96l-1.37-1.37c-.4-.4-.92-.59-1.43-.59-.52 0-1.04.2-1.43.59L10.3 9.45l-7.72 7.72c-.78.78-.78 2.05 0 2.83L4 21.41c.39.39.9.59 1.41.59.51 0 1.02-.2 1.41-.59l7.78-7.78 2.81-2.81c.8-.78.8-2.07 0-2.86zM5.41 20L4 18.59l7.72-7.72 1.47 1.35L5.41 20z\"/>\n",
       "  </svg>\n",
       "      </button>\n",
       "      \n",
       "  <style>\n",
       "    .colab-df-container {\n",
       "      display:flex;\n",
       "      flex-wrap:wrap;\n",
       "      gap: 12px;\n",
       "    }\n",
       "\n",
       "    .colab-df-convert {\n",
       "      background-color: #E8F0FE;\n",
       "      border: none;\n",
       "      border-radius: 50%;\n",
       "      cursor: pointer;\n",
       "      display: none;\n",
       "      fill: #1967D2;\n",
       "      height: 32px;\n",
       "      padding: 0 0 0 0;\n",
       "      width: 32px;\n",
       "    }\n",
       "\n",
       "    .colab-df-convert:hover {\n",
       "      background-color: #E2EBFA;\n",
       "      box-shadow: 0px 1px 2px rgba(60, 64, 67, 0.3), 0px 1px 3px 1px rgba(60, 64, 67, 0.15);\n",
       "      fill: #174EA6;\n",
       "    }\n",
       "\n",
       "    [theme=dark] .colab-df-convert {\n",
       "      background-color: #3B4455;\n",
       "      fill: #D2E3FC;\n",
       "    }\n",
       "\n",
       "    [theme=dark] .colab-df-convert:hover {\n",
       "      background-color: #434B5C;\n",
       "      box-shadow: 0px 1px 3px 1px rgba(0, 0, 0, 0.15);\n",
       "      filter: drop-shadow(0px 1px 2px rgba(0, 0, 0, 0.3));\n",
       "      fill: #FFFFFF;\n",
       "    }\n",
       "  </style>\n",
       "\n",
       "      <script>\n",
       "        const buttonEl =\n",
       "          document.querySelector('#df-df7f1963-37dc-4e13-8e63-a6d7e9e9fff5 button.colab-df-convert');\n",
       "        buttonEl.style.display =\n",
       "          google.colab.kernel.accessAllowed ? 'block' : 'none';\n",
       "\n",
       "        async function convertToInteractive(key) {\n",
       "          const element = document.querySelector('#df-df7f1963-37dc-4e13-8e63-a6d7e9e9fff5');\n",
       "          const dataTable =\n",
       "            await google.colab.kernel.invokeFunction('convertToInteractive',\n",
       "                                                     [key], {});\n",
       "          if (!dataTable) return;\n",
       "\n",
       "          const docLinkHtml = 'Like what you see? Visit the ' +\n",
       "            '<a target=\"_blank\" href=https://colab.research.google.com/notebooks/data_table.ipynb>data table notebook</a>'\n",
       "            + ' to learn more about interactive tables.';\n",
       "          element.innerHTML = '';\n",
       "          dataTable['output_type'] = 'display_data';\n",
       "          await google.colab.output.renderOutput(dataTable, element);\n",
       "          const docLink = document.createElement('div');\n",
       "          docLink.innerHTML = docLinkHtml;\n",
       "          element.appendChild(docLink);\n",
       "        }\n",
       "      </script>\n",
       "    </div>\n",
       "  </div>\n",
       "  "
      ],
      "text/plain": [
       "         Date  Monthly Mean Total Sunspot Number\n",
       "0  1749-01-31                               96.7\n",
       "1  1749-02-28                              104.3\n",
       "2  1749-03-31                              116.7\n",
       "3  1749-04-30                               92.8\n",
       "4  1749-05-31                              141.7"
      ]
     },
     "execution_count": 1,
     "metadata": {},
     "output_type": "execute_result"
    }
   ],
   "source": [
    "import tensorflow as tf\n",
    "import numpy as np\n",
    "import matplotlib.pyplot as plt\n",
    "from sklearn.metrics import mean_squared_error, mean_absolute_error\n",
    "import pandas as pd\n",
    "\n",
    "url = 'https://storage.googleapis.com/download.tensorflow.org/data/Sunspots.csv'\n",
    "df = pd.read_csv(url, skiprows=0, index_col=0) # 첫 줄은 header이므로 skip \n",
    "df.head()"
   ]
  },
  {
   "cell_type": "code",
   "execution_count": 2,
   "metadata": {
    "colab": {
     "base_uri": "https://localhost:8080/",
     "height": 206
    },
    "id": "MLlL-uZu_U9w",
    "outputId": "deb0c4da-fe49-4903-949b-ae6cc5572052"
   },
   "outputs": [
    {
     "data": {
      "text/html": [
       "\n",
       "  <div id=\"df-140d1576-5e20-4a03-adbb-18d9efa92f04\">\n",
       "    <div class=\"colab-df-container\">\n",
       "      <div>\n",
       "<style scoped>\n",
       "    .dataframe tbody tr th:only-of-type {\n",
       "        vertical-align: middle;\n",
       "    }\n",
       "\n",
       "    .dataframe tbody tr th {\n",
       "        vertical-align: top;\n",
       "    }\n",
       "\n",
       "    .dataframe thead th {\n",
       "        text-align: right;\n",
       "    }\n",
       "</style>\n",
       "<table border=\"1\" class=\"dataframe\">\n",
       "  <thead>\n",
       "    <tr style=\"text-align: right;\">\n",
       "      <th></th>\n",
       "      <th>Date</th>\n",
       "      <th>Monthly Mean Total Sunspot Number</th>\n",
       "    </tr>\n",
       "  </thead>\n",
       "  <tbody>\n",
       "    <tr>\n",
       "      <th>3230</th>\n",
       "      <td>2018-03-31</td>\n",
       "      <td>2.5</td>\n",
       "    </tr>\n",
       "    <tr>\n",
       "      <th>3231</th>\n",
       "      <td>2018-04-30</td>\n",
       "      <td>8.9</td>\n",
       "    </tr>\n",
       "    <tr>\n",
       "      <th>3232</th>\n",
       "      <td>2018-05-31</td>\n",
       "      <td>13.2</td>\n",
       "    </tr>\n",
       "    <tr>\n",
       "      <th>3233</th>\n",
       "      <td>2018-06-30</td>\n",
       "      <td>15.9</td>\n",
       "    </tr>\n",
       "    <tr>\n",
       "      <th>3234</th>\n",
       "      <td>2018-07-31</td>\n",
       "      <td>1.6</td>\n",
       "    </tr>\n",
       "  </tbody>\n",
       "</table>\n",
       "</div>\n",
       "      <button class=\"colab-df-convert\" onclick=\"convertToInteractive('df-140d1576-5e20-4a03-adbb-18d9efa92f04')\"\n",
       "              title=\"Convert this dataframe to an interactive table.\"\n",
       "              style=\"display:none;\">\n",
       "        \n",
       "  <svg xmlns=\"http://www.w3.org/2000/svg\" height=\"24px\"viewBox=\"0 0 24 24\"\n",
       "       width=\"24px\">\n",
       "    <path d=\"M0 0h24v24H0V0z\" fill=\"none\"/>\n",
       "    <path d=\"M18.56 5.44l.94 2.06.94-2.06 2.06-.94-2.06-.94-.94-2.06-.94 2.06-2.06.94zm-11 1L8.5 8.5l.94-2.06 2.06-.94-2.06-.94L8.5 2.5l-.94 2.06-2.06.94zm10 10l.94 2.06.94-2.06 2.06-.94-2.06-.94-.94-2.06-.94 2.06-2.06.94z\"/><path d=\"M17.41 7.96l-1.37-1.37c-.4-.4-.92-.59-1.43-.59-.52 0-1.04.2-1.43.59L10.3 9.45l-7.72 7.72c-.78.78-.78 2.05 0 2.83L4 21.41c.39.39.9.59 1.41.59.51 0 1.02-.2 1.41-.59l7.78-7.78 2.81-2.81c.8-.78.8-2.07 0-2.86zM5.41 20L4 18.59l7.72-7.72 1.47 1.35L5.41 20z\"/>\n",
       "  </svg>\n",
       "      </button>\n",
       "      \n",
       "  <style>\n",
       "    .colab-df-container {\n",
       "      display:flex;\n",
       "      flex-wrap:wrap;\n",
       "      gap: 12px;\n",
       "    }\n",
       "\n",
       "    .colab-df-convert {\n",
       "      background-color: #E8F0FE;\n",
       "      border: none;\n",
       "      border-radius: 50%;\n",
       "      cursor: pointer;\n",
       "      display: none;\n",
       "      fill: #1967D2;\n",
       "      height: 32px;\n",
       "      padding: 0 0 0 0;\n",
       "      width: 32px;\n",
       "    }\n",
       "\n",
       "    .colab-df-convert:hover {\n",
       "      background-color: #E2EBFA;\n",
       "      box-shadow: 0px 1px 2px rgba(60, 64, 67, 0.3), 0px 1px 3px 1px rgba(60, 64, 67, 0.15);\n",
       "      fill: #174EA6;\n",
       "    }\n",
       "\n",
       "    [theme=dark] .colab-df-convert {\n",
       "      background-color: #3B4455;\n",
       "      fill: #D2E3FC;\n",
       "    }\n",
       "\n",
       "    [theme=dark] .colab-df-convert:hover {\n",
       "      background-color: #434B5C;\n",
       "      box-shadow: 0px 1px 3px 1px rgba(0, 0, 0, 0.15);\n",
       "      filter: drop-shadow(0px 1px 2px rgba(0, 0, 0, 0.3));\n",
       "      fill: #FFFFFF;\n",
       "    }\n",
       "  </style>\n",
       "\n",
       "      <script>\n",
       "        const buttonEl =\n",
       "          document.querySelector('#df-140d1576-5e20-4a03-adbb-18d9efa92f04 button.colab-df-convert');\n",
       "        buttonEl.style.display =\n",
       "          google.colab.kernel.accessAllowed ? 'block' : 'none';\n",
       "\n",
       "        async function convertToInteractive(key) {\n",
       "          const element = document.querySelector('#df-140d1576-5e20-4a03-adbb-18d9efa92f04');\n",
       "          const dataTable =\n",
       "            await google.colab.kernel.invokeFunction('convertToInteractive',\n",
       "                                                     [key], {});\n",
       "          if (!dataTable) return;\n",
       "\n",
       "          const docLinkHtml = 'Like what you see? Visit the ' +\n",
       "            '<a target=\"_blank\" href=https://colab.research.google.com/notebooks/data_table.ipynb>data table notebook</a>'\n",
       "            + ' to learn more about interactive tables.';\n",
       "          element.innerHTML = '';\n",
       "          dataTable['output_type'] = 'display_data';\n",
       "          await google.colab.output.renderOutput(dataTable, element);\n",
       "          const docLink = document.createElement('div');\n",
       "          docLink.innerHTML = docLinkHtml;\n",
       "          element.appendChild(docLink);\n",
       "        }\n",
       "      </script>\n",
       "    </div>\n",
       "  </div>\n",
       "  "
      ],
      "text/plain": [
       "            Date  Monthly Mean Total Sunspot Number\n",
       "3230  2018-03-31                                2.5\n",
       "3231  2018-04-30                                8.9\n",
       "3232  2018-05-31                               13.2\n",
       "3233  2018-06-30                               15.9\n",
       "3234  2018-07-31                                1.6"
      ]
     },
     "execution_count": 2,
     "metadata": {},
     "output_type": "execute_result"
    }
   ],
   "source": [
    "df.tail()"
   ]
  },
  {
   "cell_type": "code",
   "execution_count": 3,
   "metadata": {
    "colab": {
     "base_uri": "https://localhost:8080/"
    },
    "id": "aaOaquF7_alz",
    "outputId": "f6a3554c-020d-4a60-b1f6-dbd914540b0f"
   },
   "outputs": [
    {
     "name": "stdout",
     "output_type": "stream",
     "text": [
      "<class 'pandas.core.frame.DataFrame'>\n",
      "Int64Index: 3235 entries, 0 to 3234\n",
      "Data columns (total 2 columns):\n",
      " #   Column                             Non-Null Count  Dtype  \n",
      "---  ------                             --------------  -----  \n",
      " 0   Date                               3235 non-null   object \n",
      " 1   Monthly Mean Total Sunspot Number  3235 non-null   float64\n",
      "dtypes: float64(1), object(1)\n",
      "memory usage: 75.8+ KB\n"
     ]
    }
   ],
   "source": [
    "df.info()"
   ]
  },
  {
   "cell_type": "markdown",
   "metadata": {
    "id": "Xzgj5nhFFPUS"
   },
   "source": [
    "- 시간 절약을 위해 최근 500 개월치 data 만 이용"
   ]
  },
  {
   "cell_type": "code",
   "execution_count": 4,
   "metadata": {
    "colab": {
     "base_uri": "https://localhost:8080/"
    },
    "id": "pOHj-Sj6Bxq0",
    "outputId": "05f72f37-94e9-4d01-f90e-c9f3d982930e"
   },
   "outputs": [
    {
     "data": {
      "text/plain": [
       "((500,), (500,))"
      ]
     },
     "execution_count": 4,
     "metadata": {},
     "output_type": "execute_result"
    }
   ],
   "source": [
    "time = df.iloc[-500:, 0].values\n",
    "time_series = df.iloc[-500:, 1].values\n",
    "time.shape, time_series.shape"
   ]
  },
  {
   "cell_type": "markdown",
   "metadata": {
    "id": "szHb65PCxPlw"
   },
   "source": [
    "## Supervised Learning dataset 작성"
   ]
  },
  {
   "cell_type": "code",
   "execution_count": 5,
   "metadata": {
    "id": "wpH3xVcJxPlw"
   },
   "outputs": [],
   "source": [
    "def windowed_dataset(series, window_size, batch_size, shuffle_buffer):\n",
    "    ds = tf.data.Dataset.from_tensor_slices(series)\n",
    "    ds = ds.window(window_size+1, shift=1, drop_remainder=True)\n",
    "    ds = ds.flat_map(lambda w: w.batch(window_size+1))\n",
    "    ds = ds.shuffle(shuffle_buffer).map(lambda w: (w[:-1], w[-1]))\n",
    "    ds = ds.batch(batch_size).prefetch(1)\n",
    "    return ds"
   ]
  },
  {
   "cell_type": "markdown",
   "metadata": {
    "id": "snCcd5ZnxPlx"
   },
   "source": [
    "### train/validation set 분리"
   ]
  },
  {
   "cell_type": "code",
   "execution_count": 6,
   "metadata": {
    "colab": {
     "base_uri": "https://localhost:8080/"
    },
    "id": "8HuXVml6xPlx",
    "outputId": "036cce6d-5157-420c-9b5e-f44e33fb943f"
   },
   "outputs": [
    {
     "data": {
      "text/plain": [
       "(450, 50, 450, 50)"
      ]
     },
     "execution_count": 6,
     "metadata": {},
     "output_type": "execute_result"
    }
   ],
   "source": [
    "split_time = 450\n",
    "\n",
    "time_train = time[:split_time]\n",
    "time_test = time[split_time:]\n",
    "\n",
    "X_train = time_series[:split_time]\n",
    "X_test  = time_series[split_time:]\n",
    "\n",
    "len(time_train), len(time_test), len(X_train), len(X_test)"
   ]
  },
  {
   "cell_type": "code",
   "execution_count": 7,
   "metadata": {
    "colab": {
     "base_uri": "https://localhost:8080/"
    },
    "id": "Gep8OGvZxPly",
    "outputId": "f6d44b43-3869-4466-e4fe-5ad314883b6d"
   },
   "outputs": [
    {
     "data": {
      "text/plain": [
       "<PrefetchDataset element_spec=(TensorSpec(shape=(None, None), dtype=tf.float64, name=None), TensorSpec(shape=(None,), dtype=tf.float64, name=None))>"
      ]
     },
     "execution_count": 7,
     "metadata": {},
     "output_type": "execute_result"
    }
   ],
   "source": [
    "window_size = 20\n",
    "batch_size = 16\n",
    "shuffle_buffer_size = 1000\n",
    "\n",
    "train_ds = windowed_dataset(X_train, window_size, batch_size, shuffle_buffer_size)\n",
    "train_ds"
   ]
  },
  {
   "cell_type": "code",
   "execution_count": 8,
   "metadata": {
    "colab": {
     "base_uri": "https://localhost:8080/"
    },
    "id": "R8EwGzPPxPlz",
    "outputId": "9096a831-5268-4ee6-a55d-6ec92a17a5a2"
   },
   "outputs": [
    {
     "name": "stdout",
     "output_type": "stream",
     "text": [
      "x =  (16, 20)\n",
      "y =  (16,)\n"
     ]
    }
   ],
   "source": [
    "for x, y in train_ds:\n",
    "    print('x = ', x.numpy().shape)\n",
    "    print('y = ', y.numpy().shape)\n",
    "    break"
   ]
  },
  {
   "cell_type": "markdown",
   "metadata": {
    "id": "b1inEBhqxPlz"
   },
   "source": [
    "## 1. Persistence algorithm 을 이용한 forecasting \n",
    "\n",
    "- Persistence Algorithm : last value 를 next value 로 예측에 사용"
   ]
  },
  {
   "cell_type": "code",
   "execution_count": 9,
   "metadata": {
    "colab": {
     "base_uri": "https://localhost:8080/"
    },
    "id": "J5qjNZGSxPl0",
    "outputId": "24fd2311-5fcd-4c22-9d67-001911f31027"
   },
   "outputs": [
    {
     "data": {
      "text/plain": [
       "array([112.5, 102.9, 100.2, 106.9, 130. ,  90. , 103.6, 112.9,  93. ,\n",
       "        66.7])"
      ]
     },
     "execution_count": 9,
     "metadata": {},
     "output_type": "execute_result"
    }
   ],
   "source": [
    "naive_forecast = time_series[split_time-1:-1]\n",
    "naive_forecast[:10]"
   ]
  },
  {
   "cell_type": "code",
   "execution_count": 10,
   "metadata": {
    "colab": {
     "base_uri": "https://localhost:8080/"
    },
    "id": "T3WscWHtxPl0",
    "outputId": "0a03262d-af88-4443-d6c6-3d6e8c1d1b2f"
   },
   "outputs": [
    {
     "data": {
      "text/plain": [
       "array([102.9, 100.2, 106.9, 130. ,  90. , 103.6, 112.9,  93. ,  66.7,\n",
       "        54.5])"
      ]
     },
     "execution_count": 10,
     "metadata": {},
     "output_type": "execute_result"
    }
   ],
   "source": [
    "X_test[:10]"
   ]
  },
  {
   "cell_type": "code",
   "execution_count": 11,
   "metadata": {
    "colab": {
     "base_uri": "https://localhost:8080/"
    },
    "id": "0Exuvfs5xPl0",
    "outputId": "d75c9d18-6cb7-43d7-f8a0-20348317807b"
   },
   "outputs": [
    {
     "name": "stdout",
     "output_type": "stream",
     "text": [
      "194.96940000000004\n",
      "10.737999999999998\n"
     ]
    }
   ],
   "source": [
    "print(mean_squared_error(X_test, naive_forecast))\n",
    "print(mean_absolute_error(X_test, naive_forecast))"
   ]
  },
  {
   "cell_type": "markdown",
   "metadata": {
    "id": "bpgtR6o2xPl1"
   },
   "source": [
    "## 2. simple 1 layer NN 을 이용한 forecasting - Linear Regression"
   ]
  },
  {
   "cell_type": "code",
   "execution_count": 12,
   "metadata": {
    "colab": {
     "base_uri": "https://localhost:8080/"
    },
    "id": "uPhhyxbGxPl1",
    "outputId": "d6ed0a94-30cc-43cf-cfde-ccb9ca5b9b83"
   },
   "outputs": [
    {
     "name": "stdout",
     "output_type": "stream",
     "text": [
      "Epoch 1/100\n",
      "27/27 [==============================] - 1s 16ms/step - loss: 19461.9375\n",
      "Epoch 2/100\n",
      "27/27 [==============================] - 0s 3ms/step - loss: 9200.7422\n",
      "Epoch 3/100\n",
      "27/27 [==============================] - 0s 5ms/step - loss: 5159.7705\n",
      "Epoch 4/100\n",
      "27/27 [==============================] - 0s 4ms/step - loss: 4101.7944\n",
      "Epoch 5/100\n",
      "27/27 [==============================] - 0s 4ms/step - loss: 3833.3262\n",
      "Epoch 6/100\n",
      "27/27 [==============================] - 0s 4ms/step - loss: 3692.5588\n",
      "Epoch 7/100\n",
      "27/27 [==============================] - 0s 4ms/step - loss: 3575.5720\n",
      "Epoch 8/100\n",
      "27/27 [==============================] - 0s 7ms/step - loss: 3441.2087\n",
      "Epoch 9/100\n",
      "27/27 [==============================] - 0s 4ms/step - loss: 3312.9817\n",
      "Epoch 10/100\n",
      "27/27 [==============================] - 0s 4ms/step - loss: 3185.9143\n",
      "Epoch 11/100\n",
      "27/27 [==============================] - 0s 4ms/step - loss: 3081.6094\n",
      "Epoch 12/100\n",
      "27/27 [==============================] - 0s 4ms/step - loss: 2947.2588\n",
      "Epoch 13/100\n",
      "27/27 [==============================] - 0s 7ms/step - loss: 2826.6643\n",
      "Epoch 14/100\n",
      "27/27 [==============================] - 0s 3ms/step - loss: 2721.9302\n",
      "Epoch 15/100\n",
      "27/27 [==============================] - 0s 5ms/step - loss: 2619.3445\n",
      "Epoch 16/100\n",
      "27/27 [==============================] - 0s 5ms/step - loss: 2526.8074\n",
      "Epoch 17/100\n",
      "27/27 [==============================] - 0s 7ms/step - loss: 2440.4941\n",
      "Epoch 18/100\n",
      "27/27 [==============================] - 0s 5ms/step - loss: 2359.0740\n",
      "Epoch 19/100\n",
      "27/27 [==============================] - 0s 4ms/step - loss: 2282.7400\n",
      "Epoch 20/100\n",
      "27/27 [==============================] - 0s 4ms/step - loss: 2210.2439\n",
      "Epoch 21/100\n",
      "27/27 [==============================] - 0s 4ms/step - loss: 2152.0278\n",
      "Epoch 22/100\n",
      "27/27 [==============================] - 0s 4ms/step - loss: 2088.4778\n",
      "Epoch 23/100\n",
      "27/27 [==============================] - 0s 5ms/step - loss: 2031.3218\n",
      "Epoch 24/100\n",
      "27/27 [==============================] - 0s 4ms/step - loss: 1985.9771\n",
      "Epoch 25/100\n",
      "27/27 [==============================] - 0s 4ms/step - loss: 1941.9744\n",
      "Epoch 26/100\n",
      "27/27 [==============================] - 0s 4ms/step - loss: 1895.2083\n",
      "Epoch 27/100\n",
      "27/27 [==============================] - 0s 6ms/step - loss: 1856.9504\n",
      "Epoch 28/100\n",
      "27/27 [==============================] - 0s 5ms/step - loss: 1828.9983\n",
      "Epoch 29/100\n",
      "27/27 [==============================] - 0s 5ms/step - loss: 1792.3523\n",
      "Epoch 30/100\n",
      "27/27 [==============================] - 0s 5ms/step - loss: 1761.2172\n",
      "Epoch 31/100\n",
      "27/27 [==============================] - 0s 7ms/step - loss: 1740.7343\n",
      "Epoch 32/100\n",
      "27/27 [==============================] - 0s 5ms/step - loss: 1714.1530\n",
      "Epoch 33/100\n",
      "27/27 [==============================] - 0s 4ms/step - loss: 1684.6746\n",
      "Epoch 34/100\n",
      "27/27 [==============================] - 0s 7ms/step - loss: 1670.2035\n",
      "Epoch 35/100\n",
      "27/27 [==============================] - 0s 4ms/step - loss: 1654.7183\n",
      "Epoch 36/100\n",
      "27/27 [==============================] - 0s 5ms/step - loss: 1634.8066\n",
      "Epoch 37/100\n",
      "27/27 [==============================] - 0s 5ms/step - loss: 1614.7396\n",
      "Epoch 38/100\n",
      "27/27 [==============================] - 0s 6ms/step - loss: 1592.6624\n",
      "Epoch 39/100\n",
      "27/27 [==============================] - 0s 3ms/step - loss: 1582.1041\n",
      "Epoch 40/100\n",
      "27/27 [==============================] - 0s 3ms/step - loss: 1586.3966\n",
      "Epoch 41/100\n",
      "27/27 [==============================] - 0s 8ms/step - loss: 1567.1316\n",
      "Epoch 42/100\n",
      "27/27 [==============================] - 0s 5ms/step - loss: 1562.2643\n",
      "Epoch 43/100\n",
      "27/27 [==============================] - 0s 4ms/step - loss: 1528.4628\n",
      "Epoch 44/100\n",
      "27/27 [==============================] - 0s 4ms/step - loss: 1527.5059\n",
      "Epoch 45/100\n",
      "27/27 [==============================] - 0s 5ms/step - loss: 1501.7231\n",
      "Epoch 46/100\n",
      "27/27 [==============================] - 0s 5ms/step - loss: 1488.9709\n",
      "Epoch 47/100\n",
      "27/27 [==============================] - 0s 4ms/step - loss: 1483.1548\n",
      "Epoch 48/100\n",
      "27/27 [==============================] - 0s 4ms/step - loss: 1475.0851\n",
      "Epoch 49/100\n",
      "27/27 [==============================] - 0s 4ms/step - loss: 1468.0344\n",
      "Epoch 50/100\n",
      "27/27 [==============================] - 0s 6ms/step - loss: 1445.5360\n",
      "Epoch 51/100\n",
      "27/27 [==============================] - 0s 4ms/step - loss: 1438.9639\n",
      "Epoch 52/100\n",
      "27/27 [==============================] - 0s 4ms/step - loss: 1422.0635\n",
      "Epoch 53/100\n",
      "27/27 [==============================] - 0s 5ms/step - loss: 1417.2583\n",
      "Epoch 54/100\n",
      "27/27 [==============================] - 0s 4ms/step - loss: 1417.2386\n",
      "Epoch 55/100\n",
      "27/27 [==============================] - 0s 6ms/step - loss: 1406.8260\n",
      "Epoch 56/100\n",
      "27/27 [==============================] - 0s 4ms/step - loss: 1392.0524\n",
      "Epoch 57/100\n",
      "27/27 [==============================] - 0s 4ms/step - loss: 1381.5785\n",
      "Epoch 58/100\n",
      "27/27 [==============================] - 0s 4ms/step - loss: 1365.0631\n",
      "Epoch 59/100\n",
      "27/27 [==============================] - 0s 5ms/step - loss: 1361.5076\n",
      "Epoch 60/100\n",
      "27/27 [==============================] - 0s 6ms/step - loss: 1361.5101\n",
      "Epoch 61/100\n",
      "27/27 [==============================] - 0s 4ms/step - loss: 1351.4767\n",
      "Epoch 62/100\n",
      "27/27 [==============================] - 0s 4ms/step - loss: 1327.7889\n",
      "Epoch 63/100\n",
      "27/27 [==============================] - 0s 4ms/step - loss: 1329.1293\n",
      "Epoch 64/100\n",
      "27/27 [==============================] - 0s 4ms/step - loss: 1314.1831\n",
      "Epoch 65/100\n",
      "27/27 [==============================] - 0s 5ms/step - loss: 1311.4939\n",
      "Epoch 66/100\n",
      "27/27 [==============================] - 0s 4ms/step - loss: 1290.1567\n",
      "Epoch 67/100\n",
      "27/27 [==============================] - 0s 4ms/step - loss: 1284.8230\n",
      "Epoch 68/100\n",
      "27/27 [==============================] - 0s 4ms/step - loss: 1275.6342\n",
      "Epoch 69/100\n",
      "27/27 [==============================] - 0s 5ms/step - loss: 1271.4613\n",
      "Epoch 70/100\n",
      "27/27 [==============================] - 0s 3ms/step - loss: 1265.0359\n",
      "Epoch 71/100\n",
      "27/27 [==============================] - 0s 3ms/step - loss: 1252.2285\n",
      "Epoch 72/100\n",
      "27/27 [==============================] - 0s 5ms/step - loss: 1248.5933\n",
      "Epoch 73/100\n",
      "27/27 [==============================] - 0s 4ms/step - loss: 1236.4681\n",
      "Epoch 74/100\n",
      "27/27 [==============================] - 0s 3ms/step - loss: 1224.2994\n",
      "Epoch 75/100\n",
      "27/27 [==============================] - 0s 7ms/step - loss: 1222.3354\n",
      "Epoch 76/100\n",
      "27/27 [==============================] - 0s 4ms/step - loss: 1209.4553\n",
      "Epoch 77/100\n",
      "27/27 [==============================] - 0s 3ms/step - loss: 1201.9742\n",
      "Epoch 78/100\n",
      "27/27 [==============================] - 0s 2ms/step - loss: 1193.7380\n",
      "Epoch 79/100\n",
      "27/27 [==============================] - 0s 3ms/step - loss: 1181.4987\n",
      "Epoch 80/100\n",
      "27/27 [==============================] - 0s 2ms/step - loss: 1183.4216\n",
      "Epoch 81/100\n",
      "27/27 [==============================] - 0s 3ms/step - loss: 1167.3699\n",
      "Epoch 82/100\n",
      "27/27 [==============================] - 0s 2ms/step - loss: 1160.3130\n",
      "Epoch 83/100\n",
      "27/27 [==============================] - 0s 3ms/step - loss: 1156.6506\n",
      "Epoch 84/100\n",
      "27/27 [==============================] - 0s 2ms/step - loss: 1147.8915\n",
      "Epoch 85/100\n",
      "27/27 [==============================] - 0s 3ms/step - loss: 1130.2964\n",
      "Epoch 86/100\n",
      "27/27 [==============================] - 0s 2ms/step - loss: 1131.0527\n",
      "Epoch 87/100\n",
      "27/27 [==============================] - 0s 2ms/step - loss: 1121.8339\n",
      "Epoch 88/100\n",
      "27/27 [==============================] - 0s 2ms/step - loss: 1114.5540\n",
      "Epoch 89/100\n",
      "27/27 [==============================] - 0s 2ms/step - loss: 1115.8374\n",
      "Epoch 90/100\n",
      "27/27 [==============================] - 0s 3ms/step - loss: 1105.9181\n",
      "Epoch 91/100\n",
      "27/27 [==============================] - 0s 2ms/step - loss: 1098.0231\n",
      "Epoch 92/100\n",
      "27/27 [==============================] - 0s 3ms/step - loss: 1082.5055\n",
      "Epoch 93/100\n",
      "27/27 [==============================] - 0s 3ms/step - loss: 1068.7369\n",
      "Epoch 94/100\n",
      "27/27 [==============================] - 0s 2ms/step - loss: 1066.4854\n",
      "Epoch 95/100\n",
      "27/27 [==============================] - 0s 2ms/step - loss: 1078.6431\n",
      "Epoch 96/100\n",
      "27/27 [==============================] - 0s 2ms/step - loss: 1058.7737\n",
      "Epoch 97/100\n",
      "27/27 [==============================] - 0s 2ms/step - loss: 1045.8771\n",
      "Epoch 98/100\n",
      "27/27 [==============================] - 0s 2ms/step - loss: 1041.7118\n",
      "Epoch 99/100\n",
      "27/27 [==============================] - 0s 2ms/step - loss: 1032.5837\n",
      "Epoch 100/100\n",
      "27/27 [==============================] - 0s 3ms/step - loss: 1024.2324\n"
     ]
    },
    {
     "data": {
      "text/plain": [
       "<keras.callbacks.History at 0x7f850058d6d0>"
      ]
     },
     "execution_count": 12,
     "metadata": {},
     "output_type": "execute_result"
    }
   ],
   "source": [
    "model = tf.keras.models.Sequential([\n",
    "    tf.keras.layers.Dense(1, input_shape=[window_size])\n",
    "])\n",
    "\n",
    "model.compile(loss='mse', optimizer='adam')\n",
    "model.fit(train_ds, epochs=100, verbose=1)"
   ]
  },
  {
   "cell_type": "code",
   "execution_count": 13,
   "metadata": {
    "colab": {
     "base_uri": "https://localhost:8080/"
    },
    "id": "lQy2xjnMxPl1",
    "outputId": "b0e369b9-88a2-4ed0-8df1-104b680a21d1"
   },
   "outputs": [
    {
     "data": {
      "text/plain": [
       "[110.17253,\n",
       " 122.9208,\n",
       " 133.32658,\n",
       " 134.4032,\n",
       " 88.832954,\n",
       " 124.4955,\n",
       " 104.42283,\n",
       " 82.920334,\n",
       " 95.09524,\n",
       " 97.37655]"
      ]
     },
     "execution_count": 13,
     "metadata": {},
     "output_type": "execute_result"
    }
   ],
   "source": [
    "forecast = []\n",
    "\n",
    "for time in range(len(time_series) - window_size):\n",
    "    prediction = model.predict(time_series[time:time+window_size].reshape(1, -1))\n",
    "    forecast.append(prediction[0][0])\n",
    "    \n",
    "result = forecast[split_time-window_size:]\n",
    "result[:10]"
   ]
  },
  {
   "cell_type": "code",
   "execution_count": 14,
   "metadata": {
    "colab": {
     "base_uri": "https://localhost:8080/",
     "height": 424
    },
    "id": "fwDIkE6FxPl2",
    "outputId": "9b9efe36-9a74-44d8-a0af-696debb5b3f4"
   },
   "outputs": [
    {
     "data": {
      "image/png": "[encoded data removed]",
      "text/plain": [
       "<Figure size 1152x432 with 1 Axes>"
      ]
     },
     "metadata": {
      "needs_background": "light"
     },
     "output_type": "display_data"
    }
   ],
   "source": [
    "plt.figure(figsize=(16, 6))\n",
    "plt.plot(time_test, X_test)\n",
    "plt.plot(time_test, result)\n",
    "plt.xticks(rotation=90)\n",
    "plt.show()"
   ]
  },
  {
   "cell_type": "code",
   "execution_count": 15,
   "metadata": {
    "colab": {
     "base_uri": "https://localhost:8080/"
    },
    "id": "CuDrYtF6xPl2",
    "outputId": "528c069b-a7fd-48a2-b5d9-3c8172643505"
   },
   "outputs": [
    {
     "name": "stdout",
     "output_type": "stream",
     "text": [
      "293.88947\n",
      "12.988592\n"
     ]
    }
   ],
   "source": [
    "print(tf.keras.metrics.mean_squared_error(X_test, result).numpy())\n",
    "print(tf.keras.metrics.mean_absolute_error(X_test, result).numpy())"
   ]
  },
  {
   "cell_type": "markdown",
   "metadata": {
    "id": "RAm7Bf5ExPl3"
   },
   "source": [
    "## 3. Deep NN을  이용한 forecasting"
   ]
  },
  {
   "cell_type": "code",
   "execution_count": 16,
   "metadata": {
    "colab": {
     "base_uri": "https://localhost:8080/"
    },
    "id": "tXUMvlomxPl3",
    "outputId": "e0601e34-c210-4a78-f3ef-a33452985f60"
   },
   "outputs": [
    {
     "name": "stdout",
     "output_type": "stream",
     "text": [
      "Epoch 1/100\n",
      "27/27 [==============================] - 0s 3ms/step - loss: 1027.9253\n",
      "Epoch 2/100\n",
      "27/27 [==============================] - 0s 3ms/step - loss: 818.4254\n",
      "Epoch 3/100\n",
      "27/27 [==============================] - 0s 3ms/step - loss: 772.4809\n",
      "Epoch 4/100\n",
      "27/27 [==============================] - 0s 3ms/step - loss: 827.0043\n",
      "Epoch 5/100\n",
      "27/27 [==============================] - 0s 3ms/step - loss: 698.3311\n",
      "Epoch 6/100\n",
      "27/27 [==============================] - 0s 3ms/step - loss: 708.2911\n",
      "Epoch 7/100\n",
      "27/27 [==============================] - 0s 3ms/step - loss: 647.8121\n",
      "Epoch 8/100\n",
      "27/27 [==============================] - 0s 3ms/step - loss: 718.9292\n",
      "Epoch 9/100\n",
      "27/27 [==============================] - 0s 3ms/step - loss: 700.6063\n",
      "Epoch 10/100\n",
      "27/27 [==============================] - 0s 3ms/step - loss: 634.0743\n",
      "Epoch 11/100\n",
      "27/27 [==============================] - 0s 3ms/step - loss: 615.0106\n",
      "Epoch 12/100\n",
      "27/27 [==============================] - 0s 3ms/step - loss: 625.2106\n",
      "Epoch 13/100\n",
      "27/27 [==============================] - 0s 3ms/step - loss: 595.6884\n",
      "Epoch 14/100\n",
      "27/27 [==============================] - 0s 3ms/step - loss: 583.0563\n",
      "Epoch 15/100\n",
      "27/27 [==============================] - 0s 3ms/step - loss: 683.4709\n",
      "Epoch 16/100\n",
      "27/27 [==============================] - 0s 3ms/step - loss: 572.5068\n",
      "Epoch 17/100\n",
      "27/27 [==============================] - 0s 3ms/step - loss: 588.8952\n",
      "Epoch 18/100\n",
      "27/27 [==============================] - 0s 3ms/step - loss: 582.6093\n",
      "Epoch 19/100\n",
      "27/27 [==============================] - 0s 3ms/step - loss: 613.4661\n",
      "Epoch 20/100\n",
      "27/27 [==============================] - 0s 3ms/step - loss: 644.5922\n",
      "Epoch 21/100\n",
      "27/27 [==============================] - 0s 3ms/step - loss: 661.1965\n",
      "Epoch 22/100\n",
      "27/27 [==============================] - 0s 3ms/step - loss: 583.5502\n",
      "Epoch 23/100\n",
      "27/27 [==============================] - 0s 3ms/step - loss: 595.6168\n",
      "Epoch 24/100\n",
      "27/27 [==============================] - 0s 3ms/step - loss: 568.3832\n",
      "Epoch 25/100\n",
      "27/27 [==============================] - 0s 3ms/step - loss: 621.6110\n",
      "Epoch 26/100\n",
      "27/27 [==============================] - 0s 3ms/step - loss: 553.0550\n",
      "Epoch 27/100\n",
      "27/27 [==============================] - 0s 3ms/step - loss: 544.3417\n",
      "Epoch 28/100\n",
      "27/27 [==============================] - 0s 3ms/step - loss: 539.8810\n",
      "Epoch 29/100\n",
      "27/27 [==============================] - 0s 3ms/step - loss: 577.4881\n",
      "Epoch 30/100\n",
      "27/27 [==============================] - 0s 3ms/step - loss: 573.6472\n",
      "Epoch 31/100\n",
      "27/27 [==============================] - 0s 3ms/step - loss: 547.4547\n",
      "Epoch 32/100\n",
      "27/27 [==============================] - 0s 3ms/step - loss: 579.3442\n",
      "Epoch 33/100\n",
      "27/27 [==============================] - 0s 3ms/step - loss: 580.5281\n",
      "Epoch 34/100\n",
      "27/27 [==============================] - 0s 3ms/step - loss: 523.3232\n",
      "Epoch 35/100\n",
      "27/27 [==============================] - 0s 3ms/step - loss: 508.4240\n",
      "Epoch 36/100\n",
      "27/27 [==============================] - 0s 3ms/step - loss: 546.4946\n",
      "Epoch 37/100\n",
      "27/27 [==============================] - 0s 3ms/step - loss: 533.6287\n",
      "Epoch 38/100\n",
      "27/27 [==============================] - 0s 3ms/step - loss: 527.4310\n",
      "Epoch 39/100\n",
      "27/27 [==============================] - 0s 3ms/step - loss: 516.1298\n",
      "Epoch 40/100\n",
      "27/27 [==============================] - 0s 3ms/step - loss: 500.7902\n",
      "Epoch 41/100\n",
      "27/27 [==============================] - 0s 3ms/step - loss: 484.5714\n",
      "Epoch 42/100\n",
      "27/27 [==============================] - 0s 3ms/step - loss: 520.0056\n",
      "Epoch 43/100\n",
      "27/27 [==============================] - 0s 3ms/step - loss: 522.3479\n",
      "Epoch 44/100\n",
      "27/27 [==============================] - 0s 3ms/step - loss: 544.6901\n",
      "Epoch 45/100\n",
      "27/27 [==============================] - 0s 3ms/step - loss: 537.5853\n",
      "Epoch 46/100\n",
      "27/27 [==============================] - 0s 3ms/step - loss: 497.1132\n",
      "Epoch 47/100\n",
      "27/27 [==============================] - 0s 3ms/step - loss: 484.0046\n",
      "Epoch 48/100\n",
      "27/27 [==============================] - 0s 3ms/step - loss: 507.8310\n",
      "Epoch 49/100\n",
      "27/27 [==============================] - 0s 3ms/step - loss: 474.2318\n",
      "Epoch 50/100\n",
      "27/27 [==============================] - 0s 3ms/step - loss: 471.0921\n",
      "Epoch 51/100\n",
      "27/27 [==============================] - 0s 3ms/step - loss: 498.3640\n",
      "Epoch 52/100\n",
      "27/27 [==============================] - 0s 2ms/step - loss: 455.3422\n",
      "Epoch 53/100\n",
      "27/27 [==============================] - 0s 3ms/step - loss: 536.0744\n",
      "Epoch 54/100\n",
      "27/27 [==============================] - 0s 3ms/step - loss: 526.2759\n",
      "Epoch 55/100\n",
      "27/27 [==============================] - 0s 3ms/step - loss: 462.0387\n",
      "Epoch 56/100\n",
      "27/27 [==============================] - 0s 3ms/step - loss: 447.9331\n",
      "Epoch 57/100\n",
      "27/27 [==============================] - 0s 3ms/step - loss: 461.7412\n",
      "Epoch 58/100\n",
      "27/27 [==============================] - 0s 3ms/step - loss: 480.6722\n",
      "Epoch 59/100\n",
      "27/27 [==============================] - 0s 2ms/step - loss: 461.9915\n",
      "Epoch 60/100\n",
      "27/27 [==============================] - 0s 3ms/step - loss: 439.2524\n",
      "Epoch 61/100\n",
      "27/27 [==============================] - 0s 3ms/step - loss: 424.9204\n",
      "Epoch 62/100\n",
      "27/27 [==============================] - 0s 3ms/step - loss: 439.8695\n",
      "Epoch 63/100\n",
      "27/27 [==============================] - 0s 3ms/step - loss: 482.1775\n",
      "Epoch 64/100\n",
      "27/27 [==============================] - 0s 3ms/step - loss: 431.5633\n",
      "Epoch 65/100\n",
      "27/27 [==============================] - 0s 3ms/step - loss: 423.3028\n",
      "Epoch 66/100\n",
      "27/27 [==============================] - 0s 3ms/step - loss: 470.4098\n",
      "Epoch 67/100\n",
      "27/27 [==============================] - 0s 3ms/step - loss: 442.8609\n",
      "Epoch 68/100\n",
      "27/27 [==============================] - 0s 3ms/step - loss: 393.7822\n",
      "Epoch 69/100\n",
      "27/27 [==============================] - 0s 2ms/step - loss: 401.4129\n",
      "Epoch 70/100\n",
      "27/27 [==============================] - 0s 3ms/step - loss: 398.5415\n",
      "Epoch 71/100\n",
      "27/27 [==============================] - 0s 3ms/step - loss: 440.6924\n",
      "Epoch 72/100\n",
      "27/27 [==============================] - 0s 3ms/step - loss: 393.6679\n",
      "Epoch 73/100\n",
      "27/27 [==============================] - 0s 3ms/step - loss: 486.0694\n",
      "Epoch 74/100\n",
      "27/27 [==============================] - 0s 3ms/step - loss: 459.2007\n",
      "Epoch 75/100\n",
      "27/27 [==============================] - 0s 3ms/step - loss: 430.3348\n",
      "Epoch 76/100\n",
      "27/27 [==============================] - 0s 3ms/step - loss: 424.8120\n",
      "Epoch 77/100\n",
      "27/27 [==============================] - 0s 3ms/step - loss: 371.9905\n",
      "Epoch 78/100\n",
      "27/27 [==============================] - 0s 3ms/step - loss: 410.2488\n",
      "Epoch 79/100\n",
      "27/27 [==============================] - 0s 3ms/step - loss: 383.5206\n",
      "Epoch 80/100\n",
      "27/27 [==============================] - 0s 3ms/step - loss: 362.3212\n",
      "Epoch 81/100\n",
      "27/27 [==============================] - 0s 2ms/step - loss: 382.3119\n",
      "Epoch 82/100\n",
      "27/27 [==============================] - 0s 3ms/step - loss: 404.2186\n",
      "Epoch 83/100\n",
      "27/27 [==============================] - 0s 3ms/step - loss: 364.3285\n",
      "Epoch 84/100\n",
      "27/27 [==============================] - 0s 3ms/step - loss: 421.8606\n",
      "Epoch 85/100\n",
      "27/27 [==============================] - 0s 3ms/step - loss: 368.3527\n",
      "Epoch 86/100\n",
      "27/27 [==============================] - 0s 3ms/step - loss: 402.2826\n",
      "Epoch 87/100\n",
      "27/27 [==============================] - 0s 3ms/step - loss: 397.7527\n",
      "Epoch 88/100\n",
      "27/27 [==============================] - 0s 3ms/step - loss: 365.8571\n",
      "Epoch 89/100\n",
      "27/27 [==============================] - 0s 2ms/step - loss: 389.3409\n",
      "Epoch 90/100\n",
      "27/27 [==============================] - 0s 3ms/step - loss: 414.8673\n",
      "Epoch 91/100\n",
      "27/27 [==============================] - 0s 3ms/step - loss: 430.5229\n",
      "Epoch 92/100\n",
      "27/27 [==============================] - 0s 3ms/step - loss: 334.5522\n",
      "Epoch 93/100\n",
      "27/27 [==============================] - 0s 3ms/step - loss: 327.1408\n",
      "Epoch 94/100\n",
      "27/27 [==============================] - 0s 3ms/step - loss: 337.6248\n",
      "Epoch 95/100\n",
      "27/27 [==============================] - 0s 3ms/step - loss: 330.3102\n",
      "Epoch 96/100\n",
      "27/27 [==============================] - 0s 3ms/step - loss: 399.2965\n",
      "Epoch 97/100\n",
      "27/27 [==============================] - 0s 3ms/step - loss: 346.4760\n",
      "Epoch 98/100\n",
      "27/27 [==============================] - 0s 3ms/step - loss: 375.5742\n",
      "Epoch 99/100\n",
      "27/27 [==============================] - 0s 3ms/step - loss: 324.6551\n",
      "Epoch 100/100\n",
      "27/27 [==============================] - 0s 3ms/step - loss: 306.8560\n"
     ]
    }
   ],
   "source": [
    "model = tf.keras.models.Sequential([\n",
    "    tf.keras.layers.Dense(100, input_shape=[window_size], activation=\"relu\"), \n",
    "    tf.keras.layers.Dense(10, activation=\"relu\"), \n",
    "    tf.keras.layers.Dense(1)\n",
    "])\n",
    "\n",
    "model.compile(loss=\"mse\", optimizer='adam')\n",
    "\n",
    "history = model.fit(train_ds,epochs=100,verbose=1)"
   ]
  },
  {
   "cell_type": "code",
   "execution_count": 17,
   "metadata": {
    "colab": {
     "base_uri": "https://localhost:8080/",
     "height": 422
    },
    "id": "ZxcY5bG7xPl3",
    "outputId": "0bbdc145-4766-4f48-b2e6-5fec494c6116"
   },
   "outputs": [
    {
     "data": {
      "image/png": "[encoded data removed]",
      "text/plain": [
       "<Figure size 1152x432 with 1 Axes>"
      ]
     },
     "metadata": {
      "needs_background": "light"
     },
     "output_type": "display_data"
    }
   ],
   "source": [
    "forecast = []\n",
    "\n",
    "for time in range(len(time_series) - window_size):\n",
    "    prediction = model.predict(time_series[time:time+window_size].reshape(1, -1))\n",
    "    forecast.append(prediction[0][0])\n",
    "    \n",
    "result = forecast[split_time-window_size:]\n",
    "\n",
    "plt.figure(figsize=(16, 6))\n",
    "plt.plot(time_test, X_test)\n",
    "plt.plot(time_test, result)\n",
    "plt.xticks(rotation=90)\n",
    "plt.show()"
   ]
  },
  {
   "cell_type": "code",
   "execution_count": 18,
   "metadata": {
    "colab": {
     "base_uri": "https://localhost:8080/"
    },
    "id": "DixTjS5KxPl4",
    "outputId": "bfbe7e57-d6de-47f2-8c33-31d32b88138f"
   },
   "outputs": [
    {
     "name": "stdout",
     "output_type": "stream",
     "text": [
      "226.78876\n",
      "12.13776\n"
     ]
    }
   ],
   "source": [
    "print(tf.keras.metrics.mean_squared_error(X_test, result).numpy())\n",
    "print(tf.keras.metrics.mean_absolute_error(X_test, result).numpy())"
   ]
  },
  {
   "cell_type": "markdown",
   "metadata": {
    "id": "Byujsw8rxPl4"
   },
   "source": [
    "## 4. LSTM 을  이용한 forecasting\n",
    "\n",
    "- RNN 은 3 Dimension input 이 필요하므로 Lambda layer 를 이용하여 2D $\\rightarrow$ 3D expand  "
   ]
  },
  {
   "cell_type": "markdown",
   "metadata": {
    "id": "22szXeckxPl4"
   },
   "source": [
    "### 4-1. Simple LSTM"
   ]
  },
  {
   "cell_type": "markdown",
   "metadata": {
    "id": "EN-WUBYGxPl5"
   },
   "source": [
    "- 첫 번째 람다 레이어는 차원을 확장하는 데 도움이 됩니다. 여기서는 배열을 1차원 확장하고 모델이 모든 길이의 시퀀스를 사용할 수 있음을 의미하는 input_shape=[None]을 설정 합니다.\n",
    "\n",
    "- 최종 람다 계층은 출력을 100배 확장하여 훈련에 도움이 될 수 있습니다. RNN의 기본 레이어는 -1과 1 사이의 값을 출력하는 tanh입니다. 출력을 스케일링하면 이러한 값을 일반적으로 40, 50, 60 등의 값인 시계열에 더 가깝게 만들 수 있습니다."
   ]
  },
  {
   "cell_type": "code",
   "execution_count": 19,
   "metadata": {
    "colab": {
     "base_uri": "https://localhost:8080/"
    },
    "id": "4a954RnbxPl5",
    "outputId": "7223d154-c1ac-497a-98ec-c0a0916a86a6"
   },
   "outputs": [
    {
     "name": "stdout",
     "output_type": "stream",
     "text": [
      "Epoch 1/100\n",
      "27/27 [==============================] - 2s 5ms/step - loss: 7902.5469\n",
      "Epoch 2/100\n",
      "27/27 [==============================] - 0s 6ms/step - loss: 3641.7612\n",
      "Epoch 3/100\n",
      "27/27 [==============================] - 0s 8ms/step - loss: 2381.6858\n",
      "Epoch 4/100\n",
      "27/27 [==============================] - 0s 8ms/step - loss: 1828.4298\n",
      "Epoch 5/100\n",
      "27/27 [==============================] - 0s 5ms/step - loss: 1465.1952\n",
      "Epoch 6/100\n",
      "27/27 [==============================] - 0s 5ms/step - loss: 1212.5935\n",
      "Epoch 7/100\n",
      "27/27 [==============================] - 0s 7ms/step - loss: 1046.2000\n",
      "Epoch 8/100\n",
      "27/27 [==============================] - 0s 8ms/step - loss: 946.0639\n",
      "Epoch 9/100\n",
      "27/27 [==============================] - 0s 8ms/step - loss: 853.4408\n",
      "Epoch 10/100\n",
      "27/27 [==============================] - 0s 4ms/step - loss: 813.0375\n",
      "Epoch 11/100\n",
      "27/27 [==============================] - 0s 5ms/step - loss: 783.7794\n",
      "Epoch 12/100\n",
      "27/27 [==============================] - 0s 8ms/step - loss: 716.4073\n",
      "Epoch 13/100\n",
      "27/27 [==============================] - 0s 4ms/step - loss: 758.5969\n",
      "Epoch 14/100\n",
      "27/27 [==============================] - 0s 4ms/step - loss: 720.0361\n",
      "Epoch 15/100\n",
      "27/27 [==============================] - 0s 5ms/step - loss: 680.5543\n",
      "Epoch 16/100\n",
      "27/27 [==============================] - 0s 5ms/step - loss: 677.8652\n",
      "Epoch 17/100\n",
      "27/27 [==============================] - 0s 4ms/step - loss: 677.0620\n",
      "Epoch 18/100\n",
      "27/27 [==============================] - 0s 4ms/step - loss: 665.1201\n",
      "Epoch 19/100\n",
      "27/27 [==============================] - 0s 4ms/step - loss: 648.4714\n",
      "Epoch 20/100\n",
      "27/27 [==============================] - 0s 4ms/step - loss: 658.2027\n",
      "Epoch 21/100\n",
      "27/27 [==============================] - 0s 4ms/step - loss: 693.4393\n",
      "Epoch 22/100\n",
      "27/27 [==============================] - 0s 5ms/step - loss: 657.6224\n",
      "Epoch 23/100\n",
      "27/27 [==============================] - 0s 4ms/step - loss: 700.0054\n",
      "Epoch 24/100\n",
      "27/27 [==============================] - 0s 4ms/step - loss: 662.8205\n",
      "Epoch 25/100\n",
      "27/27 [==============================] - 0s 5ms/step - loss: 635.7188\n",
      "Epoch 26/100\n",
      "27/27 [==============================] - 0s 4ms/step - loss: 659.3552\n",
      "Epoch 27/100\n",
      "27/27 [==============================] - 0s 4ms/step - loss: 665.6150\n",
      "Epoch 28/100\n",
      "27/27 [==============================] - 0s 4ms/step - loss: 664.5861\n",
      "Epoch 29/100\n",
      "27/27 [==============================] - 0s 4ms/step - loss: 678.3044\n",
      "Epoch 30/100\n",
      "27/27 [==============================] - 0s 4ms/step - loss: 644.5551\n",
      "Epoch 31/100\n",
      "27/27 [==============================] - 0s 4ms/step - loss: 649.6657\n",
      "Epoch 32/100\n",
      "27/27 [==============================] - 0s 4ms/step - loss: 657.3798\n",
      "Epoch 33/100\n",
      "27/27 [==============================] - 0s 4ms/step - loss: 634.3934\n",
      "Epoch 34/100\n",
      "27/27 [==============================] - 0s 4ms/step - loss: 641.7894\n",
      "Epoch 35/100\n",
      "27/27 [==============================] - 0s 4ms/step - loss: 630.6901\n",
      "Epoch 36/100\n",
      "27/27 [==============================] - 0s 4ms/step - loss: 645.9578\n",
      "Epoch 37/100\n",
      "27/27 [==============================] - 0s 4ms/step - loss: 655.6654\n",
      "Epoch 38/100\n",
      "27/27 [==============================] - 0s 4ms/step - loss: 668.5987\n",
      "Epoch 39/100\n",
      "27/27 [==============================] - 0s 4ms/step - loss: 677.2550\n",
      "Epoch 40/100\n",
      "27/27 [==============================] - 0s 4ms/step - loss: 658.9734\n",
      "Epoch 41/100\n",
      "27/27 [==============================] - 0s 4ms/step - loss: 657.0125\n",
      "Epoch 42/100\n",
      "27/27 [==============================] - 0s 4ms/step - loss: 639.1119\n",
      "Epoch 43/100\n",
      "27/27 [==============================] - 0s 4ms/step - loss: 633.9790\n",
      "Epoch 44/100\n",
      "27/27 [==============================] - 0s 4ms/step - loss: 655.2236\n",
      "Epoch 45/100\n",
      "27/27 [==============================] - 0s 4ms/step - loss: 630.8759\n",
      "Epoch 46/100\n",
      "27/27 [==============================] - 0s 5ms/step - loss: 654.8860\n",
      "Epoch 47/100\n",
      "27/27 [==============================] - 0s 5ms/step - loss: 642.7804\n",
      "Epoch 48/100\n",
      "27/27 [==============================] - 0s 4ms/step - loss: 639.4806\n",
      "Epoch 49/100\n",
      "27/27 [==============================] - 0s 4ms/step - loss: 638.2438\n",
      "Epoch 50/100\n",
      "27/27 [==============================] - 0s 4ms/step - loss: 639.5031\n",
      "Epoch 51/100\n",
      "27/27 [==============================] - 0s 4ms/step - loss: 625.6470\n",
      "Epoch 52/100\n",
      "27/27 [==============================] - 0s 4ms/step - loss: 698.4494\n",
      "Epoch 53/100\n",
      "27/27 [==============================] - 0s 4ms/step - loss: 610.2944\n",
      "Epoch 54/100\n",
      "27/27 [==============================] - 0s 4ms/step - loss: 623.7486\n",
      "Epoch 55/100\n",
      "27/27 [==============================] - 0s 4ms/step - loss: 627.4626\n",
      "Epoch 56/100\n",
      "27/27 [==============================] - 0s 4ms/step - loss: 673.0319\n",
      "Epoch 57/100\n",
      "27/27 [==============================] - 0s 4ms/step - loss: 630.3983\n",
      "Epoch 58/100\n",
      "27/27 [==============================] - 0s 4ms/step - loss: 613.4417\n",
      "Epoch 59/100\n",
      "27/27 [==============================] - 0s 5ms/step - loss: 628.7053\n",
      "Epoch 60/100\n",
      "27/27 [==============================] - 0s 4ms/step - loss: 623.6640\n",
      "Epoch 61/100\n",
      "27/27 [==============================] - 0s 4ms/step - loss: 658.1540\n",
      "Epoch 62/100\n",
      "27/27 [==============================] - 0s 4ms/step - loss: 679.3477\n",
      "Epoch 63/100\n",
      "27/27 [==============================] - 0s 4ms/step - loss: 628.4186\n",
      "Epoch 64/100\n",
      "27/27 [==============================] - 0s 4ms/step - loss: 638.7242\n",
      "Epoch 65/100\n",
      "27/27 [==============================] - 0s 4ms/step - loss: 633.0547\n",
      "Epoch 66/100\n",
      "27/27 [==============================] - 0s 5ms/step - loss: 625.1376\n",
      "Epoch 67/100\n",
      "27/27 [==============================] - 0s 4ms/step - loss: 640.7230\n",
      "Epoch 68/100\n",
      "27/27 [==============================] - 0s 4ms/step - loss: 661.4943\n",
      "Epoch 69/100\n",
      "27/27 [==============================] - 0s 4ms/step - loss: 618.5881\n",
      "Epoch 70/100\n",
      "27/27 [==============================] - 0s 4ms/step - loss: 625.4485\n",
      "Epoch 71/100\n",
      "27/27 [==============================] - 0s 4ms/step - loss: 630.2618\n",
      "Epoch 72/100\n",
      "27/27 [==============================] - 0s 5ms/step - loss: 625.7114\n",
      "Epoch 73/100\n",
      "27/27 [==============================] - 0s 4ms/step - loss: 627.8347\n",
      "Epoch 74/100\n",
      "27/27 [==============================] - 0s 4ms/step - loss: 621.0160\n",
      "Epoch 75/100\n",
      "27/27 [==============================] - 0s 4ms/step - loss: 612.1358\n",
      "Epoch 76/100\n",
      "27/27 [==============================] - 0s 4ms/step - loss: 647.8315\n",
      "Epoch 77/100\n",
      "27/27 [==============================] - 0s 4ms/step - loss: 645.1569\n",
      "Epoch 78/100\n",
      "27/27 [==============================] - 0s 4ms/step - loss: 602.4147\n",
      "Epoch 79/100\n",
      "27/27 [==============================] - 0s 4ms/step - loss: 627.3042\n",
      "Epoch 80/100\n",
      "27/27 [==============================] - 0s 4ms/step - loss: 629.0674\n",
      "Epoch 81/100\n",
      "27/27 [==============================] - 0s 4ms/step - loss: 638.2552\n",
      "Epoch 82/100\n",
      "27/27 [==============================] - 0s 4ms/step - loss: 637.1767\n",
      "Epoch 83/100\n",
      "27/27 [==============================] - 0s 4ms/step - loss: 620.2607\n",
      "Epoch 84/100\n",
      "27/27 [==============================] - 0s 4ms/step - loss: 617.9291\n",
      "Epoch 85/100\n",
      "27/27 [==============================] - 0s 4ms/step - loss: 607.1835\n",
      "Epoch 86/100\n",
      "27/27 [==============================] - 0s 4ms/step - loss: 608.6150\n",
      "Epoch 87/100\n",
      "27/27 [==============================] - 0s 4ms/step - loss: 686.5296\n",
      "Epoch 88/100\n",
      "27/27 [==============================] - 0s 4ms/step - loss: 630.1370\n",
      "Epoch 89/100\n",
      "27/27 [==============================] - 0s 4ms/step - loss: 620.2083\n",
      "Epoch 90/100\n",
      "27/27 [==============================] - 0s 5ms/step - loss: 605.6202\n",
      "Epoch 91/100\n",
      "27/27 [==============================] - 0s 4ms/step - loss: 611.5801\n",
      "Epoch 92/100\n",
      "27/27 [==============================] - 0s 4ms/step - loss: 627.2696\n",
      "Epoch 93/100\n",
      "27/27 [==============================] - 0s 4ms/step - loss: 627.0102\n",
      "Epoch 94/100\n",
      "27/27 [==============================] - 0s 4ms/step - loss: 659.8027\n",
      "Epoch 95/100\n",
      "27/27 [==============================] - 0s 4ms/step - loss: 613.3766\n",
      "Epoch 96/100\n",
      "27/27 [==============================] - 0s 4ms/step - loss: 610.5156\n",
      "Epoch 97/100\n",
      "27/27 [==============================] - 0s 4ms/step - loss: 620.0558\n",
      "Epoch 98/100\n",
      "27/27 [==============================] - 0s 4ms/step - loss: 628.4528\n",
      "Epoch 99/100\n",
      "27/27 [==============================] - 0s 4ms/step - loss: 614.0115\n",
      "Epoch 100/100\n",
      "27/27 [==============================] - 0s 4ms/step - loss: 618.8957\n"
     ]
    }
   ],
   "source": [
    "model = tf.keras.models.Sequential([\n",
    "    tf.keras.layers.Lambda(lambda x: tf.expand_dims(x, axis=-1),input_shape=[None]),\n",
    "    tf.keras.layers.LSTM(32, input_shape=[window_size, 1]),\n",
    "    tf.keras.layers.Dense(1),\n",
    "    tf.keras.layers.Lambda(lambda x: x * 100.0)\n",
    "    ])\n",
    "\n",
    "model.compile(loss='mse', optimizer='adam')\n",
    "history = model.fit(train_ds, epochs=100, verbose=1)"
   ]
  },
  {
   "cell_type": "code",
   "execution_count": 20,
   "metadata": {
    "colab": {
     "base_uri": "https://localhost:8080/"
    },
    "id": "KXbY0gn2xPl5",
    "outputId": "7cade4c8-8815-41c2-8bab-f51444408227"
   },
   "outputs": [
    {
     "name": "stdout",
     "output_type": "stream",
     "text": [
      "Model: \"sequential_2\"\n",
      "_________________________________________________________________\n",
      " Layer (type)                Output Shape              Param #   \n",
      "=================================================================\n",
      " lambda (Lambda)             (None, None, 1)           0         \n",
      "                                                                 \n",
      " lstm (LSTM)                 (None, 32)                4352      \n",
      "                                                                 \n",
      " dense_4 (Dense)             (None, 1)                 33        \n",
      "                                                                 \n",
      " lambda_1 (Lambda)           (None, 1)                 0         \n",
      "                                                                 \n",
      "=================================================================\n",
      "Total params: 4,385\n",
      "Trainable params: 4,385\n",
      "Non-trainable params: 0\n",
      "_________________________________________________________________\n"
     ]
    }
   ],
   "source": [
    "model.summary()"
   ]
  },
  {
   "cell_type": "code",
   "execution_count": 21,
   "metadata": {
    "colab": {
     "base_uri": "https://localhost:8080/",
     "height": 422
    },
    "id": "hg9u_d8GxPl6",
    "outputId": "942e3583-c428-45d9-df4d-6e2bc4cb15e3"
   },
   "outputs": [
    {
     "data": {
      "image/png": "[encoded data removed]",
      "text/plain": [
       "<Figure size 1152x432 with 1 Axes>"
      ]
     },
     "metadata": {
      "needs_background": "light"
     },
     "output_type": "display_data"
    }
   ],
   "source": [
    "forecast = []\n",
    "\n",
    "for time in range(len(time_series) - window_size):\n",
    "    prediction = model.predict(time_series[time:time+window_size].reshape(1, -1))\n",
    "    forecast.append(prediction[0][0])\n",
    "    \n",
    "result = forecast[split_time-window_size:]\n",
    "\n",
    "plt.figure(figsize=(16, 6))\n",
    "plt.plot(time_test, X_test)\n",
    "plt.plot(time_test, result)\n",
    "plt.xticks(rotation=90)\n",
    "plt.show()"
   ]
  },
  {
   "cell_type": "code",
   "execution_count": 22,
   "metadata": {
    "colab": {
     "base_uri": "https://localhost:8080/"
    },
    "id": "DrY27i8GxPl6",
    "outputId": "812fa40d-7f29-4a05-e3f7-3ee046023350"
   },
   "outputs": [
    {
     "name": "stdout",
     "output_type": "stream",
     "text": [
      "189.89493\n",
      "11.3325\n"
     ]
    }
   ],
   "source": [
    "print(tf.keras.metrics.mean_squared_error(X_test, result).numpy())\n",
    "print(tf.keras.metrics.mean_absolute_error(X_test, result).numpy())"
   ]
  },
  {
   "cell_type": "markdown",
   "metadata": {
    "id": "SdzCnKHKxPl6"
   },
   "source": [
    "### 4-2. Stacked + Bidirectoinal LSTM"
   ]
  },
  {
   "cell_type": "code",
   "execution_count": 23,
   "metadata": {
    "colab": {
     "base_uri": "https://localhost:8080/"
    },
    "id": "UCVyLHjSxPl6",
    "outputId": "7f1bfff5-b7c0-47d3-8959-0f08834a63e9"
   },
   "outputs": [
    {
     "name": "stdout",
     "output_type": "stream",
     "text": [
      "Epoch 1/100\n",
      "27/27 [==============================] - 6s 12ms/step - loss: 6380.9292\n",
      "Epoch 2/100\n",
      "27/27 [==============================] - 0s 10ms/step - loss: 1743.3643\n",
      "Epoch 3/100\n",
      "27/27 [==============================] - 0s 11ms/step - loss: 1060.0890\n",
      "Epoch 4/100\n",
      "27/27 [==============================] - 0s 11ms/step - loss: 848.2828\n",
      "Epoch 5/100\n",
      "27/27 [==============================] - 0s 10ms/step - loss: 730.3013\n",
      "Epoch 6/100\n",
      "27/27 [==============================] - 0s 10ms/step - loss: 777.7462\n",
      "Epoch 7/100\n",
      "27/27 [==============================] - 0s 10ms/step - loss: 681.3825\n",
      "Epoch 8/100\n",
      "27/27 [==============================] - 0s 10ms/step - loss: 699.7098\n",
      "Epoch 9/100\n",
      "27/27 [==============================] - 0s 10ms/step - loss: 705.9317\n",
      "Epoch 10/100\n",
      "27/27 [==============================] - 0s 11ms/step - loss: 693.6668\n",
      "Epoch 11/100\n",
      "27/27 [==============================] - 0s 11ms/step - loss: 673.9388\n",
      "Epoch 12/100\n",
      "27/27 [==============================] - 0s 10ms/step - loss: 676.1099\n",
      "Epoch 13/100\n",
      "27/27 [==============================] - 0s 10ms/step - loss: 665.7448\n",
      "Epoch 14/100\n",
      "27/27 [==============================] - 0s 11ms/step - loss: 675.2463\n",
      "Epoch 15/100\n",
      "27/27 [==============================] - 0s 12ms/step - loss: 690.8860\n",
      "Epoch 16/100\n",
      "27/27 [==============================] - 0s 10ms/step - loss: 650.7773\n",
      "Epoch 17/100\n",
      "27/27 [==============================] - 0s 11ms/step - loss: 667.4973\n",
      "Epoch 18/100\n",
      "27/27 [==============================] - 0s 10ms/step - loss: 735.3163\n",
      "Epoch 19/100\n",
      "27/27 [==============================] - 0s 10ms/step - loss: 661.4160\n",
      "Epoch 20/100\n",
      "27/27 [==============================] - 0s 11ms/step - loss: 673.7889\n",
      "Epoch 21/100\n",
      "27/27 [==============================] - 0s 11ms/step - loss: 697.7625\n",
      "Epoch 22/100\n",
      "27/27 [==============================] - 0s 10ms/step - loss: 768.7927\n",
      "Epoch 23/100\n",
      "27/27 [==============================] - 0s 10ms/step - loss: 659.3576\n",
      "Epoch 24/100\n",
      "27/27 [==============================] - 0s 10ms/step - loss: 678.9919\n",
      "Epoch 25/100\n",
      "27/27 [==============================] - 0s 11ms/step - loss: 643.5523\n",
      "Epoch 26/100\n",
      "27/27 [==============================] - 0s 11ms/step - loss: 628.6203\n",
      "Epoch 27/100\n",
      "27/27 [==============================] - 0s 10ms/step - loss: 636.4407\n",
      "Epoch 28/100\n",
      "27/27 [==============================] - 0s 10ms/step - loss: 684.5018\n",
      "Epoch 29/100\n",
      "27/27 [==============================] - 0s 10ms/step - loss: 637.7368\n",
      "Epoch 30/100\n",
      "27/27 [==============================] - 0s 10ms/step - loss: 653.3947\n",
      "Epoch 31/100\n",
      "27/27 [==============================] - 0s 11ms/step - loss: 632.3950\n",
      "Epoch 32/100\n",
      "27/27 [==============================] - 0s 10ms/step - loss: 655.8413\n",
      "Epoch 33/100\n",
      "27/27 [==============================] - 0s 11ms/step - loss: 649.1757\n",
      "Epoch 34/100\n",
      "27/27 [==============================] - 0s 10ms/step - loss: 660.7028\n",
      "Epoch 35/100\n",
      "27/27 [==============================] - 0s 11ms/step - loss: 690.3086\n",
      "Epoch 36/100\n",
      "27/27 [==============================] - 0s 11ms/step - loss: 641.4069\n",
      "Epoch 37/100\n",
      "27/27 [==============================] - 0s 11ms/step - loss: 610.4901\n",
      "Epoch 38/100\n",
      "27/27 [==============================] - 0s 10ms/step - loss: 630.0933\n",
      "Epoch 39/100\n",
      "27/27 [==============================] - 0s 11ms/step - loss: 627.2001\n",
      "Epoch 40/100\n",
      "27/27 [==============================] - 0s 10ms/step - loss: 630.1510\n",
      "Epoch 41/100\n",
      "27/27 [==============================] - 0s 11ms/step - loss: 648.7819\n",
      "Epoch 42/100\n",
      "27/27 [==============================] - 0s 9ms/step - loss: 673.6203\n",
      "Epoch 43/100\n",
      "27/27 [==============================] - 0s 11ms/step - loss: 642.4816\n",
      "Epoch 44/100\n",
      "27/27 [==============================] - 0s 10ms/step - loss: 663.0743\n",
      "Epoch 45/100\n",
      "27/27 [==============================] - 0s 11ms/step - loss: 624.5175\n",
      "Epoch 46/100\n",
      "27/27 [==============================] - 0s 10ms/step - loss: 661.6336\n",
      "Epoch 47/100\n",
      "27/27 [==============================] - 0s 10ms/step - loss: 648.6364\n",
      "Epoch 48/100\n",
      "27/27 [==============================] - 0s 10ms/step - loss: 629.0407\n",
      "Epoch 49/100\n",
      "27/27 [==============================] - 0s 10ms/step - loss: 600.9391\n",
      "Epoch 50/100\n",
      "27/27 [==============================] - 0s 10ms/step - loss: 653.8945\n",
      "Epoch 51/100\n",
      "27/27 [==============================] - 0s 10ms/step - loss: 628.4555\n",
      "Epoch 52/100\n",
      "27/27 [==============================] - 0s 10ms/step - loss: 618.3436\n",
      "Epoch 53/100\n",
      "27/27 [==============================] - 0s 10ms/step - loss: 611.8949\n",
      "Epoch 54/100\n",
      "27/27 [==============================] - 0s 10ms/step - loss: 632.4080\n",
      "Epoch 55/100\n",
      "27/27 [==============================] - 0s 10ms/step - loss: 611.4142\n",
      "Epoch 56/100\n",
      "27/27 [==============================] - 0s 10ms/step - loss: 623.8692\n",
      "Epoch 57/100\n",
      "27/27 [==============================] - 0s 10ms/step - loss: 638.2847\n",
      "Epoch 58/100\n",
      "27/27 [==============================] - 0s 9ms/step - loss: 610.7939\n",
      "Epoch 59/100\n",
      "27/27 [==============================] - 0s 10ms/step - loss: 621.4035\n",
      "Epoch 60/100\n",
      "27/27 [==============================] - 0s 9ms/step - loss: 620.9949\n",
      "Epoch 61/100\n",
      "27/27 [==============================] - 0s 10ms/step - loss: 616.1908\n",
      "Epoch 62/100\n",
      "27/27 [==============================] - 0s 10ms/step - loss: 598.3906\n",
      "Epoch 63/100\n",
      "27/27 [==============================] - 0s 9ms/step - loss: 592.8158\n",
      "Epoch 64/100\n",
      "27/27 [==============================] - 0s 10ms/step - loss: 621.0001\n",
      "Epoch 65/100\n",
      "27/27 [==============================] - 0s 9ms/step - loss: 637.7921\n",
      "Epoch 66/100\n",
      "27/27 [==============================] - 0s 10ms/step - loss: 611.9005\n",
      "Epoch 67/100\n",
      "27/27 [==============================] - 0s 10ms/step - loss: 625.7797\n",
      "Epoch 68/100\n",
      "27/27 [==============================] - 0s 9ms/step - loss: 654.8777\n",
      "Epoch 69/100\n",
      "27/27 [==============================] - 0s 10ms/step - loss: 605.9789\n",
      "Epoch 70/100\n",
      "27/27 [==============================] - 0s 10ms/step - loss: 597.3297\n",
      "Epoch 71/100\n",
      "27/27 [==============================] - 0s 10ms/step - loss: 632.5734\n",
      "Epoch 72/100\n",
      "27/27 [==============================] - 0s 9ms/step - loss: 602.2877\n",
      "Epoch 73/100\n",
      "27/27 [==============================] - 0s 10ms/step - loss: 598.5639\n",
      "Epoch 74/100\n",
      "27/27 [==============================] - 0s 10ms/step - loss: 598.1908\n",
      "Epoch 75/100\n",
      "27/27 [==============================] - 0s 9ms/step - loss: 569.5103\n",
      "Epoch 76/100\n",
      "27/27 [==============================] - 0s 10ms/step - loss: 589.7122\n",
      "Epoch 77/100\n",
      "27/27 [==============================] - 0s 10ms/step - loss: 604.7032\n",
      "Epoch 78/100\n",
      "27/27 [==============================] - 0s 9ms/step - loss: 577.2728\n",
      "Epoch 79/100\n",
      "27/27 [==============================] - 0s 9ms/step - loss: 605.8656\n",
      "Epoch 80/100\n",
      "27/27 [==============================] - 0s 9ms/step - loss: 585.5977\n",
      "Epoch 81/100\n",
      "27/27 [==============================] - 0s 9ms/step - loss: 609.2371\n",
      "Epoch 82/100\n",
      "27/27 [==============================] - 0s 9ms/step - loss: 594.0408\n",
      "Epoch 83/100\n",
      "27/27 [==============================] - 0s 9ms/step - loss: 590.9380\n",
      "Epoch 84/100\n",
      "27/27 [==============================] - 0s 10ms/step - loss: 585.3793\n",
      "Epoch 85/100\n",
      "27/27 [==============================] - 0s 9ms/step - loss: 573.2575\n",
      "Epoch 86/100\n",
      "27/27 [==============================] - 0s 10ms/step - loss: 605.6877\n",
      "Epoch 87/100\n",
      "27/27 [==============================] - 0s 10ms/step - loss: 642.3106\n",
      "Epoch 88/100\n",
      "27/27 [==============================] - 0s 9ms/step - loss: 591.6623\n",
      "Epoch 89/100\n",
      "27/27 [==============================] - 0s 10ms/step - loss: 572.7176\n",
      "Epoch 90/100\n",
      "27/27 [==============================] - 0s 10ms/step - loss: 652.0643\n",
      "Epoch 91/100\n",
      "27/27 [==============================] - 0s 10ms/step - loss: 626.3148\n",
      "Epoch 92/100\n",
      "27/27 [==============================] - 0s 10ms/step - loss: 571.7053\n",
      "Epoch 93/100\n",
      "27/27 [==============================] - 0s 10ms/step - loss: 612.1262\n",
      "Epoch 94/100\n",
      "27/27 [==============================] - 0s 9ms/step - loss: 580.1143\n",
      "Epoch 95/100\n",
      "27/27 [==============================] - 0s 10ms/step - loss: 565.4970\n",
      "Epoch 96/100\n",
      "27/27 [==============================] - 0s 10ms/step - loss: 598.5178\n",
      "Epoch 97/100\n",
      "27/27 [==============================] - 0s 10ms/step - loss: 549.6602\n",
      "Epoch 98/100\n",
      "27/27 [==============================] - 0s 9ms/step - loss: 574.8030\n",
      "Epoch 99/100\n",
      "27/27 [==============================] - 0s 10ms/step - loss: 591.3940\n",
      "Epoch 100/100\n",
      "27/27 [==============================] - 0s 10ms/step - loss: 567.0856\n"
     ]
    }
   ],
   "source": [
    "model = tf.keras.models.Sequential([\n",
    "    tf.keras.layers.Lambda(lambda x: tf.expand_dims(x, axis=-1),input_shape=[None]),\n",
    "    tf.keras.layers.Bidirectional(tf.keras.layers.LSTM(32, return_sequences=True)),\n",
    "    tf.keras.layers.Bidirectional(tf.keras.layers.LSTM(32)),\n",
    "    tf.keras.layers.Dense(1),\n",
    "    tf.keras.layers.Lambda(lambda x: x * 100.0)\n",
    "    ])\n",
    "\n",
    "model.compile(loss='mse', optimizer='adam')\n",
    "history = model.fit(train_ds, epochs=100, verbose=1)"
   ]
  },
  {
   "cell_type": "code",
   "execution_count": 24,
   "metadata": {
    "colab": {
     "base_uri": "https://localhost:8080/",
     "height": 422
    },
    "id": "egzTJlTMxPl6",
    "outputId": "9a5b690a-0da4-4888-ca74-31a235616605"
   },
   "outputs": [
    {
     "data": {
      "image/png": "[encoded data removed]",
      "text/plain": [
       "<Figure size 1152x432 with 1 Axes>"
      ]
     },
     "metadata": {
      "needs_background": "light"
     },
     "output_type": "display_data"
    }
   ],
   "source": [
    "forecast = []\n",
    "\n",
    "for time in range(len(time_series) - window_size):\n",
    "    prediction = model.predict(time_series[time:time+window_size].reshape(1, -1))\n",
    "    forecast.append(prediction[0][0])\n",
    "    \n",
    "result = forecast[split_time-window_size:]\n",
    "\n",
    "plt.figure(figsize=(16, 6))\n",
    "plt.plot(time_test, X_test)\n",
    "plt.plot(time_test, result)\n",
    "plt.xticks(rotation=90)\n",
    "plt.show()"
   ]
  },
  {
   "cell_type": "code",
   "execution_count": 25,
   "metadata": {
    "colab": {
     "base_uri": "https://localhost:8080/"
    },
    "id": "XEkB12vrxPl6",
    "outputId": "95d45783-3fe9-4a75-e5c1-944a39ae41f3"
   },
   "outputs": [
    {
     "name": "stdout",
     "output_type": "stream",
     "text": [
      "196.52142\n",
      "10.498736\n"
     ]
    }
   ],
   "source": [
    "print(tf.keras.metrics.mean_squared_error(X_test, result).numpy())\n",
    "print(tf.keras.metrics.mean_absolute_error(X_test, result).numpy())"
   ]
  },
  {
   "cell_type": "code",
   "execution_count": 25,
   "metadata": {
    "id": "h__lasusxPl8"
   },
   "outputs": [],
   "source": []
  }
 ],
 "metadata": {
  "accelerator": "GPU",
  "colab": {
   "collapsed_sections": [],
   "name": "041_WindowedData_Model_Performance.ipynb",
   "provenance": []
  },
  "kernelspec": {
   "display_name": "Python 3",
   "language": "python",
   "name": "python3"
  },
  "language_info": {
   "codemirror_mode": {
    "name": "ipython",
    "version": 3
   },
   "file_extension": ".py",
   "mimetype": "text/x-python",
   "name": "python",
   "nbconvert_exporter": "python",
   "pygments_lexer": "ipython3",
   "version": "3.7.10"
  }
 },
 "nbformat": 4,
 "nbformat_minor": 1
}
