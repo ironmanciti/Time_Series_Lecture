{
 "cells": [
  {
   "cell_type": "markdown",
   "metadata": {
    "id": "UQW0noetxPlq"
   },
   "source": [
    "# Optimal Learning Rate 찾기 및 Huber Loss 함수 적용\n",
    "\n",
    "손실 함수는 크게 분류 및 회귀 손실의 두 가지 유형으로 분류 할 수 있습니다. Huber Loss는 회귀 손실에 속합니다. Huber 손실은 제곱 오차 손실보다 데이터의 이상 값에 덜 민감합니다. \n",
    "\n",
    "<img src=\"https://blog.kakaocdn.net/dn/081sh/btqNth1n6DL/rkSLdrV0RFuYg04k4VyeZK/img.png\" width=300/>"
   ]
  },
  {
   "cell_type": "markdown",
   "metadata": {
    "id": "AAiYtx2xxPlt"
   },
   "source": [
    "### Sunspots 데이터셋을 활용하여 window_dataset 만들기"
   ]
  },
  {
   "cell_type": "code",
   "execution_count": 1,
   "metadata": {
    "colab": {
     "base_uri": "https://localhost:8080/",
     "height": 206
    },
    "id": "fu_77IlnxPlu",
    "outputId": "f2e502b2-5de0-471d-a633-d184ea701db7"
   },
   "outputs": [
    {
     "data": {
      "text/html": [
       "<div>\n",
       "<style scoped>\n",
       "    .dataframe tbody tr th:only-of-type {\n",
       "        vertical-align: middle;\n",
       "    }\n",
       "\n",
       "    .dataframe tbody tr th {\n",
       "        vertical-align: top;\n",
       "    }\n",
       "\n",
       "    .dataframe thead th {\n",
       "        text-align: right;\n",
       "    }\n",
       "</style>\n",
       "<table border=\"1\" class=\"dataframe\">\n",
       "  <thead>\n",
       "    <tr style=\"text-align: right;\">\n",
       "      <th></th>\n",
       "      <th>Date</th>\n",
       "      <th>Monthly Mean Total Sunspot Number</th>\n",
       "    </tr>\n",
       "  </thead>\n",
       "  <tbody>\n",
       "    <tr>\n",
       "      <th>0</th>\n",
       "      <td>1749-01-31</td>\n",
       "      <td>96.7</td>\n",
       "    </tr>\n",
       "    <tr>\n",
       "      <th>1</th>\n",
       "      <td>1749-02-28</td>\n",
       "      <td>104.3</td>\n",
       "    </tr>\n",
       "    <tr>\n",
       "      <th>2</th>\n",
       "      <td>1749-03-31</td>\n",
       "      <td>116.7</td>\n",
       "    </tr>\n",
       "    <tr>\n",
       "      <th>3</th>\n",
       "      <td>1749-04-30</td>\n",
       "      <td>92.8</td>\n",
       "    </tr>\n",
       "    <tr>\n",
       "      <th>4</th>\n",
       "      <td>1749-05-31</td>\n",
       "      <td>141.7</td>\n",
       "    </tr>\n",
       "  </tbody>\n",
       "</table>\n",
       "</div>"
      ],
      "text/plain": [
       "         Date  Monthly Mean Total Sunspot Number\n",
       "0  1749-01-31                               96.7\n",
       "1  1749-02-28                              104.3\n",
       "2  1749-03-31                              116.7\n",
       "3  1749-04-30                               92.8\n",
       "4  1749-05-31                              141.7"
      ]
     },
     "execution_count": 1,
     "metadata": {},
     "output_type": "execute_result"
    }
   ],
   "source": [
    "import tensorflow as tf\n",
    "import numpy as np\n",
    "import matplotlib.pyplot as plt\n",
    "from sklearn.metrics import mean_squared_error, mean_absolute_error\n",
    "import pandas as pd\n",
    "\n",
    "url = 'https://storage.googleapis.com/download.tensorflow.org/data/Sunspots.csv'\n",
    "df = pd.read_csv(url, skiprows=0, index_col=0) # 첫 줄은 header이므로 skip \n",
    "df.head()"
   ]
  },
  {
   "cell_type": "markdown",
   "metadata": {
    "id": "Xzgj5nhFFPUS"
   },
   "source": [
    "- 시간 절약을 위해 최근 500 개월치 data 만 이용"
   ]
  },
  {
   "cell_type": "code",
   "execution_count": 2,
   "metadata": {
    "colab": {
     "base_uri": "https://localhost:8080/"
    },
    "id": "pOHj-Sj6Bxq0",
    "outputId": "05f72f37-94e9-4d01-f90e-c9f3d982930e"
   },
   "outputs": [
    {
     "data": {
      "text/plain": [
       "((500,), (500,))"
      ]
     },
     "execution_count": 2,
     "metadata": {},
     "output_type": "execute_result"
    }
   ],
   "source": [
    "time = df.iloc[-500:, 0].values\n",
    "time_series = df.iloc[-500:, 1].values\n",
    "time.shape, time_series.shape"
   ]
  },
  {
   "cell_type": "markdown",
   "metadata": {
    "id": "szHb65PCxPlw"
   },
   "source": [
    "## Supervised Learning dataset 작성"
   ]
  },
  {
   "cell_type": "code",
   "execution_count": 3,
   "metadata": {
    "id": "wpH3xVcJxPlw"
   },
   "outputs": [],
   "source": [
    "def windowed_dataset(series, window_size, batch_size, shuffle_buffer):\n",
    "    ds = tf.data.Dataset.from_tensor_slices(series)\n",
    "    ds = ds.window(window_size+1, shift=1, drop_remainder=True)\n",
    "    ds = ds.flat_map(lambda w: w.batch(window_size+1))\n",
    "    ds = ds.shuffle(shuffle_buffer).map(lambda w: (w[:-1], w[-1]))\n",
    "    ds = ds.batch(batch_size).prefetch(1)\n",
    "    return ds"
   ]
  },
  {
   "cell_type": "markdown",
   "metadata": {
    "id": "snCcd5ZnxPlx"
   },
   "source": [
    "### train/validation set 분리"
   ]
  },
  {
   "cell_type": "code",
   "execution_count": 4,
   "metadata": {
    "colab": {
     "base_uri": "https://localhost:8080/"
    },
    "id": "8HuXVml6xPlx",
    "outputId": "036cce6d-5157-420c-9b5e-f44e33fb943f"
   },
   "outputs": [
    {
     "data": {
      "text/plain": [
       "(450, 50, 450, 50)"
      ]
     },
     "execution_count": 4,
     "metadata": {},
     "output_type": "execute_result"
    }
   ],
   "source": [
    "split_time = 450\n",
    "\n",
    "time_train = time[:split_time]\n",
    "time_test = time[split_time:]\n",
    "\n",
    "X_train = time_series[:split_time]\n",
    "X_test  = time_series[split_time:]\n",
    "\n",
    "len(time_train), len(time_test), len(X_train), len(X_test)"
   ]
  },
  {
   "cell_type": "code",
   "execution_count": 5,
   "metadata": {
    "colab": {
     "base_uri": "https://localhost:8080/"
    },
    "id": "Gep8OGvZxPly",
    "outputId": "f6d44b43-3869-4466-e4fe-5ad314883b6d"
   },
   "outputs": [
    {
     "data": {
      "text/plain": [
       "<PrefetchDataset shapes: ((None, None), (None,)), types: (tf.float64, tf.float64)>"
      ]
     },
     "execution_count": 5,
     "metadata": {},
     "output_type": "execute_result"
    }
   ],
   "source": [
    "window_size = 20\n",
    "batch_size = 16\n",
    "shuffle_buffer_size = 1000\n",
    "\n",
    "train_ds = windowed_dataset(X_train, window_size, batch_size, shuffle_buffer_size)\n",
    "train_ds"
   ]
  },
  {
   "cell_type": "code",
   "execution_count": 6,
   "metadata": {
    "colab": {
     "base_uri": "https://localhost:8080/"
    },
    "id": "R8EwGzPPxPlz",
    "outputId": "9096a831-5268-4ee6-a55d-6ec92a17a5a2"
   },
   "outputs": [
    {
     "name": "stdout",
     "output_type": "stream",
     "text": [
      "x =  (16, 20)\n",
      "y =  (16,)\n"
     ]
    }
   ],
   "source": [
    "for x, y in train_ds:\n",
    "    print('x = ', x.numpy().shape)\n",
    "    print('y = ', y.numpy().shape)\n",
    "    break"
   ]
  },
  {
   "cell_type": "markdown",
   "metadata": {
    "id": "SdzCnKHKxPl6"
   },
   "source": [
    "## Stacked + Bidirectoinal LSTM"
   ]
  },
  {
   "cell_type": "code",
   "execution_count": 16,
   "metadata": {},
   "outputs": [],
   "source": [
    "def create_model():\n",
    "    model = tf.keras.models.Sequential([\n",
    "        tf.keras.layers.Lambda(lambda x: tf.expand_dims(x, axis=-1),input_shape=[None]),\n",
    "        tf.keras.layers.Bidirectional(tf.keras.layers.LSTM(32, return_sequences=True)),\n",
    "        tf.keras.layers.Bidirectional(tf.keras.layers.LSTM(32)),\n",
    "        tf.keras.layers.Dense(1),\n",
    "        tf.keras.layers.Lambda(lambda x: x * 100.0)\n",
    "        ])\n",
    "    return model"
   ]
  },
  {
   "cell_type": "markdown",
   "metadata": {},
   "source": [
    "### Optimal Learning Rate 찾기\n",
    "\n",
    "- epoch이 진행되면서 Learning Rate를 감소시킴  \n",
    "\n",
    "- loss가 감소하다 증가하는 경우 learning rate를 시각화 하여 loss 증가 직전의 learning rate 선택  \n",
    "\n",
    "- 선택한 learning rate 로 다시 train"
   ]
  },
  {
   "cell_type": "code",
   "execution_count": 7,
   "metadata": {
    "colab": {
     "base_uri": "https://localhost:8080/"
    },
    "id": "UCVyLHjSxPl6",
    "outputId": "7f1bfff5-b7c0-47d3-8959-0f08834a63e9",
    "scrolled": true
   },
   "outputs": [
    {
     "name": "stdout",
     "output_type": "stream",
     "text": [
      "Epoch 1/100\n",
      "27/27 [==============================] - 6s 33ms/step - loss: 129.7694 - mae: 130.2694 - lr: 1.0000e-08\n",
      "Epoch 2/100\n",
      "27/27 [==============================] - 0s 14ms/step - loss: 129.1375 - mae: 129.6375 - lr: 1.1220e-08\n",
      "Epoch 3/100\n",
      "27/27 [==============================] - 0s 14ms/step - loss: 128.3570 - mae: 128.8570 - lr: 1.2589e-08\n",
      "Epoch 4/100\n",
      "27/27 [==============================] - 0s 13ms/step - loss: 127.4767 - mae: 127.9767 - lr: 1.4125e-08\n",
      "Epoch 5/100\n",
      "27/27 [==============================] - 0s 14ms/step - loss: 126.4913 - mae: 126.9913 - lr: 1.5849e-08\n",
      "Epoch 6/100\n",
      "27/27 [==============================] - 0s 14ms/step - loss: 125.3802 - mae: 125.8802 - lr: 1.7783e-08\n",
      "Epoch 7/100\n",
      "27/27 [==============================] - 0s 14ms/step - loss: 124.1340 - mae: 124.6340 - lr: 1.9953e-08\n",
      "Epoch 8/100\n",
      "27/27 [==============================] - 1s 15ms/step - loss: 122.7229 - mae: 123.2229 - lr: 2.2387e-08\n",
      "Epoch 9/100\n",
      "27/27 [==============================] - 0s 15ms/step - loss: 121.1390 - mae: 121.6390 - lr: 2.5119e-08\n",
      "Epoch 10/100\n",
      "27/27 [==============================] - 1s 19ms/step - loss: 119.3450 - mae: 119.8450 - lr: 2.8184e-08\n",
      "Epoch 11/100\n",
      "27/27 [==============================] - 0s 16ms/step - loss: 117.3188 - mae: 117.8188 - lr: 3.1623e-08\n",
      "Epoch 12/100\n",
      "27/27 [==============================] - 1s 16ms/step - loss: 115.0358 - mae: 115.5358 - lr: 3.5481e-08\n",
      "Epoch 13/100\n",
      "27/27 [==============================] - 0s 15ms/step - loss: 112.4569 - mae: 112.9569 - lr: 3.9811e-08\n",
      "Epoch 14/100\n",
      "27/27 [==============================] - 0s 15ms/step - loss: 109.5506 - mae: 110.0496 - lr: 4.4668e-08\n",
      "Epoch 15/100\n",
      "27/27 [==============================] - 0s 15ms/step - loss: 106.2573 - mae: 106.7564 - lr: 5.0119e-08\n",
      "Epoch 16/100\n",
      "27/27 [==============================] - 0s 16ms/step - loss: 102.5007 - mae: 102.9981 - lr: 5.6234e-08\n",
      "Epoch 17/100\n",
      "27/27 [==============================] - 0s 15ms/step - loss: 98.1455 - mae: 98.6444 - lr: 6.3096e-08\n",
      "Epoch 18/100\n",
      "27/27 [==============================] - 0s 16ms/step - loss: 92.9715 - mae: 93.4681 - lr: 7.0795e-08\n",
      "Epoch 19/100\n",
      "27/27 [==============================] - 0s 16ms/step - loss: 87.1219 - mae: 87.6198 - lr: 7.9433e-08\n",
      "Epoch 20/100\n",
      "27/27 [==============================] - 0s 16ms/step - loss: 81.9637 - mae: 82.4610 - lr: 8.9125e-08\n",
      "Epoch 21/100\n",
      "27/27 [==============================] - 0s 16ms/step - loss: 72.5529 - mae: 73.0508 - lr: 1.0000e-07\n",
      "Epoch 22/100\n",
      "27/27 [==============================] - 0s 16ms/step - loss: 70.3209 - mae: 70.8199 - lr: 1.1220e-07\n",
      "Epoch 23/100\n",
      "27/27 [==============================] - 0s 16ms/step - loss: 68.3142 - mae: 68.8142 - lr: 1.2589e-07\n",
      "Epoch 24/100\n",
      "27/27 [==============================] - 0s 16ms/step - loss: 66.2338 - mae: 66.7327 - lr: 1.4125e-07\n",
      "Epoch 25/100\n",
      "27/27 [==============================] - 0s 16ms/step - loss: 64.0297 - mae: 64.5281 - lr: 1.5849e-07\n",
      "Epoch 26/100\n",
      "27/27 [==============================] - 0s 16ms/step - loss: 61.4287 - mae: 61.9280 - lr: 1.7783e-07\n",
      "Epoch 27/100\n",
      "27/27 [==============================] - 0s 16ms/step - loss: 58.3141 - mae: 58.8114 - lr: 1.9953e-07\n",
      "Epoch 28/100\n",
      "27/27 [==============================] - 0s 16ms/step - loss: 56.0985 - mae: 56.5968 - lr: 2.2387e-07\n",
      "Epoch 29/100\n",
      "27/27 [==============================] - 0s 16ms/step - loss: 54.7327 - mae: 55.2288 - lr: 2.5119e-07\n",
      "Epoch 30/100\n",
      "27/27 [==============================] - 0s 16ms/step - loss: 53.6226 - mae: 54.1203 - lr: 2.8184e-07\n",
      "Epoch 31/100\n",
      "27/27 [==============================] - 0s 17ms/step - loss: 52.6972 - mae: 53.1941 - lr: 3.1623e-07\n",
      "Epoch 32/100\n",
      "27/27 [==============================] - 0s 16ms/step - loss: 51.7602 - mae: 52.2586 - lr: 3.5481e-07\n",
      "Epoch 33/100\n",
      "27/27 [==============================] - 1s 19ms/step - loss: 50.7244 - mae: 51.2239 - lr: 3.9811e-07\n",
      "Epoch 34/100\n",
      "27/27 [==============================] - 0s 17ms/step - loss: 50.1602 - mae: 50.6560 - lr: 4.4668e-07\n",
      "Epoch 35/100\n",
      "27/27 [==============================] - 0s 16ms/step - loss: 49.1933 - mae: 49.6905 - lr: 5.0119e-07\n",
      "Epoch 36/100\n",
      "27/27 [==============================] - 0s 17ms/step - loss: 48.1930 - mae: 48.6893 - lr: 5.6234e-07\n",
      "Epoch 37/100\n",
      "27/27 [==============================] - 0s 17ms/step - loss: 47.1252 - mae: 47.6227 - lr: 6.3096e-07\n",
      "Epoch 38/100\n",
      "27/27 [==============================] - 0s 17ms/step - loss: 46.0002 - mae: 46.4972 - lr: 7.0795e-07\n",
      "Epoch 39/100\n",
      "27/27 [==============================] - 0s 17ms/step - loss: 44.8346 - mae: 45.3288 - lr: 7.9433e-07\n",
      "Epoch 40/100\n",
      "27/27 [==============================] - 0s 17ms/step - loss: 43.5912 - mae: 44.0874 - lr: 8.9125e-07\n",
      "Epoch 41/100\n",
      "27/27 [==============================] - 0s 16ms/step - loss: 42.3287 - mae: 42.8246 - lr: 1.0000e-06\n",
      "Epoch 42/100\n",
      "27/27 [==============================] - 0s 16ms/step - loss: 41.1222 - mae: 41.6211 - lr: 1.1220e-06\n",
      "Epoch 43/100\n",
      "27/27 [==============================] - 0s 17ms/step - loss: 39.5209 - mae: 40.0205 - lr: 1.2589e-06\n",
      "Epoch 44/100\n",
      "27/27 [==============================] - 1s 18ms/step - loss: 38.0158 - mae: 38.5117 - lr: 1.4125e-06\n",
      "Epoch 45/100\n",
      "27/27 [==============================] - 1s 17ms/step - loss: 37.2435 - mae: 37.7428 - lr: 1.5849e-06\n",
      "Epoch 46/100\n",
      "27/27 [==============================] - 1s 18ms/step - loss: 36.6150 - mae: 37.1133 - lr: 1.7783e-06\n",
      "Epoch 47/100\n",
      "27/27 [==============================] - 0s 16ms/step - loss: 35.3928 - mae: 35.8894 - lr: 1.9953e-06\n",
      "Epoch 48/100\n",
      "27/27 [==============================] - 0s 16ms/step - loss: 34.2671 - mae: 34.7643 - lr: 2.2387e-06\n",
      "Epoch 49/100\n",
      "27/27 [==============================] - 0s 16ms/step - loss: 33.2912 - mae: 33.7847 - lr: 2.5119e-06\n",
      "Epoch 50/100\n",
      "27/27 [==============================] - 0s 16ms/step - loss: 32.4098 - mae: 32.9035 - lr: 2.8184e-06\n",
      "Epoch 51/100\n",
      "27/27 [==============================] - 0s 16ms/step - loss: 31.1994 - mae: 31.6914 - lr: 3.1623e-06\n",
      "Epoch 52/100\n",
      "27/27 [==============================] - 0s 16ms/step - loss: 29.9228 - mae: 30.4200 - lr: 3.5481e-06\n",
      "Epoch 53/100\n",
      "27/27 [==============================] - 0s 16ms/step - loss: 27.6542 - mae: 28.1505 - lr: 3.9811e-06\n",
      "Epoch 54/100\n",
      "27/27 [==============================] - 0s 17ms/step - loss: 26.5976 - mae: 27.0943 - lr: 4.4668e-06\n",
      "Epoch 55/100\n",
      "27/27 [==============================] - 1s 17ms/step - loss: 26.2952 - mae: 26.7915 - lr: 5.0119e-06\n",
      "Epoch 56/100\n",
      "27/27 [==============================] - 0s 17ms/step - loss: 27.1209 - mae: 27.6154 - lr: 5.6234e-06\n",
      "Epoch 57/100\n",
      "27/27 [==============================] - 0s 17ms/step - loss: 24.2708 - mae: 24.7658 - lr: 6.3096e-06\n",
      "Epoch 58/100\n",
      "27/27 [==============================] - 0s 17ms/step - loss: 23.9469 - mae: 24.4390 - lr: 7.0795e-06\n",
      "Epoch 59/100\n",
      "27/27 [==============================] - 0s 16ms/step - loss: 24.2448 - mae: 24.7386 - lr: 7.9433e-06\n",
      "Epoch 60/100\n",
      "27/27 [==============================] - 0s 16ms/step - loss: 24.5822 - mae: 25.0771 - lr: 8.9125e-06\n",
      "Epoch 61/100\n",
      "27/27 [==============================] - 0s 16ms/step - loss: 24.1886 - mae: 24.6823 - lr: 1.0000e-05\n",
      "Epoch 62/100\n",
      "27/27 [==============================] - 0s 16ms/step - loss: 25.2985 - mae: 25.7916 - lr: 1.1220e-05\n",
      "Epoch 63/100\n",
      "27/27 [==============================] - 0s 16ms/step - loss: 28.0870 - mae: 28.5838 - lr: 1.2589e-05\n",
      "Epoch 64/100\n",
      "27/27 [==============================] - 0s 17ms/step - loss: 29.1735 - mae: 29.6713 - lr: 1.4125e-05\n",
      "Epoch 65/100\n",
      "27/27 [==============================] - 0s 16ms/step - loss: 24.9019 - mae: 25.3980 - lr: 1.5849e-05\n",
      "Epoch 66/100\n",
      "27/27 [==============================] - 0s 16ms/step - loss: 26.3469 - mae: 26.8434 - lr: 1.7783e-05\n",
      "Epoch 67/100\n",
      "27/27 [==============================] - 0s 16ms/step - loss: 23.4782 - mae: 23.9694 - lr: 1.9953e-05\n",
      "Epoch 68/100\n",
      "27/27 [==============================] - 0s 17ms/step - loss: 26.4571 - mae: 26.9511 - lr: 2.2387e-05\n",
      "Epoch 69/100\n",
      "27/27 [==============================] - 0s 16ms/step - loss: 26.3435 - mae: 26.8383 - lr: 2.5119e-05\n",
      "Epoch 70/100\n",
      "27/27 [==============================] - 0s 16ms/step - loss: 30.0660 - mae: 30.5658 - lr: 2.8184e-05\n",
      "Epoch 71/100\n",
      "27/27 [==============================] - 0s 16ms/step - loss: 38.7341 - mae: 39.2309 - lr: 3.1623e-05\n",
      "Epoch 72/100\n"
     ]
    },
    {
     "name": "stdout",
     "output_type": "stream",
     "text": [
      "27/27 [==============================] - 0s 16ms/step - loss: 32.8836 - mae: 33.3787 - lr: 3.5481e-05\n",
      "Epoch 73/100\n",
      "27/27 [==============================] - 0s 16ms/step - loss: 35.9689 - mae: 36.4635 - lr: 3.9811e-05\n",
      "Epoch 74/100\n",
      "27/27 [==============================] - 0s 17ms/step - loss: 42.2828 - mae: 42.7788 - lr: 4.4668e-05\n",
      "Epoch 75/100\n",
      "27/27 [==============================] - 0s 16ms/step - loss: 37.1756 - mae: 37.6730 - lr: 5.0119e-05\n",
      "Epoch 76/100\n",
      "27/27 [==============================] - 0s 16ms/step - loss: 36.7268 - mae: 37.2234 - lr: 5.6234e-05\n",
      "Epoch 77/100\n",
      "27/27 [==============================] - 1s 18ms/step - loss: 44.8563 - mae: 45.3537 - lr: 6.3096e-05\n",
      "Epoch 78/100\n",
      "27/27 [==============================] - 0s 16ms/step - loss: 49.5082 - mae: 50.0071 - lr: 7.0795e-05\n",
      "Epoch 79/100\n",
      "27/27 [==============================] - 0s 17ms/step - loss: 48.4370 - mae: 48.9331 - lr: 7.9433e-05\n",
      "Epoch 80/100\n",
      "27/27 [==============================] - 0s 15ms/step - loss: 40.6558 - mae: 41.1509 - lr: 8.9125e-05\n",
      "Epoch 81/100\n",
      "27/27 [==============================] - 0s 16ms/step - loss: 44.8073 - mae: 45.3030 - lr: 1.0000e-04\n",
      "Epoch 82/100\n",
      "27/27 [==============================] - 0s 16ms/step - loss: 45.3795 - mae: 45.8784 - lr: 1.1220e-04\n",
      "Epoch 83/100\n",
      "27/27 [==============================] - 0s 16ms/step - loss: 52.1860 - mae: 52.6855 - lr: 1.2589e-04\n",
      "Epoch 84/100\n",
      "27/27 [==============================] - 0s 16ms/step - loss: 45.7437 - mae: 46.2420 - lr: 1.4125e-04\n",
      "Epoch 85/100\n",
      "27/27 [==============================] - 0s 16ms/step - loss: 47.9180 - mae: 48.4153 - lr: 1.5849e-04\n",
      "Epoch 86/100\n",
      "27/27 [==============================] - 0s 16ms/step - loss: 48.9234 - mae: 49.4216 - lr: 1.7783e-04\n",
      "Epoch 87/100\n",
      "27/27 [==============================] - 0s 16ms/step - loss: 48.8675 - mae: 49.3643 - lr: 1.9953e-04\n",
      "Epoch 88/100\n",
      "27/27 [==============================] - 0s 16ms/step - loss: 41.7402 - mae: 42.2390 - lr: 2.2387e-04\n",
      "Epoch 89/100\n",
      "27/27 [==============================] - 0s 16ms/step - loss: 47.6358 - mae: 48.1324 - lr: 2.5119e-04\n",
      "Epoch 90/100\n",
      "27/27 [==============================] - 0s 16ms/step - loss: 53.0198 - mae: 53.5135 - lr: 2.8184e-04\n",
      "Epoch 91/100\n",
      "27/27 [==============================] - 0s 16ms/step - loss: 61.1318 - mae: 61.6318 - lr: 3.1623e-04\n",
      "Epoch 92/100\n",
      "27/27 [==============================] - 0s 16ms/step - loss: 50.1631 - mae: 50.6619 - lr: 3.5481e-04\n",
      "Epoch 93/100\n",
      "27/27 [==============================] - 0s 16ms/step - loss: 55.2808 - mae: 55.7808 - lr: 3.9811e-04\n",
      "Epoch 94/100\n",
      "27/27 [==============================] - 0s 16ms/step - loss: 51.9266 - mae: 52.4243 - lr: 4.4668e-04\n",
      "Epoch 95/100\n",
      "27/27 [==============================] - 0s 16ms/step - loss: 57.6958 - mae: 58.1934 - lr: 5.0119e-04\n",
      "Epoch 96/100\n",
      "27/27 [==============================] - 0s 16ms/step - loss: 61.4686 - mae: 61.9666 - lr: 5.6234e-04\n",
      "Epoch 97/100\n",
      "27/27 [==============================] - 0s 16ms/step - loss: 58.1484 - mae: 58.6469 - lr: 6.3096e-04\n",
      "Epoch 98/100\n",
      "27/27 [==============================] - 0s 16ms/step - loss: 64.0519 - mae: 64.5487 - lr: 7.0795e-04\n",
      "Epoch 99/100\n",
      "27/27 [==============================] - 0s 16ms/step - loss: 56.6396 - mae: 57.1374 - lr: 7.9433e-04\n",
      "Epoch 100/100\n",
      "27/27 [==============================] - 0s 16ms/step - loss: 56.0117 - mae: 56.5096 - lr: 8.9125e-04\n"
     ]
    }
   ],
   "source": [
    "model = create_model()\n",
    "\n",
    "lr_scheduler = tf.keras.callbacks.LearningRateScheduler(\n",
    "            lambda epoch: 1e-8 * 10**(epoch/20))\n",
    "optimizer = tf.keras.optimizers.SGD(learning_rate=1e-8, momentum=0.9)\n",
    "\n",
    "model.compile(loss=tf.keras.losses.Huber(), optimizer=optimizer, metrics=['mae'])\n",
    "\n",
    "history = model.fit(train_ds, epochs=100, callbacks=[lr_scheduler])"
   ]
  },
  {
   "cell_type": "markdown",
   "metadata": {},
   "source": [
    "- loss 시각화"
   ]
  },
  {
   "cell_type": "code",
   "execution_count": 8,
   "metadata": {},
   "outputs": [
    {
     "data": {
      "text/plain": [
       "[<matplotlib.lines.Line2D at 0x7feb6593d090>]"
      ]
     },
     "execution_count": 8,
     "metadata": {},
     "output_type": "execute_result"
    },
    {
     "data": {
      "image/png": "[encoded data removed]",
      "text/plain": [
       "<Figure size 432x288 with 1 Axes>"
      ]
     },
     "metadata": {
      "needs_background": "light"
     },
     "output_type": "display_data"
    }
   ],
   "source": [
    "plt.plot(history.history['loss'])"
   ]
  },
  {
   "cell_type": "markdown",
   "metadata": {},
   "source": [
    "### learning rate에 따른 loss 시각화"
   ]
  },
  {
   "cell_type": "code",
   "execution_count": 9,
   "metadata": {
    "scrolled": true
   },
   "outputs": [
    {
     "data": {
      "text/plain": [
       "(1e-07, 0.0001, 20.0, 70.0)"
      ]
     },
     "execution_count": 9,
     "metadata": {},
     "output_type": "execute_result"
    },
    {
     "data": {
      "image/png": "[encoded data removed]",
      "text/plain": [
       "<Figure size 432x288 with 1 Axes>"
      ]
     },
     "metadata": {
      "needs_background": "light"
     },
     "output_type": "display_data"
    }
   ],
   "source": [
    "plt.semilogx(history.history['lr'], history.history['loss'])\n",
    "plt.axis([1e-7, 1e-4, 20, 70])"
   ]
  },
  {
   "cell_type": "markdown",
   "metadata": {},
   "source": [
    "### model re-train"
   ]
  },
  {
   "cell_type": "code",
   "execution_count": 10,
   "metadata": {
    "scrolled": true
   },
   "outputs": [
    {
     "name": "stdout",
     "output_type": "stream",
     "text": [
      "Epoch 1/100\n",
      "27/27 [==============================] - 5s 16ms/step - loss: 66.4436 - mae: 66.9418\n",
      "Epoch 2/100\n",
      "27/27 [==============================] - 0s 14ms/step - loss: 45.7164 - mae: 46.2114\n",
      "Epoch 3/100\n",
      "27/27 [==============================] - 0s 13ms/step - loss: 38.1063 - mae: 38.6036\n",
      "Epoch 4/100\n",
      "27/27 [==============================] - 0s 14ms/step - loss: 33.7803 - mae: 34.2761\n",
      "Epoch 5/100\n",
      "27/27 [==============================] - 0s 14ms/step - loss: 32.2564 - mae: 32.7524\n",
      "Epoch 6/100\n",
      "27/27 [==============================] - 0s 14ms/step - loss: 30.3214 - mae: 30.8151\n",
      "Epoch 7/100\n",
      "27/27 [==============================] - 0s 15ms/step - loss: 28.6579 - mae: 29.1506\n",
      "Epoch 8/100\n",
      "27/27 [==============================] - 0s 16ms/step - loss: 27.7774 - mae: 28.2731\n",
      "Epoch 9/100\n",
      "27/27 [==============================] - 0s 16ms/step - loss: 26.7937 - mae: 27.2893\n",
      "Epoch 10/100\n",
      "27/27 [==============================] - 0s 15ms/step - loss: 24.2473 - mae: 24.7400\n",
      "Epoch 11/100\n",
      "27/27 [==============================] - 0s 15ms/step - loss: 24.4631 - mae: 24.9572\n",
      "Epoch 12/100\n",
      "27/27 [==============================] - 0s 16ms/step - loss: 23.5467 - mae: 24.0416\n",
      "Epoch 13/100\n",
      "27/27 [==============================] - 0s 15ms/step - loss: 22.8601 - mae: 23.3539\n",
      "Epoch 14/100\n",
      "27/27 [==============================] - 0s 15ms/step - loss: 23.1050 - mae: 23.6002\n",
      "Epoch 15/100\n",
      "27/27 [==============================] - 0s 16ms/step - loss: 22.6127 - mae: 23.1035\n",
      "Epoch 16/100\n",
      "27/27 [==============================] - 0s 16ms/step - loss: 26.3837 - mae: 26.8778\n",
      "Epoch 17/100\n",
      "27/27 [==============================] - 0s 16ms/step - loss: 21.9646 - mae: 22.4574\n",
      "Epoch 18/100\n",
      "27/27 [==============================] - 0s 16ms/step - loss: 22.8493 - mae: 23.3411\n",
      "Epoch 19/100\n",
      "27/27 [==============================] - 0s 16ms/step - loss: 20.9356 - mae: 21.4287\n",
      "Epoch 20/100\n",
      "27/27 [==============================] - 0s 16ms/step - loss: 23.6018 - mae: 24.0987\n",
      "Epoch 21/100\n",
      "27/27 [==============================] - 0s 16ms/step - loss: 24.4230 - mae: 24.9193\n",
      "Epoch 22/100\n",
      "27/27 [==============================] - 0s 16ms/step - loss: 23.0878 - mae: 23.5806\n",
      "Epoch 23/100\n",
      "27/27 [==============================] - 0s 16ms/step - loss: 21.4946 - mae: 21.9860\n",
      "Epoch 24/100\n",
      "27/27 [==============================] - 0s 16ms/step - loss: 21.6679 - mae: 22.1610\n",
      "Epoch 25/100\n",
      "27/27 [==============================] - 0s 15ms/step - loss: 23.6316 - mae: 24.1241\n",
      "Epoch 26/100\n",
      "27/27 [==============================] - 0s 16ms/step - loss: 29.3839 - mae: 29.8755\n",
      "Epoch 27/100\n",
      "27/27 [==============================] - 0s 16ms/step - loss: 23.1565 - mae: 23.6524\n",
      "Epoch 28/100\n",
      "27/27 [==============================] - 0s 16ms/step - loss: 22.4119 - mae: 22.9076\n",
      "Epoch 29/100\n",
      "27/27 [==============================] - 0s 16ms/step - loss: 24.0605 - mae: 24.5551\n",
      "Epoch 30/100\n",
      "27/27 [==============================] - 0s 17ms/step - loss: 24.5401 - mae: 25.0331\n",
      "Epoch 31/100\n",
      "27/27 [==============================] - 0s 16ms/step - loss: 22.7769 - mae: 23.2675\n",
      "Epoch 32/100\n",
      "27/27 [==============================] - 0s 17ms/step - loss: 21.8473 - mae: 22.3428\n",
      "Epoch 33/100\n",
      "27/27 [==============================] - 0s 16ms/step - loss: 22.0374 - mae: 22.5287\n",
      "Epoch 34/100\n",
      "27/27 [==============================] - 0s 17ms/step - loss: 22.0246 - mae: 22.5170\n",
      "Epoch 35/100\n",
      "27/27 [==============================] - 0s 17ms/step - loss: 20.4518 - mae: 20.9452\n",
      "Epoch 36/100\n",
      "27/27 [==============================] - 0s 16ms/step - loss: 21.8034 - mae: 22.3002\n",
      "Epoch 37/100\n",
      "27/27 [==============================] - 0s 17ms/step - loss: 21.7785 - mae: 22.2708\n",
      "Epoch 38/100\n",
      "27/27 [==============================] - 1s 17ms/step - loss: 20.7504 - mae: 21.2437\n",
      "Epoch 39/100\n",
      "27/27 [==============================] - 0s 16ms/step - loss: 21.8822 - mae: 22.3768\n",
      "Epoch 40/100\n",
      "27/27 [==============================] - 1s 17ms/step - loss: 21.6821 - mae: 22.1775\n",
      "Epoch 41/100\n",
      "27/27 [==============================] - 1s 17ms/step - loss: 23.0953 - mae: 23.5917\n",
      "Epoch 42/100\n",
      "27/27 [==============================] - 1s 17ms/step - loss: 23.9873 - mae: 24.4801\n",
      "Epoch 43/100\n",
      "27/27 [==============================] - 1s 17ms/step - loss: 22.9990 - mae: 23.4950\n",
      "Epoch 44/100\n",
      "27/27 [==============================] - 0s 16ms/step - loss: 20.6775 - mae: 21.1719\n",
      "Epoch 45/100\n",
      "27/27 [==============================] - 0s 16ms/step - loss: 22.4308 - mae: 22.9281\n",
      "Epoch 46/100\n",
      "27/27 [==============================] - 1s 17ms/step - loss: 21.4750 - mae: 21.9668\n",
      "Epoch 47/100\n",
      "27/27 [==============================] - 0s 16ms/step - loss: 20.2552 - mae: 20.7516\n",
      "Epoch 48/100\n",
      "27/27 [==============================] - 0s 16ms/step - loss: 20.8155 - mae: 21.3089\n",
      "Epoch 49/100\n",
      "27/27 [==============================] - 0s 16ms/step - loss: 20.9460 - mae: 21.4393\n",
      "Epoch 50/100\n",
      "27/27 [==============================] - 0s 17ms/step - loss: 22.3741 - mae: 22.8650\n",
      "Epoch 51/100\n",
      "27/27 [==============================] - 0s 17ms/step - loss: 20.1002 - mae: 20.5949\n",
      "Epoch 52/100\n",
      "27/27 [==============================] - 1s 17ms/step - loss: 21.6297 - mae: 22.1245\n",
      "Epoch 53/100\n",
      "27/27 [==============================] - 0s 17ms/step - loss: 23.4923 - mae: 23.9845\n",
      "Epoch 54/100\n",
      "27/27 [==============================] - 1s 17ms/step - loss: 23.2592 - mae: 23.7512\n",
      "Epoch 55/100\n",
      "27/27 [==============================] - 1s 17ms/step - loss: 21.1808 - mae: 21.6766\n",
      "Epoch 56/100\n",
      "27/27 [==============================] - 1s 17ms/step - loss: 20.4606 - mae: 20.9553\n",
      "Epoch 57/100\n",
      "27/27 [==============================] - 0s 17ms/step - loss: 20.3291 - mae: 20.8189\n",
      "Epoch 58/100\n",
      "27/27 [==============================] - 0s 16ms/step - loss: 21.9519 - mae: 22.4419\n",
      "Epoch 59/100\n",
      "27/27 [==============================] - 0s 17ms/step - loss: 20.1892 - mae: 20.6838\n",
      "Epoch 60/100\n",
      "27/27 [==============================] - 1s 17ms/step - loss: 21.3943 - mae: 21.8869\n",
      "Epoch 61/100\n",
      "27/27 [==============================] - 0s 17ms/step - loss: 21.5385 - mae: 22.0329\n",
      "Epoch 62/100\n",
      "27/27 [==============================] - 0s 17ms/step - loss: 20.6732 - mae: 21.1672\n",
      "Epoch 63/100\n",
      "27/27 [==============================] - 0s 17ms/step - loss: 20.2490 - mae: 20.7450\n",
      "Epoch 64/100\n",
      "27/27 [==============================] - 0s 17ms/step - loss: 23.0264 - mae: 23.5199\n",
      "Epoch 65/100\n",
      "27/27 [==============================] - 0s 17ms/step - loss: 20.0893 - mae: 20.5828\n",
      "Epoch 66/100\n",
      "27/27 [==============================] - 0s 16ms/step - loss: 22.0164 - mae: 22.5053\n",
      "Epoch 67/100\n",
      "27/27 [==============================] - 0s 17ms/step - loss: 20.0921 - mae: 20.5833\n",
      "Epoch 68/100\n",
      "27/27 [==============================] - 0s 16ms/step - loss: 20.7288 - mae: 21.2202\n",
      "Epoch 69/100\n",
      "27/27 [==============================] - 0s 16ms/step - loss: 21.5046 - mae: 21.9981\n",
      "Epoch 70/100\n",
      "27/27 [==============================] - 0s 17ms/step - loss: 20.8405 - mae: 21.3315\n",
      "Epoch 71/100\n",
      "27/27 [==============================] - 0s 17ms/step - loss: 20.1317 - mae: 20.6245\n",
      "Epoch 72/100\n",
      "27/27 [==============================] - 0s 17ms/step - loss: 21.9656 - mae: 22.4611\n",
      "Epoch 73/100\n",
      "27/27 [==============================] - 1s 17ms/step - loss: 21.4875 - mae: 21.9802\n",
      "Epoch 74/100\n",
      "27/27 [==============================] - 0s 16ms/step - loss: 20.1273 - mae: 20.6127\n",
      "Epoch 75/100\n",
      "27/27 [==============================] - 0s 17ms/step - loss: 20.7346 - mae: 21.2296\n",
      "Epoch 76/100\n",
      "27/27 [==============================] - 0s 17ms/step - loss: 20.3036 - mae: 20.7985\n",
      "Epoch 77/100\n",
      "27/27 [==============================] - 1s 18ms/step - loss: 22.7840 - mae: 23.2709\n",
      "Epoch 78/100\n",
      "27/27 [==============================] - 0s 17ms/step - loss: 20.9869 - mae: 21.4830\n",
      "Epoch 79/100\n",
      "27/27 [==============================] - 0s 16ms/step - loss: 20.8287 - mae: 21.3229\n",
      "Epoch 80/100\n",
      "27/27 [==============================] - 0s 16ms/step - loss: 21.0145 - mae: 21.5089\n",
      "Epoch 81/100\n",
      "27/27 [==============================] - 1s 17ms/step - loss: 21.9076 - mae: 22.3994\n",
      "Epoch 82/100\n",
      "27/27 [==============================] - 0s 16ms/step - loss: 21.4592 - mae: 21.9459\n",
      "Epoch 83/100\n",
      "27/27 [==============================] - 1s 17ms/step - loss: 20.3274 - mae: 20.8202\n",
      "Epoch 84/100\n",
      "27/27 [==============================] - 0s 16ms/step - loss: 19.9487 - mae: 20.4400\n",
      "Epoch 85/100\n",
      "27/27 [==============================] - 0s 17ms/step - loss: 19.2056 - mae: 19.6953\n",
      "Epoch 86/100\n",
      "27/27 [==============================] - 0s 17ms/step - loss: 20.3853 - mae: 20.8777\n",
      "Epoch 87/100\n",
      "27/27 [==============================] - 0s 16ms/step - loss: 20.8394 - mae: 21.3324\n",
      "Epoch 88/100\n",
      "27/27 [==============================] - 0s 17ms/step - loss: 22.8360 - mae: 23.3275\n",
      "Epoch 89/100\n",
      "27/27 [==============================] - 1s 17ms/step - loss: 21.2796 - mae: 21.7735\n",
      "Epoch 90/100\n",
      "27/27 [==============================] - 0s 17ms/step - loss: 21.0661 - mae: 21.5584\n",
      "Epoch 91/100\n",
      "27/27 [==============================] - 0s 17ms/step - loss: 20.6403 - mae: 21.1343\n",
      "Epoch 92/100\n",
      "27/27 [==============================] - 0s 16ms/step - loss: 22.3275 - mae: 22.8228\n",
      "Epoch 93/100\n",
      "27/27 [==============================] - 0s 16ms/step - loss: 20.6675 - mae: 21.1600\n",
      "Epoch 94/100\n",
      "27/27 [==============================] - 0s 17ms/step - loss: 20.4963 - mae: 20.9861\n",
      "Epoch 95/100\n",
      "27/27 [==============================] - 1s 17ms/step - loss: 22.7385 - mae: 23.2287\n",
      "Epoch 96/100\n",
      "27/27 [==============================] - 0s 16ms/step - loss: 23.7046 - mae: 24.1978\n",
      "Epoch 97/100\n",
      "27/27 [==============================] - 0s 17ms/step - loss: 20.8841 - mae: 21.3742\n",
      "Epoch 98/100\n",
      "27/27 [==============================] - 0s 17ms/step - loss: 20.7144 - mae: 21.2079\n",
      "Epoch 99/100\n",
      "27/27 [==============================] - 1s 17ms/step - loss: 21.9694 - mae: 22.4606\n",
      "Epoch 100/100\n",
      "27/27 [==============================] - 0s 16ms/step - loss: 21.3171 - mae: 21.8115\n"
     ]
    }
   ],
   "source": [
    "model = create_model()\n",
    "\n",
    "optimizer = tf.keras.optimizers.SGD(learning_rate=5e-6, momentum=0.9)\n",
    "\n",
    "model.compile(loss=tf.keras.losses.Huber(), optimizer=optimizer, metrics=['mae'])\n",
    "\n",
    "history = model.fit(train_ds, epochs=100)"
   ]
  },
  {
   "cell_type": "code",
   "execution_count": 11,
   "metadata": {},
   "outputs": [
    {
     "data": {
      "text/plain": [
       "[<matplotlib.lines.Line2D at 0x7feb69fc10d0>]"
      ]
     },
     "execution_count": 11,
     "metadata": {},
     "output_type": "execute_result"
    },
    {
     "data": {
      "image/png": "[encoded data removed]",
      "text/plain": [
       "<Figure size 432x288 with 1 Axes>"
      ]
     },
     "metadata": {
      "needs_background": "light"
     },
     "output_type": "display_data"
    }
   ],
   "source": [
    "plt.plot(history.history['loss'])"
   ]
  },
  {
   "cell_type": "code",
   "execution_count": 14,
   "metadata": {
    "colab": {
     "base_uri": "https://localhost:8080/",
     "height": 422
    },
    "id": "egzTJlTMxPl6",
    "outputId": "9a5b690a-0da4-4888-ca74-31a235616605"
   },
   "outputs": [
    {
     "data": {
      "image/png": "[encoded data removed]",
      "text/plain": [
       "<Figure size 1152x432 with 1 Axes>"
      ]
     },
     "metadata": {
      "needs_background": "light"
     },
     "output_type": "display_data"
    }
   ],
   "source": [
    "forecast = []\n",
    "\n",
    "for time in range(len(time_series) - window_size):\n",
    "    prediction = model.predict(time_series[time:time+window_size].reshape(1, -1))\n",
    "    forecast.append(prediction[0][0])\n",
    "    \n",
    "result = forecast[split_time-window_size:]\n",
    "\n",
    "plt.figure(figsize=(16, 6))\n",
    "plt.plot(time_test, X_test, label='True')\n",
    "plt.plot(time_test, result, label='Predicted')\n",
    "plt.xticks(rotation=90)\n",
    "plt.legend()\n",
    "plt.show()"
   ]
  },
  {
   "cell_type": "code",
   "execution_count": 15,
   "metadata": {
    "colab": {
     "base_uri": "https://localhost:8080/"
    },
    "id": "XEkB12vrxPl6",
    "outputId": "95d45783-3fe9-4a75-e5c1-944a39ae41f3"
   },
   "outputs": [
    {
     "name": "stdout",
     "output_type": "stream",
     "text": [
      "175.59389\n",
      "10.407152\n"
     ]
    }
   ],
   "source": [
    "print(tf.keras.metrics.mean_squared_error(X_test, result).numpy())\n",
    "print(tf.keras.metrics.mean_absolute_error(X_test, result).numpy())"
   ]
  },
  {
   "cell_type": "code",
   "execution_count": null,
   "metadata": {
    "id": "h__lasusxPl8"
   },
   "outputs": [],
   "source": []
  }
 ],
 "metadata": {
  "accelerator": "GPU",
  "colab": {
   "collapsed_sections": [],
   "name": "041_WindowedData_Model_Performance.ipynb",
   "provenance": []
  },
  "kernelspec": {
   "display_name": "Python 3",
   "language": "python",
   "name": "python3"
  },
  "language_info": {
   "codemirror_mode": {
    "name": "ipython",
    "version": 3
   },
   "file_extension": ".py",
   "mimetype": "text/x-python",
   "name": "python",
   "nbconvert_exporter": "python",
   "pygments_lexer": "ipython3",
   "version": "3.7.10"
  }
 },
 "nbformat": 4,
 "nbformat_minor": 1
}
