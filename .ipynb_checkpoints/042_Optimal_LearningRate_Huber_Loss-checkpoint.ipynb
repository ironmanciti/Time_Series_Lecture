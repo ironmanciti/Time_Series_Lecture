{
 "cells": [
  {
   "cell_type": "markdown",
   "metadata": {
    "id": "UQW0noetxPlq"
   },
   "source": [
    "# Optimal Learning Rate 찾기 및 Huber Loss 함수 적용\n",
    "\n",
    "손실 함수는 크게 분류 및 회귀 손실의 두 가지 유형으로 분류 할 수 있습니다. Huber Loss는 회귀 손실에 속합니다. Huber 손실은 제곱 오차 손실보다 데이터의 이상 값에 덜 민감합니다. \n",
    "\n",
    "<img src=\"https://blog.kakaocdn.net/dn/081sh/btqNth1n6DL/rkSLdrV0RFuYg04k4VyeZK/img.png\" width=300/>"
   ]
  },
  {
   "cell_type": "markdown",
   "metadata": {
    "id": "AAiYtx2xxPlt"
   },
   "source": [
    "### Sunspots 데이터셋을 활용하여 window_dataset 만들기"
   ]
  },
  {
   "cell_type": "code",
   "execution_count": 1,
   "metadata": {
    "colab": {
     "base_uri": "https://localhost:8080/",
     "height": 206
    },
    "id": "fu_77IlnxPlu",
    "outputId": "f2e502b2-5de0-471d-a633-d184ea701db7"
   },
   "outputs": [
    {
     "data": {
      "text/html": [
       "<div>\n",
       "<style scoped>\n",
       "    .dataframe tbody tr th:only-of-type {\n",
       "        vertical-align: middle;\n",
       "    }\n",
       "\n",
       "    .dataframe tbody tr th {\n",
       "        vertical-align: top;\n",
       "    }\n",
       "\n",
       "    .dataframe thead th {\n",
       "        text-align: right;\n",
       "    }\n",
       "</style>\n",
       "<table border=\"1\" class=\"dataframe\">\n",
       "  <thead>\n",
       "    <tr style=\"text-align: right;\">\n",
       "      <th></th>\n",
       "      <th>Date</th>\n",
       "      <th>Monthly Mean Total Sunspot Number</th>\n",
       "    </tr>\n",
       "  </thead>\n",
       "  <tbody>\n",
       "    <tr>\n",
       "      <th>0</th>\n",
       "      <td>1749-01-31</td>\n",
       "      <td>96.7</td>\n",
       "    </tr>\n",
       "    <tr>\n",
       "      <th>1</th>\n",
       "      <td>1749-02-28</td>\n",
       "      <td>104.3</td>\n",
       "    </tr>\n",
       "    <tr>\n",
       "      <th>2</th>\n",
       "      <td>1749-03-31</td>\n",
       "      <td>116.7</td>\n",
       "    </tr>\n",
       "    <tr>\n",
       "      <th>3</th>\n",
       "      <td>1749-04-30</td>\n",
       "      <td>92.8</td>\n",
       "    </tr>\n",
       "    <tr>\n",
       "      <th>4</th>\n",
       "      <td>1749-05-31</td>\n",
       "      <td>141.7</td>\n",
       "    </tr>\n",
       "  </tbody>\n",
       "</table>\n",
       "</div>"
      ],
      "text/plain": [
       "         Date  Monthly Mean Total Sunspot Number\n",
       "0  1749-01-31                               96.7\n",
       "1  1749-02-28                              104.3\n",
       "2  1749-03-31                              116.7\n",
       "3  1749-04-30                               92.8\n",
       "4  1749-05-31                              141.7"
      ]
     },
     "execution_count": 1,
     "metadata": {},
     "output_type": "execute_result"
    }
   ],
   "source": [
    "import tensorflow as tf\n",
    "import numpy as np\n",
    "import matplotlib.pyplot as plt\n",
    "from sklearn.metrics import mean_squared_error, mean_absolute_error\n",
    "import pandas as pd\n",
    "\n",
    "url = 'https://storage.googleapis.com/download.tensorflow.org/data/Sunspots.csv'\n",
    "df = pd.read_csv(url, skiprows=0, index_col=0) # 첫 줄은 header이므로 skip \n",
    "df.head()"
   ]
  },
  {
   "cell_type": "markdown",
   "metadata": {
    "id": "Xzgj5nhFFPUS"
   },
   "source": [
    "- 시간 절약을 위해 최근 500 개월치 data 만 이용"
   ]
  },
  {
   "cell_type": "code",
   "execution_count": 2,
   "metadata": {
    "colab": {
     "base_uri": "https://localhost:8080/"
    },
    "id": "pOHj-Sj6Bxq0",
    "outputId": "05f72f37-94e9-4d01-f90e-c9f3d982930e"
   },
   "outputs": [
    {
     "data": {
      "text/plain": [
       "((500,), (500,))"
      ]
     },
     "execution_count": 2,
     "metadata": {},
     "output_type": "execute_result"
    }
   ],
   "source": [
    "time = df.iloc[-500:, 0].values\n",
    "time_series = df.iloc[-500:, 1].values\n",
    "time.shape, time_series.shape"
   ]
  },
  {
   "cell_type": "markdown",
   "metadata": {
    "id": "szHb65PCxPlw"
   },
   "source": [
    "## Supervised Learning dataset 작성"
   ]
  },
  {
   "cell_type": "code",
   "execution_count": 3,
   "metadata": {
    "id": "wpH3xVcJxPlw"
   },
   "outputs": [],
   "source": [
    "def windowed_dataset(series, window_size, batch_size, shuffle_buffer):\n",
    "    ds = tf.data.Dataset.from_tensor_slices(series)\n",
    "    ds = ds.window(window_size+1, shift=1, drop_remainder=True)\n",
    "    ds = ds.flat_map(lambda w: w.batch(window_size+1))\n",
    "    ds = ds.shuffle(shuffle_buffer).map(lambda w: (w[:-1], w[-1]))\n",
    "    ds = ds.batch(batch_size).prefetch(1)\n",
    "    return ds"
   ]
  },
  {
   "cell_type": "markdown",
   "metadata": {
    "id": "snCcd5ZnxPlx"
   },
   "source": [
    "### train/validation set 분리"
   ]
  },
  {
   "cell_type": "code",
   "execution_count": 4,
   "metadata": {
    "colab": {
     "base_uri": "https://localhost:8080/"
    },
    "id": "8HuXVml6xPlx",
    "outputId": "036cce6d-5157-420c-9b5e-f44e33fb943f"
   },
   "outputs": [
    {
     "data": {
      "text/plain": [
       "(450, 50, 450, 50)"
      ]
     },
     "execution_count": 4,
     "metadata": {},
     "output_type": "execute_result"
    }
   ],
   "source": [
    "split_time = 450\n",
    "\n",
    "time_train = time[:split_time]\n",
    "time_test = time[split_time:]\n",
    "\n",
    "X_train = time_series[:split_time]\n",
    "X_test  = time_series[split_time:]\n",
    "\n",
    "len(time_train), len(time_test), len(X_train), len(X_test)"
   ]
  },
  {
   "cell_type": "code",
   "execution_count": 5,
   "metadata": {
    "colab": {
     "base_uri": "https://localhost:8080/"
    },
    "id": "Gep8OGvZxPly",
    "outputId": "f6d44b43-3869-4466-e4fe-5ad314883b6d"
   },
   "outputs": [
    {
     "data": {
      "text/plain": [
       "<PrefetchDataset element_spec=(TensorSpec(shape=(None, None), dtype=tf.float64, name=None), TensorSpec(shape=(None,), dtype=tf.float64, name=None))>"
      ]
     },
     "execution_count": 5,
     "metadata": {},
     "output_type": "execute_result"
    }
   ],
   "source": [
    "window_size = 20\n",
    "batch_size = 16\n",
    "shuffle_buffer_size = 1000\n",
    "\n",
    "train_ds = windowed_dataset(X_train, window_size, batch_size, shuffle_buffer_size)\n",
    "train_ds"
   ]
  },
  {
   "cell_type": "code",
   "execution_count": 6,
   "metadata": {
    "colab": {
     "base_uri": "https://localhost:8080/"
    },
    "id": "R8EwGzPPxPlz",
    "outputId": "9096a831-5268-4ee6-a55d-6ec92a17a5a2"
   },
   "outputs": [
    {
     "name": "stdout",
     "output_type": "stream",
     "text": [
      "x =  (16, 20)\n",
      "y =  (16,)\n"
     ]
    }
   ],
   "source": [
    "for x, y in train_ds:\n",
    "    print('x = ', x.numpy().shape)\n",
    "    print('y = ', y.numpy().shape)\n",
    "    break"
   ]
  },
  {
   "cell_type": "markdown",
   "metadata": {
    "id": "SdzCnKHKxPl6"
   },
   "source": [
    "## Stacked + Bidirectoinal LSTM"
   ]
  },
  {
   "cell_type": "code",
   "execution_count": 7,
   "metadata": {},
   "outputs": [],
   "source": [
    "def create_model():\n",
    "    model = tf.keras.models.Sequential([\n",
    "        tf.keras.layers.Lambda(lambda x: tf.expand_dims(x, axis=-1),input_shape=[None]),\n",
    "        tf.keras.layers.Bidirectional(tf.keras.layers.LSTM(32, return_sequences=True)),\n",
    "        tf.keras.layers.Bidirectional(tf.keras.layers.LSTM(32)),\n",
    "        tf.keras.layers.Dense(1),\n",
    "        tf.keras.layers.Lambda(lambda x: x * 100.0)\n",
    "        ])\n",
    "    return model"
   ]
  },
  {
   "cell_type": "markdown",
   "metadata": {},
   "source": [
    "### Optimal Learning Rate 찾기\n",
    "\n",
    "- epoch이 진행되면서 Learning Rate를 감소시킴  \n",
    "\n",
    "- loss가 감소하다 증가하는 경우 learning rate를 시각화 하여 loss 증가 직전의 learning rate 선택  \n",
    "\n",
    "- 선택한 learning rate 로 다시 train"
   ]
  },
  {
   "cell_type": "code",
   "execution_count": 8,
   "metadata": {
    "colab": {
     "base_uri": "https://localhost:8080/"
    },
    "id": "UCVyLHjSxPl6",
    "outputId": "7f1bfff5-b7c0-47d3-8959-0f08834a63e9",
    "scrolled": true
   },
   "outputs": [
    {
     "name": "stdout",
     "output_type": "stream",
     "text": [
      "Epoch 1/100\n",
      "27/27 [==============================] - 4s 28ms/step - loss: 103.9727 - mae: 104.4715 - lr: 1.0000e-08\n",
      "Epoch 2/100\n",
      "27/27 [==============================] - 0s 7ms/step - loss: 101.1793 - mae: 101.6771 - lr: 1.1220e-08\n",
      "Epoch 3/100\n",
      "27/27 [==============================] - 0s 7ms/step - loss: 100.1279 - mae: 100.6266 - lr: 1.2589e-08\n",
      "Epoch 4/100\n",
      "27/27 [==============================] - 0s 6ms/step - loss: 99.2336 - mae: 99.7313 - lr: 1.4125e-08\n",
      "Epoch 5/100\n",
      "27/27 [==============================] - 0s 7ms/step - loss: 98.2438 - mae: 98.7418 - lr: 1.5849e-08\n",
      "Epoch 6/100\n",
      "27/27 [==============================] - 0s 6ms/step - loss: 97.1010 - mae: 97.5997 - lr: 1.7783e-08\n",
      "Epoch 7/100\n",
      "27/27 [==============================] - 0s 6ms/step - loss: 95.8132 - mae: 96.3126 - lr: 1.9953e-08\n",
      "Epoch 8/100\n",
      "27/27 [==============================] - 0s 6ms/step - loss: 94.3151 - mae: 94.8111 - lr: 2.2387e-08\n",
      "Epoch 9/100\n",
      "27/27 [==============================] - 0s 6ms/step - loss: 92.5589 - mae: 93.0582 - lr: 2.5119e-08\n",
      "Epoch 10/100\n",
      "27/27 [==============================] - 0s 6ms/step - loss: 90.4692 - mae: 90.9676 - lr: 2.8184e-08\n",
      "Epoch 11/100\n",
      "27/27 [==============================] - 0s 6ms/step - loss: 88.0086 - mae: 88.5074 - lr: 3.1623e-08\n",
      "Epoch 12/100\n",
      "27/27 [==============================] - 0s 6ms/step - loss: 85.2629 - mae: 85.7602 - lr: 3.5481e-08\n",
      "Epoch 13/100\n",
      "27/27 [==============================] - 0s 6ms/step - loss: 82.6704 - mae: 83.1667 - lr: 3.9811e-08\n",
      "Epoch 14/100\n",
      "27/27 [==============================] - 0s 6ms/step - loss: 80.3844 - mae: 80.8835 - lr: 4.4668e-08\n",
      "Epoch 15/100\n",
      "27/27 [==============================] - 0s 6ms/step - loss: 78.4216 - mae: 78.9204 - lr: 5.0119e-08\n",
      "Epoch 16/100\n",
      "27/27 [==============================] - 0s 6ms/step - loss: 76.6313 - mae: 77.1291 - lr: 5.6234e-08\n",
      "Epoch 17/100\n",
      "27/27 [==============================] - 0s 6ms/step - loss: 74.9574 - mae: 75.4547 - lr: 6.3096e-08\n",
      "Epoch 18/100\n",
      "27/27 [==============================] - 0s 6ms/step - loss: 73.3624 - mae: 73.8576 - lr: 7.0795e-08\n",
      "Epoch 19/100\n",
      "27/27 [==============================] - 0s 6ms/step - loss: 71.8608 - mae: 72.3551 - lr: 7.9433e-08\n",
      "Epoch 20/100\n",
      "27/27 [==============================] - 0s 6ms/step - loss: 70.4547 - mae: 70.9530 - lr: 8.9125e-08\n",
      "Epoch 21/100\n",
      "27/27 [==============================] - 0s 6ms/step - loss: 69.0082 - mae: 69.5070 - lr: 1.0000e-07\n",
      "Epoch 22/100\n",
      "27/27 [==============================] - 0s 6ms/step - loss: 67.5969 - mae: 68.0958 - lr: 1.1220e-07\n",
      "Epoch 23/100\n",
      "27/27 [==============================] - 0s 7ms/step - loss: 66.1636 - mae: 66.6611 - lr: 1.2589e-07\n",
      "Epoch 24/100\n",
      "27/27 [==============================] - 0s 6ms/step - loss: 64.7355 - mae: 65.2339 - lr: 1.4125e-07\n",
      "Epoch 25/100\n",
      "27/27 [==============================] - 0s 6ms/step - loss: 63.4697 - mae: 63.9685 - lr: 1.5849e-07\n",
      "Epoch 26/100\n",
      "27/27 [==============================] - 0s 6ms/step - loss: 62.0211 - mae: 62.5199 - lr: 1.7783e-07\n",
      "Epoch 27/100\n",
      "27/27 [==============================] - 0s 6ms/step - loss: 60.8758 - mae: 61.3742 - lr: 1.9953e-07\n",
      "Epoch 28/100\n",
      "27/27 [==============================] - 0s 6ms/step - loss: 59.6863 - mae: 60.1841 - lr: 2.2387e-07\n",
      "Epoch 29/100\n",
      "27/27 [==============================] - 0s 6ms/step - loss: 58.4762 - mae: 58.9716 - lr: 2.5119e-07\n",
      "Epoch 30/100\n",
      "27/27 [==============================] - 0s 6ms/step - loss: 57.6582 - mae: 58.1573 - lr: 2.8184e-07\n",
      "Epoch 31/100\n",
      "27/27 [==============================] - 0s 6ms/step - loss: 57.0143 - mae: 57.5131 - lr: 3.1623e-07\n",
      "Epoch 32/100\n",
      "27/27 [==============================] - 0s 6ms/step - loss: 56.0642 - mae: 56.5623 - lr: 3.5481e-07\n",
      "Epoch 33/100\n",
      "27/27 [==============================] - 0s 6ms/step - loss: 55.1470 - mae: 55.6466 - lr: 3.9811e-07\n",
      "Epoch 34/100\n",
      "27/27 [==============================] - 0s 6ms/step - loss: 54.2770 - mae: 54.7760 - lr: 4.4668e-07\n",
      "Epoch 35/100\n",
      "27/27 [==============================] - 0s 6ms/step - loss: 53.4006 - mae: 53.8980 - lr: 5.0119e-07\n",
      "Epoch 36/100\n",
      "27/27 [==============================] - 0s 6ms/step - loss: 52.5518 - mae: 53.0502 - lr: 5.6234e-07\n",
      "Epoch 37/100\n",
      "27/27 [==============================] - 0s 6ms/step - loss: 51.7074 - mae: 52.2064 - lr: 6.3096e-07\n",
      "Epoch 38/100\n",
      "27/27 [==============================] - 0s 6ms/step - loss: 50.8302 - mae: 51.3282 - lr: 7.0795e-07\n",
      "Epoch 39/100\n",
      "27/27 [==============================] - 0s 6ms/step - loss: 49.9415 - mae: 50.4390 - lr: 7.9433e-07\n",
      "Epoch 40/100\n",
      "27/27 [==============================] - 0s 6ms/step - loss: 48.8376 - mae: 49.3367 - lr: 8.9125e-07\n",
      "Epoch 41/100\n",
      "27/27 [==============================] - 0s 6ms/step - loss: 48.0191 - mae: 48.5172 - lr: 1.0000e-06\n",
      "Epoch 42/100\n",
      "27/27 [==============================] - 0s 6ms/step - loss: 49.2362 - mae: 49.7329 - lr: 1.1220e-06\n",
      "Epoch 43/100\n",
      "27/27 [==============================] - 0s 6ms/step - loss: 47.7308 - mae: 48.2300 - lr: 1.2589e-06\n",
      "Epoch 44/100\n",
      "27/27 [==============================] - 0s 6ms/step - loss: 46.0826 - mae: 46.5822 - lr: 1.4125e-06\n",
      "Epoch 45/100\n",
      "27/27 [==============================] - 0s 6ms/step - loss: 44.3356 - mae: 44.8355 - lr: 1.5849e-06\n",
      "Epoch 46/100\n",
      "27/27 [==============================] - 0s 6ms/step - loss: 42.4419 - mae: 42.9408 - lr: 1.7783e-06\n",
      "Epoch 47/100\n",
      "27/27 [==============================] - 0s 6ms/step - loss: 40.7702 - mae: 41.2686 - lr: 1.9953e-06\n",
      "Epoch 48/100\n",
      "27/27 [==============================] - 0s 6ms/step - loss: 38.6800 - mae: 39.1779 - lr: 2.2387e-06\n",
      "Epoch 49/100\n",
      "27/27 [==============================] - 0s 6ms/step - loss: 36.7414 - mae: 37.2381 - lr: 2.5119e-06\n",
      "Epoch 50/100\n",
      "27/27 [==============================] - 0s 6ms/step - loss: 35.0135 - mae: 35.5122 - lr: 2.8184e-06\n",
      "Epoch 51/100\n",
      "27/27 [==============================] - 0s 6ms/step - loss: 33.7893 - mae: 34.2847 - lr: 3.1623e-06\n",
      "Epoch 52/100\n",
      "27/27 [==============================] - 0s 6ms/step - loss: 32.8844 - mae: 33.3818 - lr: 3.5481e-06\n",
      "Epoch 53/100\n",
      "27/27 [==============================] - 0s 6ms/step - loss: 31.3246 - mae: 31.8238 - lr: 3.9811e-06\n",
      "Epoch 54/100\n",
      "27/27 [==============================] - 0s 6ms/step - loss: 30.5037 - mae: 30.9990 - lr: 4.4668e-06\n",
      "Epoch 55/100\n",
      "27/27 [==============================] - 0s 6ms/step - loss: 30.0372 - mae: 30.5328 - lr: 5.0119e-06\n",
      "Epoch 56/100\n",
      "27/27 [==============================] - 0s 6ms/step - loss: 30.8822 - mae: 31.3764 - lr: 5.6234e-06\n",
      "Epoch 57/100\n",
      "27/27 [==============================] - 0s 6ms/step - loss: 27.6194 - mae: 28.1156 - lr: 6.3096e-06\n",
      "Epoch 58/100\n",
      "27/27 [==============================] - 0s 6ms/step - loss: 28.0171 - mae: 28.5125 - lr: 7.0795e-06\n",
      "Epoch 59/100\n",
      "27/27 [==============================] - 0s 6ms/step - loss: 26.4272 - mae: 26.9217 - lr: 7.9433e-06\n",
      "Epoch 60/100\n",
      "27/27 [==============================] - 0s 6ms/step - loss: 27.0536 - mae: 27.5494 - lr: 8.9125e-06\n",
      "Epoch 61/100\n",
      "27/27 [==============================] - 0s 6ms/step - loss: 25.1903 - mae: 25.6834 - lr: 1.0000e-05\n",
      "Epoch 62/100\n",
      "27/27 [==============================] - 0s 6ms/step - loss: 26.2982 - mae: 26.7939 - lr: 1.1220e-05\n",
      "Epoch 63/100\n",
      "27/27 [==============================] - 0s 6ms/step - loss: 30.8048 - mae: 31.3009 - lr: 1.2589e-05\n",
      "Epoch 64/100\n",
      "27/27 [==============================] - 0s 6ms/step - loss: 24.8311 - mae: 25.3276 - lr: 1.4125e-05\n",
      "Epoch 65/100\n",
      "27/27 [==============================] - 0s 6ms/step - loss: 28.4631 - mae: 28.9587 - lr: 1.5849e-05\n",
      "Epoch 66/100\n",
      "27/27 [==============================] - 0s 6ms/step - loss: 34.5666 - mae: 35.0644 - lr: 1.7783e-05\n",
      "Epoch 67/100\n",
      "27/27 [==============================] - 0s 6ms/step - loss: 28.1099 - mae: 28.6029 - lr: 1.9953e-05\n",
      "Epoch 68/100\n",
      "27/27 [==============================] - 0s 6ms/step - loss: 33.4075 - mae: 33.9043 - lr: 2.2387e-05\n",
      "Epoch 69/100\n",
      "27/27 [==============================] - 0s 6ms/step - loss: 32.4657 - mae: 32.9590 - lr: 2.5119e-05\n",
      "Epoch 70/100\n",
      "27/27 [==============================] - 0s 6ms/step - loss: 31.3133 - mae: 31.8092 - lr: 2.8184e-05\n",
      "Epoch 71/100\n",
      "27/27 [==============================] - 0s 6ms/step - loss: 29.6953 - mae: 30.1939 - lr: 3.1623e-05\n",
      "Epoch 72/100\n",
      "27/27 [==============================] - 0s 6ms/step - loss: 31.9987 - mae: 32.4973 - lr: 3.5481e-05\n"
     ]
    },
    {
     "name": "stdout",
     "output_type": "stream",
     "text": [
      "Epoch 73/100\n",
      "27/27 [==============================] - 0s 6ms/step - loss: 35.1766 - mae: 35.6762 - lr: 3.9811e-05\n",
      "Epoch 74/100\n",
      "27/27 [==============================] - 0s 6ms/step - loss: 34.6024 - mae: 35.0994 - lr: 4.4668e-05\n",
      "Epoch 75/100\n",
      "27/27 [==============================] - 0s 6ms/step - loss: 41.4847 - mae: 41.9843 - lr: 5.0119e-05\n",
      "Epoch 76/100\n",
      "27/27 [==============================] - 0s 6ms/step - loss: 40.8140 - mae: 41.3096 - lr: 5.6234e-05\n",
      "Epoch 77/100\n",
      "27/27 [==============================] - 0s 6ms/step - loss: 39.3427 - mae: 39.8402 - lr: 6.3096e-05\n",
      "Epoch 78/100\n",
      "27/27 [==============================] - 0s 6ms/step - loss: 44.7157 - mae: 45.2126 - lr: 7.0795e-05\n",
      "Epoch 79/100\n",
      "27/27 [==============================] - 0s 6ms/step - loss: 57.1802 - mae: 57.6802 - lr: 7.9433e-05\n",
      "Epoch 80/100\n",
      "27/27 [==============================] - 0s 6ms/step - loss: 43.0074 - mae: 43.5069 - lr: 8.9125e-05\n",
      "Epoch 81/100\n",
      "27/27 [==============================] - 0s 6ms/step - loss: 40.9055 - mae: 41.4006 - lr: 1.0000e-04\n",
      "Epoch 82/100\n",
      "27/27 [==============================] - 0s 6ms/step - loss: 43.4173 - mae: 43.9156 - lr: 1.1220e-04\n",
      "Epoch 83/100\n",
      "27/27 [==============================] - 0s 6ms/step - loss: 49.1293 - mae: 49.6282 - lr: 1.2589e-04\n",
      "Epoch 84/100\n",
      "27/27 [==============================] - 0s 6ms/step - loss: 41.9529 - mae: 42.4489 - lr: 1.4125e-04\n",
      "Epoch 85/100\n",
      "27/27 [==============================] - 0s 6ms/step - loss: 48.5370 - mae: 49.0345 - lr: 1.5849e-04\n",
      "Epoch 86/100\n",
      "27/27 [==============================] - 0s 6ms/step - loss: 47.7557 - mae: 48.2542 - lr: 1.7783e-04\n",
      "Epoch 87/100\n",
      "27/27 [==============================] - 0s 6ms/step - loss: 46.0294 - mae: 46.5281 - lr: 1.9953e-04\n",
      "Epoch 88/100\n",
      "27/27 [==============================] - 0s 6ms/step - loss: 57.1656 - mae: 57.6645 - lr: 2.2387e-04\n",
      "Epoch 89/100\n",
      "27/27 [==============================] - 0s 6ms/step - loss: 51.0228 - mae: 51.5211 - lr: 2.5119e-04\n",
      "Epoch 90/100\n",
      "27/27 [==============================] - 0s 6ms/step - loss: 58.7487 - mae: 59.2467 - lr: 2.8184e-04\n",
      "Epoch 91/100\n",
      "27/27 [==============================] - 0s 6ms/step - loss: 58.0451 - mae: 58.5423 - lr: 3.1623e-04\n",
      "Epoch 92/100\n",
      "27/27 [==============================] - 0s 6ms/step - loss: 55.0261 - mae: 55.5250 - lr: 3.5481e-04\n",
      "Epoch 93/100\n",
      "27/27 [==============================] - 0s 6ms/step - loss: 53.2874 - mae: 53.7854 - lr: 3.9811e-04\n",
      "Epoch 94/100\n",
      "27/27 [==============================] - 0s 6ms/step - loss: 57.6547 - mae: 58.1524 - lr: 4.4668e-04\n",
      "Epoch 95/100\n",
      "27/27 [==============================] - 0s 6ms/step - loss: 53.4065 - mae: 53.9049 - lr: 5.0119e-04\n",
      "Epoch 96/100\n",
      "27/27 [==============================] - 0s 6ms/step - loss: 57.3467 - mae: 57.8447 - lr: 5.6234e-04\n",
      "Epoch 97/100\n",
      "27/27 [==============================] - 0s 6ms/step - loss: 49.9388 - mae: 50.4383 - lr: 6.3096e-04\n",
      "Epoch 98/100\n",
      "27/27 [==============================] - 0s 6ms/step - loss: 61.6202 - mae: 62.1179 - lr: 7.0795e-04\n",
      "Epoch 99/100\n",
      "27/27 [==============================] - 0s 6ms/step - loss: 55.3743 - mae: 55.8713 - lr: 7.9433e-04\n",
      "Epoch 100/100\n",
      "27/27 [==============================] - 0s 7ms/step - loss: 66.4598 - mae: 66.9565 - lr: 8.9125e-04\n"
     ]
    }
   ],
   "source": [
    "model = create_model()\n",
    "\n",
    "lr_scheduler = tf.keras.callbacks.LearningRateScheduler(\n",
    "            lambda epoch: 1e-8 * 10**(epoch/20))\n",
    "optimizer = tf.keras.optimizers.SGD(learning_rate=1e-8, momentum=0.9)\n",
    "\n",
    "model.compile(loss=tf.keras.losses.Huber(), optimizer=optimizer, metrics=['mae'])\n",
    "\n",
    "history = model.fit(train_ds, epochs=100, callbacks=[lr_scheduler])"
   ]
  },
  {
   "cell_type": "markdown",
   "metadata": {},
   "source": [
    "- loss 시각화"
   ]
  },
  {
   "cell_type": "code",
   "execution_count": 9,
   "metadata": {},
   "outputs": [
    {
     "data": {
      "text/plain": [
       "[<matplotlib.lines.Line2D at 0x1bb7300d610>]"
      ]
     },
     "execution_count": 9,
     "metadata": {},
     "output_type": "execute_result"
    },
    {
     "data": {
      "image/png": "[encoded data removed]",
      "text/plain": [
       "<Figure size 432x288 with 1 Axes>"
      ]
     },
     "metadata": {
      "needs_background": "light"
     },
     "output_type": "display_data"
    }
   ],
   "source": [
    "plt.plot(history.history['loss'])"
   ]
  },
  {
   "cell_type": "markdown",
   "metadata": {},
   "source": [
    "### learning rate에 따른 loss 시각화"
   ]
  },
  {
   "cell_type": "code",
   "execution_count": 10,
   "metadata": {
    "scrolled": true
   },
   "outputs": [
    {
     "data": {
      "text/plain": [
       "(1e-07, 0.0001, 20.0, 70.0)"
      ]
     },
     "execution_count": 10,
     "metadata": {},
     "output_type": "execute_result"
    },
    {
     "data": {
      "image/png": "[encoded data removed]",
      "text/plain": [
       "<Figure size 432x288 with 1 Axes>"
      ]
     },
     "metadata": {
      "needs_background": "light"
     },
     "output_type": "display_data"
    }
   ],
   "source": [
    "plt.semilogx(history.history['lr'], history.history['loss'])\n",
    "plt.axis([1e-7, 1e-4, 20, 70])"
   ]
  },
  {
   "cell_type": "markdown",
   "metadata": {},
   "source": [
    "### model re-train"
   ]
  },
  {
   "cell_type": "code",
   "execution_count": 11,
   "metadata": {
    "scrolled": true
   },
   "outputs": [
    {
     "name": "stdout",
     "output_type": "stream",
     "text": [
      "Epoch 1/100\n",
      "27/27 [==============================] - 3s 7ms/step - loss: 94.1335 - mae: 94.6326\n",
      "Epoch 2/100\n",
      "27/27 [==============================] - 0s 6ms/step - loss: 59.6001 - mae: 60.0988\n",
      "Epoch 3/100\n",
      "27/27 [==============================] - 0s 6ms/step - loss: 48.9563 - mae: 49.4521\n",
      "Epoch 4/100\n",
      "27/27 [==============================] - 0s 6ms/step - loss: 41.1527 - mae: 41.6487\n",
      "Epoch 5/100\n",
      "27/27 [==============================] - 0s 6ms/step - loss: 35.2855 - mae: 35.7832\n",
      "Epoch 6/100\n",
      "27/27 [==============================] - 0s 7ms/step - loss: 31.1650 - mae: 31.6617\n",
      "Epoch 7/100\n",
      "27/27 [==============================] - 0s 6ms/step - loss: 28.3390 - mae: 28.8330\n",
      "Epoch 8/100\n",
      "27/27 [==============================] - 0s 6ms/step - loss: 27.6853 - mae: 28.1795\n",
      "Epoch 9/100\n",
      "27/27 [==============================] - 0s 7ms/step - loss: 25.4350 - mae: 25.9317\n",
      "Epoch 10/100\n",
      "27/27 [==============================] - 0s 7ms/step - loss: 25.0088 - mae: 25.5020\n",
      "Epoch 11/100\n",
      "27/27 [==============================] - 0s 7ms/step - loss: 25.1474 - mae: 25.6411\n",
      "Epoch 12/100\n",
      "27/27 [==============================] - 0s 6ms/step - loss: 25.2161 - mae: 25.7120\n",
      "Epoch 13/100\n",
      "27/27 [==============================] - 0s 7ms/step - loss: 24.2117 - mae: 24.7092\n",
      "Epoch 14/100\n",
      "27/27 [==============================] - 0s 6ms/step - loss: 23.9126 - mae: 24.4064\n",
      "Epoch 15/100\n",
      "27/27 [==============================] - 0s 6ms/step - loss: 23.7481 - mae: 24.2399\n",
      "Epoch 16/100\n",
      "27/27 [==============================] - 0s 7ms/step - loss: 24.3893 - mae: 24.8820\n",
      "Epoch 17/100\n",
      "27/27 [==============================] - 0s 6ms/step - loss: 22.9303 - mae: 23.4202\n",
      "Epoch 18/100\n",
      "27/27 [==============================] - 0s 7ms/step - loss: 24.1734 - mae: 24.6684\n",
      "Epoch 19/100\n",
      "27/27 [==============================] - 0s 7ms/step - loss: 23.5545 - mae: 24.0468\n",
      "Epoch 20/100\n",
      "27/27 [==============================] - 0s 7ms/step - loss: 24.1382 - mae: 24.6358\n",
      "Epoch 21/100\n",
      "27/27 [==============================] - 0s 11ms/step - loss: 22.6518 - mae: 23.1472\n",
      "Epoch 22/100\n",
      "27/27 [==============================] - 0s 7ms/step - loss: 24.4764 - mae: 24.9726\n",
      "Epoch 23/100\n",
      "27/27 [==============================] - 0s 7ms/step - loss: 22.4722 - mae: 22.9644\n",
      "Epoch 24/100\n",
      "27/27 [==============================] - 0s 7ms/step - loss: 25.7413 - mae: 26.2360\n",
      "Epoch 25/100\n",
      "27/27 [==============================] - 0s 7ms/step - loss: 23.0191 - mae: 23.5155\n",
      "Epoch 26/100\n",
      "27/27 [==============================] - 0s 7ms/step - loss: 23.2621 - mae: 23.7574\n",
      "Epoch 27/100\n",
      "27/27 [==============================] - 0s 7ms/step - loss: 22.8437 - mae: 23.3373\n",
      "Epoch 28/100\n",
      "27/27 [==============================] - 0s 7ms/step - loss: 24.0743 - mae: 24.5683\n",
      "Epoch 29/100\n",
      "27/27 [==============================] - 0s 7ms/step - loss: 23.3336 - mae: 23.8249\n",
      "Epoch 30/100\n",
      "27/27 [==============================] - 0s 7ms/step - loss: 24.2097 - mae: 24.7053\n",
      "Epoch 31/100\n",
      "27/27 [==============================] - 0s 7ms/step - loss: 22.5308 - mae: 23.0249\n",
      "Epoch 32/100\n",
      "27/27 [==============================] - 0s 7ms/step - loss: 22.9751 - mae: 23.4712\n",
      "Epoch 33/100\n",
      "27/27 [==============================] - 0s 7ms/step - loss: 22.4919 - mae: 22.9857\n",
      "Epoch 34/100\n",
      "27/27 [==============================] - 0s 7ms/step - loss: 22.5814 - mae: 23.0727\n",
      "Epoch 35/100\n",
      "27/27 [==============================] - 0s 7ms/step - loss: 21.9854 - mae: 22.4769\n",
      "Epoch 36/100\n",
      "27/27 [==============================] - 0s 7ms/step - loss: 21.4229 - mae: 21.9165\n",
      "Epoch 37/100\n",
      "27/27 [==============================] - 0s 7ms/step - loss: 21.6213 - mae: 22.1171\n",
      "Epoch 38/100\n",
      "27/27 [==============================] - 0s 7ms/step - loss: 20.8297 - mae: 21.3266\n",
      "Epoch 39/100\n",
      "27/27 [==============================] - 0s 7ms/step - loss: 21.7208 - mae: 22.2157\n",
      "Epoch 40/100\n",
      "27/27 [==============================] - 0s 7ms/step - loss: 23.0114 - mae: 23.5062\n",
      "Epoch 41/100\n",
      "27/27 [==============================] - 0s 7ms/step - loss: 22.2518 - mae: 22.7442\n",
      "Epoch 42/100\n",
      "27/27 [==============================] - 0s 7ms/step - loss: 21.0454 - mae: 21.5359\n",
      "Epoch 43/100\n",
      "27/27 [==============================] - 0s 7ms/step - loss: 21.6133 - mae: 22.1063\n",
      "Epoch 44/100\n",
      "27/27 [==============================] - 0s 7ms/step - loss: 24.9468 - mae: 25.4417\n",
      "Epoch 45/100\n",
      "27/27 [==============================] - 0s 7ms/step - loss: 21.1329 - mae: 21.6256\n",
      "Epoch 46/100\n",
      "27/27 [==============================] - 0s 7ms/step - loss: 21.5975 - mae: 22.0891\n",
      "Epoch 47/100\n",
      "27/27 [==============================] - 0s 7ms/step - loss: 24.5105 - mae: 25.0020\n",
      "Epoch 48/100\n",
      "27/27 [==============================] - 0s 7ms/step - loss: 21.4782 - mae: 21.9712\n",
      "Epoch 49/100\n",
      "27/27 [==============================] - 0s 7ms/step - loss: 20.5994 - mae: 21.0902\n",
      "Epoch 50/100\n",
      "27/27 [==============================] - 0s 7ms/step - loss: 22.8876 - mae: 23.3805\n",
      "Epoch 51/100\n",
      "27/27 [==============================] - 0s 7ms/step - loss: 21.4245 - mae: 21.9141\n",
      "Epoch 52/100\n",
      "27/27 [==============================] - 0s 7ms/step - loss: 25.3093 - mae: 25.8025\n",
      "Epoch 53/100\n",
      "27/27 [==============================] - 0s 7ms/step - loss: 22.5119 - mae: 23.0077\n",
      "Epoch 54/100\n",
      "27/27 [==============================] - 0s 7ms/step - loss: 21.2936 - mae: 21.7850\n",
      "Epoch 55/100\n",
      "27/27 [==============================] - 0s 7ms/step - loss: 21.6379 - mae: 22.1316\n",
      "Epoch 56/100\n",
      "27/27 [==============================] - 0s 7ms/step - loss: 22.1132 - mae: 22.6040\n",
      "Epoch 57/100\n",
      "27/27 [==============================] - 0s 7ms/step - loss: 23.5711 - mae: 24.0642\n",
      "Epoch 58/100\n",
      "27/27 [==============================] - 0s 7ms/step - loss: 21.3606 - mae: 21.8529\n",
      "Epoch 59/100\n",
      "27/27 [==============================] - 0s 7ms/step - loss: 21.0883 - mae: 21.5849\n",
      "Epoch 60/100\n",
      "27/27 [==============================] - 0s 7ms/step - loss: 21.8538 - mae: 22.3458\n",
      "Epoch 61/100\n",
      "27/27 [==============================] - 0s 7ms/step - loss: 22.2114 - mae: 22.7032\n",
      "Epoch 62/100\n",
      "27/27 [==============================] - 0s 7ms/step - loss: 26.5536 - mae: 27.0504\n",
      "Epoch 63/100\n",
      "27/27 [==============================] - 0s 7ms/step - loss: 23.5424 - mae: 24.0337\n",
      "Epoch 64/100\n",
      "27/27 [==============================] - 0s 7ms/step - loss: 21.0148 - mae: 21.5073\n",
      "Epoch 65/100\n",
      "27/27 [==============================] - 0s 7ms/step - loss: 22.1117 - mae: 22.6031\n",
      "Epoch 66/100\n",
      "27/27 [==============================] - 0s 7ms/step - loss: 24.4114 - mae: 24.9053\n",
      "Epoch 67/100\n",
      "27/27 [==============================] - 0s 7ms/step - loss: 21.2137 - mae: 21.7055\n",
      "Epoch 68/100\n",
      "27/27 [==============================] - 0s 7ms/step - loss: 22.4636 - mae: 22.9559\n",
      "Epoch 69/100\n",
      "27/27 [==============================] - 0s 7ms/step - loss: 22.7236 - mae: 23.2125\n",
      "Epoch 70/100\n",
      "27/27 [==============================] - 0s 7ms/step - loss: 21.5440 - mae: 22.0359\n",
      "Epoch 71/100\n",
      "27/27 [==============================] - 0s 7ms/step - loss: 20.7207 - mae: 21.2122\n",
      "Epoch 72/100\n",
      "27/27 [==============================] - 0s 7ms/step - loss: 22.0808 - mae: 22.5763\n",
      "Epoch 73/100\n",
      "27/27 [==============================] - 0s 7ms/step - loss: 22.5991 - mae: 23.0899\n",
      "Epoch 74/100\n",
      "27/27 [==============================] - 0s 7ms/step - loss: 20.7995 - mae: 21.2921\n",
      "Epoch 75/100\n",
      "27/27 [==============================] - 0s 7ms/step - loss: 20.3794 - mae: 20.8729\n",
      "Epoch 76/100\n",
      "27/27 [==============================] - 0s 7ms/step - loss: 21.7322 - mae: 22.2256\n",
      "Epoch 77/100\n",
      "27/27 [==============================] - 0s 7ms/step - loss: 20.6634 - mae: 21.1580\n",
      "Epoch 78/100\n",
      "27/27 [==============================] - 0s 7ms/step - loss: 20.6779 - mae: 21.1692\n",
      "Epoch 79/100\n",
      "27/27 [==============================] - 0s 7ms/step - loss: 21.0859 - mae: 21.5796\n",
      "Epoch 80/100\n",
      "27/27 [==============================] - 0s 7ms/step - loss: 19.7576 - mae: 20.2499\n",
      "Epoch 81/100\n",
      "27/27 [==============================] - 0s 7ms/step - loss: 20.7288 - mae: 21.2197\n",
      "Epoch 82/100\n",
      "27/27 [==============================] - 0s 8ms/step - loss: 21.3434 - mae: 21.8387\n",
      "Epoch 83/100\n",
      "27/27 [==============================] - 0s 7ms/step - loss: 23.3856 - mae: 23.8812\n",
      "Epoch 84/100\n",
      "27/27 [==============================] - 0s 7ms/step - loss: 20.7447 - mae: 21.2364\n",
      "Epoch 85/100\n"
     ]
    },
    {
     "name": "stdout",
     "output_type": "stream",
     "text": [
      "27/27 [==============================] - 0s 7ms/step - loss: 20.3389 - mae: 20.8298\n",
      "Epoch 86/100\n",
      "27/27 [==============================] - 0s 7ms/step - loss: 21.0810 - mae: 21.5687\n",
      "Epoch 87/100\n",
      "27/27 [==============================] - 0s 7ms/step - loss: 19.9313 - mae: 20.4238\n",
      "Epoch 88/100\n",
      "27/27 [==============================] - 0s 7ms/step - loss: 21.5982 - mae: 22.0921\n",
      "Epoch 89/100\n",
      "27/27 [==============================] - 0s 7ms/step - loss: 20.9707 - mae: 21.4606\n",
      "Epoch 90/100\n",
      "27/27 [==============================] - 0s 7ms/step - loss: 20.9167 - mae: 21.4108\n",
      "Epoch 91/100\n",
      "27/27 [==============================] - 0s 7ms/step - loss: 20.5396 - mae: 21.0300\n",
      "Epoch 92/100\n",
      "27/27 [==============================] - 0s 7ms/step - loss: 23.5704 - mae: 24.0643\n",
      "Epoch 93/100\n",
      "27/27 [==============================] - 0s 7ms/step - loss: 20.7873 - mae: 21.2820\n",
      "Epoch 94/100\n",
      "27/27 [==============================] - 0s 7ms/step - loss: 20.3364 - mae: 20.8263\n",
      "Epoch 95/100\n",
      "27/27 [==============================] - 0s 7ms/step - loss: 20.6016 - mae: 21.0950\n",
      "Epoch 96/100\n",
      "27/27 [==============================] - 0s 7ms/step - loss: 19.9099 - mae: 20.4045\n",
      "Epoch 97/100\n",
      "27/27 [==============================] - 0s 7ms/step - loss: 21.6766 - mae: 22.1689\n",
      "Epoch 98/100\n",
      "27/27 [==============================] - 0s 7ms/step - loss: 21.2697 - mae: 21.7660\n",
      "Epoch 99/100\n",
      "27/27 [==============================] - 0s 7ms/step - loss: 20.6610 - mae: 21.1563\n",
      "Epoch 100/100\n",
      "27/27 [==============================] - 0s 7ms/step - loss: 20.1360 - mae: 20.6252\n"
     ]
    }
   ],
   "source": [
    "model = create_model()\n",
    "\n",
    "optimizer = tf.keras.optimizers.SGD(learning_rate=5e-6, momentum=0.9)\n",
    "\n",
    "model.compile(loss=tf.keras.losses.Huber(), optimizer=optimizer, metrics=['mae'])\n",
    "\n",
    "history = model.fit(train_ds, epochs=100)"
   ]
  },
  {
   "cell_type": "code",
   "execution_count": 12,
   "metadata": {},
   "outputs": [
    {
     "data": {
      "text/plain": [
       "[<matplotlib.lines.Line2D at 0x1bb74a1e970>]"
      ]
     },
     "execution_count": 12,
     "metadata": {},
     "output_type": "execute_result"
    },
    {
     "data": {
      "image/png": "[encoded data removed]",
      "text/plain": [
       "<Figure size 432x288 with 1 Axes>"
      ]
     },
     "metadata": {
      "needs_background": "light"
     },
     "output_type": "display_data"
    }
   ],
   "source": [
    "plt.plot(history.history['loss'])"
   ]
  },
  {
   "cell_type": "code",
   "execution_count": 13,
   "metadata": {
    "colab": {
     "base_uri": "https://localhost:8080/",
     "height": 422
    },
    "id": "egzTJlTMxPl6",
    "outputId": "9a5b690a-0da4-4888-ca74-31a235616605"
   },
   "outputs": [
    {
     "data": {
      "image/png": "[encoded data removed]",
      "text/plain": [
       "<Figure size 1152x432 with 1 Axes>"
      ]
     },
     "metadata": {
      "needs_background": "light"
     },
     "output_type": "display_data"
    }
   ],
   "source": [
    "forecast = []\n",
    "\n",
    "for time in range(len(time_series) - window_size):\n",
    "    prediction = model.predict(time_series[time:time+window_size].reshape(1, -1))\n",
    "    forecast.append(prediction[0][0])\n",
    "    \n",
    "result = forecast[split_time-window_size:]\n",
    "\n",
    "plt.figure(figsize=(16, 6))\n",
    "plt.plot(time_test, X_test, label='True')\n",
    "plt.plot(time_test, result, label='Predicted')\n",
    "plt.xticks(rotation=90)\n",
    "plt.legend()\n",
    "plt.show()"
   ]
  },
  {
   "cell_type": "code",
   "execution_count": 14,
   "metadata": {
    "colab": {
     "base_uri": "https://localhost:8080/"
    },
    "id": "XEkB12vrxPl6",
    "outputId": "95d45783-3fe9-4a75-e5c1-944a39ae41f3"
   },
   "outputs": [
    {
     "name": "stdout",
     "output_type": "stream",
     "text": [
      "290.64304\n",
      "12.295989\n"
     ]
    }
   ],
   "source": [
    "print(tf.keras.metrics.mean_squared_error(X_test, result).numpy())\n",
    "print(tf.keras.metrics.mean_absolute_error(X_test, result).numpy())"
   ]
  },
  {
   "cell_type": "code",
   "execution_count": null,
   "metadata": {
    "id": "h__lasusxPl8"
   },
   "outputs": [],
   "source": []
  }
 ],
 "metadata": {
  "accelerator": "GPU",
  "colab": {
   "collapsed_sections": [],
   "name": "041_WindowedData_Model_Performance.ipynb",
   "provenance": []
  },
  "kernelspec": {
   "display_name": "Python 3 (ipykernel)",
   "language": "python",
   "name": "python3"
  },
  "language_info": {
   "codemirror_mode": {
    "name": "ipython",
    "version": 3
   },
   "file_extension": ".py",
   "mimetype": "text/x-python",
   "name": "python",
   "nbconvert_exporter": "python",
   "pygments_lexer": "ipython3",
   "version": "3.8.12"
  }
 },
 "nbformat": 4,
 "nbformat_minor": 1
}
