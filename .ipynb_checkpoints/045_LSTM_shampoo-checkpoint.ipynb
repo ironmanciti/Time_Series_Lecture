{
 "cells": [
  {
   "cell_type": "markdown",
   "id": "eda47c0e",
   "metadata": {
    "id": "eda47c0e"
   },
   "source": [
    "# Time Series LSTM model "
   ]
  },
  {
   "cell_type": "code",
   "execution_count": 22,
   "id": "a4117390",
   "metadata": {
    "colab": {
     "base_uri": "https://localhost:8080/",
     "height": 237
    },
    "id": "a4117390",
    "outputId": "d8a38d4b-880d-4f3f-b6ea-d266eeb8a1db"
   },
   "outputs": [
    {
     "data": {
      "text/html": [
       "<div>\n",
       "<style scoped>\n",
       "    .dataframe tbody tr th:only-of-type {\n",
       "        vertical-align: middle;\n",
       "    }\n",
       "\n",
       "    .dataframe tbody tr th {\n",
       "        vertical-align: top;\n",
       "    }\n",
       "\n",
       "    .dataframe thead th {\n",
       "        text-align: right;\n",
       "    }\n",
       "</style>\n",
       "<table border=\"1\" class=\"dataframe\">\n",
       "  <thead>\n",
       "    <tr style=\"text-align: right;\">\n",
       "      <th></th>\n",
       "      <th>Sales</th>\n",
       "    </tr>\n",
       "    <tr>\n",
       "      <th>Month</th>\n",
       "      <th></th>\n",
       "    </tr>\n",
       "  </thead>\n",
       "  <tbody>\n",
       "    <tr>\n",
       "      <th>2011-01-01</th>\n",
       "      <td>266.0</td>\n",
       "    </tr>\n",
       "    <tr>\n",
       "      <th>2011-02-01</th>\n",
       "      <td>145.9</td>\n",
       "    </tr>\n",
       "    <tr>\n",
       "      <th>2011-03-01</th>\n",
       "      <td>183.1</td>\n",
       "    </tr>\n",
       "    <tr>\n",
       "      <th>2011-04-01</th>\n",
       "      <td>119.3</td>\n",
       "    </tr>\n",
       "    <tr>\n",
       "      <th>2011-05-01</th>\n",
       "      <td>180.3</td>\n",
       "    </tr>\n",
       "  </tbody>\n",
       "</table>\n",
       "</div>"
      ],
      "text/plain": [
       "            Sales\n",
       "Month            \n",
       "2011-01-01  266.0\n",
       "2011-02-01  145.9\n",
       "2011-03-01  183.1\n",
       "2011-04-01  119.3\n",
       "2011-05-01  180.3"
      ]
     },
     "execution_count": 22,
     "metadata": {},
     "output_type": "execute_result"
    }
   ],
   "source": [
    "df = pd.read_csv(\"shampoo-sales.csv\", index_col='Month', date_parser=dateparse)\n",
    "df.head()"
   ]
  },
  {
   "cell_type": "code",
   "execution_count": 59,
   "id": "d113YcwxllHB",
   "metadata": {
    "colab": {
     "base_uri": "https://localhost:8080/",
     "height": 309
    },
    "id": "d113YcwxllHB",
    "outputId": "8736595e-48d2-4333-a092-9285d485ef9f"
   },
   "outputs": [
    {
     "data": {
      "text/plain": [
       "<matplotlib.axes._subplots.AxesSubplot at 0x7f629c55b910>"
      ]
     },
     "execution_count": 59,
     "metadata": {},
     "output_type": "execute_result"
    },
    {
     "data": {
      "image/png": "[encoded data removed]",
      "text/plain": [
       "<Figure size 432x288 with 1 Axes>"
      ]
     },
     "metadata": {
      "needs_background": "light"
     },
     "output_type": "display_data"
    }
   ],
   "source": [
    "df['Sales'].plot()"
   ]
  },
  {
   "cell_type": "markdown",
   "id": "c8a4143a",
   "metadata": {
    "id": "c8a4143a"
   },
   "source": [
    "- trend 를 제거하여 stationary 한 시계열 생성. model 은 difference를 학습."
   ]
  },
  {
   "cell_type": "code",
   "execution_count": 23,
   "id": "840006d6",
   "metadata": {
    "colab": {
     "base_uri": "https://localhost:8080/",
     "height": 237
    },
    "id": "840006d6",
    "outputId": "53584885-e240-46a3-9c45-88f4b5a482da"
   },
   "outputs": [
    {
     "data": {
      "text/html": [
       "<div>\n",
       "<style scoped>\n",
       "    .dataframe tbody tr th:only-of-type {\n",
       "        vertical-align: middle;\n",
       "    }\n",
       "\n",
       "    .dataframe tbody tr th {\n",
       "        vertical-align: top;\n",
       "    }\n",
       "\n",
       "    .dataframe thead th {\n",
       "        text-align: right;\n",
       "    }\n",
       "</style>\n",
       "<table border=\"1\" class=\"dataframe\">\n",
       "  <thead>\n",
       "    <tr style=\"text-align: right;\">\n",
       "      <th></th>\n",
       "      <th>Sales</th>\n",
       "    </tr>\n",
       "    <tr>\n",
       "      <th>Month</th>\n",
       "      <th></th>\n",
       "    </tr>\n",
       "  </thead>\n",
       "  <tbody>\n",
       "    <tr>\n",
       "      <th>2011-02-01</th>\n",
       "      <td>-120.1</td>\n",
       "    </tr>\n",
       "    <tr>\n",
       "      <th>2011-03-01</th>\n",
       "      <td>37.2</td>\n",
       "    </tr>\n",
       "    <tr>\n",
       "      <th>2011-04-01</th>\n",
       "      <td>-63.8</td>\n",
       "    </tr>\n",
       "    <tr>\n",
       "      <th>2011-05-01</th>\n",
       "      <td>61.0</td>\n",
       "    </tr>\n",
       "    <tr>\n",
       "      <th>2011-06-01</th>\n",
       "      <td>-11.8</td>\n",
       "    </tr>\n",
       "  </tbody>\n",
       "</table>\n",
       "</div>"
      ],
      "text/plain": [
       "            Sales\n",
       "Month            \n",
       "2011-02-01 -120.1\n",
       "2011-03-01   37.2\n",
       "2011-04-01  -63.8\n",
       "2011-05-01   61.0\n",
       "2011-06-01  -11.8"
      ]
     },
     "execution_count": 23,
     "metadata": {},
     "output_type": "execute_result"
    }
   ],
   "source": [
    "differenced = df.diff().dropna()\n",
    "differenced.head()"
   ]
  },
  {
   "cell_type": "markdown",
   "id": "df617d0f",
   "metadata": {
    "id": "df617d0f"
   },
   "source": [
    "### train/test split\n",
    "- train : 24 개월\n",
    "- test : 12 개월"
   ]
  },
  {
   "cell_type": "code",
   "execution_count": 60,
   "id": "16576690",
   "metadata": {
    "colab": {
     "base_uri": "https://localhost:8080/"
    },
    "id": "16576690",
    "outputId": "7ad453d4-6d89-4519-a655-6c813aa2bf69"
   },
   "outputs": [
    {
     "data": {
      "text/plain": [
       "((23, 1), (12, 1))"
      ]
     },
     "execution_count": 60,
     "metadata": {},
     "output_type": "execute_result"
    }
   ],
   "source": [
    "train = np.array(differenced[:-12]).reshape(-1, 1)\n",
    "test  = np.array(differenced[-12:]).reshape(-1, 1)\n",
    "train.shape, test.shape"
   ]
  },
  {
   "cell_type": "markdown",
   "id": "73d4a325",
   "metadata": {
    "id": "73d4a325"
   },
   "source": [
    "- feature scaling"
   ]
  },
  {
   "cell_type": "code",
   "execution_count": 25,
   "id": "3dc092cf",
   "metadata": {
    "id": "3dc092cf"
   },
   "outputs": [],
   "source": [
    "from sklearn.preprocessing import MinMaxScaler\n",
    "\n",
    "sc = MinMaxScaler()\n",
    "train_scaled = sc.fit_transform(train)\n",
    "test_scaled = sc.transform(test)"
   ]
  },
  {
   "cell_type": "code",
   "execution_count": 61,
   "id": "43e4fe1f",
   "metadata": {
    "colab": {
     "base_uri": "https://localhost:8080/"
    },
    "id": "43e4fe1f",
    "outputId": "ac6d5dd2-528a-42a2-bf49-e1f1dd90425f"
   },
   "outputs": [
    {
     "data": {
      "text/plain": [
       "((22, 1, 1), (22,))"
      ]
     },
     "execution_count": 61,
     "metadata": {},
     "output_type": "execute_result"
    }
   ],
   "source": [
    "X_train, y_train = [], []\n",
    "\n",
    "for i in range(1, len(train_scaled)):\n",
    "    X_train.append(train_scaled[i-1:i, 0])\n",
    "    y_train.append(train_scaled[i, 0])\n",
    "    \n",
    "X_train, y_train = np.array(X_train), np.array(y_train)\n",
    "X_train = np.expand_dims(X_train, axis=2)\n",
    "\n",
    "X_train.shape, y_train.shape"
   ]
  },
  {
   "cell_type": "code",
   "execution_count": 62,
   "id": "TRP4IohImax0",
   "metadata": {
    "colab": {
     "base_uri": "https://localhost:8080/"
    },
    "id": "TRP4IohImax0",
    "outputId": "b966e4ae-4f11-4ff9-9c56-47712a79de6a"
   },
   "outputs": [
    {
     "data": {
      "text/plain": [
       "(11, 1, 1)"
      ]
     },
     "execution_count": 62,
     "metadata": {},
     "output_type": "execute_result"
    }
   ],
   "source": [
    "X_test = []\n",
    "\n",
    "for i in range(1, len(test_scaled)):\n",
    "    X_test.append(test_scaled[i-1:i, 0])\n",
    "    \n",
    "X_test = np.array(X_test)\n",
    "X_test = np.expand_dims(X_test, axis=2)\n",
    "\n",
    "X_test.shape"
   ]
  },
  {
   "cell_type": "markdown",
   "id": "a7c08c6e",
   "metadata": {
    "id": "a7c08c6e"
   },
   "source": [
    "- model 생성"
   ]
  },
  {
   "cell_type": "code",
   "execution_count": null,
   "id": "16871e9d",
   "metadata": {
    "colab": {
     "base_uri": "https://localhost:8080/"
    },
    "id": "16871e9d",
    "outputId": "5b02cfc8-a6da-4311-e2cc-e4d0ee25fa34"
   },
   "outputs": [],
   "source": [
    "from tensorflow.keras.models import Sequential\n",
    "import tensorflow as tf\n",
    "\n",
    "model = Sequential([\n",
    "    tf.keras.layers.LSTM(20, input_shape=(X_train.shape[1], 1)),\n",
    "    tf.keras.layers.Dense(1)\n",
    "])\n",
    "\n",
    "model.compile(optimizer='adam', loss='mse')\n",
    "model.fit(X_train, y_train, epochs=500, batch_size=32)"
   ]
  },
  {
   "cell_type": "code",
   "execution_count": 29,
   "id": "x-qnH1yZbAAq",
   "metadata": {
    "colab": {
     "base_uri": "https://localhost:8080/"
    },
    "id": "x-qnH1yZbAAq",
    "outputId": "0fea648b-deb6-4a47-a89e-b8190dc90cc2"
   },
   "outputs": [
    {
     "data": {
      "text/plain": [
       "array([[  16.268658],\n",
       "       [ -57.562267],\n",
       "       [  83.68384 ],\n",
       "       [ -75.51363 ],\n",
       "       [  38.195866],\n",
       "       [  -9.759319],\n",
       "       [ -87.42339 ],\n",
       "       [ 102.024155],\n",
       "       [-206.02686 ],\n",
       "       [ 115.86898 ],\n",
       "       [ -61.703815]], dtype=float32)"
      ]
     },
     "execution_count": 29,
     "metadata": {},
     "output_type": "execute_result"
    }
   ],
   "source": [
    "y_hat = model.predict(X_test)\n",
    "y_hat = sc.inverse_transform(y_hat)\n",
    "y_hat"
   ]
  },
  {
   "cell_type": "markdown",
   "id": "7wx_r2dkmdrl",
   "metadata": {
    "id": "7wx_r2dkmdrl"
   },
   "source": [
    "model 은 difference를 예측하도록 학습하였으므로, 원래의 시계열로 변환하는 도우미 함수 필요."
   ]
  },
  {
   "cell_type": "code",
   "execution_count": 63,
   "id": "T6Lznsmabcfx",
   "metadata": {
    "id": "T6Lznsmabcfx"
   },
   "outputs": [],
   "source": [
    "def inverse_difference(history, yhat, interval):\n",
    "    return yhat + history[-interval]"
   ]
  },
  {
   "cell_type": "code",
   "execution_count": 64,
   "id": "GNjWQ06AfSVS",
   "metadata": {
    "id": "GNjWQ06AfSVS"
   },
   "outputs": [],
   "source": [
    "series = df.values"
   ]
  },
  {
   "cell_type": "code",
   "execution_count": 68,
   "id": "V_9XlvofbHkc",
   "metadata": {
    "colab": {
     "base_uri": "https://localhost:8080/"
    },
    "id": "V_9XlvofbHkc",
    "outputId": "1b904958-2c5f-4574-be2b-fc06432e7fe8"
   },
   "outputs": [
    {
     "name": "stdout",
     "output_type": "stream",
     "text": [
      "Month=1, Predicted=456.67, Expected=475.30\n",
      "Month=2, Predicted=258.34, Expected=475.30\n",
      "Month=3, Predicted=522.98, Expected=475.30\n",
      "Month=4, Predicted=325.79, Expected=475.30\n",
      "Month=5, Predicted=475.60, Expected=475.30\n",
      "Month=6, Predicted=565.74, Expected=475.30\n",
      "Month=7, Predicted=320.18, Expected=475.30\n",
      "Month=8, Predicted=784.02, Expected=475.30\n",
      "Month=9, Predicted=269.27, Expected=475.30\n",
      "Month=10, Predicted=697.17, Expected=475.30\n",
      "Month=11, Predicted=585.20, Expected=475.30\n"
     ]
    }
   ],
   "source": [
    "inversed_prediction = []\n",
    "true_series = []\n",
    "\n",
    "for i in range(len(y_hat)):\n",
    "    inversed = inverse_difference(series, y_hat[i], len(y_hat)-i)\n",
    "    inversed_prediction.append(inversed)\n",
    "\n",
    "    true_values = series[len(X_train) + i + 1]\n",
    "    true_series.append(true_values)\n",
    "    \n",
    "    print(f'Month={i+1}, Predicted={inversed[0]:.2f}, Expected={expected[0]:.2f}')"
   ]
  },
  {
   "cell_type": "code",
   "execution_count": 69,
   "id": "6WXCfPy1cQGf",
   "metadata": {
    "colab": {
     "base_uri": "https://localhost:8080/",
     "height": 283
    },
    "id": "6WXCfPy1cQGf",
    "outputId": "a80fb557-7a9e-45ba-9e93-b22ea597f4cb"
   },
   "outputs": [
    {
     "data": {
      "text/plain": [
       "<matplotlib.legend.Legend at 0x7f629c495c10>"
      ]
     },
     "execution_count": 69,
     "metadata": {},
     "output_type": "execute_result"
    },
    {
     "data": {
      "image/png": "[encoded data removed]",
      "text/plain": [
       "<Figure size 432x288 with 1 Axes>"
      ]
     },
     "metadata": {
      "needs_background": "light"
     },
     "output_type": "display_data"
    }
   ],
   "source": [
    "plt.plot(true_series, label='expected')\n",
    "plt.plot(inversed_prediction, label='predicted')\n",
    "plt.legend()"
   ]
  },
  {
   "cell_type": "code",
   "execution_count": null,
   "id": "s8yzLMPHd84w",
   "metadata": {
    "id": "s8yzLMPHd84w"
   },
   "outputs": [],
   "source": []
  }
 ],
 "metadata": {
  "accelerator": "GPU",
  "colab": {
   "name": "045. LSTM shampoo.ipynb",
   "provenance": []
  },
  "kernelspec": {
   "display_name": "Python 3 (ipykernel)",
   "language": "python",
   "name": "python3"
  },
  "language_info": {
   "codemirror_mode": {
    "name": "ipython",
    "version": 3
   },
   "file_extension": ".py",
   "mimetype": "text/x-python",
   "name": "python",
   "nbconvert_exporter": "python",
   "pygments_lexer": "ipython3",
   "version": "3.9.5"
  }
 },
 "nbformat": 4,
 "nbformat_minor": 5
}
