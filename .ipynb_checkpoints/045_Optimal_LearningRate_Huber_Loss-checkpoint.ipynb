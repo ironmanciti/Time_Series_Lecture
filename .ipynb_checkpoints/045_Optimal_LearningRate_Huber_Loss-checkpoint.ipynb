{
 "cells": [
  {
   "cell_type": "markdown",
   "metadata": {
    "id": "UQW0noetxPlq"
   },
   "source": [
    "# Optimal Learning Rate 찾기 및 Huber Loss 함수 적용\n",
    "\n",
    "손실 함수는 크게 분류 및 회귀 손실의 두 가지 유형으로 분류 할 수 있습니다. Huber Loss는 회귀 손실에 속합니다. Huber 손실은 제곱 오차 손실보다 데이터의 이상 값에 덜 민감합니다. \n",
    "\n",
    "<img src=\"https://blog.kakaocdn.net/dn/081sh/btqNth1n6DL/rkSLdrV0RFuYg04k4VyeZK/img.png\" width=300/>\n",
    "\n",
    "$$L_{\\delta}(y, f(x))= \\begin{cases}\n",
    "    \\frac{1}{2}(y-f(x))^2       & \\quad \\text{ for |y-f(x)|} \\leq \\delta,\\\\\n",
    "   \\delta |y-f(x)|-\\frac{1}{2} \\delta^2  & \\quad \\text{if } n \\text{ is odd}\n",
    "  \\end{cases}$$  \n",
    "  \n",
    "- Huber function은 모든 구간에서 미분가능하고 연속  \n",
    "- $\\delta$로 경사도 조절"
   ]
  },
  {
   "cell_type": "markdown",
   "metadata": {
    "id": "AAiYtx2xxPlt"
   },
   "source": [
    "### Sunspots 데이터셋을 활용하여 window_dataset 만들기"
   ]
  },
  {
   "cell_type": "code",
   "execution_count": 16,
   "metadata": {
    "colab": {
     "base_uri": "https://localhost:8080/",
     "height": 206
    },
    "id": "fu_77IlnxPlu",
    "outputId": "f2e502b2-5de0-471d-a633-d184ea701db7"
   },
   "outputs": [
    {
     "data": {
      "text/html": [
       "<div>\n",
       "<style scoped>\n",
       "    .dataframe tbody tr th:only-of-type {\n",
       "        vertical-align: middle;\n",
       "    }\n",
       "\n",
       "    .dataframe tbody tr th {\n",
       "        vertical-align: top;\n",
       "    }\n",
       "\n",
       "    .dataframe thead th {\n",
       "        text-align: right;\n",
       "    }\n",
       "</style>\n",
       "<table border=\"1\" class=\"dataframe\">\n",
       "  <thead>\n",
       "    <tr style=\"text-align: right;\">\n",
       "      <th></th>\n",
       "      <th>Date</th>\n",
       "      <th>Monthly Mean Total Sunspot Number</th>\n",
       "    </tr>\n",
       "  </thead>\n",
       "  <tbody>\n",
       "    <tr>\n",
       "      <th>0</th>\n",
       "      <td>1749-01-31</td>\n",
       "      <td>96.7</td>\n",
       "    </tr>\n",
       "    <tr>\n",
       "      <th>1</th>\n",
       "      <td>1749-02-28</td>\n",
       "      <td>104.3</td>\n",
       "    </tr>\n",
       "    <tr>\n",
       "      <th>2</th>\n",
       "      <td>1749-03-31</td>\n",
       "      <td>116.7</td>\n",
       "    </tr>\n",
       "    <tr>\n",
       "      <th>3</th>\n",
       "      <td>1749-04-30</td>\n",
       "      <td>92.8</td>\n",
       "    </tr>\n",
       "    <tr>\n",
       "      <th>4</th>\n",
       "      <td>1749-05-31</td>\n",
       "      <td>141.7</td>\n",
       "    </tr>\n",
       "  </tbody>\n",
       "</table>\n",
       "</div>"
      ],
      "text/plain": [
       "         Date  Monthly Mean Total Sunspot Number\n",
       "0  1749-01-31                               96.7\n",
       "1  1749-02-28                              104.3\n",
       "2  1749-03-31                              116.7\n",
       "3  1749-04-30                               92.8\n",
       "4  1749-05-31                              141.7"
      ]
     },
     "execution_count": 16,
     "metadata": {},
     "output_type": "execute_result"
    }
   ],
   "source": [
    "import tensorflow as tf\n",
    "import numpy as np\n",
    "import matplotlib.pyplot as plt\n",
    "from sklearn.metrics import mean_squared_error, mean_absolute_error\n",
    "import pandas as pd\n",
    "\n",
    "url = 'https://storage.googleapis.com/download.tensorflow.org/data/Sunspots.csv'\n",
    "df = pd.read_csv(url, skiprows=0, index_col=0) # 첫 줄은 header이므로 skip \n",
    "df.head()"
   ]
  },
  {
   "cell_type": "markdown",
   "metadata": {
    "id": "Xzgj5nhFFPUS"
   },
   "source": [
    "- 시간 절약을 위해 최근 500 개월치 data 만 이용"
   ]
  },
  {
   "cell_type": "code",
   "execution_count": 17,
   "metadata": {
    "colab": {
     "base_uri": "https://localhost:8080/"
    },
    "id": "pOHj-Sj6Bxq0",
    "outputId": "05f72f37-94e9-4d01-f90e-c9f3d982930e"
   },
   "outputs": [
    {
     "data": {
      "text/plain": [
       "((500,), (500,))"
      ]
     },
     "execution_count": 17,
     "metadata": {},
     "output_type": "execute_result"
    }
   ],
   "source": [
    "time = df.iloc[-500:, 0].values\n",
    "time_series = df.iloc[-500:, 1].values\n",
    "time.shape, time_series.shape"
   ]
  },
  {
   "cell_type": "markdown",
   "metadata": {
    "id": "szHb65PCxPlw"
   },
   "source": [
    "## Supervised Learning dataset 작성"
   ]
  },
  {
   "cell_type": "code",
   "execution_count": 18,
   "metadata": {
    "id": "wpH3xVcJxPlw"
   },
   "outputs": [],
   "source": [
    "def windowed_dataset(series, window_size, batch_size, shuffle_buffer):\n",
    "    ds = tf.data.Dataset.from_tensor_slices(series)\n",
    "    ds = ds.window(window_size+1, shift=1, drop_remainder=True)\n",
    "    ds = ds.flat_map(lambda w: w.batch(window_size+1))\n",
    "    ds = ds.shuffle(shuffle_buffer).map(lambda w: (w[:-1], w[-1]))\n",
    "    ds = ds.batch(batch_size).prefetch(1)\n",
    "    return ds"
   ]
  },
  {
   "cell_type": "markdown",
   "metadata": {
    "id": "snCcd5ZnxPlx"
   },
   "source": [
    "### train/validation set 분리"
   ]
  },
  {
   "cell_type": "code",
   "execution_count": 19,
   "metadata": {
    "colab": {
     "base_uri": "https://localhost:8080/"
    },
    "id": "8HuXVml6xPlx",
    "outputId": "036cce6d-5157-420c-9b5e-f44e33fb943f"
   },
   "outputs": [
    {
     "data": {
      "text/plain": [
       "(450, 50, 450, 50)"
      ]
     },
     "execution_count": 19,
     "metadata": {},
     "output_type": "execute_result"
    }
   ],
   "source": [
    "split_time = 450\n",
    "\n",
    "time_train = time[:split_time]\n",
    "time_test = time[split_time:]\n",
    "\n",
    "X_train = time_series[:split_time]\n",
    "X_test  = time_series[split_time:]\n",
    "\n",
    "len(time_train), len(time_test), len(X_train), len(X_test)"
   ]
  },
  {
   "cell_type": "code",
   "execution_count": 20,
   "metadata": {
    "colab": {
     "base_uri": "https://localhost:8080/"
    },
    "id": "Gep8OGvZxPly",
    "outputId": "f6d44b43-3869-4466-e4fe-5ad314883b6d"
   },
   "outputs": [
    {
     "data": {
      "text/plain": [
       "<PrefetchDataset element_spec=(TensorSpec(shape=(None, None), dtype=tf.float64, name=None), TensorSpec(shape=(None,), dtype=tf.float64, name=None))>"
      ]
     },
     "execution_count": 20,
     "metadata": {},
     "output_type": "execute_result"
    }
   ],
   "source": [
    "window_size = 20\n",
    "batch_size = 16\n",
    "shuffle_buffer_size = 1000\n",
    "\n",
    "train_ds = windowed_dataset(X_train, window_size, batch_size, shuffle_buffer_size)\n",
    "train_ds"
   ]
  },
  {
   "cell_type": "code",
   "execution_count": 21,
   "metadata": {
    "colab": {
     "base_uri": "https://localhost:8080/"
    },
    "id": "R8EwGzPPxPlz",
    "outputId": "9096a831-5268-4ee6-a55d-6ec92a17a5a2"
   },
   "outputs": [
    {
     "name": "stdout",
     "output_type": "stream",
     "text": [
      "x =  (16, 20)\n",
      "y =  (16,)\n"
     ]
    }
   ],
   "source": [
    "for x, y in train_ds:\n",
    "    print('x = ', x.numpy().shape)\n",
    "    print('y = ', y.numpy().shape)\n",
    "    break"
   ]
  },
  {
   "cell_type": "markdown",
   "metadata": {
    "id": "SdzCnKHKxPl6"
   },
   "source": [
    "## Stacked + Bidirectoinal LSTM"
   ]
  },
  {
   "cell_type": "code",
   "execution_count": 22,
   "metadata": {},
   "outputs": [],
   "source": [
    "def create_model():\n",
    "    model = tf.keras.models.Sequential([\n",
    "        tf.keras.layers.Lambda(lambda x: tf.expand_dims(x, axis=-1),input_shape=[None]),\n",
    "        tf.keras.layers.Bidirectional(tf.keras.layers.LSTM(32, return_sequences=True)),\n",
    "        tf.keras.layers.Bidirectional(tf.keras.layers.LSTM(32)),\n",
    "        tf.keras.layers.Dense(1),\n",
    "        tf.keras.layers.Lambda(lambda x: x * 100.0)\n",
    "        ])\n",
    "    return model"
   ]
  },
  {
   "cell_type": "markdown",
   "metadata": {},
   "source": [
    "### Optimal Learning Rate 찾기\n",
    "\n",
    "- epoch이 진행되면서 Learning Rate를 증가시킴  \n",
    "\n",
    "- loss가 감소하다 증가하는 경우 learning rate를 시각화 하여 loss 증가 직전의 가장 큰 learning rate 선택  \n",
    "\n",
    "- 선택한 learning rate 로 다시 train"
   ]
  },
  {
   "cell_type": "code",
   "execution_count": 23,
   "metadata": {
    "colab": {
     "base_uri": "https://localhost:8080/"
    },
    "id": "UCVyLHjSxPl6",
    "outputId": "7f1bfff5-b7c0-47d3-8959-0f08834a63e9",
    "scrolled": true
   },
   "outputs": [
    {
     "name": "stdout",
     "output_type": "stream",
     "text": [
      "Epoch 1/100\n",
      "27/27 [==============================] - 3s 7ms/step - loss: 96.2662 - mae: 96.7640 - lr: 1.0000e-08\n",
      "Epoch 2/100\n",
      "27/27 [==============================] - 0s 7ms/step - loss: 95.5134 - mae: 96.0133 - lr: 1.1220e-08\n",
      "Epoch 3/100\n",
      "27/27 [==============================] - 0s 7ms/step - loss: 94.6288 - mae: 95.1288 - lr: 1.2589e-08\n",
      "Epoch 4/100\n",
      "27/27 [==============================] - 0s 7ms/step - loss: 93.6774 - mae: 94.1756 - lr: 1.4125e-08\n",
      "Epoch 5/100\n",
      "27/27 [==============================] - 0s 7ms/step - loss: 92.6684 - mae: 93.1663 - lr: 1.5849e-08\n",
      "Epoch 6/100\n",
      "27/27 [==============================] - 0s 7ms/step - loss: 91.6358 - mae: 92.1338 - lr: 1.7783e-08\n",
      "Epoch 7/100\n",
      "27/27 [==============================] - 0s 7ms/step - loss: 90.5517 - mae: 91.0503 - lr: 1.9953e-08\n",
      "Epoch 8/100\n",
      "27/27 [==============================] - 0s 7ms/step - loss: 89.4058 - mae: 89.9031 - lr: 2.2387e-08\n",
      "Epoch 9/100\n",
      "27/27 [==============================] - 0s 7ms/step - loss: 88.1623 - mae: 88.6586 - lr: 2.5119e-08\n",
      "Epoch 10/100\n",
      "27/27 [==============================] - 0s 7ms/step - loss: 86.8738 - mae: 87.3709 - lr: 2.8184e-08\n",
      "Epoch 11/100\n",
      "27/27 [==============================] - 0s 7ms/step - loss: 85.4935 - mae: 85.9927 - lr: 3.1623e-08\n",
      "Epoch 12/100\n",
      "27/27 [==============================] - 0s 7ms/step - loss: 83.9860 - mae: 84.4844 - lr: 3.5481e-08\n",
      "Epoch 13/100\n",
      "27/27 [==============================] - 0s 7ms/step - loss: 82.3263 - mae: 82.8244 - lr: 3.9811e-08\n",
      "Epoch 14/100\n",
      "27/27 [==============================] - 0s 7ms/step - loss: 80.5413 - mae: 81.0398 - lr: 4.4668e-08\n",
      "Epoch 15/100\n",
      "27/27 [==============================] - 0s 7ms/step - loss: 78.8399 - mae: 79.3386 - lr: 5.0119e-08\n",
      "Epoch 16/100\n",
      "27/27 [==============================] - 0s 7ms/step - loss: 77.2138 - mae: 77.7123 - lr: 5.6234e-08\n",
      "Epoch 17/100\n",
      "27/27 [==============================] - 0s 7ms/step - loss: 75.6044 - mae: 76.1030 - lr: 6.3096e-08\n",
      "Epoch 18/100\n",
      "27/27 [==============================] - 0s 6ms/step - loss: 73.9221 - mae: 74.4213 - lr: 7.0795e-08\n",
      "Epoch 19/100\n",
      "27/27 [==============================] - 0s 6ms/step - loss: 72.2751 - mae: 72.7734 - lr: 7.9433e-08\n",
      "Epoch 20/100\n",
      "27/27 [==============================] - 0s 7ms/step - loss: 70.5972 - mae: 71.0957 - lr: 8.9125e-08\n",
      "Epoch 21/100\n",
      "27/27 [==============================] - 0s 7ms/step - loss: 68.8828 - mae: 69.3813 - lr: 1.0000e-07\n",
      "Epoch 22/100\n",
      "27/27 [==============================] - 0s 7ms/step - loss: 67.1620 - mae: 67.6596 - lr: 1.1220e-07\n",
      "Epoch 23/100\n",
      "27/27 [==============================] - 0s 6ms/step - loss: 65.4160 - mae: 65.9118 - lr: 1.2589e-07\n",
      "Epoch 24/100\n",
      "27/27 [==============================] - 0s 6ms/step - loss: 63.6665 - mae: 64.1647 - lr: 1.4125e-07\n",
      "Epoch 25/100\n",
      "27/27 [==============================] - 0s 7ms/step - loss: 61.9100 - mae: 62.4087 - lr: 1.5849e-07\n",
      "Epoch 26/100\n",
      "27/27 [==============================] - 0s 6ms/step - loss: 60.1596 - mae: 60.6571 - lr: 1.7783e-07\n",
      "Epoch 27/100\n",
      "27/27 [==============================] - 0s 6ms/step - loss: 58.4983 - mae: 58.9966 - lr: 1.9953e-07\n",
      "Epoch 28/100\n",
      "27/27 [==============================] - 0s 6ms/step - loss: 56.5459 - mae: 57.0438 - lr: 2.2387e-07\n",
      "Epoch 29/100\n",
      "27/27 [==============================] - 0s 6ms/step - loss: 54.5981 - mae: 55.0961 - lr: 2.5119e-07\n",
      "Epoch 30/100\n",
      "27/27 [==============================] - 0s 7ms/step - loss: 52.5366 - mae: 53.0332 - lr: 2.8184e-07\n",
      "Epoch 31/100\n",
      "27/27 [==============================] - 0s 6ms/step - loss: 50.8963 - mae: 51.3943 - lr: 3.1623e-07\n",
      "Epoch 32/100\n",
      "27/27 [==============================] - 0s 6ms/step - loss: 49.3721 - mae: 49.8703 - lr: 3.5481e-07\n",
      "Epoch 33/100\n",
      "27/27 [==============================] - 0s 7ms/step - loss: 47.9720 - mae: 48.4690 - lr: 3.9811e-07\n",
      "Epoch 34/100\n",
      "27/27 [==============================] - 0s 7ms/step - loss: 46.5630 - mae: 47.0602 - lr: 4.4668e-07\n",
      "Epoch 35/100\n",
      "27/27 [==============================] - 0s 7ms/step - loss: 45.0077 - mae: 45.5054 - lr: 5.0119e-07\n",
      "Epoch 36/100\n",
      "27/27 [==============================] - 0s 7ms/step - loss: 44.7321 - mae: 45.2307 - lr: 5.6234e-07\n",
      "Epoch 37/100\n",
      "27/27 [==============================] - 0s 7ms/step - loss: 42.4467 - mae: 42.9465 - lr: 6.3096e-07\n",
      "Epoch 38/100\n",
      "27/27 [==============================] - 0s 6ms/step - loss: 40.4396 - mae: 40.9371 - lr: 7.0795e-07\n",
      "Epoch 39/100\n",
      "27/27 [==============================] - 0s 6ms/step - loss: 39.2884 - mae: 39.7840 - lr: 7.9433e-07\n",
      "Epoch 40/100\n",
      "27/27 [==============================] - 0s 7ms/step - loss: 37.8566 - mae: 38.3510 - lr: 8.9125e-07\n",
      "Epoch 41/100\n",
      "27/27 [==============================] - 0s 9ms/step - loss: 35.7513 - mae: 36.2479 - lr: 1.0000e-06\n",
      "Epoch 42/100\n",
      "27/27 [==============================] - 0s 8ms/step - loss: 33.5353 - mae: 34.0331 - lr: 1.1220e-06\n",
      "Epoch 43/100\n",
      "27/27 [==============================] - 0s 9ms/step - loss: 31.9060 - mae: 32.4040 - lr: 1.2589e-06\n",
      "Epoch 44/100\n",
      "27/27 [==============================] - 0s 9ms/step - loss: 30.3712 - mae: 30.8660 - lr: 1.4125e-06\n",
      "Epoch 45/100\n",
      "27/27 [==============================] - 0s 9ms/step - loss: 29.0130 - mae: 29.5057 - lr: 1.5849e-06\n",
      "Epoch 46/100\n",
      "27/27 [==============================] - 0s 9ms/step - loss: 27.9542 - mae: 28.4502 - lr: 1.7783e-06\n",
      "Epoch 47/100\n",
      "27/27 [==============================] - 0s 9ms/step - loss: 27.1856 - mae: 27.6794 - lr: 1.9953e-06\n",
      "Epoch 48/100\n",
      "27/27 [==============================] - 0s 8ms/step - loss: 25.9568 - mae: 26.4522 - lr: 2.2387e-06\n",
      "Epoch 49/100\n",
      "27/27 [==============================] - 0s 9ms/step - loss: 25.6123 - mae: 26.1079 - lr: 2.5119e-06\n",
      "Epoch 50/100\n",
      "27/27 [==============================] - 0s 8ms/step - loss: 27.8989 - mae: 28.3963 - lr: 2.8184e-06\n",
      "Epoch 51/100\n",
      "27/27 [==============================] - 0s 9ms/step - loss: 26.1815 - mae: 26.6761 - lr: 3.1623e-06\n",
      "Epoch 52/100\n",
      "27/27 [==============================] - 0s 8ms/step - loss: 24.3363 - mae: 24.8299 - lr: 3.5481e-06\n",
      "Epoch 53/100\n",
      "27/27 [==============================] - 0s 8ms/step - loss: 26.4831 - mae: 26.9746 - lr: 3.9811e-06\n",
      "Epoch 54/100\n",
      "27/27 [==============================] - 0s 8ms/step - loss: 24.1718 - mae: 24.6685 - lr: 4.4668e-06\n",
      "Epoch 55/100\n",
      "27/27 [==============================] - 0s 8ms/step - loss: 25.3134 - mae: 25.8096 - lr: 5.0119e-06\n",
      "Epoch 56/100\n",
      "27/27 [==============================] - 0s 8ms/step - loss: 23.4131 - mae: 23.9077 - lr: 5.6234e-06\n",
      "Epoch 57/100\n",
      "27/27 [==============================] - 0s 8ms/step - loss: 23.9217 - mae: 24.4145 - lr: 6.3096e-06\n",
      "Epoch 58/100\n",
      "27/27 [==============================] - 0s 8ms/step - loss: 22.6579 - mae: 23.1533 - lr: 7.0795e-06\n",
      "Epoch 59/100\n",
      "27/27 [==============================] - 0s 8ms/step - loss: 23.1462 - mae: 23.6414 - lr: 7.9433e-06\n",
      "Epoch 60/100\n",
      "27/27 [==============================] - 0s 8ms/step - loss: 22.9530 - mae: 23.4486 - lr: 8.9125e-06\n",
      "Epoch 61/100\n",
      "27/27 [==============================] - 0s 9ms/step - loss: 21.9155 - mae: 22.4020 - lr: 1.0000e-05\n",
      "Epoch 62/100\n",
      "27/27 [==============================] - 0s 9ms/step - loss: 24.5146 - mae: 25.0069 - lr: 1.1220e-05\n",
      "Epoch 63/100\n",
      "27/27 [==============================] - 0s 8ms/step - loss: 26.3767 - mae: 26.8700 - lr: 1.2589e-05\n",
      "Epoch 64/100\n",
      "27/27 [==============================] - 0s 8ms/step - loss: 26.9322 - mae: 27.4303 - lr: 1.4125e-05\n",
      "Epoch 65/100\n",
      "27/27 [==============================] - 0s 8ms/step - loss: 26.0055 - mae: 26.5016 - lr: 1.5849e-05\n",
      "Epoch 66/100\n",
      "27/27 [==============================] - 0s 8ms/step - loss: 31.0177 - mae: 31.5124 - lr: 1.7783e-05\n",
      "Epoch 67/100\n",
      "27/27 [==============================] - 0s 8ms/step - loss: 37.5035 - mae: 37.9990 - lr: 1.9953e-05\n",
      "Epoch 68/100\n",
      "27/27 [==============================] - 0s 7ms/step - loss: 27.8033 - mae: 28.2974 - lr: 2.2387e-05\n",
      "Epoch 69/100\n",
      "27/27 [==============================] - 0s 8ms/step - loss: 26.5347 - mae: 27.0319 - lr: 2.5119e-05\n",
      "Epoch 70/100\n",
      "27/27 [==============================] - 0s 8ms/step - loss: 27.7685 - mae: 28.2659 - lr: 2.8184e-05\n",
      "Epoch 71/100\n",
      "27/27 [==============================] - 0s 8ms/step - loss: 37.4057 - mae: 37.9042 - lr: 3.1623e-05\n",
      "Epoch 72/100\n",
      "27/27 [==============================] - 0s 8ms/step - loss: 31.5231 - mae: 32.0189 - lr: 3.5481e-05\n"
     ]
    },
    {
     "name": "stdout",
     "output_type": "stream",
     "text": [
      "Epoch 73/100\n",
      "27/27 [==============================] - 0s 8ms/step - loss: 39.2031 - mae: 39.7013 - lr: 3.9811e-05\n",
      "Epoch 74/100\n",
      "27/27 [==============================] - 0s 8ms/step - loss: 35.9088 - mae: 36.4043 - lr: 4.4668e-05\n",
      "Epoch 75/100\n",
      "27/27 [==============================] - 0s 8ms/step - loss: 35.5951 - mae: 36.0921 - lr: 5.0119e-05\n",
      "Epoch 76/100\n",
      "27/27 [==============================] - 0s 8ms/step - loss: 48.1962 - mae: 48.6919 - lr: 5.6234e-05\n",
      "Epoch 77/100\n",
      "27/27 [==============================] - 0s 8ms/step - loss: 36.8134 - mae: 37.3058 - lr: 6.3096e-05\n",
      "Epoch 78/100\n",
      "27/27 [==============================] - 0s 8ms/step - loss: 42.2049 - mae: 42.7021 - lr: 7.0795e-05\n",
      "Epoch 79/100\n",
      "27/27 [==============================] - 0s 8ms/step - loss: 50.7177 - mae: 51.2146 - lr: 7.9433e-05\n",
      "Epoch 80/100\n",
      "27/27 [==============================] - 0s 8ms/step - loss: 41.7047 - mae: 42.2019 - lr: 8.9125e-05\n",
      "Epoch 81/100\n",
      "27/27 [==============================] - 0s 8ms/step - loss: 51.6576 - mae: 52.1562 - lr: 1.0000e-04\n",
      "Epoch 82/100\n",
      "27/27 [==============================] - 0s 8ms/step - loss: 43.1538 - mae: 43.6526 - lr: 1.1220e-04\n",
      "Epoch 83/100\n",
      "27/27 [==============================] - 0s 8ms/step - loss: 47.2958 - mae: 47.7951 - lr: 1.2589e-04\n",
      "Epoch 84/100\n",
      "27/27 [==============================] - 0s 8ms/step - loss: 51.8152 - mae: 52.3151 - lr: 1.4125e-04\n",
      "Epoch 85/100\n",
      "27/27 [==============================] - 0s 8ms/step - loss: 50.5467 - mae: 51.0449 - lr: 1.5849e-04\n",
      "Epoch 86/100\n",
      "27/27 [==============================] - 0s 9ms/step - loss: 44.7281 - mae: 45.2255 - lr: 1.7783e-04\n",
      "Epoch 87/100\n",
      "27/27 [==============================] - 0s 9ms/step - loss: 48.1240 - mae: 48.6200 - lr: 1.9953e-04\n",
      "Epoch 88/100\n",
      "27/27 [==============================] - 0s 9ms/step - loss: 50.8847 - mae: 51.3832 - lr: 2.2387e-04\n",
      "Epoch 89/100\n",
      "27/27 [==============================] - 0s 9ms/step - loss: 53.9471 - mae: 54.4443 - lr: 2.5119e-04\n",
      "Epoch 90/100\n",
      "27/27 [==============================] - 0s 8ms/step - loss: 62.7660 - mae: 63.2646 - lr: 2.8184e-04\n",
      "Epoch 91/100\n",
      "27/27 [==============================] - 0s 8ms/step - loss: 59.2228 - mae: 59.7228 - lr: 3.1623e-04\n",
      "Epoch 92/100\n",
      "27/27 [==============================] - 0s 8ms/step - loss: 52.4581 - mae: 52.9563 - lr: 3.5481e-04\n",
      "Epoch 93/100\n",
      "27/27 [==============================] - 0s 8ms/step - loss: 58.5131 - mae: 59.0105 - lr: 3.9811e-04\n",
      "Epoch 94/100\n",
      "27/27 [==============================] - 0s 8ms/step - loss: 58.4025 - mae: 58.8988 - lr: 4.4668e-04\n",
      "Epoch 95/100\n",
      "27/27 [==============================] - 0s 8ms/step - loss: 55.1471 - mae: 55.6460 - lr: 5.0119e-04\n",
      "Epoch 96/100\n",
      "27/27 [==============================] - 0s 8ms/step - loss: 58.3250 - mae: 58.8232 - lr: 5.6234e-04\n",
      "Epoch 97/100\n",
      "27/27 [==============================] - 0s 8ms/step - loss: 55.2046 - mae: 55.7040 - lr: 6.3096e-04\n",
      "Epoch 98/100\n",
      "27/27 [==============================] - 0s 8ms/step - loss: 61.1948 - mae: 61.6933 - lr: 7.0795e-04\n",
      "Epoch 99/100\n",
      "27/27 [==============================] - 0s 7ms/step - loss: 55.1670 - mae: 55.6642 - lr: 7.9433e-04\n",
      "Epoch 100/100\n",
      "27/27 [==============================] - 0s 8ms/step - loss: 54.9883 - mae: 55.4873 - lr: 8.9125e-04\n"
     ]
    }
   ],
   "source": [
    "model = create_model()\n",
    "\n",
    "lr_scheduler = tf.keras.callbacks.LearningRateScheduler( \n",
    "                                        lambda epoch: 1e-8 * 10**(epoch/20))\n",
    "\n",
    "optimizer = tf.keras.optimizers.SGD(learning_rate=1e-8, momentum=0.9)\n",
    "\n",
    "model.compile(loss=tf.keras.losses.Huber(), optimizer=optimizer, metrics=['mae'])\n",
    "\n",
    "history = model.fit(train_ds, epochs=100, callbacks=[lr_scheduler])"
   ]
  },
  {
   "cell_type": "markdown",
   "metadata": {},
   "source": [
    "- loss 시각화"
   ]
  },
  {
   "cell_type": "code",
   "execution_count": 24,
   "metadata": {},
   "outputs": [
    {
     "data": {
      "text/plain": [
       "[<matplotlib.lines.Line2D at 0x1f74b5b6fd0>]"
      ]
     },
     "execution_count": 24,
     "metadata": {},
     "output_type": "execute_result"
    },
    {
     "data": {
      "image/png": "[encoded data removed]",
      "text/plain": [
       "<Figure size 432x288 with 1 Axes>"
      ]
     },
     "metadata": {
      "needs_background": "light"
     },
     "output_type": "display_data"
    }
   ],
   "source": [
    "plt.plot(history.history['loss'])"
   ]
  },
  {
   "cell_type": "markdown",
   "metadata": {},
   "source": [
    "### learning rate에 따른 loss 시각화 \n",
    "\n",
    "x 축에 learning rate (`history.history['lr']`), y축에 `loss` 를 시각화  \n",
    "\n",
    "plt.axis(xmin, xmax, ymin, ymax)"
   ]
  },
  {
   "cell_type": "code",
   "execution_count": 25,
   "metadata": {
    "scrolled": true
   },
   "outputs": [
    {
     "data": {
      "text/plain": [
       "(1e-07, 0.0001, 20.0, 70.0)"
      ]
     },
     "execution_count": 25,
     "metadata": {},
     "output_type": "execute_result"
    },
    {
     "data": {
      "image/png": "[encoded data removed]",
      "text/plain": [
       "<Figure size 432x288 with 1 Axes>"
      ]
     },
     "metadata": {
      "needs_background": "light"
     },
     "output_type": "display_data"
    }
   ],
   "source": [
    "plt.semilogx(history.history['lr'], history.history['loss'])\n",
    "\n",
    "plt.axis([1e-7, 1e-4, 20, 70])"
   ]
  },
  {
   "cell_type": "code",
   "execution_count": 26,
   "metadata": {},
   "outputs": [
    {
     "data": {
      "text/plain": [
       "array([1.e-05], dtype=float32)"
      ]
     },
     "execution_count": 26,
     "metadata": {},
     "output_type": "execute_result"
    }
   ],
   "source": [
    "idx = list(np.array(history.history[\"loss\"]) == np.min(history.history[\"loss\"]))\n",
    "\n",
    "best_lr = np.array(tuple(history.history['lr']))[idx]\n",
    "best_lr"
   ]
  },
  {
   "cell_type": "markdown",
   "metadata": {},
   "source": [
    "### model re-train\n",
    "\n",
    "최적의 learning rate를 이용하여 model retrain"
   ]
  },
  {
   "cell_type": "code",
   "execution_count": 28,
   "metadata": {
    "scrolled": true
   },
   "outputs": [
    {
     "name": "stdout",
     "output_type": "stream",
     "text": [
      "Epoch 1/100\n",
      "27/27 [==============================] - 3s 8ms/step - loss: 49.6413 - mae: 50.1384\n",
      "Epoch 2/100\n",
      "27/27 [==============================] - 0s 7ms/step - loss: 38.5029 - mae: 38.9987\n",
      "Epoch 3/100\n",
      "27/27 [==============================] - 0s 7ms/step - loss: 30.7713 - mae: 31.2664\n",
      "Epoch 4/100\n",
      "27/27 [==============================] - 0s 7ms/step - loss: 27.4267 - mae: 27.9196\n",
      "Epoch 5/100\n",
      "27/27 [==============================] - 0s 7ms/step - loss: 25.9929 - mae: 26.4852\n",
      "Epoch 6/100\n",
      "27/27 [==============================] - 0s 7ms/step - loss: 23.9078 - mae: 24.4013\n",
      "Epoch 7/100\n",
      "27/27 [==============================] - 0s 7ms/step - loss: 24.5035 - mae: 24.9981\n",
      "Epoch 8/100\n",
      "27/27 [==============================] - 0s 7ms/step - loss: 22.6733 - mae: 23.1682\n",
      "Epoch 9/100\n",
      "27/27 [==============================] - 0s 7ms/step - loss: 23.4586 - mae: 23.9521\n",
      "Epoch 10/100\n",
      "27/27 [==============================] - 0s 7ms/step - loss: 23.6165 - mae: 24.1077\n",
      "Epoch 11/100\n",
      "27/27 [==============================] - 0s 7ms/step - loss: 23.3207 - mae: 23.8150\n",
      "Epoch 12/100\n",
      "27/27 [==============================] - 0s 7ms/step - loss: 21.0562 - mae: 21.5541\n",
      "Epoch 13/100\n",
      "27/27 [==============================] - 0s 7ms/step - loss: 24.7642 - mae: 25.2601\n",
      "Epoch 14/100\n",
      "27/27 [==============================] - 0s 7ms/step - loss: 26.0887 - mae: 26.5791\n",
      "Epoch 15/100\n",
      "27/27 [==============================] - 0s 7ms/step - loss: 27.6824 - mae: 28.1758\n",
      "Epoch 16/100\n",
      "27/27 [==============================] - 0s 8ms/step - loss: 21.8130 - mae: 22.3058\n",
      "Epoch 17/100\n",
      "27/27 [==============================] - 0s 7ms/step - loss: 23.3709 - mae: 23.8637\n",
      "Epoch 18/100\n",
      "27/27 [==============================] - 0s 8ms/step - loss: 21.2916 - mae: 21.7819\n",
      "Epoch 19/100\n",
      "27/27 [==============================] - 0s 7ms/step - loss: 22.2754 - mae: 22.7724\n",
      "Epoch 20/100\n",
      "27/27 [==============================] - 0s 7ms/step - loss: 24.6056 - mae: 25.1017\n",
      "Epoch 21/100\n",
      "27/27 [==============================] - 0s 7ms/step - loss: 21.6486 - mae: 22.1434\n",
      "Epoch 22/100\n",
      "27/27 [==============================] - 0s 7ms/step - loss: 22.2287 - mae: 22.7216\n",
      "Epoch 23/100\n",
      "27/27 [==============================] - 0s 6ms/step - loss: 21.5158 - mae: 22.0083\n",
      "Epoch 24/100\n",
      "27/27 [==============================] - 0s 7ms/step - loss: 22.9518 - mae: 23.4476\n",
      "Epoch 25/100\n",
      "27/27 [==============================] - 0s 7ms/step - loss: 23.8602 - mae: 24.3553\n",
      "Epoch 26/100\n",
      "27/27 [==============================] - 0s 7ms/step - loss: 22.1610 - mae: 22.6557\n",
      "Epoch 27/100\n",
      "27/27 [==============================] - 0s 7ms/step - loss: 20.4130 - mae: 20.9060\n",
      "Epoch 28/100\n",
      "27/27 [==============================] - 0s 7ms/step - loss: 22.4724 - mae: 22.9652\n",
      "Epoch 29/100\n",
      "27/27 [==============================] - 0s 7ms/step - loss: 26.2069 - mae: 26.7035\n",
      "Epoch 30/100\n",
      "27/27 [==============================] - 0s 8ms/step - loss: 26.3069 - mae: 26.8008\n",
      "Epoch 31/100\n",
      "27/27 [==============================] - 0s 8ms/step - loss: 21.9656 - mae: 22.4569\n",
      "Epoch 32/100\n",
      "27/27 [==============================] - 0s 8ms/step - loss: 21.8202 - mae: 22.3132\n",
      "Epoch 33/100\n",
      "27/27 [==============================] - 0s 8ms/step - loss: 21.2995 - mae: 21.7911\n",
      "Epoch 34/100\n",
      "27/27 [==============================] - 0s 8ms/step - loss: 24.3242 - mae: 24.8182\n",
      "Epoch 35/100\n",
      "27/27 [==============================] - 0s 8ms/step - loss: 25.0447 - mae: 25.5380\n",
      "Epoch 36/100\n",
      "27/27 [==============================] - 0s 8ms/step - loss: 24.0255 - mae: 24.5181\n",
      "Epoch 37/100\n",
      "27/27 [==============================] - 0s 7ms/step - loss: 22.6552 - mae: 23.1476\n",
      "Epoch 38/100\n",
      "27/27 [==============================] - 0s 8ms/step - loss: 21.4458 - mae: 21.9403\n",
      "Epoch 39/100\n",
      "27/27 [==============================] - 0s 8ms/step - loss: 22.7836 - mae: 23.2761\n",
      "Epoch 40/100\n",
      "27/27 [==============================] - 0s 8ms/step - loss: 21.0554 - mae: 21.5487\n",
      "Epoch 41/100\n",
      "27/27 [==============================] - 0s 8ms/step - loss: 24.0592 - mae: 24.5549\n",
      "Epoch 42/100\n",
      "27/27 [==============================] - 0s 8ms/step - loss: 23.0852 - mae: 23.5795\n",
      "Epoch 43/100\n",
      "27/27 [==============================] - 0s 8ms/step - loss: 22.1955 - mae: 22.6877\n",
      "Epoch 44/100\n",
      "27/27 [==============================] - 0s 9ms/step - loss: 25.7689 - mae: 26.2618\n",
      "Epoch 45/100\n",
      "27/27 [==============================] - 0s 8ms/step - loss: 22.7891 - mae: 23.2846\n",
      "Epoch 46/100\n",
      "27/27 [==============================] - 0s 9ms/step - loss: 21.7056 - mae: 22.1975\n",
      "Epoch 47/100\n",
      "27/27 [==============================] - 0s 8ms/step - loss: 25.6521 - mae: 26.1454\n",
      "Epoch 48/100\n",
      "27/27 [==============================] - 0s 8ms/step - loss: 23.8315 - mae: 24.3296\n",
      "Epoch 49/100\n",
      "27/27 [==============================] - 0s 9ms/step - loss: 21.1593 - mae: 21.6485\n",
      "Epoch 50/100\n",
      "27/27 [==============================] - 0s 9ms/step - loss: 21.5128 - mae: 22.0065\n",
      "Epoch 51/100\n",
      "27/27 [==============================] - 0s 9ms/step - loss: 21.7885 - mae: 22.2812\n",
      "Epoch 52/100\n",
      "27/27 [==============================] - 0s 9ms/step - loss: 22.2499 - mae: 22.7442\n",
      "Epoch 53/100\n",
      "27/27 [==============================] - 0s 9ms/step - loss: 20.7768 - mae: 21.2713\n",
      "Epoch 54/100\n",
      "27/27 [==============================] - 0s 9ms/step - loss: 21.2144 - mae: 21.7078\n",
      "Epoch 55/100\n",
      "27/27 [==============================] - 0s 9ms/step - loss: 21.6384 - mae: 22.1340\n",
      "Epoch 56/100\n",
      "27/27 [==============================] - 0s 9ms/step - loss: 22.4979 - mae: 22.9914\n",
      "Epoch 57/100\n",
      "27/27 [==============================] - 0s 9ms/step - loss: 19.4544 - mae: 19.9495\n",
      "Epoch 58/100\n",
      "27/27 [==============================] - 0s 9ms/step - loss: 25.1249 - mae: 25.6153\n",
      "Epoch 59/100\n",
      "27/27 [==============================] - 0s 9ms/step - loss: 22.8305 - mae: 23.3256\n",
      "Epoch 60/100\n",
      "27/27 [==============================] - 0s 8ms/step - loss: 22.5345 - mae: 23.0313\n",
      "Epoch 61/100\n",
      "27/27 [==============================] - 0s 8ms/step - loss: 22.8966 - mae: 23.3889\n",
      "Epoch 62/100\n",
      "27/27 [==============================] - 0s 9ms/step - loss: 22.1693 - mae: 22.6598\n",
      "Epoch 63/100\n",
      "27/27 [==============================] - 0s 9ms/step - loss: 21.1179 - mae: 21.6091\n",
      "Epoch 64/100\n",
      "27/27 [==============================] - 0s 9ms/step - loss: 22.7779 - mae: 23.2690\n",
      "Epoch 65/100\n",
      "27/27 [==============================] - 0s 8ms/step - loss: 20.8979 - mae: 21.3877\n",
      "Epoch 66/100\n",
      "27/27 [==============================] - 0s 8ms/step - loss: 20.2578 - mae: 20.7476\n",
      "Epoch 67/100\n",
      "27/27 [==============================] - 0s 8ms/step - loss: 21.1625 - mae: 21.6591\n",
      "Epoch 68/100\n",
      "27/27 [==============================] - 0s 9ms/step - loss: 21.1448 - mae: 21.6408\n",
      "Epoch 69/100\n",
      "27/27 [==============================] - 0s 8ms/step - loss: 20.8009 - mae: 21.2944\n",
      "Epoch 70/100\n",
      "27/27 [==============================] - 0s 9ms/step - loss: 20.7711 - mae: 21.2637\n",
      "Epoch 71/100\n",
      "27/27 [==============================] - 0s 9ms/step - loss: 20.1695 - mae: 20.6619\n",
      "Epoch 72/100\n",
      "27/27 [==============================] - 0s 8ms/step - loss: 19.7235 - mae: 20.2171\n",
      "Epoch 73/100\n",
      "27/27 [==============================] - 0s 10ms/step - loss: 20.2045 - mae: 20.6965\n",
      "Epoch 74/100\n",
      "27/27 [==============================] - 0s 9ms/step - loss: 24.1306 - mae: 24.6223\n",
      "Epoch 75/100\n",
      "27/27 [==============================] - 0s 9ms/step - loss: 21.7524 - mae: 22.2451\n",
      "Epoch 76/100\n",
      "27/27 [==============================] - 0s 9ms/step - loss: 19.9227 - mae: 20.4128\n",
      "Epoch 77/100\n",
      "27/27 [==============================] - 0s 9ms/step - loss: 20.1783 - mae: 20.6678\n",
      "Epoch 78/100\n",
      "27/27 [==============================] - 0s 9ms/step - loss: 20.4633 - mae: 20.9567\n",
      "Epoch 79/100\n",
      "27/27 [==============================] - 0s 8ms/step - loss: 22.9419 - mae: 23.4360\n",
      "Epoch 80/100\n",
      "27/27 [==============================] - 0s 8ms/step - loss: 23.7852 - mae: 24.2779\n",
      "Epoch 81/100\n",
      "27/27 [==============================] - 0s 9ms/step - loss: 21.6318 - mae: 22.1257\n",
      "Epoch 82/100\n",
      "27/27 [==============================] - 0s 9ms/step - loss: 22.0587 - mae: 22.5490\n",
      "Epoch 83/100\n",
      "27/27 [==============================] - 0s 9ms/step - loss: 20.8475 - mae: 21.3362\n",
      "Epoch 84/100\n",
      "27/27 [==============================] - 0s 8ms/step - loss: 20.2261 - mae: 20.7178\n",
      "Epoch 85/100\n"
     ]
    },
    {
     "name": "stdout",
     "output_type": "stream",
     "text": [
      "27/27 [==============================] - 0s 9ms/step - loss: 20.1478 - mae: 20.6417\n",
      "Epoch 86/100\n",
      "27/27 [==============================] - 0s 9ms/step - loss: 20.7217 - mae: 21.2104\n",
      "Epoch 87/100\n",
      "27/27 [==============================] - 0s 10ms/step - loss: 22.3186 - mae: 22.8152\n",
      "Epoch 88/100\n",
      "27/27 [==============================] - 0s 8ms/step - loss: 21.5457 - mae: 22.0379\n",
      "Epoch 89/100\n",
      "27/27 [==============================] - 0s 8ms/step - loss: 20.1365 - mae: 20.6309\n",
      "Epoch 90/100\n",
      "27/27 [==============================] - 0s 9ms/step - loss: 21.7233 - mae: 22.2149\n",
      "Epoch 91/100\n",
      "27/27 [==============================] - 0s 11ms/step - loss: 19.9006 - mae: 20.3948\n",
      "Epoch 92/100\n",
      "27/27 [==============================] - 0s 9ms/step - loss: 21.2576 - mae: 21.7513\n",
      "Epoch 93/100\n",
      "27/27 [==============================] - 0s 9ms/step - loss: 21.3772 - mae: 21.8705\n",
      "Epoch 94/100\n",
      "27/27 [==============================] - 0s 9ms/step - loss: 21.6288 - mae: 22.1229\n",
      "Epoch 95/100\n",
      "27/27 [==============================] - 0s 9ms/step - loss: 21.2359 - mae: 21.7275\n",
      "Epoch 96/100\n",
      "27/27 [==============================] - 0s 8ms/step - loss: 19.0810 - mae: 19.5720\n",
      "Epoch 97/100\n",
      "27/27 [==============================] - 0s 8ms/step - loss: 20.1596 - mae: 20.6522\n",
      "Epoch 98/100\n",
      "27/27 [==============================] - 0s 8ms/step - loss: 23.0085 - mae: 23.5055\n",
      "Epoch 99/100\n",
      "27/27 [==============================] - 0s 8ms/step - loss: 20.6015 - mae: 21.0936\n",
      "Epoch 100/100\n",
      "27/27 [==============================] - 0s 8ms/step - loss: 19.8765 - mae: 20.3700\n"
     ]
    }
   ],
   "source": [
    "model = create_model()\n",
    "\n",
    "optimizer = tf.keras.optimizers.SGD(learning_rate=best_lr[0], momentum=0.9)\n",
    "\n",
    "model.compile(loss=tf.keras.losses.Huber(), optimizer=optimizer, metrics=['mae'])\n",
    "\n",
    "history = model.fit(train_ds, epochs=100)"
   ]
  },
  {
   "cell_type": "code",
   "execution_count": 29,
   "metadata": {},
   "outputs": [
    {
     "data": {
      "text/plain": [
       "[<matplotlib.lines.Line2D at 0x1f75b364b50>]"
      ]
     },
     "execution_count": 29,
     "metadata": {},
     "output_type": "execute_result"
    },
    {
     "data": {
      "image/png": "[encoded data removed]",
      "text/plain": [
       "<Figure size 432x288 with 1 Axes>"
      ]
     },
     "metadata": {
      "needs_background": "light"
     },
     "output_type": "display_data"
    }
   ],
   "source": [
    "plt.plot(history.history['loss'])"
   ]
  },
  {
   "cell_type": "code",
   "execution_count": 30,
   "metadata": {},
   "outputs": [
    {
     "data": {
      "text/plain": [
       "50"
      ]
     },
     "execution_count": 30,
     "metadata": {},
     "output_type": "execute_result"
    }
   ],
   "source": [
    "forecast = []\n",
    "\n",
    "for time in range(split_time, len(time_series)):\n",
    "    prediction = model.predict(time_series[time-window_size: time].reshape(1, -1))\n",
    "    forecast.append(prediction[0][0])\n",
    "    \n",
    "len(forecast)"
   ]
  },
  {
   "cell_type": "code",
   "execution_count": 31,
   "metadata": {
    "colab": {
     "base_uri": "https://localhost:8080/",
     "height": 422
    },
    "id": "egzTJlTMxPl6",
    "outputId": "9a5b690a-0da4-4888-ca74-31a235616605"
   },
   "outputs": [
    {
     "data": {
      "image/png": "[encoded data removed]",
      "text/plain": [
       "<Figure size 1152x432 with 1 Axes>"
      ]
     },
     "metadata": {
      "needs_background": "light"
     },
     "output_type": "display_data"
    }
   ],
   "source": [
    "plt.figure(figsize=(16, 6))\n",
    "plt.plot(time_test, X_test, label='True')\n",
    "plt.plot(time_test, forecast, label='Predicted')\n",
    "plt.xticks(rotation=90)\n",
    "plt.legend()\n",
    "plt.show()"
   ]
  },
  {
   "cell_type": "code",
   "execution_count": 32,
   "metadata": {
    "colab": {
     "base_uri": "https://localhost:8080/"
    },
    "id": "XEkB12vrxPl6",
    "outputId": "95d45783-3fe9-4a75-e5c1-944a39ae41f3"
   },
   "outputs": [
    {
     "name": "stdout",
     "output_type": "stream",
     "text": [
      "243.97934\n",
      "11.24319\n"
     ]
    }
   ],
   "source": [
    "print(tf.keras.metrics.mean_squared_error(X_test, forecast).numpy())\n",
    "print(tf.keras.metrics.mean_absolute_error(X_test, forecast).numpy())"
   ]
  },
  {
   "cell_type": "code",
   "execution_count": null,
   "metadata": {
    "id": "h__lasusxPl8"
   },
   "outputs": [],
   "source": []
  }
 ],
 "metadata": {
  "accelerator": "GPU",
  "colab": {
   "collapsed_sections": [],
   "name": "041_WindowedData_Model_Performance.ipynb",
   "provenance": []
  },
  "kernelspec": {
   "display_name": "Python 3 (ipykernel)",
   "language": "python",
   "name": "python3"
  },
  "language_info": {
   "codemirror_mode": {
    "name": "ipython",
    "version": 3
   },
   "file_extension": ".py",
   "mimetype": "text/x-python",
   "name": "python",
   "nbconvert_exporter": "python",
   "pygments_lexer": "ipython3",
   "version": "3.8.12"
  }
 },
 "nbformat": 4,
 "nbformat_minor": 1
}
