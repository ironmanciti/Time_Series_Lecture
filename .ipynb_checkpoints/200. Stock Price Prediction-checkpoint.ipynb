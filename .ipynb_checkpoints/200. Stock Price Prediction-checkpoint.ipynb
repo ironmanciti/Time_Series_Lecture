{
 "cells": [
  {
   "cell_type": "markdown",
   "id": "whole-religion",
   "metadata": {},
   "source": [
    "# LSTM을 이용한 주가 예측"
   ]
  },
  {
   "cell_type": "code",
   "execution_count": 1,
   "id": "streaming-prefix",
   "metadata": {},
   "outputs": [],
   "source": [
    "import pandas as pd\n",
    "import numpy as np\n",
    "import matplotlib.pyplot as plt\n",
    "from matplotlib.pylab import rcParams\n",
    "from sklearn.preprocessing import MinMaxScaler\n",
    "\n",
    "import yfinance as yf\n",
    "\n",
    "import tensorflow as tf\n",
    "from keras.models import Sequential\n",
    "from keras.layers import LSTM,Dropout,Dense\n",
    "\n",
    "import warnings\n",
    "warnings.filterwarnings('ignore')\n",
    "np.random.seed(42)\n",
    "tf.random.set_seed(42)"
   ]
  },
  {
   "cell_type": "markdown",
   "id": "signed-temperature",
   "metadata": {},
   "source": [
    "- Apple 주식 가격 예측"
   ]
  },
  {
   "cell_type": "code",
   "execution_count": 2,
   "id": "alert-brand",
   "metadata": {},
   "outputs": [
    {
     "data": {
      "text/html": [
       "<div>\n",
       "<style scoped>\n",
       "    .dataframe tbody tr th:only-of-type {\n",
       "        vertical-align: middle;\n",
       "    }\n",
       "\n",
       "    .dataframe tbody tr th {\n",
       "        vertical-align: top;\n",
       "    }\n",
       "\n",
       "    .dataframe thead th {\n",
       "        text-align: right;\n",
       "    }\n",
       "</style>\n",
       "<table border=\"1\" class=\"dataframe\">\n",
       "  <thead>\n",
       "    <tr style=\"text-align: right;\">\n",
       "      <th></th>\n",
       "      <th>Open</th>\n",
       "      <th>High</th>\n",
       "      <th>Low</th>\n",
       "      <th>Close</th>\n",
       "      <th>Adj Close</th>\n",
       "      <th>Volume</th>\n",
       "    </tr>\n",
       "    <tr>\n",
       "      <th>Date</th>\n",
       "      <th></th>\n",
       "      <th></th>\n",
       "      <th></th>\n",
       "      <th></th>\n",
       "      <th></th>\n",
       "      <th></th>\n",
       "    </tr>\n",
       "  </thead>\n",
       "  <tbody>\n",
       "    <tr>\n",
       "      <th>1999-12-31</th>\n",
       "      <td>0.901228</td>\n",
       "      <td>0.918527</td>\n",
       "      <td>0.888393</td>\n",
       "      <td>0.917969</td>\n",
       "      <td>0.787035</td>\n",
       "      <td>163811200</td>\n",
       "    </tr>\n",
       "    <tr>\n",
       "      <th>2000-01-03</th>\n",
       "      <td>0.936384</td>\n",
       "      <td>1.004464</td>\n",
       "      <td>0.907924</td>\n",
       "      <td>0.999442</td>\n",
       "      <td>0.856887</td>\n",
       "      <td>535796800</td>\n",
       "    </tr>\n",
       "    <tr>\n",
       "      <th>2000-01-04</th>\n",
       "      <td>0.966518</td>\n",
       "      <td>0.987723</td>\n",
       "      <td>0.903460</td>\n",
       "      <td>0.915179</td>\n",
       "      <td>0.784643</td>\n",
       "      <td>512377600</td>\n",
       "    </tr>\n",
       "    <tr>\n",
       "      <th>2000-01-05</th>\n",
       "      <td>0.926339</td>\n",
       "      <td>0.987165</td>\n",
       "      <td>0.919643</td>\n",
       "      <td>0.928571</td>\n",
       "      <td>0.796124</td>\n",
       "      <td>778321600</td>\n",
       "    </tr>\n",
       "    <tr>\n",
       "      <th>2000-01-06</th>\n",
       "      <td>0.947545</td>\n",
       "      <td>0.955357</td>\n",
       "      <td>0.848214</td>\n",
       "      <td>0.848214</td>\n",
       "      <td>0.727229</td>\n",
       "      <td>767972800</td>\n",
       "    </tr>\n",
       "  </tbody>\n",
       "</table>\n",
       "</div>"
      ],
      "text/plain": [
       "                Open      High       Low     Close  Adj Close     Volume\n",
       "Date                                                                    \n",
       "1999-12-31  0.901228  0.918527  0.888393  0.917969   0.787035  163811200\n",
       "2000-01-03  0.936384  1.004464  0.907924  0.999442   0.856887  535796800\n",
       "2000-01-04  0.966518  0.987723  0.903460  0.915179   0.784643  512377600\n",
       "2000-01-05  0.926339  0.987165  0.919643  0.928571   0.796124  778321600\n",
       "2000-01-06  0.947545  0.955357  0.848214  0.848214   0.727229  767972800"
      ]
     },
     "execution_count": 2,
     "metadata": {},
     "output_type": "execute_result"
    }
   ],
   "source": [
    "df = yf.download('AAPL', start='2000-01-01', end='2010-12-31', progress=False)\n",
    "df.head()"
   ]
  },
  {
   "cell_type": "markdown",
   "id": "seven-retrieval",
   "metadata": {},
   "source": [
    "- 주가 시각화"
   ]
  },
  {
   "cell_type": "code",
   "execution_count": 3,
   "id": "fewer-commander",
   "metadata": {},
   "outputs": [
    {
     "data": {
      "text/plain": [
       "[<matplotlib.lines.Line2D at 0x7f82218ed350>]"
      ]
     },
     "execution_count": 3,
     "metadata": {},
     "output_type": "execute_result"
    },
    {
     "data": {
      "image/png": "[encoded data removed]",
      "text/plain": [
       "<Figure size 864x432 with 1 Axes>"
      ]
     },
     "metadata": {
      "needs_background": "light"
     },
     "output_type": "display_data"
    }
   ],
   "source": [
    "plt.figure(figsize=(12,6))\n",
    "plt.plot(df[\"Close\"],label='Close Price history')"
   ]
  },
  {
   "cell_type": "markdown",
   "id": "political-debut",
   "metadata": {},
   "source": [
    "- 종가만으로 단변수 선형회귀 "
   ]
  },
  {
   "cell_type": "code",
   "execution_count": 4,
   "id": "covered-amber",
   "metadata": {},
   "outputs": [
    {
     "data": {
      "text/html": [
       "<div>\n",
       "<style scoped>\n",
       "    .dataframe tbody tr th:only-of-type {\n",
       "        vertical-align: middle;\n",
       "    }\n",
       "\n",
       "    .dataframe tbody tr th {\n",
       "        vertical-align: top;\n",
       "    }\n",
       "\n",
       "    .dataframe thead th {\n",
       "        text-align: right;\n",
       "    }\n",
       "</style>\n",
       "<table border=\"1\" class=\"dataframe\">\n",
       "  <thead>\n",
       "    <tr style=\"text-align: right;\">\n",
       "      <th></th>\n",
       "      <th>Close</th>\n",
       "    </tr>\n",
       "    <tr>\n",
       "      <th>Date</th>\n",
       "      <th></th>\n",
       "    </tr>\n",
       "  </thead>\n",
       "  <tbody>\n",
       "    <tr>\n",
       "      <th>1999-12-31</th>\n",
       "      <td>0.917969</td>\n",
       "    </tr>\n",
       "    <tr>\n",
       "      <th>2000-01-03</th>\n",
       "      <td>0.999442</td>\n",
       "    </tr>\n",
       "    <tr>\n",
       "      <th>2000-01-04</th>\n",
       "      <td>0.915179</td>\n",
       "    </tr>\n",
       "    <tr>\n",
       "      <th>2000-01-05</th>\n",
       "      <td>0.928571</td>\n",
       "    </tr>\n",
       "    <tr>\n",
       "      <th>2000-01-06</th>\n",
       "      <td>0.848214</td>\n",
       "    </tr>\n",
       "  </tbody>\n",
       "</table>\n",
       "</div>"
      ],
      "text/plain": [
       "               Close\n",
       "Date                \n",
       "1999-12-31  0.917969\n",
       "2000-01-03  0.999442\n",
       "2000-01-04  0.915179\n",
       "2000-01-05  0.928571\n",
       "2000-01-06  0.848214"
      ]
     },
     "execution_count": 4,
     "metadata": {},
     "output_type": "execute_result"
    }
   ],
   "source": [
    "data = df.loc[:,['Close']]\n",
    "data.head()"
   ]
  },
  {
   "cell_type": "markdown",
   "id": "thorough-empire",
   "metadata": {},
   "source": [
    "<!--  및 scaling -->"
   ]
  },
  {
   "cell_type": "markdown",
   "id": "atlantic-confidence",
   "metadata": {},
   "source": [
    "- train / valid set 분할 및 scaling"
   ]
  },
  {
   "cell_type": "code",
   "execution_count": 5,
   "id": "faced-wiring",
   "metadata": {},
   "outputs": [
    {
     "data": {
      "text/plain": [
       "((2000, 1), (767, 1))"
      ]
     },
     "execution_count": 5,
     "metadata": {},
     "output_type": "execute_result"
    }
   ],
   "source": [
    "time = data.index\n",
    "series = data.values\n",
    "\n",
    "split_time = 2000\n",
    "\n",
    "time_train = time[:split_time]\n",
    "X_train = series[:split_time]\n",
    "\n",
    "time_valid = time[split_time:]\n",
    "X_valid = series[split_time:]\n",
    "\n",
    "scaler = MinMaxScaler()\n",
    "X_train_scaled = scaler.fit_transform(X_train)\n",
    "X_valid_scaled = scaler.transform(X_valid)\n",
    "\n",
    "X_train_scaled.shape, X_valid_scaled.shape"
   ]
  },
  {
   "cell_type": "markdown",
   "id": "substantial-yellow",
   "metadata": {},
   "source": [
    "- tf.data.Dataset을 이용한 지도학습 data 생성 함수 작성"
   ]
  },
  {
   "cell_type": "code",
   "execution_count": 6,
   "id": "final-courtesy",
   "metadata": {},
   "outputs": [],
   "source": [
    "def windowed_dataset(series, window_size, batch_size, shuffle_buffer):\n",
    "    ds = tf.data.Dataset.from_tensor_slices(series)\n",
    "    ds = ds.window(window_size+1, shift=1, drop_remainder=True)\n",
    "    ds = ds.flat_map(lambda w: w.batch(window_size+1))\n",
    "    ds = ds.shuffle(shuffle_buffer).map(lambda w: (w[:-1], w[-1]))\n",
    "    ds = ds.batch(batch_size).prefetch(1)\n",
    "    return ds"
   ]
  },
  {
   "cell_type": "markdown",
   "id": "european-darkness",
   "metadata": {},
   "source": [
    "- training dataset 생성"
   ]
  },
  {
   "cell_type": "code",
   "execution_count": 7,
   "id": "retained-throw",
   "metadata": {},
   "outputs": [
    {
     "name": "stdout",
     "output_type": "stream",
     "text": [
      "<PrefetchDataset shapes: ((None, None, 1), (None, 1)), types: (tf.float64, tf.float64)>\n"
     ]
    }
   ],
   "source": [
    "window_size = 60\n",
    "batch_size = 32\n",
    "shuffle_buffer_size = 1000\n",
    "\n",
    "dataset = windowed_dataset(X_train, window_size, batch_size, shuffle_buffer_size)\n",
    "print(dataset)"
   ]
  },
  {
   "cell_type": "markdown",
   "id": "working-diana",
   "metadata": {},
   "source": [
    "- model 생성 및 fitting"
   ]
  },
  {
   "cell_type": "code",
   "execution_count": 8,
   "id": "continent-consistency",
   "metadata": {},
   "outputs": [
    {
     "name": "stdout",
     "output_type": "stream",
     "text": [
      "61/61 - 5s - loss: 0.1121 - 5s/epoch - 77ms/step\n"
     ]
    },
    {
     "data": {
      "text/plain": [
       "<keras.callbacks.History at 0x7f8221e45e50>"
      ]
     },
     "execution_count": 8,
     "metadata": {},
     "output_type": "execute_result"
    }
   ],
   "source": [
    "lstm_model=Sequential()\n",
    "lstm_model.add(LSTM(units=50,return_sequences=True,input_shape=(window_size,1)))\n",
    "lstm_model.add(LSTM(units=50))\n",
    "lstm_model.add(Dense(1))\n",
    "\n",
    "lstm_model.compile(loss='mse', optimizer='adam')\n",
    "\n",
    "# lstm_model.fit(x_train_data, y_train_data, epochs=1, batch_size=1, verbose=2)\n",
    "lstm_model.fit(dataset, epochs=1, batch_size=1, verbose=2)"
   ]
  },
  {
   "cell_type": "markdown",
   "id": "painted-sunday",
   "metadata": {},
   "source": [
    "- valid set과 prediction 비교"
   ]
  },
  {
   "cell_type": "code",
   "execution_count": 9,
   "id": "clinical-template",
   "metadata": {},
   "outputs": [
    {
     "data": {
      "text/plain": [
       "(767, 1)"
      ]
     },
     "execution_count": 9,
     "metadata": {},
     "output_type": "execute_result"
    }
   ],
   "source": [
    "inputs_data = data[len(data)-len(X_valid)-window_size:].values\n",
    "inputs_data = inputs_data.reshape(-1,1)\n",
    "inputs_data = scaler.transform(inputs_data)\n",
    "\n",
    "X_test = []\n",
    "for i in range(window_size, inputs_data.shape[0]):\n",
    "    X_test.append(inputs_data[i-window_size:i,0])\n",
    "X_test = np.array(X_test)\n",
    "\n",
    "X_test = np.reshape(X_test,(X_test.shape[0],X_test.shape[1],1))\n",
    "prediction = lstm_model.predict(X_test)\n",
    "prediction = scaler.inverse_transform(prediction)\n",
    "prediction.shape"
   ]
  },
  {
   "cell_type": "markdown",
   "id": "ranging-incentive",
   "metadata": {},
   "source": [
    "- 시각화"
   ]
  },
  {
   "cell_type": "code",
   "execution_count": 10,
   "id": "controlling-desperate",
   "metadata": {},
   "outputs": [
    {
     "data": {
      "text/plain": [
       "<matplotlib.legend.Legend at 0x7f8225252850>"
      ]
     },
     "execution_count": 10,
     "metadata": {},
     "output_type": "execute_result"
    },
    {
     "data": {
      "image/png": "[encoded data removed]",
      "text/plain": [
       "<Figure size 432x288 with 1 Axes>"
      ]
     },
     "metadata": {
      "needs_background": "light"
     },
     "output_type": "display_data"
    }
   ],
   "source": [
    "train_data = data[:-767]\n",
    "valid_data = data[-767:]\n",
    "valid_data['Predictions'] = prediction\n",
    "\n",
    "plt.plot(train_data[\"Close\"], label='train')\n",
    "plt.plot(valid_data[\"Close\"], label='true')\n",
    "plt.plot(valid_data[\"Predictions\"], label='prediction')\n",
    "\n",
    "plt.legend()"
   ]
  },
  {
   "cell_type": "markdown",
   "id": "packed-youth",
   "metadata": {},
   "source": [
    "- metric 비교"
   ]
  },
  {
   "cell_type": "code",
   "execution_count": 11,
   "id": "vocational-action",
   "metadata": {},
   "outputs": [
    {
     "data": {
      "text/plain": [
       "0.28769486205778744"
      ]
     },
     "execution_count": 11,
     "metadata": {},
     "output_type": "execute_result"
    }
   ],
   "source": [
    "from sklearn.metrics import mean_squared_error\n",
    "mean_squared_error(valid_data[\"Close\"], valid_data[\"Predictions\"])"
   ]
  },
  {
   "cell_type": "markdown",
   "id": "accompanied-walker",
   "metadata": {},
   "source": [
    "window_size tuning \n",
    "```\n",
    "1 - 1.9269209847925197\n",
    "2 - 0.3980598984612749\n",
    "3 - 1.158177638455631\n",
    "6 - 1.8811873612190408\n",
    "30 - 0.5999837035140707\n",
    "60 - 0.28769486205778744\n",
    "```"
   ]
  },
  {
   "cell_type": "code",
   "execution_count": null,
   "id": "knowing-secretary",
   "metadata": {},
   "outputs": [],
   "source": []
  }
 ],
 "metadata": {
  "kernelspec": {
   "display_name": "Python 3",
   "language": "python",
   "name": "python3"
  },
  "language_info": {
   "codemirror_mode": {
    "name": "ipython",
    "version": 3
   },
   "file_extension": ".py",
   "mimetype": "text/x-python",
   "name": "python",
   "nbconvert_exporter": "python",
   "pygments_lexer": "ipython3",
   "version": "3.7.10"
  }
 },
 "nbformat": 4,
 "nbformat_minor": 5
}
