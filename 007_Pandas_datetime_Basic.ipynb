{
 "cells": [
  {
   "cell_type": "markdown",
   "id": "dabcc3b8",
   "metadata": {},
   "source": [
    "# 시계열 관련 NumPy 및 Pandas 기능\n",
    "\n",
    "- dataframe with a datetime index  \n",
    "\n",
    "- simple time series 시각화 \n",
    "\n",
    "## Key Data Types for Time Series Data\n",
    "### Key NumPy data types:\n",
    "1. Array - shape, max/min, argmax/argmin, sum, cumsum, mean, var, std, prod, cumprod, etc.\n",
    "\n",
    "2. datetime64\n",
    "\n",
    "3. timedelta64\n",
    "\n",
    "### Key Pandas data types:\n",
    "1. Series  \n",
    "2. DataFrame  \n",
    "3. Index"
   ]
  },
  {
   "cell_type": "code",
   "execution_count": 1,
   "id": "54719789",
   "metadata": {},
   "outputs": [],
   "source": [
    "import pandas as pd\n",
    "import numpy as np \n",
    "import matplotlib.pyplot as plt\n",
    "import seaborn as sns\n",
    "\n",
    "from datetime import datetime\n",
    "from datetime import timedelta"
   ]
  },
  {
   "cell_type": "markdown",
   "id": "26905b2e",
   "metadata": {},
   "source": [
    "## python, numpy, pandas 날짜 타입 비교 및 정리\n",
    "\n",
    "|라이브러리|날짜, 시간 클래스| 타임델타 클래스|\n",
    "|-------|-------------|-------------|\n",
    "|datatime|datetime, date, time|timedelta|\n",
    "|numpy|datetime64|timedelta64|\n",
    "|panads|Timestamp|Timedelta|\n",
    "\n",
    "- datetime은 python 설치 시 기본적으로 내장된 라이브러리로, 날짜를 쓸 것인지, 시간을 쓸 것인지, 날짜시간을 합쳐쓸 것인지에 따라 클래스가 분화되어 있는 것이 특징. 예를들어 '2021-3-16'을 표시하고 싶으면 date 클래스를 사용하고, '2021-3-16 12:34:21'를 표시하고 싶으면 'datetime' 클래스를 사용.  \n",
    "\n",
    "- datetime64나 Timestamp는 각각 numpy, pandas 라이브러리에서 새로 정의한 날짜시간 클래스. 이 둘은 numpy, pandas를 설치해야만 이용할 수 있고, 한 클래스로 날짜, 시간, 날짜시간을 모두 정의할 수 있는 것이 특징."
   ]
  },
  {
   "cell_type": "code",
   "execution_count": 2,
   "id": "af3f07b6",
   "metadata": {},
   "outputs": [
    {
     "name": "stdout",
     "output_type": "stream",
     "text": [
      "2022-05-01\n",
      "2022-05-01 15:30:45\n"
     ]
    }
   ],
   "source": [
    "#날짜 데이터 정의 - python \n",
    "import datetime\n",
    "#날짜\n",
    "print(datetime.date(2022, 5, 1))\n",
    "#날짜 + 시간\n",
    "print(datetime.datetime(2022, 5, 1, 15, 30, 45))"
   ]
  },
  {
   "cell_type": "code",
   "execution_count": 3,
   "id": "846819d6",
   "metadata": {},
   "outputs": [
    {
     "name": "stdout",
     "output_type": "stream",
     "text": [
      "2022-05-01\n"
     ]
    }
   ],
   "source": [
    "#날짜 데이터 정의 - numpy\n",
    "import numpy as np \n",
    "#날짜\n",
    "print(np.datetime64('2022-05-01'))"
   ]
  },
  {
   "cell_type": "code",
   "execution_count": 4,
   "id": "7f2b4dd1",
   "metadata": {},
   "outputs": [
    {
     "name": "stdout",
     "output_type": "stream",
     "text": [
      "2022-05-01 00:00:00\n",
      "2022-05-01 12:30:00\n"
     ]
    }
   ],
   "source": [
    "#날짜 데이터 정의 - pandas \n",
    "import pandas as pd \n",
    "#날짜\n",
    "print(pd.Timestamp(2022, 5, 1)) \n",
    "#날짜 + 시간\n",
    "print(pd.Timestamp(year=2022, month=5, day=1, hour=12, minute=30)) "
   ]
  },
  {
   "cell_type": "markdown",
   "id": "7e1615f3",
   "metadata": {},
   "source": [
    "## Pandas 의 Timestamp 처리"
   ]
  },
  {
   "cell_type": "code",
   "execution_count": 5,
   "id": "64beae7d",
   "metadata": {},
   "outputs": [
    {
     "data": {
      "text/plain": [
       "Index(['Row ID', 'Order ID', 'Order Date', 'Ship Date', 'Ship Mode',\n",
       "       'Customer ID', 'Customer Name', 'Segment', 'Country', 'City', 'State',\n",
       "       'Postal Code', 'Region', 'Product ID', 'Category', 'Sub-Category',\n",
       "       'Product Name', 'Sales', 'Quantity', 'Discount', 'Profit'],\n",
       "      dtype='object')"
      ]
     },
     "execution_count": 5,
     "metadata": {},
     "output_type": "execute_result"
    }
   ],
   "source": [
    "df = pd.read_excel(\"datasets/Sample - Superstore.xls\")\n",
    "df.columns"
   ]
  },
  {
   "cell_type": "code",
   "execution_count": 6,
   "id": "ad4961da",
   "metadata": {},
   "outputs": [
    {
     "data": {
      "text/html": [
       "<div>\n",
       "<style scoped>\n",
       "    .dataframe tbody tr th:only-of-type {\n",
       "        vertical-align: middle;\n",
       "    }\n",
       "\n",
       "    .dataframe tbody tr th {\n",
       "        vertical-align: top;\n",
       "    }\n",
       "\n",
       "    .dataframe thead th {\n",
       "        text-align: right;\n",
       "    }\n",
       "</style>\n",
       "<table border=\"1\" class=\"dataframe\">\n",
       "  <thead>\n",
       "    <tr style=\"text-align: right;\">\n",
       "      <th></th>\n",
       "      <th>Row ID</th>\n",
       "      <th>Order ID</th>\n",
       "      <th>Order Date</th>\n",
       "      <th>Ship Date</th>\n",
       "      <th>Ship Mode</th>\n",
       "      <th>Customer ID</th>\n",
       "      <th>Customer Name</th>\n",
       "      <th>Segment</th>\n",
       "      <th>Country</th>\n",
       "      <th>City</th>\n",
       "      <th>...</th>\n",
       "      <th>Postal Code</th>\n",
       "      <th>Region</th>\n",
       "      <th>Product ID</th>\n",
       "      <th>Category</th>\n",
       "      <th>Sub-Category</th>\n",
       "      <th>Product Name</th>\n",
       "      <th>Sales</th>\n",
       "      <th>Quantity</th>\n",
       "      <th>Discount</th>\n",
       "      <th>Profit</th>\n",
       "    </tr>\n",
       "  </thead>\n",
       "  <tbody>\n",
       "    <tr>\n",
       "      <th>0</th>\n",
       "      <td>1</td>\n",
       "      <td>CA-2013-152156</td>\n",
       "      <td>2013-11-09</td>\n",
       "      <td>2013-11-12</td>\n",
       "      <td>Second Class</td>\n",
       "      <td>CG-12520</td>\n",
       "      <td>Claire Gute</td>\n",
       "      <td>Consumer</td>\n",
       "      <td>United States</td>\n",
       "      <td>Henderson</td>\n",
       "      <td>...</td>\n",
       "      <td>42420</td>\n",
       "      <td>South</td>\n",
       "      <td>FUR-BO-10001798</td>\n",
       "      <td>Furniture</td>\n",
       "      <td>Bookcases</td>\n",
       "      <td>Bush Somerset Collection Bookcase</td>\n",
       "      <td>261.96</td>\n",
       "      <td>2</td>\n",
       "      <td>0.0</td>\n",
       "      <td>41.9136</td>\n",
       "    </tr>\n",
       "    <tr>\n",
       "      <th>1</th>\n",
       "      <td>2</td>\n",
       "      <td>CA-2013-152156</td>\n",
       "      <td>2013-11-09</td>\n",
       "      <td>2013-11-12</td>\n",
       "      <td>Second Class</td>\n",
       "      <td>CG-12520</td>\n",
       "      <td>Claire Gute</td>\n",
       "      <td>Consumer</td>\n",
       "      <td>United States</td>\n",
       "      <td>Henderson</td>\n",
       "      <td>...</td>\n",
       "      <td>42420</td>\n",
       "      <td>South</td>\n",
       "      <td>FUR-CH-10000454</td>\n",
       "      <td>Furniture</td>\n",
       "      <td>Chairs</td>\n",
       "      <td>Hon Deluxe Fabric Upholstered Stacking Chairs,...</td>\n",
       "      <td>731.94</td>\n",
       "      <td>3</td>\n",
       "      <td>0.0</td>\n",
       "      <td>219.5820</td>\n",
       "    </tr>\n",
       "    <tr>\n",
       "      <th>2</th>\n",
       "      <td>3</td>\n",
       "      <td>CA-2013-138688</td>\n",
       "      <td>2013-06-13</td>\n",
       "      <td>2013-06-17</td>\n",
       "      <td>Second Class</td>\n",
       "      <td>DV-13045</td>\n",
       "      <td>Darrin Van Huff</td>\n",
       "      <td>Corporate</td>\n",
       "      <td>United States</td>\n",
       "      <td>Los Angeles</td>\n",
       "      <td>...</td>\n",
       "      <td>90036</td>\n",
       "      <td>West</td>\n",
       "      <td>OFF-LA-10000240</td>\n",
       "      <td>Office Supplies</td>\n",
       "      <td>Labels</td>\n",
       "      <td>Self-Adhesive Address Labels for Typewriters b...</td>\n",
       "      <td>14.62</td>\n",
       "      <td>2</td>\n",
       "      <td>0.0</td>\n",
       "      <td>6.8714</td>\n",
       "    </tr>\n",
       "  </tbody>\n",
       "</table>\n",
       "<p>3 rows × 21 columns</p>\n",
       "</div>"
      ],
      "text/plain": [
       "   Row ID        Order ID Order Date  Ship Date     Ship Mode Customer ID  \\\n",
       "0       1  CA-2013-152156 2013-11-09 2013-11-12  Second Class    CG-12520   \n",
       "1       2  CA-2013-152156 2013-11-09 2013-11-12  Second Class    CG-12520   \n",
       "2       3  CA-2013-138688 2013-06-13 2013-06-17  Second Class    DV-13045   \n",
       "\n",
       "     Customer Name    Segment        Country         City  ... Postal Code  \\\n",
       "0      Claire Gute   Consumer  United States    Henderson  ...       42420   \n",
       "1      Claire Gute   Consumer  United States    Henderson  ...       42420   \n",
       "2  Darrin Van Huff  Corporate  United States  Los Angeles  ...       90036   \n",
       "\n",
       "   Region       Product ID         Category Sub-Category  \\\n",
       "0   South  FUR-BO-10001798        Furniture    Bookcases   \n",
       "1   South  FUR-CH-10000454        Furniture       Chairs   \n",
       "2    West  OFF-LA-10000240  Office Supplies       Labels   \n",
       "\n",
       "                                        Product Name   Sales  Quantity  \\\n",
       "0                  Bush Somerset Collection Bookcase  261.96         2   \n",
       "1  Hon Deluxe Fabric Upholstered Stacking Chairs,...  731.94         3   \n",
       "2  Self-Adhesive Address Labels for Typewriters b...   14.62         2   \n",
       "\n",
       "   Discount    Profit  \n",
       "0       0.0   41.9136  \n",
       "1       0.0  219.5820  \n",
       "2       0.0    6.8714  \n",
       "\n",
       "[3 rows x 21 columns]"
      ]
     },
     "execution_count": 6,
     "metadata": {},
     "output_type": "execute_result"
    }
   ],
   "source": [
    "df.head(3)"
   ]
  },
  {
   "cell_type": "markdown",
   "id": "279c6fb9",
   "metadata": {},
   "source": [
    "###  시계열 데이터 단순화\n",
    "\n",
    "- 주문 날짜 및 범주별 총 판매액으로 data 를 단순화  \n",
    "\n",
    "- 인덱스를 재설정하지 않으면 Pandas가 그룹 변수를 인덱스로 설정합니다. "
   ]
  },
  {
   "cell_type": "code",
   "execution_count": 7,
   "id": "d2324b01",
   "metadata": {},
   "outputs": [
    {
     "data": {
      "text/html": [
       "<div>\n",
       "<style scoped>\n",
       "    .dataframe tbody tr th:only-of-type {\n",
       "        vertical-align: middle;\n",
       "    }\n",
       "\n",
       "    .dataframe tbody tr th {\n",
       "        vertical-align: top;\n",
       "    }\n",
       "\n",
       "    .dataframe thead th {\n",
       "        text-align: right;\n",
       "    }\n",
       "</style>\n",
       "<table border=\"1\" class=\"dataframe\">\n",
       "  <thead>\n",
       "    <tr style=\"text-align: right;\">\n",
       "      <th></th>\n",
       "      <th></th>\n",
       "      <th>Row ID</th>\n",
       "      <th>Postal Code</th>\n",
       "      <th>Sales</th>\n",
       "      <th>Quantity</th>\n",
       "      <th>Discount</th>\n",
       "      <th>Profit</th>\n",
       "    </tr>\n",
       "    <tr>\n",
       "      <th>Order Date</th>\n",
       "      <th>Category</th>\n",
       "      <th></th>\n",
       "      <th></th>\n",
       "      <th></th>\n",
       "      <th></th>\n",
       "      <th></th>\n",
       "      <th></th>\n",
       "    </tr>\n",
       "  </thead>\n",
       "  <tbody>\n",
       "    <tr>\n",
       "      <th>2011-01-04</th>\n",
       "      <th>Office Supplies</th>\n",
       "      <td>7981</td>\n",
       "      <td>77095</td>\n",
       "      <td>16.448</td>\n",
       "      <td>2</td>\n",
       "      <td>0.2</td>\n",
       "      <td>5.5512</td>\n",
       "    </tr>\n",
       "    <tr>\n",
       "      <th>2011-01-05</th>\n",
       "      <th>Office Supplies</th>\n",
       "      <td>2223</td>\n",
       "      <td>181620</td>\n",
       "      <td>288.060</td>\n",
       "      <td>8</td>\n",
       "      <td>1.2</td>\n",
       "      <td>-65.9901</td>\n",
       "    </tr>\n",
       "    <tr>\n",
       "      <th>2011-01-06</th>\n",
       "      <th>Office Supplies</th>\n",
       "      <td>1760</td>\n",
       "      <td>19143</td>\n",
       "      <td>19.536</td>\n",
       "      <td>3</td>\n",
       "      <td>0.2</td>\n",
       "      <td>4.8840</td>\n",
       "    </tr>\n",
       "    <tr>\n",
       "      <th rowspan=\"2\" valign=\"top\">2011-01-07</th>\n",
       "      <th>Furniture</th>\n",
       "      <td>7475</td>\n",
       "      <td>42420</td>\n",
       "      <td>2573.820</td>\n",
       "      <td>9</td>\n",
       "      <td>0.0</td>\n",
       "      <td>746.4078</td>\n",
       "    </tr>\n",
       "    <tr>\n",
       "      <th>Office Supplies</th>\n",
       "      <td>42423</td>\n",
       "      <td>290334</td>\n",
       "      <td>685.340</td>\n",
       "      <td>15</td>\n",
       "      <td>0.0</td>\n",
       "      <td>293.8612</td>\n",
       "    </tr>\n",
       "  </tbody>\n",
       "</table>\n",
       "</div>"
      ],
      "text/plain": [
       "                            Row ID  Postal Code     Sales  Quantity  Discount  \\\n",
       "Order Date Category                                                             \n",
       "2011-01-04 Office Supplies    7981        77095    16.448         2       0.2   \n",
       "2011-01-05 Office Supplies    2223       181620   288.060         8       1.2   \n",
       "2011-01-06 Office Supplies    1760        19143    19.536         3       0.2   \n",
       "2011-01-07 Furniture          7475        42420  2573.820         9       0.0   \n",
       "           Office Supplies   42423       290334   685.340        15       0.0   \n",
       "\n",
       "                              Profit  \n",
       "Order Date Category                   \n",
       "2011-01-04 Office Supplies    5.5512  \n",
       "2011-01-05 Office Supplies  -65.9901  \n",
       "2011-01-06 Office Supplies    4.8840  \n",
       "2011-01-07 Furniture        746.4078  \n",
       "           Office Supplies  293.8612  "
      ]
     },
     "execution_count": 7,
     "metadata": {},
     "output_type": "execute_result"
    }
   ],
   "source": [
    "group_variables =  ['Order Date', 'Category']\n",
    "outcome_variable =  ['Category', 'Sales']\n",
    "base = df.groupby(group_variables)\n",
    "base.sum().head()"
   ]
  },
  {
   "cell_type": "code",
   "execution_count": 8,
   "id": "ee2510f6",
   "metadata": {},
   "outputs": [
    {
     "data": {
      "text/html": [
       "<div>\n",
       "<style scoped>\n",
       "    .dataframe tbody tr th:only-of-type {\n",
       "        vertical-align: middle;\n",
       "    }\n",
       "\n",
       "    .dataframe tbody tr th {\n",
       "        vertical-align: top;\n",
       "    }\n",
       "\n",
       "    .dataframe thead th {\n",
       "        text-align: right;\n",
       "    }\n",
       "</style>\n",
       "<table border=\"1\" class=\"dataframe\">\n",
       "  <thead>\n",
       "    <tr style=\"text-align: right;\">\n",
       "      <th></th>\n",
       "      <th>Order Date</th>\n",
       "      <th>Category</th>\n",
       "      <th>Sales</th>\n",
       "    </tr>\n",
       "  </thead>\n",
       "  <tbody>\n",
       "    <tr>\n",
       "      <th>0</th>\n",
       "      <td>2011-01-04</td>\n",
       "      <td>Office Supplies</td>\n",
       "      <td>16.448</td>\n",
       "    </tr>\n",
       "    <tr>\n",
       "      <th>1</th>\n",
       "      <td>2011-01-05</td>\n",
       "      <td>Office Supplies</td>\n",
       "      <td>288.060</td>\n",
       "    </tr>\n",
       "    <tr>\n",
       "      <th>2</th>\n",
       "      <td>2011-01-06</td>\n",
       "      <td>Office Supplies</td>\n",
       "      <td>19.536</td>\n",
       "    </tr>\n",
       "    <tr>\n",
       "      <th>3</th>\n",
       "      <td>2011-01-07</td>\n",
       "      <td>Furniture</td>\n",
       "      <td>2573.820</td>\n",
       "    </tr>\n",
       "    <tr>\n",
       "      <th>4</th>\n",
       "      <td>2011-01-07</td>\n",
       "      <td>Office Supplies</td>\n",
       "      <td>685.340</td>\n",
       "    </tr>\n",
       "  </tbody>\n",
       "</table>\n",
       "</div>"
      ],
      "text/plain": [
       "  Order Date         Category     Sales\n",
       "0 2011-01-04  Office Supplies    16.448\n",
       "1 2011-01-05  Office Supplies   288.060\n",
       "2 2011-01-06  Office Supplies    19.536\n",
       "3 2011-01-07        Furniture  2573.820\n",
       "4 2011-01-07  Office Supplies   685.340"
      ]
     },
     "execution_count": 8,
     "metadata": {},
     "output_type": "execute_result"
    }
   ],
   "source": [
    "base = df.groupby(group_variables)[outcome_variable].sum().reset_index()\n",
    "base.head()"
   ]
  },
  {
   "cell_type": "code",
   "execution_count": 9,
   "id": "5f22ff94",
   "metadata": {},
   "outputs": [
    {
     "name": "stdout",
     "output_type": "stream",
     "text": [
      "base 데이터프레임의 columns: Index(['Order Date', 'Category', 'Sales'], dtype='object')\n",
      "base 데이터프레임의 index: RangeIndex(start=0, stop=2864, step=1)\n"
     ]
    }
   ],
   "source": [
    "print(\"base 데이터프레임의 columns:\", base.columns)\n",
    "print(\"base 데이터프레임의 index:\", base.index)"
   ]
  },
  {
   "cell_type": "code",
   "execution_count": 10,
   "id": "18f75abe",
   "metadata": {},
   "outputs": [
    {
     "data": {
      "text/plain": [
       "Order Date    datetime64[ns]\n",
       "Category              object\n",
       "Sales                float64\n",
       "dtype: object"
      ]
     },
     "execution_count": 10,
     "metadata": {},
     "output_type": "execute_result"
    }
   ],
   "source": [
    "base.dtypes"
   ]
  },
  {
   "cell_type": "markdown",
   "id": "6ffc0741",
   "metadata": {},
   "source": [
    "### Numpy 의 datetime64 format\n",
    "\n",
    "NumPy 날짜 배열은 ns(나노초) 단위의 datetime64 객체입니다. \n",
    "\n",
    "내부 저장 단위는 문자열 형태에서 자동으로 선택되며 날짜 단위 또는 시간 단위가 될 수 있습니다. 날짜 단위는 년('Y'), 월('M'), 주('W'), 일('D')이고 시간 단위는 시('h'), 분('m'), 초('s'), 밀리초('ms') 입니다."
   ]
  },
  {
   "cell_type": "code",
   "execution_count": 11,
   "id": "cca8aa3e",
   "metadata": {},
   "outputs": [
    {
     "data": {
      "text/plain": [
       "array(['2011-01-04T00:00:00.000000000', '2011-01-05T00:00:00.000000000',\n",
       "       '2011-01-06T00:00:00.000000000', ...,\n",
       "       '2014-12-31T00:00:00.000000000', '2014-12-31T00:00:00.000000000',\n",
       "       '2014-12-31T00:00:00.000000000'], dtype='datetime64[ns]')"
      ]
     },
     "execution_count": 11,
     "metadata": {},
     "output_type": "execute_result"
    }
   ],
   "source": [
    "order_date = base['Order Date'].values\n",
    "order_date"
   ]
  },
  {
   "cell_type": "code",
   "execution_count": 12,
   "id": "f716446e",
   "metadata": {},
   "outputs": [
    {
     "data": {
      "text/plain": [
       "array(['2011-01-04', '2011-01-05', '2011-01-06', ..., '2014-12-31',\n",
       "       '2014-12-31', '2014-12-31'], dtype='datetime64[D]')"
      ]
     },
     "execution_count": 12,
     "metadata": {},
     "output_type": "execute_result"
    }
   ],
   "source": [
    "order_date_daily = np.array(order_date, dtype='datetime64[D]')\n",
    "order_date_daily"
   ]
  },
  {
   "cell_type": "code",
   "execution_count": 13,
   "id": "f58b74fd",
   "metadata": {},
   "outputs": [
    {
     "data": {
      "text/plain": [
       "array(['2011-01', '2011-01', '2011-01', ..., '2014-12', '2014-12',\n",
       "       '2014-12'], dtype='datetime64[M]')"
      ]
     },
     "execution_count": 13,
     "metadata": {},
     "output_type": "execute_result"
    }
   ],
   "source": [
    "order_date_monthly = np.array(order_date, dtype='datetime64[M]')\n",
    "order_date_monthly"
   ]
  },
  {
   "cell_type": "code",
   "execution_count": 14,
   "id": "3e61d44e",
   "metadata": {},
   "outputs": [
    {
     "data": {
      "text/plain": [
       "array(['2011-01', '2011-02', '2011-03', '2011-04', '2011-05', '2011-06',\n",
       "       '2011-07', '2011-08', '2011-09', '2011-10', '2011-11', '2011-12',\n",
       "       '2012-01', '2012-02', '2012-03', '2012-04', '2012-05', '2012-06',\n",
       "       '2012-07', '2012-08', '2012-09', '2012-10', '2012-11', '2012-12',\n",
       "       '2013-01', '2013-02', '2013-03', '2013-04', '2013-05', '2013-06',\n",
       "       '2013-07', '2013-08', '2013-09', '2013-10', '2013-11', '2013-12',\n",
       "       '2014-01', '2014-02', '2014-03', '2014-04', '2014-05', '2014-06',\n",
       "       '2014-07', '2014-08', '2014-09', '2014-10', '2014-11', '2014-12'],\n",
       "      dtype='datetime64[M]')"
      ]
     },
     "execution_count": 14,
     "metadata": {},
     "output_type": "execute_result"
    }
   ],
   "source": [
    "np.unique(order_date_monthly)"
   ]
  },
  {
   "cell_type": "code",
   "execution_count": 15,
   "id": "e5749996",
   "metadata": {},
   "outputs": [
    {
     "data": {
      "text/plain": [
       "array(['2011', '2012', '2013', '2014'], dtype='datetime64[Y]')"
      ]
     },
     "execution_count": 15,
     "metadata": {},
     "output_type": "execute_result"
    }
   ],
   "source": [
    "np.unique(np.array(order_date, dtype='datetime64[Y]'))"
   ]
  },
  {
   "cell_type": "markdown",
   "id": "d443bd2c",
   "metadata": {},
   "source": [
    "## Pandas DatetimeIndex를 이용한 작업\n",
    "\n",
    "### 기존 변수를 사용하여 인덱스 설정"
   ]
  },
  {
   "cell_type": "code",
   "execution_count": 16,
   "id": "191d3cec",
   "metadata": {},
   "outputs": [
    {
     "data": {
      "text/plain": [
       "dtype('<M8[ns]')"
      ]
     },
     "execution_count": 16,
     "metadata": {},
     "output_type": "execute_result"
    }
   ],
   "source": [
    "base['Order Date'].dtype"
   ]
  },
  {
   "cell_type": "code",
   "execution_count": 17,
   "id": "e459f549",
   "metadata": {},
   "outputs": [
    {
     "data": {
      "text/html": [
       "<div>\n",
       "<style scoped>\n",
       "    .dataframe tbody tr th:only-of-type {\n",
       "        vertical-align: middle;\n",
       "    }\n",
       "\n",
       "    .dataframe tbody tr th {\n",
       "        vertical-align: top;\n",
       "    }\n",
       "\n",
       "    .dataframe thead th {\n",
       "        text-align: right;\n",
       "    }\n",
       "</style>\n",
       "<table border=\"1\" class=\"dataframe\">\n",
       "  <thead>\n",
       "    <tr style=\"text-align: right;\">\n",
       "      <th></th>\n",
       "      <th>Category</th>\n",
       "      <th>Sales</th>\n",
       "    </tr>\n",
       "    <tr>\n",
       "      <th>Order Date</th>\n",
       "      <th></th>\n",
       "      <th></th>\n",
       "    </tr>\n",
       "  </thead>\n",
       "  <tbody>\n",
       "    <tr>\n",
       "      <th>2011-01-04</th>\n",
       "      <td>Office Supplies</td>\n",
       "      <td>16.448</td>\n",
       "    </tr>\n",
       "    <tr>\n",
       "      <th>2011-01-05</th>\n",
       "      <td>Office Supplies</td>\n",
       "      <td>288.060</td>\n",
       "    </tr>\n",
       "    <tr>\n",
       "      <th>2011-01-06</th>\n",
       "      <td>Office Supplies</td>\n",
       "      <td>19.536</td>\n",
       "    </tr>\n",
       "    <tr>\n",
       "      <th>2011-01-07</th>\n",
       "      <td>Furniture</td>\n",
       "      <td>2573.820</td>\n",
       "    </tr>\n",
       "    <tr>\n",
       "      <th>2011-01-07</th>\n",
       "      <td>Office Supplies</td>\n",
       "      <td>685.340</td>\n",
       "    </tr>\n",
       "  </tbody>\n",
       "</table>\n",
       "</div>"
      ],
      "text/plain": [
       "                   Category     Sales\n",
       "Order Date                           \n",
       "2011-01-04  Office Supplies    16.448\n",
       "2011-01-05  Office Supplies   288.060\n",
       "2011-01-06  Office Supplies    19.536\n",
       "2011-01-07        Furniture  2573.820\n",
       "2011-01-07  Office Supplies   685.340"
      ]
     },
     "execution_count": 17,
     "metadata": {},
     "output_type": "execute_result"
    }
   ],
   "source": [
    "base.set_index('Order Date', inplace=True)\n",
    "\n",
    "base.head()"
   ]
  },
  {
   "cell_type": "code",
   "execution_count": 18,
   "id": "1aad5162",
   "metadata": {},
   "outputs": [
    {
     "data": {
      "text/plain": [
       "DatetimeIndex(['2011-01-04', '2011-01-05', '2011-01-06', '2011-01-07',\n",
       "               '2011-01-07', '2011-01-07', '2011-01-08', '2011-01-08',\n",
       "               '2011-01-10', '2011-01-10',\n",
       "               ...\n",
       "               '2014-12-28', '2014-12-29', '2014-12-29', '2014-12-29',\n",
       "               '2014-12-30', '2014-12-30', '2014-12-30', '2014-12-31',\n",
       "               '2014-12-31', '2014-12-31'],\n",
       "              dtype='datetime64[ns]', name='Order Date', length=2864, freq=None)"
      ]
     },
     "execution_count": 18,
     "metadata": {},
     "output_type": "execute_result"
    }
   ],
   "source": [
    "base.index"
   ]
  },
  {
   "cell_type": "markdown",
   "id": "8ebe9682",
   "metadata": {},
   "source": [
    "### Subsetting data\n",
    "\n",
    "이제 DatetimeIndex가 있으며 이를 사용하여 데이터 하위 집합을 선택할 수 있습니다."
   ]
  },
  {
   "cell_type": "code",
   "execution_count": 19,
   "id": "9720df4b",
   "metadata": {},
   "outputs": [
    {
     "data": {
      "text/html": [
       "<div>\n",
       "<style scoped>\n",
       "    .dataframe tbody tr th:only-of-type {\n",
       "        vertical-align: middle;\n",
       "    }\n",
       "\n",
       "    .dataframe tbody tr th {\n",
       "        vertical-align: top;\n",
       "    }\n",
       "\n",
       "    .dataframe thead th {\n",
       "        text-align: right;\n",
       "    }\n",
       "</style>\n",
       "<table border=\"1\" class=\"dataframe\">\n",
       "  <thead>\n",
       "    <tr style=\"text-align: right;\">\n",
       "      <th></th>\n",
       "      <th>Category</th>\n",
       "      <th>Sales</th>\n",
       "    </tr>\n",
       "    <tr>\n",
       "      <th>Order Date</th>\n",
       "      <th></th>\n",
       "      <th></th>\n",
       "    </tr>\n",
       "  </thead>\n",
       "  <tbody>\n",
       "    <tr>\n",
       "      <th>2011-01-04</th>\n",
       "      <td>Office Supplies</td>\n",
       "      <td>16.448</td>\n",
       "    </tr>\n",
       "    <tr>\n",
       "      <th>2011-01-05</th>\n",
       "      <td>Office Supplies</td>\n",
       "      <td>288.060</td>\n",
       "    </tr>\n",
       "    <tr>\n",
       "      <th>2011-01-06</th>\n",
       "      <td>Office Supplies</td>\n",
       "      <td>19.536</td>\n",
       "    </tr>\n",
       "    <tr>\n",
       "      <th>2011-01-07</th>\n",
       "      <td>Furniture</td>\n",
       "      <td>2573.820</td>\n",
       "    </tr>\n",
       "    <tr>\n",
       "      <th>2011-01-07</th>\n",
       "      <td>Office Supplies</td>\n",
       "      <td>685.340</td>\n",
       "    </tr>\n",
       "  </tbody>\n",
       "</table>\n",
       "</div>"
      ],
      "text/plain": [
       "                   Category     Sales\n",
       "Order Date                           \n",
       "2011-01-04  Office Supplies    16.448\n",
       "2011-01-05  Office Supplies   288.060\n",
       "2011-01-06  Office Supplies    19.536\n",
       "2011-01-07        Furniture  2573.820\n",
       "2011-01-07  Office Supplies   685.340"
      ]
     },
     "execution_count": 19,
     "metadata": {},
     "output_type": "execute_result"
    }
   ],
   "source": [
    "base.loc['2011'].head()"
   ]
  },
  {
   "cell_type": "code",
   "execution_count": 20,
   "id": "fe8c9277",
   "metadata": {},
   "outputs": [
    {
     "data": {
      "text/html": [
       "<div>\n",
       "<style scoped>\n",
       "    .dataframe tbody tr th:only-of-type {\n",
       "        vertical-align: middle;\n",
       "    }\n",
       "\n",
       "    .dataframe tbody tr th {\n",
       "        vertical-align: top;\n",
       "    }\n",
       "\n",
       "    .dataframe thead th {\n",
       "        text-align: right;\n",
       "    }\n",
       "</style>\n",
       "<table border=\"1\" class=\"dataframe\">\n",
       "  <thead>\n",
       "    <tr style=\"text-align: right;\">\n",
       "      <th></th>\n",
       "      <th>Category</th>\n",
       "      <th>Sales</th>\n",
       "    </tr>\n",
       "    <tr>\n",
       "      <th>Order Date</th>\n",
       "      <th></th>\n",
       "      <th></th>\n",
       "    </tr>\n",
       "  </thead>\n",
       "  <tbody>\n",
       "    <tr>\n",
       "      <th>2012-01-02</th>\n",
       "      <td>Office Supplies</td>\n",
       "      <td>139.080</td>\n",
       "    </tr>\n",
       "    <tr>\n",
       "      <th>2012-01-03</th>\n",
       "      <td>Office Supplies</td>\n",
       "      <td>17.424</td>\n",
       "    </tr>\n",
       "    <tr>\n",
       "      <th>2012-01-04</th>\n",
       "      <td>Office Supplies</td>\n",
       "      <td>72.240</td>\n",
       "    </tr>\n",
       "    <tr>\n",
       "      <th>2012-01-05</th>\n",
       "      <td>Office Supplies</td>\n",
       "      <td>233.688</td>\n",
       "    </tr>\n",
       "    <tr>\n",
       "      <th>2012-01-06</th>\n",
       "      <td>Office Supplies</td>\n",
       "      <td>31.538</td>\n",
       "    </tr>\n",
       "  </tbody>\n",
       "</table>\n",
       "</div>"
      ],
      "text/plain": [
       "                   Category    Sales\n",
       "Order Date                          \n",
       "2012-01-02  Office Supplies  139.080\n",
       "2012-01-03  Office Supplies   17.424\n",
       "2012-01-04  Office Supplies   72.240\n",
       "2012-01-05  Office Supplies  233.688\n",
       "2012-01-06  Office Supplies   31.538"
      ]
     },
     "execution_count": 20,
     "metadata": {},
     "output_type": "execute_result"
    }
   ],
   "source": [
    "base[base['Category'] == 'Office Supplies']['2012-01':'2012-02'].head()"
   ]
  },
  {
   "cell_type": "markdown",
   "id": "49d54bbd",
   "metadata": {},
   "source": [
    "### Datetime Components\n",
    "\n",
    "Pandas Datetime 변수에는 여러 가지 유용한 구성 요소가 있습니다. DatetimeIndex를 사용하여 월, 연도, 요일, 분기 등과 같은 항목을 추출할 수 있습니다."
   ]
  },
  {
   "cell_type": "code",
   "execution_count": 21,
   "id": "77e60dd9",
   "metadata": {},
   "outputs": [
    {
     "data": {
      "text/plain": [
       "Int64Index([ 4,  5,  6,  7,  7,  7,  8,  8, 10, 10,\n",
       "            ...\n",
       "            28, 29, 29, 29, 30, 30, 30, 31, 31, 31],\n",
       "           dtype='int64', name='Order Date', length=2864)"
      ]
     },
     "execution_count": 21,
     "metadata": {},
     "output_type": "execute_result"
    }
   ],
   "source": [
    "base.index.day"
   ]
  },
  {
   "cell_type": "code",
   "execution_count": 22,
   "id": "4e44a9bf",
   "metadata": {},
   "outputs": [
    {
     "data": {
      "text/plain": [
       "Int64Index([1, 2, 3, 4, 4, 4, 5, 5, 0, 0,\n",
       "            ...\n",
       "            6, 0, 0, 0, 1, 1, 1, 2, 2, 2],\n",
       "           dtype='int64', name='Order Date', length=2864)"
      ]
     },
     "execution_count": 22,
     "metadata": {},
     "output_type": "execute_result"
    }
   ],
   "source": [
    "base.index.dayofweek   # Day of Week: Monday=0, Sunday=6"
   ]
  },
  {
   "cell_type": "code",
   "execution_count": 23,
   "id": "59bcad1e",
   "metadata": {},
   "outputs": [
    {
     "data": {
      "text/html": [
       "<div>\n",
       "<style scoped>\n",
       "    .dataframe tbody tr th:only-of-type {\n",
       "        vertical-align: middle;\n",
       "    }\n",
       "\n",
       "    .dataframe tbody tr th {\n",
       "        vertical-align: top;\n",
       "    }\n",
       "\n",
       "    .dataframe thead th {\n",
       "        text-align: right;\n",
       "    }\n",
       "</style>\n",
       "<table border=\"1\" class=\"dataframe\">\n",
       "  <thead>\n",
       "    <tr style=\"text-align: right;\">\n",
       "      <th></th>\n",
       "      <th>Category</th>\n",
       "      <th>Sales</th>\n",
       "      <th>DayofWeek</th>\n",
       "    </tr>\n",
       "    <tr>\n",
       "      <th>Order Date</th>\n",
       "      <th></th>\n",
       "      <th></th>\n",
       "      <th></th>\n",
       "    </tr>\n",
       "  </thead>\n",
       "  <tbody>\n",
       "    <tr>\n",
       "      <th>2011-01-04</th>\n",
       "      <td>Office Supplies</td>\n",
       "      <td>16.448</td>\n",
       "      <td>1</td>\n",
       "    </tr>\n",
       "    <tr>\n",
       "      <th>2011-01-05</th>\n",
       "      <td>Office Supplies</td>\n",
       "      <td>288.060</td>\n",
       "      <td>2</td>\n",
       "    </tr>\n",
       "    <tr>\n",
       "      <th>2011-01-06</th>\n",
       "      <td>Office Supplies</td>\n",
       "      <td>19.536</td>\n",
       "      <td>3</td>\n",
       "    </tr>\n",
       "    <tr>\n",
       "      <th>2011-01-07</th>\n",
       "      <td>Furniture</td>\n",
       "      <td>2573.820</td>\n",
       "      <td>4</td>\n",
       "    </tr>\n",
       "    <tr>\n",
       "      <th>2011-01-07</th>\n",
       "      <td>Office Supplies</td>\n",
       "      <td>685.340</td>\n",
       "      <td>4</td>\n",
       "    </tr>\n",
       "  </tbody>\n",
       "</table>\n",
       "</div>"
      ],
      "text/plain": [
       "                   Category     Sales  DayofWeek\n",
       "Order Date                                      \n",
       "2011-01-04  Office Supplies    16.448          1\n",
       "2011-01-05  Office Supplies   288.060          2\n",
       "2011-01-06  Office Supplies    19.536          3\n",
       "2011-01-07        Furniture  2573.820          4\n",
       "2011-01-07  Office Supplies   685.340          4"
      ]
     },
     "execution_count": 23,
     "metadata": {},
     "output_type": "execute_result"
    }
   ],
   "source": [
    "base['DayofWeek'] = base.index.dayofweek\n",
    "base.head()"
   ]
  },
  {
   "cell_type": "code",
   "execution_count": null,
   "id": "706f633e",
   "metadata": {},
   "outputs": [],
   "source": []
  }
 ],
 "metadata": {
  "kernelspec": {
   "display_name": "Python 3 (ipykernel)",
   "language": "python",
   "name": "python3"
  },
  "language_info": {
   "codemirror_mode": {
    "name": "ipython",
    "version": 3
   },
   "file_extension": ".py",
   "mimetype": "text/x-python",
   "name": "python",
   "nbconvert_exporter": "python",
   "pygments_lexer": "ipython3",
   "version": "3.8.12"
  }
 },
 "nbformat": 4,
 "nbformat_minor": 5
}
