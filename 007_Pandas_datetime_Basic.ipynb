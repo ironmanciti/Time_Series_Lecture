{
 "cells": [
  {
   "cell_type": "markdown",
   "id": "dabcc3b8",
   "metadata": {},
   "source": [
    "# 시계열 관련 NumPy 및 Pandas 기능"
   ]
  },
  {
   "cell_type": "markdown",
   "id": "26905b2e",
   "metadata": {},
   "source": [
    "## python, numpy, pandas 날짜 타입 비교 및 정리\n",
    "\n",
    "|라이브러리|날짜, 시간 클래스| 타임델타 클래스|\n",
    "|-------|-------------|-------------|\n",
    "|datatime|datetime, date, time|timedelta|\n",
    "|numpy|datetime64|timedelta64|\n",
    "|panads|Timestamp|Timedelta|\n",
    "\n",
    "- datetime은 python 설치 시 기본적으로 내장된 라이브러리로, 날짜를 쓸 것인지, 시간을 쓸 것인지, 날짜와 시간을 합쳐쓸 것인지에 따라 클래스가 분화되어 있음.   \n",
    "예를들어 `2021-3-16`을 표시하고 싶으면 `date` 클래스를 사용하고, `2021-3-16 12:34:2`'를 표시하고 싶으면 `datetime` 클래스를 사용.  \n",
    "\n",
    "\n",
    "- `datetime64`나 `Timestamp`는 각각 numpy, pandas 라이브러리에서 새로 정의한 날짜시간 클래스.   \n",
    "이 둘은 한 클래스로 날짜, 시간, 날짜시간을 모두 정의할 수 있는 것이 특징."
   ]
  },
  {
   "cell_type": "markdown",
   "id": "ce48965d",
   "metadata": {},
   "source": [
    "### 날짜 데이터 정의 - python \n",
    "다음 코드는 Python의 내장 모듈인 datetime을 사용하여 날짜, 날짜 + 시간, 그리고 시간을 출력하는 예제입니다. 코드의 실행 결과는 각각 2022년 5월 1일, 2022년 5월 1일 15시 30분 45초, 그리고 15시 30분 45초를 나타냅니다."
   ]
  },
  {
   "cell_type": "code",
   "execution_count": 1,
   "id": "af3f07b6",
   "metadata": {},
   "outputs": [
    {
     "name": "stdout",
     "output_type": "stream",
     "text": [
      "2022-05-01\n",
      "2022-05-01 15:30:45\n",
      "15:30:45\n"
     ]
    }
   ],
   "source": [
    "import datetime\n",
    "\n",
    "#날짜\n",
    "print(datetime.date(2022, 5, 1))\n",
    "\n",
    "#날짜 + 시간\n",
    "print(datetime.datetime(2022, 5, 1, 15, 30, 45))\n",
    "\n",
    "#시간\n",
    "print(datetime.time(15, 30, 45))"
   ]
  },
  {
   "cell_type": "markdown",
   "id": "f6e2b0cd",
   "metadata": {},
   "source": [
    "### 날짜 데이터 정의 - numpy\n",
    "다음 코드는 NumPy 라이브러리를 사용하여 날짜를 출력하는 예제입니다. 코드의 실행 결과는 2022년 5월 1일을 나타냅니다. NumPy의 datetime64 데이터 타입은 고성능 배열 처리를 위해 설계되어 있으며, 날짜 및 시간 관련 연산에 유용하게 사용됩니다."
   ]
  },
  {
   "cell_type": "code",
   "execution_count": 2,
   "id": "846819d6",
   "metadata": {},
   "outputs": [
    {
     "name": "stdout",
     "output_type": "stream",
     "text": [
      "2022-05-01\n"
     ]
    }
   ],
   "source": [
    "import numpy as np \n",
    "\n",
    "#날짜\n",
    "print(np.datetime64('2022-05-01'))"
   ]
  },
  {
   "cell_type": "markdown",
   "id": "18d401cf",
   "metadata": {},
   "source": [
    "### 날짜 데이터 정의 - pandas \n",
    "다음 코드는 pandas 라이브러리를 사용하여 날짜와 날짜 + 시간을 출력하는 예제입니다. 코드의 실행 결과는 각각 2022년 5월 1일 00시 00분 00초와 2022년 5월 1일 12시 30분 00초를 나타냅니다. pandas의 Timestamp 객체는 시계열 데이터 처리에 유용하게 사용됩니다."
   ]
  },
  {
   "cell_type": "code",
   "execution_count": 3,
   "id": "7f2b4dd1",
   "metadata": {},
   "outputs": [
    {
     "name": "stdout",
     "output_type": "stream",
     "text": [
      "2022-05-01 00:00:00\n",
      "2022-05-01 12:30:00\n"
     ]
    }
   ],
   "source": [
    "import pandas as pd \n",
    "\n",
    "#날짜\n",
    "print(pd.Timestamp(2022, 5, 1)) \n",
    "\n",
    "#날짜 + 시간\n",
    "print(pd.Timestamp(year=2022, month=5, day=1, hour=12, minute=30)) "
   ]
  },
  {
   "cell_type": "markdown",
   "id": "7e1615f3",
   "metadata": {},
   "source": [
    "### Pandas 의 Timestamp 처리"
   ]
  },
  {
   "cell_type": "code",
   "execution_count": 12,
   "id": "64beae7d",
   "metadata": {},
   "outputs": [
    {
     "data": {
      "text/plain": [
       "Index(['Row ID', 'Order ID', 'Order Date', 'Ship Date', 'Ship Mode',\n",
       "       'Customer ID', 'Customer Name', 'Segment', 'Country', 'City', 'State',\n",
       "       'Postal Code', 'Region', 'Product ID', 'Category', 'Sub-Category',\n",
       "       'Product Name', 'Sales', 'Quantity', 'Discount', 'Profit'],\n",
       "      dtype='object')"
      ]
     },
     "execution_count": 12,
     "metadata": {},
     "output_type": "execute_result"
    }
   ],
   "source": [
    "df = pd.read_excel(\"datasets/Sample - Superstore.xls\")\n",
    "df.columns"
   ]
  },
  {
   "cell_type": "code",
   "execution_count": 13,
   "id": "ad4961da",
   "metadata": {},
   "outputs": [
    {
     "data": {
      "text/html": [
       "<div>\n",
       "<style scoped>\n",
       "    .dataframe tbody tr th:only-of-type {\n",
       "        vertical-align: middle;\n",
       "    }\n",
       "\n",
       "    .dataframe tbody tr th {\n",
       "        vertical-align: top;\n",
       "    }\n",
       "\n",
       "    .dataframe thead th {\n",
       "        text-align: right;\n",
       "    }\n",
       "</style>\n",
       "<table border=\"1\" class=\"dataframe\">\n",
       "  <thead>\n",
       "    <tr style=\"text-align: right;\">\n",
       "      <th></th>\n",
       "      <th>Row ID</th>\n",
       "      <th>Order ID</th>\n",
       "      <th>Order Date</th>\n",
       "      <th>Ship Date</th>\n",
       "      <th>Ship Mode</th>\n",
       "      <th>Customer ID</th>\n",
       "      <th>Customer Name</th>\n",
       "      <th>Segment</th>\n",
       "      <th>Country</th>\n",
       "      <th>City</th>\n",
       "      <th>...</th>\n",
       "      <th>Postal Code</th>\n",
       "      <th>Region</th>\n",
       "      <th>Product ID</th>\n",
       "      <th>Category</th>\n",
       "      <th>Sub-Category</th>\n",
       "      <th>Product Name</th>\n",
       "      <th>Sales</th>\n",
       "      <th>Quantity</th>\n",
       "      <th>Discount</th>\n",
       "      <th>Profit</th>\n",
       "    </tr>\n",
       "  </thead>\n",
       "  <tbody>\n",
       "    <tr>\n",
       "      <th>0</th>\n",
       "      <td>1</td>\n",
       "      <td>CA-2013-152156</td>\n",
       "      <td>2013-11-09</td>\n",
       "      <td>2013-11-12</td>\n",
       "      <td>Second Class</td>\n",
       "      <td>CG-12520</td>\n",
       "      <td>Claire Gute</td>\n",
       "      <td>Consumer</td>\n",
       "      <td>United States</td>\n",
       "      <td>Henderson</td>\n",
       "      <td>...</td>\n",
       "      <td>42420</td>\n",
       "      <td>South</td>\n",
       "      <td>FUR-BO-10001798</td>\n",
       "      <td>Furniture</td>\n",
       "      <td>Bookcases</td>\n",
       "      <td>Bush Somerset Collection Bookcase</td>\n",
       "      <td>261.96</td>\n",
       "      <td>2</td>\n",
       "      <td>0.0</td>\n",
       "      <td>41.9136</td>\n",
       "    </tr>\n",
       "    <tr>\n",
       "      <th>1</th>\n",
       "      <td>2</td>\n",
       "      <td>CA-2013-152156</td>\n",
       "      <td>2013-11-09</td>\n",
       "      <td>2013-11-12</td>\n",
       "      <td>Second Class</td>\n",
       "      <td>CG-12520</td>\n",
       "      <td>Claire Gute</td>\n",
       "      <td>Consumer</td>\n",
       "      <td>United States</td>\n",
       "      <td>Henderson</td>\n",
       "      <td>...</td>\n",
       "      <td>42420</td>\n",
       "      <td>South</td>\n",
       "      <td>FUR-CH-10000454</td>\n",
       "      <td>Furniture</td>\n",
       "      <td>Chairs</td>\n",
       "      <td>Hon Deluxe Fabric Upholstered Stacking Chairs,...</td>\n",
       "      <td>731.94</td>\n",
       "      <td>3</td>\n",
       "      <td>0.0</td>\n",
       "      <td>219.5820</td>\n",
       "    </tr>\n",
       "    <tr>\n",
       "      <th>2</th>\n",
       "      <td>3</td>\n",
       "      <td>CA-2013-138688</td>\n",
       "      <td>2013-06-13</td>\n",
       "      <td>2013-06-17</td>\n",
       "      <td>Second Class</td>\n",
       "      <td>DV-13045</td>\n",
       "      <td>Darrin Van Huff</td>\n",
       "      <td>Corporate</td>\n",
       "      <td>United States</td>\n",
       "      <td>Los Angeles</td>\n",
       "      <td>...</td>\n",
       "      <td>90036</td>\n",
       "      <td>West</td>\n",
       "      <td>OFF-LA-10000240</td>\n",
       "      <td>Office Supplies</td>\n",
       "      <td>Labels</td>\n",
       "      <td>Self-Adhesive Address Labels for Typewriters b...</td>\n",
       "      <td>14.62</td>\n",
       "      <td>2</td>\n",
       "      <td>0.0</td>\n",
       "      <td>6.8714</td>\n",
       "    </tr>\n",
       "  </tbody>\n",
       "</table>\n",
       "<p>3 rows × 21 columns</p>\n",
       "</div>"
      ],
      "text/plain": [
       "   Row ID        Order ID Order Date  Ship Date     Ship Mode Customer ID  \\\n",
       "0       1  CA-2013-152156 2013-11-09 2013-11-12  Second Class    CG-12520   \n",
       "1       2  CA-2013-152156 2013-11-09 2013-11-12  Second Class    CG-12520   \n",
       "2       3  CA-2013-138688 2013-06-13 2013-06-17  Second Class    DV-13045   \n",
       "\n",
       "     Customer Name    Segment        Country         City  ... Postal Code  \\\n",
       "0      Claire Gute   Consumer  United States    Henderson  ...       42420   \n",
       "1      Claire Gute   Consumer  United States    Henderson  ...       42420   \n",
       "2  Darrin Van Huff  Corporate  United States  Los Angeles  ...       90036   \n",
       "\n",
       "   Region       Product ID         Category Sub-Category  \\\n",
       "0   South  FUR-BO-10001798        Furniture    Bookcases   \n",
       "1   South  FUR-CH-10000454        Furniture       Chairs   \n",
       "2    West  OFF-LA-10000240  Office Supplies       Labels   \n",
       "\n",
       "                                        Product Name   Sales  Quantity  \\\n",
       "0                  Bush Somerset Collection Bookcase  261.96         2   \n",
       "1  Hon Deluxe Fabric Upholstered Stacking Chairs,...  731.94         3   \n",
       "2  Self-Adhesive Address Labels for Typewriters b...   14.62         2   \n",
       "\n",
       "   Discount    Profit  \n",
       "0       0.0   41.9136  \n",
       "1       0.0  219.5820  \n",
       "2       0.0    6.8714  \n",
       "\n",
       "[3 rows x 21 columns]"
      ]
     },
     "execution_count": 13,
     "metadata": {},
     "output_type": "execute_result"
    }
   ],
   "source": [
    "df.head(3)"
   ]
  },
  {
   "cell_type": "code",
   "execution_count": 14,
   "id": "d8b1ec5c",
   "metadata": {},
   "outputs": [
    {
     "name": "stdout",
     "output_type": "stream",
     "text": [
      "<class 'pandas.core.frame.DataFrame'>\n",
      "RangeIndex: 9994 entries, 0 to 9993\n",
      "Data columns (total 21 columns):\n",
      " #   Column         Non-Null Count  Dtype         \n",
      "---  ------         --------------  -----         \n",
      " 0   Row ID         9994 non-null   int64         \n",
      " 1   Order ID       9994 non-null   object        \n",
      " 2   Order Date     9994 non-null   datetime64[ns]\n",
      " 3   Ship Date      9994 non-null   datetime64[ns]\n",
      " 4   Ship Mode      9994 non-null   object        \n",
      " 5   Customer ID    9994 non-null   object        \n",
      " 6   Customer Name  9994 non-null   object        \n",
      " 7   Segment        9994 non-null   object        \n",
      " 8   Country        9994 non-null   object        \n",
      " 9   City           9994 non-null   object        \n",
      " 10  State          9994 non-null   object        \n",
      " 11  Postal Code    9994 non-null   int64         \n",
      " 12  Region         9994 non-null   object        \n",
      " 13  Product ID     9994 non-null   object        \n",
      " 14  Category       9994 non-null   object        \n",
      " 15  Sub-Category   9994 non-null   object        \n",
      " 16  Product Name   9994 non-null   object        \n",
      " 17  Sales          9994 non-null   float64       \n",
      " 18  Quantity       9994 non-null   int64         \n",
      " 19  Discount       9994 non-null   float64       \n",
      " 20  Profit         9994 non-null   float64       \n",
      "dtypes: datetime64[ns](2), float64(3), int64(3), object(13)\n",
      "memory usage: 1.6+ MB\n"
     ]
    }
   ],
   "source": [
    "df.info()"
   ]
  },
  {
   "cell_type": "markdown",
   "id": "279c6fb9",
   "metadata": {},
   "source": [
    "###  시계열 데이터 단순화\n",
    "\n",
    "- 여러 column 중에서 필요한 정보 (주문 날짜 및 범주별 총 판매액)만으로 data 를 단순화  시킵니다.\n",
    "\n",
    "- 인덱스를 재설정하지 않으면 Pandas가 그룹 변수를 인덱스로 설정합니다. \n",
    "\n",
    "다음 코드는 DataFrame인 'df'를 'Order Date'와 'Category' 기준으로 그룹화하여 합계를 계산하는 예제입니다.  \n",
    "'Order Date'와 'Category' 열을 기준으로 데이터를 그룹화한 후, 각 그룹별로 나머지 열의 합계를 구합니다. 그런 다음 grouped_df.head()를 통해 그룹화된 DataFrame의 상위 5개 행을 출력합니다."
   ]
  },
  {
   "cell_type": "code",
   "execution_count": 15,
   "id": "2f6749bd",
   "metadata": {},
   "outputs": [
    {
     "data": {
      "text/html": [
       "<div>\n",
       "<style scoped>\n",
       "    .dataframe tbody tr th:only-of-type {\n",
       "        vertical-align: middle;\n",
       "    }\n",
       "\n",
       "    .dataframe tbody tr th {\n",
       "        vertical-align: top;\n",
       "    }\n",
       "\n",
       "    .dataframe thead th {\n",
       "        text-align: right;\n",
       "    }\n",
       "</style>\n",
       "<table border=\"1\" class=\"dataframe\">\n",
       "  <thead>\n",
       "    <tr style=\"text-align: right;\">\n",
       "      <th></th>\n",
       "      <th></th>\n",
       "      <th>Row ID</th>\n",
       "      <th>Postal Code</th>\n",
       "      <th>Sales</th>\n",
       "      <th>Quantity</th>\n",
       "      <th>Discount</th>\n",
       "      <th>Profit</th>\n",
       "    </tr>\n",
       "    <tr>\n",
       "      <th>Order Date</th>\n",
       "      <th>Category</th>\n",
       "      <th></th>\n",
       "      <th></th>\n",
       "      <th></th>\n",
       "      <th></th>\n",
       "      <th></th>\n",
       "      <th></th>\n",
       "    </tr>\n",
       "  </thead>\n",
       "  <tbody>\n",
       "    <tr>\n",
       "      <th>2011-01-04</th>\n",
       "      <th>Office Supplies</th>\n",
       "      <td>7981</td>\n",
       "      <td>77095</td>\n",
       "      <td>16.448</td>\n",
       "      <td>2</td>\n",
       "      <td>0.2</td>\n",
       "      <td>5.5512</td>\n",
       "    </tr>\n",
       "    <tr>\n",
       "      <th>2011-01-05</th>\n",
       "      <th>Office Supplies</th>\n",
       "      <td>2223</td>\n",
       "      <td>181620</td>\n",
       "      <td>288.060</td>\n",
       "      <td>8</td>\n",
       "      <td>1.2</td>\n",
       "      <td>-65.9901</td>\n",
       "    </tr>\n",
       "    <tr>\n",
       "      <th>2011-01-06</th>\n",
       "      <th>Office Supplies</th>\n",
       "      <td>1760</td>\n",
       "      <td>19143</td>\n",
       "      <td>19.536</td>\n",
       "      <td>3</td>\n",
       "      <td>0.2</td>\n",
       "      <td>4.8840</td>\n",
       "    </tr>\n",
       "    <tr>\n",
       "      <th rowspan=\"2\" valign=\"top\">2011-01-07</th>\n",
       "      <th>Furniture</th>\n",
       "      <td>7475</td>\n",
       "      <td>42420</td>\n",
       "      <td>2573.820</td>\n",
       "      <td>9</td>\n",
       "      <td>0.0</td>\n",
       "      <td>746.4078</td>\n",
       "    </tr>\n",
       "    <tr>\n",
       "      <th>Office Supplies</th>\n",
       "      <td>42423</td>\n",
       "      <td>290334</td>\n",
       "      <td>685.340</td>\n",
       "      <td>15</td>\n",
       "      <td>0.0</td>\n",
       "      <td>293.8612</td>\n",
       "    </tr>\n",
       "  </tbody>\n",
       "</table>\n",
       "</div>"
      ],
      "text/plain": [
       "                            Row ID  Postal Code     Sales  Quantity  Discount  \\\n",
       "Order Date Category                                                             \n",
       "2011-01-04 Office Supplies    7981        77095    16.448         2       0.2   \n",
       "2011-01-05 Office Supplies    2223       181620   288.060         8       1.2   \n",
       "2011-01-06 Office Supplies    1760        19143    19.536         3       0.2   \n",
       "2011-01-07 Furniture          7475        42420  2573.820         9       0.0   \n",
       "           Office Supplies   42423       290334   685.340        15       0.0   \n",
       "\n",
       "                              Profit  \n",
       "Order Date Category                   \n",
       "2011-01-04 Office Supplies    5.5512  \n",
       "2011-01-05 Office Supplies  -65.9901  \n",
       "2011-01-06 Office Supplies    4.8840  \n",
       "2011-01-07 Furniture        746.4078  \n",
       "           Office Supplies  293.8612  "
      ]
     },
     "execution_count": 15,
     "metadata": {},
     "output_type": "execute_result"
    }
   ],
   "source": [
    "group_variables =  ['Order Date', 'Category']   # Grouping 할 columns\n",
    "\n",
    "grouped_df = df.groupby(group_variables).sum(numeric_only=True)\n",
    "grouped_df.head()"
   ]
  },
  {
   "cell_type": "markdown",
   "id": "1a820550",
   "metadata": {},
   "source": [
    "다음 코드는 DataFrame 'df'를 'Order Date'와 'Category' 기준으로 그룹화하여 'Sales' 열의 합계를 계산한 후 인덱스를 리셋하는 예제입니다."
   ]
  },
  {
   "cell_type": "code",
   "execution_count": 16,
   "id": "ee2510f6",
   "metadata": {},
   "outputs": [
    {
     "data": {
      "text/html": [
       "<div>\n",
       "<style scoped>\n",
       "    .dataframe tbody tr th:only-of-type {\n",
       "        vertical-align: middle;\n",
       "    }\n",
       "\n",
       "    .dataframe tbody tr th {\n",
       "        vertical-align: top;\n",
       "    }\n",
       "\n",
       "    .dataframe thead th {\n",
       "        text-align: right;\n",
       "    }\n",
       "</style>\n",
       "<table border=\"1\" class=\"dataframe\">\n",
       "  <thead>\n",
       "    <tr style=\"text-align: right;\">\n",
       "      <th></th>\n",
       "      <th>Order Date</th>\n",
       "      <th>Category</th>\n",
       "      <th>Sales</th>\n",
       "    </tr>\n",
       "  </thead>\n",
       "  <tbody>\n",
       "    <tr>\n",
       "      <th>0</th>\n",
       "      <td>2011-01-04</td>\n",
       "      <td>Office Supplies</td>\n",
       "      <td>16.448</td>\n",
       "    </tr>\n",
       "    <tr>\n",
       "      <th>1</th>\n",
       "      <td>2011-01-05</td>\n",
       "      <td>Office Supplies</td>\n",
       "      <td>288.060</td>\n",
       "    </tr>\n",
       "    <tr>\n",
       "      <th>2</th>\n",
       "      <td>2011-01-06</td>\n",
       "      <td>Office Supplies</td>\n",
       "      <td>19.536</td>\n",
       "    </tr>\n",
       "    <tr>\n",
       "      <th>3</th>\n",
       "      <td>2011-01-07</td>\n",
       "      <td>Furniture</td>\n",
       "      <td>2573.820</td>\n",
       "    </tr>\n",
       "    <tr>\n",
       "      <th>4</th>\n",
       "      <td>2011-01-07</td>\n",
       "      <td>Office Supplies</td>\n",
       "      <td>685.340</td>\n",
       "    </tr>\n",
       "  </tbody>\n",
       "</table>\n",
       "</div>"
      ],
      "text/plain": [
       "  Order Date         Category     Sales\n",
       "0 2011-01-04  Office Supplies    16.448\n",
       "1 2011-01-05  Office Supplies   288.060\n",
       "2 2011-01-06  Office Supplies    19.536\n",
       "3 2011-01-07        Furniture  2573.820\n",
       "4 2011-01-07  Office Supplies   685.340"
      ]
     },
     "execution_count": 16,
     "metadata": {},
     "output_type": "execute_result"
    }
   ],
   "source": [
    "sales = df.groupby(group_variables)['Sales'].sum().reset_index()\n",
    "sales.head()"
   ]
  },
  {
   "cell_type": "code",
   "execution_count": 17,
   "id": "5f22ff94",
   "metadata": {},
   "outputs": [
    {
     "name": "stdout",
     "output_type": "stream",
     "text": [
      "sales 데이터프레임의 columns: Index(['Order Date', 'Category', 'Sales'], dtype='object')\n",
      "sales 데이터프레임의 index: RangeIndex(start=0, stop=2864, step=1)\n"
     ]
    }
   ],
   "source": [
    "print(\"sales 데이터프레임의 columns:\", sales.columns)\n",
    "print(\"sales 데이터프레임의 index:\", sales.index)"
   ]
  },
  {
   "cell_type": "code",
   "execution_count": 18,
   "id": "18f75abe",
   "metadata": {},
   "outputs": [
    {
     "name": "stdout",
     "output_type": "stream",
     "text": [
      "sales 데이터프레임의 data types:\n",
      "\n",
      " Order Date    datetime64[ns]\n",
      "Category              object\n",
      "Sales                float64\n",
      "dtype: object\n"
     ]
    }
   ],
   "source": [
    "print(\"sales 데이터프레임의 data types:\\n\\n\", sales.dtypes)"
   ]
  },
  {
   "cell_type": "markdown",
   "id": "6ffc0741",
   "metadata": {},
   "source": [
    "### Numpy 의 datetime64 format\n",
    "\n",
    "NumPy 날짜 배열은 ns(나노초) 단위의 datetime64 객체입니다. \n",
    "\n",
    "내부 저장 단위는 문자열 형태에서 자동으로 선택되며 날짜 단위 또는 시간 단위가 될 수 있습니다. 날짜 단위는 년('Y'), 월('M'), 주('W'), 일('D')이고 시간 단위는 시('h'), 분('m'), 초('s'), 밀리초('ms') 입니다."
   ]
  },
  {
   "cell_type": "code",
   "execution_count": 19,
   "id": "cca8aa3e",
   "metadata": {},
   "outputs": [
    {
     "data": {
      "text/plain": [
       "array(['2011-01-04T00:00:00.000000000', '2011-01-05T00:00:00.000000000',\n",
       "       '2011-01-06T00:00:00.000000000', ...,\n",
       "       '2014-12-31T00:00:00.000000000', '2014-12-31T00:00:00.000000000',\n",
       "       '2014-12-31T00:00:00.000000000'], dtype='datetime64[ns]')"
      ]
     },
     "execution_count": 19,
     "metadata": {},
     "output_type": "execute_result"
    }
   ],
   "source": [
    "order_date = sales['Order Date'].values\n",
    "order_date"
   ]
  },
  {
   "cell_type": "markdown",
   "id": "d2249512",
   "metadata": {},
   "source": [
    "다음 코드는 'order_date' 배열을 입력 받아, 데이터 타입을 'datetime64[D]'로 변환하여 일 단위의 날짜로 저장하는 예제입니다."
   ]
  },
  {
   "cell_type": "code",
   "execution_count": 20,
   "id": "f716446e",
   "metadata": {},
   "outputs": [
    {
     "data": {
      "text/plain": [
       "array(['2011-01-04', '2011-01-05', '2011-01-06', ..., '2014-12-31',\n",
       "       '2014-12-31', '2014-12-31'], dtype='datetime64[D]')"
      ]
     },
     "execution_count": 20,
     "metadata": {},
     "output_type": "execute_result"
    }
   ],
   "source": [
    "order_date_daily = np.array(order_date, dtype='datetime64[D]')\n",
    "order_date_daily"
   ]
  },
  {
   "cell_type": "markdown",
   "id": "3d7605bb",
   "metadata": {},
   "source": [
    "다음 코드는 'order_date' 배열을 입력 받아, 데이터 타입을 'datetime64[M]'로 변환하여 월 단위의 날짜로 저장하는 예제입니다."
   ]
  },
  {
   "cell_type": "code",
   "execution_count": 21,
   "id": "f58b74fd",
   "metadata": {},
   "outputs": [
    {
     "data": {
      "text/plain": [
       "array(['2011-01', '2011-01', '2011-01', ..., '2014-12', '2014-12',\n",
       "       '2014-12'], dtype='datetime64[M]')"
      ]
     },
     "execution_count": 21,
     "metadata": {},
     "output_type": "execute_result"
    }
   ],
   "source": [
    "order_date_monthly = np.array(order_date, dtype='datetime64[M]')\n",
    "order_date_monthly"
   ]
  },
  {
   "cell_type": "markdown",
   "id": "f5383d71",
   "metadata": {},
   "source": [
    "다음 코드는 'order_date_monthly' 배열에서 중복되지 않은 월 단위의 날짜를 추출하는 예제입니다."
   ]
  },
  {
   "cell_type": "code",
   "execution_count": 22,
   "id": "3e61d44e",
   "metadata": {},
   "outputs": [
    {
     "data": {
      "text/plain": [
       "array(['2011-01', '2011-02', '2011-03', '2011-04', '2011-05', '2011-06',\n",
       "       '2011-07', '2011-08', '2011-09', '2011-10', '2011-11', '2011-12',\n",
       "       '2012-01', '2012-02', '2012-03', '2012-04', '2012-05', '2012-06',\n",
       "       '2012-07', '2012-08', '2012-09', '2012-10', '2012-11', '2012-12',\n",
       "       '2013-01', '2013-02', '2013-03', '2013-04', '2013-05', '2013-06',\n",
       "       '2013-07', '2013-08', '2013-09', '2013-10', '2013-11', '2013-12',\n",
       "       '2014-01', '2014-02', '2014-03', '2014-04', '2014-05', '2014-06',\n",
       "       '2014-07', '2014-08', '2014-09', '2014-10', '2014-11', '2014-12'],\n",
       "      dtype='datetime64[M]')"
      ]
     },
     "execution_count": 22,
     "metadata": {},
     "output_type": "execute_result"
    }
   ],
   "source": [
    "np.unique(order_date_monthly)"
   ]
  },
  {
   "cell_type": "markdown",
   "id": "3622f201",
   "metadata": {},
   "source": [
    "다음 코드는 'order_date' 배열을 입력 받아, 데이터 타입을 'datetime64[Y]'로 변환하여 연 단위의 날짜로 저장한 후 중복되지 않은 연도를 추출하는 예제입니다."
   ]
  },
  {
   "cell_type": "code",
   "execution_count": 23,
   "id": "e5749996",
   "metadata": {},
   "outputs": [
    {
     "data": {
      "text/plain": [
       "array(['2011', '2012', '2013', '2014'], dtype='datetime64[Y]')"
      ]
     },
     "execution_count": 23,
     "metadata": {},
     "output_type": "execute_result"
    }
   ],
   "source": [
    "np.unique(np.array(order_date, dtype='datetime64[Y]'))"
   ]
  },
  {
   "cell_type": "markdown",
   "id": "2361ffdb",
   "metadata": {},
   "source": [
    "## DateTimeIndex 를 가진 Pandas 시계열 data 생성 및 처리\n",
    "\n",
    "- Timestamp을 index 로 하는 data 를 시계열데이터 (TimeSeries) 라고 부른다. 즉, index 가 DatetimeIndex 인 데이터이다.\n",
    "\n",
    "- 시계열관련 class 와 생성 방법\n",
    "\n",
    "| class         |           설명          |                               생성방법 |Pandas Class|\n",
    "|---------------|:-----------------------:|---------------------------------------:|------------:|\n",
    "| Timestamp     |     하나의 timestamp    |                 to_datetime, Timestamp |pandas.Timestamp|\n",
    "| DatetimeIndex | timestamp 타입의 인덱스 | to_datetime, date_range, DatetimeIndex |pandas.DatetimeIndex|\n",
    "| Period        |       time period       |                                 Period |pandas.Period|"
   ]
  },
  {
   "cell_type": "markdown",
   "id": "1644aecb",
   "metadata": {},
   "source": [
    "다음 코드는 크기가 (12, 4)인 임의의 표준 정규 분포에 따른 난수 배열을 생성하고, 이를 사용하여 'n1', 'n2', 'n3', 'n4' 열 이름을 가진 DataFrame을 생성하는 예제입니다."
   ]
  },
  {
   "cell_type": "code",
   "execution_count": 24,
   "id": "d5af80ca",
   "metadata": {},
   "outputs": [
    {
     "data": {
      "text/html": [
       "<div>\n",
       "<style scoped>\n",
       "    .dataframe tbody tr th:only-of-type {\n",
       "        vertical-align: middle;\n",
       "    }\n",
       "\n",
       "    .dataframe tbody tr th {\n",
       "        vertical-align: top;\n",
       "    }\n",
       "\n",
       "    .dataframe thead th {\n",
       "        text-align: right;\n",
       "    }\n",
       "</style>\n",
       "<table border=\"1\" class=\"dataframe\">\n",
       "  <thead>\n",
       "    <tr style=\"text-align: right;\">\n",
       "      <th></th>\n",
       "      <th>n1</th>\n",
       "      <th>n2</th>\n",
       "      <th>n3</th>\n",
       "      <th>n4</th>\n",
       "    </tr>\n",
       "  </thead>\n",
       "  <tbody>\n",
       "    <tr>\n",
       "      <th>0</th>\n",
       "      <td>-0.366853</td>\n",
       "      <td>0.209953</td>\n",
       "      <td>1.055832</td>\n",
       "      <td>0.701829</td>\n",
       "    </tr>\n",
       "    <tr>\n",
       "      <th>1</th>\n",
       "      <td>-0.604275</td>\n",
       "      <td>0.672154</td>\n",
       "      <td>-1.672638</td>\n",
       "      <td>0.497253</td>\n",
       "    </tr>\n",
       "    <tr>\n",
       "      <th>2</th>\n",
       "      <td>0.465172</td>\n",
       "      <td>-0.393832</td>\n",
       "      <td>0.777081</td>\n",
       "      <td>0.576240</td>\n",
       "    </tr>\n",
       "    <tr>\n",
       "      <th>3</th>\n",
       "      <td>-1.674748</td>\n",
       "      <td>2.330919</td>\n",
       "      <td>-0.615696</td>\n",
       "      <td>1.846676</td>\n",
       "    </tr>\n",
       "    <tr>\n",
       "      <th>4</th>\n",
       "      <td>0.382961</td>\n",
       "      <td>0.933218</td>\n",
       "      <td>2.601632</td>\n",
       "      <td>-0.103098</td>\n",
       "    </tr>\n",
       "  </tbody>\n",
       "</table>\n",
       "</div>"
      ],
      "text/plain": [
       "         n1        n2        n3        n4\n",
       "0 -0.366853  0.209953  1.055832  0.701829\n",
       "1 -0.604275  0.672154 -1.672638  0.497253\n",
       "2  0.465172 -0.393832  0.777081  0.576240\n",
       "3 -1.674748  2.330919 -0.615696  1.846676\n",
       "4  0.382961  0.933218  2.601632 -0.103098"
      ]
     },
     "execution_count": 24,
     "metadata": {},
     "output_type": "execute_result"
    }
   ],
   "source": [
    "a = np.random.standard_normal((12, 4))\n",
    "df = pd.DataFrame(a, columns=['n1', 'n2', 'n3', 'n4'])\n",
    "df.head()"
   ]
  },
  {
   "cell_type": "code",
   "execution_count": null,
   "id": "942f2b62-757c-4871-8cc2-7b054d807d66",
   "metadata": {},
   "outputs": [],
   "source": []
  },
  {
   "cell_type": "markdown",
   "id": "3bcee4d9",
   "metadata": {},
   "source": [
    "## to_datetime()\n",
    "\n",
    "다음 코드는 문자열로 표현된 다양한 형식의 날짜들을 포함하는 'date_str' 리스트를 입력 받습니다. 그 다음, pd.to_datetime() 함수를 사용하여 해당 문자열들을 datetime 자료형으로 바꾼 후 DatetimeIndex 자료형 인덱스를 생성합니다."
   ]
  },
  {
   "cell_type": "code",
   "execution_count": 34,
   "id": "2b333c88",
   "metadata": {},
   "outputs": [
    {
     "name": "stdout",
     "output_type": "stream",
     "text": [
      "2010-01-01 00:00:00\n",
      "2015-07-01 00:00:00\n",
      "2016-05-01 00:00:00\n",
      "2019-12-25 00:00:00\n",
      "2020-12-01 00:00:00\n",
      "2021-12-20 00:00:00\n",
      "2020-12-31 00:00:00\n"
     ]
    }
   ],
   "source": [
    "date_str = ['2010-01-01', '2015, 7, 1', 'May, 1 2016', \n",
    "            'Dec, 25, 2019', 'DEC 1 2020', 'dec 20 2021', '2020 12 31']\n",
    "\n",
    "for dt in date_str:\n",
    "    print(pd.to_datetime(dt))"
   ]
  },
  {
   "cell_type": "markdown",
   "id": "b86fd8fc",
   "metadata": {},
   "source": [
    "## date_range\n",
    "```python\n",
    "pd.date_range(start, end, periods, freq)\n",
    "```\n",
    "\n",
    "- 모든 날짜/시간을 일일히 입력할 필요없이 **시작일과 종료일** 또는 **시작일과 기간**을 입력하면 범위 내의 인덱스를 생성  \n",
    "\n",
    "- freq\n",
    "    - S: 초  \n",
    "    - T: 분  \n",
    "    - H: 시간  \n",
    "    - D: 일(day)  \n",
    "    - B: 주말이 아닌 평일 (Business Day)\n",
    "    - W: 주(일요일)  \n",
    "    - M: 각 달(month)의 마지막 날  \n",
    "    - MS: 각 달의 첫날  \n",
    "\n",
    "[frequency alias](https://pandas.pydata.org/pandas-docs/stable/user_guide/timeseries.html#offset-aliases) 참조"
   ]
  },
  {
   "cell_type": "markdown",
   "id": "9140e5b0",
   "metadata": {},
   "source": [
    "이 코드는 시작 날짜로 '2016-9-1'을 설정하고, 그로부터 10일 동안의 날짜 범위를 생성합니다. 기본적으로 날짜 간격은 1일로 설정됩니다.  \n",
    "결과적으로 시작 날짜부터 연속된 10일 동안의 날짜 범위가 생성되어 DatetimeIndex 객체에 저장됩니다."
   ]
  },
  {
   "cell_type": "code",
   "execution_count": 35,
   "id": "77b2a270",
   "metadata": {},
   "outputs": [
    {
     "data": {
      "text/plain": [
       "DatetimeIndex(['2016-09-01', '2016-09-02', '2016-09-03', '2016-09-04',\n",
       "               '2016-09-05', '2016-09-06', '2016-09-07', '2016-09-08',\n",
       "               '2016-09-09', '2016-09-10'],\n",
       "              dtype='datetime64[ns]', freq='D')"
      ]
     },
     "execution_count": 35,
     "metadata": {},
     "output_type": "execute_result"
    }
   ],
   "source": [
    "# start ~ 10일\n",
    "pd.date_range(start='2016-9-1', periods=10)"
   ]
  },
  {
   "cell_type": "markdown",
   "id": "a5de1f7b",
   "metadata": {},
   "source": [
    "이 코드는 시작 날짜로 '2019-5-1'을 설정하고, 종료 날짜로 '2019-5-10'을 설정합니다. 그리고 'freq' 인자를 'B'로 설정하여 평일 범위를 생성합니다 ('B'는 Business day의 약자로 평일을 의미합니다)."
   ]
  },
  {
   "cell_type": "code",
   "execution_count": 36,
   "id": "748ade18",
   "metadata": {},
   "outputs": [
    {
     "data": {
      "text/plain": [
       "DatetimeIndex(['2019-05-01', '2019-05-02', '2019-05-03', '2019-05-06',\n",
       "               '2019-05-07', '2019-05-08', '2019-05-09', '2019-05-10'],\n",
       "              dtype='datetime64[ns]', freq='B')"
      ]
     },
     "execution_count": 36,
     "metadata": {},
     "output_type": "execute_result"
    }
   ],
   "source": [
    "# start~end 사이 평일\n",
    "pd.date_range('2019-5-1', '2019-5-10', freq='B')"
   ]
  },
  {
   "cell_type": "markdown",
   "id": "df67d7fc",
   "metadata": {},
   "source": [
    "이 코드는 시작 날짜로 '2019-01-01'을 설정하고, 그로부터 12개의 월별 날짜 범위를 생성합니다. 'freq' 인자를 'M'로 설정하여 월 마지막 날짜를 기준으로 날짜 범위를 생성합니다."
   ]
  },
  {
   "cell_type": "code",
   "execution_count": 37,
   "id": "26196b05",
   "metadata": {},
   "outputs": [
    {
     "data": {
      "text/plain": [
       "DatetimeIndex(['2019-01-31', '2019-02-28', '2019-03-31', '2019-04-30',\n",
       "               '2019-05-31', '2019-06-30', '2019-07-31', '2019-08-31',\n",
       "               '2019-09-30', '2019-10-31', '2019-11-30', '2019-12-31'],\n",
       "              dtype='datetime64[ns]', freq='M')"
      ]
     },
     "execution_count": 37,
     "metadata": {},
     "output_type": "execute_result"
    }
   ],
   "source": [
    "# start ~ 12 개월\n",
    "dates = pd.date_range('2019-01-01', periods=12, freq='M')\n",
    "dates"
   ]
  },
  {
   "cell_type": "code",
   "execution_count": 38,
   "id": "b37d7f5b",
   "metadata": {},
   "outputs": [
    {
     "data": {
      "text/html": [
       "<div>\n",
       "<style scoped>\n",
       "    .dataframe tbody tr th:only-of-type {\n",
       "        vertical-align: middle;\n",
       "    }\n",
       "\n",
       "    .dataframe tbody tr th {\n",
       "        vertical-align: top;\n",
       "    }\n",
       "\n",
       "    .dataframe thead th {\n",
       "        text-align: right;\n",
       "    }\n",
       "</style>\n",
       "<table border=\"1\" class=\"dataframe\">\n",
       "  <thead>\n",
       "    <tr style=\"text-align: right;\">\n",
       "      <th></th>\n",
       "      <th>n1</th>\n",
       "      <th>n2</th>\n",
       "      <th>n3</th>\n",
       "      <th>n4</th>\n",
       "    </tr>\n",
       "  </thead>\n",
       "  <tbody>\n",
       "    <tr>\n",
       "      <th>2019-01-31</th>\n",
       "      <td>-0.366853</td>\n",
       "      <td>0.209953</td>\n",
       "      <td>1.055832</td>\n",
       "      <td>0.701829</td>\n",
       "    </tr>\n",
       "    <tr>\n",
       "      <th>2019-02-28</th>\n",
       "      <td>-0.604275</td>\n",
       "      <td>0.672154</td>\n",
       "      <td>-1.672638</td>\n",
       "      <td>0.497253</td>\n",
       "    </tr>\n",
       "    <tr>\n",
       "      <th>2019-03-31</th>\n",
       "      <td>0.465172</td>\n",
       "      <td>-0.393832</td>\n",
       "      <td>0.777081</td>\n",
       "      <td>0.576240</td>\n",
       "    </tr>\n",
       "    <tr>\n",
       "      <th>2019-04-30</th>\n",
       "      <td>-1.674748</td>\n",
       "      <td>2.330919</td>\n",
       "      <td>-0.615696</td>\n",
       "      <td>1.846676</td>\n",
       "    </tr>\n",
       "    <tr>\n",
       "      <th>2019-05-31</th>\n",
       "      <td>0.382961</td>\n",
       "      <td>0.933218</td>\n",
       "      <td>2.601632</td>\n",
       "      <td>-0.103098</td>\n",
       "    </tr>\n",
       "  </tbody>\n",
       "</table>\n",
       "</div>"
      ],
      "text/plain": [
       "                  n1        n2        n3        n4\n",
       "2019-01-31 -0.366853  0.209953  1.055832  0.701829\n",
       "2019-02-28 -0.604275  0.672154 -1.672638  0.497253\n",
       "2019-03-31  0.465172 -0.393832  0.777081  0.576240\n",
       "2019-04-30 -1.674748  2.330919 -0.615696  1.846676\n",
       "2019-05-31  0.382961  0.933218  2.601632 -0.103098"
      ]
     },
     "execution_count": 38,
     "metadata": {},
     "output_type": "execute_result"
    }
   ],
   "source": [
    "#DataFrame의 index를 datetime으로 변경\n",
    "df.index = dates\n",
    "df.head()"
   ]
  },
  {
   "cell_type": "code",
   "execution_count": 39,
   "id": "38561565",
   "metadata": {},
   "outputs": [
    {
     "data": {
      "text/plain": [
       "DatetimeIndex(['2019-01-31', '2019-02-28', '2019-03-31', '2019-04-30',\n",
       "               '2019-05-31', '2019-06-30', '2019-07-31', '2019-08-31',\n",
       "               '2019-09-30', '2019-10-31', '2019-11-30', '2019-12-31'],\n",
       "              dtype='datetime64[ns]', freq='M')"
      ]
     },
     "execution_count": 39,
     "metadata": {},
     "output_type": "execute_result"
    }
   ],
   "source": [
    "df.index"
   ]
  },
  {
   "cell_type": "markdown",
   "id": "d443bd2c",
   "metadata": {},
   "source": [
    "## Pandas DatetimeIndex를 이용한 작업"
   ]
  },
  {
   "cell_type": "markdown",
   "id": "1338a502",
   "metadata": {},
   "source": [
    "다음 코드는 기존의 'sales' DataFrame에서 'Order Date' 열을 인덱스로 설정하는 예제입니다."
   ]
  },
  {
   "cell_type": "code",
   "execution_count": 40,
   "id": "e459f549",
   "metadata": {},
   "outputs": [
    {
     "data": {
      "text/html": [
       "<div>\n",
       "<style scoped>\n",
       "    .dataframe tbody tr th:only-of-type {\n",
       "        vertical-align: middle;\n",
       "    }\n",
       "\n",
       "    .dataframe tbody tr th {\n",
       "        vertical-align: top;\n",
       "    }\n",
       "\n",
       "    .dataframe thead th {\n",
       "        text-align: right;\n",
       "    }\n",
       "</style>\n",
       "<table border=\"1\" class=\"dataframe\">\n",
       "  <thead>\n",
       "    <tr style=\"text-align: right;\">\n",
       "      <th></th>\n",
       "      <th>Category</th>\n",
       "      <th>Sales</th>\n",
       "    </tr>\n",
       "    <tr>\n",
       "      <th>Order Date</th>\n",
       "      <th></th>\n",
       "      <th></th>\n",
       "    </tr>\n",
       "  </thead>\n",
       "  <tbody>\n",
       "    <tr>\n",
       "      <th>2011-01-04</th>\n",
       "      <td>Office Supplies</td>\n",
       "      <td>16.448</td>\n",
       "    </tr>\n",
       "    <tr>\n",
       "      <th>2011-01-05</th>\n",
       "      <td>Office Supplies</td>\n",
       "      <td>288.060</td>\n",
       "    </tr>\n",
       "    <tr>\n",
       "      <th>2011-01-06</th>\n",
       "      <td>Office Supplies</td>\n",
       "      <td>19.536</td>\n",
       "    </tr>\n",
       "    <tr>\n",
       "      <th>2011-01-07</th>\n",
       "      <td>Furniture</td>\n",
       "      <td>2573.820</td>\n",
       "    </tr>\n",
       "    <tr>\n",
       "      <th>2011-01-07</th>\n",
       "      <td>Office Supplies</td>\n",
       "      <td>685.340</td>\n",
       "    </tr>\n",
       "  </tbody>\n",
       "</table>\n",
       "</div>"
      ],
      "text/plain": [
       "                   Category     Sales\n",
       "Order Date                           \n",
       "2011-01-04  Office Supplies    16.448\n",
       "2011-01-05  Office Supplies   288.060\n",
       "2011-01-06  Office Supplies    19.536\n",
       "2011-01-07        Furniture  2573.820\n",
       "2011-01-07  Office Supplies   685.340"
      ]
     },
     "execution_count": 40,
     "metadata": {},
     "output_type": "execute_result"
    }
   ],
   "source": [
    "#기존의  numpy datetime64 format 변수를 사용하여 인덱스 설정\n",
    "sales.set_index('Order Date', inplace=True)\n",
    "\n",
    "sales.head()"
   ]
  },
  {
   "cell_type": "code",
   "execution_count": 41,
   "id": "1aad5162",
   "metadata": {},
   "outputs": [
    {
     "data": {
      "text/plain": [
       "DatetimeIndex(['2011-01-04', '2011-01-05', '2011-01-06', '2011-01-07',\n",
       "               '2011-01-07', '2011-01-07', '2011-01-08', '2011-01-08',\n",
       "               '2011-01-10', '2011-01-10',\n",
       "               ...\n",
       "               '2014-12-28', '2014-12-29', '2014-12-29', '2014-12-29',\n",
       "               '2014-12-30', '2014-12-30', '2014-12-30', '2014-12-31',\n",
       "               '2014-12-31', '2014-12-31'],\n",
       "              dtype='datetime64[ns]', name='Order Date', length=2864, freq=None)"
      ]
     },
     "execution_count": 41,
     "metadata": {},
     "output_type": "execute_result"
    }
   ],
   "source": [
    "sales.index"
   ]
  },
  {
   "cell_type": "markdown",
   "id": "8ebe9682",
   "metadata": {},
   "source": [
    "### Subsetting data\n",
    "\n",
    "이제 DatetimeIndex를 사용하여 데이터 하위 집합을 선택할 수 있습니다.  \n",
    "다음 코드는 'sales' DataFrame에서 인덱스가 '2011' 년에 해당하는 데이터를 선택하는 예제입니다."
   ]
  },
  {
   "cell_type": "code",
   "execution_count": 42,
   "id": "9720df4b",
   "metadata": {},
   "outputs": [
    {
     "data": {
      "text/html": [
       "<div>\n",
       "<style scoped>\n",
       "    .dataframe tbody tr th:only-of-type {\n",
       "        vertical-align: middle;\n",
       "    }\n",
       "\n",
       "    .dataframe tbody tr th {\n",
       "        vertical-align: top;\n",
       "    }\n",
       "\n",
       "    .dataframe thead th {\n",
       "        text-align: right;\n",
       "    }\n",
       "</style>\n",
       "<table border=\"1\" class=\"dataframe\">\n",
       "  <thead>\n",
       "    <tr style=\"text-align: right;\">\n",
       "      <th></th>\n",
       "      <th>Category</th>\n",
       "      <th>Sales</th>\n",
       "    </tr>\n",
       "    <tr>\n",
       "      <th>Order Date</th>\n",
       "      <th></th>\n",
       "      <th></th>\n",
       "    </tr>\n",
       "  </thead>\n",
       "  <tbody>\n",
       "    <tr>\n",
       "      <th>2011-01-04</th>\n",
       "      <td>Office Supplies</td>\n",
       "      <td>16.448</td>\n",
       "    </tr>\n",
       "    <tr>\n",
       "      <th>2011-01-05</th>\n",
       "      <td>Office Supplies</td>\n",
       "      <td>288.060</td>\n",
       "    </tr>\n",
       "    <tr>\n",
       "      <th>2011-01-06</th>\n",
       "      <td>Office Supplies</td>\n",
       "      <td>19.536</td>\n",
       "    </tr>\n",
       "    <tr>\n",
       "      <th>2011-01-07</th>\n",
       "      <td>Furniture</td>\n",
       "      <td>2573.820</td>\n",
       "    </tr>\n",
       "    <tr>\n",
       "      <th>2011-01-07</th>\n",
       "      <td>Office Supplies</td>\n",
       "      <td>685.340</td>\n",
       "    </tr>\n",
       "  </tbody>\n",
       "</table>\n",
       "</div>"
      ],
      "text/plain": [
       "                   Category     Sales\n",
       "Order Date                           \n",
       "2011-01-04  Office Supplies    16.448\n",
       "2011-01-05  Office Supplies   288.060\n",
       "2011-01-06  Office Supplies    19.536\n",
       "2011-01-07        Furniture  2573.820\n",
       "2011-01-07  Office Supplies   685.340"
      ]
     },
     "execution_count": 42,
     "metadata": {},
     "output_type": "execute_result"
    }
   ],
   "source": [
    "sales.loc['2011'].head()"
   ]
  },
  {
   "cell_type": "markdown",
   "id": "525a3423",
   "metadata": {},
   "source": [
    "다음 코드는 'sales' DataFrame에서 'Category'가 'Office Supplies'인 데이터 중, 2012년 1월부터 2월까지 해당하는 데이터를 선택하는 예제입니다."
   ]
  },
  {
   "cell_type": "code",
   "execution_count": 43,
   "id": "fe8c9277",
   "metadata": {},
   "outputs": [
    {
     "data": {
      "text/html": [
       "<div>\n",
       "<style scoped>\n",
       "    .dataframe tbody tr th:only-of-type {\n",
       "        vertical-align: middle;\n",
       "    }\n",
       "\n",
       "    .dataframe tbody tr th {\n",
       "        vertical-align: top;\n",
       "    }\n",
       "\n",
       "    .dataframe thead th {\n",
       "        text-align: right;\n",
       "    }\n",
       "</style>\n",
       "<table border=\"1\" class=\"dataframe\">\n",
       "  <thead>\n",
       "    <tr style=\"text-align: right;\">\n",
       "      <th></th>\n",
       "      <th>Category</th>\n",
       "      <th>Sales</th>\n",
       "    </tr>\n",
       "    <tr>\n",
       "      <th>Order Date</th>\n",
       "      <th></th>\n",
       "      <th></th>\n",
       "    </tr>\n",
       "  </thead>\n",
       "  <tbody>\n",
       "    <tr>\n",
       "      <th>2012-01-02</th>\n",
       "      <td>Office Supplies</td>\n",
       "      <td>139.080</td>\n",
       "    </tr>\n",
       "    <tr>\n",
       "      <th>2012-01-03</th>\n",
       "      <td>Office Supplies</td>\n",
       "      <td>17.424</td>\n",
       "    </tr>\n",
       "    <tr>\n",
       "      <th>2012-01-04</th>\n",
       "      <td>Office Supplies</td>\n",
       "      <td>72.240</td>\n",
       "    </tr>\n",
       "    <tr>\n",
       "      <th>2012-01-05</th>\n",
       "      <td>Office Supplies</td>\n",
       "      <td>233.688</td>\n",
       "    </tr>\n",
       "    <tr>\n",
       "      <th>2012-01-06</th>\n",
       "      <td>Office Supplies</td>\n",
       "      <td>31.538</td>\n",
       "    </tr>\n",
       "  </tbody>\n",
       "</table>\n",
       "</div>"
      ],
      "text/plain": [
       "                   Category    Sales\n",
       "Order Date                          \n",
       "2012-01-02  Office Supplies  139.080\n",
       "2012-01-03  Office Supplies   17.424\n",
       "2012-01-04  Office Supplies   72.240\n",
       "2012-01-05  Office Supplies  233.688\n",
       "2012-01-06  Office Supplies   31.538"
      ]
     },
     "execution_count": 43,
     "metadata": {},
     "output_type": "execute_result"
    }
   ],
   "source": [
    "sales[sales['Category'] == 'Office Supplies']['2012-01':'2012-02'].head()"
   ]
  },
  {
   "cell_type": "markdown",
   "id": "49d54bbd",
   "metadata": {},
   "source": [
    "### Datetime Components\n",
    "\n",
    "Pandas Datetime 변수에는 여러 가지 유용한 구성 요소가 있습니다. DatetimeIndex를 사용하여 월, 연도, 요일, 분기 등과 같은 항목을 추출할 수 있습니다."
   ]
  },
  {
   "cell_type": "markdown",
   "id": "b9351f9c",
   "metadata": {},
   "source": [
    "다음 코드는 'sales' DataFrame의 인덱스에서 일(day) 정보를 가져오는 예제입니다."
   ]
  },
  {
   "cell_type": "code",
   "execution_count": 44,
   "id": "77e60dd9",
   "metadata": {},
   "outputs": [
    {
     "data": {
      "text/plain": [
       "Index([ 4,  5,  6,  7,  7,  7,  8,  8, 10, 10,\n",
       "       ...\n",
       "       28, 29, 29, 29, 30, 30, 30, 31, 31, 31],\n",
       "      dtype='int32', name='Order Date', length=2864)"
      ]
     },
     "execution_count": 44,
     "metadata": {},
     "output_type": "execute_result"
    }
   ],
   "source": [
    "sales.index.day"
   ]
  },
  {
   "cell_type": "markdown",
   "id": "cde84c86",
   "metadata": {},
   "source": [
    "다음 코드는 'sales' DataFrame의 인덱스에서 요일 정보를 가져오는 예제입니다."
   ]
  },
  {
   "cell_type": "code",
   "execution_count": 45,
   "id": "4e44a9bf",
   "metadata": {},
   "outputs": [
    {
     "data": {
      "text/plain": [
       "Index([1, 2, 3, 4, 4, 4, 5, 5, 0, 0,\n",
       "       ...\n",
       "       6, 0, 0, 0, 1, 1, 1, 2, 2, 2],\n",
       "      dtype='int32', name='Order Date', length=2864)"
      ]
     },
     "execution_count": 45,
     "metadata": {},
     "output_type": "execute_result"
    }
   ],
   "source": [
    "sales.index.dayofweek   # Day of Week: Monday=0, Sunday=6"
   ]
  },
  {
   "cell_type": "markdown",
   "id": "d4b42152",
   "metadata": {},
   "source": [
    "이 코드는 'sales' DataFrame에 'DayofWeek'라는 새로운 열을 추가하며, 이 열에는 각 행의 인덱스인 날짜의 요일 정보를 할당합니다. "
   ]
  },
  {
   "cell_type": "code",
   "execution_count": 46,
   "id": "59bcad1e",
   "metadata": {},
   "outputs": [
    {
     "data": {
      "text/html": [
       "<div>\n",
       "<style scoped>\n",
       "    .dataframe tbody tr th:only-of-type {\n",
       "        vertical-align: middle;\n",
       "    }\n",
       "\n",
       "    .dataframe tbody tr th {\n",
       "        vertical-align: top;\n",
       "    }\n",
       "\n",
       "    .dataframe thead th {\n",
       "        text-align: right;\n",
       "    }\n",
       "</style>\n",
       "<table border=\"1\" class=\"dataframe\">\n",
       "  <thead>\n",
       "    <tr style=\"text-align: right;\">\n",
       "      <th></th>\n",
       "      <th>Category</th>\n",
       "      <th>Sales</th>\n",
       "      <th>DayofWeek</th>\n",
       "    </tr>\n",
       "    <tr>\n",
       "      <th>Order Date</th>\n",
       "      <th></th>\n",
       "      <th></th>\n",
       "      <th></th>\n",
       "    </tr>\n",
       "  </thead>\n",
       "  <tbody>\n",
       "    <tr>\n",
       "      <th>2011-01-04</th>\n",
       "      <td>Office Supplies</td>\n",
       "      <td>16.448</td>\n",
       "      <td>1</td>\n",
       "    </tr>\n",
       "    <tr>\n",
       "      <th>2011-01-05</th>\n",
       "      <td>Office Supplies</td>\n",
       "      <td>288.060</td>\n",
       "      <td>2</td>\n",
       "    </tr>\n",
       "    <tr>\n",
       "      <th>2011-01-06</th>\n",
       "      <td>Office Supplies</td>\n",
       "      <td>19.536</td>\n",
       "      <td>3</td>\n",
       "    </tr>\n",
       "    <tr>\n",
       "      <th>2011-01-07</th>\n",
       "      <td>Furniture</td>\n",
       "      <td>2573.820</td>\n",
       "      <td>4</td>\n",
       "    </tr>\n",
       "    <tr>\n",
       "      <th>2011-01-07</th>\n",
       "      <td>Office Supplies</td>\n",
       "      <td>685.340</td>\n",
       "      <td>4</td>\n",
       "    </tr>\n",
       "  </tbody>\n",
       "</table>\n",
       "</div>"
      ],
      "text/plain": [
       "                   Category     Sales  DayofWeek\n",
       "Order Date                                      \n",
       "2011-01-04  Office Supplies    16.448          1\n",
       "2011-01-05  Office Supplies   288.060          2\n",
       "2011-01-06  Office Supplies    19.536          3\n",
       "2011-01-07        Furniture  2573.820          4\n",
       "2011-01-07  Office Supplies   685.340          4"
      ]
     },
     "execution_count": 46,
     "metadata": {},
     "output_type": "execute_result"
    }
   ],
   "source": [
    "sales['DayofWeek'] = sales.index.dayofweek\n",
    "sales.head()"
   ]
  },
  {
   "cell_type": "markdown",
   "id": "a470f25d",
   "metadata": {},
   "source": [
    "## resample\n",
    "\n",
    "- 시간 간격을 재조정   \n",
    "- 원래의 데이터가 그룹으로 묶이기 때문에 그룹 연산을 해서 대표값을 구해야 한다."
   ]
  },
  {
   "cell_type": "markdown",
   "id": "5d98925b",
   "metadata": {},
   "source": [
    "이 코드는 NumPy의 randn() 함수를 사용하여 길이가 100인 랜덤한 값을 생성한 후, 이를 pandas Series로 변환합니다. 인덱스는 pd.date_range() 함수를 사용하여 2018년 1월 1일부터 100개월 기간으로 생성됩니다. 빈도(frequency)를 freq=\"M\"으로 설정하여 월단위로 지정합니다.\n",
    "\n",
    "2018년 1월 1일을 시작으로 하여 매월 랜덤한 값을 갖는 100개의 데이터가 생성되며, 시계열 데이터를 다루는 다양한 pandas 함수 및 메소드를 활용할 수 있습니다."
   ]
  },
  {
   "cell_type": "code",
   "execution_count": 47,
   "id": "47ea6d61",
   "metadata": {},
   "outputs": [
    {
     "name": "stdout",
     "output_type": "stream",
     "text": [
      "(100,)\n"
     ]
    },
    {
     "data": {
      "text/plain": [
       "2018-01-31   -0.240906\n",
       "2018-02-28   -0.294289\n",
       "2018-03-31    0.104811\n",
       "2018-04-30    0.938045\n",
       "2018-05-31   -0.549258\n",
       "Freq: M, dtype: float64"
      ]
     },
     "execution_count": 47,
     "metadata": {},
     "output_type": "execute_result"
    }
   ],
   "source": [
    "ts = pd.Series(np.random.randn(100), \n",
    "               index=pd.date_range(\"2018-1-1\", periods=100, freq=\"M\"))\n",
    "\n",
    "print(ts.shape)\n",
    "ts.head()"
   ]
  },
  {
   "cell_type": "code",
   "execution_count": 48,
   "id": "f02e9dee",
   "metadata": {},
   "outputs": [
    {
     "data": {
      "text/plain": [
       "2025-12-31   -0.014599\n",
       "2026-01-31    0.807456\n",
       "2026-02-28   -0.685968\n",
       "2026-03-31   -0.407978\n",
       "2026-04-30    0.184530\n",
       "Freq: M, dtype: float64"
      ]
     },
     "execution_count": 48,
     "metadata": {},
     "output_type": "execute_result"
    }
   ],
   "source": [
    "ts.tail()"
   ]
  },
  {
   "cell_type": "markdown",
   "id": "15db58d8",
   "metadata": {},
   "source": [
    "다음 코드는 pandas Series에서 주 단위로 다운 샘플링하는 예제입니다."
   ]
  },
  {
   "cell_type": "code",
   "execution_count": 49,
   "id": "d432fd50",
   "metadata": {},
   "outputs": [
    {
     "data": {
      "text/plain": [
       "<pandas.core.resample.DatetimeIndexResampler object at 0x00000136D8456880>"
      ]
     },
     "execution_count": 49,
     "metadata": {},
     "output_type": "execute_result"
    }
   ],
   "source": [
    "# 주단위로 down-sampling\n",
    "ts.resample('W')"
   ]
  },
  {
   "cell_type": "markdown",
   "id": "60d88895",
   "metadata": {},
   "source": [
    "다음 코드는 pandas Series에서 주 단위, 월 단위로 평균을 계산하는 예제입니다."
   ]
  },
  {
   "cell_type": "code",
   "execution_count": 50,
   "id": "b26652a0",
   "metadata": {},
   "outputs": [
    {
     "data": {
      "text/plain": [
       "2018-02-04   -0.240906\n",
       "2018-02-11         NaN\n",
       "2018-02-18         NaN\n",
       "2018-02-25         NaN\n",
       "2018-03-04   -0.294289\n",
       "                ...   \n",
       "2026-04-05   -0.407978\n",
       "2026-04-12         NaN\n",
       "2026-04-19         NaN\n",
       "2026-04-26         NaN\n",
       "2026-05-03    0.184530\n",
       "Freq: W-SUN, Length: 431, dtype: float64"
      ]
     },
     "execution_count": 50,
     "metadata": {},
     "output_type": "execute_result"
    }
   ],
   "source": [
    "ts.resample('W').mean()  # 주단위 평균"
   ]
  },
  {
   "cell_type": "code",
   "execution_count": 51,
   "id": "e25b6ab7",
   "metadata": {},
   "outputs": [
    {
     "data": {
      "text/plain": [
       "2018-01-31   -0.240906\n",
       "2018-02-28   -0.294289\n",
       "2018-03-31    0.104811\n",
       "2018-04-30    0.938045\n",
       "2018-05-31   -0.549258\n",
       "                ...   \n",
       "2025-12-31   -0.014599\n",
       "2026-01-31    0.807456\n",
       "2026-02-28   -0.685968\n",
       "2026-03-31   -0.407978\n",
       "2026-04-30    0.184530\n",
       "Freq: M, Length: 100, dtype: float64"
      ]
     },
     "execution_count": 51,
     "metadata": {},
     "output_type": "execute_result"
    }
   ],
   "source": [
    "ts.resample('M').mean() # 월 평균"
   ]
  },
  {
   "cell_type": "code",
   "execution_count": null,
   "id": "2f4080d8",
   "metadata": {},
   "outputs": [],
   "source": []
  }
 ],
 "metadata": {
  "kernelspec": {
   "display_name": "Python 3 (ipykernel)",
   "language": "python",
   "name": "python3"
  },
  "language_info": {
   "codemirror_mode": {
    "name": "ipython",
    "version": 3
   },
   "file_extension": ".py",
   "mimetype": "text/x-python",
   "name": "python",
   "nbconvert_exporter": "python",
   "pygments_lexer": "ipython3",
   "version": "3.9.16"
  }
 },
 "nbformat": 4,
 "nbformat_minor": 5
}
