{
 "cells": [
  {
   "cell_type": "markdown",
   "metadata": {},
   "source": [
    "# 차분(Differencing) 과 이동평균(MA) - Simple Trade Strategy"
   ]
  },
  {
   "cell_type": "code",
   "execution_count": 30,
   "metadata": {},
   "outputs": [],
   "source": [
    "# !pip install pandas_datareader\n",
    "#!pip install yfinance"
   ]
  },
  {
   "cell_type": "code",
   "execution_count": 29,
   "metadata": {},
   "outputs": [],
   "source": [
    "import pandas as pd\n",
    "import numpy as np\n",
    "import matplotlib.pyplot as plt\n",
    "import yfinance as yf\n",
    "import pandas_datareader as data_reader"
   ]
  },
  {
   "cell_type": "markdown",
   "metadata": {},
   "source": [
    "## Price difference (익일 종가 - 당일 종가)\n",
    "\n",
    "PriceDiff = (Close Price of tomorrow - Close Price of today)\n",
    "\n",
    "- shift(period)"
   ]
  },
  {
   "cell_type": "code",
   "execution_count": 4,
   "metadata": {},
   "outputs": [],
   "source": [
    "fb = data_reader.DataReader(\"FB\", data_source=\"yahoo\")    #Facebook\n",
    "ms = data_reader.DataReader(\"MSFT\", data_source=\"yahoo\")  #Microsoft"
   ]
  },
  {
   "cell_type": "code",
   "execution_count": 5,
   "metadata": {},
   "outputs": [
    {
     "data": {
      "text/html": [
       "<div>\n",
       "<style scoped>\n",
       "    .dataframe tbody tr th:only-of-type {\n",
       "        vertical-align: middle;\n",
       "    }\n",
       "\n",
       "    .dataframe tbody tr th {\n",
       "        vertical-align: top;\n",
       "    }\n",
       "\n",
       "    .dataframe thead th {\n",
       "        text-align: right;\n",
       "    }\n",
       "</style>\n",
       "<table border=\"1\" class=\"dataframe\">\n",
       "  <thead>\n",
       "    <tr style=\"text-align: right;\">\n",
       "      <th></th>\n",
       "      <th>High</th>\n",
       "      <th>Low</th>\n",
       "      <th>Open</th>\n",
       "      <th>Close</th>\n",
       "      <th>Volume</th>\n",
       "      <th>Adj Close</th>\n",
       "    </tr>\n",
       "    <tr>\n",
       "      <th>Date</th>\n",
       "      <th></th>\n",
       "      <th></th>\n",
       "      <th></th>\n",
       "      <th></th>\n",
       "      <th></th>\n",
       "      <th></th>\n",
       "    </tr>\n",
       "  </thead>\n",
       "  <tbody>\n",
       "    <tr>\n",
       "      <th>2017-04-24</th>\n",
       "      <td>145.669998</td>\n",
       "      <td>144.339996</td>\n",
       "      <td>144.960007</td>\n",
       "      <td>145.470001</td>\n",
       "      <td>14407200</td>\n",
       "      <td>145.470001</td>\n",
       "    </tr>\n",
       "    <tr>\n",
       "      <th>2017-04-25</th>\n",
       "      <td>147.149994</td>\n",
       "      <td>145.789993</td>\n",
       "      <td>145.789993</td>\n",
       "      <td>146.490005</td>\n",
       "      <td>17767500</td>\n",
       "      <td>146.490005</td>\n",
       "    </tr>\n",
       "    <tr>\n",
       "      <th>2017-04-26</th>\n",
       "      <td>147.589996</td>\n",
       "      <td>146.089996</td>\n",
       "      <td>147.089996</td>\n",
       "      <td>146.559998</td>\n",
       "      <td>12395000</td>\n",
       "      <td>146.559998</td>\n",
       "    </tr>\n",
       "    <tr>\n",
       "      <th>2017-04-27</th>\n",
       "      <td>147.750000</td>\n",
       "      <td>146.139999</td>\n",
       "      <td>146.669998</td>\n",
       "      <td>147.699997</td>\n",
       "      <td>11275100</td>\n",
       "      <td>147.699997</td>\n",
       "    </tr>\n",
       "    <tr>\n",
       "      <th>2017-04-28</th>\n",
       "      <td>151.529999</td>\n",
       "      <td>149.070007</td>\n",
       "      <td>149.500000</td>\n",
       "      <td>150.250000</td>\n",
       "      <td>30652200</td>\n",
       "      <td>150.250000</td>\n",
       "    </tr>\n",
       "  </tbody>\n",
       "</table>\n",
       "</div>"
      ],
      "text/plain": [
       "                  High         Low        Open       Close    Volume  \\\n",
       "Date                                                                   \n",
       "2017-04-24  145.669998  144.339996  144.960007  145.470001  14407200   \n",
       "2017-04-25  147.149994  145.789993  145.789993  146.490005  17767500   \n",
       "2017-04-26  147.589996  146.089996  147.089996  146.559998  12395000   \n",
       "2017-04-27  147.750000  146.139999  146.669998  147.699997  11275100   \n",
       "2017-04-28  151.529999  149.070007  149.500000  150.250000  30652200   \n",
       "\n",
       "             Adj Close  \n",
       "Date                    \n",
       "2017-04-24  145.470001  \n",
       "2017-04-25  146.490005  \n",
       "2017-04-26  146.559998  \n",
       "2017-04-27  147.699997  \n",
       "2017-04-28  150.250000  "
      ]
     },
     "execution_count": 5,
     "metadata": {},
     "output_type": "execute_result"
    }
   ],
   "source": [
    "fb.head()"
   ]
  },
  {
   "cell_type": "code",
   "execution_count": 6,
   "metadata": {},
   "outputs": [],
   "source": [
    "fb.drop(['High', 'Low', 'Open', 'Volume', 'Adj Close'], axis=1, inplace=True)\n",
    "ms.drop(['High', 'Low', 'Open', 'Volume', 'Adj Close'], axis=1, inplace=True)"
   ]
  },
  {
   "cell_type": "code",
   "execution_count": 7,
   "metadata": {},
   "outputs": [
    {
     "data": {
      "text/html": [
       "<div>\n",
       "<style scoped>\n",
       "    .dataframe tbody tr th:only-of-type {\n",
       "        vertical-align: middle;\n",
       "    }\n",
       "\n",
       "    .dataframe tbody tr th {\n",
       "        vertical-align: top;\n",
       "    }\n",
       "\n",
       "    .dataframe thead th {\n",
       "        text-align: right;\n",
       "    }\n",
       "</style>\n",
       "<table border=\"1\" class=\"dataframe\">\n",
       "  <thead>\n",
       "    <tr style=\"text-align: right;\">\n",
       "      <th></th>\n",
       "      <th>Close</th>\n",
       "      <th>Yesterday Close</th>\n",
       "    </tr>\n",
       "    <tr>\n",
       "      <th>Date</th>\n",
       "      <th></th>\n",
       "      <th></th>\n",
       "    </tr>\n",
       "  </thead>\n",
       "  <tbody>\n",
       "    <tr>\n",
       "      <th>2017-04-24</th>\n",
       "      <td>145.470001</td>\n",
       "      <td>NaN</td>\n",
       "    </tr>\n",
       "    <tr>\n",
       "      <th>2017-04-25</th>\n",
       "      <td>146.490005</td>\n",
       "      <td>145.470001</td>\n",
       "    </tr>\n",
       "    <tr>\n",
       "      <th>2017-04-26</th>\n",
       "      <td>146.559998</td>\n",
       "      <td>146.490005</td>\n",
       "    </tr>\n",
       "    <tr>\n",
       "      <th>2017-04-27</th>\n",
       "      <td>147.699997</td>\n",
       "      <td>146.559998</td>\n",
       "    </tr>\n",
       "    <tr>\n",
       "      <th>2017-04-28</th>\n",
       "      <td>150.250000</td>\n",
       "      <td>147.699997</td>\n",
       "    </tr>\n",
       "  </tbody>\n",
       "</table>\n",
       "</div>"
      ],
      "text/plain": [
       "                 Close  Yesterday Close\n",
       "Date                                   \n",
       "2017-04-24  145.470001              NaN\n",
       "2017-04-25  146.490005       145.470001\n",
       "2017-04-26  146.559998       146.490005\n",
       "2017-04-27  147.699997       146.559998\n",
       "2017-04-28  150.250000       147.699997"
      ]
     },
     "execution_count": 7,
     "metadata": {},
     "output_type": "execute_result"
    }
   ],
   "source": [
    "fb['Yesterday Close'] = fb['Close'].shift(1)\n",
    "fb.head()"
   ]
  },
  {
   "cell_type": "code",
   "execution_count": 8,
   "metadata": {},
   "outputs": [
    {
     "data": {
      "text/html": [
       "<div>\n",
       "<style scoped>\n",
       "    .dataframe tbody tr th:only-of-type {\n",
       "        vertical-align: middle;\n",
       "    }\n",
       "\n",
       "    .dataframe tbody tr th {\n",
       "        vertical-align: top;\n",
       "    }\n",
       "\n",
       "    .dataframe thead th {\n",
       "        text-align: right;\n",
       "    }\n",
       "</style>\n",
       "<table border=\"1\" class=\"dataframe\">\n",
       "  <thead>\n",
       "    <tr style=\"text-align: right;\">\n",
       "      <th></th>\n",
       "      <th>Close</th>\n",
       "      <th>Yesterday Close</th>\n",
       "      <th>Price Difference</th>\n",
       "    </tr>\n",
       "    <tr>\n",
       "      <th>Date</th>\n",
       "      <th></th>\n",
       "      <th></th>\n",
       "      <th></th>\n",
       "    </tr>\n",
       "  </thead>\n",
       "  <tbody>\n",
       "    <tr>\n",
       "      <th>2017-04-24</th>\n",
       "      <td>145.470001</td>\n",
       "      <td>NaN</td>\n",
       "      <td>NaN</td>\n",
       "    </tr>\n",
       "    <tr>\n",
       "      <th>2017-04-25</th>\n",
       "      <td>146.490005</td>\n",
       "      <td>145.470001</td>\n",
       "      <td>1.020004</td>\n",
       "    </tr>\n",
       "    <tr>\n",
       "      <th>2017-04-26</th>\n",
       "      <td>146.559998</td>\n",
       "      <td>146.490005</td>\n",
       "      <td>0.069992</td>\n",
       "    </tr>\n",
       "    <tr>\n",
       "      <th>2017-04-27</th>\n",
       "      <td>147.699997</td>\n",
       "      <td>146.559998</td>\n",
       "      <td>1.139999</td>\n",
       "    </tr>\n",
       "    <tr>\n",
       "      <th>2017-04-28</th>\n",
       "      <td>150.250000</td>\n",
       "      <td>147.699997</td>\n",
       "      <td>2.550003</td>\n",
       "    </tr>\n",
       "  </tbody>\n",
       "</table>\n",
       "</div>"
      ],
      "text/plain": [
       "                 Close  Yesterday Close  Price Difference\n",
       "Date                                                     \n",
       "2017-04-24  145.470001              NaN               NaN\n",
       "2017-04-25  146.490005       145.470001          1.020004\n",
       "2017-04-26  146.559998       146.490005          0.069992\n",
       "2017-04-27  147.699997       146.559998          1.139999\n",
       "2017-04-28  150.250000       147.699997          2.550003"
      ]
     },
     "execution_count": 8,
     "metadata": {},
     "output_type": "execute_result"
    }
   ],
   "source": [
    "#Price Difference - manual 계산\n",
    "fb['Price Difference'] = fb['Close'] - fb['Yesterday Close']\n",
    "fb.head()"
   ]
  },
  {
   "cell_type": "code",
   "execution_count": 9,
   "metadata": {},
   "outputs": [
    {
     "data": {
      "text/html": [
       "<div>\n",
       "<style scoped>\n",
       "    .dataframe tbody tr th:only-of-type {\n",
       "        vertical-align: middle;\n",
       "    }\n",
       "\n",
       "    .dataframe tbody tr th {\n",
       "        vertical-align: top;\n",
       "    }\n",
       "\n",
       "    .dataframe thead th {\n",
       "        text-align: right;\n",
       "    }\n",
       "</style>\n",
       "<table border=\"1\" class=\"dataframe\">\n",
       "  <thead>\n",
       "    <tr style=\"text-align: right;\">\n",
       "      <th></th>\n",
       "      <th>Close</th>\n",
       "      <th>Yesterday Close</th>\n",
       "      <th>Price Difference</th>\n",
       "      <th>Price Diff2</th>\n",
       "    </tr>\n",
       "    <tr>\n",
       "      <th>Date</th>\n",
       "      <th></th>\n",
       "      <th></th>\n",
       "      <th></th>\n",
       "      <th></th>\n",
       "    </tr>\n",
       "  </thead>\n",
       "  <tbody>\n",
       "    <tr>\n",
       "      <th>2017-04-24</th>\n",
       "      <td>145.470001</td>\n",
       "      <td>NaN</td>\n",
       "      <td>NaN</td>\n",
       "      <td>NaN</td>\n",
       "    </tr>\n",
       "    <tr>\n",
       "      <th>2017-04-25</th>\n",
       "      <td>146.490005</td>\n",
       "      <td>145.470001</td>\n",
       "      <td>1.020004</td>\n",
       "      <td>1.020004</td>\n",
       "    </tr>\n",
       "    <tr>\n",
       "      <th>2017-04-26</th>\n",
       "      <td>146.559998</td>\n",
       "      <td>146.490005</td>\n",
       "      <td>0.069992</td>\n",
       "      <td>0.069992</td>\n",
       "    </tr>\n",
       "    <tr>\n",
       "      <th>2017-04-27</th>\n",
       "      <td>147.699997</td>\n",
       "      <td>146.559998</td>\n",
       "      <td>1.139999</td>\n",
       "      <td>1.139999</td>\n",
       "    </tr>\n",
       "    <tr>\n",
       "      <th>2017-04-28</th>\n",
       "      <td>150.250000</td>\n",
       "      <td>147.699997</td>\n",
       "      <td>2.550003</td>\n",
       "      <td>2.550003</td>\n",
       "    </tr>\n",
       "  </tbody>\n",
       "</table>\n",
       "</div>"
      ],
      "text/plain": [
       "                 Close  Yesterday Close  Price Difference  Price Diff2\n",
       "Date                                                                  \n",
       "2017-04-24  145.470001              NaN               NaN          NaN\n",
       "2017-04-25  146.490005       145.470001          1.020004     1.020004\n",
       "2017-04-26  146.559998       146.490005          0.069992     0.069992\n",
       "2017-04-27  147.699997       146.559998          1.139999     1.139999\n",
       "2017-04-28  150.250000       147.699997          2.550003     2.550003"
      ]
     },
     "execution_count": 9,
     "metadata": {},
     "output_type": "execute_result"
    }
   ],
   "source": [
    "#diff() method 사용해도 동일한 결과\n",
    "fb['Price Diff2'] = fb['Close'].diff()\n",
    "fb.head()"
   ]
  },
  {
   "cell_type": "code",
   "execution_count": 10,
   "metadata": {},
   "outputs": [
    {
     "data": {
      "text/html": [
       "<div>\n",
       "<style scoped>\n",
       "    .dataframe tbody tr th:only-of-type {\n",
       "        vertical-align: middle;\n",
       "    }\n",
       "\n",
       "    .dataframe tbody tr th {\n",
       "        vertical-align: top;\n",
       "    }\n",
       "\n",
       "    .dataframe thead th {\n",
       "        text-align: right;\n",
       "    }\n",
       "</style>\n",
       "<table border=\"1\" class=\"dataframe\">\n",
       "  <thead>\n",
       "    <tr style=\"text-align: right;\">\n",
       "      <th></th>\n",
       "      <th>Close</th>\n",
       "      <th>Yesterday Close</th>\n",
       "      <th>Price Difference</th>\n",
       "    </tr>\n",
       "    <tr>\n",
       "      <th>Date</th>\n",
       "      <th></th>\n",
       "      <th></th>\n",
       "      <th></th>\n",
       "    </tr>\n",
       "  </thead>\n",
       "  <tbody>\n",
       "    <tr>\n",
       "      <th>2017-04-24</th>\n",
       "      <td>67.529999</td>\n",
       "      <td>NaN</td>\n",
       "      <td>NaN</td>\n",
       "    </tr>\n",
       "    <tr>\n",
       "      <th>2017-04-25</th>\n",
       "      <td>67.919998</td>\n",
       "      <td>67.529999</td>\n",
       "      <td>0.389999</td>\n",
       "    </tr>\n",
       "    <tr>\n",
       "      <th>2017-04-26</th>\n",
       "      <td>67.830002</td>\n",
       "      <td>67.919998</td>\n",
       "      <td>-0.089996</td>\n",
       "    </tr>\n",
       "    <tr>\n",
       "      <th>2017-04-27</th>\n",
       "      <td>68.269997</td>\n",
       "      <td>67.830002</td>\n",
       "      <td>0.439995</td>\n",
       "    </tr>\n",
       "    <tr>\n",
       "      <th>2017-04-28</th>\n",
       "      <td>68.459999</td>\n",
       "      <td>68.269997</td>\n",
       "      <td>0.190002</td>\n",
       "    </tr>\n",
       "  </tbody>\n",
       "</table>\n",
       "</div>"
      ],
      "text/plain": [
       "                Close  Yesterday Close  Price Difference\n",
       "Date                                                    \n",
       "2017-04-24  67.529999              NaN               NaN\n",
       "2017-04-25  67.919998        67.529999          0.389999\n",
       "2017-04-26  67.830002        67.919998         -0.089996\n",
       "2017-04-27  68.269997        67.830002          0.439995\n",
       "2017-04-28  68.459999        68.269997          0.190002"
      ]
     },
     "execution_count": 10,
     "metadata": {},
     "output_type": "execute_result"
    }
   ],
   "source": [
    "ms['Yesterday Close'] = ms['Close'].shift(1)\n",
    "ms['Price Difference'] = ms['Close'].diff()\n",
    "ms.head()"
   ]
  },
  {
   "cell_type": "code",
   "execution_count": 11,
   "metadata": {},
   "outputs": [
    {
     "name": "stdout",
     "output_type": "stream",
     "text": [
      "0.089996337890625\n"
     ]
    }
   ],
   "source": [
    "print(ms['Price Difference'].loc['2017-11-03'])"
   ]
  },
  {
   "cell_type": "code",
   "execution_count": 13,
   "metadata": {},
   "outputs": [
    {
     "data": {
      "text/html": [
       "<div>\n",
       "<style scoped>\n",
       "    .dataframe tbody tr th:only-of-type {\n",
       "        vertical-align: middle;\n",
       "    }\n",
       "\n",
       "    .dataframe tbody tr th {\n",
       "        vertical-align: top;\n",
       "    }\n",
       "\n",
       "    .dataframe thead th {\n",
       "        text-align: right;\n",
       "    }\n",
       "</style>\n",
       "<table border=\"1\" class=\"dataframe\">\n",
       "  <thead>\n",
       "    <tr style=\"text-align: right;\">\n",
       "      <th></th>\n",
       "      <th>Close</th>\n",
       "      <th>Yesterday Close</th>\n",
       "      <th>Price Difference</th>\n",
       "    </tr>\n",
       "    <tr>\n",
       "      <th>Date</th>\n",
       "      <th></th>\n",
       "      <th></th>\n",
       "      <th></th>\n",
       "    </tr>\n",
       "  </thead>\n",
       "  <tbody>\n",
       "    <tr>\n",
       "      <th>2017-04-24</th>\n",
       "      <td>67.529999</td>\n",
       "      <td>NaN</td>\n",
       "      <td>NaN</td>\n",
       "    </tr>\n",
       "    <tr>\n",
       "      <th>2017-04-25</th>\n",
       "      <td>67.919998</td>\n",
       "      <td>67.529999</td>\n",
       "      <td>0.389999</td>\n",
       "    </tr>\n",
       "    <tr>\n",
       "      <th>2017-04-26</th>\n",
       "      <td>67.830002</td>\n",
       "      <td>67.919998</td>\n",
       "      <td>-0.089996</td>\n",
       "    </tr>\n",
       "    <tr>\n",
       "      <th>2017-04-27</th>\n",
       "      <td>68.269997</td>\n",
       "      <td>67.830002</td>\n",
       "      <td>0.439995</td>\n",
       "    </tr>\n",
       "    <tr>\n",
       "      <th>2017-04-28</th>\n",
       "      <td>68.459999</td>\n",
       "      <td>68.269997</td>\n",
       "      <td>0.190002</td>\n",
       "    </tr>\n",
       "  </tbody>\n",
       "</table>\n",
       "</div>"
      ],
      "text/plain": [
       "                Close  Yesterday Close  Price Difference\n",
       "Date                                                    \n",
       "2017-04-24  67.529999              NaN               NaN\n",
       "2017-04-25  67.919998        67.529999          0.389999\n",
       "2017-04-26  67.830002        67.919998         -0.089996\n",
       "2017-04-27  68.269997        67.830002          0.439995\n",
       "2017-04-28  68.459999        68.269997          0.190002"
      ]
     },
     "execution_count": 13,
     "metadata": {},
     "output_type": "execute_result"
    }
   ],
   "source": [
    "ms.head()"
   ]
  },
  {
   "cell_type": "markdown",
   "metadata": {},
   "source": [
    "차분한 값으로부터 원래의 값 복원하기"
   ]
  },
  {
   "cell_type": "code",
   "execution_count": 15,
   "metadata": {},
   "outputs": [
    {
     "data": {
      "text/plain": [
       "Date\n",
       "2017-04-24           NaN\n",
       "2017-04-25     67.919998\n",
       "2017-04-26     67.830002\n",
       "2017-04-27     68.269997\n",
       "2017-04-28     68.459999\n",
       "                 ...    \n",
       "2022-04-18    280.519989\n",
       "2022-04-19    285.299988\n",
       "2022-04-20    286.359985\n",
       "2022-04-21    280.809998\n",
       "2022-04-22    274.029999\n",
       "Name: Price Difference, Length: 1260, dtype: float64"
      ]
     },
     "execution_count": 15,
     "metadata": {},
     "output_type": "execute_result"
    }
   ],
   "source": [
    "ms['Price Difference'].cumsum() + ms['Close'][0]"
   ]
  },
  {
   "cell_type": "markdown",
   "metadata": {},
   "source": [
    "## 일일 수익률 계산\n",
    "\n",
    "- 1 주를 계속 보유하였다고 가정.  \n",
    "\n",
    "\n",
    "- 계산 방법. \n",
    "\n",
    "- Daily Return = df/df.shift(1) - 1  \n",
    "    or\n",
    "- Daily Return[1:] = df[1:] / df[:-1].values - 1  \n",
    "    or    \n",
    "- Daily Return = df.pct_chage()"
   ]
  },
  {
   "cell_type": "code",
   "execution_count": 16,
   "metadata": {},
   "outputs": [
    {
     "data": {
      "text/html": [
       "<div>\n",
       "<style scoped>\n",
       "    .dataframe tbody tr th:only-of-type {\n",
       "        vertical-align: middle;\n",
       "    }\n",
       "\n",
       "    .dataframe tbody tr th {\n",
       "        vertical-align: top;\n",
       "    }\n",
       "\n",
       "    .dataframe thead th {\n",
       "        text-align: right;\n",
       "    }\n",
       "</style>\n",
       "<table border=\"1\" class=\"dataframe\">\n",
       "  <thead>\n",
       "    <tr style=\"text-align: right;\">\n",
       "      <th></th>\n",
       "      <th>Close</th>\n",
       "      <th>Yesterday Close</th>\n",
       "      <th>Price Difference</th>\n",
       "      <th>Return</th>\n",
       "    </tr>\n",
       "    <tr>\n",
       "      <th>Date</th>\n",
       "      <th></th>\n",
       "      <th></th>\n",
       "      <th></th>\n",
       "      <th></th>\n",
       "    </tr>\n",
       "  </thead>\n",
       "  <tbody>\n",
       "    <tr>\n",
       "      <th>2017-04-24</th>\n",
       "      <td>67.529999</td>\n",
       "      <td>NaN</td>\n",
       "      <td>NaN</td>\n",
       "      <td>NaN</td>\n",
       "    </tr>\n",
       "    <tr>\n",
       "      <th>2017-04-25</th>\n",
       "      <td>67.919998</td>\n",
       "      <td>67.529999</td>\n",
       "      <td>0.389999</td>\n",
       "      <td>0.005775</td>\n",
       "    </tr>\n",
       "    <tr>\n",
       "      <th>2017-04-26</th>\n",
       "      <td>67.830002</td>\n",
       "      <td>67.919998</td>\n",
       "      <td>-0.089996</td>\n",
       "      <td>-0.001325</td>\n",
       "    </tr>\n",
       "    <tr>\n",
       "      <th>2017-04-27</th>\n",
       "      <td>68.269997</td>\n",
       "      <td>67.830002</td>\n",
       "      <td>0.439995</td>\n",
       "      <td>0.006487</td>\n",
       "    </tr>\n",
       "    <tr>\n",
       "      <th>2017-04-28</th>\n",
       "      <td>68.459999</td>\n",
       "      <td>68.269997</td>\n",
       "      <td>0.190002</td>\n",
       "      <td>0.002783</td>\n",
       "    </tr>\n",
       "  </tbody>\n",
       "</table>\n",
       "</div>"
      ],
      "text/plain": [
       "                Close  Yesterday Close  Price Difference    Return\n",
       "Date                                                              \n",
       "2017-04-24  67.529999              NaN               NaN       NaN\n",
       "2017-04-25  67.919998        67.529999          0.389999  0.005775\n",
       "2017-04-26  67.830002        67.919998         -0.089996 -0.001325\n",
       "2017-04-27  68.269997        67.830002          0.439995  0.006487\n",
       "2017-04-28  68.459999        68.269997          0.190002  0.002783"
      ]
     },
     "execution_count": 16,
     "metadata": {},
     "output_type": "execute_result"
    }
   ],
   "source": [
    "ms['Return'] = ms['Close'] / ms['Yesterday Close'] - 1\n",
    "ms.head()"
   ]
  },
  {
   "cell_type": "code",
   "execution_count": 17,
   "metadata": {},
   "outputs": [
    {
     "data": {
      "text/html": [
       "<div>\n",
       "<style scoped>\n",
       "    .dataframe tbody tr th:only-of-type {\n",
       "        vertical-align: middle;\n",
       "    }\n",
       "\n",
       "    .dataframe tbody tr th {\n",
       "        vertical-align: top;\n",
       "    }\n",
       "\n",
       "    .dataframe thead th {\n",
       "        text-align: right;\n",
       "    }\n",
       "</style>\n",
       "<table border=\"1\" class=\"dataframe\">\n",
       "  <thead>\n",
       "    <tr style=\"text-align: right;\">\n",
       "      <th></th>\n",
       "      <th>Close</th>\n",
       "      <th>Yesterday Close</th>\n",
       "      <th>Price Difference</th>\n",
       "      <th>Return</th>\n",
       "    </tr>\n",
       "    <tr>\n",
       "      <th>Date</th>\n",
       "      <th></th>\n",
       "      <th></th>\n",
       "      <th></th>\n",
       "      <th></th>\n",
       "    </tr>\n",
       "  </thead>\n",
       "  <tbody>\n",
       "    <tr>\n",
       "      <th>2022-04-18</th>\n",
       "      <td>280.519989</td>\n",
       "      <td>279.829987</td>\n",
       "      <td>0.690002</td>\n",
       "      <td>0.002466</td>\n",
       "    </tr>\n",
       "    <tr>\n",
       "      <th>2022-04-19</th>\n",
       "      <td>285.299988</td>\n",
       "      <td>280.519989</td>\n",
       "      <td>4.779999</td>\n",
       "      <td>0.017040</td>\n",
       "    </tr>\n",
       "    <tr>\n",
       "      <th>2022-04-20</th>\n",
       "      <td>286.359985</td>\n",
       "      <td>285.299988</td>\n",
       "      <td>1.059998</td>\n",
       "      <td>0.003715</td>\n",
       "    </tr>\n",
       "    <tr>\n",
       "      <th>2022-04-21</th>\n",
       "      <td>280.809998</td>\n",
       "      <td>286.359985</td>\n",
       "      <td>-5.549988</td>\n",
       "      <td>-0.019381</td>\n",
       "    </tr>\n",
       "    <tr>\n",
       "      <th>2022-04-22</th>\n",
       "      <td>274.029999</td>\n",
       "      <td>280.809998</td>\n",
       "      <td>-6.779999</td>\n",
       "      <td>-0.024144</td>\n",
       "    </tr>\n",
       "  </tbody>\n",
       "</table>\n",
       "</div>"
      ],
      "text/plain": [
       "                 Close  Yesterday Close  Price Difference    Return\n",
       "Date                                                               \n",
       "2022-04-18  280.519989       279.829987          0.690002  0.002466\n",
       "2022-04-19  285.299988       280.519989          4.779999  0.017040\n",
       "2022-04-20  286.359985       285.299988          1.059998  0.003715\n",
       "2022-04-21  280.809998       286.359985         -5.549988 -0.019381\n",
       "2022-04-22  274.029999       280.809998         -6.779999 -0.024144"
      ]
     },
     "execution_count": 17,
     "metadata": {},
     "output_type": "execute_result"
    }
   ],
   "source": [
    "ms.tail()"
   ]
  },
  {
   "cell_type": "code",
   "execution_count": 18,
   "metadata": {},
   "outputs": [
    {
     "data": {
      "text/plain": [
       "Date\n",
       "2017-04-25    0.005775\n",
       "2017-04-26   -0.001325\n",
       "2017-04-27    0.006487\n",
       "2017-04-28    0.002783\n",
       "2017-05-01    0.013877\n",
       "                ...   \n",
       "2022-04-18    0.002466\n",
       "2022-04-19    0.017040\n",
       "2022-04-20    0.003715\n",
       "2022-04-21   -0.019381\n",
       "2022-04-22   -0.024144\n",
       "Name: Close, Length: 1259, dtype: float64"
      ]
     },
     "execution_count": 18,
     "metadata": {},
     "output_type": "execute_result"
    }
   ],
   "source": [
    "ms['Close'][1:] / ms['Close'][:-1].values - 1"
   ]
  },
  {
   "cell_type": "code",
   "execution_count": 19,
   "metadata": {},
   "outputs": [
    {
     "data": {
      "text/plain": [
       "Date\n",
       "2017-04-24         NaN\n",
       "2017-04-25    0.005775\n",
       "2017-04-26   -0.001325\n",
       "2017-04-27    0.006487\n",
       "2017-04-28    0.002783\n",
       "                ...   \n",
       "2022-04-18    0.002466\n",
       "2022-04-19    0.017040\n",
       "2022-04-20    0.003715\n",
       "2022-04-21   -0.019381\n",
       "2022-04-22   -0.024144\n",
       "Name: Close, Length: 1260, dtype: float64"
      ]
     },
     "execution_count": 19,
     "metadata": {},
     "output_type": "execute_result"
    }
   ],
   "source": [
    "ms['Close'].pct_change()"
   ]
  },
  {
   "cell_type": "code",
   "execution_count": 22,
   "metadata": {},
   "outputs": [
    {
     "name": "stdout",
     "output_type": "stream",
     "text": [
      "1825 일간 1 주를 계속 보유하였다면 누적 수익율은\n",
      "Date\n",
      "2017-04-24         NaN\n",
      "2017-04-25    1.005775\n",
      "2017-04-26    1.004443\n",
      "2017-04-27    1.010958\n",
      "2017-04-28    1.013772\n",
      "                ...   \n",
      "2022-04-18    4.154006\n",
      "2022-04-19    4.224789\n",
      "2022-04-20    4.240486\n",
      "2022-04-21    4.158300\n",
      "2022-04-22    4.057900\n",
      "Name: Return, Length: 1260, dtype: float64\n"
     ]
    }
   ],
   "source": [
    "print(f\"{len(pd.date_range(ms.index[0], ms.index[-1]))} 일간 1 주를 계속 보유하였다면 누적 수익율은\")\n",
    "print((1+ms['Return']).cumprod())"
   ]
  },
  {
   "cell_type": "markdown",
   "metadata": {},
   "source": [
    "## 이동평균 - Moving average\n",
    "\n",
    "- DataFrame.rolling()"
   ]
  },
  {
   "cell_type": "code",
   "execution_count": 23,
   "metadata": {},
   "outputs": [
    {
     "data": {
      "text/plain": [
       "Date\n",
       "2017-04-24           NaN\n",
       "2017-04-25           NaN\n",
       "2017-04-26    146.173335\n",
       "2017-04-27    146.916667\n",
       "2017-04-28    148.169998\n",
       "                 ...    \n",
       "2022-04-18    211.980001\n",
       "2022-04-19    212.753332\n",
       "2022-04-20    209.500000\n",
       "2022-04-21    201.933334\n",
       "2022-04-22    190.866669\n",
       "Name: Close, Length: 1260, dtype: float64"
      ]
     },
     "execution_count": 23,
     "metadata": {},
     "output_type": "execute_result"
    }
   ],
   "source": [
    "# 3일 이동평균\n",
    "(fb['Close'] + fb['Close'].shift(1) + fb['Close'].shift(2)) / 3"
   ]
  },
  {
   "cell_type": "code",
   "execution_count": 24,
   "metadata": {},
   "outputs": [
    {
     "data": {
      "text/plain": [
       "Date\n",
       "2017-04-24           NaN\n",
       "2017-04-25           NaN\n",
       "2017-04-26    146.173335\n",
       "2017-04-27    146.916667\n",
       "2017-04-28    148.169998\n",
       "                 ...    \n",
       "2022-04-18    211.980001\n",
       "2022-04-19    212.753332\n",
       "2022-04-20    209.500000\n",
       "2022-04-21    201.933334\n",
       "2022-04-22    190.866669\n",
       "Name: Close, Length: 1260, dtype: float64"
      ]
     },
     "execution_count": 24,
     "metadata": {},
     "output_type": "execute_result"
    }
   ],
   "source": [
    "fb['Close'].rolling(3).mean()"
   ]
  },
  {
   "cell_type": "markdown",
   "metadata": {},
   "source": [
    "### 이동평균 계산 및 이동평균선 시각화"
   ]
  },
  {
   "cell_type": "code",
   "execution_count": 26,
   "metadata": {},
   "outputs": [
    {
     "data": {
      "text/plain": [
       "<matplotlib.legend.Legend at 0x1b560902520>"
      ]
     },
     "execution_count": 26,
     "metadata": {},
     "output_type": "execute_result"
    },
    {
     "data": {
      "image/png": "[encoded data removed]",
      "text/plain": [
       "<Figure size 864x432 with 1 Axes>"
      ]
     },
     "metadata": {
      "needs_background": "light"
     },
     "output_type": "display_data"
    }
   ],
   "source": [
    "fb['ma30'] = fb['Close'].rolling(30).mean()\n",
    "fb['ma60'] = fb['Close'].rolling(60).mean()#plot the moving average\n",
    "\n",
    "#plot the moving average\n",
    "plt.figure(figsize=(12, 6))\n",
    "fb['ma30'].plot(label='MA30')\n",
    "fb['ma60'].plot(label='MA60')\n",
    "fb['Close'].plot(label='Close')\n",
    "plt.legend()"
   ]
  },
  {
   "cell_type": "code",
   "execution_count": 28,
   "metadata": {},
   "outputs": [
    {
     "data": {
      "image/png": "[encoded data removed]",
      "text/plain": [
       "<Figure size 576x432 with 1 Axes>"
      ]
     },
     "metadata": {
      "needs_background": "light"
     },
     "output_type": "display_data"
    }
   ],
   "source": [
    "#특정 기간을 slicing한 이동평균 plot\n",
    "plt.figure(figsize=(8, 6))\n",
    "fb['ma30'].loc['2017-01-01':'2017-12-31'].plot(label='MA30')\n",
    "fb['ma60'].loc['2017-01-01':'2017-12-31'].plot(label='MA60')\n",
    "fb['Close'].loc['2017-01-01':'2017-12-31'].plot(label='Close')\n",
    "plt.legend()\n",
    "plt.show()"
   ]
  },
  {
   "cell_type": "markdown",
   "metadata": {},
   "source": [
    "## EWMA (Exponentially-weighted moving average)\n",
    "\n",
    "\n",
    "SMA(Simple Moving Average)에는 몇 가지 \"약점\"이 있습니다.\n",
    "* window 가 작을수록 신호가 아닌 잡음이 증가합니다.\n",
    "* 항상 window 크기만큼 지연됩니다.\n",
    "* 평균화로 인해 데이터의 전체 피크 또는 계곡에 도달하지 않습니다.\n",
    "* 미래의 움직임에 대해 실제로 알려주지 않습니다. 실제로는 데이터의 trend를 묘사하는 것입니다.\n",
    "* 극단적인 historical value 로 인해 SMA가 크게 왜곡 될 수 있습니다.\n",
    "\n",
    "이러한 문제를 해결하기 위해 EWMA (지수 가중 이동 평균)를 사용할 수 있습니다."
   ]
  },
  {
   "cell_type": "code",
   "execution_count": 31,
   "metadata": {},
   "outputs": [
    {
     "data": {
      "text/html": [
       "<div>\n",
       "<style scoped>\n",
       "    .dataframe tbody tr th:only-of-type {\n",
       "        vertical-align: middle;\n",
       "    }\n",
       "\n",
       "    .dataframe tbody tr th {\n",
       "        vertical-align: top;\n",
       "    }\n",
       "\n",
       "    .dataframe thead th {\n",
       "        text-align: right;\n",
       "    }\n",
       "</style>\n",
       "<table border=\"1\" class=\"dataframe\">\n",
       "  <thead>\n",
       "    <tr style=\"text-align: right;\">\n",
       "      <th></th>\n",
       "      <th>Close</th>\n",
       "    </tr>\n",
       "    <tr>\n",
       "      <th>Date</th>\n",
       "      <th></th>\n",
       "    </tr>\n",
       "  </thead>\n",
       "  <tbody>\n",
       "    <tr>\n",
       "      <th>2019-12-31</th>\n",
       "      <td>73.412498</td>\n",
       "    </tr>\n",
       "    <tr>\n",
       "      <th>2020-01-02</th>\n",
       "      <td>75.087502</td>\n",
       "    </tr>\n",
       "    <tr>\n",
       "      <th>2020-01-03</th>\n",
       "      <td>74.357498</td>\n",
       "    </tr>\n",
       "    <tr>\n",
       "      <th>2020-01-06</th>\n",
       "      <td>74.949997</td>\n",
       "    </tr>\n",
       "    <tr>\n",
       "      <th>2020-01-07</th>\n",
       "      <td>74.597504</td>\n",
       "    </tr>\n",
       "  </tbody>\n",
       "</table>\n",
       "</div>"
      ],
      "text/plain": [
       "                Close\n",
       "Date                 \n",
       "2019-12-31  73.412498\n",
       "2020-01-02  75.087502\n",
       "2020-01-03  74.357498\n",
       "2020-01-06  74.949997\n",
       "2020-01-07  74.597504"
      ]
     },
     "execution_count": 31,
     "metadata": {},
     "output_type": "execute_result"
    }
   ],
   "source": [
    "df = yf.download('AAPL', start='2020-01-01', end='2020-06-30', progress=False)\n",
    "df.drop(['Open', 'High', 'Low', 'Adj Close', 'Volume'], axis=1, inplace=True)\n",
    "df.head()"
   ]
  },
  {
   "cell_type": "code",
   "execution_count": 34,
   "metadata": {},
   "outputs": [
    {
     "data": {
      "image/png": "[encoded data removed]",
      "text/plain": [
       "<Figure size 864x432 with 1 Axes>"
      ]
     },
     "metadata": {
      "needs_background": "light"
     },
     "output_type": "display_data"
    }
   ],
   "source": [
    "#SMA : Simple Moving Average\n",
    "\n",
    "df['SMA6'] = df['Close'].rolling(window=6).mean()\n",
    "df['SMA12'] = df['Close'].rolling(window=12).mean()\n",
    "df.plot(figsize=(12, 6));"
   ]
  },
  {
   "cell_type": "markdown",
   "metadata": {},
   "source": [
    "- EWMA를 사용하면 SMA의 지연 효과를 줄일 수 있으며 최근에 발생한 값에 더 많은 가중치를 적용합니다.  \n",
    "\n",
    "- 가장 최근 값에 적용되는 가중치는 EWMA에 사용된 실제 매개 변수와 window 크기로 지정된 기간에 따라 다릅니다.\n",
    "\n",
    "EWMA 공식은 다음과 같습니다.\n",
    "\n",
    "$$ y_t =   \\frac{\\sum\\limits_{i=0}^t w_i x_{t-i}}{\\sum\\limits_{i=0}^t w_i}$$\n",
    "\n",
    "$x_t$ 는 입력값, $w_i$ 는 적용된 weight (i=0 에서 t 사이로 변할 수 있음). $y_t$ 는 산출된 값입니다."
   ]
  },
  {
   "cell_type": "code",
   "execution_count": 35,
   "metadata": {},
   "outputs": [
    {
     "data": {
      "text/html": [
       "<div>\n",
       "<style scoped>\n",
       "    .dataframe tbody tr th:only-of-type {\n",
       "        vertical-align: middle;\n",
       "    }\n",
       "\n",
       "    .dataframe tbody tr th {\n",
       "        vertical-align: top;\n",
       "    }\n",
       "\n",
       "    .dataframe thead th {\n",
       "        text-align: right;\n",
       "    }\n",
       "</style>\n",
       "<table border=\"1\" class=\"dataframe\">\n",
       "  <thead>\n",
       "    <tr style=\"text-align: right;\">\n",
       "      <th></th>\n",
       "      <th>Close</th>\n",
       "      <th>SMA6</th>\n",
       "      <th>SMA12</th>\n",
       "      <th>EWMA12</th>\n",
       "    </tr>\n",
       "    <tr>\n",
       "      <th>Date</th>\n",
       "      <th></th>\n",
       "      <th></th>\n",
       "      <th></th>\n",
       "      <th></th>\n",
       "    </tr>\n",
       "  </thead>\n",
       "  <tbody>\n",
       "    <tr>\n",
       "      <th>2020-06-23</th>\n",
       "      <td>91.632500</td>\n",
       "      <td>88.771666</td>\n",
       "      <td>87.052082</td>\n",
       "      <td>87.036708</td>\n",
       "    </tr>\n",
       "    <tr>\n",
       "      <th>2020-06-24</th>\n",
       "      <td>90.014999</td>\n",
       "      <td>89.104167</td>\n",
       "      <td>87.606249</td>\n",
       "      <td>87.494907</td>\n",
       "    </tr>\n",
       "    <tr>\n",
       "      <th>2020-06-25</th>\n",
       "      <td>91.209999</td>\n",
       "      <td>89.656250</td>\n",
       "      <td>88.040624</td>\n",
       "      <td>88.066459</td>\n",
       "    </tr>\n",
       "    <tr>\n",
       "      <th>2020-06-26</th>\n",
       "      <td>88.407501</td>\n",
       "      <td>89.735416</td>\n",
       "      <td>88.057082</td>\n",
       "      <td>88.118927</td>\n",
       "    </tr>\n",
       "    <tr>\n",
       "      <th>2020-06-29</th>\n",
       "      <td>90.445000</td>\n",
       "      <td>90.237916</td>\n",
       "      <td>88.596249</td>\n",
       "      <td>88.476785</td>\n",
       "    </tr>\n",
       "  </tbody>\n",
       "</table>\n",
       "</div>"
      ],
      "text/plain": [
       "                Close       SMA6      SMA12     EWMA12\n",
       "Date                                                  \n",
       "2020-06-23  91.632500  88.771666  87.052082  87.036708\n",
       "2020-06-24  90.014999  89.104167  87.606249  87.494907\n",
       "2020-06-25  91.209999  89.656250  88.040624  88.066459\n",
       "2020-06-26  88.407501  89.735416  88.057082  88.118927\n",
       "2020-06-29  90.445000  90.237916  88.596249  88.476785"
      ]
     },
     "execution_count": 35,
     "metadata": {},
     "output_type": "execute_result"
    }
   ],
   "source": [
    "df['EWMA12'] = df['Close'].ewm(span=12).mean()\n",
    "df.tail()"
   ]
  },
  {
   "cell_type": "code",
   "execution_count": 40,
   "metadata": {},
   "outputs": [
    {
     "data": {
      "text/plain": [
       "<AxesSubplot:xlabel='Date'>"
      ]
     },
     "execution_count": 40,
     "metadata": {},
     "output_type": "execute_result"
    },
    {
     "data": {
      "image/png": "[encoded data removed]",
      "text/plain": [
       "<Figure size 864x432 with 1 Axes>"
      ]
     },
     "metadata": {
      "needs_background": "light"
     },
     "output_type": "display_data"
    }
   ],
   "source": [
    "df[['Close', 'EWMA12', 'SMA12']].plot(figsize=(12, 6))"
   ]
  },
  {
   "cell_type": "markdown",
   "metadata": {},
   "source": [
    "# 이동평균선을 이용한 Simple trading strategy \n",
    "\n",
    "- fast signal (단기 이동평균) 이 slow signal (장기 이동평균)위에 있으면 1 주 보유, 아래에 있으면 0 주 보유 전략  \n",
    "- 종가에 매수, 매도 한다고 가정. 거래비용 없다고 가정.\n",
    "\n",
    "- MA10 > MA50 : 1 주 보유 (매수 or hold), MA10 < MA40 : 0 주 보유 (매도 or no action)  \n",
    " \n",
    "- Daily Profit 계산\n",
    "\n",
    "- 누적 수익 계산"
   ]
  },
  {
   "cell_type": "code",
   "execution_count": 41,
   "metadata": {},
   "outputs": [
    {
     "data": {
      "text/html": [
       "<div>\n",
       "<style scoped>\n",
       "    .dataframe tbody tr th:only-of-type {\n",
       "        vertical-align: middle;\n",
       "    }\n",
       "\n",
       "    .dataframe tbody tr th {\n",
       "        vertical-align: top;\n",
       "    }\n",
       "\n",
       "    .dataframe thead th {\n",
       "        text-align: right;\n",
       "    }\n",
       "</style>\n",
       "<table border=\"1\" class=\"dataframe\">\n",
       "  <thead>\n",
       "    <tr style=\"text-align: right;\">\n",
       "      <th></th>\n",
       "      <th>Close</th>\n",
       "      <th>Yesterday Close</th>\n",
       "      <th>Price Difference</th>\n",
       "      <th>Return</th>\n",
       "      <th>MA10</th>\n",
       "      <th>MA50</th>\n",
       "      <th>Shares</th>\n",
       "    </tr>\n",
       "    <tr>\n",
       "      <th>Date</th>\n",
       "      <th></th>\n",
       "      <th></th>\n",
       "      <th></th>\n",
       "      <th></th>\n",
       "      <th></th>\n",
       "      <th></th>\n",
       "      <th></th>\n",
       "    </tr>\n",
       "  </thead>\n",
       "  <tbody>\n",
       "    <tr>\n",
       "      <th>2017-04-24</th>\n",
       "      <td>67.529999</td>\n",
       "      <td>NaN</td>\n",
       "      <td>NaN</td>\n",
       "      <td>NaN</td>\n",
       "      <td>NaN</td>\n",
       "      <td>NaN</td>\n",
       "      <td>0</td>\n",
       "    </tr>\n",
       "    <tr>\n",
       "      <th>2017-04-25</th>\n",
       "      <td>67.919998</td>\n",
       "      <td>67.529999</td>\n",
       "      <td>0.389999</td>\n",
       "      <td>0.005775</td>\n",
       "      <td>NaN</td>\n",
       "      <td>NaN</td>\n",
       "      <td>0</td>\n",
       "    </tr>\n",
       "    <tr>\n",
       "      <th>2017-04-26</th>\n",
       "      <td>67.830002</td>\n",
       "      <td>67.919998</td>\n",
       "      <td>-0.089996</td>\n",
       "      <td>-0.001325</td>\n",
       "      <td>NaN</td>\n",
       "      <td>NaN</td>\n",
       "      <td>0</td>\n",
       "    </tr>\n",
       "    <tr>\n",
       "      <th>2017-04-27</th>\n",
       "      <td>68.269997</td>\n",
       "      <td>67.830002</td>\n",
       "      <td>0.439995</td>\n",
       "      <td>0.006487</td>\n",
       "      <td>NaN</td>\n",
       "      <td>NaN</td>\n",
       "      <td>0</td>\n",
       "    </tr>\n",
       "    <tr>\n",
       "      <th>2017-04-28</th>\n",
       "      <td>68.459999</td>\n",
       "      <td>68.269997</td>\n",
       "      <td>0.190002</td>\n",
       "      <td>0.002783</td>\n",
       "      <td>NaN</td>\n",
       "      <td>NaN</td>\n",
       "      <td>0</td>\n",
       "    </tr>\n",
       "  </tbody>\n",
       "</table>\n",
       "</div>"
      ],
      "text/plain": [
       "                Close  Yesterday Close  Price Difference    Return  MA10  \\\n",
       "Date                                                                       \n",
       "2017-04-24  67.529999              NaN               NaN       NaN   NaN   \n",
       "2017-04-25  67.919998        67.529999          0.389999  0.005775   NaN   \n",
       "2017-04-26  67.830002        67.919998         -0.089996 -0.001325   NaN   \n",
       "2017-04-27  68.269997        67.830002          0.439995  0.006487   NaN   \n",
       "2017-04-28  68.459999        68.269997          0.190002  0.002783   NaN   \n",
       "\n",
       "            MA50  Shares  \n",
       "Date                      \n",
       "2017-04-24   NaN       0  \n",
       "2017-04-25   NaN       0  \n",
       "2017-04-26   NaN       0  \n",
       "2017-04-27   NaN       0  \n",
       "2017-04-28   NaN       0  "
      ]
     },
     "execution_count": 41,
     "metadata": {},
     "output_type": "execute_result"
    }
   ],
   "source": [
    "ms['MA10'] = ms['Close'].rolling(10).mean()\n",
    "ms['MA50'] = ms['Close'].rolling(50).mean()\n",
    "ms['Shares'] = [1 if ms.loc[day, 'MA10'] > ms.loc[day, 'MA50'] else 0 for day in ms.index]\n",
    "ms.head()"
   ]
  },
  {
   "cell_type": "code",
   "execution_count": 42,
   "metadata": {},
   "outputs": [
    {
     "data": {
      "text/html": [
       "<div>\n",
       "<style scoped>\n",
       "    .dataframe tbody tr th:only-of-type {\n",
       "        vertical-align: middle;\n",
       "    }\n",
       "\n",
       "    .dataframe tbody tr th {\n",
       "        vertical-align: top;\n",
       "    }\n",
       "\n",
       "    .dataframe thead th {\n",
       "        text-align: right;\n",
       "    }\n",
       "</style>\n",
       "<table border=\"1\" class=\"dataframe\">\n",
       "  <thead>\n",
       "    <tr style=\"text-align: right;\">\n",
       "      <th></th>\n",
       "      <th>Close</th>\n",
       "      <th>Yesterday Close</th>\n",
       "      <th>Price Difference</th>\n",
       "      <th>Return</th>\n",
       "      <th>MA10</th>\n",
       "      <th>MA50</th>\n",
       "      <th>Shares</th>\n",
       "      <th>NextDay Close</th>\n",
       "    </tr>\n",
       "    <tr>\n",
       "      <th>Date</th>\n",
       "      <th></th>\n",
       "      <th></th>\n",
       "      <th></th>\n",
       "      <th></th>\n",
       "      <th></th>\n",
       "      <th></th>\n",
       "      <th></th>\n",
       "      <th></th>\n",
       "    </tr>\n",
       "  </thead>\n",
       "  <tbody>\n",
       "    <tr>\n",
       "      <th>2017-04-24</th>\n",
       "      <td>67.529999</td>\n",
       "      <td>NaN</td>\n",
       "      <td>NaN</td>\n",
       "      <td>NaN</td>\n",
       "      <td>NaN</td>\n",
       "      <td>NaN</td>\n",
       "      <td>0</td>\n",
       "      <td>67.919998</td>\n",
       "    </tr>\n",
       "    <tr>\n",
       "      <th>2017-04-25</th>\n",
       "      <td>67.919998</td>\n",
       "      <td>67.529999</td>\n",
       "      <td>0.389999</td>\n",
       "      <td>0.005775</td>\n",
       "      <td>NaN</td>\n",
       "      <td>NaN</td>\n",
       "      <td>0</td>\n",
       "      <td>67.830002</td>\n",
       "    </tr>\n",
       "    <tr>\n",
       "      <th>2017-04-26</th>\n",
       "      <td>67.830002</td>\n",
       "      <td>67.919998</td>\n",
       "      <td>-0.089996</td>\n",
       "      <td>-0.001325</td>\n",
       "      <td>NaN</td>\n",
       "      <td>NaN</td>\n",
       "      <td>0</td>\n",
       "      <td>68.269997</td>\n",
       "    </tr>\n",
       "    <tr>\n",
       "      <th>2017-04-27</th>\n",
       "      <td>68.269997</td>\n",
       "      <td>67.830002</td>\n",
       "      <td>0.439995</td>\n",
       "      <td>0.006487</td>\n",
       "      <td>NaN</td>\n",
       "      <td>NaN</td>\n",
       "      <td>0</td>\n",
       "      <td>68.459999</td>\n",
       "    </tr>\n",
       "    <tr>\n",
       "      <th>2017-04-28</th>\n",
       "      <td>68.459999</td>\n",
       "      <td>68.269997</td>\n",
       "      <td>0.190002</td>\n",
       "      <td>0.002783</td>\n",
       "      <td>NaN</td>\n",
       "      <td>NaN</td>\n",
       "      <td>0</td>\n",
       "      <td>69.410004</td>\n",
       "    </tr>\n",
       "  </tbody>\n",
       "</table>\n",
       "</div>"
      ],
      "text/plain": [
       "                Close  Yesterday Close  Price Difference    Return  MA10  \\\n",
       "Date                                                                       \n",
       "2017-04-24  67.529999              NaN               NaN       NaN   NaN   \n",
       "2017-04-25  67.919998        67.529999          0.389999  0.005775   NaN   \n",
       "2017-04-26  67.830002        67.919998         -0.089996 -0.001325   NaN   \n",
       "2017-04-27  68.269997        67.830002          0.439995  0.006487   NaN   \n",
       "2017-04-28  68.459999        68.269997          0.190002  0.002783   NaN   \n",
       "\n",
       "            MA50  Shares  NextDay Close  \n",
       "Date                                     \n",
       "2017-04-24   NaN       0      67.919998  \n",
       "2017-04-25   NaN       0      67.830002  \n",
       "2017-04-26   NaN       0      68.269997  \n",
       "2017-04-27   NaN       0      68.459999  \n",
       "2017-04-28   NaN       0      69.410004  "
      ]
     },
     "execution_count": 42,
     "metadata": {},
     "output_type": "execute_result"
    }
   ],
   "source": [
    "ms['NextDay Close'] = ms['Close'].shift(-1)\n",
    "ms.head()"
   ]
  },
  {
   "cell_type": "code",
   "execution_count": 57,
   "metadata": {},
   "outputs": [
    {
     "data": {
      "text/plain": [
       "<AxesSubplot:xlabel='Date'>"
      ]
     },
     "execution_count": 57,
     "metadata": {},
     "output_type": "execute_result"
    },
    {
     "data": {
      "image/png": "[encoded data removed]",
      "text/plain": [
       "<Figure size 864x432 with 1 Axes>"
      ]
     },
     "metadata": {
      "needs_background": "light"
     },
     "output_type": "display_data"
    }
   ],
   "source": [
    "ms[['MA10', 'MA50']].plot(figsize=(12, 6))"
   ]
  },
  {
   "cell_type": "markdown",
   "metadata": {},
   "source": [
    "## Daily Profit"
   ]
  },
  {
   "cell_type": "code",
   "execution_count": 58,
   "metadata": {},
   "outputs": [
    {
     "data": {
      "text/html": [
       "<div>\n",
       "<style scoped>\n",
       "    .dataframe tbody tr th:only-of-type {\n",
       "        vertical-align: middle;\n",
       "    }\n",
       "\n",
       "    .dataframe tbody tr th {\n",
       "        vertical-align: top;\n",
       "    }\n",
       "\n",
       "    .dataframe thead th {\n",
       "        text-align: right;\n",
       "    }\n",
       "</style>\n",
       "<table border=\"1\" class=\"dataframe\">\n",
       "  <thead>\n",
       "    <tr style=\"text-align: right;\">\n",
       "      <th></th>\n",
       "      <th>Close</th>\n",
       "      <th>Yesterday Close</th>\n",
       "      <th>Price Difference</th>\n",
       "      <th>Return</th>\n",
       "      <th>MA10</th>\n",
       "      <th>MA50</th>\n",
       "      <th>Shares</th>\n",
       "      <th>NextDay Close</th>\n",
       "      <th>Profit</th>\n",
       "      <th>wealth</th>\n",
       "    </tr>\n",
       "    <tr>\n",
       "      <th>Date</th>\n",
       "      <th></th>\n",
       "      <th></th>\n",
       "      <th></th>\n",
       "      <th></th>\n",
       "      <th></th>\n",
       "      <th></th>\n",
       "      <th></th>\n",
       "      <th></th>\n",
       "      <th></th>\n",
       "      <th></th>\n",
       "    </tr>\n",
       "  </thead>\n",
       "  <tbody>\n",
       "    <tr>\n",
       "      <th>2017-09-14</th>\n",
       "      <td>74.769997</td>\n",
       "      <td>75.209999</td>\n",
       "      <td>-0.440002</td>\n",
       "      <td>-0.005850</td>\n",
       "      <td>74.346</td>\n",
       "      <td>72.928801</td>\n",
       "      <td>1</td>\n",
       "      <td>75.309998</td>\n",
       "      <td>0.540001</td>\n",
       "      <td>2.930000</td>\n",
       "    </tr>\n",
       "    <tr>\n",
       "      <th>2017-09-15</th>\n",
       "      <td>75.309998</td>\n",
       "      <td>74.769997</td>\n",
       "      <td>0.540001</td>\n",
       "      <td>0.007222</td>\n",
       "      <td>74.400</td>\n",
       "      <td>73.063601</td>\n",
       "      <td>1</td>\n",
       "      <td>75.160004</td>\n",
       "      <td>-0.149994</td>\n",
       "      <td>2.780006</td>\n",
       "    </tr>\n",
       "    <tr>\n",
       "      <th>2017-09-18</th>\n",
       "      <td>75.160004</td>\n",
       "      <td>75.309998</td>\n",
       "      <td>-0.149994</td>\n",
       "      <td>-0.001992</td>\n",
       "      <td>74.522</td>\n",
       "      <td>73.177601</td>\n",
       "      <td>1</td>\n",
       "      <td>75.440002</td>\n",
       "      <td>0.279999</td>\n",
       "      <td>3.060005</td>\n",
       "    </tr>\n",
       "    <tr>\n",
       "      <th>2017-09-19</th>\n",
       "      <td>75.440002</td>\n",
       "      <td>75.160004</td>\n",
       "      <td>0.279999</td>\n",
       "      <td>0.003725</td>\n",
       "      <td>74.705</td>\n",
       "      <td>73.286801</td>\n",
       "      <td>1</td>\n",
       "      <td>74.940002</td>\n",
       "      <td>-0.500000</td>\n",
       "      <td>2.560005</td>\n",
       "    </tr>\n",
       "    <tr>\n",
       "      <th>2017-09-20</th>\n",
       "      <td>74.940002</td>\n",
       "      <td>75.440002</td>\n",
       "      <td>-0.500000</td>\n",
       "      <td>-0.006628</td>\n",
       "      <td>74.859</td>\n",
       "      <td>73.385801</td>\n",
       "      <td>1</td>\n",
       "      <td>74.209999</td>\n",
       "      <td>-0.730003</td>\n",
       "      <td>1.830002</td>\n",
       "    </tr>\n",
       "  </tbody>\n",
       "</table>\n",
       "</div>"
      ],
      "text/plain": [
       "                Close  Yesterday Close  Price Difference    Return    MA10  \\\n",
       "Date                                                                         \n",
       "2017-09-14  74.769997        75.209999         -0.440002 -0.005850  74.346   \n",
       "2017-09-15  75.309998        74.769997          0.540001  0.007222  74.400   \n",
       "2017-09-18  75.160004        75.309998         -0.149994 -0.001992  74.522   \n",
       "2017-09-19  75.440002        75.160004          0.279999  0.003725  74.705   \n",
       "2017-09-20  74.940002        75.440002         -0.500000 -0.006628  74.859   \n",
       "\n",
       "                 MA50  Shares  NextDay Close    Profit    wealth  \n",
       "Date                                                              \n",
       "2017-09-14  72.928801       1      75.309998  0.540001  2.930000  \n",
       "2017-09-15  73.063601       1      75.160004 -0.149994  2.780006  \n",
       "2017-09-18  73.177601       1      75.440002  0.279999  3.060005  \n",
       "2017-09-19  73.286801       1      74.940002 -0.500000  2.560005  \n",
       "2017-09-20  73.385801       1      74.209999 -0.730003  1.830002  "
      ]
     },
     "execution_count": 58,
     "metadata": {},
     "output_type": "execute_result"
    }
   ],
   "source": [
    "# Daily Profit 계산\n",
    "ms['Profit'] = [ms.loc[day, 'NextDay Close'] - ms.loc[day, 'Close'] \n",
    "                if ms.loc[day, 'Shares'] == 1 else 0 for day in ms.index]\n",
    "\n",
    "ms.iloc[100:105]"
   ]
  },
  {
   "cell_type": "code",
   "execution_count": 59,
   "metadata": {},
   "outputs": [
    {
     "data": {
      "text/plain": [
       "<matplotlib.lines.Line2D at 0x1b56240c1c0>"
      ]
     },
     "execution_count": 59,
     "metadata": {},
     "output_type": "execute_result"
    },
    {
     "data": {
      "image/png": "[encoded data removed]",
      "text/plain": [
       "<Figure size 432x288 with 1 Axes>"
      ]
     },
     "metadata": {
      "needs_background": "light"
     },
     "output_type": "display_data"
    }
   ],
   "source": [
    "# red line 위쪽은 make money 아래는 lose money\n",
    "ms['Profit'].plot()\n",
    "plt.axhline(y=0, color='r')  "
   ]
  },
  {
   "cell_type": "markdown",
   "metadata": {},
   "source": [
    "## 누적 수익"
   ]
  },
  {
   "cell_type": "code",
   "execution_count": 60,
   "metadata": {},
   "outputs": [
    {
     "data": {
      "text/html": [
       "<div>\n",
       "<style scoped>\n",
       "    .dataframe tbody tr th:only-of-type {\n",
       "        vertical-align: middle;\n",
       "    }\n",
       "\n",
       "    .dataframe tbody tr th {\n",
       "        vertical-align: top;\n",
       "    }\n",
       "\n",
       "    .dataframe thead th {\n",
       "        text-align: right;\n",
       "    }\n",
       "</style>\n",
       "<table border=\"1\" class=\"dataframe\">\n",
       "  <thead>\n",
       "    <tr style=\"text-align: right;\">\n",
       "      <th></th>\n",
       "      <th>Close</th>\n",
       "      <th>Yesterday Close</th>\n",
       "      <th>Price Difference</th>\n",
       "      <th>Return</th>\n",
       "      <th>MA10</th>\n",
       "      <th>MA50</th>\n",
       "      <th>Shares</th>\n",
       "      <th>NextDay Close</th>\n",
       "      <th>Profit</th>\n",
       "      <th>wealth</th>\n",
       "    </tr>\n",
       "    <tr>\n",
       "      <th>Date</th>\n",
       "      <th></th>\n",
       "      <th></th>\n",
       "      <th></th>\n",
       "      <th></th>\n",
       "      <th></th>\n",
       "      <th></th>\n",
       "      <th></th>\n",
       "      <th></th>\n",
       "      <th></th>\n",
       "      <th></th>\n",
       "    </tr>\n",
       "  </thead>\n",
       "  <tbody>\n",
       "    <tr>\n",
       "      <th>2022-04-18</th>\n",
       "      <td>280.519989</td>\n",
       "      <td>279.829987</td>\n",
       "      <td>0.690002</td>\n",
       "      <td>0.002466</td>\n",
       "      <td>293.897998</td>\n",
       "      <td>296.060601</td>\n",
       "      <td>0</td>\n",
       "      <td>285.299988</td>\n",
       "      <td>0.0</td>\n",
       "      <td>82.969994</td>\n",
       "    </tr>\n",
       "    <tr>\n",
       "      <th>2022-04-19</th>\n",
       "      <td>285.299988</td>\n",
       "      <td>280.519989</td>\n",
       "      <td>4.779999</td>\n",
       "      <td>0.017040</td>\n",
       "      <td>290.930997</td>\n",
       "      <td>295.647800</td>\n",
       "      <td>0</td>\n",
       "      <td>286.359985</td>\n",
       "      <td>0.0</td>\n",
       "      <td>82.969994</td>\n",
       "    </tr>\n",
       "    <tr>\n",
       "      <th>2022-04-20</th>\n",
       "      <td>286.359985</td>\n",
       "      <td>285.299988</td>\n",
       "      <td>1.059998</td>\n",
       "      <td>0.003715</td>\n",
       "      <td>288.478995</td>\n",
       "      <td>295.356000</td>\n",
       "      <td>0</td>\n",
       "      <td>280.809998</td>\n",
       "      <td>0.0</td>\n",
       "      <td>82.969994</td>\n",
       "    </tr>\n",
       "    <tr>\n",
       "      <th>2022-04-21</th>\n",
       "      <td>280.809998</td>\n",
       "      <td>286.359985</td>\n",
       "      <td>-5.549988</td>\n",
       "      <td>-0.019381</td>\n",
       "      <td>286.609995</td>\n",
       "      <td>294.881000</td>\n",
       "      <td>0</td>\n",
       "      <td>274.029999</td>\n",
       "      <td>0.0</td>\n",
       "      <td>82.969994</td>\n",
       "    </tr>\n",
       "    <tr>\n",
       "      <th>2022-04-22</th>\n",
       "      <td>274.029999</td>\n",
       "      <td>280.809998</td>\n",
       "      <td>-6.779999</td>\n",
       "      <td>-0.024144</td>\n",
       "      <td>283.875995</td>\n",
       "      <td>294.137400</td>\n",
       "      <td>0</td>\n",
       "      <td>NaN</td>\n",
       "      <td>0.0</td>\n",
       "      <td>82.969994</td>\n",
       "    </tr>\n",
       "  </tbody>\n",
       "</table>\n",
       "</div>"
      ],
      "text/plain": [
       "                 Close  Yesterday Close  Price Difference    Return  \\\n",
       "Date                                                                  \n",
       "2022-04-18  280.519989       279.829987          0.690002  0.002466   \n",
       "2022-04-19  285.299988       280.519989          4.779999  0.017040   \n",
       "2022-04-20  286.359985       285.299988          1.059998  0.003715   \n",
       "2022-04-21  280.809998       286.359985         -5.549988 -0.019381   \n",
       "2022-04-22  274.029999       280.809998         -6.779999 -0.024144   \n",
       "\n",
       "                  MA10        MA50  Shares  NextDay Close  Profit     wealth  \n",
       "Date                                                                          \n",
       "2022-04-18  293.897998  296.060601       0     285.299988     0.0  82.969994  \n",
       "2022-04-19  290.930997  295.647800       0     286.359985     0.0  82.969994  \n",
       "2022-04-20  288.478995  295.356000       0     280.809998     0.0  82.969994  \n",
       "2022-04-21  286.609995  294.881000       0     274.029999     0.0  82.969994  \n",
       "2022-04-22  283.875995  294.137400       0            NaN     0.0  82.969994  "
      ]
     },
     "execution_count": 60,
     "metadata": {},
     "output_type": "execute_result"
    }
   ],
   "source": [
    "ms['wealth'] = ms['Profit'].cumsum()\n",
    "ms.tail()"
   ]
  },
  {
   "cell_type": "code",
   "execution_count": 61,
   "metadata": {},
   "outputs": [
    {
     "name": "stdout",
     "output_type": "stream",
     "text": [
      "이 전략으로 1825일 동안 번 수익 : 82.97 \n"
     ]
    },
    {
     "data": {
      "text/plain": [
       "<AxesSubplot:xlabel='Date'>"
      ]
     },
     "execution_count": 61,
     "metadata": {},
     "output_type": "execute_result"
    },
    {
     "data": {
      "image/png": "[encoded data removed]",
      "text/plain": [
       "<Figure size 864x432 with 1 Axes>"
      ]
     },
     "metadata": {
      "needs_background": "light"
     },
     "output_type": "display_data"
    }
   ],
   "source": [
    "n_days = len(pd.date_range(ms.index[0], ms.index[-1]))\n",
    "\n",
    "print(f\"이 전략으로 {n_days}일 동안 번 수익 : {ms.loc[ms.index[-2], 'wealth']:.2f} \")\n",
    "\n",
    "plt.figure(figsize=(12, 6))\n",
    "ms['wealth'].plot()"
   ]
  },
  {
   "cell_type": "code",
   "execution_count": null,
   "metadata": {},
   "outputs": [],
   "source": []
  }
 ],
 "metadata": {
  "kernelspec": {
   "display_name": "Python 3",
   "language": "python",
   "name": "python3"
  },
  "language_info": {
   "codemirror_mode": {
    "name": "ipython",
    "version": 3
   },
   "file_extension": ".py",
   "mimetype": "text/x-python",
   "name": "python",
   "nbconvert_exporter": "python",
   "pygments_lexer": "ipython3",
   "version": "3.9.7"
  }
 },
 "nbformat": 4,
 "nbformat_minor": 2
}
