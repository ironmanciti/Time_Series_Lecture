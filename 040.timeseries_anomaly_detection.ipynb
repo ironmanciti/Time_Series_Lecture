{
 "cells": [
  {
   "cell_type": "markdown",
   "metadata": {
    "id": "2d0vFkTRGmo9"
   },
   "source": [
    "# Autoencoder를 이용한 시계열 이상 감지\n",
    "\n",
    "이 스크립트는 재구성 컨볼루션 오토인코더(reconstruction convolutional autoencoder) 모델을 사용하여 시계열 데이터의 이상(anomaly)을 감지하는 방법을 보여줍니다."
   ]
  },
  {
   "cell_type": "code",
   "execution_count": 2,
   "metadata": {
    "id": "cga7S9zZGmpB"
   },
   "outputs": [],
   "source": [
    "import numpy as np\n",
    "import pandas as pd\n",
    "from tensorflow import keras\n",
    "from tensorflow.keras import layers\n",
    "from matplotlib import pyplot as plt"
   ]
  },
  {
   "cell_type": "markdown",
   "metadata": {
    "id": "JmQDu7iUGmpC"
   },
   "source": [
    "## Load the data\n",
    "\n",
    "[Numenta Anomaly Benchmark(NAB)](\n",
    "https://www.kaggle.com/boltzmannbrain/nab) 데이터 세트를 사용합니다. 이 데이터세트는 레이블이 지정된 비정상적인 동작 기간이 포함된 인공 시계열 데이터를 제공합니다. 데이터는 순서가 있는 타임스탬프가 지정된 단일 값 메트릭입니다.\n",
    "\n",
    "훈련에는 anomaly가 없는 `art_daily_small_noise.csv` 파일을 사용하고 테스트에는 인공 anomaly가 있는 `art_daily_jumpsup.csv` 파일을 사용합니다. 이 데이터 세트의 단순성 덕분에 이상 탐지를 효과적으로 시연할 수 있습니다."
   ]
  },
  {
   "cell_type": "code",
   "execution_count": 4,
   "metadata": {
    "colab": {
     "base_uri": "https://localhost:8080/"
    },
    "id": "5nSaburxGmpC",
    "outputId": "e0853eea-a473-4a58-de52-07c12817839d"
   },
   "outputs": [
    {
     "name": "stdout",
     "output_type": "stream",
     "text": [
      "(4032, 1)\n",
      "(4032, 1)\n"
     ]
    }
   ],
   "source": [
    "master_url_root = \"https://raw.githubusercontent.com/numenta/NAB/master/data/\"\n",
    "#for train\n",
    "df_small_noise_url_suffix = \"artificialNoAnomaly/art_daily_small_noise.csv\"\n",
    "df_small_noise_url = master_url_root + df_small_noise_url_suffix\n",
    "df_small_noise = pd.read_csv(\n",
    "    df_small_noise_url, parse_dates=True, index_col=\"timestamp\"\n",
    ")\n",
    "# for test\n",
    "df_daily_jumpsup_url_suffix = \"artificialWithAnomaly/art_daily_jumpsup.csv\"\n",
    "df_daily_jumpsup_url = master_url_root + df_daily_jumpsup_url_suffix\n",
    "df_daily_jumpsup = pd.read_csv(\n",
    "    df_daily_jumpsup_url, parse_dates=True, index_col=\"timestamp\"\n",
    ")\n",
    "\n",
    "print(df_small_noise.shape)\n",
    "print(df_daily_jumpsup.shape)"
   ]
  },
  {
   "cell_type": "code",
   "execution_count": 5,
   "metadata": {
    "colab": {
     "base_uri": "https://localhost:8080/",
     "height": 237
    },
    "id": "tDVGXrXjGmpE",
    "outputId": "e4bb407a-35b0-4b14-a7c5-b17506ae7a53"
   },
   "outputs": [
    {
     "data": {
      "text/html": [
       "<div>\n",
       "<style scoped>\n",
       "    .dataframe tbody tr th:only-of-type {\n",
       "        vertical-align: middle;\n",
       "    }\n",
       "\n",
       "    .dataframe tbody tr th {\n",
       "        vertical-align: top;\n",
       "    }\n",
       "\n",
       "    .dataframe thead th {\n",
       "        text-align: right;\n",
       "    }\n",
       "</style>\n",
       "<table border=\"1\" class=\"dataframe\">\n",
       "  <thead>\n",
       "    <tr style=\"text-align: right;\">\n",
       "      <th></th>\n",
       "      <th>value</th>\n",
       "    </tr>\n",
       "    <tr>\n",
       "      <th>timestamp</th>\n",
       "      <th></th>\n",
       "    </tr>\n",
       "  </thead>\n",
       "  <tbody>\n",
       "    <tr>\n",
       "      <th>2014-04-01 00:00:00</th>\n",
       "      <td>18.324919</td>\n",
       "    </tr>\n",
       "    <tr>\n",
       "      <th>2014-04-01 00:05:00</th>\n",
       "      <td>21.970327</td>\n",
       "    </tr>\n",
       "    <tr>\n",
       "      <th>2014-04-01 00:10:00</th>\n",
       "      <td>18.624806</td>\n",
       "    </tr>\n",
       "    <tr>\n",
       "      <th>2014-04-01 00:15:00</th>\n",
       "      <td>21.953684</td>\n",
       "    </tr>\n",
       "    <tr>\n",
       "      <th>2014-04-01 00:20:00</th>\n",
       "      <td>21.909120</td>\n",
       "    </tr>\n",
       "  </tbody>\n",
       "</table>\n",
       "</div>"
      ],
      "text/plain": [
       "                         value\n",
       "timestamp                     \n",
       "2014-04-01 00:00:00  18.324919\n",
       "2014-04-01 00:05:00  21.970327\n",
       "2014-04-01 00:10:00  18.624806\n",
       "2014-04-01 00:15:00  21.953684\n",
       "2014-04-01 00:20:00  21.909120"
      ]
     },
     "execution_count": 5,
     "metadata": {},
     "output_type": "execute_result"
    }
   ],
   "source": [
    "df_small_noise.head()"
   ]
  },
  {
   "cell_type": "code",
   "execution_count": 7,
   "metadata": {
    "colab": {
     "base_uri": "https://localhost:8080/",
     "height": 237
    },
    "id": "Ygwev-BHCxOj",
    "outputId": "880bc274-0063-4b67-e966-2e6318e5c423"
   },
   "outputs": [
    {
     "data": {
      "text/html": [
       "<div>\n",
       "<style scoped>\n",
       "    .dataframe tbody tr th:only-of-type {\n",
       "        vertical-align: middle;\n",
       "    }\n",
       "\n",
       "    .dataframe tbody tr th {\n",
       "        vertical-align: top;\n",
       "    }\n",
       "\n",
       "    .dataframe thead th {\n",
       "        text-align: right;\n",
       "    }\n",
       "</style>\n",
       "<table border=\"1\" class=\"dataframe\">\n",
       "  <thead>\n",
       "    <tr style=\"text-align: right;\">\n",
       "      <th></th>\n",
       "      <th>value</th>\n",
       "    </tr>\n",
       "    <tr>\n",
       "      <th>timestamp</th>\n",
       "      <th></th>\n",
       "    </tr>\n",
       "  </thead>\n",
       "  <tbody>\n",
       "    <tr>\n",
       "      <th>2014-04-01 00:00:00</th>\n",
       "      <td>19.761252</td>\n",
       "    </tr>\n",
       "    <tr>\n",
       "      <th>2014-04-01 00:05:00</th>\n",
       "      <td>20.500833</td>\n",
       "    </tr>\n",
       "    <tr>\n",
       "      <th>2014-04-01 00:10:00</th>\n",
       "      <td>19.961641</td>\n",
       "    </tr>\n",
       "    <tr>\n",
       "      <th>2014-04-01 00:15:00</th>\n",
       "      <td>21.490266</td>\n",
       "    </tr>\n",
       "    <tr>\n",
       "      <th>2014-04-01 00:20:00</th>\n",
       "      <td>20.187739</td>\n",
       "    </tr>\n",
       "  </tbody>\n",
       "</table>\n",
       "</div>"
      ],
      "text/plain": [
       "                         value\n",
       "timestamp                     \n",
       "2014-04-01 00:00:00  19.761252\n",
       "2014-04-01 00:05:00  20.500833\n",
       "2014-04-01 00:10:00  19.961641\n",
       "2014-04-01 00:15:00  21.490266\n",
       "2014-04-01 00:20:00  20.187739"
      ]
     },
     "execution_count": 7,
     "metadata": {},
     "output_type": "execute_result"
    }
   ],
   "source": [
    "df_daily_jumpsup.head()"
   ]
  },
  {
   "cell_type": "markdown",
   "metadata": {
    "id": "2aLPDdMcGmpE"
   },
   "source": [
    "## data 시각화\n",
    "### 이상이 없는 시계열 데이터\n",
    "훈련을 위해 다음 데이터를 사용할 것입니다."
   ]
  },
  {
   "cell_type": "code",
   "execution_count": 8,
   "metadata": {
    "colab": {
     "base_uri": "https://localhost:8080/",
     "height": 303
    },
    "id": "jS2cSR2eGmpE",
    "outputId": "250ad5be-9fe4-420a-9de4-799809559b19"
   },
   "outputs": [
    {
     "data": {
      "image/png": "[encoded data removed]",
      "text/plain": [
       "<Figure size 432x288 with 1 Axes>"
      ]
     },
     "metadata": {
      "needs_background": "light"
     },
     "output_type": "display_data"
    }
   ],
   "source": [
    "fig, ax = plt.subplots()\n",
    "df_small_noise.plot(legend=False, ax=ax)\n",
    "plt.show()"
   ]
  },
  {
   "cell_type": "markdown",
   "metadata": {
    "id": "8edLQKXzGmpF"
   },
   "source": [
    "### 이상이 있는 시계열 데이터\n",
    "테스트를 위해 다음 데이터를 사용하고 데이터의 갑작스러운 점프가 이상으로 감지되는지 확인합니다."
   ]
  },
  {
   "cell_type": "code",
   "execution_count": 9,
   "metadata": {
    "colab": {
     "base_uri": "https://localhost:8080/",
     "height": 303
    },
    "id": "a7IECl7wGmpF",
    "outputId": "c91ed9e9-fd02-4818-9a70-26473d4ac60c"
   },
   "outputs": [
    {
     "data": {
      "image/png": "[encoded data removed]",
      "text/plain": [
       "<Figure size 432x288 with 1 Axes>"
      ]
     },
     "metadata": {
      "needs_background": "light"
     },
     "output_type": "display_data"
    }
   ],
   "source": [
    "fig, ax = plt.subplots()\n",
    "df_daily_jumpsup.plot(legend=False, ax=ax)\n",
    "plt.show()"
   ]
  },
  {
   "cell_type": "markdown",
   "metadata": {
    "id": "6ag0HIuEGmpF"
   },
   "source": [
    "## 훈련 데이터 준비\n",
    "\n",
    "훈련 시계열 데이터 파일에서 데이터 값을 가져오고 '값' 데이터를 정규화합니다. 14일 동안 5분마다 '값'이 있습니다.\n",
    "\n",
    "-   24 * 60 / 5 = **288 timesteps per day**\n",
    "-   288 * 14 = total **4032 data points** "
   ]
  },
  {
   "cell_type": "code",
   "execution_count": 10,
   "metadata": {
    "colab": {
     "base_uri": "https://localhost:8080/"
    },
    "id": "9YPerwwpGmpG",
    "outputId": "deb59cf1-0dad-4110-9a69-5c83c7d5133b"
   },
   "outputs": [
    {
     "name": "stdout",
     "output_type": "stream",
     "text": [
      "Number of training samples: 4032\n"
     ]
    }
   ],
   "source": [
    "# Normalize and save the mean and std (test data 정규화에 사용)\n",
    "training_mean = df_small_noise.mean()\n",
    "training_std = df_small_noise.std()\n",
    "df_training_value = (df_small_noise - training_mean) / training_std\n",
    "print(\"Number of training samples:\", len(df_training_value))"
   ]
  },
  {
   "cell_type": "markdown",
   "metadata": {
    "id": "Ow0w88s_GmpG"
   },
   "source": [
    "### 시퀀스 생성\n",
    "훈련 데이터에서 'TIME_STEPS' 연속 데이터 값을 결합하여 시퀀스를 생성했습니다."
   ]
  },
  {
   "cell_type": "code",
   "execution_count": 11,
   "metadata": {
    "colab": {
     "base_uri": "https://localhost:8080/"
    },
    "id": "1Hwsi-lWGmpG",
    "outputId": "f688ade2-66e5-4cd7-ed9f-f28e3296e8a2"
   },
   "outputs": [
    {
     "name": "stdout",
     "output_type": "stream",
     "text": [
      "Training input shape:  (3745, 288, 1)\n"
     ]
    }
   ],
   "source": [
    "TIME_STEPS = 288\n",
    "\n",
    "# Generated training sequences for use in the model.\n",
    "def create_sequences(values, time_steps=TIME_STEPS):\n",
    "    output = []\n",
    "    for i in range(len(values) - time_steps + 1):\n",
    "        output.append(values[i : (i + time_steps)])\n",
    "    return np.stack(output)\n",
    "\n",
    "x_train = create_sequences(df_training_value.values)\n",
    "print(\"Training input shape: \", x_train.shape)"
   ]
  },
  {
   "cell_type": "markdown",
   "metadata": {
    "id": "l6ka7k1IGmpH"
   },
   "source": [
    "## Build a model\n",
    "\n",
    "convolutional reconstruction autoencoder model을 구축합니다. 모델은 `(batch_size, sequence_length, num_features)` shape의 입력을 받고 동일한 shape의 출력을 반환합니다. 이 경우 `sequence_length`는 288이고 `num_features`는 1입니다."
   ]
  },
  {
   "cell_type": "code",
   "execution_count": 12,
   "metadata": {
    "colab": {
     "base_uri": "https://localhost:8080/"
    },
    "id": "ZtnPJh2fGmpH",
    "outputId": "305cddfb-6f00-4428-eecb-2e7a1799dc77"
   },
   "outputs": [
    {
     "name": "stdout",
     "output_type": "stream",
     "text": [
      "Model: \"sequential\"\n",
      "_________________________________________________________________\n",
      " Layer (type)                Output Shape              Param #   \n",
      "=================================================================\n",
      " conv1d (Conv1D)             (None, 144, 32)           256       \n",
      "                                                                 \n",
      " dropout (Dropout)           (None, 144, 32)           0         \n",
      "                                                                 \n",
      " conv1d_1 (Conv1D)           (None, 72, 16)            3600      \n",
      "                                                                 \n",
      " conv1d_transpose (Conv1DTra  (None, 144, 16)          1808      \n",
      " nspose)                                                         \n",
      "                                                                 \n",
      " dropout_1 (Dropout)         (None, 144, 16)           0         \n",
      "                                                                 \n",
      " conv1d_transpose_1 (Conv1DT  (None, 288, 32)          3616      \n",
      " ranspose)                                                       \n",
      "                                                                 \n",
      " conv1d_transpose_2 (Conv1DT  (None, 288, 1)           225       \n",
      " ranspose)                                                       \n",
      "                                                                 \n",
      "=================================================================\n",
      "Total params: 9,505\n",
      "Trainable params: 9,505\n",
      "Non-trainable params: 0\n",
      "_________________________________________________________________\n"
     ]
    }
   ],
   "source": [
    "model = keras.Sequential(\n",
    "    [\n",
    "        layers.Input(shape=(x_train.shape[1], x_train.shape[2])),\n",
    "        layers.Conv1D(\n",
    "            filters=32, kernel_size=7, padding=\"same\", strides=2, activation=\"relu\"\n",
    "        ),\n",
    "        layers.Dropout(rate=0.2),\n",
    "        layers.Conv1D(\n",
    "            filters=16, kernel_size=7, padding=\"same\", strides=2, activation=\"relu\"\n",
    "        ),\n",
    "        layers.Conv1DTranspose(\n",
    "            filters=16, kernel_size=7, padding=\"same\", strides=2, activation=\"relu\"\n",
    "        ),\n",
    "        layers.Dropout(rate=0.2),\n",
    "        layers.Conv1DTranspose(\n",
    "            filters=32, kernel_size=7, padding=\"same\", strides=2, activation=\"relu\"\n",
    "        ),\n",
    "        layers.Conv1DTranspose(filters=1, kernel_size=7, padding=\"same\"),\n",
    "    ]\n",
    ")\n",
    "model.compile(optimizer=keras.optimizers.Adam(learning_rate=0.001), loss=\"mse\")\n",
    "model.summary()"
   ]
  },
  {
   "cell_type": "markdown",
   "metadata": {
    "id": "rz9zSUKqGmpH"
   },
   "source": [
    "## Train the model\n",
    "\n",
    "재구성 모델이기 때문에 입력과 대상 모두로 `x_train`을 사용하고 있습니다."
   ]
  },
  {
   "cell_type": "code",
   "execution_count": null,
   "metadata": {
    "colab": {
     "base_uri": "https://localhost:8080/"
    },
    "id": "X9hA8KQmGmpH",
    "outputId": "85d20908-de3a-4320-a7ee-9d79e0fa3b06"
   },
   "outputs": [],
   "source": [
    "history = model.fit(\n",
    "    x_train,\n",
    "    x_train,\n",
    "    epochs=50,\n",
    "    batch_size=128,\n",
    "    validation_split=0.1,\n",
    "    callbacks=[\n",
    "        keras.callbacks.EarlyStopping(monitor=\"val_loss\", patience=5, mode=\"min\")\n",
    "    ],\n",
    ")"
   ]
  },
  {
   "cell_type": "markdown",
   "metadata": {
    "id": "hVNpzdqiGmpI"
   },
   "source": [
    "훈련이 어떻게 진행되었는지 보기 위해 훈련 및 검증 손실을 플롯해 보겠습니다."
   ]
  },
  {
   "cell_type": "code",
   "execution_count": 14,
   "metadata": {
    "colab": {
     "base_uri": "https://localhost:8080/",
     "height": 265
    },
    "id": "BAEpUQ-kGmpI",
    "outputId": "4743ac9c-6ff0-4d1e-dbc2-9b362c2f1e58"
   },
   "outputs": [
    {
     "data": {
      "image/png": "[encoded data removed]",
      "text/plain": [
       "<Figure size 432x288 with 1 Axes>"
      ]
     },
     "metadata": {
      "needs_background": "light"
     },
     "output_type": "display_data"
    }
   ],
   "source": [
    "plt.plot(history.history[\"loss\"], label=\"Training Loss\")\n",
    "plt.plot(history.history[\"val_loss\"], label=\"Validation Loss\")\n",
    "plt.legend()\n",
    "plt.show()"
   ]
  },
  {
   "cell_type": "markdown",
   "metadata": {
    "id": "tjdwjFhEGmpI"
   },
   "source": [
    "## Detecting anomalies\n",
    "\n",
    "모델이 입력 데이터를 얼마나 잘 재구성할 수 있는지 결정하여 이상을 감지합니다.\n",
    "\n",
    "1. 훈련 샘플에서 MAE loss를 찾습니다.\n",
    "2. 최대 MAE loss 값을 찾습니다. 이것은 우리 모델이 샘플을 재구성하기 위해 수행한 최악의 작업입니다. 우리는 이것을 이상 감지에 대한 '임계값'으로 정합니다.  \n",
    "3. 샘플의 재구성 손실이 이 '임계값' 값보다 크면 모델이 익숙하지 않은 패턴을 보고 있다고 추론할 수 있습니다. 우리는 이 샘플을 '이상(anomaly)'으로 분류할 것입니다.\n"
   ]
  },
  {
   "cell_type": "code",
   "execution_count": 44,
   "metadata": {
    "colab": {
     "base_uri": "https://localhost:8080/",
     "height": 296
    },
    "id": "rdYd7AqnGmpI",
    "outputId": "f3b3a8f5-faa7-452f-e6c6-4c0ded310ce8"
   },
   "outputs": [
    {
     "data": {
      "image/png": "[encoded data removed]",
      "text/plain": [
       "<Figure size 432x288 with 1 Axes>"
      ]
     },
     "metadata": {
      "needs_background": "light"
     },
     "output_type": "display_data"
    },
    {
     "name": "stdout",
     "output_type": "stream",
     "text": [
      "Reconstruction error threshold:  0.10526589160650032\n"
     ]
    }
   ],
   "source": [
    "# Get train MAE loss.\n",
    "x_train_pred = model.predict(x_train)\n",
    "train_mae_loss = np.mean(np.abs(x_train_pred - x_train), axis=1)\n",
    "\n",
    "plt.hist(train_mae_loss, bins=50)\n",
    "plt.xlabel(\"Train MAE loss\")\n",
    "plt.ylabel(\"No of samples\")\n",
    "plt.show()\n",
    "\n",
    "# Get reconstruction loss threshold.\n",
    "threshold = np.max(train_mae_loss)\n",
    "print(\"Reconstruction error threshold: \", threshold)"
   ]
  },
  {
   "cell_type": "markdown",
   "metadata": {
    "id": "UR6Rai9GGmpI"
   },
   "source": [
    "### Compare recontruction\n",
    "\n",
    "우리 모델이 첫 번째 샘플을 어떻게 재구성했는지 시각화해 봅니다.\n",
    "이것은 train dataset day 1 으로 부터  288개 timestep 입니다."
   ]
  },
  {
   "cell_type": "code",
   "execution_count": 45,
   "metadata": {
    "colab": {
     "base_uri": "https://localhost:8080/",
     "height": 265
    },
    "id": "KlrP8hq1GmpI",
    "outputId": "0b612673-7d8d-457a-a0f7-b24c4eb58e67"
   },
   "outputs": [
    {
     "data": {
      "image/png": "[encoded data removed]",
      "text/plain": [
       "<Figure size 432x288 with 1 Axes>"
      ]
     },
     "metadata": {
      "needs_background": "light"
     },
     "output_type": "display_data"
    }
   ],
   "source": [
    "# Checking how the first sequence is learnt\n",
    "plt.plot(x_train[0])\n",
    "plt.plot(x_train_pred[0])\n",
    "plt.show()"
   ]
  },
  {
   "cell_type": "markdown",
   "metadata": {
    "id": "YwBb-nwvGmpJ"
   },
   "source": [
    "### Prepare test data"
   ]
  },
  {
   "cell_type": "code",
   "execution_count": 46,
   "metadata": {
    "colab": {
     "base_uri": "https://localhost:8080/",
     "height": 303
    },
    "id": "AM5lA_F9JfES",
    "outputId": "7ec49a36-6758-40f4-af81-f4f357d830cb"
   },
   "outputs": [
    {
     "data": {
      "image/png": "[encoded data removed]",
      "text/plain": [
       "<Figure size 432x288 with 1 Axes>"
      ]
     },
     "metadata": {
      "needs_background": "light"
     },
     "output_type": "display_data"
    }
   ],
   "source": [
    "# test data 정규화\n",
    "df_test_value = (df_daily_jumpsup - training_mean) / training_std\n",
    "fig, ax = plt.subplots()\n",
    "df_test_value.plot(legend=False, ax=ax)\n",
    "plt.show()"
   ]
  },
  {
   "cell_type": "code",
   "execution_count": 47,
   "metadata": {
    "colab": {
     "base_uri": "https://localhost:8080/"
    },
    "id": "ia_5JGEhJixA",
    "outputId": "7e09ad60-17f1-4207-caac-6613fdb53951"
   },
   "outputs": [
    {
     "name": "stdout",
     "output_type": "stream",
     "text": [
      "Test input shape:  (3745, 288, 1)\n"
     ]
    }
   ],
   "source": [
    "# Create sequences from test values.\n",
    "x_test = create_sequences(df_test_value.values)\n",
    "print(\"Test input shape: \", x_test.shape)"
   ]
  },
  {
   "cell_type": "code",
   "execution_count": 48,
   "metadata": {
    "colab": {
     "base_uri": "https://localhost:8080/",
     "height": 279
    },
    "id": "xvSJhiiWGmpJ",
    "outputId": "2ef86054-9fb2-473c-d03e-55de8ea11417"
   },
   "outputs": [
    {
     "data": {
      "image/png": "[encoded data removed]",
      "text/plain": [
       "<Figure size 432x288 with 1 Axes>"
      ]
     },
     "metadata": {
      "needs_background": "light"
     },
     "output_type": "display_data"
    }
   ],
   "source": [
    "# test MAE loss 계산 및 시각화\n",
    "x_test_pred = model.predict(x_test)\n",
    "test_mae_loss = np.mean(np.abs(x_test_pred - x_test), axis=1)\n",
    "test_mae_loss = test_mae_loss.reshape((-1))\n",
    "\n",
    "plt.hist(test_mae_loss, bins=50)\n",
    "plt.xlabel(\"test MAE loss\")\n",
    "plt.ylabel(\"No of samples\")\n",
    "plt.show()"
   ]
  },
  {
   "cell_type": "code",
   "execution_count": 49,
   "metadata": {
    "colab": {
     "base_uri": "https://localhost:8080/"
    },
    "id": "8lffSMsyJuRg",
    "outputId": "f75e5feb-01f2-4742-dc99-3cbc7618ea47"
   },
   "outputs": [
    {
     "name": "stdout",
     "output_type": "stream",
     "text": [
      "Number of anomaly samples:  401\n",
      "Indices of anomaly samples:  (array([ 793,  794,  795, 1945, 2521, 2522, 2701, 2702, 2703, 2704, 2705,\n",
      "       2706, 2707, 2708, 2709, 2710, 2711, 2712, 2713, 2714, 2715, 2716,\n",
      "       2717, 2718, 2719, 2720, 2721, 2722, 2723, 2724, 2725, 2726, 2727,\n",
      "       2728, 2729, 2730, 2731, 2732, 2733, 2734, 2735, 2736, 2737, 2738,\n",
      "       2739, 2740, 2741, 2742, 2743, 2744, 2745, 2746, 2747, 2748, 2749,\n",
      "       2750, 2751, 2752, 2753, 2754, 2755, 2756, 2757, 2758, 2759, 2760,\n",
      "       2761, 2762, 2763, 2764, 2765, 2766, 2767, 2768, 2769, 2770, 2771,\n",
      "       2772, 2773, 2774, 2775, 2776, 2777, 2778, 2779, 2780, 2781, 2782,\n",
      "       2783, 2784, 2785, 2786, 2787, 2788, 2789, 2790, 2791, 2792, 2793,\n",
      "       2794, 2795, 2796, 2797, 2798, 2799, 2800, 2801, 2802, 2803, 2804,\n",
      "       2805, 2806, 2807, 2808, 2809, 2810, 2811, 2812, 2813, 2814, 2815,\n",
      "       2816, 2817, 2818, 2819, 2820, 2821, 2822, 2823, 2824, 2825, 2826,\n",
      "       2827, 2828, 2829, 2830, 2831, 2832, 2833, 2834, 2835, 2836, 2837,\n",
      "       2838, 2839, 2840, 2841, 2842, 2843, 2844, 2845, 2846, 2847, 2848,\n",
      "       2849, 2850, 2851, 2852, 2853, 2854, 2855, 2856, 2857, 2858, 2859,\n",
      "       2860, 2861, 2862, 2863, 2864, 2865, 2866, 2867, 2868, 2869, 2870,\n",
      "       2871, 2872, 2873, 2874, 2875, 2876, 2877, 2878, 2879, 2880, 2881,\n",
      "       2882, 2883, 2884, 2885, 2886, 2887, 2888, 2889, 2890, 2891, 2892,\n",
      "       2893, 2894, 2895, 2896, 2897, 2898, 2899, 2900, 2901, 2902, 2903,\n",
      "       2904, 2905, 2906, 2907, 2908, 2909, 2910, 2911, 2912, 2913, 2914,\n",
      "       2915, 2916, 2917, 2918, 2919, 2920, 2921, 2922, 2923, 2924, 2925,\n",
      "       2926, 2927, 2928, 2929, 2930, 2931, 2932, 2933, 2934, 2935, 2936,\n",
      "       2937, 2938, 2939, 2940, 2941, 2942, 2943, 2944, 2945, 2946, 2947,\n",
      "       2948, 2949, 2950, 2951, 2952, 2953, 2954, 2955, 2956, 2957, 2958,\n",
      "       2959, 2960, 2961, 2962, 2963, 2964, 2965, 2966, 2967, 2968, 2969,\n",
      "       2970, 2971, 2972, 2973, 2974, 2975, 2976, 2977, 2978, 2979, 2980,\n",
      "       2981, 2982, 2983, 2984, 2985, 2986, 2987, 2988, 2989, 2990, 2991,\n",
      "       2992, 2993, 2994, 2995, 2996, 2997, 2998, 2999, 3000, 3001, 3002,\n",
      "       3003, 3004, 3005, 3006, 3007, 3008, 3009, 3010, 3011, 3012, 3013,\n",
      "       3014, 3015, 3016, 3017, 3018, 3019, 3020, 3021, 3022, 3023, 3024,\n",
      "       3025, 3026, 3027, 3028, 3029, 3030, 3031, 3032, 3033, 3034, 3035,\n",
      "       3036, 3037, 3038, 3039, 3040, 3041, 3042, 3043, 3044, 3045, 3046,\n",
      "       3047, 3048, 3049, 3050, 3051, 3052, 3053, 3054, 3055, 3056, 3057,\n",
      "       3058, 3059, 3060, 3061, 3062, 3063, 3064, 3065, 3066, 3067, 3068,\n",
      "       3069, 3070, 3071, 3072, 3073, 3074, 3075, 3076, 3077, 3078, 3079,\n",
      "       3080, 3081, 3082, 3083, 3084, 3085, 3086, 3087, 3088, 3089, 3090,\n",
      "       3091, 3092, 3093, 3094, 3095]),)\n"
     ]
    }
   ],
   "source": [
    "# Detect all the samples which are anomalies.\n",
    "anomalies = test_mae_loss > threshold\n",
    "print(\"Number of anomaly samples: \", np.sum(anomalies))\n",
    "print(\"Indices of anomaly samples: \", np.where(anomalies))"
   ]
  },
  {
   "cell_type": "markdown",
   "metadata": {
    "id": "o1nCU436GmpJ"
   },
   "source": [
    "## Plot anomalies\n",
    "\n",
    "이제 우리는 비정상 데이터 샘플을 알고 있습니다. 이를 통해 원본 테스트 데이터에서 해당 '타임스탬프'를 찾을 수 있습니다. 이를 위해 다음 방법을 사용할 것입니다.\n",
    "\n",
    "time_steps = 3이고 10개의 훈련 값이 있다고 가정해 보겠습니다. 우리의 `x_train`은 다음과 같이 보일 것입니다:\n",
    "\n",
    "- 0, 1, 2\n",
    "- 1, 2, 3\n",
    "- 2, 3, 4\n",
    "- 3, 4, 5\n",
    "- 4, 5, 6\n",
    "- 5, 6, 7\n",
    "- 6, 7, 8\n",
    "- 7, 8, 9\n",
    "\n",
    "초기 및 최종 time_steps-1 데이터 값을 제외한 모든 값은 'time_steps' 샘플 수로 표시됩니다. 따라서 샘플 [(3, 4, 5), (4, 5, 6), (5, 6, 7)]이 비정상임을 안다면 데이터 포인트 5가 비정상이라고 말할 수 있습니다."
   ]
  },
  {
   "cell_type": "code",
   "execution_count": 50,
   "metadata": {
    "colab": {
     "base_uri": "https://localhost:8080/"
    },
    "id": "Ehl9RcSlLfZ5",
    "outputId": "b7175059-d265-426e-e8fd-71ff74f09fa0"
   },
   "outputs": [
    {
     "data": {
      "text/plain": [
       "(287, 3745)"
      ]
     },
     "execution_count": 50,
     "metadata": {},
     "output_type": "execute_result"
    }
   ],
   "source": [
    "TIME_STEPS - 1, len(df_test_value) - TIME_STEPS + 1"
   ]
  },
  {
   "cell_type": "code",
   "execution_count": 52,
   "metadata": {
    "colab": {
     "base_uri": "https://localhost:8080/"
    },
    "id": "0ahlLudTL3Us",
    "outputId": "845f5ce6-d90a-4431-a1f1-a5e14e9009bb"
   },
   "outputs": [
    {
     "name": "stdout",
     "output_type": "stream",
     "text": [
      "2988\n",
      "2701 2988\n"
     ]
    }
   ],
   "source": [
    "for data_idx in range(TIME_STEPS - 1, len(df_test_value) - TIME_STEPS + 1):\n",
    "    if np.all(anomalies[data_idx - TIME_STEPS + 1 : data_idx]):\n",
    "        print(data_idx)\n",
    "        print(data_idx - TIME_STEPS + 1, data_idx)\n",
    "        break\n",
    "    "
   ]
  },
  {
   "cell_type": "code",
   "execution_count": 53,
   "metadata": {
    "id": "F5qJjoc7GmpJ"
   },
   "outputs": [],
   "source": [
    "# data i is an anomaly if samples [(i - timesteps + 1) to (i)] are anomalies\n",
    "anomalous_data_indices = []\n",
    "for data_idx in range(TIME_STEPS - 1, len(df_test_value) - TIME_STEPS + 1):\n",
    "    if np.all(anomalies[data_idx - TIME_STEPS + 1 : data_idx]):  #all True\n",
    "        anomalous_data_indices.append(data_idx)"
   ]
  },
  {
   "cell_type": "code",
   "execution_count": 32,
   "metadata": {
    "colab": {
     "base_uri": "https://localhost:8080/"
    },
    "id": "sbvI-LNhNObs",
    "outputId": "612c4087-7882-4686-a3c0-9047832b60aa"
   },
   "outputs": [
    {
     "data": {
      "text/plain": [
       "109"
      ]
     },
     "execution_count": 32,
     "metadata": {},
     "output_type": "execute_result"
    }
   ],
   "source": [
    "len(anomalous_data_indices)"
   ]
  },
  {
   "cell_type": "markdown",
   "metadata": {
    "id": "jYOrsXGcGmpJ"
   },
   "source": [
    "원본 테스트 데이터 플롯에 이상 현상을 오버레이해 보겠습니다."
   ]
  },
  {
   "cell_type": "code",
   "execution_count": 54,
   "metadata": {
    "colab": {
     "base_uri": "https://localhost:8080/",
     "height": 303
    },
    "id": "6STxt6v-GmpJ",
    "outputId": "aaaa047c-3e81-43da-b387-49f051190b65"
   },
   "outputs": [
    {
     "data": {
      "image/png": "[encoded data removed]",
      "text/plain": [
       "<Figure size 432x288 with 1 Axes>"
      ]
     },
     "metadata": {
      "needs_background": "light"
     },
     "output_type": "display_data"
    }
   ],
   "source": [
    "df_subset = df_daily_jumpsup.iloc[anomalous_data_indices]\n",
    "fig, ax = plt.subplots()\n",
    "df_daily_jumpsup.plot(legend=False, ax=ax)\n",
    "df_subset.plot(legend=False, ax=ax, color=\"r\")\n",
    "plt.show()"
   ]
  },
  {
   "cell_type": "code",
   "execution_count": null,
   "metadata": {
    "id": "Qp8u9AQwQE76"
   },
   "outputs": [],
   "source": []
  }
 ],
 "metadata": {
  "accelerator": "GPU",
  "colab": {
   "collapsed_sections": [],
   "name": "timeseries_anomaly_detection",
   "provenance": []
  },
  "kernelspec": {
   "display_name": "Python 3 (ipykernel)",
   "language": "python",
   "name": "python3"
  },
  "language_info": {
   "codemirror_mode": {
    "name": "ipython",
    "version": 3
   },
   "file_extension": ".py",
   "mimetype": "text/x-python",
   "name": "python",
   "nbconvert_exporter": "python",
   "pygments_lexer": "ipython3",
   "version": "3.9.5"
  }
 },
 "nbformat": 4,
 "nbformat_minor": 1
}
