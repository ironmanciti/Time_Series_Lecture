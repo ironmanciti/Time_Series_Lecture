{
 "cells": [
  {
   "cell_type": "markdown",
   "metadata": {
    "id": "UFm4zEmdF3HZ"
   },
   "source": [
    "# SimpleRNN / LSTM input/output shape\n",
    "\n",
    "- return_sequences = False, True 일 때의 output 비교\n",
    "\n",
    "- Bidirectional LSTM 의 output 비교"
   ]
  },
  {
   "cell_type": "code",
   "execution_count": 2,
   "metadata": {
    "colab": {
     "base_uri": "https://localhost:8080/"
    },
    "id": "Z5bhMKuKF3Hd",
    "outputId": "9baac3ca-e844-40c7-f154-1b8985685cc4"
   },
   "outputs": [
    {
     "name": "stdout",
     "output_type": "stream",
     "text": [
      "(4, 30, 1)\n"
     ]
    }
   ],
   "source": [
    "from tensorflow.keras.models import Model, Sequential\n",
    "from tensorflow.keras.layers import Input, SimpleRNN, LSTM, Bidirectional, Lambda, Dense\n",
    "import tensorflow as tf\n",
    "import numpy as np\n",
    "import warnings\n",
    "warnings.filterwarnings('ignore')\n",
    "\n",
    "B = 4   # batch size\n",
    "T = 30   #Time Steps\n",
    "D = 1   #features\n",
    "U = 3   #LSTM units\n",
    "\n",
    "X = np.random.randn(B, T, D)\n",
    "print(X.shape)"
   ]
  },
  {
   "cell_type": "markdown",
   "metadata": {},
   "source": [
    "## SimpleRNN\n",
    "\n",
    "## return_sequences\n",
    "\n",
    "- False (default) - last time step 의 output 만 반환\n",
    "- True - 모든 timestep 의 output 을 모두 반환  \n",
    "\n",
    "<img src=\"rnn_output2.png\" width=400 />\n",
    "<img src=\"rnn_output1.png\" width=500 />"
   ]
  },
  {
   "cell_type": "code",
   "execution_count": 4,
   "metadata": {
    "scrolled": true
   },
   "outputs": [
    {
     "name": "stdout",
     "output_type": "stream",
     "text": [
      "---- return_sequences=False ----> last timestep 의 output 만 반환\n",
      "(4, 3)\n",
      "\n",
      "---- return_sequences=True ----> 모든 timestep 별 output 출력\n",
      "(4, 30, 3)\n"
     ]
    }
   ],
   "source": [
    "def simple_RNN(return_sequences=False):\n",
    "    inp = Input(shape=(T, D)) \n",
    "    out = SimpleRNN(U, return_sequences=return_sequences)(inp)\n",
    "    \n",
    "    model = Model(inputs=inp, outputs=out)\n",
    "    return model.predict(X)\n",
    "\n",
    "print(\"---- return_sequences=False ----> last timestep 의 output 만 반환\")\n",
    "lstm_out = simple_RNN(return_sequences=False)\n",
    "print(lstm_out.shape)\n",
    "# print(lstm_out)\n",
    "\n",
    "print(\"\\n---- return_sequences=True ----> 모든 timestep 별 output 출력\")\n",
    "lstm_out = simple_RNN(return_sequences=True)\n",
    "print(lstm_out.shape)\n",
    "# print(lstm_out)"
   ]
  },
  {
   "cell_type": "markdown",
   "metadata": {
    "id": "93BtygLbF3Hg"
   },
   "source": [
    "## LSTM\n",
    "\n",
    "## return_sequences\n",
    "\n",
    "- False (default) - last time step 의 output 만 반환\n",
    "- True - 모든 timestep 의 output 을 모두 반환"
   ]
  },
  {
   "cell_type": "code",
   "execution_count": 6,
   "metadata": {
    "colab": {
     "base_uri": "https://localhost:8080/"
    },
    "id": "BUOMaX3mF3Hg",
    "outputId": "fcb2cb63-9d0d-45d2-990c-e372b4f0cb3a"
   },
   "outputs": [
    {
     "name": "stdout",
     "output_type": "stream",
     "text": [
      "---- return_sequences=False ----> last timestep 의 output 만 반환\n",
      "(4, 3)\n",
      "\n",
      "---- return_sequences=True ----> 모든 timestep 별 output 출력\n",
      "(4, 30, 3)\n"
     ]
    }
   ],
   "source": [
    "def lstm(return_sequences=False):\n",
    "    inp = Input(shape=(T, D)) \n",
    "    out = LSTM(U, return_sequences=return_sequences)(inp)\n",
    "    \n",
    "    model = Model(inputs=inp, outputs=out)\n",
    "    return model.predict(X)\n",
    "\n",
    "print(\"---- return_sequences=False ----> last timestep 의 output 만 반환\")\n",
    "lstm_out = lstm(return_sequences=False)\n",
    "print(lstm_out.shape)\n",
    "# print(lstm_out)\n",
    "\n",
    "print(\"\\n---- return_sequences=True ----> 모든 timestep 별 output 출력\")\n",
    "lstm_out = lstm(return_sequences=True)\n",
    "print(lstm_out.shape)\n",
    "# print(lstm_out)"
   ]
  },
  {
   "cell_type": "markdown",
   "metadata": {
    "id": "Lzhij_1jF3Hj"
   },
   "source": [
    "## Bidirectional LSTM\n",
    "\n",
    "- 순방향, 역방향이 concatenate 된 output 출력  \n",
    "\n",
    "- hidden state, cell state 는 순방향, 역방향 별도 출력"
   ]
  },
  {
   "cell_type": "code",
   "execution_count": 7,
   "metadata": {
    "colab": {
     "base_uri": "https://localhost:8080/"
    },
    "id": "qHWIut5EF3Hj",
    "outputId": "ee8b023b-e1be-463c-a6f4-6c78017e2f31"
   },
   "outputs": [
    {
     "data": {
      "text/plain": [
       "(30, 1, 3)"
      ]
     },
     "execution_count": 7,
     "metadata": {},
     "output_type": "execute_result"
    }
   ],
   "source": [
    "T, D, U"
   ]
  },
  {
   "cell_type": "code",
   "execution_count": 10,
   "metadata": {
    "colab": {
     "base_uri": "https://localhost:8080/"
    },
    "id": "xRfP9p7aF3Hk",
    "outputId": "b745662b-86a1-4f1c-ffde-42bc1e5a43c2"
   },
   "outputs": [
    {
     "name": "stdout",
     "output_type": "stream",
     "text": [
      "*** 순방향, 역방향이 concatenate ***\n",
      "---- return_sequences=False ----> last timestep 의 output 만 반환\n",
      "(4, 6)\n",
      "\n",
      "---- return_sequences=True ----> 모든 timestep 별 output 출력\n",
      "(4, 30, 6)\n"
     ]
    }
   ],
   "source": [
    "def bi_lstm(return_sequences=False):\n",
    "    inp = Input(shape=(T, D))\n",
    "    out = Bidirectional(\n",
    "            LSTM(U, return_sequences=return_sequences))(inp)\n",
    "    \n",
    "    model = Model(inputs=inp, outputs=out)\n",
    "    return model.predict(X)\n",
    "\n",
    "print(\"*** 순방향, 역방향이 concatenate ***\")\n",
    "print(\"---- return_sequences=False ----> last timestep 의 output 만 반환\")\n",
    "lstm_out = bi_lstm(return_sequences=False)\n",
    "print(lstm_out.shape)\n",
    "# print(lstm_out)\n",
    "print()\n",
    "print(\"---- return_sequences=True ----> 모든 timestep 별 output 출력\")\n",
    "lstm_out = bi_lstm(return_sequences=True)\n",
    "print(lstm_out.shape)\n",
    "# print(lstm_out)"
   ]
  },
  {
   "cell_type": "markdown",
   "metadata": {
    "id": "4RUEZBhKIlP2"
   },
   "source": [
    "## Lambda Layer\n",
    "\n",
    "kares의 기능을 효과적으로 확장하기 위해 임의의 작업을 수행할 수 있게 해주는 레이어이며 모델 정의 자체 내에서 수행."
   ]
  },
  {
   "cell_type": "code",
   "execution_count": 11,
   "metadata": {},
   "outputs": [],
   "source": [
    "model = Sequential([\n",
    "    #2D input을 3D로 변경 \n",
    "    Lambda(lambda x: tf.expand_dims(x, axis=-1), input_shape=[None]),\n",
    "    LSTM(20, return_sequences=True),\n",
    "    LSTM(20),\n",
    "    Dense(1),\n",
    "    Lambda(lambda x: x * 100.0)  #output을 scale-up\n",
    "])"
   ]
  },
  {
   "cell_type": "code",
   "execution_count": 13,
   "metadata": {},
   "outputs": [
    {
     "name": "stdout",
     "output_type": "stream",
     "text": [
      "(4, 30)\n"
     ]
    }
   ],
   "source": [
    "X = np.random.randn(B, T) * 100\n",
    "print(X.shape)\n",
    "# print(X)"
   ]
  },
  {
   "cell_type": "code",
   "execution_count": 16,
   "metadata": {},
   "outputs": [
    {
     "data": {
      "text/plain": [
       "(4, 30, 1)"
      ]
     },
     "execution_count": 16,
     "metadata": {},
     "output_type": "execute_result"
    }
   ],
   "source": [
    "np.expand_dims(X, axis=-1).shape"
   ]
  },
  {
   "cell_type": "code",
   "execution_count": 14,
   "metadata": {},
   "outputs": [
    {
     "data": {
      "text/plain": [
       "array([[-46.436344],\n",
       "       [-44.43851 ],\n",
       "       [-52.882313],\n",
       "       [-48.94781 ]], dtype=float32)"
      ]
     },
     "execution_count": 14,
     "metadata": {},
     "output_type": "execute_result"
    }
   ],
   "source": [
    "model.predict(X)"
   ]
  },
  {
   "cell_type": "code",
   "execution_count": null,
   "metadata": {},
   "outputs": [],
   "source": []
  }
 ],
 "metadata": {
  "colab": {
   "name": "020_LSTM+GRU+input+output+shape+return_sequences.ipynb",
   "provenance": []
  },
  "kernelspec": {
   "display_name": "Python 3",
   "language": "python",
   "name": "python3"
  },
  "language_info": {
   "codemirror_mode": {
    "name": "ipython",
    "version": 3
   },
   "file_extension": ".py",
   "mimetype": "text/x-python",
   "name": "python",
   "nbconvert_exporter": "python",
   "pygments_lexer": "ipython3",
   "version": "3.8.12"
  }
 },
 "nbformat": 4,
 "nbformat_minor": 1
}
