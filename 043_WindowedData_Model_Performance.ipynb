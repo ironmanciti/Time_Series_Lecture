{
 "cells": [
  {
   "cell_type": "markdown",
   "metadata": {
    "id": "UQW0noetxPlq"
   },
   "source": [
    "# Time Series window data 생성 및 모델별 성능 비교\n",
    "\n",
    "1. Persistence algorithm 을 이용한 forecasting \n",
    "2. simple 1 layer NN 을 이용한 forecasting  \n",
    "3. Deep NN을  이용한 forecasting  \n",
    "4. LSTM 을  이용한 forecasting"
   ]
  },
  {
   "cell_type": "markdown",
   "metadata": {
    "id": "AAiYtx2xxPlt"
   },
   "source": [
    "## Sunspots 데이터셋을 활용하여 window_dataset 만들기"
   ]
  },
  {
   "cell_type": "code",
   "execution_count": 1,
   "metadata": {
    "colab": {
     "base_uri": "https://localhost:8080/",
     "height": 206
    },
    "id": "fu_77IlnxPlu",
    "outputId": "f2e502b2-5de0-471d-a633-d184ea701db7"
   },
   "outputs": [
    {
     "data": {
      "text/html": [
       "<div>\n",
       "<style scoped>\n",
       "    .dataframe tbody tr th:only-of-type {\n",
       "        vertical-align: middle;\n",
       "    }\n",
       "\n",
       "    .dataframe tbody tr th {\n",
       "        vertical-align: top;\n",
       "    }\n",
       "\n",
       "    .dataframe thead th {\n",
       "        text-align: right;\n",
       "    }\n",
       "</style>\n",
       "<table border=\"1\" class=\"dataframe\">\n",
       "  <thead>\n",
       "    <tr style=\"text-align: right;\">\n",
       "      <th></th>\n",
       "      <th>Date</th>\n",
       "      <th>Monthly Mean Total Sunspot Number</th>\n",
       "    </tr>\n",
       "  </thead>\n",
       "  <tbody>\n",
       "    <tr>\n",
       "      <th>0</th>\n",
       "      <td>1749-01-31</td>\n",
       "      <td>96.7</td>\n",
       "    </tr>\n",
       "    <tr>\n",
       "      <th>1</th>\n",
       "      <td>1749-02-28</td>\n",
       "      <td>104.3</td>\n",
       "    </tr>\n",
       "    <tr>\n",
       "      <th>2</th>\n",
       "      <td>1749-03-31</td>\n",
       "      <td>116.7</td>\n",
       "    </tr>\n",
       "    <tr>\n",
       "      <th>3</th>\n",
       "      <td>1749-04-30</td>\n",
       "      <td>92.8</td>\n",
       "    </tr>\n",
       "    <tr>\n",
       "      <th>4</th>\n",
       "      <td>1749-05-31</td>\n",
       "      <td>141.7</td>\n",
       "    </tr>\n",
       "  </tbody>\n",
       "</table>\n",
       "</div>"
      ],
      "text/plain": [
       "         Date  Monthly Mean Total Sunspot Number\n",
       "0  1749-01-31                               96.7\n",
       "1  1749-02-28                              104.3\n",
       "2  1749-03-31                              116.7\n",
       "3  1749-04-30                               92.8\n",
       "4  1749-05-31                              141.7"
      ]
     },
     "execution_count": 1,
     "metadata": {},
     "output_type": "execute_result"
    }
   ],
   "source": [
    "import tensorflow as tf\n",
    "import numpy as np\n",
    "import matplotlib.pyplot as plt\n",
    "from sklearn.metrics import mean_squared_error, mean_absolute_error\n",
    "import pandas as pd\n",
    "\n",
    "url = 'https://storage.googleapis.com/download.tensorflow.org/data/Sunspots.csv'\n",
    "df = pd.read_csv(url, skiprows=0, index_col=0) # 첫 줄은 header이므로 skip \n",
    "df.head()"
   ]
  },
  {
   "cell_type": "code",
   "execution_count": 2,
   "metadata": {
    "colab": {
     "base_uri": "https://localhost:8080/",
     "height": 206
    },
    "id": "MLlL-uZu_U9w",
    "outputId": "deb0c4da-fe49-4903-949b-ae6cc5572052"
   },
   "outputs": [
    {
     "data": {
      "text/html": [
       "<div>\n",
       "<style scoped>\n",
       "    .dataframe tbody tr th:only-of-type {\n",
       "        vertical-align: middle;\n",
       "    }\n",
       "\n",
       "    .dataframe tbody tr th {\n",
       "        vertical-align: top;\n",
       "    }\n",
       "\n",
       "    .dataframe thead th {\n",
       "        text-align: right;\n",
       "    }\n",
       "</style>\n",
       "<table border=\"1\" class=\"dataframe\">\n",
       "  <thead>\n",
       "    <tr style=\"text-align: right;\">\n",
       "      <th></th>\n",
       "      <th>Date</th>\n",
       "      <th>Monthly Mean Total Sunspot Number</th>\n",
       "    </tr>\n",
       "  </thead>\n",
       "  <tbody>\n",
       "    <tr>\n",
       "      <th>3230</th>\n",
       "      <td>2018-03-31</td>\n",
       "      <td>2.5</td>\n",
       "    </tr>\n",
       "    <tr>\n",
       "      <th>3231</th>\n",
       "      <td>2018-04-30</td>\n",
       "      <td>8.9</td>\n",
       "    </tr>\n",
       "    <tr>\n",
       "      <th>3232</th>\n",
       "      <td>2018-05-31</td>\n",
       "      <td>13.2</td>\n",
       "    </tr>\n",
       "    <tr>\n",
       "      <th>3233</th>\n",
       "      <td>2018-06-30</td>\n",
       "      <td>15.9</td>\n",
       "    </tr>\n",
       "    <tr>\n",
       "      <th>3234</th>\n",
       "      <td>2018-07-31</td>\n",
       "      <td>1.6</td>\n",
       "    </tr>\n",
       "  </tbody>\n",
       "</table>\n",
       "</div>"
      ],
      "text/plain": [
       "            Date  Monthly Mean Total Sunspot Number\n",
       "3230  2018-03-31                                2.5\n",
       "3231  2018-04-30                                8.9\n",
       "3232  2018-05-31                               13.2\n",
       "3233  2018-06-30                               15.9\n",
       "3234  2018-07-31                                1.6"
      ]
     },
     "execution_count": 2,
     "metadata": {},
     "output_type": "execute_result"
    }
   ],
   "source": [
    "df.tail()"
   ]
  },
  {
   "cell_type": "code",
   "execution_count": 3,
   "metadata": {
    "colab": {
     "base_uri": "https://localhost:8080/"
    },
    "id": "aaOaquF7_alz",
    "outputId": "f6a3554c-020d-4a60-b1f6-dbd914540b0f"
   },
   "outputs": [
    {
     "name": "stdout",
     "output_type": "stream",
     "text": [
      "<class 'pandas.core.frame.DataFrame'>\n",
      "Int64Index: 3235 entries, 0 to 3234\n",
      "Data columns (total 2 columns):\n",
      " #   Column                             Non-Null Count  Dtype  \n",
      "---  ------                             --------------  -----  \n",
      " 0   Date                               3235 non-null   object \n",
      " 1   Monthly Mean Total Sunspot Number  3235 non-null   float64\n",
      "dtypes: float64(1), object(1)\n",
      "memory usage: 75.8+ KB\n"
     ]
    }
   ],
   "source": [
    "df.info()"
   ]
  },
  {
   "cell_type": "markdown",
   "metadata": {
    "id": "Xzgj5nhFFPUS"
   },
   "source": [
    "- 시간 절약을 위해 최근 500 개월치 data 만 이용"
   ]
  },
  {
   "cell_type": "code",
   "execution_count": 4,
   "metadata": {
    "colab": {
     "base_uri": "https://localhost:8080/"
    },
    "id": "pOHj-Sj6Bxq0",
    "outputId": "05f72f37-94e9-4d01-f90e-c9f3d982930e"
   },
   "outputs": [
    {
     "data": {
      "text/plain": [
       "((500,), (500,))"
      ]
     },
     "execution_count": 4,
     "metadata": {},
     "output_type": "execute_result"
    }
   ],
   "source": [
    "time = df.iloc[-500:, 0].values\n",
    "time_series = df.iloc[-500:, 1].values\n",
    "time.shape, time_series.shape"
   ]
  },
  {
   "cell_type": "markdown",
   "metadata": {
    "id": "szHb65PCxPlw"
   },
   "source": [
    "## Supervised Learning dataset 작성\n",
    "\n",
    "Persistent Algorithm 과 비교하기 위해 Many-to-One style 로 예측"
   ]
  },
  {
   "cell_type": "code",
   "execution_count": 16,
   "metadata": {
    "id": "wpH3xVcJxPlw"
   },
   "outputs": [],
   "source": [
    "def windowed_dataset(series, window_size, batch_size, shuffle_buffer):\n",
    "    ds = tf.data.Dataset.from_tensor_slices(series)\n",
    "    ds = ds.window(window_size+1, shift=1, drop_remainder=True)\n",
    "    ds = ds.flat_map(lambda w: w.batch(window_size+1))\n",
    "    ds = ds.shuffle(shuffle_buffer).map(lambda w: (w[:-1], w[-1]))   # single step output\n",
    "    ds = ds.batch(batch_size).prefetch(1)\n",
    "    return ds"
   ]
  },
  {
   "cell_type": "markdown",
   "metadata": {
    "id": "snCcd5ZnxPlx"
   },
   "source": [
    "### train/validation set 분리"
   ]
  },
  {
   "cell_type": "code",
   "execution_count": 6,
   "metadata": {
    "colab": {
     "base_uri": "https://localhost:8080/"
    },
    "id": "8HuXVml6xPlx",
    "outputId": "036cce6d-5157-420c-9b5e-f44e33fb943f"
   },
   "outputs": [
    {
     "data": {
      "text/plain": [
       "(450, 50, 450, 50)"
      ]
     },
     "execution_count": 6,
     "metadata": {},
     "output_type": "execute_result"
    }
   ],
   "source": [
    "split_time = 450\n",
    "\n",
    "time_train = time[:split_time]\n",
    "time_test = time[split_time:]\n",
    "\n",
    "X_train = time_series[:split_time]\n",
    "X_test  = time_series[split_time:]\n",
    "\n",
    "len(time_train), len(time_test), len(X_train), len(X_test)"
   ]
  },
  {
   "cell_type": "code",
   "execution_count": 7,
   "metadata": {
    "colab": {
     "base_uri": "https://localhost:8080/"
    },
    "id": "Gep8OGvZxPly",
    "outputId": "f6d44b43-3869-4466-e4fe-5ad314883b6d"
   },
   "outputs": [
    {
     "data": {
      "text/plain": [
       "<PrefetchDataset element_spec=(TensorSpec(shape=(None, None), dtype=tf.float64, name=None), TensorSpec(shape=(None,), dtype=tf.float64, name=None))>"
      ]
     },
     "execution_count": 7,
     "metadata": {},
     "output_type": "execute_result"
    }
   ],
   "source": [
    "window_size = 30\n",
    "batch_size = 64\n",
    "shuffle_buffer_size = 1000\n",
    "\n",
    "train_ds = windowed_dataset(X_train, window_size, batch_size, shuffle_buffer_size)\n",
    "train_ds"
   ]
  },
  {
   "cell_type": "code",
   "execution_count": 8,
   "metadata": {
    "colab": {
     "base_uri": "https://localhost:8080/"
    },
    "id": "R8EwGzPPxPlz",
    "outputId": "9096a831-5268-4ee6-a55d-6ec92a17a5a2"
   },
   "outputs": [
    {
     "name": "stdout",
     "output_type": "stream",
     "text": [
      "x =  (64, 30)\n",
      "y =  (64,)\n"
     ]
    }
   ],
   "source": [
    "for x, y in train_ds:\n",
    "    print('x = ', x.numpy().shape)\n",
    "    print('y = ', y.numpy().shape)\n",
    "    break"
   ]
  },
  {
   "cell_type": "markdown",
   "metadata": {
    "id": "b1inEBhqxPlz"
   },
   "source": [
    "## 1. Persistence algorithm 을 이용한 forecasting \n",
    "\n",
    "- Persistence Algorithm : last value 를 next value 로 예측에 사용"
   ]
  },
  {
   "cell_type": "code",
   "execution_count": 9,
   "metadata": {
    "colab": {
     "base_uri": "https://localhost:8080/"
    },
    "id": "J5qjNZGSxPl0",
    "outputId": "24fd2311-5fcd-4c22-9d67-001911f31027"
   },
   "outputs": [
    {
     "data": {
      "text/plain": [
       "array([112.5, 102.9, 100.2, 106.9, 130. ,  90. , 103.6, 112.9,  93. ,\n",
       "        66.7])"
      ]
     },
     "execution_count": 9,
     "metadata": {},
     "output_type": "execute_result"
    }
   ],
   "source": [
    "naive_forecast = time_series[split_time-1:-1]\n",
    "naive_forecast[:10]"
   ]
  },
  {
   "cell_type": "code",
   "execution_count": 10,
   "metadata": {
    "colab": {
     "base_uri": "https://localhost:8080/"
    },
    "id": "T3WscWHtxPl0",
    "outputId": "0a03262d-af88-4443-d6c6-3d6e8c1d1b2f"
   },
   "outputs": [
    {
     "data": {
      "text/plain": [
       "array([102.9, 100.2, 106.9, 130. ,  90. , 103.6, 112.9,  93. ,  66.7,\n",
       "        54.5])"
      ]
     },
     "execution_count": 10,
     "metadata": {},
     "output_type": "execute_result"
    }
   ],
   "source": [
    "X_test[:10]"
   ]
  },
  {
   "cell_type": "code",
   "execution_count": 11,
   "metadata": {
    "colab": {
     "base_uri": "https://localhost:8080/"
    },
    "id": "0Exuvfs5xPl0",
    "outputId": "d75c9d18-6cb7-43d7-f8a0-20348317807b"
   },
   "outputs": [
    {
     "name": "stdout",
     "output_type": "stream",
     "text": [
      "194.96940000000004\n",
      "10.737999999999998\n"
     ]
    }
   ],
   "source": [
    "print(mean_squared_error(X_test, naive_forecast))\n",
    "print(mean_absolute_error(X_test, naive_forecast))"
   ]
  },
  {
   "cell_type": "markdown",
   "metadata": {
    "id": "bpgtR6o2xPl1"
   },
   "source": [
    "## 2. simple 1 layer NN 을 이용한 forecasting - Linear Regression"
   ]
  },
  {
   "cell_type": "code",
   "execution_count": 12,
   "metadata": {
    "colab": {
     "base_uri": "https://localhost:8080/"
    },
    "id": "uPhhyxbGxPl1",
    "outputId": "d6ed0a94-30cc-43cf-cfde-ccb9ca5b9b83",
    "scrolled": true
   },
   "outputs": [
    {
     "name": "stdout",
     "output_type": "stream",
     "text": [
      "Epoch 1/100\n",
      "7/7 [==============================] - 1s 94ms/step - loss: 18607.9492\n",
      "Epoch 2/100\n",
      "7/7 [==============================] - 0s 665us/step - loss: 13046.1309\n",
      "Epoch 3/100\n",
      "7/7 [==============================] - 0s 691us/step - loss: 8759.8125\n",
      "Epoch 4/100\n",
      "7/7 [==============================] - 0s 831us/step - loss: 5809.9331\n",
      "Epoch 5/100\n",
      "7/7 [==============================] - 0s 665us/step - loss: 3900.6648\n",
      "Epoch 6/100\n",
      "7/7 [==============================] - 0s 831us/step - loss: 2840.0361\n",
      "Epoch 7/100\n",
      "7/7 [==============================] - 0s 665us/step - loss: 2299.5542\n",
      "Epoch 8/100\n",
      "7/7 [==============================] - 0s 831us/step - loss: 2117.4917\n",
      "Epoch 9/100\n",
      "7/7 [==============================] - 0s 830us/step - loss: 2050.2061\n",
      "Epoch 10/100\n",
      "7/7 [==============================] - 0s 831us/step - loss: 2015.8512\n",
      "Epoch 11/100\n",
      "7/7 [==============================] - 0s 831us/step - loss: 1988.0109\n",
      "Epoch 12/100\n",
      "7/7 [==============================] - 0s 665us/step - loss: 1953.2852\n",
      "Epoch 13/100\n",
      "7/7 [==============================] - 0s 665us/step - loss: 1914.6184\n",
      "Epoch 14/100\n",
      "7/7 [==============================] - 0s 689us/step - loss: 1876.9443\n",
      "Epoch 15/100\n",
      "7/7 [==============================] - 0s 665us/step - loss: 1842.9464\n",
      "Epoch 16/100\n",
      "7/7 [==============================] - 0s 665us/step - loss: 1807.3372\n",
      "Epoch 17/100\n",
      "7/7 [==============================] - 0s 852us/step - loss: 1775.8602\n",
      "Epoch 18/100\n",
      "7/7 [==============================] - 0s 665us/step - loss: 1744.5231\n",
      "Epoch 19/100\n",
      "7/7 [==============================] - 0s 665us/step - loss: 1714.8953\n",
      "Epoch 20/100\n",
      "7/7 [==============================] - 0s 665us/step - loss: 1687.3549\n",
      "Epoch 21/100\n",
      "7/7 [==============================] - 0s 499us/step - loss: 1656.9128\n",
      "Epoch 22/100\n",
      "7/7 [==============================] - 0s 665us/step - loss: 1632.8723\n",
      "Epoch 23/100\n",
      "7/7 [==============================] - 0s 651us/step - loss: 1606.5135\n",
      "Epoch 24/100\n",
      "7/7 [==============================] - 0s 665us/step - loss: 1582.7506\n",
      "Epoch 25/100\n",
      "7/7 [==============================] - 0s 665us/step - loss: 1558.4021\n",
      "Epoch 26/100\n",
      "7/7 [==============================] - 0s 842us/step - loss: 1537.2677\n",
      "Epoch 27/100\n",
      "7/7 [==============================] - 0s 1ms/step - loss: 1517.5315\n",
      "Epoch 28/100\n",
      "7/7 [==============================] - 0s 831us/step - loss: 1500.9194\n",
      "Epoch 29/100\n",
      "7/7 [==============================] - 0s 998us/step - loss: 1479.4254\n",
      "Epoch 30/100\n",
      "7/7 [==============================] - 0s 710us/step - loss: 1461.0328\n",
      "Epoch 31/100\n",
      "7/7 [==============================] - 0s 674us/step - loss: 1444.1256\n",
      "Epoch 32/100\n",
      "7/7 [==============================] - 0s 714us/step - loss: 1427.4667\n",
      "Epoch 33/100\n",
      "7/7 [==============================] - 0s 831us/step - loss: 1413.5161\n",
      "Epoch 34/100\n",
      "7/7 [==============================] - 0s 759us/step - loss: 1400.2424\n",
      "Epoch 35/100\n",
      "7/7 [==============================] - 0s 665us/step - loss: 1388.1047\n",
      "Epoch 36/100\n",
      "7/7 [==============================] - 0s 832us/step - loss: 1376.5734\n",
      "Epoch 37/100\n",
      "7/7 [==============================] - 0s 666us/step - loss: 1364.8718\n",
      "Epoch 38/100\n",
      "7/7 [==============================] - 0s 665us/step - loss: 1355.1356\n",
      "Epoch 39/100\n",
      "7/7 [==============================] - 0s 831us/step - loss: 1344.7629\n",
      "Epoch 40/100\n",
      "7/7 [==============================] - 0s 864us/step - loss: 1336.7648\n",
      "Epoch 41/100\n",
      "7/7 [==============================] - 0s 665us/step - loss: 1328.8844\n",
      "Epoch 42/100\n",
      "7/7 [==============================] - 0s 756us/step - loss: 1320.3572\n",
      "Epoch 43/100\n",
      "7/7 [==============================] - 0s 665us/step - loss: 1315.4287\n",
      "Epoch 44/100\n",
      "7/7 [==============================] - 0s 762us/step - loss: 1306.9384\n",
      "Epoch 45/100\n",
      "7/7 [==============================] - 0s 723us/step - loss: 1303.9153\n",
      "Epoch 46/100\n",
      "7/7 [==============================] - 0s 738us/step - loss: 1294.3615\n",
      "Epoch 47/100\n",
      "7/7 [==============================] - 0s 621us/step - loss: 1288.6676\n",
      "Epoch 48/100\n",
      "7/7 [==============================] - 0s 499us/step - loss: 1283.8262\n",
      "Epoch 49/100\n",
      "7/7 [==============================] - 0s 665us/step - loss: 1280.5165\n",
      "Epoch 50/100\n",
      "7/7 [==============================] - 0s 680us/step - loss: 1274.3936\n",
      "Epoch 51/100\n",
      "7/7 [==============================] - 0s 665us/step - loss: 1270.5111\n",
      "Epoch 52/100\n",
      "7/7 [==============================] - 0s 681us/step - loss: 1267.4989\n",
      "Epoch 53/100\n",
      "7/7 [==============================] - 0s 665us/step - loss: 1264.0453\n",
      "Epoch 54/100\n",
      "7/7 [==============================] - 0s 665us/step - loss: 1259.6068\n",
      "Epoch 55/100\n",
      "7/7 [==============================] - 0s 650us/step - loss: 1256.1467\n",
      "Epoch 56/100\n",
      "7/7 [==============================] - 0s 765us/step - loss: 1254.0781\n",
      "Epoch 57/100\n",
      "7/7 [==============================] - 0s 665us/step - loss: 1251.2244\n",
      "Epoch 58/100\n",
      "7/7 [==============================] - 0s 810us/step - loss: 1247.3640\n",
      "Epoch 59/100\n",
      "7/7 [==============================] - 0s 665us/step - loss: 1246.0271\n",
      "Epoch 60/100\n",
      "7/7 [==============================] - 0s 665us/step - loss: 1245.1094\n",
      "Epoch 61/100\n",
      "7/7 [==============================] - 0s 664us/step - loss: 1241.0186\n",
      "Epoch 62/100\n",
      "7/7 [==============================] - 0s 666us/step - loss: 1238.1935\n",
      "Epoch 63/100\n",
      "7/7 [==============================] - 0s 997us/step - loss: 1235.2644\n",
      "Epoch 64/100\n",
      "7/7 [==============================] - 0s 967us/step - loss: 1232.2748\n",
      "Epoch 65/100\n",
      "7/7 [==============================] - 0s 665us/step - loss: 1230.6014\n",
      "Epoch 66/100\n",
      "7/7 [==============================] - 0s 666us/step - loss: 1227.8888\n",
      "Epoch 67/100\n",
      "7/7 [==============================] - 0s 832us/step - loss: 1226.0002\n",
      "Epoch 68/100\n",
      "7/7 [==============================] - 0s 750us/step - loss: 1223.4982\n",
      "Epoch 69/100\n",
      "7/7 [==============================] - 0s 702us/step - loss: 1221.5071\n",
      "Epoch 70/100\n",
      "7/7 [==============================] - 0s 831us/step - loss: 1222.6040\n",
      "Epoch 71/100\n",
      "7/7 [==============================] - 0s 639us/step - loss: 1218.4131\n",
      "Epoch 72/100\n",
      "7/7 [==============================] - 0s 665us/step - loss: 1216.6472\n",
      "Epoch 73/100\n",
      "7/7 [==============================] - 0s 714us/step - loss: 1215.7776\n",
      "Epoch 74/100\n",
      "7/7 [==============================] - 0s 831us/step - loss: 1211.8910\n",
      "Epoch 75/100\n",
      "7/7 [==============================] - 0s 685us/step - loss: 1209.2498\n",
      "Epoch 76/100\n",
      "7/7 [==============================] - 0s 831us/step - loss: 1207.2764\n",
      "Epoch 77/100\n",
      "7/7 [==============================] - 0s 665us/step - loss: 1205.7875\n",
      "Epoch 78/100\n",
      "7/7 [==============================] - 0s 831us/step - loss: 1204.2415\n",
      "Epoch 79/100\n",
      "7/7 [==============================] - 0s 690us/step - loss: 1201.4796\n",
      "Epoch 80/100\n",
      "7/7 [==============================] - 0s 665us/step - loss: 1199.9465\n",
      "Epoch 81/100\n",
      "7/7 [==============================] - 0s 665us/step - loss: 1197.8602\n",
      "Epoch 82/100\n",
      "7/7 [==============================] - 0s 665us/step - loss: 1196.2372\n",
      "Epoch 83/100\n",
      "7/7 [==============================] - 0s 611us/step - loss: 1194.2344\n",
      "Epoch 84/100\n",
      "7/7 [==============================] - 0s 832us/step - loss: 1191.5405\n",
      "Epoch 85/100\n",
      "7/7 [==============================] - 0s 665us/step - loss: 1190.2100\n",
      "Epoch 86/100\n",
      "7/7 [==============================] - 0s 746us/step - loss: 1190.2278\n",
      "Epoch 87/100\n",
      "7/7 [==============================] - 0s 665us/step - loss: 1186.3073\n",
      "Epoch 88/100\n",
      "7/7 [==============================] - 0s 620us/step - loss: 1183.3473\n",
      "Epoch 89/100\n",
      "7/7 [==============================] - 0s 665us/step - loss: 1184.3204\n",
      "Epoch 90/100\n",
      "7/7 [==============================] - 0s 872us/step - loss: 1181.2539\n",
      "Epoch 91/100\n",
      "7/7 [==============================] - 0s 758us/step - loss: 1178.3440\n",
      "Epoch 92/100\n",
      "7/7 [==============================] - 0s 690us/step - loss: 1176.6615\n",
      "Epoch 93/100\n",
      "7/7 [==============================] - 0s 499us/step - loss: 1176.0670\n",
      "Epoch 94/100\n",
      "7/7 [==============================] - 0s 831us/step - loss: 1172.7554\n",
      "Epoch 95/100\n",
      "7/7 [==============================] - 0s 742us/step - loss: 1172.7949\n",
      "Epoch 96/100\n",
      "7/7 [==============================] - 0s 832us/step - loss: 1168.1853\n",
      "Epoch 97/100\n",
      "7/7 [==============================] - 0s 831us/step - loss: 1168.5011\n",
      "Epoch 98/100\n",
      "7/7 [==============================] - 0s 665us/step - loss: 1165.7858\n",
      "Epoch 99/100\n",
      "7/7 [==============================] - 0s 831us/step - loss: 1165.0610\n",
      "Epoch 100/100\n",
      "7/7 [==============================] - 0s 675us/step - loss: 1161.5168\n"
     ]
    },
    {
     "data": {
      "text/plain": [
       "<keras.callbacks.History at 0x228685718b0>"
      ]
     },
     "execution_count": 12,
     "metadata": {},
     "output_type": "execute_result"
    }
   ],
   "source": [
    "model = tf.keras.models.Sequential([\n",
    "    tf.keras.layers.Dense(1, input_shape=[window_size])\n",
    "])\n",
    "\n",
    "model.compile(loss='mse', optimizer='adam')\n",
    "model.fit(train_ds, epochs=100, verbose=1)"
   ]
  },
  {
   "cell_type": "markdown",
   "metadata": {},
   "source": [
    "X_test 와 prediction 을 비교해야 하므로 time_series의 window_size ~ 끝까지를 forecast 하고 X_test 와 같은 길이의 마지막 ` time_series[-len(X_test):]`를 result 로 저장"
   ]
  },
  {
   "cell_type": "code",
   "execution_count": 13,
   "metadata": {},
   "outputs": [
    {
     "data": {
      "text/plain": [
       "(420, 500)"
      ]
     },
     "execution_count": 13,
     "metadata": {},
     "output_type": "execute_result"
    }
   ],
   "source": [
    "split_time - window_size, len(time_series)"
   ]
  },
  {
   "cell_type": "code",
   "execution_count": 17,
   "metadata": {},
   "outputs": [
    {
     "data": {
      "text/plain": [
       "50"
      ]
     },
     "execution_count": 17,
     "metadata": {},
     "output_type": "execute_result"
    }
   ],
   "source": [
    "forecast = []\n",
    "\n",
    "for time in range(split_time, len(time_series)):\n",
    "    prediction = model.predict(time_series[time-window_size:time].reshape(1, -1))\n",
    "    forecast.append(prediction[0][0])\n",
    "\n",
    "len(forecast)"
   ]
  },
  {
   "cell_type": "code",
   "execution_count": 18,
   "metadata": {
    "colab": {
     "base_uri": "https://localhost:8080/",
     "height": 424
    },
    "id": "fwDIkE6FxPl2",
    "outputId": "9b9efe36-9a74-44d8-a0af-696debb5b3f4"
   },
   "outputs": [
    {
     "data": {
      "image/png": "[encoded data removed]",
      "text/plain": [
       "<Figure size 1152x432 with 1 Axes>"
      ]
     },
     "metadata": {
      "needs_background": "light"
     },
     "output_type": "display_data"
    }
   ],
   "source": [
    "plt.figure(figsize=(16, 6))\n",
    "plt.plot(time_test, X_test)\n",
    "plt.plot(time_test, forecast)\n",
    "plt.xticks(rotation=90)\n",
    "plt.show()"
   ]
  },
  {
   "cell_type": "code",
   "execution_count": 19,
   "metadata": {
    "colab": {
     "base_uri": "https://localhost:8080/"
    },
    "id": "CuDrYtF6xPl2",
    "outputId": "528c069b-a7fd-48a2-b5d9-3c8172643505"
   },
   "outputs": [
    {
     "name": "stdout",
     "output_type": "stream",
     "text": [
      "509.8251\n",
      "16.589\n"
     ]
    }
   ],
   "source": [
    "print(tf.keras.metrics.mean_squared_error(X_test, forecast).numpy())\n",
    "print(tf.keras.metrics.mean_absolute_error(X_test, forecast).numpy())"
   ]
  },
  {
   "cell_type": "markdown",
   "metadata": {
    "id": "RAm7Bf5ExPl3"
   },
   "source": [
    "## 3. Deep NN을  이용한 forecasting"
   ]
  },
  {
   "cell_type": "code",
   "execution_count": 20,
   "metadata": {
    "colab": {
     "base_uri": "https://localhost:8080/"
    },
    "id": "tXUMvlomxPl3",
    "outputId": "e0601e34-c210-4a78-f3ef-a33452985f60"
   },
   "outputs": [
    {
     "name": "stdout",
     "output_type": "stream",
     "text": [
      "Epoch 1/100\n",
      "7/7 [==============================] - 0s 3ms/step - loss: 2550.9119\n",
      "Epoch 2/100\n",
      "7/7 [==============================] - 0s 817us/step - loss: 919.6622\n",
      "Epoch 3/100\n",
      "7/7 [==============================] - 0s 831us/step - loss: 891.5251\n",
      "Epoch 4/100\n",
      "7/7 [==============================] - 0s 819us/step - loss: 863.1731\n",
      "Epoch 5/100\n",
      "7/7 [==============================] - 0s 813us/step - loss: 832.1706\n",
      "Epoch 6/100\n",
      "7/7 [==============================] - 0s 796us/step - loss: 813.7220\n",
      "Epoch 7/100\n",
      "7/7 [==============================] - 0s 7ms/step - loss: 743.4388\n",
      "Epoch 8/100\n",
      "7/7 [==============================] - 0s 665us/step - loss: 706.2197\n",
      "Epoch 9/100\n",
      "7/7 [==============================] - 0s 1ms/step - loss: 668.0101\n",
      "Epoch 10/100\n",
      "7/7 [==============================] - 0s 831us/step - loss: 668.6036\n",
      "Epoch 11/100\n",
      "7/7 [==============================] - 0s 999us/step - loss: 647.5094\n",
      "Epoch 12/100\n",
      "7/7 [==============================] - 0s 831us/step - loss: 636.9979\n",
      "Epoch 13/100\n",
      "7/7 [==============================] - 0s 1ms/step - loss: 631.8421\n",
      "Epoch 14/100\n",
      "7/7 [==============================] - 0s 1ms/step - loss: 605.8448\n",
      "Epoch 15/100\n",
      "7/7 [==============================] - 0s 1ms/step - loss: 584.5520\n",
      "Epoch 16/100\n",
      "7/7 [==============================] - 0s 831us/step - loss: 578.2196\n",
      "Epoch 17/100\n",
      "7/7 [==============================] - 0s 831us/step - loss: 619.6488\n",
      "Epoch 18/100\n",
      "7/7 [==============================] - 0s 831us/step - loss: 581.0972\n",
      "Epoch 19/100\n",
      "7/7 [==============================] - 0s 998us/step - loss: 558.4678\n",
      "Epoch 20/100\n",
      "7/7 [==============================] - 0s 1ms/step - loss: 551.8909\n",
      "Epoch 21/100\n",
      "7/7 [==============================] - 0s 997us/step - loss: 553.7816\n",
      "Epoch 22/100\n",
      "7/7 [==============================] - 0s 831us/step - loss: 530.7703\n",
      "Epoch 23/100\n",
      "7/7 [==============================] - 0s 665us/step - loss: 530.0836\n",
      "Epoch 24/100\n",
      "7/7 [==============================] - 0s 997us/step - loss: 512.3966\n",
      "Epoch 25/100\n",
      "7/7 [==============================] - 0s 831us/step - loss: 504.6909\n",
      "Epoch 26/100\n",
      "7/7 [==============================] - 0s 903us/step - loss: 503.2735\n",
      "Epoch 27/100\n",
      "7/7 [==============================] - 0s 997us/step - loss: 492.2054\n",
      "Epoch 28/100\n",
      "7/7 [==============================] - 0s 831us/step - loss: 516.9386\n",
      "Epoch 29/100\n",
      "7/7 [==============================] - 0s 997us/step - loss: 500.7501\n",
      "Epoch 30/100\n",
      "7/7 [==============================] - 0s 1ms/step - loss: 493.6918\n",
      "Epoch 31/100\n",
      "7/7 [==============================] - 0s 997us/step - loss: 485.6889\n",
      "Epoch 32/100\n",
      "7/7 [==============================] - 0s 665us/step - loss: 520.2307\n",
      "Epoch 33/100\n",
      "7/7 [==============================] - 0s 1ms/step - loss: 500.8128\n",
      "Epoch 34/100\n",
      "7/7 [==============================] - 0s 831us/step - loss: 473.6683\n",
      "Epoch 35/100\n",
      "7/7 [==============================] - 0s 831us/step - loss: 498.0438\n",
      "Epoch 36/100\n",
      "7/7 [==============================] - 0s 997us/step - loss: 479.5138\n",
      "Epoch 37/100\n",
      "7/7 [==============================] - 0s 665us/step - loss: 452.8927\n",
      "Epoch 38/100\n",
      "7/7 [==============================] - 0s 831us/step - loss: 499.3349\n",
      "Epoch 39/100\n",
      "7/7 [==============================] - 0s 831us/step - loss: 475.4934\n",
      "Epoch 40/100\n",
      "7/7 [==============================] - 0s 831us/step - loss: 460.9703\n",
      "Epoch 41/100\n",
      "7/7 [==============================] - 0s 665us/step - loss: 454.8615\n",
      "Epoch 42/100\n",
      "7/7 [==============================] - 0s 831us/step - loss: 491.7295\n",
      "Epoch 43/100\n",
      "7/7 [==============================] - 0s 997us/step - loss: 447.6883\n",
      "Epoch 44/100\n",
      "7/7 [==============================] - 0s 830us/step - loss: 435.2687\n",
      "Epoch 45/100\n",
      "7/7 [==============================] - 0s 831us/step - loss: 426.4768\n",
      "Epoch 46/100\n",
      "7/7 [==============================] - 0s 831us/step - loss: 455.1368\n",
      "Epoch 47/100\n",
      "7/7 [==============================] - 0s 831us/step - loss: 486.9213\n",
      "Epoch 48/100\n",
      "7/7 [==============================] - 0s 665us/step - loss: 437.3399\n",
      "Epoch 49/100\n",
      "7/7 [==============================] - 0s 831us/step - loss: 421.1136\n",
      "Epoch 50/100\n",
      "7/7 [==============================] - 0s 831us/step - loss: 429.8130\n",
      "Epoch 51/100\n",
      "7/7 [==============================] - 0s 831us/step - loss: 451.0795\n",
      "Epoch 52/100\n",
      "7/7 [==============================] - 0s 997us/step - loss: 433.5669\n",
      "Epoch 53/100\n",
      "7/7 [==============================] - 0s 997us/step - loss: 432.6436\n",
      "Epoch 54/100\n",
      "7/7 [==============================] - 0s 665us/step - loss: 410.7193\n",
      "Epoch 55/100\n",
      "7/7 [==============================] - 0s 665us/step - loss: 430.6686\n",
      "Epoch 56/100\n",
      "7/7 [==============================] - 0s 665us/step - loss: 441.3474\n",
      "Epoch 57/100\n",
      "7/7 [==============================] - 0s 831us/step - loss: 480.9868\n",
      "Epoch 58/100\n",
      "7/7 [==============================] - 0s 665us/step - loss: 425.2990\n",
      "Epoch 59/100\n",
      "7/7 [==============================] - 0s 665us/step - loss: 444.0124\n",
      "Epoch 60/100\n",
      "7/7 [==============================] - 0s 665us/step - loss: 399.3874\n",
      "Epoch 61/100\n",
      "7/7 [==============================] - 0s 831us/step - loss: 409.4335\n",
      "Epoch 62/100\n",
      "7/7 [==============================] - 0s 831us/step - loss: 405.4062\n",
      "Epoch 63/100\n",
      "7/7 [==============================] - 0s 665us/step - loss: 418.3708\n",
      "Epoch 64/100\n",
      "7/7 [==============================] - 0s 831us/step - loss: 413.7748\n",
      "Epoch 65/100\n",
      "7/7 [==============================] - 0s 831us/step - loss: 412.4342\n",
      "Epoch 66/100\n",
      "7/7 [==============================] - 0s 831us/step - loss: 396.7921\n",
      "Epoch 67/100\n",
      "7/7 [==============================] - 0s 665us/step - loss: 405.9772\n",
      "Epoch 68/100\n",
      "7/7 [==============================] - 0s 665us/step - loss: 384.1921\n",
      "Epoch 69/100\n",
      "7/7 [==============================] - 0s 665us/step - loss: 381.0672\n",
      "Epoch 70/100\n",
      "7/7 [==============================] - 0s 831us/step - loss: 388.3474\n",
      "Epoch 71/100\n",
      "7/7 [==============================] - 0s 997us/step - loss: 385.2152\n",
      "Epoch 72/100\n",
      "7/7 [==============================] - 0s 665us/step - loss: 369.4550\n",
      "Epoch 73/100\n",
      "7/7 [==============================] - 0s 831us/step - loss: 362.1490\n",
      "Epoch 74/100\n",
      "7/7 [==============================] - 0s 665us/step - loss: 358.3668\n",
      "Epoch 75/100\n",
      "7/7 [==============================] - 0s 665us/step - loss: 365.1060\n",
      "Epoch 76/100\n",
      "7/7 [==============================] - 0s 831us/step - loss: 360.8858\n",
      "Epoch 77/100\n",
      "7/7 [==============================] - 0s 665us/step - loss: 384.3393\n",
      "Epoch 78/100\n",
      "7/7 [==============================] - 0s 818us/step - loss: 380.1345\n",
      "Epoch 79/100\n",
      "7/7 [==============================] - 0s 665us/step - loss: 349.2251\n",
      "Epoch 80/100\n",
      "7/7 [==============================] - 0s 831us/step - loss: 342.1949\n",
      "Epoch 81/100\n",
      "7/7 [==============================] - 0s 665us/step - loss: 345.7670\n",
      "Epoch 82/100\n",
      "7/7 [==============================] - 0s 665us/step - loss: 346.2698\n",
      "Epoch 83/100\n",
      "7/7 [==============================] - 0s 831us/step - loss: 409.9037\n",
      "Epoch 84/100\n",
      "7/7 [==============================] - 0s 666us/step - loss: 389.0467\n",
      "Epoch 85/100\n",
      "7/7 [==============================] - 0s 831us/step - loss: 383.7006\n",
      "Epoch 86/100\n",
      "7/7 [==============================] - 0s 831us/step - loss: 366.0192\n",
      "Epoch 87/100\n",
      "7/7 [==============================] - 0s 831us/step - loss: 395.3265\n",
      "Epoch 88/100\n",
      "7/7 [==============================] - 0s 831us/step - loss: 370.9128\n",
      "Epoch 89/100\n",
      "7/7 [==============================] - 0s 831us/step - loss: 372.2036\n",
      "Epoch 90/100\n",
      "7/7 [==============================] - 0s 831us/step - loss: 374.5145\n",
      "Epoch 91/100\n",
      "7/7 [==============================] - 0s 831us/step - loss: 383.6797\n",
      "Epoch 92/100\n",
      "7/7 [==============================] - 0s 665us/step - loss: 343.7218\n",
      "Epoch 93/100\n",
      "7/7 [==============================] - 0s 831us/step - loss: 382.5634\n",
      "Epoch 94/100\n",
      "7/7 [==============================] - 0s 832us/step - loss: 338.9622\n",
      "Epoch 95/100\n",
      "7/7 [==============================] - 0s 665us/step - loss: 313.5881\n",
      "Epoch 96/100\n",
      "7/7 [==============================] - 0s 831us/step - loss: 308.7935\n",
      "Epoch 97/100\n",
      "7/7 [==============================] - 0s 831us/step - loss: 313.5002\n",
      "Epoch 98/100\n",
      "7/7 [==============================] - 0s 997us/step - loss: 329.4461\n",
      "Epoch 99/100\n",
      "7/7 [==============================] - 0s 831us/step - loss: 315.9438\n",
      "Epoch 100/100\n"
     ]
    },
    {
     "name": "stdout",
     "output_type": "stream",
     "text": [
      "7/7 [==============================] - 0s 665us/step - loss: 321.1391\n"
     ]
    }
   ],
   "source": [
    "model = tf.keras.models.Sequential([\n",
    "    tf.keras.layers.Dense(100, input_shape=[window_size], activation=\"relu\"), \n",
    "    tf.keras.layers.Dense(10, activation=\"relu\"), \n",
    "    tf.keras.layers.Dense(1)\n",
    "])\n",
    "\n",
    "model.compile(loss=\"mse\", optimizer='adam')\n",
    "\n",
    "history = model.fit(train_ds,epochs=100,verbose=1)"
   ]
  },
  {
   "cell_type": "code",
   "execution_count": 21,
   "metadata": {},
   "outputs": [
    {
     "data": {
      "image/png": "[encoded data removed]",
      "text/plain": [
       "<Figure size 1152x432 with 1 Axes>"
      ]
     },
     "metadata": {
      "needs_background": "light"
     },
     "output_type": "display_data"
    }
   ],
   "source": [
    "forecast = []\n",
    "\n",
    "for time in range(split_time, len(time_series)):\n",
    "    prediction = model.predict(time_series[time-window_size:time].reshape(1, -1))\n",
    "    forecast.append(prediction[0][0])\n",
    "\n",
    "plt.figure(figsize=(16, 6))\n",
    "plt.plot(time_test, X_test)\n",
    "plt.plot(time_test, forecast)\n",
    "plt.xticks(rotation=90)\n",
    "plt.show()"
   ]
  },
  {
   "cell_type": "code",
   "execution_count": 22,
   "metadata": {
    "colab": {
     "base_uri": "https://localhost:8080/"
    },
    "id": "DixTjS5KxPl4",
    "outputId": "bfbe7e57-d6de-47f2-8c33-31d32b88138f"
   },
   "outputs": [
    {
     "name": "stdout",
     "output_type": "stream",
     "text": [
      "133.44768\n",
      "8.9996195\n"
     ]
    }
   ],
   "source": [
    "print(tf.keras.metrics.mean_squared_error(X_test, forecast).numpy())\n",
    "print(tf.keras.metrics.mean_absolute_error(X_test, forecast).numpy())"
   ]
  },
  {
   "cell_type": "markdown",
   "metadata": {
    "id": "Byujsw8rxPl4"
   },
   "source": [
    "## 4. LSTM 을  이용한 forecasting\n",
    "\n",
    "- RNN 은 3 Dimension input 이 필요하므로 Lambda layer 를 이용하여 2D $\\rightarrow$ 3D expand  "
   ]
  },
  {
   "cell_type": "markdown",
   "metadata": {
    "id": "22szXeckxPl4"
   },
   "source": [
    "### 4-1. Simple LSTM"
   ]
  },
  {
   "cell_type": "markdown",
   "metadata": {
    "id": "EN-WUBYGxPl5"
   },
   "source": [
    "- 첫 번째 람다 레이어는 차원을 확장하는 데 도움이 됩니다. 여기서는 배열을 1차원 확장하고 모델이 모든 길이의 시퀀스를 사용할 수 있음을 의미하는 input_shape=[None]을 설정 합니다.\n",
    "\n",
    "- 최종 람다 계층은 출력을 100배 확장하여 훈련에 도움이 될 수 있습니다. RNN의 기본 레이어는 -1과 1 사이의 값을 출력하는 tanh입니다. 출력을 스케일링하면 이러한 값을 일반적으로 40, 50, 60 등의 값인 시계열에 더 가깝게 만들 수 있습니다."
   ]
  },
  {
   "cell_type": "code",
   "execution_count": 23,
   "metadata": {
    "colab": {
     "base_uri": "https://localhost:8080/"
    },
    "id": "4a954RnbxPl5",
    "outputId": "7223d154-c1ac-497a-98ec-c0a0916a86a6",
    "scrolled": true
   },
   "outputs": [
    {
     "name": "stdout",
     "output_type": "stream",
     "text": [
      "Epoch 1/100\n",
      "7/7 [==============================] - 1s 7ms/step - loss: 4982.4058\n",
      "Epoch 2/100\n",
      "7/7 [==============================] - 0s 6ms/step - loss: 3904.8601\n",
      "Epoch 3/100\n",
      "7/7 [==============================] - 0s 5ms/step - loss: 3238.8936\n",
      "Epoch 4/100\n",
      "7/7 [==============================] - 0s 5ms/step - loss: 2735.1309\n",
      "Epoch 5/100\n",
      "7/7 [==============================] - 0s 5ms/step - loss: 2421.3525\n",
      "Epoch 6/100\n",
      "7/7 [==============================] - 0s 5ms/step - loss: 2199.3254\n",
      "Epoch 7/100\n",
      "7/7 [==============================] - 0s 5ms/step - loss: 1989.8738\n",
      "Epoch 8/100\n",
      "7/7 [==============================] - 0s 5ms/step - loss: 1811.5808\n",
      "Epoch 9/100\n",
      "7/7 [==============================] - 0s 5ms/step - loss: 1640.5095\n",
      "Epoch 10/100\n",
      "7/7 [==============================] - 0s 5ms/step - loss: 1499.2009\n",
      "Epoch 11/100\n",
      "7/7 [==============================] - 0s 5ms/step - loss: 1342.8596\n",
      "Epoch 12/100\n",
      "7/7 [==============================] - 0s 5ms/step - loss: 1215.7549\n",
      "Epoch 13/100\n",
      "7/7 [==============================] - 0s 5ms/step - loss: 1099.2003\n",
      "Epoch 14/100\n",
      "7/7 [==============================] - 0s 5ms/step - loss: 972.0405\n",
      "Epoch 15/100\n",
      "7/7 [==============================] - 0s 5ms/step - loss: 889.5856\n",
      "Epoch 16/100\n",
      "7/7 [==============================] - 0s 5ms/step - loss: 824.5636\n",
      "Epoch 17/100\n",
      "7/7 [==============================] - 0s 5ms/step - loss: 770.5144\n",
      "Epoch 18/100\n",
      "7/7 [==============================] - 0s 5ms/step - loss: 729.0126\n",
      "Epoch 19/100\n",
      "7/7 [==============================] - 0s 5ms/step - loss: 688.9116\n",
      "Epoch 20/100\n",
      "7/7 [==============================] - 0s 5ms/step - loss: 670.3063\n",
      "Epoch 21/100\n",
      "7/7 [==============================] - 0s 5ms/step - loss: 656.7870\n",
      "Epoch 22/100\n",
      "7/7 [==============================] - 0s 5ms/step - loss: 637.3528\n",
      "Epoch 23/100\n",
      "7/7 [==============================] - 0s 5ms/step - loss: 596.8552\n",
      "Epoch 24/100\n",
      "7/7 [==============================] - 0s 5ms/step - loss: 584.1731\n",
      "Epoch 25/100\n",
      "7/7 [==============================] - 0s 5ms/step - loss: 581.3656\n",
      "Epoch 26/100\n",
      "7/7 [==============================] - 0s 5ms/step - loss: 583.8801\n",
      "Epoch 27/100\n",
      "7/7 [==============================] - 0s 5ms/step - loss: 578.2037\n",
      "Epoch 28/100\n",
      "7/7 [==============================] - 0s 5ms/step - loss: 561.6268\n",
      "Epoch 29/100\n",
      "7/7 [==============================] - 0s 6ms/step - loss: 570.6459\n",
      "Epoch 30/100\n",
      "7/7 [==============================] - 0s 6ms/step - loss: 582.5392\n",
      "Epoch 31/100\n",
      "7/7 [==============================] - 0s 5ms/step - loss: 568.4301\n",
      "Epoch 32/100\n",
      "7/7 [==============================] - 0s 5ms/step - loss: 559.9298\n",
      "Epoch 33/100\n",
      "7/7 [==============================] - 0s 5ms/step - loss: 565.5288\n",
      "Epoch 34/100\n",
      "7/7 [==============================] - 0s 5ms/step - loss: 557.6249\n",
      "Epoch 35/100\n",
      "7/7 [==============================] - 0s 5ms/step - loss: 560.6110\n",
      "Epoch 36/100\n",
      "7/7 [==============================] - 0s 5ms/step - loss: 554.6667\n",
      "Epoch 37/100\n",
      "7/7 [==============================] - 0s 5ms/step - loss: 561.4727\n",
      "Epoch 38/100\n",
      "7/7 [==============================] - 0s 5ms/step - loss: 563.4725\n",
      "Epoch 39/100\n",
      "7/7 [==============================] - 0s 6ms/step - loss: 552.7688\n",
      "Epoch 40/100\n",
      "7/7 [==============================] - 0s 6ms/step - loss: 555.7664\n",
      "Epoch 41/100\n",
      "7/7 [==============================] - 0s 6ms/step - loss: 549.0286\n",
      "Epoch 42/100\n",
      "7/7 [==============================] - 0s 5ms/step - loss: 561.2712\n",
      "Epoch 43/100\n",
      "7/7 [==============================] - 0s 5ms/step - loss: 550.2787\n",
      "Epoch 44/100\n",
      "7/7 [==============================] - 0s 5ms/step - loss: 553.0242\n",
      "Epoch 45/100\n",
      "7/7 [==============================] - 0s 5ms/step - loss: 541.2418\n",
      "Epoch 46/100\n",
      "7/7 [==============================] - 0s 5ms/step - loss: 540.0507\n",
      "Epoch 47/100\n",
      "7/7 [==============================] - 0s 5ms/step - loss: 547.1797\n",
      "Epoch 48/100\n",
      "7/7 [==============================] - 0s 5ms/step - loss: 559.6042\n",
      "Epoch 49/100\n",
      "7/7 [==============================] - 0s 5ms/step - loss: 571.7691\n",
      "Epoch 50/100\n",
      "7/7 [==============================] - 0s 6ms/step - loss: 566.5494\n",
      "Epoch 51/100\n",
      "7/7 [==============================] - 0s 6ms/step - loss: 549.6665\n",
      "Epoch 52/100\n",
      "7/7 [==============================] - 0s 5ms/step - loss: 557.0167\n",
      "Epoch 53/100\n",
      "7/7 [==============================] - 0s 5ms/step - loss: 554.7550\n",
      "Epoch 54/100\n",
      "7/7 [==============================] - 0s 5ms/step - loss: 582.7990\n",
      "Epoch 55/100\n",
      "7/7 [==============================] - 0s 5ms/step - loss: 578.9297\n",
      "Epoch 56/100\n",
      "7/7 [==============================] - 0s 5ms/step - loss: 591.7579\n",
      "Epoch 57/100\n",
      "7/7 [==============================] - 0s 5ms/step - loss: 546.1510\n",
      "Epoch 58/100\n",
      "7/7 [==============================] - 0s 5ms/step - loss: 551.8373\n",
      "Epoch 59/100\n",
      "7/7 [==============================] - 0s 5ms/step - loss: 553.1571\n",
      "Epoch 60/100\n",
      "7/7 [==============================] - 0s 5ms/step - loss: 560.9520\n",
      "Epoch 61/100\n",
      "7/7 [==============================] - 0s 5ms/step - loss: 544.2148\n",
      "Epoch 62/100\n",
      "7/7 [==============================] - 0s 5ms/step - loss: 543.6906\n",
      "Epoch 63/100\n",
      "7/7 [==============================] - 0s 5ms/step - loss: 556.3546\n",
      "Epoch 64/100\n",
      "7/7 [==============================] - 0s 5ms/step - loss: 562.1403\n",
      "Epoch 65/100\n",
      "7/7 [==============================] - 0s 5ms/step - loss: 558.5293\n",
      "Epoch 66/100\n",
      "7/7 [==============================] - 0s 5ms/step - loss: 545.3124\n",
      "Epoch 67/100\n",
      "7/7 [==============================] - 0s 5ms/step - loss: 545.3700\n",
      "Epoch 68/100\n",
      "7/7 [==============================] - 0s 5ms/step - loss: 540.6887\n",
      "Epoch 69/100\n",
      "7/7 [==============================] - 0s 5ms/step - loss: 535.5768\n",
      "Epoch 70/100\n",
      "7/7 [==============================] - 0s 5ms/step - loss: 538.0883\n",
      "Epoch 71/100\n",
      "7/7 [==============================] - 0s 5ms/step - loss: 538.1204\n",
      "Epoch 72/100\n",
      "7/7 [==============================] - 0s 5ms/step - loss: 543.8369\n",
      "Epoch 73/100\n",
      "7/7 [==============================] - 0s 5ms/step - loss: 570.5607\n",
      "Epoch 74/100\n",
      "7/7 [==============================] - 0s 5ms/step - loss: 561.7570\n",
      "Epoch 75/100\n",
      "7/7 [==============================] - 0s 5ms/step - loss: 548.6203\n",
      "Epoch 76/100\n",
      "7/7 [==============================] - 0s 5ms/step - loss: 541.6708\n",
      "Epoch 77/100\n",
      "7/7 [==============================] - 0s 5ms/step - loss: 538.7424\n",
      "Epoch 78/100\n",
      "7/7 [==============================] - 0s 5ms/step - loss: 536.4331\n",
      "Epoch 79/100\n",
      "7/7 [==============================] - 0s 5ms/step - loss: 542.1740\n",
      "Epoch 80/100\n",
      "7/7 [==============================] - 0s 5ms/step - loss: 541.7529\n",
      "Epoch 81/100\n",
      "7/7 [==============================] - 0s 5ms/step - loss: 547.0388\n",
      "Epoch 82/100\n",
      "7/7 [==============================] - 0s 5ms/step - loss: 534.4429\n",
      "Epoch 83/100\n",
      "7/7 [==============================] - 0s 5ms/step - loss: 536.3933\n",
      "Epoch 84/100\n",
      "7/7 [==============================] - 0s 5ms/step - loss: 540.8658\n",
      "Epoch 85/100\n",
      "7/7 [==============================] - 0s 5ms/step - loss: 528.5012\n",
      "Epoch 86/100\n",
      "7/7 [==============================] - 0s 5ms/step - loss: 531.2284\n",
      "Epoch 87/100\n",
      "7/7 [==============================] - 0s 5ms/step - loss: 530.0453\n",
      "Epoch 88/100\n",
      "7/7 [==============================] - 0s 5ms/step - loss: 538.4924\n",
      "Epoch 89/100\n",
      "7/7 [==============================] - 0s 5ms/step - loss: 561.4099\n",
      "Epoch 90/100\n",
      "7/7 [==============================] - 0s 5ms/step - loss: 552.0854\n",
      "Epoch 91/100\n",
      "7/7 [==============================] - 0s 5ms/step - loss: 536.7559\n",
      "Epoch 92/100\n",
      "7/7 [==============================] - 0s 5ms/step - loss: 542.4116\n",
      "Epoch 93/100\n",
      "7/7 [==============================] - 0s 6ms/step - loss: 534.8072\n",
      "Epoch 94/100\n",
      "7/7 [==============================] - 0s 5ms/step - loss: 537.2244\n",
      "Epoch 95/100\n",
      "7/7 [==============================] - 0s 5ms/step - loss: 532.8523\n",
      "Epoch 96/100\n",
      "7/7 [==============================] - 0s 5ms/step - loss: 546.7092\n",
      "Epoch 97/100\n",
      "7/7 [==============================] - 0s 5ms/step - loss: 568.6105\n",
      "Epoch 98/100\n",
      "7/7 [==============================] - 0s 5ms/step - loss: 544.9611\n",
      "Epoch 99/100\n",
      "7/7 [==============================] - 0s 5ms/step - loss: 535.4551\n",
      "Epoch 100/100\n",
      "7/7 [==============================] - 0s 5ms/step - loss: 538.0568\n"
     ]
    }
   ],
   "source": [
    "model = tf.keras.models.Sequential([\n",
    "    tf.keras.layers.Lambda(lambda x: tf.expand_dims(x, axis=-1),input_shape=[None]),\n",
    "    tf.keras.layers.LSTM(32, input_shape=[window_size, 1]),\n",
    "    tf.keras.layers.Dense(1),\n",
    "    tf.keras.layers.Lambda(lambda x: x * 100.0)\n",
    "    ])\n",
    "\n",
    "model.compile(loss='mse', optimizer='adam')\n",
    "history = model.fit(train_ds, epochs=100, verbose=1)"
   ]
  },
  {
   "cell_type": "code",
   "execution_count": 24,
   "metadata": {
    "colab": {
     "base_uri": "https://localhost:8080/"
    },
    "id": "KXbY0gn2xPl5",
    "outputId": "7cade4c8-8815-41c2-8bab-f51444408227"
   },
   "outputs": [
    {
     "name": "stdout",
     "output_type": "stream",
     "text": [
      "Model: \"sequential_2\"\n",
      "_________________________________________________________________\n",
      " Layer (type)                Output Shape              Param #   \n",
      "=================================================================\n",
      " lambda (Lambda)             (None, None, 1)           0         \n",
      "                                                                 \n",
      " lstm (LSTM)                 (None, 32)                4352      \n",
      "                                                                 \n",
      " dense_4 (Dense)             (None, 1)                 33        \n",
      "                                                                 \n",
      " lambda_1 (Lambda)           (None, 1)                 0         \n",
      "                                                                 \n",
      "=================================================================\n",
      "Total params: 4,385\n",
      "Trainable params: 4,385\n",
      "Non-trainable params: 0\n",
      "_________________________________________________________________\n"
     ]
    }
   ],
   "source": [
    "model.summary()"
   ]
  },
  {
   "cell_type": "code",
   "execution_count": 25,
   "metadata": {
    "colab": {
     "base_uri": "https://localhost:8080/",
     "height": 422
    },
    "id": "hg9u_d8GxPl6",
    "outputId": "942e3583-c428-45d9-df4d-6e2bc4cb15e3"
   },
   "outputs": [
    {
     "data": {
      "image/png": "[encoded data removed]",
      "text/plain": [
       "<Figure size 1152x432 with 1 Axes>"
      ]
     },
     "metadata": {
      "needs_background": "light"
     },
     "output_type": "display_data"
    }
   ],
   "source": [
    "forecast = []\n",
    "\n",
    "for time in range(split_time, len(time_series)):\n",
    "    prediction = model.predict(time_series[time-window_size:time].reshape(1, -1))\n",
    "    forecast.append(prediction[0][0])\n",
    "\n",
    "plt.figure(figsize=(16, 6))\n",
    "plt.plot(time_test, X_test)\n",
    "plt.plot(time_test, forecast)\n",
    "plt.xticks(rotation=90)\n",
    "plt.show()"
   ]
  },
  {
   "cell_type": "code",
   "execution_count": 26,
   "metadata": {
    "colab": {
     "base_uri": "https://localhost:8080/"
    },
    "id": "DrY27i8GxPl6",
    "outputId": "812fa40d-7f29-4a05-e3f7-3ee046023350"
   },
   "outputs": [
    {
     "name": "stdout",
     "output_type": "stream",
     "text": [
      "164.1757\n",
      "10.573796\n"
     ]
    }
   ],
   "source": [
    "print(tf.keras.metrics.mean_squared_error(X_test, forecast).numpy())\n",
    "print(tf.keras.metrics.mean_absolute_error(X_test, forecast).numpy())"
   ]
  },
  {
   "cell_type": "markdown",
   "metadata": {
    "id": "SdzCnKHKxPl6"
   },
   "source": [
    "### 4-2. Stacked + Bidirectoinal LSTM"
   ]
  },
  {
   "cell_type": "code",
   "execution_count": 27,
   "metadata": {
    "colab": {
     "base_uri": "https://localhost:8080/"
    },
    "id": "UCVyLHjSxPl6",
    "outputId": "7f1bfff5-b7c0-47d3-8959-0f08834a63e9",
    "scrolled": true
   },
   "outputs": [
    {
     "name": "stdout",
     "output_type": "stream",
     "text": [
      "Epoch 1/100\n",
      "7/7 [==============================] - 3s 14ms/step - loss: 8060.6865\n",
      "Epoch 2/100\n",
      "7/7 [==============================] - 0s 12ms/step - loss: 4656.3516\n",
      "Epoch 3/100\n",
      "7/7 [==============================] - 0s 12ms/step - loss: 2725.2644\n",
      "Epoch 4/100\n",
      "7/7 [==============================] - 0s 11ms/step - loss: 2120.6973\n",
      "Epoch 5/100\n",
      "7/7 [==============================] - 0s 12ms/step - loss: 1482.9484\n",
      "Epoch 6/100\n",
      "7/7 [==============================] - 0s 11ms/step - loss: 1142.3904\n",
      "Epoch 7/100\n",
      "7/7 [==============================] - 0s 11ms/step - loss: 895.6246\n",
      "Epoch 8/100\n",
      "7/7 [==============================] - 0s 12ms/step - loss: 837.2250\n",
      "Epoch 9/100\n",
      "7/7 [==============================] - 0s 12ms/step - loss: 739.5288\n",
      "Epoch 10/100\n",
      "7/7 [==============================] - 0s 12ms/step - loss: 691.2288\n",
      "Epoch 11/100\n",
      "7/7 [==============================] - 0s 11ms/step - loss: 665.5812\n",
      "Epoch 12/100\n",
      "7/7 [==============================] - 0s 11ms/step - loss: 659.7927\n",
      "Epoch 13/100\n",
      "7/7 [==============================] - 0s 11ms/step - loss: 639.3470\n",
      "Epoch 14/100\n",
      "7/7 [==============================] - 0s 11ms/step - loss: 654.2757\n",
      "Epoch 15/100\n",
      "7/7 [==============================] - 0s 11ms/step - loss: 648.2644\n",
      "Epoch 16/100\n",
      "7/7 [==============================] - 0s 12ms/step - loss: 636.8313\n",
      "Epoch 17/100\n",
      "7/7 [==============================] - 0s 13ms/step - loss: 624.5211\n",
      "Epoch 18/100\n",
      "7/7 [==============================] - 0s 16ms/step - loss: 627.6379\n",
      "Epoch 19/100\n",
      "7/7 [==============================] - 0s 14ms/step - loss: 623.5776\n",
      "Epoch 20/100\n",
      "7/7 [==============================] - 0s 13ms/step - loss: 612.0414\n",
      "Epoch 21/100\n",
      "7/7 [==============================] - 0s 13ms/step - loss: 607.2433\n",
      "Epoch 22/100\n",
      "7/7 [==============================] - 0s 14ms/step - loss: 607.1021\n",
      "Epoch 23/100\n",
      "7/7 [==============================] - 0s 13ms/step - loss: 608.5028\n",
      "Epoch 24/100\n",
      "7/7 [==============================] - 0s 12ms/step - loss: 625.0689\n",
      "Epoch 25/100\n",
      "7/7 [==============================] - 0s 13ms/step - loss: 645.9984\n",
      "Epoch 26/100\n",
      "7/7 [==============================] - 0s 13ms/step - loss: 627.7129\n",
      "Epoch 27/100\n",
      "7/7 [==============================] - 0s 13ms/step - loss: 610.0581\n",
      "Epoch 28/100\n",
      "7/7 [==============================] - 0s 13ms/step - loss: 639.1281\n",
      "Epoch 29/100\n",
      "7/7 [==============================] - 0s 13ms/step - loss: 598.6098\n",
      "Epoch 30/100\n",
      "7/7 [==============================] - 0s 13ms/step - loss: 600.1794\n",
      "Epoch 31/100\n",
      "7/7 [==============================] - 0s 13ms/step - loss: 615.9223\n",
      "Epoch 32/100\n",
      "7/7 [==============================] - 0s 13ms/step - loss: 639.2643\n",
      "Epoch 33/100\n",
      "7/7 [==============================] - 0s 13ms/step - loss: 620.6171\n",
      "Epoch 34/100\n",
      "7/7 [==============================] - 0s 13ms/step - loss: 598.7599\n",
      "Epoch 35/100\n",
      "7/7 [==============================] - 0s 13ms/step - loss: 610.4469\n",
      "Epoch 36/100\n",
      "7/7 [==============================] - 0s 13ms/step - loss: 625.4135\n",
      "Epoch 37/100\n",
      "7/7 [==============================] - 0s 13ms/step - loss: 620.8580\n",
      "Epoch 38/100\n",
      "7/7 [==============================] - 0s 13ms/step - loss: 615.3788\n",
      "Epoch 39/100\n",
      "7/7 [==============================] - 0s 13ms/step - loss: 643.8560\n",
      "Epoch 40/100\n",
      "7/7 [==============================] - 0s 13ms/step - loss: 620.0811\n",
      "Epoch 41/100\n",
      "7/7 [==============================] - 0s 13ms/step - loss: 592.4194\n",
      "Epoch 42/100\n",
      "7/7 [==============================] - 0s 13ms/step - loss: 595.9505\n",
      "Epoch 43/100\n",
      "7/7 [==============================] - 0s 13ms/step - loss: 600.5358\n",
      "Epoch 44/100\n",
      "7/7 [==============================] - 0s 13ms/step - loss: 626.2744\n",
      "Epoch 45/100\n",
      "7/7 [==============================] - 0s 13ms/step - loss: 633.8060\n",
      "Epoch 46/100\n",
      "7/7 [==============================] - 0s 13ms/step - loss: 654.9124\n",
      "Epoch 47/100\n",
      "7/7 [==============================] - 0s 13ms/step - loss: 617.6409\n",
      "Epoch 48/100\n",
      "7/7 [==============================] - 0s 13ms/step - loss: 622.9131\n",
      "Epoch 49/100\n",
      "7/7 [==============================] - 0s 13ms/step - loss: 600.8801\n",
      "Epoch 50/100\n",
      "7/7 [==============================] - 0s 12ms/step - loss: 578.8383\n",
      "Epoch 51/100\n",
      "7/7 [==============================] - 0s 12ms/step - loss: 575.1198\n",
      "Epoch 52/100\n",
      "7/7 [==============================] - 0s 12ms/step - loss: 576.8296\n",
      "Epoch 53/100\n",
      "7/7 [==============================] - 0s 14ms/step - loss: 578.5967\n",
      "Epoch 54/100\n",
      "7/7 [==============================] - 0s 13ms/step - loss: 576.6837\n",
      "Epoch 55/100\n",
      "7/7 [==============================] - 0s 13ms/step - loss: 597.3492\n",
      "Epoch 56/100\n",
      "7/7 [==============================] - 0s 13ms/step - loss: 632.9836\n",
      "Epoch 57/100\n",
      "7/7 [==============================] - 0s 13ms/step - loss: 589.2095\n",
      "Epoch 58/100\n",
      "7/7 [==============================] - 0s 13ms/step - loss: 567.8870\n",
      "Epoch 59/100\n",
      "7/7 [==============================] - 0s 13ms/step - loss: 584.4578\n",
      "Epoch 60/100\n",
      "7/7 [==============================] - 0s 13ms/step - loss: 573.5070\n",
      "Epoch 61/100\n",
      "7/7 [==============================] - 0s 14ms/step - loss: 572.0791\n",
      "Epoch 62/100\n",
      "7/7 [==============================] - 0s 14ms/step - loss: 601.7820\n",
      "Epoch 63/100\n",
      "7/7 [==============================] - 0s 13ms/step - loss: 592.3881\n",
      "Epoch 64/100\n",
      "7/7 [==============================] - 0s 13ms/step - loss: 595.1008\n",
      "Epoch 65/100\n",
      "7/7 [==============================] - 0s 14ms/step - loss: 571.3569\n",
      "Epoch 66/100\n",
      "7/7 [==============================] - 0s 13ms/step - loss: 575.3448\n",
      "Epoch 67/100\n",
      "7/7 [==============================] - 0s 15ms/step - loss: 567.4998\n",
      "Epoch 68/100\n",
      "7/7 [==============================] - 0s 14ms/step - loss: 578.6542\n",
      "Epoch 69/100\n",
      "7/7 [==============================] - 0s 13ms/step - loss: 656.9909\n",
      "Epoch 70/100\n",
      "7/7 [==============================] - 0s 13ms/step - loss: 618.5290\n",
      "Epoch 71/100\n",
      "7/7 [==============================] - 0s 13ms/step - loss: 575.4851\n",
      "Epoch 72/100\n",
      "7/7 [==============================] - 0s 13ms/step - loss: 588.1531\n",
      "Epoch 73/100\n",
      "7/7 [==============================] - 0s 13ms/step - loss: 578.1925\n",
      "Epoch 74/100\n",
      "7/7 [==============================] - 0s 13ms/step - loss: 560.5234\n",
      "Epoch 75/100\n",
      "7/7 [==============================] - 0s 13ms/step - loss: 569.4902\n",
      "Epoch 76/100\n",
      "7/7 [==============================] - 0s 13ms/step - loss: 561.0632\n",
      "Epoch 77/100\n",
      "7/7 [==============================] - 0s 12ms/step - loss: 550.6251\n",
      "Epoch 78/100\n",
      "7/7 [==============================] - 0s 12ms/step - loss: 559.2575\n",
      "Epoch 79/100\n",
      "7/7 [==============================] - 0s 12ms/step - loss: 557.7333\n",
      "Epoch 80/100\n",
      "7/7 [==============================] - 0s 13ms/step - loss: 564.5823\n",
      "Epoch 81/100\n",
      "7/7 [==============================] - 0s 13ms/step - loss: 574.6249\n",
      "Epoch 82/100\n",
      "7/7 [==============================] - 0s 14ms/step - loss: 597.9808\n",
      "Epoch 83/100\n",
      "7/7 [==============================] - 0s 13ms/step - loss: 552.6576\n",
      "Epoch 84/100\n",
      "7/7 [==============================] - 0s 13ms/step - loss: 549.7673\n",
      "Epoch 85/100\n",
      "7/7 [==============================] - 0s 13ms/step - loss: 544.8812\n",
      "Epoch 86/100\n",
      "7/7 [==============================] - 0s 13ms/step - loss: 547.5444\n",
      "Epoch 87/100\n",
      "7/7 [==============================] - 0s 13ms/step - loss: 582.9949\n",
      "Epoch 88/100\n",
      "7/7 [==============================] - 0s 13ms/step - loss: 561.5993\n",
      "Epoch 89/100\n",
      "7/7 [==============================] - 0s 13ms/step - loss: 550.7956\n",
      "Epoch 90/100\n",
      "7/7 [==============================] - 0s 13ms/step - loss: 569.5233\n",
      "Epoch 91/100\n",
      "7/7 [==============================] - 0s 13ms/step - loss: 544.4249\n",
      "Epoch 92/100\n",
      "7/7 [==============================] - 0s 14ms/step - loss: 536.1719\n",
      "Epoch 93/100\n",
      "7/7 [==============================] - 0s 13ms/step - loss: 562.4554\n",
      "Epoch 94/100\n",
      "7/7 [==============================] - 0s 13ms/step - loss: 539.0515\n",
      "Epoch 95/100\n",
      "7/7 [==============================] - 0s 13ms/step - loss: 536.5922\n",
      "Epoch 96/100\n",
      "7/7 [==============================] - 0s 13ms/step - loss: 544.9484\n",
      "Epoch 97/100\n",
      "7/7 [==============================] - 0s 13ms/step - loss: 530.2389\n",
      "Epoch 98/100\n",
      "7/7 [==============================] - 0s 13ms/step - loss: 544.7151\n",
      "Epoch 99/100\n",
      "7/7 [==============================] - 0s 13ms/step - loss: 544.8193\n",
      "Epoch 100/100\n",
      "7/7 [==============================] - 0s 14ms/step - loss: 531.0707\n"
     ]
    }
   ],
   "source": [
    "model = tf.keras.models.Sequential([\n",
    "    tf.keras.layers.Lambda(lambda x: tf.expand_dims(x, axis=-1),input_shape=[None]),\n",
    "    tf.keras.layers.Bidirectional(tf.keras.layers.LSTM(32, return_sequences=True)),\n",
    "    tf.keras.layers.Bidirectional(tf.keras.layers.LSTM(32)),\n",
    "    tf.keras.layers.Dense(1),\n",
    "    tf.keras.layers.Lambda(lambda x: x * 100.0)\n",
    "    ])\n",
    "\n",
    "model.compile(loss='mse', optimizer='adam')\n",
    "history = model.fit(train_ds, epochs=100, verbose=1)"
   ]
  },
  {
   "cell_type": "code",
   "execution_count": 28,
   "metadata": {},
   "outputs": [
    {
     "data": {
      "image/png": "[encoded data removed]",
      "text/plain": [
       "<Figure size 1152x432 with 1 Axes>"
      ]
     },
     "metadata": {
      "needs_background": "light"
     },
     "output_type": "display_data"
    }
   ],
   "source": [
    "forecast = []\n",
    "\n",
    "for time in range(split_time, len(time_series)):\n",
    "    prediction = model.predict(time_series[time-window_size:time].reshape(1, -1))\n",
    "    forecast.append(prediction[0][0])\n",
    "\n",
    "plt.figure(figsize=(16, 6))\n",
    "plt.plot(time_test, X_test)\n",
    "plt.plot(time_test, forecast)\n",
    "plt.xticks(rotation=90)\n",
    "plt.show()"
   ]
  },
  {
   "cell_type": "code",
   "execution_count": 29,
   "metadata": {
    "colab": {
     "base_uri": "https://localhost:8080/"
    },
    "id": "XEkB12vrxPl6",
    "outputId": "95d45783-3fe9-4a75-e5c1-944a39ae41f3"
   },
   "outputs": [
    {
     "name": "stdout",
     "output_type": "stream",
     "text": [
      "164.63147\n",
      "9.648029\n"
     ]
    }
   ],
   "source": [
    "print(tf.keras.metrics.mean_squared_error(X_test, forecast).numpy())\n",
    "print(tf.keras.metrics.mean_absolute_error(X_test, forecast).numpy())"
   ]
  },
  {
   "cell_type": "code",
   "execution_count": null,
   "metadata": {
    "id": "h__lasusxPl8"
   },
   "outputs": [],
   "source": []
  }
 ],
 "metadata": {
  "accelerator": "GPU",
  "colab": {
   "collapsed_sections": [],
   "name": "041_WindowedData_Model_Performance.ipynb",
   "provenance": []
  },
  "kernelspec": {
   "display_name": "Python 3 (ipykernel)",
   "language": "python",
   "name": "python3"
  },
  "language_info": {
   "codemirror_mode": {
    "name": "ipython",
    "version": 3
   },
   "file_extension": ".py",
   "mimetype": "text/x-python",
   "name": "python",
   "nbconvert_exporter": "python",
   "pygments_lexer": "ipython3",
   "version": "3.8.12"
  }
 },
 "nbformat": 4,
 "nbformat_minor": 1
}
