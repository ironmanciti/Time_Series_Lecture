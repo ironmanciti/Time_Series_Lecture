{
 "cells": [
  {
   "cell_type": "markdown",
   "metadata": {
    "id": "UQW0noetxPlq"
   },
   "source": [
    "# Optimal Learning Rate 찾기 및 Huber Loss 함수 적용\n",
    "\n",
    "손실 함수는 크게 분류 및 회귀 손실의 두 가지 유형으로 분류 할 수 있습니다. Huber Loss는 회귀 손실에 속합니다. Huber 손실은 제곱 오차 손실보다 데이터의 이상 값에 덜 민감합니다. \n",
    "\n",
    "<img src=\"https://blog.kakaocdn.net/dn/081sh/btqNth1n6DL/rkSLdrV0RFuYg04k4VyeZK/img.png\" width=300/>\n",
    "\n",
    "$$L_{\\delta}(y, f(x))= \\begin{cases}\n",
    "    \\frac{1}{2}(y-f(x))^2       & \\quad \\text{ for |y-f(x)|} \\leq \\delta,\\\\\n",
    "   \\delta |y-f(x)|-\\frac{1}{2} \\delta^2  & \\quad \\text{if } n \\text{ is odd}\n",
    "  \\end{cases}$$  \n",
    "  \n",
    "- Huber function은 모든 구간에서 미분가능하고 연속  \n",
    "- $\\delta$로 경사도 조절"
   ]
  },
  {
   "cell_type": "markdown",
   "metadata": {
    "id": "AAiYtx2xxPlt"
   },
   "source": [
    "### Sunspots 데이터셋을 활용하여 window_dataset 만들기"
   ]
  },
  {
   "cell_type": "code",
   "execution_count": 1,
   "metadata": {
    "colab": {
     "base_uri": "https://localhost:8080/",
     "height": 206
    },
    "id": "fu_77IlnxPlu",
    "outputId": "f2e502b2-5de0-471d-a633-d184ea701db7"
   },
   "outputs": [
    {
     "data": {
      "text/html": [
       "<div>\n",
       "<style scoped>\n",
       "    .dataframe tbody tr th:only-of-type {\n",
       "        vertical-align: middle;\n",
       "    }\n",
       "\n",
       "    .dataframe tbody tr th {\n",
       "        vertical-align: top;\n",
       "    }\n",
       "\n",
       "    .dataframe thead th {\n",
       "        text-align: right;\n",
       "    }\n",
       "</style>\n",
       "<table border=\"1\" class=\"dataframe\">\n",
       "  <thead>\n",
       "    <tr style=\"text-align: right;\">\n",
       "      <th></th>\n",
       "      <th>Date</th>\n",
       "      <th>Monthly Mean Total Sunspot Number</th>\n",
       "    </tr>\n",
       "  </thead>\n",
       "  <tbody>\n",
       "    <tr>\n",
       "      <th>0</th>\n",
       "      <td>1749-01-31</td>\n",
       "      <td>96.7</td>\n",
       "    </tr>\n",
       "    <tr>\n",
       "      <th>1</th>\n",
       "      <td>1749-02-28</td>\n",
       "      <td>104.3</td>\n",
       "    </tr>\n",
       "    <tr>\n",
       "      <th>2</th>\n",
       "      <td>1749-03-31</td>\n",
       "      <td>116.7</td>\n",
       "    </tr>\n",
       "    <tr>\n",
       "      <th>3</th>\n",
       "      <td>1749-04-30</td>\n",
       "      <td>92.8</td>\n",
       "    </tr>\n",
       "    <tr>\n",
       "      <th>4</th>\n",
       "      <td>1749-05-31</td>\n",
       "      <td>141.7</td>\n",
       "    </tr>\n",
       "  </tbody>\n",
       "</table>\n",
       "</div>"
      ],
      "text/plain": [
       "         Date  Monthly Mean Total Sunspot Number\n",
       "0  1749-01-31                               96.7\n",
       "1  1749-02-28                              104.3\n",
       "2  1749-03-31                              116.7\n",
       "3  1749-04-30                               92.8\n",
       "4  1749-05-31                              141.7"
      ]
     },
     "execution_count": 1,
     "metadata": {},
     "output_type": "execute_result"
    }
   ],
   "source": [
    "import tensorflow as tf\n",
    "import numpy as np\n",
    "import matplotlib.pyplot as plt\n",
    "from sklearn.metrics import mean_squared_error, mean_absolute_error\n",
    "import pandas as pd\n",
    "\n",
    "url = 'https://storage.googleapis.com/download.tensorflow.org/data/Sunspots.csv'\n",
    "df = pd.read_csv(url, skiprows=0, index_col=0) # 첫 줄은 header이므로 skip \n",
    "df.head()"
   ]
  },
  {
   "cell_type": "markdown",
   "metadata": {
    "id": "Xzgj5nhFFPUS"
   },
   "source": [
    "- 시간 절약을 위해 최근 500 개월치 data 만 이용"
   ]
  },
  {
   "cell_type": "code",
   "execution_count": 2,
   "metadata": {
    "colab": {
     "base_uri": "https://localhost:8080/"
    },
    "id": "pOHj-Sj6Bxq0",
    "outputId": "05f72f37-94e9-4d01-f90e-c9f3d982930e"
   },
   "outputs": [
    {
     "data": {
      "text/plain": [
       "((500,), (500,))"
      ]
     },
     "execution_count": 2,
     "metadata": {},
     "output_type": "execute_result"
    }
   ],
   "source": [
    "time = df.iloc[-500:, 0].values\n",
    "time_series = df.iloc[-500:, 1].values\n",
    "time.shape, time_series.shape"
   ]
  },
  {
   "cell_type": "markdown",
   "metadata": {
    "id": "szHb65PCxPlw"
   },
   "source": [
    "## Supervised Learning dataset 작성"
   ]
  },
  {
   "cell_type": "code",
   "execution_count": 3,
   "metadata": {
    "id": "wpH3xVcJxPlw"
   },
   "outputs": [],
   "source": [
    "def windowed_dataset(series, window_size, batch_size, shuffle_buffer):\n",
    "    ds = tf.data.Dataset.from_tensor_slices(series)\n",
    "    ds = ds.window(window_size+1, shift=1, drop_remainder=True)\n",
    "    ds = ds.flat_map(lambda w: w.batch(window_size+1))\n",
    "    ds = ds.shuffle(shuffle_buffer).map(lambda w: (w[:-1], w[-1]))\n",
    "    ds = ds.batch(batch_size).prefetch(1)\n",
    "    return ds"
   ]
  },
  {
   "cell_type": "markdown",
   "metadata": {
    "id": "snCcd5ZnxPlx"
   },
   "source": [
    "### train/validation set 분리"
   ]
  },
  {
   "cell_type": "code",
   "execution_count": 4,
   "metadata": {
    "colab": {
     "base_uri": "https://localhost:8080/"
    },
    "id": "8HuXVml6xPlx",
    "outputId": "036cce6d-5157-420c-9b5e-f44e33fb943f"
   },
   "outputs": [
    {
     "data": {
      "text/plain": [
       "(450, 50, 450, 50)"
      ]
     },
     "execution_count": 4,
     "metadata": {},
     "output_type": "execute_result"
    }
   ],
   "source": [
    "split_time = 450\n",
    "\n",
    "time_train = time[:split_time]\n",
    "time_test = time[split_time:]\n",
    "\n",
    "X_train = time_series[:split_time]\n",
    "X_test  = time_series[split_time:]\n",
    "\n",
    "len(time_train), len(time_test), len(X_train), len(X_test)"
   ]
  },
  {
   "cell_type": "code",
   "execution_count": 5,
   "metadata": {
    "colab": {
     "base_uri": "https://localhost:8080/"
    },
    "id": "Gep8OGvZxPly",
    "outputId": "f6d44b43-3869-4466-e4fe-5ad314883b6d"
   },
   "outputs": [
    {
     "data": {
      "text/plain": [
       "<PrefetchDataset shapes: ((None, None), (None,)), types: (tf.float64, tf.float64)>"
      ]
     },
     "execution_count": 5,
     "metadata": {},
     "output_type": "execute_result"
    }
   ],
   "source": [
    "window_size = 20\n",
    "batch_size = 16\n",
    "shuffle_buffer_size = 1000\n",
    "\n",
    "train_ds = windowed_dataset(X_train, window_size, batch_size, shuffle_buffer_size)\n",
    "train_ds"
   ]
  },
  {
   "cell_type": "code",
   "execution_count": 6,
   "metadata": {
    "colab": {
     "base_uri": "https://localhost:8080/"
    },
    "id": "R8EwGzPPxPlz",
    "outputId": "9096a831-5268-4ee6-a55d-6ec92a17a5a2"
   },
   "outputs": [
    {
     "name": "stdout",
     "output_type": "stream",
     "text": [
      "x =  (16, 20)\n",
      "y =  (16,)\n"
     ]
    }
   ],
   "source": [
    "for x, y in train_ds:\n",
    "    print('x = ', x.numpy().shape)\n",
    "    print('y = ', y.numpy().shape)\n",
    "    break"
   ]
  },
  {
   "cell_type": "markdown",
   "metadata": {
    "id": "SdzCnKHKxPl6"
   },
   "source": [
    "## Stacked + Bidirectoinal LSTM"
   ]
  },
  {
   "cell_type": "code",
   "execution_count": 7,
   "metadata": {},
   "outputs": [],
   "source": [
    "def create_model():\n",
    "    model = tf.keras.models.Sequential([\n",
    "        tf.keras.layers.Lambda(lambda x: tf.expand_dims(x, axis=-1),input_shape=[None]),\n",
    "        tf.keras.layers.Bidirectional(tf.keras.layers.LSTM(32, return_sequences=True)),\n",
    "        tf.keras.layers.Bidirectional(tf.keras.layers.LSTM(32)),\n",
    "        tf.keras.layers.Dense(1),\n",
    "        tf.keras.layers.Lambda(lambda x: x * 100.0)\n",
    "        ])\n",
    "    return model"
   ]
  },
  {
   "cell_type": "markdown",
   "metadata": {},
   "source": [
    "### Optimal Learning Rate 찾기\n",
    "\n",
    "- epoch이 진행되면서 Learning Rate를 증가시킴  \n",
    "\n",
    "- loss가 감소하다 증가하는 경우 learning rate를 시각화 하여 loss 증가 직전의 가장 큰 learning rate 선택  \n",
    "\n",
    "- 선택한 learning rate 로 다시 train"
   ]
  },
  {
   "cell_type": "code",
   "execution_count": 8,
   "metadata": {
    "colab": {
     "base_uri": "https://localhost:8080/"
    },
    "id": "UCVyLHjSxPl6",
    "outputId": "7f1bfff5-b7c0-47d3-8959-0f08834a63e9",
    "scrolled": true
   },
   "outputs": [
    {
     "name": "stdout",
     "output_type": "stream",
     "text": [
      "Epoch 1/100\n",
      "27/27 [==============================] - 5s 14ms/step - loss: 74.5907 - mae: 75.0885\n",
      "Epoch 2/100\n",
      "27/27 [==============================] - 0s 13ms/step - loss: 73.6842 - mae: 74.1824\n",
      "Epoch 3/100\n",
      "27/27 [==============================] - 0s 12ms/step - loss: 72.8039 - mae: 73.3002\n",
      "Epoch 4/100\n",
      "27/27 [==============================] - 0s 13ms/step - loss: 72.0701 - mae: 72.5683\n",
      "Epoch 5/100\n",
      "27/27 [==============================] - 0s 13ms/step - loss: 71.4568 - mae: 71.9551\n",
      "Epoch 6/100\n",
      "27/27 [==============================] - 0s 13ms/step - loss: 70.9040 - mae: 71.4027\n",
      "Epoch 7/100\n",
      "27/27 [==============================] - 0s 13ms/step - loss: 70.3589 - mae: 70.8585\n",
      "Epoch 8/100\n",
      "27/27 [==============================] - 0s 13ms/step - loss: 69.8238 - mae: 70.3238\n",
      "Epoch 9/100\n",
      "27/27 [==============================] - 0s 13ms/step - loss: 69.2373 - mae: 69.7365\n",
      "Epoch 10/100\n",
      "27/27 [==============================] - 0s 13ms/step - loss: 68.5886 - mae: 69.0864\n",
      "Epoch 11/100\n",
      "27/27 [==============================] - 0s 13ms/step - loss: 67.9318 - mae: 68.4298\n",
      "Epoch 12/100\n",
      "27/27 [==============================] - 0s 13ms/step - loss: 67.2502 - mae: 67.7473\n",
      "Epoch 13/100\n",
      "27/27 [==============================] - 0s 13ms/step - loss: 66.5009 - mae: 66.9986\n",
      "Epoch 14/100\n",
      "27/27 [==============================] - 0s 13ms/step - loss: 65.7695 - mae: 66.2664\n",
      "Epoch 15/100\n",
      "27/27 [==============================] - 0s 13ms/step - loss: 64.9880 - mae: 65.4825\n",
      "Epoch 16/100\n",
      "27/27 [==============================] - 0s 13ms/step - loss: 64.2247 - mae: 64.7220\n",
      "Epoch 17/100\n",
      "27/27 [==============================] - 0s 12ms/step - loss: 63.4368 - mae: 63.9364\n",
      "Epoch 18/100\n",
      "27/27 [==============================] - 0s 13ms/step - loss: 62.5492 - mae: 63.0477\n",
      "Epoch 19/100\n",
      "27/27 [==============================] - 0s 13ms/step - loss: 61.4418 - mae: 61.9410\n",
      "Epoch 20/100\n",
      "27/27 [==============================] - 0s 12ms/step - loss: 60.2436 - mae: 60.7414\n",
      "Epoch 21/100\n",
      "27/27 [==============================] - 0s 12ms/step - loss: 58.7791 - mae: 59.2777\n",
      "Epoch 22/100\n",
      "27/27 [==============================] - 0s 12ms/step - loss: 56.8358 - mae: 57.3328\n",
      "Epoch 23/100\n",
      "27/27 [==============================] - 0s 13ms/step - loss: 55.0234 - mae: 55.5205\n",
      "Epoch 24/100\n",
      "27/27 [==============================] - 0s 12ms/step - loss: 53.9422 - mae: 54.4395\n",
      "Epoch 25/100\n",
      "27/27 [==============================] - 0s 12ms/step - loss: 53.2143 - mae: 53.7110\n",
      "Epoch 26/100\n",
      "27/27 [==============================] - 0s 13ms/step - loss: 52.5611 - mae: 53.0567\n",
      "Epoch 27/100\n",
      "27/27 [==============================] - 0s 14ms/step - loss: 51.8559 - mae: 52.3538\n",
      "Epoch 28/100\n",
      "27/27 [==============================] - 0s 13ms/step - loss: 50.5866 - mae: 51.0848\n",
      "Epoch 29/100\n",
      "27/27 [==============================] - 0s 13ms/step - loss: 48.8919 - mae: 49.3903\n",
      "Epoch 30/100\n",
      "27/27 [==============================] - 0s 13ms/step - loss: 47.9767 - mae: 48.4746\n",
      "Epoch 31/100\n",
      "27/27 [==============================] - 0s 13ms/step - loss: 47.2057 - mae: 47.7032\n",
      "Epoch 32/100\n",
      "27/27 [==============================] - 0s 12ms/step - loss: 46.4467 - mae: 46.9450\n",
      "Epoch 33/100\n",
      "27/27 [==============================] - 0s 13ms/step - loss: 45.6608 - mae: 46.1560\n",
      "Epoch 34/100\n",
      "27/27 [==============================] - 0s 13ms/step - loss: 44.7174 - mae: 45.2164\n",
      "Epoch 35/100\n",
      "27/27 [==============================] - 0s 13ms/step - loss: 43.7180 - mae: 44.2152\n",
      "Epoch 36/100\n",
      "27/27 [==============================] - 0s 13ms/step - loss: 42.5912 - mae: 43.0906\n",
      "Epoch 37/100\n",
      "27/27 [==============================] - 0s 13ms/step - loss: 41.3932 - mae: 41.8913\n",
      "Epoch 38/100\n",
      "27/27 [==============================] - 0s 13ms/step - loss: 40.0738 - mae: 40.5698\n",
      "Epoch 39/100\n",
      "27/27 [==============================] - 0s 13ms/step - loss: 38.5908 - mae: 39.0891\n",
      "Epoch 40/100\n",
      "27/27 [==============================] - 0s 13ms/step - loss: 36.9465 - mae: 37.4421\n",
      "Epoch 41/100\n",
      "27/27 [==============================] - 0s 13ms/step - loss: 35.1665 - mae: 35.6604\n",
      "Epoch 42/100\n",
      "27/27 [==============================] - 0s 13ms/step - loss: 33.1595 - mae: 33.6560\n",
      "Epoch 43/100\n",
      "27/27 [==============================] - 0s 13ms/step - loss: 31.9363 - mae: 32.4350\n",
      "Epoch 44/100\n",
      "27/27 [==============================] - 0s 14ms/step - loss: 30.3287 - mae: 30.8250\n",
      "Epoch 45/100\n",
      "27/27 [==============================] - 0s 13ms/step - loss: 28.5640 - mae: 29.0593\n",
      "Epoch 46/100\n",
      "27/27 [==============================] - 0s 12ms/step - loss: 27.6256 - mae: 28.1199\n",
      "Epoch 47/100\n",
      "27/27 [==============================] - 0s 13ms/step - loss: 27.0779 - mae: 27.5734\n",
      "Epoch 48/100\n",
      "27/27 [==============================] - 0s 13ms/step - loss: 27.1564 - mae: 27.6540\n",
      "Epoch 49/100\n",
      "27/27 [==============================] - 0s 13ms/step - loss: 24.9706 - mae: 25.4665\n",
      "Epoch 50/100\n",
      "27/27 [==============================] - 0s 13ms/step - loss: 25.0769 - mae: 25.5714\n",
      "Epoch 51/100\n",
      "27/27 [==============================] - 0s 13ms/step - loss: 24.4215 - mae: 24.9167\n",
      "Epoch 52/100\n",
      "27/27 [==============================] - 0s 13ms/step - loss: 29.5996 - mae: 30.0938\n",
      "Epoch 53/100\n",
      "27/27 [==============================] - 0s 13ms/step - loss: 25.1245 - mae: 25.6157\n",
      "Epoch 54/100\n",
      "27/27 [==============================] - 0s 13ms/step - loss: 23.4856 - mae: 23.9797\n",
      "Epoch 55/100\n",
      "27/27 [==============================] - 0s 13ms/step - loss: 29.8228 - mae: 30.3180\n",
      "Epoch 56/100\n",
      "27/27 [==============================] - 0s 13ms/step - loss: 29.2768 - mae: 29.7683\n",
      "Epoch 57/100\n",
      "27/27 [==============================] - 0s 12ms/step - loss: 32.0904 - mae: 32.5848\n",
      "Epoch 58/100\n",
      "27/27 [==============================] - 0s 13ms/step - loss: 29.8548 - mae: 30.3489\n",
      "Epoch 59/100\n",
      "27/27 [==============================] - 0s 13ms/step - loss: 27.4546 - mae: 27.9512\n",
      "Epoch 60/100\n",
      "27/27 [==============================] - 0s 13ms/step - loss: 25.8289 - mae: 26.3243\n",
      "Epoch 61/100\n",
      "27/27 [==============================] - 0s 14ms/step - loss: 26.3467 - mae: 26.8396\n",
      "Epoch 62/100\n",
      "27/27 [==============================] - 0s 12ms/step - loss: 29.1757 - mae: 29.6725\n",
      "Epoch 63/100\n",
      "27/27 [==============================] - 0s 13ms/step - loss: 30.3981 - mae: 30.8961\n",
      "Epoch 64/100\n",
      "27/27 [==============================] - 0s 13ms/step - loss: 32.8937 - mae: 33.3874\n",
      "Epoch 65/100\n",
      "27/27 [==============================] - 0s 12ms/step - loss: 32.2893 - mae: 32.7806\n",
      "Epoch 66/100\n",
      "27/27 [==============================] - 0s 13ms/step - loss: 35.7909 - mae: 36.2867\n",
      "Epoch 67/100\n",
      "27/27 [==============================] - 0s 13ms/step - loss: 34.9003 - mae: 35.3956\n",
      "Epoch 68/100\n",
      "27/27 [==============================] - 0s 13ms/step - loss: 30.1246 - mae: 30.6174\n",
      "Epoch 69/100\n",
      "27/27 [==============================] - 0s 13ms/step - loss: 28.9082 - mae: 29.4046\n",
      "Epoch 70/100\n",
      "27/27 [==============================] - 0s 12ms/step - loss: 31.2815 - mae: 31.7754\n",
      "Epoch 71/100\n",
      "27/27 [==============================] - 0s 14ms/step - loss: 33.1561 - mae: 33.6513\n",
      "Epoch 72/100\n",
      "27/27 [==============================] - 0s 12ms/step - loss: 34.6885 - mae: 35.1846\n",
      "Epoch 73/100\n",
      "27/27 [==============================] - 0s 12ms/step - loss: 38.5257 - mae: 39.0202\n",
      "Epoch 74/100\n",
      "27/27 [==============================] - 0s 13ms/step - loss: 34.5477 - mae: 35.0424\n",
      "Epoch 75/100\n",
      "27/27 [==============================] - 0s 13ms/step - loss: 36.7363 - mae: 37.2345\n",
      "Epoch 76/100\n",
      "27/27 [==============================] - 0s 13ms/step - loss: 36.7554 - mae: 37.2514\n",
      "Epoch 77/100\n",
      "27/27 [==============================] - 0s 12ms/step - loss: 41.2881 - mae: 41.7845\n",
      "Epoch 78/100\n",
      "27/27 [==============================] - 0s 12ms/step - loss: 49.6663 - mae: 50.1619\n",
      "Epoch 79/100\n",
      "27/27 [==============================] - 0s 13ms/step - loss: 50.0639 - mae: 50.5622\n",
      "Epoch 80/100\n",
      "27/27 [==============================] - 0s 12ms/step - loss: 42.2763 - mae: 42.7712\n",
      "Epoch 81/100\n",
      "27/27 [==============================] - 0s 13ms/step - loss: 39.1257 - mae: 39.6225\n",
      "Epoch 82/100\n",
      "27/27 [==============================] - 0s 12ms/step - loss: 43.2901 - mae: 43.7865\n",
      "Epoch 83/100\n",
      "27/27 [==============================] - 0s 12ms/step - loss: 53.4926 - mae: 53.9913\n",
      "Epoch 84/100\n"
     ]
    },
    {
     "name": "stdout",
     "output_type": "stream",
     "text": [
      "27/27 [==============================] - 0s 12ms/step - loss: 45.4870 - mae: 45.9841\n",
      "Epoch 85/100\n",
      "27/27 [==============================] - 0s 13ms/step - loss: 46.2613 - mae: 46.7603\n",
      "Epoch 86/100\n",
      "27/27 [==============================] - 0s 12ms/step - loss: 55.7684 - mae: 56.2676\n",
      "Epoch 87/100\n",
      "27/27 [==============================] - 0s 13ms/step - loss: 45.6765 - mae: 46.1737\n",
      "Epoch 88/100\n",
      "27/27 [==============================] - 0s 12ms/step - loss: 53.5366 - mae: 54.0346\n",
      "Epoch 89/100\n",
      "27/27 [==============================] - 0s 12ms/step - loss: 52.9486 - mae: 53.4476\n",
      "Epoch 90/100\n",
      "27/27 [==============================] - 0s 12ms/step - loss: 57.4207 - mae: 57.9190\n",
      "Epoch 91/100\n",
      "27/27 [==============================] - 0s 12ms/step - loss: 55.0562 - mae: 55.5546\n",
      "Epoch 92/100\n",
      "27/27 [==============================] - 0s 13ms/step - loss: 51.4141 - mae: 51.9123\n",
      "Epoch 93/100\n",
      "27/27 [==============================] - 0s 12ms/step - loss: 53.6073 - mae: 54.1070\n",
      "Epoch 94/100\n",
      "27/27 [==============================] - 0s 12ms/step - loss: 54.4794 - mae: 54.9765\n",
      "Epoch 95/100\n",
      "27/27 [==============================] - 0s 13ms/step - loss: 51.6881 - mae: 52.1866\n",
      "Epoch 96/100\n",
      "27/27 [==============================] - 0s 12ms/step - loss: 47.9462 - mae: 48.4432\n",
      "Epoch 97/100\n",
      "27/27 [==============================] - 0s 13ms/step - loss: 46.5954 - mae: 47.0931\n",
      "Epoch 98/100\n",
      "27/27 [==============================] - 0s 12ms/step - loss: 54.2646 - mae: 54.7633\n",
      "Epoch 99/100\n",
      "27/27 [==============================] - 0s 13ms/step - loss: 56.2500 - mae: 56.7475\n",
      "Epoch 100/100\n",
      "27/27 [==============================] - 0s 13ms/step - loss: 51.9067 - mae: 52.4039\n"
     ]
    }
   ],
   "source": [
    "model = create_model()\n",
    "\n",
    "lr_scheduler = tf.keras.callbacks.LearningRateScheduler( \n",
    "                                        lambda epoch: 1e-8 * 10**(epoch/20))\n",
    "\n",
    "optimizer = tf.keras.optimizers.SGD(learning_rate=1e-8, momentum=0.9)\n",
    "\n",
    "model.compile(loss=tf.keras.losses.Huber(), optimizer=optimizer, metrics=['mae'])\n",
    "\n",
    "history = model.fit(train_ds, epochs=100, callbacks=[lr_scheduler])"
   ]
  },
  {
   "cell_type": "markdown",
   "metadata": {},
   "source": [
    "- loss 시각화"
   ]
  },
  {
   "cell_type": "code",
   "execution_count": 9,
   "metadata": {},
   "outputs": [
    {
     "data": {
      "text/plain": [
       "[<matplotlib.lines.Line2D at 0x205ba134730>]"
      ]
     },
     "execution_count": 9,
     "metadata": {},
     "output_type": "execute_result"
    },
    {
     "data": {
      "image/png": "[encoded data removed]",
      "text/plain": [
       "<Figure size 432x288 with 1 Axes>"
      ]
     },
     "metadata": {
      "needs_background": "light"
     },
     "output_type": "display_data"
    }
   ],
   "source": [
    "plt.plot(history.history['loss'])"
   ]
  },
  {
   "cell_type": "markdown",
   "metadata": {},
   "source": [
    "### learning rate에 따른 loss 시각화 \n",
    "\n",
    "x 축에 learning rate (`history.history['lr']`), y축에 `loss` 를 시각화  \n",
    "\n",
    "plt.axis(xmin, xmax, ymin, ymax)"
   ]
  },
  {
   "cell_type": "code",
   "execution_count": 10,
   "metadata": {
    "scrolled": true
   },
   "outputs": [
    {
     "data": {
      "text/plain": [
       "(1e-07, 0.0001, 20.0, 70.0)"
      ]
     },
     "execution_count": 10,
     "metadata": {},
     "output_type": "execute_result"
    },
    {
     "data": {
      "image/png": "[encoded data removed]",
      "text/plain": [
       "<Figure size 432x288 with 1 Axes>"
      ]
     },
     "metadata": {
      "needs_background": "light"
     },
     "output_type": "display_data"
    }
   ],
   "source": [
    "plt.semilogx(history.history['lr'], history.history['loss'])\n",
    "\n",
    "plt.axis([1e-7, 1e-4, 20, 70])"
   ]
  },
  {
   "cell_type": "code",
   "execution_count": 14,
   "metadata": {},
   "outputs": [
    {
     "data": {
      "text/plain": [
       "array([4.466836e-06], dtype=float32)"
      ]
     },
     "execution_count": 14,
     "metadata": {},
     "output_type": "execute_result"
    }
   ],
   "source": [
    "idx = list(np.array(history.history[\"loss\"]) == np.min(history.history[\"loss\"]))\n",
    "\n",
    "best_lr = np.array(history.history['lr'])[idx]\n",
    "best_lr"
   ]
  },
  {
   "cell_type": "markdown",
   "metadata": {},
   "source": [
    "### model re-train\n",
    "\n",
    "최적의 learning rate를 이용하여 model retrain"
   ]
  },
  {
   "cell_type": "code",
   "execution_count": 15,
   "metadata": {
    "scrolled": true
   },
   "outputs": [
    {
     "name": "stdout",
     "output_type": "stream",
     "text": [
      "Epoch 1/100\n",
      "27/27 [==============================] - 6s 14ms/step - loss: 70.2140 - mae: 70.7125\n",
      "Epoch 2/100\n",
      "27/27 [==============================] - 0s 13ms/step - loss: 52.2757 - mae: 52.7729\n",
      "Epoch 3/100\n",
      "27/27 [==============================] - 0s 13ms/step - loss: 48.6078 - mae: 49.1066\n",
      "Epoch 4/100\n",
      "27/27 [==============================] - 0s 13ms/step - loss: 45.0567 - mae: 45.5549\n",
      "Epoch 5/100\n",
      "27/27 [==============================] - 0s 13ms/step - loss: 41.4489 - mae: 41.9459\n",
      "Epoch 6/100\n",
      "27/27 [==============================] - 0s 14ms/step - loss: 38.2791 - mae: 38.7766\n",
      "Epoch 7/100\n",
      "27/27 [==============================] - 0s 13ms/step - loss: 35.8207 - mae: 36.3189\n",
      "Epoch 8/100\n",
      "27/27 [==============================] - 0s 13ms/step - loss: 34.2028 - mae: 34.7006\n",
      "Epoch 9/100\n",
      "27/27 [==============================] - 0s 14ms/step - loss: 32.6063 - mae: 33.1051\n",
      "Epoch 10/100\n",
      "27/27 [==============================] - 0s 13ms/step - loss: 31.6322 - mae: 32.1291\n",
      "Epoch 11/100\n",
      "27/27 [==============================] - 0s 13ms/step - loss: 29.9418 - mae: 30.4388\n",
      "Epoch 12/100\n",
      "27/27 [==============================] - 0s 13ms/step - loss: 28.9349 - mae: 29.4289\n",
      "Epoch 13/100\n",
      "27/27 [==============================] - 0s 13ms/step - loss: 27.3343 - mae: 27.8293\n",
      "Epoch 14/100\n",
      "27/27 [==============================] - 0s 14ms/step - loss: 27.5985 - mae: 28.0943\n",
      "Epoch 15/100\n",
      "27/27 [==============================] - 0s 13ms/step - loss: 26.6095 - mae: 27.1009\n",
      "Epoch 16/100\n",
      "27/27 [==============================] - 0s 13ms/step - loss: 25.9586 - mae: 26.4534\n",
      "Epoch 17/100\n",
      "27/27 [==============================] - 0s 14ms/step - loss: 26.3517 - mae: 26.8459\n",
      "Epoch 18/100\n",
      "27/27 [==============================] - 0s 13ms/step - loss: 23.6499 - mae: 24.1442\n",
      "Epoch 19/100\n",
      "27/27 [==============================] - 0s 13ms/step - loss: 23.5750 - mae: 24.0709\n",
      "Epoch 20/100\n",
      "27/27 [==============================] - 0s 13ms/step - loss: 26.7629 - mae: 27.2605\n",
      "Epoch 21/100\n",
      "27/27 [==============================] - 0s 14ms/step - loss: 23.0848 - mae: 23.5816\n",
      "Epoch 22/100\n",
      "27/27 [==============================] - 0s 13ms/step - loss: 24.6072 - mae: 25.1034\n",
      "Epoch 23/100\n",
      "27/27 [==============================] - 0s 13ms/step - loss: 23.4541 - mae: 23.9494\n",
      "Epoch 24/100\n",
      "27/27 [==============================] - 0s 13ms/step - loss: 22.2046 - mae: 22.7014\n",
      "Epoch 25/100\n",
      "27/27 [==============================] - 0s 14ms/step - loss: 23.5618 - mae: 24.0593\n",
      "Epoch 26/100\n",
      "27/27 [==============================] - 0s 14ms/step - loss: 22.3399 - mae: 22.8312\n",
      "Epoch 27/100\n",
      "27/27 [==============================] - 0s 13ms/step - loss: 28.8803 - mae: 29.3744\n",
      "Epoch 28/100\n",
      "27/27 [==============================] - 0s 13ms/step - loss: 27.1101 - mae: 27.6042\n",
      "Epoch 29/100\n",
      "27/27 [==============================] - 0s 13ms/step - loss: 23.5464 - mae: 24.0429\n",
      "Epoch 30/100\n",
      "27/27 [==============================] - 0s 13ms/step - loss: 25.6022 - mae: 26.0948\n",
      "Epoch 31/100\n",
      "27/27 [==============================] - 0s 13ms/step - loss: 22.8488 - mae: 23.3453\n",
      "Epoch 32/100\n",
      "27/27 [==============================] - 0s 13ms/step - loss: 24.7217 - mae: 25.2147\n",
      "Epoch 33/100\n",
      "27/27 [==============================] - 0s 14ms/step - loss: 23.9785 - mae: 24.4730\n",
      "Epoch 34/100\n",
      "27/27 [==============================] - 0s 14ms/step - loss: 22.1447 - mae: 22.6388\n",
      "Epoch 35/100\n",
      "27/27 [==============================] - 0s 14ms/step - loss: 22.7286 - mae: 23.2196\n",
      "Epoch 36/100\n",
      "27/27 [==============================] - 0s 14ms/step - loss: 22.1491 - mae: 22.6405\n",
      "Epoch 37/100\n",
      "27/27 [==============================] - 0s 14ms/step - loss: 22.7251 - mae: 23.2181\n",
      "Epoch 38/100\n",
      "27/27 [==============================] - 0s 14ms/step - loss: 23.8969 - mae: 24.3912\n",
      "Epoch 39/100\n",
      "27/27 [==============================] - 0s 14ms/step - loss: 23.0441 - mae: 23.5364\n",
      "Epoch 40/100\n",
      "27/27 [==============================] - 0s 15ms/step - loss: 21.9730 - mae: 22.4668\n",
      "Epoch 41/100\n",
      "27/27 [==============================] - 0s 14ms/step - loss: 21.4780 - mae: 21.9733\n",
      "Epoch 42/100\n",
      "27/27 [==============================] - 0s 14ms/step - loss: 21.1912 - mae: 21.6871\n",
      "Epoch 43/100\n",
      "27/27 [==============================] - 0s 14ms/step - loss: 20.6818 - mae: 21.1720\n",
      "Epoch 44/100\n",
      "27/27 [==============================] - 0s 14ms/step - loss: 22.2755 - mae: 22.7700\n",
      "Epoch 45/100\n",
      "27/27 [==============================] - 0s 14ms/step - loss: 22.9296 - mae: 23.4228\n",
      "Epoch 46/100\n",
      "27/27 [==============================] - 0s 14ms/step - loss: 22.8031 - mae: 23.2960\n",
      "Epoch 47/100\n",
      "27/27 [==============================] - 0s 14ms/step - loss: 21.2545 - mae: 21.7450\n",
      "Epoch 48/100\n",
      "27/27 [==============================] - 0s 14ms/step - loss: 21.7109 - mae: 22.2061\n",
      "Epoch 49/100\n",
      "27/27 [==============================] - 0s 14ms/step - loss: 24.9406 - mae: 25.4308\n",
      "Epoch 50/100\n",
      "27/27 [==============================] - 0s 14ms/step - loss: 26.7432 - mae: 27.2381\n",
      "Epoch 51/100\n",
      "27/27 [==============================] - 0s 14ms/step - loss: 22.3657 - mae: 22.8623\n",
      "Epoch 52/100\n",
      "27/27 [==============================] - 0s 14ms/step - loss: 20.9607 - mae: 21.4568\n",
      "Epoch 53/100\n",
      "27/27 [==============================] - 0s 14ms/step - loss: 21.5696 - mae: 22.0633\n",
      "Epoch 54/100\n",
      "27/27 [==============================] - 0s 14ms/step - loss: 21.8022 - mae: 22.2958\n",
      "Epoch 55/100\n",
      "27/27 [==============================] - 0s 14ms/step - loss: 20.9117 - mae: 21.4076\n",
      "Epoch 56/100\n",
      "27/27 [==============================] - 0s 14ms/step - loss: 20.6170 - mae: 21.1115\n",
      "Epoch 57/100\n",
      "27/27 [==============================] - 0s 14ms/step - loss: 20.7781 - mae: 21.2703\n",
      "Epoch 58/100\n",
      "27/27 [==============================] - 0s 14ms/step - loss: 20.7625 - mae: 21.2529\n",
      "Epoch 59/100\n",
      "27/27 [==============================] - 0s 14ms/step - loss: 20.0389 - mae: 20.5297\n",
      "Epoch 60/100\n",
      "27/27 [==============================] - 0s 14ms/step - loss: 21.8247 - mae: 22.3191\n",
      "Epoch 61/100\n",
      "27/27 [==============================] - 0s 13ms/step - loss: 20.2715 - mae: 20.7623\n",
      "Epoch 62/100\n",
      "27/27 [==============================] - 0s 14ms/step - loss: 20.2439 - mae: 20.7412\n",
      "Epoch 63/100\n",
      "27/27 [==============================] - 0s 14ms/step - loss: 20.5088 - mae: 21.0051\n",
      "Epoch 64/100\n",
      "27/27 [==============================] - 0s 14ms/step - loss: 20.0700 - mae: 20.5656\n",
      "Epoch 65/100\n",
      "27/27 [==============================] - 0s 14ms/step - loss: 19.7308 - mae: 20.2226\n",
      "Epoch 66/100\n",
      "27/27 [==============================] - 0s 14ms/step - loss: 20.4078 - mae: 20.9027\n",
      "Epoch 67/100\n",
      "27/27 [==============================] - 0s 14ms/step - loss: 20.1596 - mae: 20.6516\n",
      "Epoch 68/100\n",
      "27/27 [==============================] - 0s 14ms/step - loss: 23.0588 - mae: 23.5528\n",
      "Epoch 69/100\n",
      "27/27 [==============================] - 0s 14ms/step - loss: 20.4485 - mae: 20.9428\n",
      "Epoch 70/100\n",
      "27/27 [==============================] - 0s 14ms/step - loss: 20.0154 - mae: 20.5053\n",
      "Epoch 71/100\n",
      "27/27 [==============================] - 0s 15ms/step - loss: 20.7720 - mae: 21.2636\n",
      "Epoch 72/100\n",
      "27/27 [==============================] - 0s 15ms/step - loss: 20.0558 - mae: 20.5505\n",
      "Epoch 73/100\n",
      "27/27 [==============================] - 0s 15ms/step - loss: 20.7753 - mae: 21.2692\n",
      "Epoch 74/100\n",
      "27/27 [==============================] - 1s 17ms/step - loss: 20.7562 - mae: 21.2458\n",
      "Epoch 75/100\n",
      "27/27 [==============================] - 0s 15ms/step - loss: 20.8928 - mae: 21.3852\n",
      "Epoch 76/100\n",
      "27/27 [==============================] - 0s 15ms/step - loss: 20.2458 - mae: 20.7400\n",
      "Epoch 77/100\n",
      "27/27 [==============================] - 0s 15ms/step - loss: 19.8393 - mae: 20.3308\n",
      "Epoch 78/100\n",
      "27/27 [==============================] - 0s 15ms/step - loss: 19.1428 - mae: 19.6358\n",
      "Epoch 79/100\n",
      "27/27 [==============================] - 0s 16ms/step - loss: 20.0102 - mae: 20.5006\n",
      "Epoch 80/100\n",
      "27/27 [==============================] - 0s 15ms/step - loss: 20.0813 - mae: 20.5697\n",
      "Epoch 81/100\n",
      "27/27 [==============================] - 0s 14ms/step - loss: 20.8547 - mae: 21.3465\n",
      "Epoch 82/100\n",
      "27/27 [==============================] - 0s 14ms/step - loss: 20.2361 - mae: 20.7293\n",
      "Epoch 83/100\n",
      "27/27 [==============================] - 0s 14ms/step - loss: 19.0142 - mae: 19.5060\n",
      "Epoch 84/100\n"
     ]
    },
    {
     "name": "stdout",
     "output_type": "stream",
     "text": [
      "27/27 [==============================] - 0s 14ms/step - loss: 19.7033 - mae: 20.1932\n",
      "Epoch 85/100\n",
      "27/27 [==============================] - 0s 14ms/step - loss: 20.3410 - mae: 20.8323\n",
      "Epoch 86/100\n",
      "27/27 [==============================] - 0s 14ms/step - loss: 21.3770 - mae: 21.8694\n",
      "Epoch 87/100\n",
      "27/27 [==============================] - 0s 14ms/step - loss: 21.6800 - mae: 22.1732\n",
      "Epoch 88/100\n",
      "27/27 [==============================] - 1s 17ms/step - loss: 21.1440 - mae: 21.6389\n",
      "Epoch 89/100\n",
      "27/27 [==============================] - 0s 15ms/step - loss: 21.0253 - mae: 21.5188\n",
      "Epoch 90/100\n",
      "27/27 [==============================] - 0s 16ms/step - loss: 19.7610 - mae: 20.2543\n",
      "Epoch 91/100\n",
      "27/27 [==============================] - 0s 15ms/step - loss: 20.3723 - mae: 20.8631\n",
      "Epoch 92/100\n",
      "27/27 [==============================] - 0s 14ms/step - loss: 20.0960 - mae: 20.5917\n",
      "Epoch 93/100\n",
      "27/27 [==============================] - 0s 15ms/step - loss: 19.2430 - mae: 19.7387\n",
      "Epoch 94/100\n",
      "27/27 [==============================] - 0s 15ms/step - loss: 19.5931 - mae: 20.0791\n",
      "Epoch 95/100\n",
      "27/27 [==============================] - 0s 14ms/step - loss: 20.1174 - mae: 20.6114\n",
      "Epoch 96/100\n",
      "27/27 [==============================] - 0s 15ms/step - loss: 19.2698 - mae: 19.7633\n",
      "Epoch 97/100\n",
      "27/27 [==============================] - 0s 14ms/step - loss: 20.2630 - mae: 20.7572\n",
      "Epoch 98/100\n",
      "27/27 [==============================] - 0s 14ms/step - loss: 19.5057 - mae: 20.0002\n",
      "Epoch 99/100\n",
      "27/27 [==============================] - 0s 14ms/step - loss: 19.4770 - mae: 19.9714\n",
      "Epoch 100/100\n",
      "27/27 [==============================] - 0s 14ms/step - loss: 20.5787 - mae: 21.0750\n"
     ]
    }
   ],
   "source": [
    "model = create_model()\n",
    "\n",
    "optimizer = tf.keras.optimizers.SGD(learning_rate=best_lr[0], momentum=0.9)\n",
    "\n",
    "model.compile(loss=tf.keras.losses.Huber(), optimizer=optimizer, metrics=['mae'])\n",
    "\n",
    "history = model.fit(train_ds, epochs=100)"
   ]
  },
  {
   "cell_type": "code",
   "execution_count": 16,
   "metadata": {},
   "outputs": [
    {
     "data": {
      "text/plain": [
       "[<matplotlib.lines.Line2D at 0x205bd9e5ee0>]"
      ]
     },
     "execution_count": 16,
     "metadata": {},
     "output_type": "execute_result"
    },
    {
     "data": {
      "image/png": "[encoded data removed]",
      "text/plain": [
       "<Figure size 432x288 with 1 Axes>"
      ]
     },
     "metadata": {
      "needs_background": "light"
     },
     "output_type": "display_data"
    }
   ],
   "source": [
    "plt.plot(history.history['loss'])"
   ]
  },
  {
   "cell_type": "code",
   "execution_count": 17,
   "metadata": {},
   "outputs": [
    {
     "data": {
      "text/plain": [
       "50"
      ]
     },
     "execution_count": 17,
     "metadata": {},
     "output_type": "execute_result"
    }
   ],
   "source": [
    "forecast = []\n",
    "\n",
    "for time in range(split_time, len(time_series)):\n",
    "    prediction = model.predict(time_series[time-window_size: time].reshape(1, -1))\n",
    "    forecast.append(prediction[0][0])\n",
    "    \n",
    "len(forecast)"
   ]
  },
  {
   "cell_type": "code",
   "execution_count": 18,
   "metadata": {
    "colab": {
     "base_uri": "https://localhost:8080/",
     "height": 422
    },
    "id": "egzTJlTMxPl6",
    "outputId": "9a5b690a-0da4-4888-ca74-31a235616605"
   },
   "outputs": [
    {
     "data": {
      "image/png": "[encoded data removed]",
      "text/plain": [
       "<Figure size 1152x432 with 1 Axes>"
      ]
     },
     "metadata": {
      "needs_background": "light"
     },
     "output_type": "display_data"
    }
   ],
   "source": [
    "plt.figure(figsize=(16, 6))\n",
    "plt.plot(time_test, X_test, label='True')\n",
    "plt.plot(time_test, forecast, label='Predicted')\n",
    "plt.xticks(rotation=90)\n",
    "plt.legend()\n",
    "plt.show()"
   ]
  },
  {
   "cell_type": "code",
   "execution_count": 19,
   "metadata": {
    "colab": {
     "base_uri": "https://localhost:8080/"
    },
    "id": "XEkB12vrxPl6",
    "outputId": "95d45783-3fe9-4a75-e5c1-944a39ae41f3"
   },
   "outputs": [
    {
     "name": "stdout",
     "output_type": "stream",
     "text": [
      "672.639\n",
      "19.44327\n"
     ]
    }
   ],
   "source": [
    "print(tf.keras.metrics.mean_squared_error(X_test, forecast).numpy())\n",
    "print(tf.keras.metrics.mean_absolute_error(X_test, forecast).numpy())"
   ]
  },
  {
   "cell_type": "code",
   "execution_count": null,
   "metadata": {
    "id": "h__lasusxPl8"
   },
   "outputs": [],
   "source": []
  }
 ],
 "metadata": {
  "accelerator": "GPU",
  "colab": {
   "collapsed_sections": [],
   "name": "041_WindowedData_Model_Performance.ipynb",
   "provenance": []
  },
  "kernelspec": {
   "display_name": "Python 3",
   "language": "python",
   "name": "python3"
  },
  "language_info": {
   "codemirror_mode": {
    "name": "ipython",
    "version": 3
   },
   "file_extension": ".py",
   "mimetype": "text/x-python",
   "name": "python",
   "nbconvert_exporter": "python",
   "pygments_lexer": "ipython3",
   "version": "3.9.7"
  }
 },
 "nbformat": 4,
 "nbformat_minor": 1
}
