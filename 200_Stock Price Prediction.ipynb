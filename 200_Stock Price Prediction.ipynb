{
 "cells": [
  {
   "cell_type": "markdown",
   "id": "whole-religion",
   "metadata": {},
   "source": [
    "# LSTM을 이용한 주가 예측"
   ]
  },
  {
   "cell_type": "code",
   "execution_count": 1,
   "id": "58f47980",
   "metadata": {},
   "outputs": [],
   "source": [
    "#!pip install yfinance"
   ]
  },
  {
   "cell_type": "code",
   "execution_count": 15,
   "id": "streaming-prefix",
   "metadata": {},
   "outputs": [],
   "source": [
    "import pandas as pd\n",
    "import numpy as np\n",
    "import matplotlib.pyplot as plt\n",
    "from matplotlib.pylab import rcParams\n",
    "from sklearn.preprocessing import StandardScaler\n",
    "\n",
    "import yfinance as yf\n",
    "\n",
    "import tensorflow as tf\n",
    "from tensorflow.keras.models import Sequential\n",
    "from tensorflow.keras.layers import LSTM,Dropout,Dense"
   ]
  },
  {
   "cell_type": "markdown",
   "id": "signed-temperature",
   "metadata": {},
   "source": [
    "- Apple 주식 가격 예측"
   ]
  },
  {
   "cell_type": "code",
   "execution_count": 3,
   "id": "alert-brand",
   "metadata": {},
   "outputs": [
    {
     "data": {
      "text/html": [
       "<div>\n",
       "<style scoped>\n",
       "    .dataframe tbody tr th:only-of-type {\n",
       "        vertical-align: middle;\n",
       "    }\n",
       "\n",
       "    .dataframe tbody tr th {\n",
       "        vertical-align: top;\n",
       "    }\n",
       "\n",
       "    .dataframe thead th {\n",
       "        text-align: right;\n",
       "    }\n",
       "</style>\n",
       "<table border=\"1\" class=\"dataframe\">\n",
       "  <thead>\n",
       "    <tr style=\"text-align: right;\">\n",
       "      <th></th>\n",
       "      <th>Open</th>\n",
       "      <th>High</th>\n",
       "      <th>Low</th>\n",
       "      <th>Close</th>\n",
       "      <th>Adj Close</th>\n",
       "      <th>Volume</th>\n",
       "    </tr>\n",
       "    <tr>\n",
       "      <th>Date</th>\n",
       "      <th></th>\n",
       "      <th></th>\n",
       "      <th></th>\n",
       "      <th></th>\n",
       "      <th></th>\n",
       "      <th></th>\n",
       "    </tr>\n",
       "  </thead>\n",
       "  <tbody>\n",
       "    <tr>\n",
       "      <th>2014-12-31</th>\n",
       "      <td>28.205000</td>\n",
       "      <td>28.282499</td>\n",
       "      <td>27.552500</td>\n",
       "      <td>27.594999</td>\n",
       "      <td>24.951860</td>\n",
       "      <td>165613600</td>\n",
       "    </tr>\n",
       "    <tr>\n",
       "      <th>2015-01-02</th>\n",
       "      <td>27.847500</td>\n",
       "      <td>27.860001</td>\n",
       "      <td>26.837500</td>\n",
       "      <td>27.332500</td>\n",
       "      <td>24.714506</td>\n",
       "      <td>212818400</td>\n",
       "    </tr>\n",
       "    <tr>\n",
       "      <th>2015-01-05</th>\n",
       "      <td>27.072500</td>\n",
       "      <td>27.162500</td>\n",
       "      <td>26.352501</td>\n",
       "      <td>26.562500</td>\n",
       "      <td>24.018259</td>\n",
       "      <td>257142000</td>\n",
       "    </tr>\n",
       "    <tr>\n",
       "      <th>2015-01-06</th>\n",
       "      <td>26.635000</td>\n",
       "      <td>26.857500</td>\n",
       "      <td>26.157499</td>\n",
       "      <td>26.565001</td>\n",
       "      <td>24.020521</td>\n",
       "      <td>263188400</td>\n",
       "    </tr>\n",
       "    <tr>\n",
       "      <th>2015-01-07</th>\n",
       "      <td>26.799999</td>\n",
       "      <td>27.049999</td>\n",
       "      <td>26.674999</td>\n",
       "      <td>26.937500</td>\n",
       "      <td>24.357340</td>\n",
       "      <td>160423600</td>\n",
       "    </tr>\n",
       "  </tbody>\n",
       "</table>\n",
       "</div>"
      ],
      "text/plain": [
       "                 Open       High        Low      Close  Adj Close     Volume\n",
       "Date                                                                        \n",
       "2014-12-31  28.205000  28.282499  27.552500  27.594999  24.951860  165613600\n",
       "2015-01-02  27.847500  27.860001  26.837500  27.332500  24.714506  212818400\n",
       "2015-01-05  27.072500  27.162500  26.352501  26.562500  24.018259  257142000\n",
       "2015-01-06  26.635000  26.857500  26.157499  26.565001  24.020521  263188400\n",
       "2015-01-07  26.799999  27.049999  26.674999  26.937500  24.357340  160423600"
      ]
     },
     "execution_count": 3,
     "metadata": {},
     "output_type": "execute_result"
    }
   ],
   "source": [
    "aapl = yf.download('AAPL', start='2015-01-01', end='2019-12-31', progress=False)\n",
    "aapl.head()"
   ]
  },
  {
   "cell_type": "code",
   "execution_count": 4,
   "id": "german-despite",
   "metadata": {},
   "outputs": [
    {
     "data": {
      "image/png": "[encoded data removed]",
      "text/plain": [
       "<Figure size 432x288 with 1 Axes>"
      ]
     },
     "metadata": {},
     "output_type": "display_data"
    }
   ],
   "source": [
    "import seaborn as sns\n",
    "sns.set(style='darkgrid')\n",
    "\n",
    "#Plot \"Close\"\n",
    "plt.title(\"APPLE Stock Prices\", fontsize=15)\n",
    "sns.lineplot(x=aapl.index, y='Close', data=aapl);"
   ]
  },
  {
   "cell_type": "markdown",
   "id": "thorough-collectible",
   "metadata": {},
   "source": [
    "LSTM layer로 하려고 하는 것은 지난 window-size 일(즉, t-window에서 t-1까지)의 역사적 가격을 사용하여 시간 t의 가격을 예측하는 것입니다. 정확한 가격이 아닌 추세를 파악하기 위해 노력할 것임을 명심하십시오."
   ]
  },
  {
   "cell_type": "markdown",
   "id": "european-darkness",
   "metadata": {},
   "source": [
    "- training dataset 생성"
   ]
  },
  {
   "cell_type": "code",
   "execution_count": 5,
   "id": "falling-subcommittee",
   "metadata": {},
   "outputs": [
    {
     "data": {
      "text/plain": [
       "(1258, 6)"
      ]
     },
     "execution_count": 5,
     "metadata": {},
     "output_type": "execute_result"
    }
   ],
   "source": [
    "aapl.shape"
   ]
  },
  {
   "cell_type": "code",
   "execution_count": 6,
   "id": "957ec602",
   "metadata": {},
   "outputs": [],
   "source": [
    "def series_to_supervised(series, window_size):\n",
    "    X, y = [], []\n",
    "    for i in range(len(series)-window_size):\n",
    "        seq_x = series[i:i+window_size]\n",
    "        seq_y = series[i+window_size]\n",
    "        X.append(seq_x)\n",
    "        y.append(seq_y)\n",
    "    return np.array(X), np.array(y)"
   ]
  },
  {
   "cell_type": "code",
   "execution_count": 7,
   "id": "9b4f671d",
   "metadata": {},
   "outputs": [
    {
     "name": "stdout",
     "output_type": "stream",
     "text": [
      "(1228, 30)\n",
      "(1228, 1)\n"
     ]
    }
   ],
   "source": [
    "window = 30\n",
    "close = aapl['Close']\n",
    "\n",
    "hist, target = series_to_supervised(close, window)\n",
    "target = target.reshape(-1, 1)\n",
    "\n",
    "print(hist.shape)\n",
    "print(target.shape)"
   ]
  },
  {
   "cell_type": "markdown",
   "id": "accomplished-phenomenon",
   "metadata": {},
   "source": [
    "### 지도학습 데이터 확인 방법 \n",
    "\n",
    "- \"hist\"의 각 요소는 window개 timestep의 list입니다. 1씩 증가하기 때문에 \"hist\"의 두 번째 요소의 마지막 항목은 \"target\"의 첫 번째 요소와 같아야 합니다. 또한 마지막 숫자가 같아야 합니다."
   ]
  },
  {
   "cell_type": "code",
   "execution_count": 8,
   "id": "2e5a9c2a",
   "metadata": {},
   "outputs": [
    {
     "data": {
      "text/plain": [
       "array([27.59499931, 27.33250046, 26.5625    , 26.56500053, 26.9375    ,\n",
       "       27.97249985, 28.00250053, 27.3125    , 27.55500031, 27.45000076,\n",
       "       26.70499992, 26.49749947, 27.18000031, 27.38750076, 28.10000038,\n",
       "       28.24500084, 28.27499962, 27.28499985, 28.82749939, 29.72500038,\n",
       "       29.29000092, 29.65749931, 29.66250038, 29.88999939, 29.98500061,\n",
       "       29.73250008, 29.93000031, 30.50499916, 31.21999931, 31.61499977])"
      ]
     },
     "execution_count": 8,
     "metadata": {},
     "output_type": "execute_result"
    }
   ],
   "source": [
    "hist[0]"
   ]
  },
  {
   "cell_type": "code",
   "execution_count": 9,
   "id": "d700b34e",
   "metadata": {},
   "outputs": [
    {
     "data": {
      "text/plain": [
       "array([27.33250046, 26.5625    , 26.56500053, 26.9375    , 27.97249985,\n",
       "       28.00250053, 27.3125    , 27.55500031, 27.45000076, 26.70499992,\n",
       "       26.49749947, 27.18000031, 27.38750076, 28.10000038, 28.24500084,\n",
       "       28.27499962, 27.28499985, 28.82749939, 29.72500038, 29.29000092,\n",
       "       29.65749931, 29.66250038, 29.88999939, 29.98500061, 29.73250008,\n",
       "       29.93000031, 30.50499916, 31.21999931, 31.61499977, 31.77000046])"
      ]
     },
     "execution_count": 9,
     "metadata": {},
     "output_type": "execute_result"
    }
   ],
   "source": [
    "hist[1]"
   ]
  },
  {
   "cell_type": "code",
   "execution_count": 10,
   "id": "f07ae06f",
   "metadata": {},
   "outputs": [
    {
     "data": {
      "text/plain": [
       "array([31.77000046])"
      ]
     },
     "execution_count": 10,
     "metadata": {},
     "output_type": "execute_result"
    }
   ],
   "source": [
    "target[0]"
   ]
  },
  {
   "cell_type": "code",
   "execution_count": 11,
   "id": "cognitive-shuttle",
   "metadata": {},
   "outputs": [
    {
     "data": {
      "text/plain": [
       "array([ True])"
      ]
     },
     "execution_count": 11,
     "metadata": {},
     "output_type": "execute_result"
    }
   ],
   "source": [
    "hist[1][-1] == target[0]"
   ]
  },
  {
   "cell_type": "code",
   "execution_count": 12,
   "id": "hungarian-champagne",
   "metadata": {},
   "outputs": [
    {
     "data": {
      "text/plain": [
       "1128"
      ]
     },
     "execution_count": 12,
     "metadata": {},
     "output_type": "execute_result"
    }
   ],
   "source": [
    "len(hist) - 100"
   ]
  },
  {
   "cell_type": "markdown",
   "id": "continued-alpha",
   "metadata": {},
   "source": [
    "1098일의 데이터로 모델을 학습시키고 다음 100일의 데이터로 테스트하는 방식으로 데이터를 분할합니다."
   ]
  },
  {
   "cell_type": "code",
   "execution_count": 13,
   "id": "tired-easter",
   "metadata": {},
   "outputs": [
    {
     "data": {
      "text/plain": [
       "(range(0, 1128), range(0, 100), (1128, 30), (100, 30), (1128, 1), (100, 1))"
      ]
     },
     "execution_count": 13,
     "metadata": {},
     "output_type": "execute_result"
    }
   ],
   "source": [
    "#train/test split\n",
    "split = len(hist) - 100\n",
    "time_train = range(split)\n",
    "time_test = range(100)\n",
    "\n",
    "X_train = hist[:split]\n",
    "X_test = hist[split:]\n",
    "y_train = target[:split]\n",
    "y_test = target[split:]\n",
    "\n",
    "time_train, time_test, X_train.shape, X_test.shape, y_train.shape, y_test.shape"
   ]
  },
  {
   "cell_type": "markdown",
   "id": "270fab6e",
   "metadata": {},
   "source": [
    "- Feature scaling"
   ]
  },
  {
   "cell_type": "code",
   "execution_count": 16,
   "id": "nasty-watson",
   "metadata": {},
   "outputs": [
    {
     "data": {
      "text/plain": [
       "((1128, 30), (100, 30), (1128, 1), (100, 1))"
      ]
     },
     "execution_count": 16,
     "metadata": {},
     "output_type": "execute_result"
    }
   ],
   "source": [
    "sc1 = StandardScaler()\n",
    "X_train_scaled = sc1.fit_transform(X_train)\n",
    "X_test_scaled = sc1.transform(X_test)\n",
    "\n",
    "sc2 = StandardScaler()\n",
    "y_train_scaled = sc2.fit_transform(y_train)\n",
    "y_test_scaled = sc2.transform(y_test)\n",
    "\n",
    "X_train_scaled.shape, X_test_scaled.shape, y_train_scaled.shape, y_test_scaled.shape"
   ]
  },
  {
   "cell_type": "code",
   "execution_count": 17,
   "id": "civic-bonus",
   "metadata": {},
   "outputs": [
    {
     "data": {
      "text/plain": [
       "((1128, 30, 1), (100, 30, 1))"
      ]
     },
     "execution_count": 17,
     "metadata": {},
     "output_type": "execute_result"
    }
   ],
   "source": [
    "X_train_scaled = X_train_scaled.reshape((len(X_train_scaled), window, 1))\n",
    "X_test_scaled = X_test_scaled.reshape((len(X_test_scaled), window, 1))\n",
    "\n",
    "X_train_scaled.shape, X_test_scaled.shape"
   ]
  },
  {
   "cell_type": "markdown",
   "id": "working-diana",
   "metadata": {},
   "source": [
    "- model 생성 및 fitting"
   ]
  },
  {
   "cell_type": "code",
   "execution_count": 18,
   "id": "continent-consistency",
   "metadata": {},
   "outputs": [
    {
     "name": "stdout",
     "output_type": "stream",
     "text": [
      "Model: \"sequential\"\n",
      "_________________________________________________________________\n",
      " Layer (type)                Output Shape              Param #   \n",
      "=================================================================\n",
      " lstm (LSTM)                 (None, 30, 64)            16896     \n",
      "                                                                 \n",
      " lstm_1 (LSTM)               (None, 32)                12416     \n",
      "                                                                 \n",
      " dense (Dense)               (None, 10)                330       \n",
      "                                                                 \n",
      " dense_1 (Dense)             (None, 1)                 11        \n",
      "                                                                 \n",
      "=================================================================\n",
      "Total params: 29,653\n",
      "Trainable params: 29,653\n",
      "Non-trainable params: 0\n",
      "_________________________________________________________________\n"
     ]
    }
   ],
   "source": [
    "model = tf.keras.Sequential()\n",
    "model.add(LSTM(64, input_shape=(window, 1), return_sequences=True, dropout=0.2))\n",
    "model.add(LSTM(32, dropout=0.2))\n",
    "model.add(Dense(10))\n",
    "model.add(Dense(1))\n",
    "\n",
    "model.summary()"
   ]
  },
  {
   "cell_type": "code",
   "execution_count": 19,
   "id": "generic-stress",
   "metadata": {},
   "outputs": [],
   "source": [
    "model.compile(optimizer='adam', loss='mean_squared_error')"
   ]
  },
  {
   "cell_type": "code",
   "execution_count": 20,
   "id": "taken-grave",
   "metadata": {
    "scrolled": true
   },
   "outputs": [
    {
     "name": "stdout",
     "output_type": "stream",
     "text": [
      "Epoch 1/300\n",
      "18/18 [==============================] - 2s 12ms/step - loss: 0.3755\n",
      "Epoch 2/300\n",
      "18/18 [==============================] - 0s 12ms/step - loss: 0.0683\n",
      "Epoch 3/300\n",
      "18/18 [==============================] - 0s 12ms/step - loss: 0.0440\n",
      "Epoch 4/300\n",
      "18/18 [==============================] - 0s 12ms/step - loss: 0.0390\n",
      "Epoch 5/300\n",
      "18/18 [==============================] - 0s 12ms/step - loss: 0.0385\n",
      "Epoch 6/300\n",
      "18/18 [==============================] - 0s 12ms/step - loss: 0.0366\n",
      "Epoch 7/300\n",
      "18/18 [==============================] - 0s 13ms/step - loss: 0.0360\n",
      "Epoch 8/300\n",
      "18/18 [==============================] - 0s 13ms/step - loss: 0.0411\n",
      "Epoch 9/300\n",
      "18/18 [==============================] - 0s 13ms/step - loss: 0.0372\n",
      "Epoch 10/300\n",
      "18/18 [==============================] - 0s 12ms/step - loss: 0.0381\n",
      "Epoch 11/300\n",
      "18/18 [==============================] - 0s 12ms/step - loss: 0.0368\n",
      "Epoch 12/300\n",
      "18/18 [==============================] - 0s 12ms/step - loss: 0.0342\n",
      "Epoch 13/300\n",
      "18/18 [==============================] - 0s 12ms/step - loss: 0.0360\n",
      "Epoch 14/300\n",
      "18/18 [==============================] - 0s 12ms/step - loss: 0.0355\n",
      "Epoch 15/300\n",
      "18/18 [==============================] - 0s 12ms/step - loss: 0.0360\n",
      "Epoch 16/300\n",
      "18/18 [==============================] - 0s 12ms/step - loss: 0.0353\n",
      "Epoch 17/300\n",
      "18/18 [==============================] - 0s 12ms/step - loss: 0.0311\n",
      "Epoch 18/300\n",
      "18/18 [==============================] - 0s 12ms/step - loss: 0.0350\n",
      "Epoch 19/300\n",
      "18/18 [==============================] - 0s 12ms/step - loss: 0.0326\n",
      "Epoch 20/300\n",
      "18/18 [==============================] - 0s 12ms/step - loss: 0.0328\n",
      "Epoch 21/300\n",
      "18/18 [==============================] - 0s 12ms/step - loss: 0.0344\n",
      "Epoch 22/300\n",
      "18/18 [==============================] - 0s 12ms/step - loss: 0.0319\n",
      "Epoch 23/300\n",
      "18/18 [==============================] - 0s 13ms/step - loss: 0.0352\n",
      "Epoch 24/300\n",
      "18/18 [==============================] - 0s 12ms/step - loss: 0.0327\n",
      "Epoch 25/300\n",
      "18/18 [==============================] - 0s 13ms/step - loss: 0.0315\n",
      "Epoch 26/300\n",
      "18/18 [==============================] - 0s 13ms/step - loss: 0.0308\n",
      "Epoch 27/300\n",
      "18/18 [==============================] - 0s 12ms/step - loss: 0.0298\n",
      "Epoch 28/300\n",
      "18/18 [==============================] - 0s 12ms/step - loss: 0.0285\n",
      "Epoch 29/300\n",
      "18/18 [==============================] - 0s 12ms/step - loss: 0.0319\n",
      "Epoch 30/300\n",
      "18/18 [==============================] - 0s 13ms/step - loss: 0.0346\n",
      "Epoch 31/300\n",
      "18/18 [==============================] - 0s 13ms/step - loss: 0.0305\n",
      "Epoch 32/300\n",
      "18/18 [==============================] - 0s 13ms/step - loss: 0.0312\n",
      "Epoch 33/300\n",
      "18/18 [==============================] - 0s 13ms/step - loss: 0.0300\n",
      "Epoch 34/300\n",
      "18/18 [==============================] - 0s 13ms/step - loss: 0.0272\n",
      "Epoch 35/300\n",
      "18/18 [==============================] - 0s 12ms/step - loss: 0.0269\n",
      "Epoch 36/300\n",
      "18/18 [==============================] - 0s 12ms/step - loss: 0.0308\n",
      "Epoch 37/300\n",
      "18/18 [==============================] - 0s 12ms/step - loss: 0.0268\n",
      "Epoch 38/300\n",
      "18/18 [==============================] - 0s 12ms/step - loss: 0.0256\n",
      "Epoch 39/300\n",
      "18/18 [==============================] - 0s 12ms/step - loss: 0.0243\n",
      "Epoch 40/300\n",
      "18/18 [==============================] - 0s 14ms/step - loss: 0.0237\n",
      "Epoch 41/300\n",
      "18/18 [==============================] - 0s 14ms/step - loss: 0.0248\n",
      "Epoch 42/300\n",
      "18/18 [==============================] - 0s 14ms/step - loss: 0.0249\n",
      "Epoch 43/300\n",
      "18/18 [==============================] - 0s 14ms/step - loss: 0.0214\n",
      "Epoch 44/300\n",
      "18/18 [==============================] - 0s 13ms/step - loss: 0.0235\n",
      "Epoch 45/300\n",
      "18/18 [==============================] - 0s 14ms/step - loss: 0.0218\n",
      "Epoch 46/300\n",
      "18/18 [==============================] - 0s 13ms/step - loss: 0.0214\n",
      "Epoch 47/300\n",
      "18/18 [==============================] - 0s 12ms/step - loss: 0.0219\n",
      "Epoch 48/300\n",
      "18/18 [==============================] - 0s 14ms/step - loss: 0.0201\n",
      "Epoch 49/300\n",
      "18/18 [==============================] - 0s 15ms/step - loss: 0.0186\n",
      "Epoch 50/300\n",
      "18/18 [==============================] - 0s 15ms/step - loss: 0.0213\n",
      "Epoch 51/300\n",
      "18/18 [==============================] - 0s 15ms/step - loss: 0.0191\n",
      "Epoch 52/300\n",
      "18/18 [==============================] - 0s 14ms/step - loss: 0.0180\n",
      "Epoch 53/300\n",
      "18/18 [==============================] - 0s 14ms/step - loss: 0.0177\n",
      "Epoch 54/300\n",
      "18/18 [==============================] - 0s 14ms/step - loss: 0.0177\n",
      "Epoch 55/300\n",
      "18/18 [==============================] - 0s 15ms/step - loss: 0.0169\n",
      "Epoch 56/300\n",
      "18/18 [==============================] - 0s 15ms/step - loss: 0.0166\n",
      "Epoch 57/300\n",
      "18/18 [==============================] - 0s 14ms/step - loss: 0.0169\n",
      "Epoch 58/300\n",
      "18/18 [==============================] - 0s 15ms/step - loss: 0.0170\n",
      "Epoch 59/300\n",
      "18/18 [==============================] - 0s 16ms/step - loss: 0.0172\n",
      "Epoch 60/300\n",
      "18/18 [==============================] - 0s 14ms/step - loss: 0.0169\n",
      "Epoch 61/300\n",
      "18/18 [==============================] - 0s 15ms/step - loss: 0.0179\n",
      "Epoch 62/300\n",
      "18/18 [==============================] - 0s 15ms/step - loss: 0.0156\n",
      "Epoch 63/300\n",
      "18/18 [==============================] - 0s 14ms/step - loss: 0.0158\n",
      "Epoch 64/300\n",
      "18/18 [==============================] - 0s 15ms/step - loss: 0.0152\n",
      "Epoch 65/300\n",
      "18/18 [==============================] - 0s 14ms/step - loss: 0.0153\n",
      "Epoch 66/300\n",
      "18/18 [==============================] - 0s 15ms/step - loss: 0.0146\n",
      "Epoch 67/300\n",
      "18/18 [==============================] - 0s 14ms/step - loss: 0.0154\n",
      "Epoch 68/300\n",
      "18/18 [==============================] - 0s 14ms/step - loss: 0.0168\n",
      "Epoch 69/300\n",
      "18/18 [==============================] - 0s 14ms/step - loss: 0.0138\n",
      "Epoch 70/300\n",
      "18/18 [==============================] - 0s 15ms/step - loss: 0.0146\n",
      "Epoch 71/300\n",
      "18/18 [==============================] - 0s 14ms/step - loss: 0.0145\n",
      "Epoch 72/300\n",
      "18/18 [==============================] - 0s 14ms/step - loss: 0.0144\n",
      "Epoch 73/300\n",
      "18/18 [==============================] - 0s 17ms/step - loss: 0.0140\n",
      "Epoch 74/300\n",
      "18/18 [==============================] - 0s 16ms/step - loss: 0.0144\n",
      "Epoch 75/300\n",
      "18/18 [==============================] - 0s 16ms/step - loss: 0.0141\n",
      "Epoch 76/300\n",
      "18/18 [==============================] - 0s 17ms/step - loss: 0.0125\n",
      "Epoch 77/300\n",
      "18/18 [==============================] - 0s 18ms/step - loss: 0.0136\n",
      "Epoch 78/300\n",
      "18/18 [==============================] - 0s 17ms/step - loss: 0.0140\n",
      "Epoch 79/300\n",
      "18/18 [==============================] - 0s 17ms/step - loss: 0.0137\n",
      "Epoch 80/300\n",
      "18/18 [==============================] - 0s 18ms/step - loss: 0.0127\n",
      "Epoch 81/300\n",
      "18/18 [==============================] - 0s 18ms/step - loss: 0.0126\n",
      "Epoch 82/300\n",
      "18/18 [==============================] - 0s 16ms/step - loss: 0.0133\n",
      "Epoch 83/300\n",
      "18/18 [==============================] - 0s 16ms/step - loss: 0.0114\n",
      "Epoch 84/300\n",
      "18/18 [==============================] - 0s 15ms/step - loss: 0.0131\n",
      "Epoch 85/300\n",
      "18/18 [==============================] - 0s 15ms/step - loss: 0.0126\n",
      "Epoch 86/300\n",
      "18/18 [==============================] - 0s 14ms/step - loss: 0.0130\n",
      "Epoch 87/300\n",
      "18/18 [==============================] - 0s 16ms/step - loss: 0.0130\n",
      "Epoch 88/300\n",
      "18/18 [==============================] - 0s 14ms/step - loss: 0.0126\n",
      "Epoch 89/300\n",
      "18/18 [==============================] - 0s 16ms/step - loss: 0.0127\n",
      "Epoch 90/300\n",
      "18/18 [==============================] - 0s 15ms/step - loss: 0.0120\n",
      "Epoch 91/300\n",
      "18/18 [==============================] - 0s 15ms/step - loss: 0.0126\n",
      "Epoch 92/300\n",
      "18/18 [==============================] - 0s 15ms/step - loss: 0.0117\n",
      "Epoch 93/300\n",
      "18/18 [==============================] - 0s 15ms/step - loss: 0.0113\n",
      "Epoch 94/300\n",
      "18/18 [==============================] - 0s 17ms/step - loss: 0.0109\n",
      "Epoch 95/300\n",
      "18/18 [==============================] - 0s 15ms/step - loss: 0.0116\n",
      "Epoch 96/300\n",
      "18/18 [==============================] - 0s 15ms/step - loss: 0.0122\n",
      "Epoch 97/300\n",
      "18/18 [==============================] - 0s 16ms/step - loss: 0.0113\n",
      "Epoch 98/300\n",
      "18/18 [==============================] - 0s 15ms/step - loss: 0.0119\n",
      "Epoch 99/300\n",
      "18/18 [==============================] - 0s 15ms/step - loss: 0.0112\n",
      "Epoch 100/300\n",
      "18/18 [==============================] - 0s 15ms/step - loss: 0.0114\n",
      "Epoch 101/300\n"
     ]
    },
    {
     "name": "stdout",
     "output_type": "stream",
     "text": [
      "18/18 [==============================] - 0s 15ms/step - loss: 0.0117\n",
      "Epoch 102/300\n",
      "18/18 [==============================] - 0s 15ms/step - loss: 0.0116\n",
      "Epoch 103/300\n",
      "18/18 [==============================] - 0s 15ms/step - loss: 0.0105\n",
      "Epoch 104/300\n",
      "18/18 [==============================] - 0s 15ms/step - loss: 0.0103\n",
      "Epoch 105/300\n",
      "18/18 [==============================] - 0s 16ms/step - loss: 0.0112\n",
      "Epoch 106/300\n",
      "18/18 [==============================] - 0s 16ms/step - loss: 0.0111\n",
      "Epoch 107/300\n",
      "18/18 [==============================] - 0s 16ms/step - loss: 0.0112\n",
      "Epoch 108/300\n",
      "18/18 [==============================] - 0s 15ms/step - loss: 0.0116\n",
      "Epoch 109/300\n",
      "18/18 [==============================] - 0s 15ms/step - loss: 0.0108\n",
      "Epoch 110/300\n",
      "18/18 [==============================] - 0s 17ms/step - loss: 0.0107\n",
      "Epoch 111/300\n",
      "18/18 [==============================] - 0s 16ms/step - loss: 0.0120\n",
      "Epoch 112/300\n",
      "18/18 [==============================] - 0s 15ms/step - loss: 0.0115\n",
      "Epoch 113/300\n",
      "18/18 [==============================] - 0s 15ms/step - loss: 0.0111\n",
      "Epoch 114/300\n",
      "18/18 [==============================] - 0s 15ms/step - loss: 0.0105\n",
      "Epoch 115/300\n",
      "18/18 [==============================] - 0s 17ms/step - loss: 0.0111\n",
      "Epoch 116/300\n",
      "18/18 [==============================] - 0s 15ms/step - loss: 0.0101\n",
      "Epoch 117/300\n",
      "18/18 [==============================] - 0s 17ms/step - loss: 0.0100\n",
      "Epoch 118/300\n",
      "18/18 [==============================] - 0s 15ms/step - loss: 0.0096\n",
      "Epoch 119/300\n",
      "18/18 [==============================] - 0s 15ms/step - loss: 0.0104\n",
      "Epoch 120/300\n",
      "18/18 [==============================] - 0s 15ms/step - loss: 0.0107\n",
      "Epoch 121/300\n",
      "18/18 [==============================] - 0s 16ms/step - loss: 0.0094\n",
      "Epoch 122/300\n",
      "18/18 [==============================] - 0s 15ms/step - loss: 0.0097\n",
      "Epoch 123/300\n",
      "18/18 [==============================] - 0s 15ms/step - loss: 0.0094\n",
      "Epoch 124/300\n",
      "18/18 [==============================] - 0s 15ms/step - loss: 0.0102\n",
      "Epoch 125/300\n",
      "18/18 [==============================] - 0s 16ms/step - loss: 0.0087\n",
      "Epoch 126/300\n",
      "18/18 [==============================] - 0s 15ms/step - loss: 0.0092\n",
      "Epoch 127/300\n",
      "18/18 [==============================] - 0s 16ms/step - loss: 0.0097\n",
      "Epoch 128/300\n",
      "18/18 [==============================] - 0s 15ms/step - loss: 0.0106\n",
      "Epoch 129/300\n",
      "18/18 [==============================] - 0s 16ms/step - loss: 0.0109\n",
      "Epoch 130/300\n",
      "18/18 [==============================] - 0s 15ms/step - loss: 0.0100\n",
      "Epoch 131/300\n",
      "18/18 [==============================] - 0s 15ms/step - loss: 0.0095\n",
      "Epoch 132/300\n",
      "18/18 [==============================] - 0s 15ms/step - loss: 0.0105\n",
      "Epoch 133/300\n",
      "18/18 [==============================] - 0s 15ms/step - loss: 0.0095\n",
      "Epoch 134/300\n",
      "18/18 [==============================] - 0s 15ms/step - loss: 0.0091\n",
      "Epoch 135/300\n",
      "18/18 [==============================] - 0s 16ms/step - loss: 0.0100\n",
      "Epoch 136/300\n",
      "18/18 [==============================] - 0s 15ms/step - loss: 0.0101\n",
      "Epoch 137/300\n",
      "18/18 [==============================] - 0s 14ms/step - loss: 0.0107\n",
      "Epoch 138/300\n",
      "18/18 [==============================] - 0s 14ms/step - loss: 0.0101\n",
      "Epoch 139/300\n",
      "18/18 [==============================] - 0s 15ms/step - loss: 0.0105\n",
      "Epoch 140/300\n",
      "18/18 [==============================] - 0s 14ms/step - loss: 0.0100\n",
      "Epoch 141/300\n",
      "18/18 [==============================] - 0s 15ms/step - loss: 0.0104\n",
      "Epoch 142/300\n",
      "18/18 [==============================] - 0s 15ms/step - loss: 0.0097\n",
      "Epoch 143/300\n",
      "18/18 [==============================] - 0s 15ms/step - loss: 0.0095\n",
      "Epoch 144/300\n",
      "18/18 [==============================] - 0s 15ms/step - loss: 0.0089\n",
      "Epoch 145/300\n",
      "18/18 [==============================] - 0s 15ms/step - loss: 0.0088\n",
      "Epoch 146/300\n",
      "18/18 [==============================] - 0s 14ms/step - loss: 0.0094\n",
      "Epoch 147/300\n",
      "18/18 [==============================] - 0s 14ms/step - loss: 0.0094\n",
      "Epoch 148/300\n",
      "18/18 [==============================] - 0s 16ms/step - loss: 0.0098\n",
      "Epoch 149/300\n",
      "18/18 [==============================] - 0s 14ms/step - loss: 0.0095\n",
      "Epoch 150/300\n",
      "18/18 [==============================] - 0s 15ms/step - loss: 0.0090\n",
      "Epoch 151/300\n",
      "18/18 [==============================] - 0s 14ms/step - loss: 0.0091\n",
      "Epoch 152/300\n",
      "18/18 [==============================] - 0s 16ms/step - loss: 0.0088\n",
      "Epoch 153/300\n",
      "18/18 [==============================] - 0s 16ms/step - loss: 0.0092\n",
      "Epoch 154/300\n",
      "18/18 [==============================] - 0s 15ms/step - loss: 0.0095\n",
      "Epoch 155/300\n",
      "18/18 [==============================] - 0s 14ms/step - loss: 0.0092\n",
      "Epoch 156/300\n",
      "18/18 [==============================] - 0s 14ms/step - loss: 0.0095\n",
      "Epoch 157/300\n",
      "18/18 [==============================] - 0s 14ms/step - loss: 0.0088\n",
      "Epoch 158/300\n",
      "18/18 [==============================] - 0s 15ms/step - loss: 0.0088\n",
      "Epoch 159/300\n",
      "18/18 [==============================] - 0s 14ms/step - loss: 0.0086\n",
      "Epoch 160/300\n",
      "18/18 [==============================] - 0s 14ms/step - loss: 0.0097\n",
      "Epoch 161/300\n",
      "18/18 [==============================] - 0s 14ms/step - loss: 0.0089\n",
      "Epoch 162/300\n",
      "18/18 [==============================] - 0s 15ms/step - loss: 0.0089\n",
      "Epoch 163/300\n",
      "18/18 [==============================] - 0s 14ms/step - loss: 0.0094\n",
      "Epoch 164/300\n",
      "18/18 [==============================] - 0s 14ms/step - loss: 0.0094\n",
      "Epoch 165/300\n",
      "18/18 [==============================] - 0s 14ms/step - loss: 0.0087\n",
      "Epoch 166/300\n",
      "18/18 [==============================] - 0s 14ms/step - loss: 0.0093\n",
      "Epoch 167/300\n",
      "18/18 [==============================] - 0s 14ms/step - loss: 0.0094\n",
      "Epoch 168/300\n",
      "18/18 [==============================] - 0s 15ms/step - loss: 0.0087\n",
      "Epoch 169/300\n",
      "18/18 [==============================] - 0s 16ms/step - loss: 0.0082\n",
      "Epoch 170/300\n",
      "18/18 [==============================] - 0s 15ms/step - loss: 0.0087\n",
      "Epoch 171/300\n",
      "18/18 [==============================] - 0s 16ms/step - loss: 0.0089\n",
      "Epoch 172/300\n",
      "18/18 [==============================] - 0s 15ms/step - loss: 0.0089\n",
      "Epoch 173/300\n",
      "18/18 [==============================] - 0s 15ms/step - loss: 0.0092\n",
      "Epoch 174/300\n",
      "18/18 [==============================] - 0s 17ms/step - loss: 0.0093\n",
      "Epoch 175/300\n",
      "18/18 [==============================] - 0s 17ms/step - loss: 0.0091\n",
      "Epoch 176/300\n",
      "18/18 [==============================] - 0s 16ms/step - loss: 0.0081\n",
      "Epoch 177/300\n",
      "18/18 [==============================] - 0s 16ms/step - loss: 0.0087\n",
      "Epoch 178/300\n",
      "18/18 [==============================] - 0s 15ms/step - loss: 0.0083\n",
      "Epoch 179/300\n",
      "18/18 [==============================] - 0s 16ms/step - loss: 0.0081\n",
      "Epoch 180/300\n",
      "18/18 [==============================] - 0s 17ms/step - loss: 0.0083\n",
      "Epoch 181/300\n",
      "18/18 [==============================] - 0s 15ms/step - loss: 0.0089\n",
      "Epoch 182/300\n",
      "18/18 [==============================] - 0s 15ms/step - loss: 0.0087\n",
      "Epoch 183/300\n",
      "18/18 [==============================] - 0s 15ms/step - loss: 0.0095\n",
      "Epoch 184/300\n",
      "18/18 [==============================] - 0s 15ms/step - loss: 0.0086\n",
      "Epoch 185/300\n",
      "18/18 [==============================] - 0s 15ms/step - loss: 0.0085\n",
      "Epoch 186/300\n",
      "18/18 [==============================] - 0s 15ms/step - loss: 0.0086\n",
      "Epoch 187/300\n",
      "18/18 [==============================] - 0s 16ms/step - loss: 0.0088\n",
      "Epoch 188/300\n",
      "18/18 [==============================] - 0s 15ms/step - loss: 0.0093\n",
      "Epoch 189/300\n",
      "18/18 [==============================] - 0s 15ms/step - loss: 0.0092\n",
      "Epoch 190/300\n",
      "18/18 [==============================] - 0s 15ms/step - loss: 0.0087\n",
      "Epoch 191/300\n",
      "18/18 [==============================] - 0s 15ms/step - loss: 0.0088\n",
      "Epoch 192/300\n",
      "18/18 [==============================] - 0s 16ms/step - loss: 0.0085\n",
      "Epoch 193/300\n",
      "18/18 [==============================] - 0s 15ms/step - loss: 0.0081\n",
      "Epoch 194/300\n",
      "18/18 [==============================] - 0s 16ms/step - loss: 0.0083\n",
      "Epoch 195/300\n",
      "18/18 [==============================] - 0s 16ms/step - loss: 0.0090\n",
      "Epoch 196/300\n",
      "18/18 [==============================] - 0s 15ms/step - loss: 0.0083\n",
      "Epoch 197/300\n",
      "18/18 [==============================] - 0s 16ms/step - loss: 0.0086\n",
      "Epoch 198/300\n",
      "18/18 [==============================] - 0s 15ms/step - loss: 0.0089\n",
      "Epoch 199/300\n",
      "18/18 [==============================] - 0s 15ms/step - loss: 0.0090\n",
      "Epoch 200/300\n",
      "18/18 [==============================] - 0s 16ms/step - loss: 0.0083\n",
      "Epoch 201/300\n",
      "18/18 [==============================] - 0s 15ms/step - loss: 0.0076\n",
      "Epoch 202/300\n",
      "18/18 [==============================] - 0s 15ms/step - loss: 0.0085\n",
      "Epoch 203/300\n",
      "18/18 [==============================] - 0s 15ms/step - loss: 0.0091\n",
      "Epoch 204/300\n",
      "18/18 [==============================] - 0s 16ms/step - loss: 0.0083\n",
      "Epoch 205/300\n",
      "18/18 [==============================] - 0s 15ms/step - loss: 0.0085\n",
      "Epoch 206/300\n",
      "18/18 [==============================] - 0s 16ms/step - loss: 0.0078\n",
      "Epoch 207/300\n",
      "18/18 [==============================] - 0s 15ms/step - loss: 0.0081\n",
      "Epoch 208/300\n",
      "18/18 [==============================] - 0s 15ms/step - loss: 0.0084\n",
      "Epoch 209/300\n",
      "18/18 [==============================] - 0s 15ms/step - loss: 0.0086\n",
      "Epoch 210/300\n",
      "18/18 [==============================] - 0s 15ms/step - loss: 0.0083\n",
      "Epoch 211/300\n",
      "18/18 [==============================] - 0s 15ms/step - loss: 0.0083\n",
      "Epoch 212/300\n",
      "18/18 [==============================] - 0s 15ms/step - loss: 0.0080\n",
      "Epoch 213/300\n",
      "18/18 [==============================] - 0s 15ms/step - loss: 0.0085\n",
      "Epoch 214/300\n",
      "18/18 [==============================] - 0s 16ms/step - loss: 0.0080\n",
      "Epoch 215/300\n",
      "18/18 [==============================] - 0s 15ms/step - loss: 0.0082\n",
      "Epoch 216/300\n",
      "18/18 [==============================] - 0s 15ms/step - loss: 0.0083\n",
      "Epoch 217/300\n",
      "18/18 [==============================] - 0s 15ms/step - loss: 0.0084\n",
      "Epoch 218/300\n",
      "18/18 [==============================] - 0s 15ms/step - loss: 0.0081\n",
      "Epoch 219/300\n",
      "18/18 [==============================] - 0s 15ms/step - loss: 0.0084\n",
      "Epoch 220/300\n",
      "18/18 [==============================] - 0s 15ms/step - loss: 0.0084\n",
      "Epoch 221/300\n",
      "18/18 [==============================] - 0s 15ms/step - loss: 0.0074\n",
      "Epoch 222/300\n",
      "18/18 [==============================] - 0s 15ms/step - loss: 0.0080\n",
      "Epoch 223/300\n",
      "18/18 [==============================] - 0s 15ms/step - loss: 0.0086\n",
      "Epoch 224/300\n",
      "18/18 [==============================] - 0s 15ms/step - loss: 0.0082\n",
      "Epoch 225/300\n",
      "18/18 [==============================] - 0s 14ms/step - loss: 0.0087\n",
      "Epoch 226/300\n",
      "18/18 [==============================] - 0s 15ms/step - loss: 0.0083\n",
      "Epoch 227/300\n",
      "18/18 [==============================] - 0s 15ms/step - loss: 0.0079\n",
      "Epoch 228/300\n",
      "18/18 [==============================] - 0s 15ms/step - loss: 0.0083\n",
      "Epoch 229/300\n",
      "18/18 [==============================] - 0s 14ms/step - loss: 0.0078\n",
      "Epoch 230/300\n",
      "18/18 [==============================] - 0s 15ms/step - loss: 0.0090\n",
      "Epoch 231/300\n",
      "18/18 [==============================] - 0s 15ms/step - loss: 0.0080\n",
      "Epoch 232/300\n",
      "18/18 [==============================] - 0s 15ms/step - loss: 0.0086\n",
      "Epoch 233/300\n",
      "18/18 [==============================] - 0s 15ms/step - loss: 0.0093\n",
      "Epoch 234/300\n",
      "18/18 [==============================] - 0s 15ms/step - loss: 0.0086\n",
      "Epoch 235/300\n",
      "18/18 [==============================] - 0s 15ms/step - loss: 0.0086\n",
      "Epoch 236/300\n",
      "18/18 [==============================] - 0s 15ms/step - loss: 0.0086\n",
      "Epoch 237/300\n",
      "18/18 [==============================] - 0s 14ms/step - loss: 0.0084\n",
      "Epoch 238/300\n",
      "18/18 [==============================] - 0s 14ms/step - loss: 0.0078\n",
      "Epoch 239/300\n",
      "18/18 [==============================] - 0s 15ms/step - loss: 0.0072\n",
      "Epoch 240/300\n",
      "18/18 [==============================] - 0s 15ms/step - loss: 0.0072\n",
      "Epoch 241/300\n",
      "18/18 [==============================] - 0s 15ms/step - loss: 0.0073\n",
      "Epoch 242/300\n",
      "18/18 [==============================] - 0s 15ms/step - loss: 0.0075\n",
      "Epoch 243/300\n",
      "18/18 [==============================] - 0s 15ms/step - loss: 0.0080\n",
      "Epoch 244/300\n",
      "18/18 [==============================] - 0s 15ms/step - loss: 0.0090\n",
      "Epoch 245/300\n",
      "18/18 [==============================] - 0s 14ms/step - loss: 0.0080\n",
      "Epoch 246/300\n",
      "18/18 [==============================] - 0s 15ms/step - loss: 0.0080\n",
      "Epoch 247/300\n",
      "18/18 [==============================] - 0s 15ms/step - loss: 0.0077\n",
      "Epoch 248/300\n",
      "18/18 [==============================] - 0s 15ms/step - loss: 0.0073\n",
      "Epoch 249/300\n",
      "18/18 [==============================] - 0s 15ms/step - loss: 0.0076\n",
      "Epoch 250/300\n",
      "18/18 [==============================] - 0s 15ms/step - loss: 0.0081\n",
      "Epoch 251/300\n",
      "18/18 [==============================] - 0s 14ms/step - loss: 0.0076\n",
      "Epoch 252/300\n",
      "18/18 [==============================] - 0s 15ms/step - loss: 0.0078\n",
      "Epoch 253/300\n",
      "18/18 [==============================] - 0s 14ms/step - loss: 0.0085\n",
      "Epoch 254/300\n",
      "18/18 [==============================] - 0s 15ms/step - loss: 0.0078\n",
      "Epoch 255/300\n",
      "18/18 [==============================] - 0s 15ms/step - loss: 0.0075\n",
      "Epoch 256/300\n",
      "18/18 [==============================] - 0s 15ms/step - loss: 0.0071\n",
      "Epoch 257/300\n",
      "18/18 [==============================] - 0s 15ms/step - loss: 0.0074\n",
      "Epoch 258/300\n",
      "18/18 [==============================] - 0s 15ms/step - loss: 0.0074\n",
      "Epoch 259/300\n",
      "18/18 [==============================] - 0s 15ms/step - loss: 0.0079\n",
      "Epoch 260/300\n",
      "18/18 [==============================] - 0s 15ms/step - loss: 0.0080\n",
      "Epoch 261/300\n",
      "18/18 [==============================] - 0s 15ms/step - loss: 0.0079\n",
      "Epoch 262/300\n",
      "18/18 [==============================] - 0s 15ms/step - loss: 0.0080\n",
      "Epoch 263/300\n",
      "18/18 [==============================] - 0s 15ms/step - loss: 0.0074\n",
      "Epoch 264/300\n",
      "18/18 [==============================] - 0s 14ms/step - loss: 0.0074\n",
      "Epoch 265/300\n",
      "18/18 [==============================] - 0s 15ms/step - loss: 0.0081\n",
      "Epoch 266/300\n",
      "18/18 [==============================] - 0s 15ms/step - loss: 0.0074\n",
      "Epoch 267/300\n",
      "18/18 [==============================] - 0s 15ms/step - loss: 0.0081\n",
      "Epoch 268/300\n",
      "18/18 [==============================] - 0s 15ms/step - loss: 0.0067\n",
      "Epoch 269/300\n",
      "18/18 [==============================] - 0s 15ms/step - loss: 0.0081\n",
      "Epoch 270/300\n",
      "18/18 [==============================] - 0s 15ms/step - loss: 0.0076\n",
      "Epoch 271/300\n",
      "18/18 [==============================] - 0s 15ms/step - loss: 0.0087\n",
      "Epoch 272/300\n",
      "18/18 [==============================] - 0s 15ms/step - loss: 0.0074\n",
      "Epoch 273/300\n",
      "18/18 [==============================] - 0s 15ms/step - loss: 0.0075\n",
      "Epoch 274/300\n",
      "18/18 [==============================] - 0s 15ms/step - loss: 0.0074\n",
      "Epoch 275/300\n",
      "18/18 [==============================] - 0s 15ms/step - loss: 0.0083\n",
      "Epoch 276/300\n",
      "18/18 [==============================] - 0s 15ms/step - loss: 0.0068\n",
      "Epoch 277/300\n",
      "18/18 [==============================] - 0s 14ms/step - loss: 0.0073\n",
      "Epoch 278/300\n",
      "18/18 [==============================] - 0s 15ms/step - loss: 0.0077\n",
      "Epoch 279/300\n",
      "18/18 [==============================] - 0s 15ms/step - loss: 0.0076\n",
      "Epoch 280/300\n",
      "18/18 [==============================] - 0s 15ms/step - loss: 0.0068\n",
      "Epoch 281/300\n",
      "18/18 [==============================] - 0s 15ms/step - loss: 0.0081\n",
      "Epoch 282/300\n",
      "18/18 [==============================] - 0s 15ms/step - loss: 0.0074\n",
      "Epoch 283/300\n",
      "18/18 [==============================] - 0s 15ms/step - loss: 0.0075\n",
      "Epoch 284/300\n",
      "18/18 [==============================] - 0s 15ms/step - loss: 0.0081\n",
      "Epoch 285/300\n",
      "18/18 [==============================] - 0s 15ms/step - loss: 0.0076\n",
      "Epoch 286/300\n",
      "18/18 [==============================] - 0s 15ms/step - loss: 0.0076\n",
      "Epoch 287/300\n",
      "18/18 [==============================] - 0s 15ms/step - loss: 0.0076\n",
      "Epoch 288/300\n",
      "18/18 [==============================] - 0s 15ms/step - loss: 0.0073\n",
      "Epoch 289/300\n",
      "18/18 [==============================] - 0s 15ms/step - loss: 0.0071\n",
      "Epoch 290/300\n",
      "18/18 [==============================] - 0s 14ms/step - loss: 0.0074\n",
      "Epoch 291/300\n",
      "18/18 [==============================] - 0s 15ms/step - loss: 0.0069\n",
      "Epoch 292/300\n",
      "18/18 [==============================] - 0s 15ms/step - loss: 0.0072\n",
      "Epoch 293/300\n",
      "18/18 [==============================] - 0s 15ms/step - loss: 0.0076\n",
      "Epoch 294/300\n",
      "18/18 [==============================] - 0s 15ms/step - loss: 0.0075\n",
      "Epoch 295/300\n",
      "18/18 [==============================] - 0s 15ms/step - loss: 0.0069\n",
      "Epoch 296/300\n",
      "18/18 [==============================] - 0s 15ms/step - loss: 0.0072\n",
      "Epoch 297/300\n"
     ]
    },
    {
     "name": "stdout",
     "output_type": "stream",
     "text": [
      "18/18 [==============================] - 0s 15ms/step - loss: 0.0076\n",
      "Epoch 298/300\n",
      "18/18 [==============================] - 0s 15ms/step - loss: 0.0075\n",
      "Epoch 299/300\n",
      "18/18 [==============================] - 0s 15ms/step - loss: 0.0070\n",
      "Epoch 300/300\n",
      "18/18 [==============================] - 0s 15ms/step - loss: 0.0076\n"
     ]
    }
   ],
   "source": [
    "history = model.fit(X_train_scaled, y_train_scaled, epochs=300, batch_size=64)"
   ]
  },
  {
   "cell_type": "code",
   "execution_count": 21,
   "id": "closing-specification",
   "metadata": {},
   "outputs": [
    {
     "data": {
      "image/png": "[encoded data removed]",
      "text/plain": [
       "<Figure size 432x288 with 1 Axes>"
      ]
     },
     "metadata": {},
     "output_type": "display_data"
    }
   ],
   "source": [
    "loss = history.history['loss']\n",
    "epoch_count = range(1, len(loss) + 1)\n",
    "plt.plot(epoch_count, loss, 'r--')\n",
    "plt.legend(['Training Loss'])\n",
    "plt.xlabel('Epoch')\n",
    "plt.ylabel('Loss')\n",
    "plt.show()"
   ]
  },
  {
   "cell_type": "markdown",
   "id": "ranging-incentive",
   "metadata": {},
   "source": [
    "앞으로 100일 동안의 주가 추이를 예측해 보도록 하겠습니다. 우리의 목표는 실제 가격이 아니라 추세를 예측하는 것임을 기억하십시오."
   ]
  },
  {
   "cell_type": "code",
   "execution_count": 23,
   "id": "b976de99",
   "metadata": {},
   "outputs": [],
   "source": [
    "pred = model.predict(X_test_scaled)"
   ]
  },
  {
   "cell_type": "code",
   "execution_count": 24,
   "id": "908f71ea",
   "metadata": {},
   "outputs": [],
   "source": [
    "y_true = y_test_scaled * sc2.scale_[0] + sc2.mean_[0]\n",
    "y_pred = pred * sc2.scale_[0] + sc2.mean_[0]"
   ]
  },
  {
   "cell_type": "code",
   "execution_count": 28,
   "id": "761b99f8",
   "metadata": {},
   "outputs": [
    {
     "data": {
      "image/png": "[encoded data removed]",
      "text/plain": [
       "<Figure size 576x288 with 1 Axes>"
      ]
     },
     "metadata": {},
     "output_type": "display_data"
    }
   ],
   "source": [
    "plt.figure(figsize=(8,4))\n",
    "plt.plot(np.array(time_test), y_true)\n",
    "plt.plot(np.array(time_test)[-len(pred):], y_pred)\n",
    "plt.title('Apple Stock Price Prediction')\n",
    "plt.show()"
   ]
  },
  {
   "cell_type": "markdown",
   "id": "accompanied-walker",
   "metadata": {},
   "source": [
    "## 다양한 window_size tuning 을 하여 보다 정확한 예측을 시도"
   ]
  },
  {
   "cell_type": "code",
   "execution_count": null,
   "id": "0adbb939",
   "metadata": {},
   "outputs": [],
   "source": []
  }
 ],
 "metadata": {
  "kernelspec": {
   "display_name": "Python 3",
   "language": "python",
   "name": "python3"
  },
  "language_info": {
   "codemirror_mode": {
    "name": "ipython",
    "version": 3
   },
   "file_extension": ".py",
   "mimetype": "text/x-python",
   "name": "python",
   "nbconvert_exporter": "python",
   "pygments_lexer": "ipython3",
   "version": "3.9.7"
  }
 },
 "nbformat": 4,
 "nbformat_minor": 5
}
