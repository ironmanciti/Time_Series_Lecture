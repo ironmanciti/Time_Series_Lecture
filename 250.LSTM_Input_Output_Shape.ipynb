{
 "cells": [
  {
   "cell_type": "markdown",
   "metadata": {},
   "source": [
    "# LSTM Time Series Forecasting Input / Output Shape\n",
    "\n",
    "### 1. Univariate Multi-step Input LSTM and Single-step Output\n",
    "- input feature - 1, output unit - 1\n",
    "\n",
    "### 2. Multivariate Multi-step Input LSTM and Single-step Output\n",
    "- input feature - n, output unit - 1\n",
    "\n",
    "**Multi-step == window size**"
   ]
  },
  {
   "cell_type": "code",
   "execution_count": 1,
   "metadata": {},
   "outputs": [],
   "source": [
    "import tensorflow as tf\n",
    "import numpy as np\n",
    "from tensorflow.keras.models import Sequential"
   ]
  },
  {
   "cell_type": "markdown",
   "metadata": {},
   "source": [
    "## 1. Univariate Multi-step Input and Single-step output LSTM \n",
    "\n",
    "- 단일변수 multi-timestep 입력 단일 timestep 출력  \n",
    "\n",
    "- input feature - 1, output unit - 1\n",
    "\n",
    "    ex) 과거 3 일간 종가 입력 $\\rightarrow$ 내일 주가 예상\n",
    "\n",
    "### Data preparation"
   ]
  },
  {
   "cell_type": "code",
   "execution_count": 2,
   "metadata": {},
   "outputs": [],
   "source": [
    "def windowed_ds(series, window_size, batch_size, shuffle_buffer):    \n",
    "    ds = tf.data.Dataset.from_tensor_slices(series)\n",
    "    ds = ds.window(window_size + 1, shift=1, drop_remainder=True)\n",
    "    ds = ds.flat_map(lambda window: window.batch(window_size+1))\n",
    "    ds = ds.map(lambda window: (window[:-1], window[-1]))\n",
    "    ds = ds.batch(batch_size).prefetch(1)\n",
    "    return ds"
   ]
  },
  {
   "cell_type": "code",
   "execution_count": 3,
   "metadata": {},
   "outputs": [
    {
     "data": {
      "text/plain": [
       "<PrefetchDataset shapes: ((None, None), (None,)), types: (tf.int32, tf.int32)>"
      ]
     },
     "execution_count": 3,
     "metadata": {},
     "output_type": "execute_result"
    }
   ],
   "source": [
    "raw_seq = [10, 20, 30, 40, 50, 60, 70, 80, 90]\n",
    "\n",
    "window_size = 3\n",
    "batch_size = 1\n",
    "dataset = windowed_ds(raw_seq, window_size, batch_size, 10)\n",
    "dataset"
   ]
  },
  {
   "cell_type": "code",
   "execution_count": 4,
   "metadata": {},
   "outputs": [
    {
     "name": "stdout",
     "output_type": "stream",
     "text": [
      "(1, 3) (1,)\n",
      "[[10 20 30]]\n",
      "[40]\n"
     ]
    }
   ],
   "source": [
    "for x, y in dataset:\n",
    "    print(x.numpy().shape, y.numpy().shape)\n",
    "    print(x.numpy())\n",
    "    print(y.numpy())\n",
    "    break"
   ]
  },
  {
   "cell_type": "code",
   "execution_count": 5,
   "metadata": {},
   "outputs": [],
   "source": [
    "tf.keras.backend.clear_session()\n",
    "model = Sequential([\n",
    "    tf.keras.layers.LSTM(50, activation='relu', \n",
    "                         input_shape=[window_size, 1]),\n",
    "    tf.keras.layers.Dense(1)\n",
    "])"
   ]
  },
  {
   "cell_type": "code",
   "execution_count": 6,
   "metadata": {},
   "outputs": [
    {
     "name": "stdout",
     "output_type": "stream",
     "text": [
      "(1, 3, 1) (1, 1)\n"
     ]
    }
   ],
   "source": [
    "x_input = np.array([[70, 80, 90]])\n",
    "x_input = x_input.reshape(1, -1, 1)\n",
    "yhat = model.predict(x_input[:window_size].reshape(1, window_size, 1))\n",
    "\n",
    "print(x_input.shape, yhat.shape)"
   ]
  },
  {
   "cell_type": "markdown",
   "metadata": {},
   "source": [
    "## 2. Multivariate Multi-step Input and Single-step Output LSTM \n",
    "\n",
    "- 여러개의 변수를 multi-timestep 입력 $\\rightarrow$ 단일 time-step 출력  \n",
    "\n",
    "- input feature - n, output unit - 1\n",
    "\n",
    "    ex) 주가, 환율 과거 3 일치 입력하여 다음날 주가(환율) 예측\n",
    "    ```\n",
    "    [[ 10,  15,  25],\n",
    "     [ 20,  25,  45],\n",
    "     [ 30,  35,  65]]   --> [40]   \n",
    "    ```"
   ]
  },
  {
   "cell_type": "markdown",
   "metadata": {},
   "source": [
    "- input sequence 정의"
   ]
  },
  {
   "cell_type": "code",
   "execution_count": 7,
   "metadata": {},
   "outputs": [
    {
     "data": {
      "text/plain": [
       "array([ 25,  45,  65,  85, 105, 125, 145, 165, 185])"
      ]
     },
     "execution_count": 7,
     "metadata": {},
     "output_type": "execute_result"
    }
   ],
   "source": [
    "in_seq1 = np.array([10, 20, 30, 40, 50, 60, 70, 80, 90])\n",
    "in_seq2 = np.array([15, 25, 35, 45, 55, 65, 75, 85, 95])\n",
    "\n",
    "out_seq = np.array([in_seq1[i]+in_seq2[i] for i in range(len(in_seq1))])\n",
    "out_seq"
   ]
  },
  {
   "cell_type": "markdown",
   "metadata": {},
   "source": [
    "- `[row, columns]` 구조로 변환하고 열을 수평으로 쌓습니다."
   ]
  },
  {
   "cell_type": "code",
   "execution_count": 8,
   "metadata": {},
   "outputs": [
    {
     "data": {
      "text/plain": [
       "array([[ 10,  15,  25],\n",
       "       [ 20,  25,  45],\n",
       "       [ 30,  35,  65],\n",
       "       [ 40,  45,  85],\n",
       "       [ 50,  55, 105],\n",
       "       [ 60,  65, 125],\n",
       "       [ 70,  75, 145],\n",
       "       [ 80,  85, 165],\n",
       "       [ 90,  95, 185]])"
      ]
     },
     "execution_count": 8,
     "metadata": {},
     "output_type": "execute_result"
    }
   ],
   "source": [
    "in_seq1 = in_seq1.reshape(-1, 1)\n",
    "in_seq2 = in_seq2.reshape(-1, 1)\n",
    "out_seq = out_seq.reshape(-1, 1)\n",
    "\n",
    "dataset = np.hstack((in_seq1, in_seq2, out_seq))\n",
    "dataset"
   ]
  },
  {
   "cell_type": "markdown",
   "metadata": {},
   "source": [
    "### Multiple Input Series\n",
    "\n",
    "- 두개 이상의 병렬 input series 와 그 input time series 에 종속되는 하나의 output  \n",
    "\n",
    "    ```\n",
    "     [[10 15]  \n",
    "      [20 25]  \n",
    "      [30 35]] -->  [65]\n",
    "    ```\n",
    "```\n",
    "ds.map(lambda window: (window[:window_size, 0:2], window[-1][-1]))\n",
    "```"
   ]
  },
  {
   "cell_type": "code",
   "execution_count": 9,
   "metadata": {},
   "outputs": [
    {
     "data": {
      "text/plain": [
       "<PrefetchDataset shapes: ((None, None, 2), (None,)), types: (tf.int64, tf.int64)>"
      ]
     },
     "execution_count": 9,
     "metadata": {},
     "output_type": "execute_result"
    }
   ],
   "source": [
    "window_size = 3\n",
    "batch_size = 1\n",
    "\n",
    "ds = tf.expand_dims(dataset, axis=1)\n",
    "ds = tf.data.Dataset.from_tensor_slices(dataset)\n",
    "ds = ds.window(window_size, shift=1, drop_remainder=True)\n",
    "ds = ds.flat_map(lambda window: window.batch(window_size))\n",
    "ds = ds.map(lambda window: (window[:window_size, 0:2], window[-1][-1]))\n",
    "ds = ds.batch(batch_size).prefetch(1)\n",
    "ds"
   ]
  },
  {
   "cell_type": "code",
   "execution_count": 10,
   "metadata": {},
   "outputs": [
    {
     "name": "stdout",
     "output_type": "stream",
     "text": [
      "(1, 3, 2) (1,)\n",
      "[[[10 15]\n",
      "  [20 25]\n",
      "  [30 35]]]\n",
      "[65]\n"
     ]
    }
   ],
   "source": [
    "for x, y in ds:\n",
    "    print(x.numpy().shape, y.numpy().shape)\n",
    "    print(x.numpy())\n",
    "    print(y.numpy())\n",
    "    break"
   ]
  },
  {
   "cell_type": "code",
   "execution_count": 11,
   "metadata": {},
   "outputs": [
    {
     "name": "stdout",
     "output_type": "stream",
     "text": [
      "(1, 3, 2) (1, 1)\n"
     ]
    }
   ],
   "source": [
    "tf.keras.backend.clear_session()\n",
    "model = Sequential([\n",
    "    tf.keras.layers.LSTM(50, activation='relu', input_shape=[window_size, 2]),\n",
    "    tf.keras.layers.Dense(1)\n",
    "])\n",
    "\n",
    "x_input = np.array([[80, 85], [90, 95], [100, 105]])\n",
    "x_input = x_input.reshape((1, 3, 2))\n",
    "yhat = model.predict(x_input)\n",
    "print(x_input.shape, yhat.shape)"
   ]
  },
  {
   "cell_type": "markdown",
   "metadata": {},
   "source": [
    "### Multivariate Multi-step Input and Single-step output LSTM\n",
    "\n",
    "- Multiple time series 가 병렬적으로 주어지고, prediction 이 각각에 대해 이루어짐\n",
    "\n",
    "    ex) 주가, 환율, 금리의 과거 3 일치 입력 $\\rightarrow$ 주가, 환율, 금리의 next day 동시 예측\n",
    "\n",
    "       [[ 10,  15,  25],\n",
    "        [ 20,  25,  45],\n",
    "        [ 30,  35,  65]]   --> [ 40,  45,  85],"
   ]
  },
  {
   "cell_type": "code",
   "execution_count": 12,
   "metadata": {},
   "outputs": [
    {
     "data": {
      "text/plain": [
       "<PrefetchDataset shapes: ((None, None, 3), (None, 3)), types: (tf.int64, tf.int64)>"
      ]
     },
     "execution_count": 12,
     "metadata": {},
     "output_type": "execute_result"
    }
   ],
   "source": [
    "window_size = 3\n",
    "batch_size = 1\n",
    "n_features = 3\n",
    "\n",
    "ds = tf.data.Dataset.from_tensor_slices(dataset)\n",
    "ds = ds.window(window_size+1, shift=1, drop_remainder=True)\n",
    "ds = ds.flat_map(lambda window: window.batch(window_size+1))\n",
    "ds = ds.map(lambda window: (window[:window_size], window[-1]))\n",
    "ds = ds.batch(batch_size).prefetch(1)\n",
    "ds"
   ]
  },
  {
   "cell_type": "code",
   "execution_count": 13,
   "metadata": {},
   "outputs": [
    {
     "name": "stdout",
     "output_type": "stream",
     "text": [
      "(1, 3, 3) (1, 3)\n",
      "[[[10 15 25]\n",
      "  [20 25 45]\n",
      "  [30 35 65]]]\n",
      "[[40 45 85]]\n"
     ]
    }
   ],
   "source": [
    "for x, y in ds:\n",
    "    print(x.numpy().shape, y.numpy().shape)\n",
    "    print(x.numpy())\n",
    "    print(y.numpy())\n",
    "    break"
   ]
  },
  {
   "cell_type": "code",
   "execution_count": 14,
   "metadata": {},
   "outputs": [
    {
     "name": "stdout",
     "output_type": "stream",
     "text": [
      "(1, 3, 3) (1, 3)\n"
     ]
    }
   ],
   "source": [
    "tf.keras.backend.clear_session()\n",
    "model = Sequential([\n",
    "    tf.keras.layers.LSTM(50, activation='relu',\n",
    "                         input_shape=[window_size, n_features]),\n",
    "    tf.keras.layers.Dense(n_features)\n",
    "])\n",
    "\n",
    "x_input = np.array([[70, 75, 145], [80, 85,165], [90, 95, 185]])\n",
    "x_input = x_input.reshape((1, 3, 3))\n",
    "yhat = model.predict(x_input)\n",
    "print(x_input.shape, yhat.shape)"
   ]
  },
  {
   "cell_type": "code",
   "execution_count": null,
   "metadata": {},
   "outputs": [],
   "source": []
  }
 ],
 "metadata": {
  "kernelspec": {
   "display_name": "Python 3 (ipykernel)",
   "language": "python",
   "name": "python3"
  },
  "language_info": {
   "codemirror_mode": {
    "name": "ipython",
    "version": 3
   },
   "file_extension": ".py",
   "mimetype": "text/x-python",
   "name": "python",
   "nbconvert_exporter": "python",
   "pygments_lexer": "ipython3",
   "version": "3.9.5"
  }
 },
 "nbformat": 4,
 "nbformat_minor": 2
}
