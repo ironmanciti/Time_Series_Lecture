{
 "cells": [
  {
   "cell_type": "markdown",
   "metadata": {
    "colab_type": "text",
    "id": "w_XJiOdr-MSM"
   },
   "source": [
    "# 태양 흑점 data 분석  및 ADF (Augmented Dickey–Fuller) Test"
   ]
  },
  {
   "cell_type": "markdown",
   "metadata": {},
   "source": [
    "## 태양 흑점 data 의 계절성, 자기 상관성 분석\n",
    "\n",
    "- 1749 년 부터 매월 말 흑점 갯수를 기록한 data  \n",
    "\n",
    "- pandas asfreq - TimeSeries 를 특정한 frequency 로 표시\n",
    "```\n",
    "    - Week\t'W'\tone week  - 1주일 단위 ('1W')\n",
    "    - WeekOfMonth\t'WOM'\t  \n",
    "    - MonthEnd\t'M'\tcalendar month end  - 1달 단위 ('1M')\n",
    "    - QuarterEnd\t'Q'\tcalendar quarter end  \n",
    "    - YearEnd\t'A'\tcalendar year end   \n",
    "    - Day\t'D'\tone absolute day - 1일 단위 ('1D')\n",
    "    - Hour\t'H'\tone hour -  1시간 단위 ('1H')\n",
    "    - Minute\t'T' or 'min'\tone minute - 5분 단위('5T')\n",
    "    - Second\t'S'\tone second"
   ]
  },
  {
   "cell_type": "markdown",
   "metadata": {},
   "source": [
    "# Augmented Dickey Fuller test\n",
    "\n",
    "- 육안으로 time series 의 안정성 (stationary) 여부를 판단하는 것은 어려우므로 library 사용  \n",
    "\n",
    "\n",
    "    - statsmodel 의 Time Series Analysis (tsa) library 사용  \n",
    "    - statsmodels.tsa 는 time series analysis 에 유용한 함수들 제공\n",
    "\n",
    "\n",
    "- ADF Test\n",
    "    - https://en.wikipedia.org/wiki/Augmented_Dickey%E2%80%93Fuller_test\n",
    "    \n",
    "- 반환값\n",
    "    - adf : 검정 통계량\n",
    "    - p-value : p-value 추정치\n",
    "    - critical values : 1%, 5%, 10% 수준에 해당되는 검정 통계량의 값"
   ]
  },
  {
   "cell_type": "markdown",
   "metadata": {},
   "source": [
    "- 태양 흑점 data의 정상성 check"
   ]
  },
  {
   "cell_type": "markdown",
   "metadata": {},
   "source": [
    "# Stationarity/Non-Stationarity (정상/비정상)\n",
    "\n",
    "시계열 분석에서 일반적으로 테스트되지 않은 가정은 데이터의 정상성입니다. 데이터 생성 프로세스의 매개변수가 시간이 지남에 따라 변경되지 않는 경우 데이터는 stationary입니다. 예를 들어, A와 B라는 두 개의 시리즈를 고려해 보겠습니다. Series A는 고정된 매개변수가 있는 stationary 프로세스에서 생성되고 Series B는 시간이 지남에 따라 변경되는 매개변수로 생성됩니다."
   ]
  },
  {
   "cell_type": "markdown",
   "metadata": {},
   "source": [
    "### Series A"
   ]
  },
  {
   "cell_type": "markdown",
   "metadata": {},
   "source": [
    "### 비정상성이 위험한 이유\n",
    "\n",
    "많은 통계적 테스트에서는 테스트 중인 데이터가 stationary 하다고 가정 합니다. 또한 non-stationary한 데이터 세트에 특정 통계를 순진하게 사용하면 엉터리 결과를 얻게 됩니다. 예를 들어 non-stationary $Series B$를 통해 평균을 구해 보겠습니다."
   ]
  },
  {
   "cell_type": "markdown",
   "metadata": {},
   "source": [
    "계산된 평균은 모든 데이터 포인트의 평균을 표시하지만 **미래 상태를 예측하는 데는 유용하지 않습니다.** \n",
    "서로 다른 시간의 서로 다른 상태가 뭉쳐져 있기 때문에 특정 시간과 비교할 때 의미가 없습니다. 이것은 비정상성이 분석을 망칠 수 있는 이유에 대한 간단하고 명확한 예일 뿐이며 실제로는 훨씬 더 미묘한 문제가 발생할 수 있습니다."
   ]
  },
  {
   "cell_type": "markdown",
   "metadata": {},
   "source": [
    "### Testing for Stationarity\n",
    "\n",
    "이제 통계적 테스트를 사용하여 정상성을 확인하려고 합니다.  \n",
    "\n",
    "adf - Augmented Dicky-Fuller  \n",
    "cutoff 0.05 => False Positive일 확률 5%"
   ]
  },
  {
   "cell_type": "markdown",
   "metadata": {},
   "source": [
    "조금 더 미묘한 문제를 보겠습니다.  \n",
    "다음 경우는 data generating process의 parameter가 시간 t에 dependent하므로 평균이 시간에 따라 변합니다."
   ]
  },
  {
   "cell_type": "markdown",
   "metadata": {},
   "source": [
    "평균의 주기적인 움직임은 무작위 잡음과 구별하기가 매우 어려울 것입니다. 실제로 노이즈가 있는 데이터와 제한된 샘플 크기에서는 시계열이 정상인지,  랜덤 노이즈인지 또는 추세의 일부인지 여부를 결정하기 어려울 수 있습니다. 따라서 이런 경우 adfuller Test 를 통과했다고 모두 stationary는 아닙니다.  \n",
    "\n",
    "시계열의 underlying 특성을 모를 때는 그냥 stationary로 생각하고 진행합니다."
   ]
  }
 ],
 "metadata": {
  "accelerator": "GPU",
  "colab": {
   "collapsed_sections": [],
   "name": "S+P Week 1 Lesson 2.ipynb",
   "provenance": [],
   "version": "0.3.2"
  },
  "kernelspec": {
   "display_name": "Python 3 (ipykernel)",
   "language": "python",
   "name": "python3"
  },
  "language_info": {
   "codemirror_mode": {
    "name": "ipython",
    "version": 3
   },
   "file_extension": ".py",
   "mimetype": "text/x-python",
   "name": "python",
   "nbconvert_exporter": "python",
   "pygments_lexer": "ipython3",
   "version": "3.8.12"
  }
 },
 "nbformat": 4,
 "nbformat_minor": 1
}
