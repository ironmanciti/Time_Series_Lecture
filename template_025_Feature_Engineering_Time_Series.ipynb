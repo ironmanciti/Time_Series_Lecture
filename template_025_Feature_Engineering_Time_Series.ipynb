{
 "cells": [
  {
   "cell_type": "markdown",
   "id": "decreased-delight",
   "metadata": {
    "id": "decreased-delight"
   },
   "source": [
    "# Time Series의 Feature Engineering"
   ]
  },
  {
   "attachments": {},
   "cell_type": "markdown",
   "id": "neutral-socket",
   "metadata": {
    "id": "neutral-socket"
   },
   "source": [
    "## date time feature  \n",
    "\n",
    "- 각 observation 자체의 time step 정보"
   ]
  },
  {
   "attachments": {},
   "cell_type": "markdown",
   "id": "effective-confidence",
   "metadata": {
    "id": "effective-confidence"
   },
   "source": [
    "## Lag features (지연 특성)\n",
    "\n",
    "- 이전 time step의 values"
   ]
  },
  {
   "cell_type": "markdown",
   "id": "hollow-distinction",
   "metadata": {
    "id": "hollow-distinction"
   },
   "source": [
    "## Window features\n",
    "\n",
    "### Rolling Window vs. Expanding Window\n",
    "\n",
    "rolling window에서는 창 크기가 일정하게 유지되는 반면 expanding window에서는 변경됩니다.  \n",
    "\n",
    "예) 100일 간의 데이터가 있다고 가정  \n",
    "\n",
    "rolling window : 창 크기가 10이라고 가정할 경우, 첫 번째 예측은 (이전) 10일의 데이터를 사용하여 11일의 데이터를 예측.  다음 예측의 경우 2일째(데이터 포인트)에서 11일째의 데이터를 사용.\n",
    "\n",
    "expanding window : 첫 번째 예측의 경우 10일 간의 데이터를 사용. 그러나 두 번째 예측의 경우 10 + 1일의 데이터를 사용. "
   ]
  },
  {
   "cell_type": "markdown",
   "id": "45869b27",
   "metadata": {
    "id": "45869b27"
   },
   "source": [
    "## Downsampling and Upsampling\n",
    "\n",
    "time seires data를 분석할 때 불규칙적으로 수집되는 데이터의 특성상 주기가 다소 불규칙적일 때가 많아서 주기를 일정하게 변경해야할 필요성이 있다. 불규칙 적인 time seires data를 주기가 일정하게 변경하는 방법은 upsampling, downsampling 두가지가 있다.  \n",
    "\n",
    "(1) 다운샘플링 : 데이터의 빈도를 줄이는 것   \n",
    "\n",
    "    - 원본 데이터의 시간 단위가 실용적이지 않은 경우  \n",
    "    - 특정 주기에 집중하는 경우  \n",
    "    - 더 낮은 빈도의 데이터에 맞추는 경우  \n",
    "    \n",
    "수집 된 데이터가 우리가 핸들링 하기에 적당하지 않은 경우 초 -> 분, 분 -> 시 등으로 더 높은 차원의 시간 대로 resampling 한다고 생각하면 된다. \n",
    "\n",
    "(2) 업샘플링 : 실제 데이터를 바탕으로 더 조밀한 시간의 데이터를 얻기 위해 데이터를 생성하는 것\n",
    "\n",
    "    - 시계열이 불규칙적인 상황\n",
    "    - 입력이 서로 다른 빈도로 샘플링 된 상황\n",
    "\n",
    "샘플링은 다운샘플링과 반대로 분 -> 초 , 5초 -> 1초 와 같이 더 높은 시간의 단위에서 더 조밀한 시간 데이터를 얻을 수 있다."
   ]
  },
  {
   "cell_type": "markdown",
   "id": "a766a29f",
   "metadata": {
    "id": "a766a29f"
   },
   "source": [
    "### Downsampling\n",
    "\n",
    "pd.date_range(start, end, periods, freq)  \n",
    "[frequency alias](https://pandas.pydata.org/pandas-docs/stable/user_guide/timeseries.html#offset-aliases) 참조"
   ]
  },
  {
   "cell_type": "markdown",
   "id": "c350571a",
   "metadata": {
    "id": "bRXfIl17JnBJ"
   },
   "source": [
    "### Upsampling"
   ]
  }
 ],
 "metadata": {
  "colab": {
   "name": "020. Feature_Engineering_Time_Series.ipynb",
   "provenance": []
  },
  "kernelspec": {
   "display_name": "Python 3 (ipykernel)",
   "language": "python",
   "name": "python3"
  },
  "language_info": {
   "codemirror_mode": {
    "name": "ipython",
    "version": 3
   },
   "file_extension": ".py",
   "mimetype": "text/x-python",
   "name": "python",
   "nbconvert_exporter": "python",
   "pygments_lexer": "ipython3",
   "version": "3.8.12"
  }
 },
 "nbformat": 4,
 "nbformat_minor": 5
}
