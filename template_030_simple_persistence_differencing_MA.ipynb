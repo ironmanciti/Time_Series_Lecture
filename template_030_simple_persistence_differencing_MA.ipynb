{
 "cells": [
  {
   "cell_type": "markdown",
   "metadata": {
    "colab_type": "text",
    "id": "I9x4GjlEVTQN"
   },
   "source": [
    "# Persistence algorithm 을 이용한 forecasting \n",
    "\n",
    "- Persistence Algorithm : last value 를 next value 로 예측에 사용\n",
    "\n",
    "\n",
    "- 약간의 noise 를 추가한 seasonality 와 trend 가 있는 인공 합성 time series 이용 "
   ]
  },
  {
   "cell_type": "markdown",
   "metadata": {
    "colab_type": "text",
    "id": "UfdyqJJ1VZVu"
   },
   "source": [
    "### 위에서 생성한 time series 를 train 와 validation set 으로 분할"
   ]
  },
  {
   "cell_type": "markdown",
   "metadata": {
    "colab_type": "text",
    "id": "bjD8ncEZbjEW"
   },
   "source": [
    "## Naive Forecast\n",
    "\n",
    "- last value 를 prediction 으로 사용 -> one-step behind prediction"
   ]
  },
  {
   "cell_type": "markdown",
   "metadata": {
    "colab_type": "text",
    "id": "fw1SP5WeuixH"
   },
   "source": [
    "naive forecast 가 one-step behind 인지 그래프상으로 구별 어려우므로 validation period 의 앞부분으로 zoom in."
   ]
  },
  {
   "cell_type": "markdown",
   "metadata": {
    "colab_type": "text",
    "id": "35gIlQLfu0TT"
   },
   "source": [
    "- naive forecast 가 1 step behind 지연되어 time series 를 그대로 재현하고 있음"
   ]
  },
  {
   "cell_type": "markdown",
   "metadata": {
    "colab_type": "text",
    "id": "Uh_7244Gsxfx"
   },
   "source": [
    "### naive forecast 와 validation period 값 간의 차이를  mse 와 mae 로 계산"
   ]
  },
  {
   "cell_type": "markdown",
   "metadata": {
    "colab_type": "text",
    "id": "WGPBC9QttI1u"
   },
   "source": [
    "### 위의 값을 모든 prediction model 의 최소 성능의 baseline 으로 한다. "
   ]
  },
  {
   "cell_type": "markdown",
   "metadata": {},
   "source": [
    "# Real Data를 이용한 Naive Forecasting"
   ]
  },
  {
   "cell_type": "markdown",
   "metadata": {},
   "source": [
    "`datetime.strptime` : 주어진 문자열에서 datetime 객체를 생성합니다.\n",
    "\n",
    "```\n",
    "\"Month\",\"Sales\"\n",
    "\"1-01\",266.0\n",
    "\"1-02\",145.9\n",
    "\"1-03\",183.1\n",
    "\"1-04\",119.3\n",
    "```"
   ]
  },
  {
   "cell_type": "markdown",
   "metadata": {},
   "source": [
    "### Train / Test set 분리"
   ]
  },
  {
   "cell_type": "markdown",
   "metadata": {},
   "source": [
    "### Persistence Algorithm define"
   ]
  },
  {
   "cell_type": "markdown",
   "metadata": {},
   "source": [
    "### Forecast and Evaluation"
   ]
  }
 ],
 "metadata": {
  "accelerator": "GPU",
  "colab": {
   "collapsed_sections": [],
   "name": "S+P Week 1 - Lesson 3 - Notebook.ipynb",
   "provenance": [],
   "version": "0.3.2"
  },
  "kernelspec": {
   "display_name": "Python 3 (ipykernel)",
   "language": "python",
   "name": "python3"
  },
  "language_info": {
   "codemirror_mode": {
    "name": "ipython",
    "version": 3
   },
   "file_extension": ".py",
   "mimetype": "text/x-python",
   "name": "python",
   "nbconvert_exporter": "python",
   "pygments_lexer": "ipython3",
   "version": "3.8.12"
  }
 },
 "nbformat": 4,
 "nbformat_minor": 1
}
