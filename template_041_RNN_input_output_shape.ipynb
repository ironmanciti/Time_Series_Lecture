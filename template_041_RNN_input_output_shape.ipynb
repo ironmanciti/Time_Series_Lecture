{
 "cells": [
  {
   "cell_type": "markdown",
   "metadata": {
    "id": "UFm4zEmdF3HZ"
   },
   "source": [
    "# SimpleRNN / LSTM input/output shape\n",
    "\n",
    "- return_sequences = False, True 일 때의 output 비교\n",
    "\n",
    "- Bidirectional LSTM 의 output 비교"
   ]
  },
  {
   "attachments": {},
   "cell_type": "markdown",
   "metadata": {},
   "source": [
    "## SimpleRNN\n",
    "\n",
    "## return_sequences\n",
    "\n",
    "- False (default) - last time step 의 output 만 반환\n",
    "- True - 모든 timestep 의 output 을 모두 반환  \n",
    "\n",
    "<img src=\"rnn_output2.png\" width=400 />\n",
    "<img src=\"rnn_output1.png\" width=500 />"
   ]
  },
  {
   "cell_type": "markdown",
   "metadata": {
    "id": "93BtygLbF3Hg"
   },
   "source": [
    "## LSTM\n",
    "\n",
    "## return_sequences\n",
    "\n",
    "- False (default) - last time step 의 output 만 반환\n",
    "- True - 모든 timestep 의 output 을 모두 반환"
   ]
  },
  {
   "cell_type": "markdown",
   "metadata": {
    "id": "Lzhij_1jF3Hj"
   },
   "source": [
    "## Bidirectional LSTM\n",
    "\n",
    "- 순방향, 역방향이 concatenate 된 output 출력  \n",
    "\n",
    "- hidden state, cell state 는 순방향, 역방향 별도 출력"
   ]
  },
  {
   "attachments": {},
   "cell_type": "markdown",
   "metadata": {
    "id": "4RUEZBhKIlP2"
   },
   "source": [
    "## Lambda Layer\n",
    "\n",
    "kares의 기능을 효과적으로 확장하기 위해 임의의 작업을 수행할 수 있게 해주는 레이어이며 모델 정의 자체 내에서 수행."
   ]
  }
 ],
 "metadata": {
  "colab": {
   "name": "020_LSTM+GRU+input+output+shape+return_sequences.ipynb",
   "provenance": []
  },
  "kernelspec": {
   "display_name": "Python 3 (ipykernel)",
   "language": "python",
   "name": "python3"
  },
  "language_info": {
   "codemirror_mode": {
    "name": "ipython",
    "version": 3
   },
   "file_extension": ".py",
   "mimetype": "text/x-python",
   "name": "python",
   "nbconvert_exporter": "python",
   "pygments_lexer": "ipython3",
   "version": "3.8.12"
  }
 },
 "nbformat": 4,
 "nbformat_minor": 1
}
