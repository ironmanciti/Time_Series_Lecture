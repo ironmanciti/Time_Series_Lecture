{
 "cells": [
  {
   "cell_type": "markdown",
   "metadata": {
    "id": "UQW0noetxPlq"
   },
   "source": [
    "# Time Series window data 생성 및 모델별 성능 비교\n",
    "\n",
    "1. Persistence algorithm 을 이용한 forecasting \n",
    "2. simple 1 layer NN 을 이용한 forecasting  \n",
    "3. Deep NN을  이용한 forecasting  \n",
    "4. LSTM 을  이용한 forecasting"
   ]
  },
  {
   "cell_type": "markdown",
   "metadata": {
    "id": "AAiYtx2xxPlt"
   },
   "source": [
    "## Sunspots 데이터셋을 활용하여 window_dataset 만들기"
   ]
  },
  {
   "cell_type": "markdown",
   "metadata": {
    "id": "Xzgj5nhFFPUS"
   },
   "source": [
    "- 시간 절약을 위해 최근 500 개월치 data 만 이용"
   ]
  },
  {
   "cell_type": "markdown",
   "metadata": {
    "id": "szHb65PCxPlw"
   },
   "source": [
    "## Supervised Learning dataset 작성\n",
    "\n",
    "Persistent Algorithm 과 비교하기 위해 Many-to-One style 로 예측"
   ]
  },
  {
   "cell_type": "markdown",
   "metadata": {
    "id": "snCcd5ZnxPlx"
   },
   "source": [
    "### train/validation set 분리"
   ]
  },
  {
   "cell_type": "markdown",
   "metadata": {
    "id": "b1inEBhqxPlz"
   },
   "source": [
    "## 1. Persistence algorithm 을 이용한 forecasting \n",
    "\n",
    "- Persistence Algorithm : last value 를 next value 로 예측에 사용"
   ]
  },
  {
   "cell_type": "markdown",
   "metadata": {
    "id": "bpgtR6o2xPl1"
   },
   "source": [
    "## 2. simple 1 layer NN 을 이용한 forecasting - Linear Regression"
   ]
  },
  {
   "cell_type": "markdown",
   "metadata": {},
   "source": [
    "X_test 와 prediction 을 비교해야 하므로 time_series의 window_size ~ 끝까지를 forecast 하고 X_test 와 같은 길이의 마지막 ` time_series[-len(X_test):]`를 result 로 저장"
   ]
  },
  {
   "cell_type": "markdown",
   "metadata": {
    "id": "RAm7Bf5ExPl3"
   },
   "source": [
    "## 3. Deep NN을  이용한 forecasting"
   ]
  },
  {
   "cell_type": "markdown",
   "metadata": {
    "id": "Byujsw8rxPl4"
   },
   "source": [
    "## 4. LSTM 을  이용한 forecasting\n",
    "\n",
    "- RNN 은 3 Dimension input 이 필요하므로 Lambda layer 를 이용하여 2D $\\rightarrow$ 3D expand  "
   ]
  },
  {
   "cell_type": "markdown",
   "metadata": {
    "id": "22szXeckxPl4"
   },
   "source": [
    "### 4-1. Simple LSTM"
   ]
  },
  {
   "cell_type": "markdown",
   "metadata": {
    "id": "EN-WUBYGxPl5"
   },
   "source": [
    "- 첫 번째 람다 레이어는 차원을 확장하는 데 도움이 됩니다. 여기서는 배열을 1차원 확장하고 모델이 모든 길이의 시퀀스를 사용할 수 있음을 의미하는 input_shape=[None]을 설정 합니다.\n",
    "\n",
    "- 최종 람다 계층은 출력을 100배 확장하여 훈련에 도움이 될 수 있습니다. RNN의 기본 레이어는 -1과 1 사이의 값을 출력하는 tanh입니다. 출력을 스케일링하면 이러한 값을 일반적으로 40, 50, 60 등의 값인 시계열에 더 가깝게 만들 수 있습니다."
   ]
  },
  {
   "cell_type": "markdown",
   "metadata": {
    "id": "SdzCnKHKxPl6"
   },
   "source": [
    "### 4-2. Stacked + Bidirectoinal LSTM"
   ]
  }
 ],
 "metadata": {
  "accelerator": "GPU",
  "colab": {
   "collapsed_sections": [],
   "name": "041_WindowedData_Model_Performance.ipynb",
   "provenance": []
  },
  "kernelspec": {
   "display_name": "Python 3 (ipykernel)",
   "language": "python",
   "name": "python3"
  },
  "language_info": {
   "codemirror_mode": {
    "name": "ipython",
    "version": 3
   },
   "file_extension": ".py",
   "mimetype": "text/x-python",
   "name": "python",
   "nbconvert_exporter": "python",
   "pygments_lexer": "ipython3",
   "version": "3.8.12"
  }
 },
 "nbformat": 4,
 "nbformat_minor": 1
}
