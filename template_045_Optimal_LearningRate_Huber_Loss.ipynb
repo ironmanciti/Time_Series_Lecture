{
 "cells": [
  {
   "cell_type": "markdown",
   "metadata": {
    "id": "UQW0noetxPlq"
   },
   "source": [
    "# Optimal Learning Rate 찾기 및 Huber Loss 함수 적용\n",
    "\n",
    "손실 함수는 크게 분류 및 회귀 손실의 두 가지 유형으로 분류 할 수 있습니다. Huber Loss는 회귀 손실에 속합니다. Huber 손실은 제곱 오차 손실보다 데이터의 이상 값에 덜 민감합니다. \n",
    "\n",
    "<img src=\"https://blog.kakaocdn.net/dn/081sh/btqNth1n6DL/rkSLdrV0RFuYg04k4VyeZK/img.png\" width=300/>\n",
    "\n",
    "$$L_{\\delta}(y, f(x))= \\begin{cases}\n",
    "    \\frac{1}{2}(y-f(x))^2       & \\quad \\text{ for |y-f(x)|} \\leq \\delta,\\\\\n",
    "   \\delta |y-f(x)|-\\frac{1}{2} \\delta^2  & \\quad \\text{if } n \\text{ is odd}\n",
    "  \\end{cases}$$  \n",
    "  \n",
    "- Huber function은 모든 구간에서 미분가능하고 연속  \n",
    "- $\\delta$로 경사도 조절"
   ]
  },
  {
   "cell_type": "markdown",
   "metadata": {
    "id": "AAiYtx2xxPlt"
   },
   "source": [
    "### Sunspots 데이터셋을 활용하여 window_dataset 만들기"
   ]
  },
  {
   "cell_type": "markdown",
   "metadata": {
    "id": "Xzgj5nhFFPUS"
   },
   "source": [
    "- 시간 절약을 위해 최근 500 개월치 data 만 이용"
   ]
  },
  {
   "cell_type": "markdown",
   "metadata": {
    "id": "szHb65PCxPlw"
   },
   "source": [
    "## Supervised Learning dataset 작성"
   ]
  },
  {
   "cell_type": "markdown",
   "metadata": {
    "id": "snCcd5ZnxPlx"
   },
   "source": [
    "### train/validation set 분리"
   ]
  },
  {
   "cell_type": "markdown",
   "metadata": {
    "id": "SdzCnKHKxPl6"
   },
   "source": [
    "## Stacked + Bidirectoinal LSTM"
   ]
  },
  {
   "cell_type": "markdown",
   "metadata": {},
   "source": [
    "### Optimal Learning Rate 찾기\n",
    "\n",
    "- epoch이 진행되면서 Learning Rate를 증가시킴  \n",
    "\n",
    "- loss가 감소하다 증가하는 경우 learning rate를 시각화 하여 loss 증가 직전의 가장 큰 learning rate 선택  \n",
    "\n",
    "- 선택한 learning rate 로 다시 train"
   ]
  },
  {
   "cell_type": "markdown",
   "metadata": {},
   "source": [
    "- loss 시각화"
   ]
  },
  {
   "cell_type": "markdown",
   "metadata": {},
   "source": [
    "### learning rate에 따른 loss 시각화 \n",
    "\n",
    "x 축에 learning rate (`history.history['lr']`), y축에 `loss` 를 시각화  \n",
    "\n",
    "plt.axis(xmin, xmax, ymin, ymax)"
   ]
  },
  {
   "cell_type": "markdown",
   "metadata": {},
   "source": [
    "### model re-train\n",
    "\n",
    "최적의 learning rate를 이용하여 model retrain"
   ]
  }
 ],
 "metadata": {
  "accelerator": "GPU",
  "colab": {
   "collapsed_sections": [],
   "name": "041_WindowedData_Model_Performance.ipynb",
   "provenance": []
  },
  "kernelspec": {
   "display_name": "Python 3 (ipykernel)",
   "language": "python",
   "name": "python3"
  },
  "language_info": {
   "codemirror_mode": {
    "name": "ipython",
    "version": 3
   },
   "file_extension": ".py",
   "mimetype": "text/x-python",
   "name": "python",
   "nbconvert_exporter": "python",
   "pygments_lexer": "ipython3",
   "version": "3.8.12"
  }
 },
 "nbformat": 4,
 "nbformat_minor": 1
}
