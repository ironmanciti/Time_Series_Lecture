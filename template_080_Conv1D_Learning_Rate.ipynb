{
 "cells": [
  {
   "cell_type": "markdown",
   "metadata": {
    "id": "wi0uk1IbON11"
   },
   "source": [
    "# Conv1D input layer\n",
    "\n",
    "\n",
    "- Sliding Window Data 생성\n",
    "\n",
    "- Conv1D + LSTM model 작성\n",
    "\n",
    "- Learning Rate Tunning\n",
    "\n",
    "- Window Size Tuning"
   ]
  },
  {
   "cell_type": "markdown",
   "metadata": {
    "id": "qkH_Nw1Uzl_w"
   },
   "source": [
    "Data 시각화"
   ]
  },
  {
   "cell_type": "markdown",
   "metadata": {
    "id": "_IiRLWceoijy"
   },
   "source": [
    "- 시간 절약을 위해 최근 1000 개월치 data 만 이용"
   ]
  },
  {
   "cell_type": "markdown",
   "metadata": {
    "id": "YqhmySFPON18"
   },
   "source": [
    "### windowed dataset 생성"
   ]
  },
  {
   "cell_type": "markdown",
   "metadata": {
    "id": "1orX6HivRnwm"
   },
   "source": [
    "#### Forecast Helper Function\n",
    "\n",
    "- training 후 series data를 model 입력 사양에 맞추어 예측하기 위해 사용 (batch, shuffle 제외)  \n",
    "- 지도학습 label 불필요하므로 window size 에 +1 불필요"
   ]
  },
  {
   "cell_type": "markdown",
   "metadata": {
    "id": "j8MgRmLGoijz"
   },
   "source": [
    "### train/validation set 분리"
   ]
  },
  {
   "cell_type": "markdown",
   "metadata": {
    "id": "C3A43czuQCvs"
   },
   "source": [
    "## Conv1D + LSTM + Bidirectional\n",
    "\n",
    "- Causal Convolution(인과관계 컨벌루션)은 시간 t의 출력이 시간 t - 1의 입력에서만 파생되도록 합니다.\n",
    "\n",
    "- Causal padding 은 `Conv1D`에만 지원됩니다.\n",
    "\n",
    "<img src=\"https://user-images.githubusercontent.com/24662250/29258799-9b3ff514-80f7-11e7-83e4-ab701fdc2720.png\" width=500 />"
   ]
  },
  {
   "cell_type": "markdown",
   "metadata": {
    "id": "Y7Q1zQmooij1"
   },
   "source": [
    "- 초기 epoch 100 동안 learning rate를 변경해 가며 loss가  증가하지 않는 가장 큰 learning rate 를 찾아낸다."
   ]
  },
  {
   "cell_type": "markdown",
   "metadata": {
    "id": "I806teTqoij2"
   },
   "source": [
    "- 안정적 상태에서 최소 mae 를 얻은 learning rate 선택"
   ]
  },
  {
   "cell_type": "markdown",
   "metadata": {
    "id": "eUK0FO9yaXJl"
   },
   "source": [
    "### Hyper Parameter Tuning\n",
    "\n",
    "- optimal learning rate로 충분한 epoch train   \n",
    "    - optimal lr <-- best_lr  \n",
    "    - epochs <-- 500\n",
    "\n",
    "- kernel size를 3으로 조정\n",
    "\n",
    "- Lambda layer 를 `x * 200`으로 조정"
   ]
  },
  {
   "cell_type": "markdown",
   "metadata": {
    "id": "v_ev5gBUoij4"
   },
   "source": [
    "X_test data 를 이용하여 forecast"
   ]
  },
  {
   "cell_type": "markdown",
   "metadata": {
    "id": "Iokz--tZoij4"
   },
   "source": [
    "### True value와 prediction value 비교 시각화"
   ]
  },
  {
   "cell_type": "markdown",
   "metadata": {
    "id": "vnml7-WPoij4"
   },
   "source": [
    "X_test는 초반 window_size 만큼 skip 하고 시각화"
   ]
  },
  {
   "cell_type": "markdown",
   "metadata": {
    "id": "7JirmGCln4H5"
   },
   "source": [
    "## Window Size를 바꾸어 가며 Tuning\n",
    "\n",
    "11 년 주기의 noise 가 심한 data 이므로 다양한 size 의 window 를 try 하며 model tuning --> 132, 30, 64 등"
   ]
  }
 ],
 "metadata": {
  "accelerator": "GPU",
  "colab": {
   "collapsed_sections": [],
   "name": "080_Conv1D_Learning_Rate.ipynb",
   "provenance": []
  },
  "kernelspec": {
   "display_name": "Python 3 (ipykernel)",
   "language": "python",
   "name": "python3"
  },
  "language_info": {
   "codemirror_mode": {
    "name": "ipython",
    "version": 3
   },
   "file_extension": ".py",
   "mimetype": "text/x-python",
   "name": "python",
   "nbconvert_exporter": "python",
   "pygments_lexer": "ipython3",
   "version": "3.8.12"
  }
 },
 "nbformat": 4,
 "nbformat_minor": 0
}
