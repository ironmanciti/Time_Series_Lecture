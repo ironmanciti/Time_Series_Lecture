{
 "cells": [
  {
   "cell_type": "markdown",
   "metadata": {},
   "source": [
    "# LSTM Time Series Forecasting Input / Output Shape\n",
    "\n",
    "### 1. Univariate(단변수) Multi-step Input LSTM and Single-step Output\n",
    "\n",
    "### 2. Multivariate(다변수) Multi-step Input LSTM and Single-step Output\n",
    "\n",
    "**Multi-step size == window size**"
   ]
  },
  {
   "cell_type": "markdown",
   "metadata": {},
   "source": [
    "## 1. Univariate Multi-step Input and Single-step output LSTM \n",
    "\n",
    "- 단일변수 multi-timestep 입력 단일 timestep 출력  \n",
    "\n",
    "- input feature - 1, output unit - 1\n",
    "\n",
    "    ex) 과거 3 일간 종가 입력 $\\rightarrow$ 내일 주가 예상\n",
    "\n",
    "### Data preparation"
   ]
  },
  {
   "cell_type": "markdown",
   "metadata": {},
   "source": [
    "## 2. Multivariate Multi-step Input and Single-step Output LSTM \n",
    "\n",
    "- 여러개의 변수를 multi-timestep 입력 $\\rightarrow$ 단일 time-step 출력  \n",
    "\n",
    "- input feature - n, output unit - 1\n",
    "\n",
    "    ex) 주가, 환율 과거 3 일치 입력하여 다음날 주가(환율) 예측\n",
    "    ```\n",
    "    [[ 10,  15,  25],\n",
    "     [ 20,  25,  45],\n",
    "     [ 30,  35,  65]]   --> [40]   \n",
    "    ```"
   ]
  },
  {
   "cell_type": "markdown",
   "metadata": {},
   "source": [
    "- input sequence 정의"
   ]
  },
  {
   "cell_type": "markdown",
   "metadata": {},
   "source": [
    "- `[row, columns]` 구조로 변환하고 열을 수평으로 쌓습니다."
   ]
  },
  {
   "cell_type": "markdown",
   "metadata": {},
   "source": [
    "### Multiple Input Series\n",
    "\n",
    "- 두개 이상의 병렬 input series 와 그 input time series 에 종속되는 하나의 output  \n",
    "\n",
    "    ```\n",
    "     [[10 15]  \n",
    "      [20 25]  \n",
    "      [30 35]] -->  [65]\n",
    "    ```\n",
    "```\n",
    "ds.map(lambda window: (window[:window_size, 0:2], window[-1][-1]))\n",
    "```"
   ]
  },
  {
   "cell_type": "markdown",
   "metadata": {},
   "source": [
    "### Multivariate Multi-step Input and Single-step output LSTM\n",
    "\n",
    "- Multiple time series 가 병렬적으로 주어지고, prediction 이 각각에 대해 이루어짐\n",
    "\n",
    "    ex) 주가, 환율, 금리의 과거 3 일치 입력 $\\rightarrow$ 주가, 환율, 금리의 next day 동시 예측\n",
    "\n",
    "       [[ 10,  15,  25],\n",
    "        [ 20,  25,  45],\n",
    "        [ 30,  35,  65]]   --> [ 40,  45,  85],"
   ]
  }
 ],
 "metadata": {
  "kernelspec": {
   "display_name": "Python 3 (ipykernel)",
   "language": "python",
   "name": "python3"
  },
  "language_info": {
   "codemirror_mode": {
    "name": "ipython",
    "version": 3
   },
   "file_extension": ".py",
   "mimetype": "text/x-python",
   "name": "python",
   "nbconvert_exporter": "python",
   "pygments_lexer": "ipython3",
   "version": "3.8.12"
  }
 },
 "nbformat": 4,
 "nbformat_minor": 2
}
