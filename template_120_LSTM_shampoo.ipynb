{
 "cells": [
  {
   "cell_type": "markdown",
   "id": "eda47c0e",
   "metadata": {
    "id": "eda47c0e"
   },
   "source": [
    "# Time Series LSTM model \n",
    "\n",
    "- Differencing 으로 Trend 제거  \n",
    "- train / test split\n",
    "- feature scaling  \n",
    "- supervised learning dataset 생성  \n",
    "- inverse transform  \n",
    "- 예측한 difference 를 원래의 시계열로 환원  \n",
    "- 시각화"
   ]
  },
  {
   "cell_type": "markdown",
   "id": "e1153867",
   "metadata": {},
   "source": [
    "- dataset 의 Month column 을 datetime 으로 변환\n",
    "\n",
    "date_parser : 문자열 열의 시퀀스를 datetime 인스턴스의 배열로 변환하는 데 사용할 함수 지정"
   ]
  },
  {
   "cell_type": "markdown",
   "id": "c8a4143a",
   "metadata": {
    "id": "c8a4143a"
   },
   "source": [
    "- trend 를 제거하여 stationary 한 시계열 생성. model 은 difference를 학습."
   ]
  },
  {
   "cell_type": "markdown",
   "id": "fcb62bb3",
   "metadata": {},
   "source": [
    "### train/test split\n",
    "- train : 23 개월\n",
    "- test : 12 개월"
   ]
  },
  {
   "cell_type": "markdown",
   "id": "10ff2f54",
   "metadata": {},
   "source": [
    "### feature scaling"
   ]
  },
  {
   "cell_type": "markdown",
   "id": "67423a40",
   "metadata": {},
   "source": [
    "## Supervised Learning dataset 작성"
   ]
  },
  {
   "cell_type": "markdown",
   "id": "a7c08c6e",
   "metadata": {
    "id": "a7c08c6e"
   },
   "source": [
    "- model 생성"
   ]
  },
  {
   "cell_type": "markdown",
   "id": "cddccd94",
   "metadata": {},
   "source": [
    "- denormalize"
   ]
  },
  {
   "cell_type": "markdown",
   "id": "6ca7959c",
   "metadata": {},
   "source": [
    "- model 은 difference를 예측하도록 학습하였으므로, 원래의 시계열로 변환 \n",
    "- 당일 value = 전일 value + difference(y_hat) 이므로,  \n",
    "  `prediction = series[-len(yhat)-1:-1] + yhat`  \n",
    "  `true_vales = series[-len(yhat):]`"
   ]
  }
 ],
 "metadata": {
  "accelerator": "GPU",
  "colab": {
   "name": "045. LSTM shampoo.ipynb",
   "provenance": []
  },
  "kernelspec": {
   "display_name": "Python 3 (ipykernel)",
   "language": "python",
   "name": "python3"
  },
  "language_info": {
   "codemirror_mode": {
    "name": "ipython",
    "version": 3
   },
   "file_extension": ".py",
   "mimetype": "text/x-python",
   "name": "python",
   "nbconvert_exporter": "python",
   "pygments_lexer": "ipython3",
   "version": "3.8.12"
  }
 },
 "nbformat": 4,
 "nbformat_minor": 5
}
