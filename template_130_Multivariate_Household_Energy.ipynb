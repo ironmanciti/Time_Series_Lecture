{
 "cells": [
  {
   "cell_type": "markdown",
   "metadata": {
    "id": "ZEVOUj3HfoDw"
   },
   "source": [
    "# Multivariate Multistep TimeSeries 실습\n",
    "\n",
    "- 가구의 Energy 사용량 예측\n",
    "\n",
    "- Household Power Consumption Dataset 은 한 가구의 4 년간 전력소비를 나타내는 multivariate time series dataset 임\n",
    "\n",
    "- data는  분 단위 관측값으로 구성\n",
    "\n",
    "- variables :  \n",
    "\n",
    "    - global active power: 가구에서 소비한 총 유효전력 (total active power, kilowatts).\n",
    "    - global reactive power: 가구에서 소비한 총 무효전력 (total reactive power, kilowatts).\n",
    "    - voltage: 평균 voltage (volts).\n",
    "    - global intensity: 평균 전류 밀도 (amps).\n",
    "    - sub metering 1: 주방에서 사용된 active energy (watt-hours of active energy).\n",
    "    - sub metering 2: 세탁에 사용된 active energy (watt-hours of active energy).\n",
    "    - sub metering 3: 공조기 제어 시스템에 사용된 active energy (watt-hours of active energy).\n",
    "\n",
    "- 기타 다른 곳에서 시용된 active energy $\\left(\\frac{global\\_act\\_pwr  \\times  1000}{60} \\right) - \\left(sub met 1 + sub met 2 + sub met 3\\right) $ "
   ]
  },
  {
   "cell_type": "markdown",
   "metadata": {
    "id": "rJWW1Xs7foD1"
   },
   "source": [
    "## Exploratory Data Analysis(탐색적 데이터 분석)\n",
    "\n",
    "#### multivariate data 이므로 각각의 변수에 대해 line plot 을 그려 비교 (기간 : 2006 Dec 에서 2010 Nov 까지)"
   ]
  },
  {
   "cell_type": "markdown",
   "metadata": {
    "id": "ilObxpurfoD2"
   },
   "source": [
    "## 개별 변수에 대하여 분석\n",
    "\n",
    "#### Global_active_power (총 소비전력)를 연도별로 plot"
   ]
  },
  {
   "cell_type": "markdown",
   "metadata": {
    "id": "604w-5RzfoD2"
   },
   "source": [
    "#### Global_active_power 를 특정연도(2007) 의 월별로 plot"
   ]
  },
  {
   "cell_type": "markdown",
   "metadata": {
    "id": "PykjsBHDfoD3"
   },
   "source": [
    "#### Global_active_power 를 특정연도(2007) 의 특정월(January)의 일별로 plot"
   ]
  },
  {
   "cell_type": "markdown",
   "metadata": {
    "id": "gWoGNX2vfoD3"
   },
   "source": [
    "## 문제\n",
    "\n",
    "- Multivariate multi-step forecasting (다변수 다단계 예측)\n",
    "\n",
    "- next week 의 일별 전력 사용량(global active power) 예측  \n",
    "    "
   ]
  },
  {
   "cell_type": "markdown",
   "metadata": {
    "id": "7l4y1yU7foD4"
   },
   "source": [
    "- 이전 7일간의 전력 사용량으로 next week 사용량을 예측 하므로 window_size = 7 "
   ]
  },
  {
   "cell_type": "markdown",
   "metadata": {
    "id": "Oj9zCmc2USkk"
   },
   "source": [
    "## Train – Test Split\n",
    "\n",
    "2010년 이 330 record 이므로 2010년을 Test set 으로 사용하고 이전 data를 Train set 으로 분할"
   ]
  },
  {
   "cell_type": "markdown",
   "metadata": {
    "id": "Nuhby1P8USkk"
   },
   "source": [
    "## Scaling the values \n",
    "- 다변수 문제 이므로 feature value 들을 normalize"
   ]
  },
  {
   "cell_type": "markdown",
   "metadata": {
    "id": "QNAHSmLtUSkl"
   },
   "source": [
    "`d_test_scaled`의 첫번째 column (`Global_active_power`)을 y_test 로 저장"
   ]
  },
  {
   "cell_type": "markdown",
   "metadata": {
    "id": "EUeJieNEUSkm"
   },
   "source": [
    "원래 크기로 denormalize"
   ]
  }
 ],
 "metadata": {
  "accelerator": "GPU",
  "colab": {
   "name": "130_Multivariate_Household_Energy.ipynb",
   "provenance": []
  },
  "kernelspec": {
   "display_name": "Python 3 (ipykernel)",
   "language": "python",
   "name": "python3"
  },
  "language_info": {
   "codemirror_mode": {
    "name": "ipython",
    "version": 3
   },
   "file_extension": ".py",
   "mimetype": "text/x-python",
   "name": "python",
   "nbconvert_exporter": "python",
   "pygments_lexer": "ipython3",
   "version": "3.8.12"
  }
 },
 "nbformat": 4,
 "nbformat_minor": 0
}
